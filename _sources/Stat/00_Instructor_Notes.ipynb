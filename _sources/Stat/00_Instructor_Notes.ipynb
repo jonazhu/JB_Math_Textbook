{
 "cells": [
  {
   "cell_type": "markdown",
   "id": "e4ea9db9",
   "metadata": {},
   "source": [
    "# Section 0: Instructor Notes\n",
    "\n",
    "### Rough draft notes\n",
    "\n",
    "*Not all of the sections are 100% complete, but the structure and ideas we want to use are all there. We would like to fill it out a little more with some illustrations explaining P-values, a wider selection of exercises and examples, and a bit more explanation of the actual code used. We also need to finish the last section on linear regression! We can change plotting from seaborn to matplotlib if needed.*\n",
    "\n",
    "-------\n",
    "\n",
    "In this chapter we introduce some of the central ideas in statistical inference: the confidence interval, hypothesis test, and linear regression, and show how each of these can be better understood through the computational tools of Python and Jupyter notebooks.\n",
    "\n",
    "We have chosen to write the following sections as an interactive demonstration of the tools of statistical inference for students. Rather than a simple guide to the statistical inference tools in Python, we provide code and plots which show how you can illustrate the theory in your classroom and use the tools to solve relevant problems. We have strived as much as possible to come up with examples that are interesting to students and relevant to an international audience, but you might of course choose to make some changes to these to suit your own context and audience. \n",
    "\n",
    "The main Python packages that provide statistics functions are `scipy` and `statsmodels`. Unfortunately, at the time of writing there is no single package that provides all the functionality we need, so we must use a mix of these. These are loaded into the Python environment through the following commands, which appear at the top of each of the interactive notebooks."
   ]
  },
  {
   "cell_type": "code",
   "execution_count": 1,
   "id": "9c87c7fb",
   "metadata": {},
   "outputs": [
    {
     "data": {
      "text/html": [
       "        <script type=\"text/javascript\">\n",
       "        window.PlotlyConfig = {MathJaxConfig: 'local'};\n",
       "        if (window.MathJax && window.MathJax.Hub && window.MathJax.Hub.Config) {window.MathJax.Hub.Config({SVG: {font: \"STIX-Web\"}});}\n",
       "        if (typeof require !== 'undefined') {\n",
       "        require.undef(\"plotly\");\n",
       "        requirejs.config({\n",
       "            paths: {\n",
       "                'plotly': ['https://cdn.plot.ly/plotly-2.12.1.min']\n",
       "            }\n",
       "        });\n",
       "        require(['plotly'], function(Plotly) {\n",
       "            window._Plotly = Plotly;\n",
       "        });\n",
       "        }\n",
       "        </script>\n",
       "        "
      ]
     },
     "metadata": {},
     "output_type": "display_data"
    }
   ],
   "source": [
    "import scipy\n",
    "import statsmodels.api # appear to need to import the api as well as the library itself for the interpreter to find the modules\n",
    "import statsmodels as sm"
   ]
  },
  {
   "cell_type": "markdown",
   "id": "90e50fd9",
   "metadata": {},
   "source": [
    "Using `scipy`'s `stats` modules, one can access the features related to random variables and distributions, e.g., `scipy.stats.norm` for the normal distribution. From there you can randomly sample from the distribution, calculate probabilities with the `.cdf(...)` command, and even get the density function using `.pdf(...)`. Each of these are illustrated in the text. We also use `scipy.stats` for **(fill in later when finished)**.\n",
    "\n",
    "The `statsmodels` library provides a range of functionality in very high level statistics, but here we only make use of a few of its functions. **(fill in later when finished)**."
   ]
  },
  {
   "cell_type": "markdown",
   "id": "a831c823",
   "metadata": {},
   "source": [
    "For static plots, we are primarily using `seaborn` and `matplotlib`, while for interactive plots we use the `plotly` package. You can find more information on plotting and statistical graphs using Python in **(link to other section in book)**. We import those in the following way."
   ]
  },
  {
   "cell_type": "code",
   "execution_count": null,
   "id": "c7e20de2",
   "metadata": {},
   "outputs": [],
   "source": [
    "import matplotlib.pyplot as plt\n",
    "from matplotlib import ticker\n",
    "import seaborn as sns\n",
    "%matplotlib inline\n",
    "import plotly.graph_objects as go\n",
    "import plotly.offline\n",
    "plotly.offline.init_notebook_mode(connected=True)"
   ]
  },
  {
   "cell_type": "markdown",
   "id": "a3ff86d6",
   "metadata": {},
   "source": [
    "Finally, we also make use of the `numpy`, `pandas` and `math` libaries in different ways. You can find more information on these libraries in **(link to other parts of the book)**."
   ]
  },
  {
   "cell_type": "code",
   "execution_count": null,
   "id": "183bdc94",
   "metadata": {},
   "outputs": [],
   "source": [
    "# import libraries\n",
    "# Always run this cell first!\n",
    "import numpy as np\n",
    "import pandas as pd\n",
    "import math"
   ]
  }
 ],
 "metadata": {
  "kernelspec": {
   "display_name": "Python 3 (ipykernel)",
   "language": "python",
   "name": "python3"
  },
  "language_info": {
   "codemirror_mode": {
    "name": "ipython",
    "version": 3
   },
   "file_extension": ".py",
   "mimetype": "text/x-python",
   "name": "python",
   "nbconvert_exporter": "python",
   "pygments_lexer": "ipython3",
   "version": "3.10.9"
  }
 },
 "nbformat": 4,
 "nbformat_minor": 5
}
