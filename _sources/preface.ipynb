{
 "cells": [
  {
   "cell_type": "markdown",
   "id": "725c40e7",
   "metadata": {},
   "source": [
    "# README!"
   ]
  },
  {
   "cell_type": "markdown",
   "id": "064ef5a8",
   "metadata": {},
   "source": [
    "```{index} JNB \n",
    "```"
   ]
  },
  {
   "cell_type": "markdown",
   "id": "168aae11",
   "metadata": {},
   "source": [
    "\n",
    "This book is an introduction to the use of Python Jupyter Notebooks (JNBs) for college math teachers and their students. The book is an evolving work in progress, but we hope in its current form may already be quite useful to a college math teacher who is interested to use Jupyter Notebooks in their courses.  Each section of the book has been written in the form of a Jupyter Notebook and can be downloaded as such.  However, these notebooks contain special markdown code which are needed to produce features such as indexing, referencing, and highlight boxes in the Jupyter Book.  Each chapter contains a lab with solutions.  With experience, teachers can modify these labs and create new labs tailored to their courses. The chapters were written by different authors/authorship teams, and as such, vary in style. Each chapter essentially can be read independently of the others as long as one has the pre-requisite mathematical knowledge. Some effort has been made to standardize the chapter formats, and the index may help the reader find specific topics of interest.There is virtually no limit to what can be done with JNBs, and we hope this work serves as a useful starting point for teachers and students to enrich and enliven the study of mathematics using this tool. \n"
   ]
  },
  {
   "cell_type": "markdown",
   "id": "bec8d8e6",
   "metadata": {},
   "source": [
    "```{admonition} To the First-Time Jupyter Notebook (JNB) User\n",
    "\n",
    "Welcome to the wonderful world of Jupyter Notebooks (JNBs)! \n",
    "\n",
    "In this book, we will be using JNBs as type of user-friendly way to input and execute codes in the Python programming language.  JNBs also are useful to create documents which include photos, videos, slide presentations, as well as output to Python computer programs.  In fact, this entire book is written using JNBs.\n",
    "\n",
    "\n",
    "To get started, it will be very helpful if you consult with someone who is already using JNBs. If that is not possible, you will need to install Jupyter Notebooks using the free Anaconda distribution downloadable from www.anaconda.com.  If you then use the left menu bar to skip to Section 2. Beginning Python Programming in the PRE_COLLEGE chapter, that will hopefully help you install and run your first JNB. Then you can try to work through the rest of the PRE_COLLEGE chapter.  For each section in this book, you can use the download button on the top menu bar to get the JNB. In some cases, additional data files or image files may be need to be downloaded as well. All the files are available in the src folder of the github repository https://github.com/timothyprojectGiG/JB_Math_Textbook \n",
    "\n",
    "\n",
    "Wishing you all the best!\n",
    "\n",
    "P. Isihara, Wheaton IL, May 2024\n",
    "```"
   ]
  }
 ],
 "metadata": {
  "kernelspec": {
   "display_name": "Python 3",
   "language": "python",
   "name": "python3"
  },
  "language_info": {
   "codemirror_mode": {
    "name": "ipython",
    "version": 3
   },
   "file_extension": ".py",
   "mimetype": "text/x-python",
   "name": "python",
   "nbconvert_exporter": "python",
   "pygments_lexer": "ipython3",
   "version": "3.8.8"
  }
 },
 "nbformat": 4,
 "nbformat_minor": 5
}
