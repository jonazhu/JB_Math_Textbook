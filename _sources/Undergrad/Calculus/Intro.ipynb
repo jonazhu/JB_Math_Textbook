{
 "cells": [
  {
   "cell_type": "markdown",
   "id": "26f69257-aba6-4e33-a4ea-0d11202a6738",
   "metadata": {
    "tags": []
   },
   "source": [
    "# Introduction"
   ]
  },
  {
   "cell_type": "markdown",
   "id": "e8a56b1c-bd70-44f5-a24a-703e753693b8",
   "metadata": {},
   "source": [
    "This Calculus Module offers a brief introduction to several important topics in undergraduate Calculus:\n",
    "- Functions (Section 2)\n",
    "- Rates, Limits, and Continuity (Section 3)\n",
    "- Derivatives (Section 4)\n",
    "- Integrals (Section 5)\n",
    "- Parametric Equations (Section 6)\n",
    "- Sequences and Series (Section 7)"
   ]
  },
  {
   "cell_type": "markdown",
   "id": "3db2b811-1c2d-415e-b56a-aac70696b8e9",
   "metadata": {},
   "source": [
    "For each topic, we provide basic definitions, examples, and exercises that are designed to be easily understood by entry-level undergraduate students. \n",
    "The exercises include problems students can solve manually to check their understanding of the concepts but are also solvable using Python Jupyter Notebooks."
   ]
  },
  {
   "cell_type": "markdown",
   "id": "28c82c64-29a1-4030-8739-ef0c54b44e15",
   "metadata": {},
   "source": [
    "This module focuses on the pure mathematical sides of Calculus, while the application can be found under the **Calculus for Daily Life** Module in the **APPLICATIONS** chapter of this book.\n",
    "In many cases, what prevents students from being successful in Calculus courses is that they are not yet proficient with the underlying algebra skills, which are not included in this Calculus Module. \n",
    "Students who are struggling in those areas can visit the **PRE-COLLEGE OUTREACH** chapter of this book. "
   ]
  }
 ],
 "metadata": {
  "kernelspec": {
   "display_name": "Python 3 (ipykernel)",
   "language": "python",
   "name": "python3"
  },
  "language_info": {
   "codemirror_mode": {
    "name": "ipython",
    "version": 3
   },
   "file_extension": ".py",
   "mimetype": "text/x-python",
   "name": "python",
   "nbconvert_exporter": "python",
   "pygments_lexer": "ipython3",
   "version": "3.11.7"
  }
 },
 "nbformat": 4,
 "nbformat_minor": 5
}
