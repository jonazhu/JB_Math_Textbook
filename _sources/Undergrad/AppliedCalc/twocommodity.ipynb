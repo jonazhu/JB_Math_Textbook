{
 "cells": [
  {
   "cell_type": "markdown",
   "metadata": {},
   "source": [
    "```{admonition} Preview\n",
    "<h4> Introduction</h4>\n",
    "Calculus as we know it today would not have been developed without the Cartesian coordinate system and analytric geometry. Isaac Newton (1642-1727) attributed his success to \"standing on the shoulders of giants\" such as Descartes (1596-1650). In this section we explore how a concept as simple as graphing straight lines in a Cartesian plane is helpful in analyzing a budgeting problem called the \"Two Commodity Model\" [Vali 2014]. The simple idea that changing the coefficients in a linear relation will affect its graph (a simple example of \"sensitivity analysis\")  becomes important in when considering changes in unit prices and also in total budget amounts.\n",
    "\n",
    "Reference: \n",
    "Vali, Shapor, 2014. Principles of Mathematical Economics. Paris: Atlantis Press.\n",
    "```"
   ]
  },
  {
   "cell_type": "code",
   "execution_count": null,
   "metadata": {},
   "outputs": [],
   "source": [
    "import pandas as pd\n",
    "import numpy as np\n",
    "import matplotlib.pyplot as plt"
   ]
  },
  {
   "cell_type": "markdown",
   "metadata": {},
   "source": [
    "# 1. Linear Systems and the 2 Commodity Model"
   ]
  },
  {
   "cell_type": "markdown",
   "metadata": {},
   "source": [
    "<h4> Two-commodity model</h4>\n",
    "Suppose a household consumer is budgeting for two types of goods, necessities and luxuries.  Let $X$ denote the units of necessities and $Y$ denote the units of luxuries. We let $c_X$ denote the cost per unit of necessity and $c_Y$ the cost per unit of luxury.  If the total monthly budget is $B$, then the budget equation is\n",
    "$$\n",
    "    c_X X + c_Y Y = B.\n",
    "$$\n",
    "Let $r=\\frac{Y}{X}$ be the ratio of units of luxury to units of necessities. Then the <i>income consumption path</i> is the line \n",
    "$$\n",
    "    \\frac{Y}{X}=r \\Rightarrow Y=rX.\n",
    "$$\n",
    "The <i>equilibrium bundle</i> is defined to be the point of intersection between the budget equation and the income consumption path.\n"
   ]
  },
  {
   "cell_type": "markdown",
   "metadata": {},
   "source": [
    "<h4> Example.</h4> Find the equilibrium bundle if $c_X=10,$ $C_Y=100,$ $B=11000$, and $r=\\frac{1}{100}.$\n",
    "\n",
    "Solution.\n",
    "In this case, the equilibrium bundle is the solution to the linear system\n",
    "$$    10X+100Y=11000 \\Rightarrow   Y=\\frac{1}{100} X.$$\n",
    "\n",
    "This system is easily solved to yield the equilibrium bundle (1000,10).\n",
    "\n",
    "Here we plot the original budget constraint line and income consumption path."
   ]
  },
  {
   "cell_type": "code",
   "execution_count": 1,
   "metadata": {},
   "outputs": [
    {
     "data": {
      "text/plain": [
       "<matplotlib.figure.Figure at 0x2867882a9e8>"
      ]
     },
     "metadata": {},
     "output_type": "display_data"
    }
   ],
   "source": [
    "\n",
    "cx=10  #unit price for necessities\n",
    "cy=100  #unit price for luxuries\n",
    "B=11000 #budget\n",
    "x = np.linspace(0,1200,1000)\n",
    "y_budget= (B-cx*x)/cy  #budget line\n",
    "r=1/100 #ratio of luxuries to necessities\n",
    "y_consump= r*x  #income consumption path\n",
    "plt.figure(figsize=(8, 4))\n",
    "plt.plot(x,y_budget,color='k',label=\"budget line\")\n",
    "plt.plot(x,y_consump,color='r',linestyle=\":\",label=\"income consumption path\")\n",
    "plt.xlim((0.,1200.))\n",
    "plt.ylim((0,100.))\n",
    "plt.grid()\n",
    "plt.legend()\n",
    "plt.show()"
   ]
  },
  {
   "cell_type": "markdown",
   "metadata": {},
   "source": [
    "<h4> Sensitivity Analysis</h4>\n",
    "\n",
    "A <i>sensitivity analysis</i> examines how a model is affected when one or more of its parameters are changed. For example, suppose due to inflation the cost per unit of necessity ($C_X=10$) and luxury $C_Y=100$ both increase by 10%. Then the new budget equation is $11X+110Y=11000$    and the new equilibrium bundle is approximately (909,9.1).  This makes sense since higher unit prices mean less units of each type of item can be purchased.\n",
    "\n",
    "\n"
   ]
  },
  {
   "cell_type": "code",
   "execution_count": 2,
   "metadata": {},
   "outputs": [
    {
     "data": {
      "image/png": "[encoded data removed]",
      "text/plain": [
       "<matplotlib.figure.Figure at 0x2867b5597f0>"
      ]
     },
     "metadata": {
      "needs_background": "light"
     },
     "output_type": "display_data"
    }
   ],
   "source": [
    "x = np.linspace(0,1200.)\n",
    "cx=10\n",
    "cy=100\n",
    "B=11000\n",
    "y_budget= (B-cx*x)/cy\n",
    "r=1/100\n",
    "y_consump= r*x\n",
    "cx1=11  #10% increase in necessity unit price\n",
    "cy1=110 #10% increase in luxury unit price\n",
    "y_budget1a= (B-cx1*x)/cy1\n",
    "plt.figure(figsize=(8, 4))\n",
    "plt.plot(x,y_budget,color='k',label = \"Original budget\")\n",
    "plt.plot(x,y_budget1a,color='b',linestyle=\"-.\",label = \"10% increase in unit prices\")\n",
    "plt.plot(x,y_consump,color='r',linestyle=\":\",label=\"Income consumption path\")\n",
    "plt.xlim((0.,1200.))\n",
    "plt.ylim((0,60.))\n",
    "plt.xlabel(\"x=Units of Necessities\")\n",
    "plt.ylabel(\"y=Units of Luxuries\")\n",
    "plt.legend()\n",
    "plt.grid()\n",
    "plt.savefig(\"budget.png\")\n",
    "plt.show()\n",
    "```"
   ]
  },
  {
   "cell_type": "markdown",
   "metadata": {},
   "source": [
    "```{admonition} Exercises\n",
    "\n",
    "The following questions will compare the effect of increasing the budget vs. decreasing unit prices and also decreasing the budget vs. increasing the unit prices.  Suppose that the monthly budget is \\$4,000 and the unit price for necessities is \\$30 and for luxuries it is \\$100.\n",
    "\n",
    "1)  Determine the equilibrium bundle if the ratio of necessities to luxuries is 10 to 1.\n",
    "\n",
    "2)  Which has the greater impact on the bundle:  A 10% decline in budget or a 10% increase in unit prices?\n",
    "\n",
    "3) Which has the greater impact on the bundle:  A 10% increase in budget or a 10% decrease in unit prices?\n",
    "\n",
    "4)  Explain your answers to the above using the figure below.\n",
    " \n",
    "\n",
    "Reference\n",
    "Vali, Shapor, 2014. Principles of Mathematical Economics. Paris: Atlantis Press.\n",
    "\n",
    "```"
   ]
  },
  {
   "cell_type": "code",
   "execution_count": null,
   "metadata": {},
   "outputs": [],
   "source": [
    "\n",
    "x = np.linspace(0,1200.)\n",
    "cx=30\n",
    "cy=100\n",
    "B=4000\n",
    "y_budget= (B-cx*x)/cy\n",
    "r=1/10\n",
    "y_consump= r*x\n",
    "\n",
    "cx1=33  #10% increase in necessity unit price\n",
    "cy1=110 #10% increase in luxury unit price\n",
    "y_budget1a= (B-cx1*x)/cy1\n",
    "\n",
    "B1=3600 #10% decrease in budget \n",
    "y_budget1b= (B1-cx*x)/cy\n",
    "\n",
    "cx2=27 #10% decrease in necessity unit price\n",
    "cy2=90 #10% decrease in luxury unit price\n",
    "y_budget2a= (B-cx2*x)/cy2\n",
    "\n",
    "B2=4400  #10% increase in budget\n",
    "y_budget2b= (B2-cx*x)/cy\n",
    "\n",
    "plt.figure(figsize=(8, 4))\n",
    "plt.plot(x,y_budget,color='k',label = \"Original budget\")\n",
    "plt.plot(x,y_budget1a,color='b',linestyle=\"-.\",label = \"10% increase in unit prices\")\n",
    "plt.plot(x,y_budget1b,color='g',linestyle=\"--\",label = \"10% decrease in budget\")\n",
    "plt.plot(x,y_budget2a,color='y',linestyle=\"-.\",label = \"10% decrease in unit prices\")\n",
    "plt.plot(x,y_budget2b,color='lightgray',linestyle=\"--\",label = \"10% increase in budget\")\n",
    "plt.plot(x,y_consump,color='r',linestyle=\":\",label=\"Income consumption path\")\n",
    "plt.xlim((60.,140.))\n",
    "plt.ylim((5,20.))\n",
    "plt.xlabel(\"x=Units of Necessities\")\n",
    "plt.ylabel(\"y=Units of Luxuries\")\n",
    "#plt.legend()\n",
    "plt.grid()\n",
    "plt.savefig(\"budgetex.png\")\n",
    "plt.show()\n"
   ]
  }
 ],
 "metadata": {
  "kernelspec": {
   "display_name": "Python 3",
   "language": "python",
   "name": "python3"
  },
  "language_info": {
   "codemirror_mode": {
    "name": "ipython",
    "version": 3
   },
   "file_extension": ".py",
   "mimetype": "text/x-python",
   "name": "python",
   "nbconvert_exporter": "python",
   "pygments_lexer": "ipython3",
   "version": "3.8.8"
  }
 },
 "nbformat": 4,
 "nbformat_minor": 2
}
