{
 "cells": [
  {
   "cell_type": "markdown",
   "metadata": {},
   "source": [
    "# 6. Related Rates with Trig Functions"
   ]
  },
  {
   "cell_type": "markdown",
   "metadata": {},
   "source": [
    "In this lab, we will solve a related rates problem which involves the use of trig functions.  In particular, we will determine how fast a camera is rotating as it tracks a football player speeding along the sideline to the endzone."
   ]
  },
  {
   "cell_type": "markdown",
   "metadata": {},
   "source": [
    "<h4> Defintion of Trig Functions</h4>\n",
    "The acronym SOH-CAH-TOA is helpful to remember the definitions of the three basic trig functions sine, cosine, and tangent as ratios of sides of a right triangle:\n",
    "\n",
    "<ul>\n",
    "    <li> $\\sin(\\theta)=\\frac{opposite}{hypotenuse}$</li>\n",
    "    <li> $\\cos(\\theta)=\\frac{adjacent}{hypotenuse}$</li>\n",
    "    <li> $\\tan(\\theta)=\\frac{opposite}{adjacent}$</li>"
   ]
  },
  {
   "cell_type": "markdown",
   "metadata": {},
   "source": [
    "<h4> Derivatives of basic trig functions</h4>\n",
    "In the application problem, we will assume that the angle $\\theta$ is changing with time $t$.  In this case, the derivatives with respect to time $t$ are given by\n",
    "<ul>\n",
    "    <li> $\\frac{d}{dt}\\sin(\\theta(t))=\\cos(\\theta)\\frac{d\\theta}{dt}$</li>\n",
    "    <li> $\\frac{d}{dt}\\cos(\\theta(t))=-\\sin(\\theta)\\frac{d\\theta}{dt}$</li>\n",
    "   <li> $\\frac{d}{dt}\\tan(\\theta(t))=\\sec^2(\\theta)\\frac{d\\theta}{dt}=\\frac{\\frac{d\\theta}{dt}}{\\cos^2(\\theta)}$</li>\n",
    "\n",
    "<h4>Example</h4> Find $d/dt$ $\\tan$($t^2$).\n",
    "\n",
    "Answer:  $\\frac{2t}{\\cos^2(t^2)}$ or $2t$ $\\sec^2$($t^2$) \n",
    "\n",
    "Explanation: It's been given that the derivative $d/dt$ of $\\tan$($\\theta$) is $\\frac{d\\theta/dt}{\\cos^2(\\theta)}$ . Therefore, since $d$$\\theta$/$dt$ is $2t$, dividing by $\\cos^2$($\\theta$) gives $\\frac{2t}{\\cos^2(t^2)}$  or $2t$$\\sec^2$($t^2$)."
   ]
  },
  {
   "cell_type": "markdown",
   "metadata": {},
   "source": [
    "<h4>Radian Measure</h4> \n",
    "\n",
    "The above formulas for the derivatives of $\\sin(\\theta)$, $\\cos(\\theta))$ and $\\tan(\\theta)$ all assume that the angle $\\theta$ is measured in radians.  \n",
    "\n",
    "Conversion between radians and degrees is possible if we remember that $\\pi$ radians = 180 degrees or $2\\pi$ radians =360 degrees.\n",
    "\n",
    "<h4> Example:</h4> Convert $\\frac{5}{6}$ radians to degrees\n",
    "\n",
    "Answer: $\\frac{5}{6}$ $radians$ * $\\frac{180 degrees}{\\pi  radians}$ = $\\frac{150}{\\pi}$ degrees\n",
    "\n",
    "Explanation: It's been given that $\\pi$ radians = 180 degrees so $\\frac{180 degrees}{\\pi  radians} = 1$ . We can use cross canceling to complete the conversion.\n",
    "\n"
   ]
  },
  {
   "cell_type": "markdown",
   "metadata": {},
   "source": [
    "<h3> Football Problem </h3>\n",
    "\n",
    " Bob Hayes won the 100 meter dash at the Tokyo '64 Olympics equalling the world record of 10.0 seconds.  Hayes went on to be a star wide receiver with the Dallas Cowboys.\n",
    " \n",
    " A TV camera is positioned on the goal line and 8 yards from the sideline. The camera stays fixed on Hayes, who is currently on the 8 yard line and sprinting towards the end zone at 10 yards per second.  \n",
    " \n",
    " \n",
    " \n",
    " Answer the questions below to determine how fast the camera is turning (in degrees per second).\n",
    " \n",
    " "
   ]
  },
  {
   "cell_type": "markdown",
   "metadata": {},
   "source": [
    "1) From the Figure below , give an equation for $y$ in terms of $\\theta$ \n",
    "\n",
    "```{image} football.png\n",
    ":width: 200px\n",
    ":align: center\n",
    "```\n",
    "\n",
    "Answer: $y(t)$ = $8$ $\\tan$($\\theta$)($t$)\n",
    "\n",
    "Explanation: We know that $tangent$ = $\\frac{opposite}{adjacent}$. In our case, the opposite side is $y$ and adjacent side is 8, so $\\tan$($\\theta$) =  $\\frac{y}{8}$. To convert to $y(t)$, we multiply on both sides and get $y(t)$ = $8$ $\\tan$($\\theta$)"
   ]
  },
  {
   "cell_type": "markdown",
   "metadata": {},
   "source": [
    "2a)  What is the physical meaning of $\\frac{dy}{dt}$ ?\n",
    "\n",
    "Answer: The physical meaning of $dy/dt$ is the speed of Hayes as he is running towards the end line from the side line\n",
    "\n",
    "\n",
    "2b) What is the physical meaning of $\\frac{d\\theta}{dt}$ ?\n",
    "\n",
    "Answer: The physical meaning of $d$$\\theta$/$dt$ is how fast the camera angle is turning as it keeps pointing at Hayes as he runs towards the goal line."
   ]
  },
  {
   "cell_type": "markdown",
   "metadata": {},
   "source": [
    "3) If $\\theta$ is measured in radians, then $\\frac{d}{dt} \\tan \\theta = \\frac{1}{\\cos^2\\theta} \\frac {d\\theta}{dt}$.  Use your answer to problem 1 to find a general relationship between $\\frac{dy}{dt}$ and $\\frac{d\\theta}{dt}$.\n",
    "\n",
    "Answer: If $y$ = $8$ $\\tan$($\\theta$), then $dy/dt$   equals $8$$\\frac{ d\\theta/dt}{\\cos^2(\\theta)}$ \n",
    "\n",
    "Explanation: Applying the derivative rule for $\\tan$($\\theta(t)$) rule to the equation in question 1."
   ]
  },
  {
   "cell_type": "markdown",
   "metadata": {},
   "source": [
    "4)  Find $\\frac{d\\theta}{dt}$ (in radians per second) at the instant when $y=8.$ (Hint: $\\cos(\\theta)=\\frac{adjacent}{hypotenuse}$.)\n",
    "\n",
    "Answer: $-$$\\frac{5}{8}$ \n",
    "\n",
    "Explanation: y = 8 $\\tan$($\\theta$), or $\\tan$($\\theta$) = $\\frac{y}{8}$. Since $y = 8$, then $\\tan$($\\theta$) = 1, which means $\\theta$ is  $\\frac{\\pi}{4}$ radians. The formula $dy/dt$ = $\\frac{d\\theta/dt}{\\cos^2(\\theta)}$ implies that $d$$\\theta$/$dt$ = $\\frac{\\cos^2(\\theta)*dy/dt}{8}$. We can plug in $\\theta$ as $\\frac{\\pi}{4}$ and $-10$ for $dy/dt$. Then we get $-$$\\frac{\\cos^2 \\frac{\\pi}{4} *10}{8}$ = $-$$\\frac{10 * \\cos^2 * \\frac{\\pi}{4}}{8}$ = $-$ $\\frac{5}{4}$*$\\cos^2$($\\frac{\\pi}{4}$) = $-$ $\\frac{5}{4}$  $(\\frac{\\sqrt 2}{2})^2$ = $-$ $\\frac{5}{4}$ * $\\frac{1}{2}$ = $-$$\\frac{5}{8}$ "
   ]
  },
  {
   "cell_type": "markdown",
   "metadata": {},
   "source": [
    "5)  Use the fact that 1 radian = $(\\frac{180}{\\pi})^o$ to express your answer to problem 4 in degrees per second.\n",
    "\n",
    "Answer: $-$$\\frac{225}{2\\pi}$ degrees per second or around 35.7 degrees per second\n",
    "\n",
    "Explanation: Multiply $-$$\\frac{5 radians}{8 seconds}$ by $\\frac{180 degrees}{\\pi radians}\n",
    "= -225/(2\\pi)$ degrees per second = $-$35.7 degrees per second"
   ]
  },
  {
   "cell_type": "markdown",
   "metadata": {},
   "source": [
    "6)  Let $R$ be your answer to problem 5.  If the camera revolves at the constant rate of $R$ degrees per second, how many seconds would it take to make one $360^o$ revolution?\n",
    "\n",
    "Answer: Around 10 seconds\n",
    "\n",
    "Explanation: Using cross canceling unit method, $\\frac{360 degrees}{R \\frac{degrees}{second}}$ cancels degrees and gives us seconds. 360/35.7 = 10.09 seconds."
   ]
  },
  {
   "cell_type": "markdown",
   "metadata": {},
   "source": [
    "<h3>Exercise</h3>"
   ]
  },
  {
   "cell_type": "code",
   "execution_count": null,
   "metadata": {},
   "outputs": [],
   "source": []
  }
 ],
 "metadata": {
  "kernelspec": {
   "display_name": "Python 3 (ipykernel)",
   "language": "python",
   "name": "python3"
  },
  "language_info": {
   "codemirror_mode": {
    "name": "ipython",
    "version": 3
   },
   "file_extension": ".py",
   "mimetype": "text/x-python",
   "name": "python",
   "nbconvert_exporter": "python",
   "pygments_lexer": "ipython3",
   "version": "3.10.9"
  }
 },
 "nbformat": 4,
 "nbformat_minor": 4
}
