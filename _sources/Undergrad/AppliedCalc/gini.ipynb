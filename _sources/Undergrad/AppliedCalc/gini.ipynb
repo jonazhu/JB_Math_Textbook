{
 "cells": [
  {
   "cell_type": "markdown",
   "metadata": {},
   "source": [
    "# 10. Area Between Curves and the Gini Index"
   ]
  },
  {
   "cell_type": "markdown",
   "metadata": {},
   "source": [
    "Areas under curves called probability distributions can be used to represent probabilities.  Another way to use area is to represent inequitable distribution of resources as the area between two curves."
   ]
  },
  {
   "cell_type": "markdown",
   "metadata": {},
   "source": [
    "```{index} area between two curves\n",
    "```"
   ]
  },
  {
   "cell_type": "markdown",
   "metadata": {},
   "source": [
    "## Computing Area Between Two Curves\n",
    "\n",
    "Suppose $f(x)\\le g(x)$ on an interval $a\\le x \\le b$.\n",
    "Then the area $A$ between the graph of $y=f(x)$ and $y=g(x)$ on the interval $a\\le x \\le b$ is given by the definite integral.\n",
    "\n",
    "$$ A= \\int_a^b [g(x)-f(x)]\\, dx . $$"
   ]
  },
  {
   "cell_type": "markdown",
   "metadata": {},
   "source": [
    "<h4> Example </h4>\n",
    "Find the area $A$ between $f(x)=x^2$ and $g(x)=x$ on the interval $0\\le x \\le 1.$\n",
    "\n",
    "Solution.\n",
    "\n",
    "$$ A = \\int_0^1 (x - x^2)\\,dx = \\frac{x^2}{2}-\\frac{x^3}{3}\\mid_0^1=\\frac{1}{2}-\\frac{1}{3} - (0-0) = \\frac{1}{6}.$$"
   ]
  },
  {
   "cell_type": "code",
   "execution_count": 1,
   "metadata": {
    "tags": [
     "hide-input"
    ]
   },
   "outputs": [
    {
     "data": {
      "text/plain": [
       "<matplotlib.figure.Figure at 0x1d2458c3ba8>"
      ]
     },
     "metadata": {},
     "output_type": "display_data"
    }
   ],
   "source": [
    "import matplotlib.pyplot as plt\n",
    "import numpy as np\n",
    "plt.figure(figsize=(8, 4))\n",
    "plt.xlim((0,1.))\n",
    "plt.ylim((0,1.))\n",
    "x=np.linspace(0,1,100)\n",
    "f=x**2\n",
    "g=x\n",
    "plt.plot(x,f,color='r',label='f(x)=x^2')\n",
    "plt.plot(x,g,color='k',label='g(x)=x')\n",
    "plt.fill_between(x,f,g,color='lightgray')\n",
    "plt.grid()\n",
    "plt.legend()\n",
    "plt.xlabel(\"x\")\n",
    "plt.ylabel(\"y\")\n",
    "plt.text(.3,.7,\"Shaded area A=1/6\")\n",
    "plt.show()"
   ]
  },
  {
   "cell_type": "markdown",
   "metadata": {},
   "source": [
    "## Lorentz Curve and GINI Index"
   ]
  },
  {
   "cell_type": "markdown",
   "metadata": {},
   "source": [
    "Consider the following NBA salary data:\n",
    " <table>\n",
    "  <tr>\n",
    "    <td>S Curry</td>\n",
    "    <td>45,780,966</td>\n",
    "  </tr>\n",
    "  <tr>\n",
    "    <td>K Thompson</td>\n",
    "    <td>37,980,720</td>\n",
    "  </tr>\n",
    "     <tr>\n",
    "    <td>A Wiggins</td>\n",
    "    <td>31.579.390</td>\n",
    "  </tr>\n",
    "   <tr>\n",
    "    <td>D Green</td>\n",
    "    <td>24,026,712</td>\n",
    "  </tr>\n",
    "     <tr>\n",
    "    <td>J Wiseman</td>\n",
    "    <td>9,166,800</td>\n",
    "  </tr>\n",
    "</table>\n"
   ]
  },
  {
   "cell_type": "markdown",
   "metadata": {},
   "source": [
    "```{index} Lorentz curve\n",
    "```"
   ]
  },
  {
   "cell_type": "markdown",
   "metadata": {},
   "source": [
    "The salaries are clearly not evenly distributed between the five starting players. To measure the degree of uneven distribution, we first make a plot of what is known as a <i>Lorentz curve</i>."
   ]
  },
  {
   "cell_type": "code",
   "execution_count": 2,
   "metadata": {
    "tags": [
     "hide-input"
    ]
   },
   "outputs": [
    {
     "data": {
      "image/png": "[encoded data removed]",
      "text/plain": [
       "<matplotlib.figure.Figure at 0x1d267b40780>"
      ]
     },
     "metadata": {
      "needs_background": "light"
     },
     "output_type": "display_data"
    }
   ],
   "source": [
    "plt.figure(figsize=(8, 4))\n",
    "plt.xlim((0,5.2))\n",
    "plt.ylim((0,1.2))\n",
    "#--plot the Golden State Warrior salaries-----\n",
    "GS=[0,1,2,3,4,5] \n",
    "yGS=[0,.06,.22,.44,.69,1] \n",
    "plt.plot(GS,yGS,marker='o',color='r',label='Golden State')\n",
    "#--equity line\n",
    "x=[0,1,2,3,4,5] \n",
    "y=[0,.2,.4,.6,.8,1]\n",
    "plt.plot(x,y,color='k',label='Perfect Equity')\n",
    "plt.gca().set_xticks(np.arange(1,6,1))\n",
    "plt.grid()\n",
    "plt.legend()\n",
    "plt.xlabel(\"sum of lowest n paid starting players\")\n",
    "plt.ylabel(\"proportion of total salary\")\n",
    "plt.show()"
   ]
  },
  {
   "cell_type": "markdown",
   "metadata": {},
   "source": [
    "The Lorentz curve plotted in red in this case tells us that the lowest paid starter received .06 = 6% of the total starting 5 salary. This is indicated by the red point at (1,.06).  The 2 lowest paid starters received .22 of the salary total. This is indicated by the red point at (2,.22). The 3 lowest paid starters received .44 of the total. This is indicated by the red point at (3,.44). The 4 lowest paid starters received .69 of the total. This is indicated by the red point at (4,.69).  The final point must be (5,1) since the 5 starters account for 100% of the total starting salary."
   ]
  },
  {
   "cell_type": "markdown",
   "metadata": {},
   "source": [
    "```{index} GINI index\n",
    "```"
   ]
  },
  {
   "cell_type": "markdown",
   "metadata": {},
   "source": [
    "Note that the least inequity occurs when the Lorentz curve coincides with the line $y=x$. In this care, the area $A$ between $y=x$ and the Lorentz curve is equal to sero ($A=0$).\n",
    "\n",
    "The greatest inequity occurs if  one person  receives everything and the rest nothing. In this case, the area $A$ between $y=x$ and the Lorentz curve is one-half (A=1/2).\n",
    "\n",
    "The GINI index G.I. measures iniquity as $G.I.=2A$ so that $0\\le G.I. \\le 1$.\n",
    "\n",
    "The larger the value of the GINI index, the greater the inequity.\n",
    "\n"
   ]
  },
  {
   "cell_type": "markdown",
   "metadata": {},
   "source": [
    "## Exercises"
   ]
  },
  {
   "cell_type": "markdown",
   "metadata": {},
   "source": [
    "```{admonition} Exercises\n",
    "\n",
    "Suppose the Lorentz curve for Profession 1 is $L_1(x)=x^{1.7}$ and the Lorentz curve for Profession 2 is $L_2(x)=.8x^2+.2x.$\n",
    "\n",
    "\n",
    "1) Compute the GINI index of both profession 1 and profession 2 to determine which has the more even income distribution.\n",
    "\n",
    "2) Plot the Lorentz curve for each profession and shade the area $A$ between the curve and the line $y=x$ for each profession.\n",
    "\n",
    "```"
   ]
  }
 ],
 "metadata": {
  "celltoolbar": "Edit Metadata",
  "kernelspec": {
   "display_name": "Python 3",
   "language": "python",
   "name": "python3"
  },
  "language_info": {
   "codemirror_mode": {
    "name": "ipython",
    "version": 3
   },
   "file_extension": ".py",
   "mimetype": "text/x-python",
   "name": "python",
   "nbconvert_exporter": "python",
   "pygments_lexer": "ipython3",
   "version": "3.8.8"
  }
 },
 "nbformat": 4,
 "nbformat_minor": 2
}
