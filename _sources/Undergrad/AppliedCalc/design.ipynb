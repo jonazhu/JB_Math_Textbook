{
 "cells": [
  {
   "cell_type": "markdown",
   "metadata": {},
   "source": [
    "# 3. Max/Min and Object Design"
   ]
  },
  {
   "cell_type": "markdown",
   "metadata": {},
   "source": [
    "In this lab we will explore how calculus based maximization/minimization of a function is helpful in the design of objects such as cathedral doors or bulk food cans."
   ]
  },
  {
   "cell_type": "markdown",
   "metadata": {},
   "source": [
    "<h3> Example: Cathedral Door</h3>"
   ]
  },
  {
   "cell_type": "markdown",
   "metadata": {},
   "source": [
    "<img src=\"door.png\" width=\"100px\"> "
   ]
  },
  {
   "cell_type": "markdown",
   "metadata": {},
   "source": [
    "One consideration in designing a cathedral door with a rectangular base and semi-circular top might be how to maximize the area $A$ of the door for a given perimeter $P$.\n",
    "\n",
    "This can be set up mathematically as shown below:\n",
    "\n",
    "<img src=\"door1.png\" width=\"100px\"> \n"
   ]
  },
  {
   "cell_type": "markdown",
   "metadata": {},
   "source": [
    "1) First note that the perimeter $P$ is kept constant throughout this problem.  The radius $r$ and height $h$ must satisfy the equation\n",
    "\n",
    "$$P=2r + 2h + \\pi r.$$\n",
    "\n",
    "This implies that $P=(2+\\pi)r+2h$ or $2h= P-(2+\\pi)r$. This tells us the height $h$ of the door is related to the constant perimeter $P$ and radius $r$ aas follows:\n",
    "\n",
    "$$h= \\frac{P}{2}-(1+\\frac{\\pi}{2})r.$$"
   ]
  },
  {
   "cell_type": "markdown",
   "metadata": {},
   "source": [
    "2) Next note that the total area $A$ of the door is the sum of the recatangular base with area $2rh$ and semi-circular top with area $\\frac{1}{2}\\pi r^2$:\n",
    "\n",
    "$$A= 2rh + \\frac{1}{2}\\pi r^2.$$\n",
    "\n",
    "We can replace the heightg $h$ with the expression we obtained in step 1):\n",
    "\n",
    "$$A=2r[ \\frac{P}{2}-(1+\\frac{\\pi}{2})r]+ \\frac{1}{2}\\pi r^2.$$\n",
    "\n",
    "We simplify the right side of the last equation as follows:\n",
    "\n",
    "$$A= Pr - r^2(2+\\pi)+\\frac{1}{2}\\pi r^2$$ or\n",
    "\n",
    "$$A= Pr - r^2(2+\\frac{\\pi}{2}).$$\n",
    "\n"
   ]
  },
  {
   "cell_type": "markdown",
   "metadata": {},
   "source": [
    "3) Keeping in mind that $P$ is a constant, we compute the derivative $\\frac{dA}{dr}$ and set it equal to zero:\n",
    "\n",
    "$$\\frac{dA}{dr} = P - 2r(2+\\frac{\\pi}{2})=0.$$\n",
    "\n",
    "This gives us the optimal radius $r$ of the door in terms of the fixed perimeter $P$:\n",
    "\n",
    "$$P = 2r(2+\\frac{\\pi}{2})=r(4+\\pi)\\,\\,\\,\\Rightarrow\\,\\,\\, r = \\frac{P}{4+\\pi}.$$"
   ]
  },
  {
   "cell_type": "markdown",
   "metadata": {},
   "source": [
    "4) The corresponding value for the height $h$ of the door is\n",
    "\n",
    "$$h= \\frac{P}{2} - (1+\\frac{\\pi}{2})r=\\frac{P}{2} - (1+\\frac{\\pi}{2})\\frac{P}{4+\\pi}=\\frac{P[4+\\pi -2(1+\\frac{\\pi}{2})]}{2(4+\\pi)}=\\frac{P}{4+\\pi}.  $$\n",
    "\n",
    "(Note that the optimal radius and height are equal to each other: the door is low and wide)."
   ]
  },
  {
   "cell_type": "markdown",
   "metadata": {},
   "source": [
    "5) Finally, note that the second derivative is negative, guaranteeing that we have maximized rather than minimized the area:\n",
    "\n",
    "$$A''(r)= -2(2+\\frac{\\pi}{2})<0.$$"
   ]
  },
  {
   "cell_type": "markdown",
   "metadata": {},
   "source": [
    "<h3> LAB</h3>"
   ]
  },
  {
   "cell_type": "markdown",
   "metadata": {},
   "source": [
    "Suppose a bulk food container is in the shape of a right-cicular cylinder and designed to hold 250 cubic inches.  Our goal is to find the dimensions of the can which will minimize the amount of material needed for construction."
   ]
  },
  {
   "cell_type": "markdown",
   "metadata": {},
   "source": [
    "1) Make a sketch of the can, using $x$ for the radius of the can and $h$ for the height."
   ]
  },
  {
   "cell_type": "markdown",
   "metadata": {},
   "source": [
    "2) Given that the volume $V$ of the can is 250 cubic inches, find a formula for $h$ in terms of $x$."
   ]
  },
  {
   "cell_type": "markdown",
   "metadata": {},
   "source": [
    "3) Find a function $f(x)$ which gives the total area of the can (top, bottom, and side) in terms of $x$."
   ]
  },
  {
   "cell_type": "markdown",
   "metadata": {},
   "source": [
    "4) Compute $f'(x)$."
   ]
  },
  {
   "cell_type": "markdown",
   "metadata": {},
   "source": [
    "5) Find $x$ such that $f'(x)=0$."
   ]
  },
  {
   "cell_type": "markdown",
   "metadata": {},
   "source": [
    "6) Find $h$ corresponding to the $x$ in part 5)."
   ]
  },
  {
   "cell_type": "markdown",
   "metadata": {},
   "source": [
    "7) What is the relationship between the diameter of the can (2x) and the height $h?$. Describe the shape of the bulk food can."
   ]
  },
  {
   "cell_type": "markdown",
   "metadata": {},
   "source": [
    "8) Use the second derivative to explain why your answer gives a minimum amount of material used to construct the can."
   ]
  }
 ],
 "metadata": {
  "kernelspec": {
   "display_name": "Python 3 (ipykernel)",
   "language": "python",
   "name": "python3"
  },
  "language_info": {
   "codemirror_mode": {
    "name": "ipython",
    "version": 3
   },
   "file_extension": ".py",
   "mimetype": "text/x-python",
   "name": "python",
   "nbconvert_exporter": "python",
   "pygments_lexer": "ipython3",
   "version": "3.6.4"
  }
 },
 "nbformat": 4,
 "nbformat_minor": 2
}
