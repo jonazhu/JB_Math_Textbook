{
 "cells": [
  {
   "cell_type": "markdown",
   "metadata": {},
   "source": [
    " \n",
    "## 1.2. Solution Set of  Linear Systems"
   ]
  },
  {
   "cell_type": "markdown",
   "metadata": {},
   "source": [
    "\n",
    "\n",
    "Linear systems can be represented by equations involving vectors and matrices. These representations enable us to analyze the properties and solution sets of linear systems.\n",
    "\n",
    "Let $n$ be a positive integer and $\\mathbb{R}^n$ be the collection of all ordered $n$-tuples of real numbers. Vectors are denoted by an $n\\times 1$ **column matrix** such as  $\\vec{u} =\\begin{bmatrix} u_1\\\\ u_2\\\\ \\vdots\\\\ u_n \\end{bmatrix}$. A vector whose entries are zero is called **the zero vector** and is denoted by $\\vec{0}$.\n",
    "\n",
    "Two vectors $\\vec{u} =\\begin{bmatrix} u_1\\\\ u_2\\\\ \\vdots\\\\ u_n \\end{bmatrix}$ and $\\vec{v} =\\begin{bmatrix} v_1\\\\ v_2\\\\ \\vdots\\\\ v_n \\end{bmatrix}$ are **equal** if their corresponding entries are equal. That is, if for any $u_i =v_i$ for all $i\\leq n$.\n",
    "\n",
    "Given a vector $\\vec{u} =\\begin{bmatrix} u_1\\\\ u_2\\\\ \\vdots\\\\ u_n \\end{bmatrix}$ and a real number $c$, the **scalar product of $\\vec{u}$ by $c$** is\n",
    "\n",
    "$$ c\\vec{u} =\\begin{bmatrix} cu_1\\\\ cu_2\\\\ \\vdots\\\\ cu_n \\end{bmatrix}$$\n",
    "\n",
    "**Algebraic properties of $\\mathbb{R}^n$:**\n",
    "\n",
    "Suppose $\\vec{u}$, $\\vec{v}$, $\\vec{w}$ are in $\\mathbb{R}^n$, and $c$ and $d$ are real numbers:\n",
    "\n",
    "1. $\\vec{u}+ \\vec{v} = \\vec{v}+ \\vec{u}$\n",
    "2. $(\\vec{u}+ \\vec{v}) + \\vec{w} = \\vec{u}+ (\\vec{v} + \\vec{w})$\n",
    "3. $\\vec{u} + \\vec{0}= \\vec{0} + \\vec{u} = \\vec{u}$\n",
    "4. $\\vec{u} + (-\\vec{u}) = \\vec{0}$\n",
    "5. $c(\\vec{u}+ \\vec{v}) = c\\vec{u}+ c\\vec{v}$\n",
    "6. $(c+d)\\vec{u}= c\\vec{u}+ d\\vec{u}$\n",
    "7. $c(d\\vec{u})= (cv)\\vec{u}$\n",
    "\n",
    "### Vector Equation\n",
    "\n",
    "A vector $\\vec{y} \\in \\mathbb{R}^n$ is called a **linear combination** of some vectors $\\vec{u_1}, \\vec{u_2}, \\dots, \\vec{u_p} \\in \\mathbb{R}^n$, if there are real numbers $c_1, c_2, \\dots, c_p$ such that \n",
    "\n",
    "$$ \\vec{y} = c_1\\vec{u_1} + c_2\\vec{u_2} + \\dots + c_p\\vec{u_p}$$\n",
    "\n",
    "\n",
    "The **span** of vectors $\\vec{u_1}, \\vec{u_2}, \\dots, \\vec{u_p}$, denoted by $\\text{Span}( \\vec{u_1}, \\vec{u_2}, \\dots, \\vec{u_p})$, is the set of all possible linear combinations:\n",
    "\n",
    "$$\n",
    "\\text{Span}( \\vec{u_1}, \\vec{u_2}, \\dots, \\vec{u_p})= \\{c_1\\vec{u_1} + c_2\\vec{u_2} + \\dots + c_p\\vec{u_p}: \\,\\, c_1,c_2, \\dots, c_p \\in \\mathbb{R}\\}\n",
    "$$\n",
    "\n",
    "In other words, the span represents all the vectors that can be formed by scaling and adding the given vectors $\\vec{u_1}, \\vec{u_2}, \\dots, \\vec{u_p}$.\n",
    "\n",
    "__Example 3:__\n",
    "\n",
    "\n",
    "Let $\\vec{y}=\\begin{bmatrix} 7 \\\\ -4  \\\\3 \\end{bmatrix}$, $\\vec{u}= \\begin{bmatrix} 2 \\\\ -3\\\\-5 \\end{bmatrix}$, and $\\vec{v} =\\begin{bmatrix} 0 \\\\ 0  \\\\1 \\end{bmatrix}$.\n",
    "\n",
    "1. Compute $2 \\vec{u} - 3 \\vec{v}$.\n",
    "2. Determine if $\\vec{y}$ is a linear combination of $\\vec{u}$ and $\\vec{v}$.\n",
    "\n",
    "__Solution:__\n",
    "1. To compute $2 \\vec{u} - 3 \\vec{v}$, we can perform the following calculations:\n",
    "\n",
    "$$\n",
    "2 \\vec{u} - 3 \\vec{v} = 2 \\begin{bmatrix} 2 \\\\ -3\\\\-5 \\end{bmatrix} - 3 \\begin{bmatrix} 0 \\\\ 0  \\\\1 \\end{bmatrix} = \\begin{bmatrix} 4 \\\\ -6 \\\\ -10 \\end{bmatrix} - \\begin{bmatrix} 0 \\\\ 0  \\\\3 \\end{bmatrix} = \\begin{bmatrix} 4 \\\\ -6 \\\\ -7 \\end{bmatrix}\n",
    "$$\n",
    "\n",
    "Thus, $2 \\vec{u} - 3 \\vec{v} = \\begin{bmatrix} 4 \\\\ -6 \\\\ -7 \\end{bmatrix}$.\n",
    "\n"
   ]
  },
  {
   "cell_type": "code",
   "execution_count": 17,
   "metadata": {},
   "outputs": [
    {
     "name": "stdout",
     "output_type": "stream",
     "text": [
      "y= [ 7 -4  3]\n",
      "u= [ 2 -3 -5]\n",
      "v= [0 0 1]\n"
     ]
    }
   ],
   "source": [
    "import numpy as np\n",
    "\n",
    "y=np.array([7,-4,3])\n",
    "print(\"y=\",+ y)\n",
    "\n",
    "u=np.array([2,-3,-5])\n",
    "print(\"u=\",+ u)\n",
    "\n",
    "v=np.array([0,0,1])\n",
    "print(\"v=\",+ v)"
   ]
  },
  {
   "cell_type": "code",
   "execution_count": 18,
   "metadata": {},
   "outputs": [
    {
     "data": {
      "text/plain": [
       "array([ 4, -6, -7])"
      ]
     },
     "execution_count": 18,
     "metadata": {},
     "output_type": "execute_result"
    }
   ],
   "source": [
    "#1. Compute 2u-3v\n",
    "\n",
    "2*u+3*v"
   ]
  },
  {
   "cell_type": "markdown",
   "metadata": {},
   "source": [
    "2. To determine if $\\vec{y}$ is a linear combination of $\\vec{u}$ and $\\vec{v}$, we need to check if there exist real numbers $c_1$ and $c_2$ such that:\n",
    "\n",
    "$$\n",
    "\\vec{y} = c_1 \\vec{u} + c_2 \\vec{v}\n",
    "$$\n",
    "\n",
    "Substituting the given values:\n",
    "\n",
    "$$\n",
    "\\begin{bmatrix} 7  \\\\ -4  \\\\ 3 \\end{bmatrix} = c_1 \\begin{bmatrix} 2 \\\\ -3 \\\\ -5 \\end{bmatrix} + c_2 \\begin{bmatrix} 0 \\\\ 0 \\\\ 1 \\end{bmatrix}\n",
    "$$\n",
    "\n",
    "Which is the same as:\n",
    "\n",
    "$$\\begin{bmatrix} 7 \\\\ -4  \\\\3 \\end{bmatrix}= \\begin{bmatrix} 2x_1 + 0\\\\ -3c_1 + 0\\\\-5c_1+c_2 \\end{bmatrix}$$\n",
    "\n",
    "or \n",
    "\n",
    "\\begin{align*}\n",
    " 2c_1 &= 7 \\\\\n",
    "-3c_1 &= -4 \\\\\n",
    "-5c_1+ c_2 &= 3 \n",
    "\\end{align*}\n",
    "\n",
    "\n",
    "\n",
    "\n",
    "We can see that this equation cannot be satisfied because there are no values of $c_1$ and $c_2$ that can make the left-hand side equal to the right-hand side. Therefore, $\\vec{y}$ is not a linear combination of $\\vec{u}$ and $\\vec{v}$.\n",
    "\n",
    "In conclusion, $\\vec{y}$ is not a linear combination of $\\vec{u}$ and $\\vec{v}$.\n",
    "\n",
    "### Matrix Equation $A\\vec{x}=\\vec{b}$\n",
    "\n",
    "In above example we saw how a vector equation can be traslated into solving a linear system. In general, the vector equation \n",
    "\n",
    "$$\n",
    "x_1\\vec{u_1} + x_2\\vec{u_1}+ \\dots + x_p\\vec{u_p} = \\vec{y}\n",
    "$$\n",
    "\n",
    "has the same solution set as the linear system whose augmented matrix is \n",
    "\n",
    "$$\n",
    "[\\vec{u_1}, \\vec{u_2}, \\dots, \\vec{u_p}| \\vec{y}]\n",
    "$$\n",
    "\n",
    "Note that for brevity, we represent the augmented matrix by its columns.\n",
    "\n",
    "We can also translate a matrix equation into soling a linear system:\n",
    "\n",
    "Let A be an $m\\times n$ matrix (a rectangular array) with columns $\\vec{a_1}, \\vec{a_2}, \\dots, \\vec{a_n}$, and $\\vec{x}\\in \\mathbb{R}^n$. We can define the product of $A$ and $\\vec{x}$, denoted by $A\\vec{x}$, as the linear combination of the columns of $A$ where the coefficients are the components of $\\vec{x}$:\n",
    "\n",
    "\n",
    "$$A\\vec{x}=[\\vec{a_1},\\  \\vec{a_2},\\  \\dots,\\ \\vec{a_n}]\\, \\begin{bmatrix} x_1 \\\\ x_2\\\\ \\vdots \\\\ x_n \\end{bmatrix}\\, := x_1 \\vec{a_1} + x_2\\vec{a_2} + \\dots + x_n \\vec{a_n}$$. \n",
    "\n",
    "\n",
    "Note that $A\\vec{x}$ is defined only if the number of columns of A equals to the numbers entries of $\\vec{x}$\n",
    "\n",
    "\n",
    "\n",
    "\n",
    "__Theorem 2__ (properties of the product of A and $\\vec{x}$) Suppose $A$ is an $m\\times n$ matrix, $\\vec{u}$ and $\\vec{v}$ are in $\\mathbb{R}^n$ and $c$ is a scalar. Then \n",
    "\n",
    "1. $A(\\vec{u}+ \\vec{v})= A \\vec{u} + A \\vec{v}$\n",
    "2. $A(c\\vec{u})= c A\\vec{u}$\n",
    "\n",
    "\n",
    "Now let us discuss how to represent a linear system by a matrix equation. Consider:\n",
    "\n",
    "\\begin{align}\n",
    "   a_{11} x_1 + a_{12} x_2 +& \\dots a_{1n} x_n = \\,b_1 \\\\ \n",
    "   a_{21} x_1 + a_{22} x_2 +& \\dots a_{2n} x_n = \\,b_2 \\\\ \n",
    "    &\\vdots\\\\\n",
    "   a_{m1} x_1 + a_{n2} x_2 +& \\dots a_{mn} x_n = \\,b_m \\\\ \n",
    "\\end{align}\n",
    "\n",
    "and let   \n",
    "\n",
    "$$\n",
    "A= \\begin{bmatrix} a_{11} &  a_{12} &\\dots & a_{1n}\\\\ a_{21} &  a_{22} & \\dots & a_{2n}\\\\ \\vdots& \\vdots& \\vdots  \\\\  a_{m1}& a_{m2} &\\dots &  a_{mn}\\\\\n",
    "\\end{bmatrix}\n",
    "$$\n",
    "\n",
    "and $\\ \\vec{x}= \\begin{bmatrix} x_1 \\\\ x_2\\\\ \\vdots \\\\ x_n \\end{bmatrix}\\ $ and  $\\ \\vec{b}= \\begin{bmatrix} b_1 \\\\ b_2\\\\ \\vdots \\\\ b_m \\end{bmatrix}\\ $. The matrix A is called the _coefficient matrix_. Then we can rewrite the above linear system as:\n",
    "\n",
    "\n",
    "$$A\\vec{x}=\\vec{b}.$$\n",
    "\n",
    "\n",
    "\n",
    "\n",
    "__Theorem 3__ Let $A$ be an $m\\times n$ matrix. The following statements are logically equivalent:\n",
    "\n",
    "\n",
    "1. For any $\\vec{b}\\in \\mathbb{R}^m$, the equation $A\\vec{x}=\\vec{b}$ has a solution.\n",
    "2. Each $\\vec{b}\\in \\mathbb{R}^m$ is a linear combination of columns of $A$\n",
    "3. The columns of $A$ span $\\mathbb{R}^m$\n",
    "4. A has a pivot poisition in every row. \n",
    "\n",
    "\n",
    "\n",
    "## Solution set of homogenous linear systems\n",
    "\n",
    "We start with describing the solution set of a simpler linear systems where the right side of equalities are zeros. In matrix form, $A\\vec{x}=\\vec{0}$; such system is called _homogeneous_. Homogeneous systems are always consistent since $\\vec{x}=\\vec{0}$ is always a solution. We call $\\vec{0}$ the trivial solution of $A\\vec{x}=\\vec{0}$. \n",
    "\n",
    "__Theorem 2:__\n",
    "\n",
    "The homogenous system $A\\vec{x}=\\vec{0}$ has a nontrivial solution if and only if it has a non-pivot column. \n",
    "\n",
    "\n",
    "Non-pivot columns correspond to free variables; all other variables can be expressed in terms of free variables. \n",
    "\n",
    "__Example 4__\n",
    "\n",
    "Describe the solution set of $10x -4y+ 7z=0$\n",
    "\n",
    "__Solution__: consider the augmented matrix of the system: $ \\begin{bmatrix} 10& -4& 7&& 0\\\\ \\end{bmatrix}$. There is only one pivot columns and y and z are free variables.\n",
    "\n",
    "\n",
    "\n",
    "$$\n",
    "\\vec{x} = \\begin{bmatrix} x \\\\ y \\\\z \\end{bmatrix} = \\begin{bmatrix} 0.4y - 0.7z \\\\y\\\\z \\end{bmatrix}= \\begin{bmatrix} 0.4y \\\\ y \\\\0 \\end{bmatrix} + \\begin{bmatrix} - 0.7z \\\\ 0 \\\\ z \\end{bmatrix}= \n",
    "y \\begin{bmatrix} 0.4 \\\\ 1 \\\\ 0\\end{bmatrix} + z \\begin{bmatrix} 0.7 \\\\0\\\\1 \\end{bmatrix}\n",
    "$$\n",
    "\n",
    "Thus, the solution set is span( $\\ \\begin{bmatrix} 0.4 \\\\ 1 \\\\ 0\\end{bmatrix},\\, \\begin{bmatrix} 0.7 \\\\0\\\\1 \\end{bmatrix}\\ $)\n",
    "\n",
    "\n",
    "__Example 5__\n",
    "\n",
    "Determine if the following system has a nontrivial solution. Then describe the solution set.\n",
    "\n",
    "\n",
    "\\begin{align*}\n",
    "3x +5y - 4z &= 0 \\\\\n",
    "-3x -2y +4z &= 0 \\\\\n",
    "6x + y -8 z &= 0\n",
    "\\end{align*}\n",
    " \n",
    " \n",
    "First lets set up the augmented matrix:"
   ]
  },
  {
   "cell_type": "code",
   "execution_count": 19,
   "metadata": {},
   "outputs": [
    {
     "data": {
      "text/plain": [
       "array([[ 3,  5, -4,  0],\n",
       "       [-3, -2,  4,  0],\n",
       "       [ 6,  1, -8,  0]])"
      ]
     },
     "execution_count": 19,
     "metadata": {},
     "output_type": "execute_result"
    }
   ],
   "source": [
    "A= np.array([[3,5,-4, 0], [-3, -2, 4, 0], [6, 1, -8, 0]])\n",
    "A"
   ]
  },
  {
   "cell_type": "markdown",
   "metadata": {},
   "source": [
    "We transform A into its RREF. Lets recall the elementry operations:"
   ]
  },
  {
   "cell_type": "code",
   "execution_count": 20,
   "metadata": {},
   "outputs": [],
   "source": [
    "# Swap two rows\n",
    "\n",
    "def swap(matrix, row1, row2):\n",
    "    \n",
    "    copy_matrix=np.copy(matrix).astype('float64') \n",
    "  \n",
    "    copy_matrix[row1,:] = matrix[row2,:]\n",
    "    copy_matrix[row2,:] = matrix[row1,:]\n",
    "    \n",
    "    return copy_matrix\n",
    "\n",
    "\n",
    "# Multiple all entries in a row by a nonzero number\n",
    "\n",
    "\n",
    "def scale(matrix, row, scalar):\n",
    "    copy_matrix=np.copy(matrix).astype('float64') \n",
    "    copy_matrix[row,:] = scalar*matrix[row,:]  \n",
    "    return copy_matrix\n",
    "\n",
    "# Replacing a row by the sum of itself and a multiple of another \n",
    "\n",
    "def replace(matrix, row1, row2, scalar):\n",
    "    copy_matrix=np.copy(matrix).astype('float64')\n",
    "    copy_matrix[row1] = matrix[row1]+ scalar * matrix[row2] \n",
    "    return copy_matrix"
   ]
  },
  {
   "cell_type": "code",
   "execution_count": 21,
   "metadata": {},
   "outputs": [
    {
     "data": {
      "text/plain": [
       "array([[ 3.,  5., -4.,  0.],\n",
       "       [ 0.,  3.,  0.,  0.],\n",
       "       [ 6.,  1., -8.,  0.]])"
      ]
     },
     "execution_count": 21,
     "metadata": {},
     "output_type": "execute_result"
    }
   ],
   "source": [
    "A_1 = replace(A, 1,0, 1)\n",
    "A_1"
   ]
  },
  {
   "cell_type": "code",
   "execution_count": 22,
   "metadata": {},
   "outputs": [
    {
     "data": {
      "text/plain": [
       "array([[ 3.,  5., -4.,  0.],\n",
       "       [ 0.,  3.,  0.,  0.],\n",
       "       [ 0., -9.,  0.,  0.]])"
      ]
     },
     "execution_count": 22,
     "metadata": {},
     "output_type": "execute_result"
    }
   ],
   "source": [
    "A_2 = replace(A_1, 2,0, -2)\n",
    "A_2"
   ]
  },
  {
   "cell_type": "code",
   "execution_count": 23,
   "metadata": {},
   "outputs": [
    {
     "data": {
      "text/plain": [
       "array([[ 3.,  5., -4.,  0.],\n",
       "       [ 0.,  3.,  0.,  0.],\n",
       "       [ 0.,  0.,  0.,  0.]])"
      ]
     },
     "execution_count": 23,
     "metadata": {},
     "output_type": "execute_result"
    }
   ],
   "source": [
    "A_3 = replace(A_2, 2, 1, 3)\n",
    "A_3"
   ]
  },
  {
   "cell_type": "markdown",
   "metadata": {},
   "source": [
    "We can see that the third column is a non-pivot column and therefore $z$ is a free variable. Thus, $A\\vec{x}=0$ has (infinitely many) one for each choice of $z$. To find the solution set we write back the linear system coresponding to REF of A: \n",
    "\n",
    "\n",
    "\\begin{align*}\n",
    "3x +5y - 4z &= 0 \\\\\n",
    "3y &= 0 \\\\\n",
    " 0&= 0\n",
    "\\end{align*}\n",
    "\n",
    "Therefore, $x= \\frac{-4}{3}z$, and the slution set contains vectors of the foloowing form:\n",
    "\n",
    "\n",
    "$$\n",
    "\\vec{x} = \\begin{bmatrix} x\\\\y\\\\z \\end{bmatrix} = \\begin{bmatrix} \\frac{-4}{3}z\\\\0\\\\z \\end{bmatrix}= z \\begin{bmatrix} \\frac{-4}{3}\\\\0\\\\1 \\end{bmatrix}\n",
    "$$\n",
    "\n",
    "for $z\\in \\mathbb{R}$.\n",
    "\n",
    "In other words, the solution set is $\\text{span}\\ (\\ \\begin{bmatrix} \\frac{-4}{3}\\\\0\\\\1 \\end{bmatrix}\\ )$\n",
    "\n",
    "\n",
    "\n",
    "## Solution set of non-homogenoues linear system:\n",
    "\n",
    "__Theorem 3__ Let $A\\vec{x}=\\vec{b}$ be a consistent system, and let $\\vec{p}$ be a solution. Then the solution set of $A\\vec{x}=\\vec{b}$ is the set of all vectors of the form $\\vec{p}+\\vec{h}$ where $\\vec{h}$ is any solution to the homogenoues system $A\\vec{x}=0$.\n",
    "\n",
    "\n",
    "\n",
    "__Example 4__ Describe the solution set of $A\\vec{x}=\\vec{b}$ where \n",
    "\n",
    "\n",
    "$A=\\begin{bmatrix} 3& 5& -4\\\\ -3& -2& 4\\\\ 6& 1& -8 \\end{bmatrix}$ and $\\vec{b}= \\begin{bmatrix} 7\\\\ -1\\\\ -4\\\\  \\end{bmatrix}$.\n",
    "\n",
    "__Solution__ :"
   ]
  },
  {
   "cell_type": "code",
   "execution_count": 24,
   "metadata": {},
   "outputs": [],
   "source": [
    "# set up the augemented matrix [A|b]\n",
    "A = np.array([[3,5,-4,7], [-3,-2, 4,-1], [6,1,-8,-4]])"
   ]
  },
  {
   "cell_type": "code",
   "execution_count": 25,
   "metadata": {},
   "outputs": [
    {
     "data": {
      "text/plain": [
       "array([[ 3.,  5., -4.,  7.],\n",
       "       [ 0.,  3.,  0.,  6.],\n",
       "       [ 6.,  1., -8., -4.]])"
      ]
     },
     "execution_count": 25,
     "metadata": {},
     "output_type": "execute_result"
    }
   ],
   "source": [
    "# Row reduce the augmented matrix to reduced echelon form:\n",
    "\n",
    "A1 = replace(A, 1,0,1)\n",
    "A1"
   ]
  },
  {
   "cell_type": "code",
   "execution_count": 26,
   "metadata": {},
   "outputs": [
    {
     "data": {
      "text/plain": [
       "array([[  3.,   5.,  -4.,   7.],\n",
       "       [  0.,   3.,   0.,   6.],\n",
       "       [  0.,  -9.,   0., -18.]])"
      ]
     },
     "execution_count": 26,
     "metadata": {},
     "output_type": "execute_result"
    }
   ],
   "source": [
    "A2 = replace(A1, 2, 0, -2)\n",
    "A2"
   ]
  },
  {
   "cell_type": "code",
   "execution_count": 27,
   "metadata": {},
   "outputs": [
    {
     "data": {
      "text/plain": [
       "array([[ 3.,  5., -4.,  7.],\n",
       "       [ 0.,  3.,  0.,  6.],\n",
       "       [ 0.,  0.,  0.,  0.]])"
      ]
     },
     "execution_count": 27,
     "metadata": {},
     "output_type": "execute_result"
    }
   ],
   "source": [
    "A3 = replace(A2, 2, 1, 3)\n",
    "A3"
   ]
  },
  {
   "cell_type": "code",
   "execution_count": 14,
   "metadata": {},
   "outputs": [
    {
     "data": {
      "text/plain": [
       "array([[ 3.,  0., -4., -3.],\n",
       "       [ 0.,  3.,  0.,  6.],\n",
       "       [ 0.,  0.,  0.,  0.]])"
      ]
     },
     "execution_count": 14,
     "metadata": {},
     "output_type": "execute_result"
    }
   ],
   "source": [
    "A4 = replace(A3, 0, 1, -5/3)\n",
    "A4"
   ]
  },
  {
   "cell_type": "code",
   "execution_count": 15,
   "metadata": {},
   "outputs": [
    {
     "data": {
      "text/plain": [
       "array([[ 1.        ,  0.        , -1.33333333, -1.        ],\n",
       "       [ 0.        ,  3.        ,  0.        ,  6.        ],\n",
       "       [ 0.        ,  0.        ,  0.        ,  0.        ]])"
      ]
     },
     "execution_count": 15,
     "metadata": {},
     "output_type": "execute_result"
    }
   ],
   "source": [
    "A5 = scale(A4, 0, 1/3)\n",
    "A5"
   ]
  },
  {
   "cell_type": "code",
   "execution_count": 16,
   "metadata": {},
   "outputs": [
    {
     "data": {
      "text/plain": [
       "array([[ 1.        ,  0.        , -1.33333333, -1.        ],\n",
       "       [ 0.        ,  1.        ,  0.        ,  2.        ],\n",
       "       [ 0.        ,  0.        ,  0.        ,  0.        ]])"
      ]
     },
     "execution_count": 16,
     "metadata": {},
     "output_type": "execute_result"
    }
   ],
   "source": [
    "A6 = scale(A5, 1, 1/3)\n",
    "A6"
   ]
  },
  {
   "cell_type": "markdown",
   "metadata": {},
   "source": [
    "Now we can express each dependent variable in terms of free variables:\n",
    "\n",
    "We have $x_1 - \\frac{4}{3} x_3 = -1$, $x_2= 2$, and $x_3$ is free. As a vector, the general solution of $A\\vec{x}=\\vec{b}$ is \n",
    "\n",
    "$$\\begin{bmatrix} x_1 \\\\ x_2 \\\\ x_3 \\\\ \\end{bmatrix} = \\begin{bmatrix} -1 + \\frac{4}{3} x_3\\\\ 2\\\\ x_3\\end{bmatrix} = \\begin{bmatrix} -1 \\\\ 2 \\\\ 0 \\end{bmatrix} + x_3 \\begin{bmatrix} \\frac{4}{3} \\\\ 0 \\\\ 1 \\end{bmatrix}$$\n",
    "\n",
    "\n",
    "\n",
    "## Linear Independency:\n",
    "\n",
    "The homogeneous system defined above can be described as vector equations.\n",
    "\n",
    "\n",
    "An index set of vectors $\\{\\vec{v_1}, \\vec{v_2}, \\dots \\vec{v_p}\\}$ in $\\mathbb{R}^n$ is called a _linearly independet set_ if the vector equation:\n",
    "\n",
    "$$ x_1 \\vec{v_1} + x_2 \\vec{v_2} + \\dots + x_p \\vec{v_p} = 0$$\n",
    "\n",
    "has only the trivial solution. The set is called _linearly dependent_ if there are real numbers $c_1,c_2, \\dots c_p$, not all zero,such that \n",
    "\n",
    "$$ c_1 \\vec{v_1} + c_2 \\vec{v_2} + \\dots + c_p \\vec{v_p} = 0$$\n",
    "\n",
    "\n",
    "Note that linear independence equation is equivalent to a homogenous system $A\\vec{x}$ where $A$ is a matrix whose columns are $\\vec{v_i}s$. Thus, \n",
    "\n",
    "the columns of the matrix A are linearly independent if and only if $A\\vec{x}=0$ has only trivial solution.\n",
    "\n",
    "\n",
    "\n",
    "__Lemma 1__\n",
    "A set of vectors containing zero vector is linearly dependent.\n",
    "\n",
    "__proof:__ Consider the linear independece equation for such sets $x_1 \\vec{0} + x_2 \\vec{v_1} + \\dots + x_p \\vec{v_p} = 0$. By choosing a non-zero $x_1$, we can form a nontrivial solution for \n",
    "\n",
    "\n",
    "\n",
    "__Lemma 2__\n",
    "A set of two vectors is linearly dependent if and only if one is a multiple of the other. \n",
    "\n",
    "__Proof__: if one of them is zero, by __Lemma 1__ the set is linearly dependent. Assume they are not zero. If $x_1 \\vec{u} + x_2 \\vec{v}= 0$ has nontrivial solutions, at least one of $x_1$, $x_2$ is not \n",
    "zero. Without losing of generality, assume $x_2$ is not zero. Then we have $\\vec{v} = \\frac{x_1}{x_2} \\vec{u}$.\n",
    "\n",
    "\n",
    "\n",
    "__Example 5:__ \n",
    "\n",
    "Determine if the following set of vectors are linearly independent:\n",
    "\n",
    "1. $\\vec{u} = \\begin{bmatrix} 1\\\\2\\\\3 \\end{bmatrix} \\,\\,  \\vec{v} = \\begin{bmatrix} 4\\\\5\\\\6 \\end{bmatrix}, \\,\\,  \\vec{w} = \\begin{bmatrix} 7\\\\8\\\\9 \\end{bmatrix}$\n",
    "\n",
    "__Solution__\n",
    "Lets set up the matrix equation:\n",
    "\n",
    "\n",
    "\n"
   ]
  },
  {
   "cell_type": "markdown",
   "metadata": {},
   "source": [
    "__Exercises:__\n",
    "\n",
    "1. Find a $3 \\times 3$ matrix $A$ and vectors $\\vec{b}, \\vec{c} \\in \\mathbb{R}^3$ such that $A\\vec{x}=\\vec{b}$ has a solution and $A\\vec{x}=\\vec{c}$ does not.\n",
    "\n",
    "2. Given the system of equations:\n",
    "\\begin{align*}\n",
    "3x + 2y &= 1 \\\\\n",
    "x - 2y + z &= 5 \\\\\n",
    "2x - z &= 0\n",
    "\\end{align*}\n",
    "\n",
    "Write this system as:\n",
    "   1. a vector equation\n",
    "   2. a matrix equation.\n",
    "   3. True or False? $\\vec{0} \\in \\text{span} \\{\\vec{v}_1, \\vec{v}_2, \\vec{v}_3\\}$.\n",
    "   4. True or False? $\\vec{v}_1 \\in \\text{span} \\{\\vec{v}_1, \\vec{v}_2, \\vec{v}_3\\}$.\n",
    "   5. True or False? $\\text{span} \\{\\vec{v}_1, \\vec{v}_2\\} \\subseteq \\text{span} \\{\\vec{v}_1, \\vec{v}_2, \\vec{v}_3\\}$.\n",
    "   \n",
    "   \n",
    "   \n",
    "   \n",
    "   \n",
    "   \n",
    "   \n",
    "2. Describe and compare the solution set of \n",
    "\n",
    "\n",
    "\n",
    "\n",
    "  (a) $A\\vec{x}= \\vec{0}$\n",
    "  \n",
    "  \n",
    "  (b) $A\\vec{x}= \\vec{b}$\n",
    "\n",
    "where \n",
    "$$\n",
    " A= \\begin{bmatrix}-3 & -7  & 9\\\\ 1 & 3  & -5\\\\ \\frac{1}{2} & 2 &-4\\\\  \\end{bmatrix} \\quad \\text{and} \\quad \n",
    " b= \\begin{bmatrix} 8\\\\ 7 \\\\ -12 \\\\  \\end{bmatrix}\n",
    "$$   \n",
    "\n",
    "\n",
    "3.  Is $\\left\\lbrace\\ \\  \\begin{bmatrix} 1 \\\\ 2  \\\\3 \\end{bmatrix},  \n",
    "\\begin{bmatrix} 4 \\\\ 5  \\\\6 \\end{bmatrix}, \\begin{bmatrix} 7 \\\\ 8 \\\\9 \\end{bmatrix}\\ \\ \\right\\rbrace$ linearly independent or dependent?\n",
    "\n",
    "\n",
    "\n",
    "\n",
    "4. Explain why a set 4 vectors must be linearly DEPENDENT in $\\mathbb{R}^3$.\n"
   ]
  },
  {
   "cell_type": "code",
   "execution_count": null,
   "metadata": {},
   "outputs": [],
   "source": []
  },
  {
   "cell_type": "code",
   "execution_count": null,
   "metadata": {},
   "outputs": [],
   "source": []
  }
 ],
 "metadata": {
  "kernelspec": {
   "display_name": "Python 3 (ipykernel)",
   "language": "python",
   "name": "python3"
  },
  "language_info": {
   "codemirror_mode": {
    "name": "ipython",
    "version": 3
   },
   "file_extension": ".py",
   "mimetype": "text/x-python",
   "name": "python",
   "nbconvert_exporter": "python",
   "pygments_lexer": "ipython3",
   "version": "3.10.9"
  }
 },
 "nbformat": 4,
 "nbformat_minor": 4
}
