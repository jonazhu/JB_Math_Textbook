{
 "cells": [
  {
   "cell_type": "markdown",
   "metadata": {},
   "source": [
    "# 0. Introduction\n",
    "\n",
    "  This chapter introduces fundamental concepts in linear algebra with a focus on computational aspects. It also serves as fundational background for the subsequent chapter, \"Linear Algebra and Optimization for Data Analysis.\"\n",
    "\n",
    "\n",
    "  We will begin with systems of linear equations, also known as linear systems, which play a central role in linear algebra as many problems can be reduced to solving a system of linear equations (section 1). Linear systems and their solutions can be described using a compact rectangular array of numbers called matrices. Section 2 explores the algebraic properties of matrices. These properties can be used to solve a linear system; additionally set a groundwork for subsequesnt section. In section 3 we discuss linear structures in Eucleadian spaces. Our emphasis lies in exploring linear maps between subspaces of $\\mathbb{R}^n$ rather than delving into vector spaces in their general form. This approach maintains the generality of the topics, as an $n$-dimensional vector space is isomorphic to $\\mathbb{R}^n$.” Section 3 is devoted to eigenvalues and eigenvectors which are helpful to dissect the action of linear maps into elements that can be visualized easily. As an application, we discuss discrete linear dynamical system. At the end, we will be exploring some ideas from analytic geometry, namly inner product and orthogonality. We also discuss matrix decomposistions which serve as an important method for approximation of matrices and dimentionality reduction in the field of data science. \n",
    "\n",
    "\n",
    "  Each section begins with a brief overview of the objectives and key concepts. Then, several examples and exercises will be provided to facilitate underestanding and learning. The chapter covers the following topics:\n",
    "\n",
    "1. Linear systems and their solutions.\n",
    "2. Matrix algebra and determinants. \n",
    "3. Subspaces of $\\mathbb{R}^n$ and linear transformations.\n",
    "4. Inner products and orthogonality.\n",
    "5. Matrix decomposition.\n",
    "\n",
    "\n",
    "The content of this chapter is based on \\cite{} \\cite{}. \n",
    "\n",
    "\n",
    "Lay, David, et al. Linear Algebra and its Applications. 5th ed., Pearson., 2016\n",
    "\n",
    "\n",
    "\n"
   ]
  },
  {
   "cell_type": "code",
   "execution_count": null,
   "metadata": {},
   "outputs": [],
   "source": []
  }
 ],
 "metadata": {
  "kernelspec": {
   "display_name": "Python 3 (ipykernel)",
   "language": "python",
   "name": "python3"
  },
  "language_info": {
   "codemirror_mode": {
    "name": "ipython",
    "version": 3
   },
   "file_extension": ".py",
   "mimetype": "text/x-python",
   "name": "python",
   "nbconvert_exporter": "python",
   "pygments_lexer": "ipython3",
   "version": "3.10.9"
  }
 },
 "nbformat": 4,
 "nbformat_minor": 4
}
