{
 "cells": [
  {
   "cell_type": "markdown",
   "metadata": {},
   "source": [
    "# 2. Matrices\n",
    "\n",
    "## 2.1 Matrix Algebra\n",
    "\n",
    "This section focuses on matrix algebra and its properties. We will also explore how operations involving matrices are connected to linear systems."
   ]
  },
  {
   "cell_type": "markdown",
   "metadata": {},
   "source": [
    "## Matrices"
   ]
  },
  {
   "cell_type": "markdown",
   "metadata": {},
   "source": [
    "Consider matrix $A$, which is an $m \\times n$ matrix with $m$ rows and $n$ columns:\n",
    "\n",
    "$$\n",
    "A = \\begin{bmatrix} a_{11} &  a_{12} &\\dots & a_{1n}\\\\ a_{21} &  a_{22} & \\dots & a_{2n}\\\\ \\vdots& \\vdots& \\vdots  \\\\  a_{m1}& a_{m2} &\\dots &  a_{mn}\\\\\n",
    "\\end{bmatrix}\n",
    "$$\n",
    "\n",
    "The entry in the $i$th row and $j$th column is referred to as the __$(i,j)$-entry__ of matrix $A$. Entries with the same row and column index ($a_{i,i}$ for any $i$) are called __diagonal entries__ of $A$. The $i$th column of $A$, denoted as $a_i$, represents a vector in $\\mathbb{R}^m$. We can represent matrix $A$ in a compact form by its columns:\n",
    "\n",
    "$$\n",
    "A= \\begin{bmatrix} a_{1} &  a_{2} &\\dots & a_{n}\\\\ \\end{bmatrix},\n",
    "$$\n",
    "\n",
    "or by its entries:\n",
    "\n",
    "$$A= (a_{i,j})$$\n",
    "\n",
    "A matrix whose entries are all zero is called a __zero matrix__, denoted by $0$. The size of a zero matrix is usually clear from the context. \n",
    "\n",
    "An $n \\times n$ matrix is called: \n",
    "\n",
    "1. the __identity matrix__, denoted by $I_n$, if it has 1 on the diagonal and 0 everywhere else. \n",
    "2.  a __diagonal matrix__ if it has all nondiagonal entries equal to zero. Identity matrices are diagonal.\n",
    "3. an __upper triangular matrix__ if it has all entries below the diagonal equal to zero.\n",
    "4. a _lower triangular matrix_ if it has all entries above the diagonal equal to zero.\n",
    "5.  a_triangular matrix_ if it is either upper triangular or lower triangular.\n",
    "\n",
    "__Example 1__\n",
    "\n",
    "Let $A = \\begin{bmatrix} 0 & 2 & -1\\\\ 2 & 3 & 1 \\end{bmatrix}$. \n",
    "\n",
    "As we have seen before, we use NumPy arrays to represent A. Note that each list in the array represent a row of A."
   ]
  },
  {
   "cell_type": "code",
   "execution_count": 1,
   "metadata": {},
   "outputs": [
    {
     "name": "stdout",
     "output_type": "stream",
     "text": [
      "A =\n",
      " [[ 0  2 -1]\n",
      " [ 2  3  1]]\n"
     ]
    }
   ],
   "source": [
    "import numpy as np\n",
    "\n",
    "A = np.array([[0, 2, -1],[2, 3, 1]])\n",
    "print('A =\\n', A)\n"
   ]
  },
  {
   "cell_type": "markdown",
   "metadata": {},
   "source": [
    "$A$ is a $2 \\times 3$ matrix. The following cell shows how to find the size of $A$:"
   ]
  },
  {
   "cell_type": "code",
   "execution_count": 2,
   "metadata": {},
   "outputs": [
    {
     "name": "stdout",
     "output_type": "stream",
     "text": [
      "A has  2 rows, and 3 columns\n"
     ]
    }
   ],
   "source": [
    "#Size of A\n",
    "\n",
    "print('A has ', A.shape[0],  'rows, and', A.shape[1],  'columns')"
   ]
  },
  {
   "cell_type": "markdown",
   "metadata": {},
   "source": [
    "We can also print rows and columns of $A$:"
   ]
  },
  {
   "cell_type": "code",
   "execution_count": 12,
   "metadata": {},
   "outputs": [
    {
     "name": "stdout",
     "output_type": "stream",
     "text": [
      "The first row of A is  [ 0  2 -1]\n",
      "******************************\n",
      "\n",
      " The second row of A is  [2 3 1]\n",
      "******************************\n",
      "\n",
      " The first column of A is  [0 2]\n",
      "******************************\n",
      "\n",
      " The second column of A is  [2 3]\n",
      "******************************\n",
      "\n",
      " The third column of A is  [-1  1]\n"
     ]
    }
   ],
   "source": [
    "print('The first row of A is ', A[0,:])\n",
    "\n",
    "print(30*'*')\n",
    "\n",
    "print('\\n The second row of A is ', A[1,:])\n",
    "\n",
    "print(30*'*')\n",
    "\n",
    "print('\\n The first column of A is ', A[:,0])\n",
    "\n",
    "print(30*'*')\n",
    "\n",
    "print('\\n The second column of A is ', A[:,1])\n",
    "\n",
    "print(30*'*')\n",
    "\n",
    "print('\\n The third column of A is ', A[:,2])\n",
    "\n"
   ]
  },
  {
   "cell_type": "markdown",
   "metadata": {},
   "source": [
    "The following cell shows how to generate an identity matrix of an arbitary size:"
   ]
  },
  {
   "cell_type": "code",
   "execution_count": 3,
   "metadata": {},
   "outputs": [
    {
     "name": "stdout",
     "output_type": "stream",
     "text": [
      "I_3 = \n",
      " \n",
      " [[1. 0. 0.]\n",
      " [0. 1. 0.]\n",
      " [0. 0. 1.]]\n",
      "\n",
      " I_4 = \n",
      " \n",
      " [[1. 0. 0. 0.]\n",
      " [0. 1. 0. 0.]\n",
      " [0. 0. 1. 0.]\n",
      " [0. 0. 0. 1.]]\n",
      "\n",
      " I_5 = \n",
      " \n",
      " [[1. 0. 0. 0. 0.]\n",
      " [0. 1. 0. 0. 0.]\n",
      " [0. 0. 1. 0. 0.]\n",
      " [0. 0. 0. 1. 0.]\n",
      " [0. 0. 0. 0. 1.]]\n"
     ]
    }
   ],
   "source": [
    "# 3x3 identity matrix\n",
    "I_3 = np.eye(3)\n",
    "\n",
    "print('I_3 = \\n \\n', I_3)\n",
    "\n",
    "# 4x4 identity matrix I_4\n",
    "I_4 = np.eye(4)\n",
    "\n",
    "print('\\n I_4 = \\n \\n', I_4)\n",
    "\n",
    "# 5x5 identity matrix I_5\n",
    "I_5 = np.eye(5)\n",
    "\n",
    "print('\\n I_5 = \\n \\n', I_5)"
   ]
  },
  {
   "cell_type": "markdown",
   "metadata": {},
   "source": [
    "Let's have more examples:"
   ]
  },
  {
   "cell_type": "code",
   "execution_count": 4,
   "metadata": {},
   "outputs": [
    {
     "name": "stdout",
     "output_type": "stream",
     "text": [
      "B =\n",
      " [[1 2 3]\n",
      " [4 5 6]]\n",
      "\n",
      " B has  2 rows, and 3 columns\n",
      "\n",
      " The second column of B is  [2 5]\n",
      "******************************\n",
      "\n",
      " C = \n",
      " [[ 0  2]\n",
      " [ 2  3]\n",
      " [ 5 -2]]\n",
      "\n",
      " C has  3 rows, and 2 columns\n",
      "\n",
      " The 1 -th column of C is  [1 4]\n",
      "\n",
      " The 2 -th column of C is  [2 5]\n"
     ]
    }
   ],
   "source": [
    "B = np.array([[1, 2, 3],[4, 5, 6]])\n",
    "print('B =\\n', B)\n",
    "\n",
    "\n",
    "#Size of B\n",
    "\n",
    "print('\\n B has ', B.shape[0],  'rows, and', B.shape[1],  'columns')\n",
    "\n",
    "# the second column of B\n",
    "\n",
    "print('\\n The second column of B is ', B[:,1])\n",
    "\n",
    "print(30*'*')\n",
    "\n",
    "C = np.array([[0, 2] ,[2, 3],[5, -2]])\n",
    "print('\\n C = \\n', C)\n",
    "\n",
    "\n",
    "#Size of C\n",
    "\n",
    "print('\\n C has ', C.shape[0],  'rows, and', C.shape[1],  'columns')\n",
    "\n",
    "\n",
    "# print the columns of C\n",
    "\n",
    "for i in range(C.shape[1]):\n",
    "    print('\\n The', i+1, '-th column of C is ', B[:,i])\n",
    "\n"
   ]
  },
  {
   "cell_type": "markdown",
   "metadata": {},
   "source": [
    "## Basic Algebraic Operations"
   ]
  },
  {
   "cell_type": "markdown",
   "metadata": {},
   "source": [
    "The arithmetic operations defined for vectors can be extended to matrices:\n",
    "\n",
    "1. Two matrices $A$ and $B$ are equal if they have the same size and entries.\n",
    "\n",
    "\n",
    "\n",
    "2. The __sum__ of matrices is defined for matrices of the same size: \n",
    "\n",
    "let $A = (a_{ij})$ and $B = (b_{ij})$ be two $m \\times n$ matrices. Then $A+B$ is an $m \\times n$ matrix whose entries are the sums of the corresponding entries of $A$ and $B$:\n",
    "\n",
    "$$ A+B = (a_{ij} + b_{ij}).$$\n",
    "\n",
    "\n",
    "\n",
    "3. The __scalar product__ $cA$ for a scalar $c \\in \\mathbb{R}$ and a matrix $A$ is a matrix of the same size as $A$ whose entries are $c$ times the entries of $A$:\n",
    "\n",
    "$$ cA = (ca_{ij}) $$\n",
    "\n",
    "__Theorem 1__ (properties of sum and scalar product)\n",
    "\n",
    "Let $A$, $B$, and $C$ have the same size, and let $c$ and $d$ be real numbers.\n",
    "\n",
    "1. $A+B = B+A$\n",
    "2. $(A+B)+C = A+(B+C)$\n",
    "3. $A+ 0 = A$\n",
    "4. $c(A+B) =  cA + cB$\n",
    "5. $(c+d)A = cA + dA$\n",
    "6. $c(dA)=(cd)A$\n",
    "\n",
    "__Example 2:__ \n",
    "\n",
    "Consider the matrices in Example 1. Compute the following:\n",
    "\n",
    "1. $3A-B$\n",
    "\n",
    "2. $A+C$\n",
    "\n",
    "__Solution:__"
   ]
  },
  {
   "cell_type": "code",
   "execution_count": 127,
   "metadata": {},
   "outputs": [
    {
     "data": {
      "text/plain": [
       "array([[-1,  4, -6],\n",
       "       [ 2,  4, -3]])"
      ]
     },
     "execution_count": 127,
     "metadata": {},
     "output_type": "execute_result"
    }
   ],
   "source": [
    "#1\n",
    "\n",
    "3*A-B"
   ]
  },
  {
   "cell_type": "markdown",
   "metadata": {},
   "source": [
    "$A+C$ is not defined because $A$ and $C$ are not of the same size:"
   ]
  },
  {
   "cell_type": "code",
   "execution_count": 128,
   "metadata": {},
   "outputs": [
    {
     "ename": "ValueError",
     "evalue": "operands could not be broadcast together with shapes (2,3) (3,2) ",
     "output_type": "error",
     "traceback": [
      "\u001b[0;31m---------------------------------------------------------------------------\u001b[0m",
      "\u001b[0;31mValueError\u001b[0m                                Traceback (most recent call last)",
      "\u001b[0;32m<ipython-input-128-329ee4efbfd8>\u001b[0m in \u001b[0;36m<module>\u001b[0;34m\u001b[0m\n\u001b[1;32m      1\u001b[0m \u001b[0;31m#2.\u001b[0m\u001b[0;34m\u001b[0m\u001b[0;34m\u001b[0m\u001b[0;34m\u001b[0m\u001b[0m\n\u001b[0;32m----> 2\u001b[0;31m \u001b[0mA\u001b[0m \u001b[0;34m+\u001b[0m \u001b[0mC\u001b[0m\u001b[0;34m\u001b[0m\u001b[0;34m\u001b[0m\u001b[0m\n\u001b[0m",
      "\u001b[0;31mValueError\u001b[0m: operands could not be broadcast together with shapes (2,3) (3,2) "
     ]
    }
   ],
   "source": [
    "#2.\n",
    "A + C"
   ]
  },
  {
   "cell_type": "markdown",
   "metadata": {},
   "source": [
    "## Matrix Product"
   ]
  },
  {
   "cell_type": "markdown",
   "metadata": {},
   "source": [
    "\n",
    "Let $A$ be an $m \\times n$ and $B$ be an $n \\times p$ matrix. The product AB is an $m\\times p$ matrix whose columns are $Ab_1, Ab_2, \\dots, Ab_p$:\n",
    "\n",
    "$$\n",
    "AB= \\begin{bmatrix} Ab_{1} &  Ab_{2} &\\dots & Ab_{n}\\\\ \\end{bmatrix}.\n",
    "$$\n",
    "\n",
    "We can also descibe the matrix product by the entries: the ($ij$)-entry of $AB$ is the product of the $i$th-row of $A$ and the $j$th column of $B$ in the following way:\n",
    "\n",
    "$$\n",
    "a_ib_j = \\begin{bmatrix} a_{i1} &  a_{i2} &\\dots & a_{in}\\\\ \\end{bmatrix} \\begin{bmatrix} b_{1j} &  b_{2j} &\\dots & a_{nj}\\\\ \\end{bmatrix} = a_{i1}b_{j1} + a_{i2}b_{2j} + \\dots + a_{in}b_{nj} = \\Sigma^{n}_{k=1}a_{ik}b_{kj}\n",
    "$$\n",
    "\n",
    "\n",
    "The product $BA$ is not defined if $p\\neq m$ (the _neighboring dimensions_\n",
    "do not match).\n",
    "\n",
    "\n",
    "__Example 3__\n",
    "\n",
    "Let $A = \\begin{bmatrix} 1 & 2 & 3 \\\\ 4 & 5 & 6 \\end{bmatrix}$ and $B = \\begin{bmatrix} 1 & 2 \\\\ 3 & 4 \\\\ 5 & 6\\\\ \\end{bmatrix}$. Compute $AB$ and $BA$.\n",
    "\n",
    "__Solution:__ \n",
    "\n",
    "$A$ is a $2 \\times 3$ and B is a $3 \\times 2$ matrix; so the product is defined. In Python we use the sympol `@` to compute the matrix product"
   ]
  },
  {
   "cell_type": "code",
   "execution_count": 5,
   "metadata": {},
   "outputs": [
    {
     "name": "stdout",
     "output_type": "stream",
     "text": [
      "[[22 28]\n",
      " [49 64]]\n"
     ]
    }
   ],
   "source": [
    "import numpy as np\n",
    "\n",
    "#A\n",
    "A = np.array([[1,2,3],[4,5,6]])\n",
    "\n",
    "#B\n",
    "B = np.array([[1,2],[3,4],[5,6]])\n",
    "\n",
    "#Compute the matrix product\n",
    "AB = A @ B\n",
    "\n",
    "print(AB)"
   ]
  },
  {
   "cell_type": "markdown",
   "metadata": {},
   "source": [
    "Now let's compute $BA$:"
   ]
  },
  {
   "cell_type": "code",
   "execution_count": 6,
   "metadata": {},
   "outputs": [
    {
     "name": "stdout",
     "output_type": "stream",
     "text": [
      "[[ 9 12 15]\n",
      " [19 26 33]\n",
      " [29 40 51]]\n"
     ]
    }
   ],
   "source": [
    "#Compute the product BA\n",
    "BA = B @ A\n",
    "\n",
    "print(BA)"
   ]
  },
  {
   "cell_type": "markdown",
   "metadata": {},
   "source": [
    "__Example 4__ \n",
    "\n",
    "Let $C = \\begin{bmatrix} 1 & 2 & 3 & 4 \\\\ 4 & 5 & 6 & 7 \\end{bmatrix}$. The matrix product $AC$ is not defined because the number of columns in matrix $A$ does not match the number of rows in matrix $C$. If we proceed with computing $AC$ we will get: "
   ]
  },
  {
   "cell_type": "code",
   "execution_count": 7,
   "metadata": {},
   "outputs": [
    {
     "ename": "ValueError",
     "evalue": "matmul: Input operand 1 has a mismatch in its core dimension 0, with gufunc signature (n?,k),(k,m?)->(n?,m?) (size 2 is different from 3)",
     "output_type": "error",
     "traceback": [
      "\u001b[0;31m---------------------------------------------------------------------------\u001b[0m",
      "\u001b[0;31mValueError\u001b[0m                                Traceback (most recent call last)",
      "\u001b[0;32m<ipython-input-7-15e6983a77df>\u001b[0m in \u001b[0;36m<module>\u001b[0;34m\u001b[0m\n\u001b[1;32m      2\u001b[0m \u001b[0;34m\u001b[0m\u001b[0m\n\u001b[1;32m      3\u001b[0m \u001b[0;31m# Compute AC\u001b[0m\u001b[0;34m\u001b[0m\u001b[0;34m\u001b[0m\u001b[0;34m\u001b[0m\u001b[0m\n\u001b[0;32m----> 4\u001b[0;31m \u001b[0mAC\u001b[0m \u001b[0;34m=\u001b[0m \u001b[0mA\u001b[0m \u001b[0;34m@\u001b[0m \u001b[0mC\u001b[0m\u001b[0;34m\u001b[0m\u001b[0;34m\u001b[0m\u001b[0m\n\u001b[0m\u001b[1;32m      5\u001b[0m \u001b[0;34m\u001b[0m\u001b[0m\n\u001b[1;32m      6\u001b[0m \u001b[0mprint\u001b[0m\u001b[0;34m(\u001b[0m\u001b[0mAC\u001b[0m\u001b[0;34m)\u001b[0m\u001b[0;34m\u001b[0m\u001b[0;34m\u001b[0m\u001b[0m\n",
      "\u001b[0;31mValueError\u001b[0m: matmul: Input operand 1 has a mismatch in its core dimension 0, with gufunc signature (n?,k),(k,m?)->(n?,m?) (size 2 is different from 3)"
     ]
    }
   ],
   "source": [
    "C = np.array([[1, 2, 3, 4], [4, 5, 6, 7]])\n",
    "\n",
    "# Compute AC\n",
    "AC = A @ C\n",
    "\n",
    "print(AC)\n"
   ]
  },
  {
   "cell_type": "markdown",
   "metadata": {},
   "source": [
    "__Power of Square Matrices__\n",
    "\n",
    "We can raise a square matrix $A$ to the power of a natural number using matrix multiplication. The matrix power is a fundamental idea in several linear algebra applications such as the long-term behavior of disceret dynamical systems. \n",
    "\n",
    "__Example 5:__\n",
    "\n",
    "Let $M = BA$ where $A$ and $B$ are matrices in Example 3. Compute $M^{4}$."
   ]
  },
  {
   "cell_type": "code",
   "execution_count": 132,
   "metadata": {},
   "outputs": [
    {
     "name": "stdout",
     "output_type": "stream",
     "text": [
      "C^4 =\n",
      "  [[ 5447976  7470048  9492120]\n",
      " [11879096 16288144 20697192]\n",
      " [18310216 25106240 31902264]]\n"
     ]
    }
   ],
   "source": [
    "#C\n",
    "M = BA\n",
    "#Compute C^4\n",
    "M4 = M @ M @ M @ M\n",
    "\n",
    "print('C^4 =\\n ', M4 )"
   ]
  },
  {
   "cell_type": "markdown",
   "metadata": {},
   "source": [
    "Interestingly, computing the power of diagonal matrices is relatively straightforward.\n",
    "\n",
    "__Example 6:__\n",
    "\n",
    "Let's consider the matrix $A = \\begin{bmatrix} 2 & 0\\\\ 0 & 5 \\end{bmatrix}$. We can observe the pattern for computing powers of $A$:\n",
    "\n",
    "- $A^2 = \\begin{bmatrix} 2^2 & 0\\\\ 0 & 5^2 \\end{bmatrix} = \\begin{bmatrix} 4 & 0\\\\ 0 & 25 \\end{bmatrix}$\n",
    "\n",
    "- $A^3 = \\begin{bmatrix} 2^3 & 0\\\\ 0 & 5^3 \\end{bmatrix} = \\begin{bmatrix} 8 & 0\\\\ 0 & 125 \\end{bmatrix}$\n",
    "\n",
    "- $A^4 = \\begin{bmatrix} 2^4 & 0\\\\ 0 & 5^4 \\end{bmatrix} = \\begin{bmatrix} 16 & 0\\\\ 0 & 625 \\end{bmatrix}$\n",
    "\n",
    "We can observe that $A^k$ is a diagonal matrix of the same size with the diagonal elements being obtained by raising the corresponding diagonal elements of $A$ to the power of $k$."
   ]
  },
  {
   "cell_type": "code",
   "execution_count": 8,
   "metadata": {},
   "outputs": [
    {
     "data": {
      "text/plain": [
       "array([[ 4,  0],\n",
       "       [ 0, 25]])"
      ]
     },
     "execution_count": 8,
     "metadata": {},
     "output_type": "execute_result"
    }
   ],
   "source": [
    "import numpy as np\n",
    "\n",
    "A = np.array([[2,0],[0,5]])\n",
    "\n",
    "A2 = A @ A\n",
    "A2"
   ]
  },
  {
   "cell_type": "code",
   "execution_count": 9,
   "metadata": {},
   "outputs": [
    {
     "data": {
      "text/plain": [
       "array([[  8,   0],\n",
       "       [  0, 125]])"
      ]
     },
     "execution_count": 9,
     "metadata": {},
     "output_type": "execute_result"
    }
   ],
   "source": [
    "A3 = A2 @ A\n",
    "A3"
   ]
  },
  {
   "cell_type": "code",
   "execution_count": 10,
   "metadata": {},
   "outputs": [
    {
     "data": {
      "text/plain": [
       "array([[ 16,   0],\n",
       "       [  0, 625]])"
      ]
     },
     "execution_count": 10,
     "metadata": {},
     "output_type": "execute_result"
    }
   ],
   "source": [
    "A4 = A3 @ A\n",
    "A4"
   ]
  },
  {
   "cell_type": "markdown",
   "metadata": {},
   "source": [
    "__Theorem 2 (Properties of matrix product):__\n",
    "\n",
    "Let $A$ be an $m\\times n$ matrix, and let $B$ and $C$ be matrices of the same size for which the following sum and product operations are defined:\n",
    "\n",
    "1. $A(BC) = (AB)C$\n",
    "\n",
    "\n",
    "2. $A(B+C) = AB + AC$\n",
    "\n",
    "\n",
    "3. $(B+C)A = BA + CA$\n",
    "\n",
    "\n",
    "4. $r(AB) = (rA)B = A(rB)$ for any scalar $r\\in \\mathbb{R}$.\n",
    "\n",
    "\n",
    "5. $I_mA = AI_n = A$\n",
    "\n",
    "Recall that $I_n$ is the $n \\times n$ identity matrix.\n"
   ]
  },
  {
   "cell_type": "markdown",
   "metadata": {},
   "source": [
    "### Numerical Note"
   ]
  },
  {
   "cell_type": "markdown",
   "metadata": {},
   "source": [
    "Numpy provides two other methods (built-in functions) to compute the matrix product: `numpy.dot` and `numpy.matmul`. \n",
    "\n",
    "They are both used to compute the product of two arrays (e.g., vectors, matrices, and even higher dimensional).\n",
    "\n",
    "(1). If $A$ and $B$ are vectors (1-D arrays), they both perform dot product of vectors (which we will define in section 6) \n",
    "\n",
    "(2).  If $A$ and $B$ are non-vector matrices (2-D arrays), they both perform matrix multiplication, but using `numpy.matmul(A,B)` or `A @ B` is preferred.\n",
    "\n",
    "(3) For scalar $r\\in \\mathbb{R}$ `numpy.dot(r,B)` is scalar product `r*B`. But `numpy.malmal(r,B)` and `r @ B` are not defined\n"
   ]
  },
  {
   "cell_type": "markdown",
   "metadata": {},
   "source": [
    "__Example 6__\n",
    "\n",
    "Let A, B, and C be the matrices defined in Example 3. Let's explore the differences between the above operations:"
   ]
  },
  {
   "cell_type": "code",
   "execution_count": 136,
   "metadata": {},
   "outputs": [
    {
     "name": "stdout",
     "output_type": "stream",
     "text": [
      "\n",
      " A@B = \n",
      " [[22 28]\n",
      " [49 64]]\n",
      "**********\n",
      "\n",
      " np.dot(A,B) = \n",
      " [[22 28]\n",
      " [49 64]]\n",
      "**********\n",
      "\n",
      " np.matmul(A,B) = \n",
      " [[22 28]\n",
      " [49 64]]\n"
     ]
    }
   ],
   "source": [
    "import numpy as np\n",
    "\n",
    "#A\n",
    "A = np.array([[1,2,3],[4,5,6]])\n",
    "\n",
    "#B\n",
    "B = np.array([[1,2],[3,4],[5,6]])\n",
    "\n",
    "\n",
    "# for matrices (2D-arrays) of compatible size all methods return matrix product\n",
    "\n",
    "print('\\n A@B = \\n', A@B)\n",
    "\n",
    "print(10*'*')\n",
    "\n",
    "print('\\n np.dot(A,B) = \\n', np.dot(A,B))\n",
    "\n",
    "print(10*'*')\n",
    "\n",
    "print('\\n np.matmul(A,B) = \\n', np.matmul(A,B))"
   ]
  },
  {
   "cell_type": "code",
   "execution_count": 11,
   "metadata": {},
   "outputs": [
    {
     "name": "stdout",
     "output_type": "stream",
     "text": [
      "\n",
      " np.dot(C,D) = \n",
      " 32\n",
      "**********\n",
      "\n",
      " np.matmul(C,D) = \n",
      " 32\n"
     ]
    }
   ],
   "source": [
    "# for vectors (1D arrays) dot and matmul return the dot product\n",
    "C = [1,2,3]\n",
    "D = [4,5,6]\n",
    "\n",
    "print('\\n np.dot(C,D) = \\n', np.dot(C,D))\n",
    "\n",
    "print(10*'*')\n",
    "\n",
    "print('\\n np.matmul(C,D) = \\n', np.matmul(C,D))"
   ]
  },
  {
   "cell_type": "code",
   "execution_count": 14,
   "metadata": {},
   "outputs": [
    {
     "ename": "TypeError",
     "evalue": "unsupported operand type(s) for @: 'list' and 'list'",
     "output_type": "error",
     "traceback": [
      "\u001b[0;31m---------------------------------------------------------------------------\u001b[0m",
      "\u001b[0;31mTypeError\u001b[0m                                 Traceback (most recent call last)",
      "\u001b[0;32m<ipython-input-14-1b8de095e620>\u001b[0m in \u001b[0;36m<module>\u001b[0;34m\u001b[0m\n\u001b[1;32m      1\u001b[0m \u001b[0;31m# C@D is not defined for vectors\u001b[0m\u001b[0;34m\u001b[0m\u001b[0;34m\u001b[0m\u001b[0;34m\u001b[0m\u001b[0m\n\u001b[1;32m      2\u001b[0m \u001b[0;34m\u001b[0m\u001b[0m\n\u001b[0;32m----> 3\u001b[0;31m \u001b[0mprint\u001b[0m\u001b[0;34m(\u001b[0m\u001b[0;34m'\\n A@B = \\n'\u001b[0m\u001b[0;34m,\u001b[0m \u001b[0mC\u001b[0m \u001b[0;34m@\u001b[0m \u001b[0mD\u001b[0m\u001b[0;34m)\u001b[0m\u001b[0;34m\u001b[0m\u001b[0;34m\u001b[0m\u001b[0m\n\u001b[0m",
      "\u001b[0;31mTypeError\u001b[0m: unsupported operand type(s) for @: 'list' and 'list'"
     ]
    }
   ],
   "source": [
    "# C@D is not defined for vectors\n",
    "\n",
    "print('\\n A@B = \\n', C @ D)"
   ]
  },
  {
   "cell_type": "code",
   "execution_count": 15,
   "metadata": {},
   "outputs": [
    {
     "name": "stdout",
     "output_type": "stream",
     "text": [
      "\n",
      " np.matmul(2,B) = \n",
      " [[ 4  0]\n",
      " [ 0 10]]\n"
     ]
    }
   ],
   "source": [
    "# If one argument is a real number, dot returns the scalar product\n",
    "print('\\n np.matmul(2,B) = \\n', np.dot(A,2)) "
   ]
  },
  {
   "cell_type": "code",
   "execution_count": 16,
   "metadata": {},
   "outputs": [
    {
     "ename": "ValueError",
     "evalue": "matmul: Input operand 0 does not have enough dimensions (has 0, gufunc core with signature (n?,k),(k,m?)->(n?,m?) requires 1)",
     "output_type": "error",
     "traceback": [
      "\u001b[0;31m---------------------------------------------------------------------------\u001b[0m",
      "\u001b[0;31mValueError\u001b[0m                                Traceback (most recent call last)",
      "\u001b[0;32m<ipython-input-16-7029cc20d456>\u001b[0m in \u001b[0;36m<module>\u001b[0;34m\u001b[0m\n\u001b[1;32m      1\u001b[0m \u001b[0;31m# If one argument is a real number  @ and matmul are not defined\u001b[0m\u001b[0;34m\u001b[0m\u001b[0;34m\u001b[0m\u001b[0;34m\u001b[0m\u001b[0m\n\u001b[0;32m----> 2\u001b[0;31m \u001b[0;36m2\u001b[0m \u001b[0;34m@\u001b[0m \u001b[0mB\u001b[0m\u001b[0;34m\u001b[0m\u001b[0;34m\u001b[0m\u001b[0m\n\u001b[0m",
      "\u001b[0;31mValueError\u001b[0m: matmul: Input operand 0 does not have enough dimensions (has 0, gufunc core with signature (n?,k),(k,m?)->(n?,m?) requires 1)"
     ]
    }
   ],
   "source": [
    "# If one argument is a real number  @ and matmul are not defined \n",
    "2 @ B"
   ]
  },
  {
   "cell_type": "code",
   "execution_count": 17,
   "metadata": {},
   "outputs": [
    {
     "ename": "ValueError",
     "evalue": "matmul: Input operand 0 does not have enough dimensions (has 0, gufunc core with signature (n?,k),(k,m?)->(n?,m?) requires 1)",
     "output_type": "error",
     "traceback": [
      "\u001b[0;31m---------------------------------------------------------------------------\u001b[0m",
      "\u001b[0;31mValueError\u001b[0m                                Traceback (most recent call last)",
      "\u001b[0;32m<ipython-input-17-504b6d8af850>\u001b[0m in \u001b[0;36m<module>\u001b[0;34m\u001b[0m\n\u001b[0;32m----> 1\u001b[0;31m \u001b[0mnp\u001b[0m\u001b[0;34m.\u001b[0m\u001b[0mmatmul\u001b[0m \u001b[0;34m(\u001b[0m\u001b[0;36m2\u001b[0m\u001b[0;34m,\u001b[0m\u001b[0mB\u001b[0m\u001b[0;34m)\u001b[0m\u001b[0;34m\u001b[0m\u001b[0;34m\u001b[0m\u001b[0m\n\u001b[0m",
      "\u001b[0;31mValueError\u001b[0m: matmul: Input operand 0 does not have enough dimensions (has 0, gufunc core with signature (n?,k),(k,m?)->(n?,m?) requires 1)"
     ]
    }
   ],
   "source": [
    "np.matmul (2,B)"
   ]
  },
  {
   "cell_type": "markdown",
   "metadata": {},
   "source": [
    "### Exercises\n",
    "\n",
    "```{admonition} Exercises:\n",
    "\n",
    "1. Which pair of the following matrices can be multiplied? Compute their matrix product.\n",
    "\n",
    "$A = \\begin{bmatrix}\n",
    "1 & 3 \\\\\n",
    "4 & -2 \\\\\n",
    "3 & 2\n",
    "\\end{bmatrix}$\n",
    "\n",
    "$B = \\begin{bmatrix}\n",
    "1 & 4 & 5\\\\\n",
    "0 & 2  & 3\n",
    "\\end{bmatrix}$ \n",
    "\n",
    "\n",
    "$C = \\begin{bmatrix}\n",
    "1 & 3 & 0\\\\\n",
    "2 & -1  & 3 \\\\\n",
    "0 & 1 & 1\n",
    "\\end{bmatrix}$ \n",
    "\n",
    "\n",
    "2. Find two matrices $A$ and $B$ such that the products $AB$ and $BA$ are defined but $AB \\neq BA$.\n",
    "\n",
    "\n",
    "3.  Given $A= \\begin{bmatrix}\n",
    "1 & 2 \\\\ 1& 2 \\end{bmatrix}$, find a nonzero matrix  $C$ for which $AC= \\begin{bmatrix}\n",
    "0 & 0 \\\\ 0 & 0\n",
    "\\end{bmatrix}$.\n",
    "```"
   ]
  },
  {
   "cell_type": "markdown",
   "id": "47b557f3",
   "metadata": {},
   "source": [
    "## 2.2 Transpose, Inverse and Trace of Matrices\n",
    "\n",
    "In this section, we will continue studying the basic operators on the set of matrices, focusing on the transpose, inverse, and trace of a square matrix.\n"
   ]
  },
  {
   "cell_type": "markdown",
   "id": "0429fb12",
   "metadata": {},
   "source": [
    "** Transpose of a matrix **"
   ]
  },
  {
   "cell_type": "markdown",
   "id": "b12f94ac",
   "metadata": {},
   "source": [
    "Given an $m\\times n$ matrix $A$, the transpose of $A$ is the $n\\times m$ matrix denoted by $A^T$, whose columns are the corresponding rows of $A$.\n",
    "\n",
    "__Example 1:__\n",
    "\n",
    "If $M = \\begin{bmatrix} 1 & 2 \\\\ 3 & 4 \\\\ 5 & 6 \\end{bmatrix}$, then $M^T = \\begin{bmatrix} 1 & 3 & 5 \\\\ 2 & 4 & 6 \\end{bmatrix}$.\n",
    "\n",
    "In Python we can either use`narray.T` or `narray.transpose()` to find the transpose of a matrix."
   ]
  },
  {
   "cell_type": "code",
   "execution_count": 2,
   "id": "c72e5bda",
   "metadata": {},
   "outputs": [
    {
     "name": "stdout",
     "output_type": "stream",
     "text": [
      "M =  \n",
      " [[1 2]\n",
      " [3 4]\n",
      " [5 6]] \n",
      "\n",
      " M_T =  \n",
      " [[1 3 5]\n",
      " [2 4 6]]\n"
     ]
    }
   ],
   "source": [
    "import numpy as np\n",
    "\n",
    "M = np.array([[1,2],[3, 4],[5,6]])\n",
    "\n",
    "#Compute the the transpose of M\n",
    "M_T = M.T\n",
    "\n",
    "print(\"M = \", '\\n', M, '\\n\\n', \"M_T = \",'\\n', M_T)"
   ]
  },
  {
   "cell_type": "code",
   "execution_count": 3,
   "id": "efd5a5ac",
   "metadata": {},
   "outputs": [
    {
     "name": "stdout",
     "output_type": "stream",
     "text": [
      "M =  \n",
      " [[1 2]\n",
      " [3 4]\n",
      " [5 6]] \n",
      "\n",
      " M_T =  \n",
      " [[1 3 5]\n",
      " [2 4 6]]\n"
     ]
    }
   ],
   "source": [
    "#Compute the the transpose of M\n",
    "M_transpose = M.transpose()\n",
    "\n",
    "print(\"M = \", '\\n', M, '\\n\\n', \"M_T = \",'\\n', M_transpose)"
   ]
  },
  {
   "cell_type": "markdown",
   "id": "c5787fcb",
   "metadata": {},
   "source": [
    "Note that `transpose` and `T` both have different effect on a list and a list of lists:   "
   ]
  },
  {
   "cell_type": "code",
   "execution_count": 4,
   "id": "6da0b0b9",
   "metadata": {},
   "outputs": [
    {
     "data": {
      "text/plain": [
       "array([[1],\n",
       "       [2],\n",
       "       [3]])"
      ]
     },
     "execution_count": 4,
     "metadata": {},
     "output_type": "execute_result"
    }
   ],
   "source": [
    "# transpose of a list of lists\n",
    "\n",
    "np.array([[1,2,3]]).transpose()"
   ]
  },
  {
   "cell_type": "code",
   "execution_count": 5,
   "id": "4bf9b2f1",
   "metadata": {},
   "outputs": [
    {
     "data": {
      "text/plain": [
       "array([1, 2, 3])"
      ]
     },
     "execution_count": 5,
     "metadata": {},
     "output_type": "execute_result"
    }
   ],
   "source": [
    "# does not effect 1D array\n",
    "np.array([1,2,3]).transpose()"
   ]
  },
  {
   "cell_type": "markdown",
   "id": "24cad2d1",
   "metadata": {},
   "source": [
    "### Inverse of a square matrix"
   ]
  },
  {
   "cell_type": "markdown",
   "id": "1a4306bb",
   "metadata": {},
   "source": [
    "\n",
    "An $n\\times n$ matrix $A$ is called invertible if there exists an $n\\times n$ matrix $B$ such that $AB = BA = I_n$. In this case, $B$ is referred to as the inverse of $A$, denoted as $A^{-1}$. It is important to note that not all matrices are invertible.\n",
    "\n",
    "__Theorem 3:__\n",
    "\n",
    "Let $A= \\begin{bmatrix} a & b \\\\ c & d\\\\ \\end{bmatrix}$. If $ad-bc \\neq 0$, then $A$ is invertible, and its inverse is given by:\n",
    "\n",
    "$$\n",
    "A^{-1}= \\frac{1}{ad-bc}\\begin{bmatrix} d & -b \\\\ -c & a\\\\ \\end{bmatrix}\n",
    "$$\n",
    "\n",
    "$ad-bc$ is called the __determinant__ of matrix A. The determinant plays a crucial role in determining the invertibility of a square matrix. If the determinant is zero, i.e., $ad-bc = 0$, then matrix A is not invertible. Determinants of matrices will be discussed in the next section, where we will explore their properties and computation methods.\n",
    "\n",
    "__Example 6:__\n",
    "\n",
    "1. Find the inverse of $M= \\begin{bmatrix} 1 & 2 \\\\ 3 & 4\\\\ \\end{bmatrix}$.\n",
    "2. Find the inverse of $N= \\begin{bmatrix} 1 & 2 \\\\ 2 & 4\\\\ \\end{bmatrix}$.\n",
    "\n",
    "__Solution:__\n",
    "\n",
    "Let's write a Python code that computes the inverse of a $2\\times 2$ matrix:"
   ]
  },
  {
   "cell_type": "code",
   "execution_count": 6,
   "id": "854a7892",
   "metadata": {},
   "outputs": [],
   "source": [
    "M = np.array([[1, 2], [3, 4]])\n",
    "N = np.array([[1, 2], [2, 4]])\n",
    "\n",
    "# Compute the inverse\n",
    "def inverse_matrix(matrix):\n",
    "    a, b = matrix[0]\n",
    "    c, d = matrix[1]\n",
    "    \n",
    "    det = a * d - b * c\n",
    "\n",
    "    if det == 0:\n",
    "        print(matrix, \"is not invertible\")\n",
    "    else:\n",
    "        D = 1 / det    \n",
    "        inverse = np.zeros((2, 2))\n",
    "        inverse[0, 0] = D * d\n",
    "        inverse[0, 1] = -D * b\n",
    "        inverse[1, 0] = -D * c\n",
    "        inverse[1, 1] = D * a\n",
    "\n",
    "        return(inverse)"
   ]
  },
  {
   "cell_type": "code",
   "execution_count": 7,
   "id": "80507e21",
   "metadata": {},
   "outputs": [
    {
     "data": {
      "text/plain": [
       "array([[-2. ,  1. ],\n",
       "       [ 1.5, -0.5]])"
      ]
     },
     "execution_count": 7,
     "metadata": {},
     "output_type": "execute_result"
    }
   ],
   "source": [
    "inverse_matrix(M)"
   ]
  },
  {
   "cell_type": "code",
   "execution_count": 8,
   "id": "50bae0d6",
   "metadata": {},
   "outputs": [
    {
     "name": "stdout",
     "output_type": "stream",
     "text": [
      "[[1 2]\n",
      " [2 4]] is not invertible\n"
     ]
    }
   ],
   "source": [
    "inverse_matrix(N)"
   ]
  },
  {
   "cell_type": "markdown",
   "id": "13c54824",
   "metadata": {},
   "source": [
    "__Theorem 3__ (Properties of the inverse matrix)\n",
    "\n",
    "Let $A$ and $B$ be two invertible $n\\times n$ matrices.\n",
    "\n",
    "1. $(A^{-1})^{-1} = A$\n",
    "2. $(AB)^{-1} = B^{-1}A^{-1}$\n",
    "3. $(A^{T})^{-1} = (A^{-1})^{T}$\n",
    "\n",
    "\n",
    "### Computing the inverse of a matrix\n",
    "\n",
    "__Theorem 4__\n",
    "\n",
    "An $n\\times n$ matrix $A$ is invertible if and only if it is row equivalent to the identity matrix $I_n$. \n",
    "\n",
    "\n",
    "We can use this theorem to find the inverse of a matrix using the row reduction method: set up the augmented matrix $[A|I_n]$ and perform row operations until the left side of the augmented matrix becomes the identity matrix $I_n$. If this is achieved, then the right side of the augmented matrix will be the inverse of $A$. Otherwise, if the left side does not become $I_n$, then the matrix $A$ is not invertible.\n",
    "\n",
    "\n",
    "__Example 7__ \n",
    "\n",
    "Find the inverse of $M= \\begin{bmatrix} 0 & 1 & 2\\\\ 1 & 0 & 3\\\\ 4 & -3 & 8 \\end{bmatrix}$.\n",
    "\n",
    "__Solution__ Lets set up the augmented matrix and find its RREF:\n",
    "\n",
    "\n",
    "$$[M|I_3]= \\begin{bmatrix} 0 & 1 & 2 && 1 & 0 & 0\\\\ 1 & 0 & 3 &&  0 & 0 & 1 \\\\ 4 & -3 & 8 && 0 & 0 & 1\\end{bmatrix}$$"
   ]
  },
  {
   "cell_type": "code",
   "execution_count": 9,
   "id": "38c520f8",
   "metadata": {},
   "outputs": [
    {
     "data": {
      "text/plain": [
       "array([[ 0,  1,  2],\n",
       "       [ 1,  0,  3],\n",
       "       [ 4, -3,  8]])"
      ]
     },
     "execution_count": 9,
     "metadata": {},
     "output_type": "execute_result"
    }
   ],
   "source": [
    "# matrix M\n",
    "\n",
    "M = np.array([[0,1,2], [1,0,3], [4, -3, 8]])\n",
    "M"
   ]
  },
  {
   "cell_type": "code",
   "execution_count": 10,
   "id": "5e95c3be",
   "metadata": {},
   "outputs": [
    {
     "data": {
      "text/plain": [
       "array([[1., 0., 0.],\n",
       "       [0., 1., 0.],\n",
       "       [0., 0., 1.]])"
      ]
     },
     "execution_count": 10,
     "metadata": {},
     "output_type": "execute_result"
    }
   ],
   "source": [
    "# identity matrix I_3\n",
    "\n",
    "I3 = np.eye(3)\n",
    "I3"
   ]
  },
  {
   "cell_type": "code",
   "execution_count": 11,
   "id": "06b7329f",
   "metadata": {},
   "outputs": [
    {
     "data": {
      "text/plain": [
       "array([[ 0.,  1.,  2.,  1.,  0.,  0.],\n",
       "       [ 1.,  0.,  3.,  0.,  1.,  0.],\n",
       "       [ 4., -3.,  8.,  0.,  0.,  1.]])"
      ]
     },
     "execution_count": 11,
     "metadata": {},
     "output_type": "execute_result"
    }
   ],
   "source": [
    "# Augmented matrix [A,I_3]\n",
    "\n",
    "A = np.concatenate((M, I3), axis = 1)\n",
    "A"
   ]
  },
  {
   "cell_type": "markdown",
   "id": "44d23157",
   "metadata": {},
   "source": [
    "Now lets call row operations"
   ]
  },
  {
   "cell_type": "code",
   "execution_count": 12,
   "id": "b0039363",
   "metadata": {},
   "outputs": [],
   "source": [
    "# Elementry row operations:\n",
    "\n",
    "# Swap two rows\n",
    "\n",
    "def swap(matrix, row1, row2):\n",
    "    \n",
    "    copy_matrix=np.copy(matrix).astype('float64') \n",
    "  \n",
    "    copy_matrix[row1,:] = matrix[row2,:]\n",
    "    copy_matrix[row2,:] = matrix[row1,:]\n",
    "    \n",
    "    return copy_matrix\n",
    "\n",
    "\n",
    "# Multiple all entries in a row by a nonzero number\n",
    "\n",
    "\n",
    "def scale(matrix, row, scalar):\n",
    "    copy_matrix=np.copy(matrix).astype('float64') \n",
    "    copy_matrix[row,:] = scalar*matrix[row,:]  \n",
    "    return copy_matrix\n",
    "\n",
    "# Replacing a row by the sum of itself and a multiple of another \n",
    "\n",
    "def replace(matrix, row1, row2, scalar):\n",
    "    copy_matrix=np.copy(matrix).astype('float64')\n",
    "    copy_matrix[row1] = matrix[row1]+ scalar * matrix[row2] \n",
    "    return copy_matrix"
   ]
  },
  {
   "cell_type": "code",
   "execution_count": 13,
   "id": "fe25b562",
   "metadata": {},
   "outputs": [
    {
     "data": {
      "text/plain": [
       "array([[ 1.,  0.,  3.,  0.,  1.,  0.],\n",
       "       [ 0.,  1.,  2.,  1.,  0.,  0.],\n",
       "       [ 4., -3.,  8.,  0.,  0.,  1.]])"
      ]
     },
     "execution_count": 13,
     "metadata": {},
     "output_type": "execute_result"
    }
   ],
   "source": [
    "A_1 = swap(A, 0, 1)\n",
    "A_1"
   ]
  },
  {
   "cell_type": "code",
   "execution_count": 14,
   "id": "94285ee4",
   "metadata": {},
   "outputs": [
    {
     "data": {
      "text/plain": [
       "array([[ 1.,  0.,  3.,  0.,  1.,  0.],\n",
       "       [ 0.,  1.,  2.,  1.,  0.,  0.],\n",
       "       [ 0., -3., -4.,  0., -4.,  1.]])"
      ]
     },
     "execution_count": 14,
     "metadata": {},
     "output_type": "execute_result"
    }
   ],
   "source": [
    "A_2 = replace(A_1, 2, 0, -4)\n",
    "A_2"
   ]
  },
  {
   "cell_type": "code",
   "execution_count": 15,
   "id": "28d62650",
   "metadata": {},
   "outputs": [
    {
     "data": {
      "text/plain": [
       "array([[ 1.,  0.,  3.,  0.,  1.,  0.],\n",
       "       [ 0.,  1.,  2.,  1.,  0.,  0.],\n",
       "       [ 0.,  0.,  2.,  3., -4.,  1.]])"
      ]
     },
     "execution_count": 15,
     "metadata": {},
     "output_type": "execute_result"
    }
   ],
   "source": [
    "A_3 = replace(A_2, 2, 1, 3)\n",
    "A_3"
   ]
  },
  {
   "cell_type": "code",
   "execution_count": 16,
   "id": "24e20bd2",
   "metadata": {},
   "outputs": [
    {
     "data": {
      "text/plain": [
       "array([[ 1. ,  0. ,  3. ,  0. ,  1. ,  0. ],\n",
       "       [ 0. ,  1. ,  2. ,  1. ,  0. ,  0. ],\n",
       "       [ 0. ,  0. ,  1. ,  1.5, -2. ,  0.5]])"
      ]
     },
     "execution_count": 16,
     "metadata": {},
     "output_type": "execute_result"
    }
   ],
   "source": [
    "A_4 = scale(A_3, 2, 1/2)\n",
    "A_4"
   ]
  },
  {
   "cell_type": "code",
   "execution_count": 17,
   "id": "90208777",
   "metadata": {},
   "outputs": [
    {
     "data": {
      "text/plain": [
       "array([[ 1. ,  0. ,  3. ,  0. ,  1. ,  0. ],\n",
       "       [ 0. ,  1. ,  0. , -2. ,  4. , -1. ],\n",
       "       [ 0. ,  0. ,  1. ,  1.5, -2. ,  0.5]])"
      ]
     },
     "execution_count": 17,
     "metadata": {},
     "output_type": "execute_result"
    }
   ],
   "source": [
    "A_5 = replace(A_4, 1, 2, -2)\n",
    "A_5"
   ]
  },
  {
   "cell_type": "code",
   "execution_count": 18,
   "id": "cfc08347",
   "metadata": {},
   "outputs": [
    {
     "data": {
      "text/plain": [
       "array([[ 1. ,  0. ,  0. , -4.5,  7. , -1.5],\n",
       "       [ 0. ,  1. ,  0. , -2. ,  4. , -1. ],\n",
       "       [ 0. ,  0. ,  1. ,  1.5, -2. ,  0.5]])"
      ]
     },
     "execution_count": 18,
     "metadata": {},
     "output_type": "execute_result"
    }
   ],
   "source": [
    "A_6 = replace(A_5, 0, 2, -3)\n",
    "A_6"
   ]
  },
  {
   "cell_type": "markdown",
   "id": "f989fdc2",
   "metadata": {},
   "source": [
    "We can see that the resulting matrix is in the form $[I_3, B]$. Thus, $B= \\begin{bmatrix} -4.5 & 7 & -1.5\\\\ -2 &  4 & -1 \\\\ 1.5 & -2 & 0.5 \\\\ \\end{bmatrix}$ is the inverse of $M$."
   ]
  },
  {
   "cell_type": "markdown",
   "id": "17410dd1",
   "metadata": {},
   "source": [
    "__Remark__ We can also use an `np.linalg.inv()` function, from NumPy linear algebra submodule, to find an inverse of a matrix: "
   ]
  },
  {
   "cell_type": "code",
   "execution_count": 19,
   "id": "721aa652",
   "metadata": {},
   "outputs": [
    {
     "data": {
      "text/plain": [
       "array([[-4.5,  7. , -1.5],\n",
       "       [-2. ,  4. , -1. ],\n",
       "       [ 1.5, -2. ,  0.5]])"
      ]
     },
     "execution_count": 19,
     "metadata": {},
     "output_type": "execute_result"
    }
   ],
   "source": [
    "np.linalg.inv(M)"
   ]
  },
  {
   "cell_type": "markdown",
   "id": "b707c7a7",
   "metadata": {},
   "source": [
    "__Theorem 4__ (The Invertible Matrix Theorem)\n",
    "\n",
    "Let $A$ be an $n\\times n$ matrix. The following statements are equivalent:\n",
    "\n",
    "1. $A$ is an invertible matrix.\n",
    "2. $A$ is row equivalent to $I_n$.\n",
    "3. The equation $A\\vec{x}=0$ has only the trivial solution ($\\vec{x} = \\mathbf{0}$).\n",
    "4. The columns of $A$ form a linearly independent set.\n",
    "5. The equation $A\\vec{x}=\\vec{b}$ has a unique solution ($\\vec{x} = A^{-1}\\vec{b}$).\n",
    "6. The columns of $A$ span $\\mathbb{R}^n$.\n",
    "\n",
    "__Example 8__\n",
    "\n",
    "Find the solution set of the following linear systems:\n",
    "\n",
    "1. $M\\vec{x}=0$, where $M$ is the matrix from Example 7.\n",
    "\n",
    "__Solution:__ Since $M$ is invertible, by the Invertible Matrix Theorem part (3), the only solution to $M\\vec{x}=0$ is the zero vector $\\vec{x}=\\mathbf{0}$.\n",
    "\n",
    "2. $M\\vec{x}=\\vec{b}$, where $M$ is the matrix from Example 7 and $\\vec{b}=\\begin{bmatrix} 1 \\\\ 2 \\\\ 3 \\end{bmatrix}$.\n",
    "\n",
    "__Solution:__ By IMT part (5), the only solution to $M\\vec{x}=\\vec{b}$ is $\\vec{x}=M^{-1}\\vec{b}$. In Example 7, we computed the inverse of $M$:\n",
    "\n",
    "$A^{-1} = \\begin{bmatrix} -4.5 & 7 & -1.5 \\\\ -2 & 4 & -1 \\\\ 1.5 & -2 & 0.5 \\end{bmatrix}$\n",
    "\n",
    "In the following cell, we use $B$ to represent $A^{-1}$ to simplify notation:"
   ]
  },
  {
   "cell_type": "code",
   "execution_count": 21,
   "id": "09cf0ce8",
   "metadata": {},
   "outputs": [
    {
     "data": {
      "text/plain": [
       "array([[ 5.],\n",
       "       [ 3.],\n",
       "       [-1.]])"
      ]
     },
     "execution_count": 21,
     "metadata": {},
     "output_type": "execute_result"
    }
   ],
   "source": [
    "B = np.array([[-4.5, 7, -1.5], [-2, 4, -1], [1.5, -2, 0.5]])\n",
    "\n",
    "b = np.array ([[1], [2], [3]])\n",
    "\n",
    "#compute Bb\n",
    "\n",
    "x = B @ b\n",
    "x"
   ]
  },
  {
   "cell_type": "code",
   "execution_count": 22,
   "id": "7dbb9ab1",
   "metadata": {},
   "outputs": [
    {
     "data": {
      "text/plain": [
       "array([[1.],\n",
       "       [2.],\n",
       "       [3.]])"
      ]
     },
     "execution_count": 22,
     "metadata": {},
     "output_type": "execute_result"
    }
   ],
   "source": [
    "M = np.array([[0,1,2], [1,0,3], [4,-3,8]])\n",
    "\n",
    "#compute Mx\n",
    "\n",
    "Mx= M @ x\n",
    "Mx"
   ]
  },
  {
   "cell_type": "markdown",
   "id": "31209f94",
   "metadata": {},
   "source": [
    "which is $\\vec{b}$."
   ]
  },
  {
   "cell_type": "markdown",
   "id": "f63a0227",
   "metadata": {},
   "source": [
    "### Trace of Square Matrices"
   ]
  },
  {
   "cell_type": "markdown",
   "id": "e2d82e56",
   "metadata": {},
   "source": [
    "The trace of an $n\\times n$ matrix $A$, denoted by $Tr(A)$ or $tr(A)$, is defined as the sum of the elements on its main diagonal:\n",
    "\n",
    "$$\n",
    "Tr(A) = a_{11} + a_{22} + \\dots + a_{nn} = \\sum^{n}_{i=1} a_{ii}\n",
    "$$\n",
    "\n",
    "__Theorem 5__ (properties of the trace)\n",
    "\n",
    "Let $A$ and $B$ be two $n\\times n$ matrices, and $c \\in \\mathbb{R}$. Then we have the following:\n",
    "\n",
    "1. __Trace of sum:__ $Tr(A + B) = Tr(A) + Tr(B)$\n",
    "\n",
    "2. __Trace of scalar product:__ $Tr(cA) = c \\cdot Tr(A)$\n",
    "\n",
    "3. __Trace of identity matrix:__ $Tr(I_n) = n$\n",
    "\n",
    "4. __Trace of product:__ $Tr(AB) = Tr(BA)$\n",
    "\n",
    "The trace can also be seen as a function from the set of $n\\times n$ matrices to real numbers. It can be shown that there is only one function that satisfies the above conditions.\n",
    "\n",
    "__Example 9__\n",
    "\n",
    "Let $M = \\begin{bmatrix} 0 & 1 & 2\\\\ 1 & 0 & 3\\\\ 4 & -3 & 8 \\end{bmatrix}$. Then:\n",
    "\n",
    "$$\n",
    "Tr(M) = 0 + 0 + 8 = 8.\n",
    "$$\n",
    "\n",
    "For large matrices, we can use `numpy.trace()` to compute the trace. The following code generates a random $5\\times 5$ matrix and computes its trace:"
   ]
  },
  {
   "cell_type": "code",
   "execution_count": 23,
   "id": "49dea84f",
   "metadata": {},
   "outputs": [
    {
     "name": "stdout",
     "output_type": "stream",
     "text": [
      "[[0.01885491 0.94056143 0.25729183 0.32348535 0.31284015]\n",
      " [0.63032471 0.75771773 0.17459726 0.05278947 0.58316163]\n",
      " [0.74847121 0.18847521 0.28978758 0.20410923 0.22665367]\n",
      " [0.20345886 0.23354335 0.50383353 0.78272183 0.77366004]\n",
      " [0.33258835 0.02049531 0.97957254 0.09030899 0.78366617]]\n",
      "\n",
      " Tr(A) =  2.6327482252992613\n"
     ]
    }
   ],
   "source": [
    "# generate a 5x5 matrix\n",
    "A = np.random.rand(5, 5)\n",
    "print(A)\n",
    "\n",
    "\n",
    "#compute the trace\n",
    "Tr_A = np.trace(A)\n",
    "print('\\n Tr(A) = ', Tr_A)"
   ]
  },
  {
   "cell_type": "markdown",
   "id": "bf5289e4",
   "metadata": {},
   "source": [
    "## Exercises"
   ]
  },
  {
   "cell_type": "markdown",
   "id": "09e67aa7",
   "metadata": {},
   "source": [
    "```{admonition} Exercises\n",
    "1. Suppose $A= \\begin{bmatrix}\n",
    "1 & 2 \\\\\n",
    "0 & -1 \\\\\n",
    "3 & 0\n",
    "\\end{bmatrix}$\n",
    "\n",
    "    (a) Compute $A^T$.\n",
    "    \n",
    "    (b) Is $AA^T$ invertible? \n",
    "    \n",
    "    (c) Is $A^TA$ invertible?\n",
    "    \n",
    "    \n",
    "\n",
    "2. The trace is invariant under cyclic permutations, i.e., for three matrices we have $Tr(ABC) = Tr(BCA) = Tr(CAB)$, where $A$ is an $n\\times p$ matrix, $B$ is a $p\\times m$ matrix, and $C$ is an $m \\times n$ matrix. Using Example 9, generate three matrices $A$, $B$, and $C$ such that the product $ABC$ makes sense, and verify that:\n",
    "\n",
    "$$Tr(ABC) = Tr(BCA) = Tr(CAB)$$\n",
    "    \n",
    "```"
   ]
  },
  {
   "cell_type": "code",
   "execution_count": null,
   "metadata": {},
   "outputs": [],
   "source": []
  },
  {
   "cell_type": "code",
   "execution_count": null,
   "metadata": {},
   "outputs": [],
   "source": []
  },
  {
   "cell_type": "code",
   "execution_count": null,
   "metadata": {},
   "outputs": [],
   "source": []
  },
  {
   "cell_type": "code",
   "execution_count": null,
   "metadata": {},
   "outputs": [],
   "source": []
  },
  {
   "cell_type": "code",
   "execution_count": null,
   "metadata": {},
   "outputs": [],
   "source": []
  }
 ],
 "metadata": {
  "kernelspec": {
   "display_name": "Python 3",
   "language": "python",
   "name": "python3"
  },
  "language_info": {
   "codemirror_mode": {
    "name": "ipython",
    "version": 3
   },
   "file_extension": ".py",
   "mimetype": "text/x-python",
   "name": "python",
   "nbconvert_exporter": "python",
   "pygments_lexer": "ipython3",
   "version": "3.8.8"
  }
 },
 "nbformat": 4,
 "nbformat_minor": 4
}
