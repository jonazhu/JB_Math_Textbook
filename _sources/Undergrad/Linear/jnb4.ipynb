{
 "cells": [
  {
   "cell_type": "markdown",
   "metadata": {},
   "source": [
    "# 2. Matrix Algebra\n",
    "\n",
    "This section focuses on matrix algebra and its properties. We will explore how operations involving matrices are connected to linear systems of equations.\n",
    "\n",
    "Consider matrix $A$, which is an $m \\times n$ matrix with $m$ rows and $n$ columns:\n",
    "\n",
    "$$\n",
    "A = \\begin{bmatrix} a_{11} &  a_{12} &\\dots & a_{1n}\\\\ a_{21} &  a_{22} & \\dots & a_{2n}\\\\ \\vdots& \\vdots& \\vdots  \\\\  a_{m1}& a_{m2} &\\dots &  a_{mn}\\\\\n",
    "\\end{bmatrix}\n",
    "$$\n",
    "\n",
    "The entry in the $i$th row and $j$th column is referred to as the __$(i,j)$-entry__ of matrix $A$. Entries with the same row and column index ($a_{i,i}$ for any $i$) are called __diagonal entries__ of $A$. The $i$th column of $A$, denoted as $a_i$, represents a vector in $\\mathbb{R}^m$. We can represent matrix $A$ in a compact form by its columns:\n",
    "\n",
    "$$\n",
    "A= \\begin{bmatrix} a_{1} &  a_{2} &\\dots & a_{n}\\\\ \\end{bmatrix},\n",
    "$$\n",
    "\n",
    "or by its entries:\n",
    "\n",
    "$$A= (a_{i,j})$$\n",
    "\n",
    "A matrix whose entries are all zero is called a _zero matrix_, denoted by $0$. The size of a zero matrix is usually clear from the context. \n",
    "\n",
    "Now, let's consider an $n \\times n$ matrix $A$. We have the following definitions:\n",
    "\n",
    "1. _Identity matrix_, denoted by $I_n$, contains 1 on the diagonal and 0 everywhere else. \n",
    "2. _Diagonal matrix_ has all nondiagonal entries equal to zero. Identity matrices are diagonal.\n",
    "3. _Upper triangular matrix_ has all entries below the diagonal equal to zero.\n",
    "4. _Lower triangular matrix_ has all entries above the diagonal equal to zero.\n",
    "5. _Triangular matrix_ if it is either upper triangular or lower triangular.\n",
    "\n",
    "__Example 1__\n",
    "\n",
    "As we have seen before, we use NumPy arrays to represent matrices:"
   ]
  },
  {
   "cell_type": "code",
   "execution_count": 1,
   "metadata": {},
   "outputs": [
    {
     "name": "stdout",
     "output_type": "stream",
     "text": [
      "A= [[ 0  2 -1]\n",
      " [ 2  3  1]]\n",
      "A has  2 rows, and 3 columns\n",
      "******************************\n",
      "A= [[1 2 3]\n",
      " [4 5 6]]\n",
      "B has  2 rows, and 3 columns\n",
      "******************************\n",
      "C= [[ 0  2 -1]\n",
      " [ 2  3  1]]\n",
      "C has  3 rows, and 2 columns\n"
     ]
    }
   ],
   "source": [
    "import numpy as np\n",
    "\n",
    "A = np.array([[0, 2, -1],[2, 3, 1]])\n",
    "print('A=', A)\n",
    "\n",
    "\n",
    "#Size of A\n",
    "\n",
    "print('A has ', A.shape[0],  'rows, and', A.shape[1],  'columns')\n",
    "\n",
    "print(30*'*')\n",
    "\n",
    "B = np.array([[1, 2, 3],[4, 5, 6]])\n",
    "print('A=', B)\n",
    "\n",
    "\n",
    "#Size of B\n",
    "\n",
    "print('B has ', B.shape[0],  'rows, and', B.shape[1],  'columns')\n",
    "\n",
    "\n",
    "print(30*'*')\n",
    "\n",
    "C = np.array([[0, 2] ,[2, 3],[5, -2]])\n",
    "print('C=', A)\n",
    "\n",
    "\n",
    "#Size of A\n",
    "\n",
    "print('C has ', C.shape[0],  'rows, and', C.shape[1],  'columns')\n",
    "\n",
    "\n"
   ]
  },
  {
   "cell_type": "markdown",
   "metadata": {},
   "source": [
    "## 2.1 Algebraic operations on matrices\n",
    "\n",
    "The arithmetic operations defined for vectors can be extended to matrices:\n",
    "\n",
    "1. Two matrices $A$ and $B$ are equal if they have the same size and entries.\n",
    "\n",
    "2. The sum of two matrices is defined for matrices of the same size: Let $A = (a_{ij})$ and $B = (b_{ij})$ be two $m \\times n$ matrices. Then $A+B$ is an $m \\times n$ matrix whose entries are the sums of the corresponding entries of $A$ and $B$:\n",
    "\n",
    "$$ A+B = (a_{ij} + b_{ij}).$$\n",
    "\n",
    "3. The scalar product $cA$ for a scalar $c \\in \\mathbb{R}$ and a matrix $A$ is a matrix of the same size as $A$ whose entries are $c$ times the entries of $A$:\n",
    "\n",
    "$$ cA = (ca_{ij}) $$\n",
    "\n",
    "__Theorem 1__ (Properties of sum and scalar product)\n",
    "\n",
    "Let $A$, $B$, and $C$ have the same size, and let $c$ and $d$ be real numbers.\n",
    "\n",
    "1. $A+B = B+A$\n",
    "2. $(A+B)+C = A+(B+C)$\n",
    "3. $A+ 0 = A$\n",
    "4. $c(A+B) =  cA + cB$\n",
    "5. $(c+d)A = cA + dA$\n",
    "6. $c(dA)=(cd)A$\n",
    "\n",
    "__Example 2:__ \n",
    "Consider the matrices in Example 1. Compute the following:\n",
    "\n",
    "1. $3A-B$\n",
    "\n",
    "2. $A+C$"
   ]
  },
  {
   "cell_type": "code",
   "execution_count": 2,
   "metadata": {},
   "outputs": [
    {
     "data": {
      "text/plain": [
       "array([[-1,  4, -6],\n",
       "       [ 2,  4, -3]])"
      ]
     },
     "execution_count": 2,
     "metadata": {},
     "output_type": "execute_result"
    }
   ],
   "source": [
    "#1.\n",
    "3*A-B"
   ]
  },
  {
   "cell_type": "markdown",
   "metadata": {},
   "source": [
    "$A+C$ is not defined because $A$ and $C$ are not of the same size."
   ]
  },
  {
   "cell_type": "code",
   "execution_count": 3,
   "metadata": {},
   "outputs": [
    {
     "ename": "ValueError",
     "evalue": "operands could not be broadcast together with shapes (2,3) (3,2) ",
     "output_type": "error",
     "traceback": [
      "\u001b[0;31m---------------------------------------------------------------------------\u001b[0m",
      "\u001b[0;31mValueError\u001b[0m                                Traceback (most recent call last)",
      "\u001b[0;32m<ipython-input-3-0eb8d234067c>\u001b[0m in \u001b[0;36m<module>\u001b[0;34m\u001b[0m\n\u001b[1;32m      1\u001b[0m \u001b[0;31m#2.\u001b[0m\u001b[0;34m\u001b[0m\u001b[0;34m\u001b[0m\u001b[0;34m\u001b[0m\u001b[0m\n\u001b[0;32m----> 2\u001b[0;31m \u001b[0mA\u001b[0m\u001b[0;34m+\u001b[0m\u001b[0mC\u001b[0m\u001b[0;34m\u001b[0m\u001b[0;34m\u001b[0m\u001b[0m\n\u001b[0m",
      "\u001b[0;31mValueError\u001b[0m: operands could not be broadcast together with shapes (2,3) (3,2) "
     ]
    }
   ],
   "source": [
    "#2.\n",
    "A+C"
   ]
  },
  {
   "cell_type": "markdown",
   "metadata": {},
   "source": [
    "#### Matrix Product:\n",
    "\n",
    "Let $A$ be an $m \\times n$ and $B$ be an $n \\times p$ matrix. The product AB is an $m\\times p$ matrix whose columns are $Ab_1, Ab_2, \\dots, Ab_p$:\n",
    "\n",
    "$$\n",
    "AB= \\begin{bmatrix} Ab_{1} &  Ab_{2} &\\dots & Ab_{n}\\\\ \\end{bmatrix}.\n",
    "$$\n",
    "\n",
    "We can also descibe the matrix product by the entries: the (ij)-entry of $AB$ is the product of the ith-row of A and the jth column of B in the following way:\n",
    "\n",
    "$$\n",
    "a_ib_j = \\begin{bmatrix} a_{i1} &  a_{i2} &\\dots & a_{in}\\\\ \\end{bmatrix} \\begin{bmatrix} b_{1j} &  b_{2j} &\\dots & a_{nj}\\\\ \\end{bmatrix} = a_{i1}b_{j1} + a_{i2}b_{2j} + \\dots + a_{in}b_{nj} = \\Sigma^{n}_{k=1}a_{ik}b_{kj}\n",
    "$$\n",
    "\n",
    "\n",
    "The product $BA$ is not defined if $p\\neq m$ (the _neighboring dimensions_\n",
    "do not match).\n",
    "\n",
    "\n",
    "__Example 3__\n",
    "\n",
    "Let $A = \\begin{bmatrix} 1 & 2 & 3 \\\\ 4 & 5 & 6 \\end{bmatrix}$ and $B = \\begin{bmatrix} 1 & 2 \\\\ 3 & 4 \\\\ 5 & 6\\\\ \\end{bmatrix}$. Compute $AB$ and BA.\n",
    "\n",
    "__Solution:__ $A$ is a $2 \\times 3$ and B is a $3 \\times 2$ matrix. We expect AB to be a $2\\times 2$  matrix: \n",
    "\n",
    "\n"
   ]
  },
  {
   "cell_type": "code",
   "execution_count": 4,
   "metadata": {},
   "outputs": [
    {
     "name": "stdout",
     "output_type": "stream",
     "text": [
      "[[22 28]\n",
      " [49 64]]\n"
     ]
    }
   ],
   "source": [
    "import numpy as np\n",
    "\n",
    "#Set up A\n",
    "A = np.array([[1,2,3],[4,5,6]])\n",
    "\n",
    "#Set up B\n",
    "B = np.array([[1,2],[3,4],[5,6]])\n",
    "\n",
    "#Compute the product with numpy.dot()\n",
    "AB= np.dot(A,B)\n",
    "\n",
    "print(AB)"
   ]
  },
  {
   "cell_type": "markdown",
   "metadata": {},
   "source": [
    "Now lets compute $BA$:"
   ]
  },
  {
   "cell_type": "code",
   "execution_count": 5,
   "metadata": {},
   "outputs": [
    {
     "name": "stdout",
     "output_type": "stream",
     "text": [
      "[[ 9 12 15]\n",
      " [19 26 33]\n",
      " [29 40 51]]\n"
     ]
    }
   ],
   "source": [
    "#Compute the product BA\n",
    "BA= np.dot(B,A)\n",
    "\n",
    "print(BA)"
   ]
  },
  {
   "cell_type": "markdown",
   "metadata": {},
   "source": [
    "__Example 4__ \n",
    "\n",
    "Let $C = \\begin{bmatrix} 1 & 2 & 3 & 4 \\\\ 4 & 5 & 6 & 7 \\end{bmatrix}$. The matrix product $AC$ is not defined because the number of columns in matrix $A$ does not match the number of rows in matrix $C$. If we proceed with computing $AC$ we will get: "
   ]
  },
  {
   "cell_type": "code",
   "execution_count": 7,
   "metadata": {},
   "outputs": [
    {
     "ename": "ValueError",
     "evalue": "shapes (2,3) and (2,4) not aligned: 3 (dim 1) != 2 (dim 0)",
     "output_type": "error",
     "traceback": [
      "\u001b[0;31m---------------------------------------------------------------------------\u001b[0m",
      "\u001b[0;31mValueError\u001b[0m                                Traceback (most recent call last)",
      "\u001b[0;32m<ipython-input-7-1fac0f180ded>\u001b[0m in \u001b[0;36m<module>\u001b[0;34m\u001b[0m\n\u001b[1;32m      2\u001b[0m \u001b[0;34m\u001b[0m\u001b[0m\n\u001b[1;32m      3\u001b[0m \u001b[0;31m# Compute AC\u001b[0m\u001b[0;34m\u001b[0m\u001b[0;34m\u001b[0m\u001b[0;34m\u001b[0m\u001b[0m\n\u001b[0;32m----> 4\u001b[0;31m \u001b[0mAC\u001b[0m \u001b[0;34m=\u001b[0m \u001b[0mnp\u001b[0m\u001b[0;34m.\u001b[0m\u001b[0mdot\u001b[0m\u001b[0;34m(\u001b[0m\u001b[0mA\u001b[0m\u001b[0;34m,\u001b[0m \u001b[0mC\u001b[0m\u001b[0;34m)\u001b[0m\u001b[0;34m\u001b[0m\u001b[0;34m\u001b[0m\u001b[0m\n\u001b[0m\u001b[1;32m      5\u001b[0m \u001b[0;34m\u001b[0m\u001b[0m\n\u001b[1;32m      6\u001b[0m \u001b[0mprint\u001b[0m\u001b[0;34m(\u001b[0m\u001b[0mAC\u001b[0m\u001b[0;34m)\u001b[0m\u001b[0;34m\u001b[0m\u001b[0;34m\u001b[0m\u001b[0m\n",
      "\u001b[0;32m~/opt/anaconda3/lib/python3.8/site-packages/numpy/core/overrides.py\u001b[0m in \u001b[0;36mdot\u001b[0;34m(*args, **kwargs)\u001b[0m\n",
      "\u001b[0;31mValueError\u001b[0m: shapes (2,3) and (2,4) not aligned: 3 (dim 1) != 2 (dim 0)"
     ]
    }
   ],
   "source": [
    "C = np.array([[1, 2, 3, 4], [4, 5, 6, 7]])\n",
    "\n",
    "# Compute AC\n",
    "AC = np.dot(A, C)\n",
    "\n",
    "print(AC)\n"
   ]
  },
  {
   "cell_type": "markdown",
   "metadata": {},
   "source": [
    "__Theorem 2 (Properties of matrix product):__\n",
    "\n",
    "Let $A$ be an $m\\times n$ matrix, and let $B$ and $C$ be matrices of the same size for which the following sum and product operations are defined:\n",
    "\n",
    "1. $A(BC) = (AB)C$\n",
    "2. $A(B+C) = AB + AC$\n",
    "3. $(B+C)A = BA + CA$\n",
    "4. $r(AB) = (rA)B = A(rB)$ for any scalar $r\\in \\mathbb{R}$.\n",
    "5. $I_mA = AI_n = A$\n",
    "\n",
    "### Transpose and Inverse:\n",
    "\n",
    "Given an $m\\times n$ matrix $A$, the transpose of $A$ is the $n\\times m$ matrix denoted by $A^T$, whose columns are the corresponding rows of $A$.\n",
    "\n",
    "__Example 5:__\n",
    "\n",
    "If $M = \\begin{bmatrix} 1 & 2 \\\\ 3 & 4 \\\\ 5 & 6 \\end{bmatrix}$, then $M^T = \\begin{bmatrix} 1 & 3 & 5 \\\\ 2 & 4 & 6 \\end{bmatrix}$.\n"
   ]
  },
  {
   "cell_type": "code",
   "execution_count": 10,
   "metadata": {},
   "outputs": [
    {
     "name": "stdout",
     "output_type": "stream",
     "text": [
      "M = \n",
      " [[1 2]\n",
      " [3 4]\n",
      " [5 6]] \n",
      "\n",
      " M_T = \n",
      " [[1 3 5]\n",
      " [2 4 6]]\n"
     ]
    }
   ],
   "source": [
    "M = np.array([[1,2],[3, 4],[5,6]])\n",
    "\n",
    "#Compute the the transpose of M\n",
    "M_T = M.transpose()\n",
    "\n",
    "print(\"M =\", '\\n', M, '\\n\\n', \"M_T =\",'\\n', M_T)"
   ]
  },
  {
   "cell_type": "markdown",
   "metadata": {},
   "source": [
    "### Inverse of a square matrix\n",
    "\n",
    "An $n\\times n$ matrix $A$ is called invertible if there exists an $n\\times n$ matrix $B$ such that $AB = BA = I_n$. In this case, $B$ is referred to as the inverse of $A$, denoted as $A^{-1}$. It is important to note that not all matrices are invertible and are sometimes referred to as singular.\n",
    "\n",
    "__Theorem 3:__\n",
    "\n",
    "Let $A= \\begin{bmatrix} a & b \\\\ c & d\\\\ \\end{bmatrix}$. If $ad-bc \\neq 0$, then $A$ is invertible, and its inverse is given by:\n",
    "\n",
    "$$\n",
    "A^{-1}= \\frac{1}{ad-bc}\\begin{bmatrix} d & -b \\\\ -c & a\\\\ \\end{bmatrix}\n",
    "$$\n",
    "\n",
    "$ad-bc$ is called the determinant of matrix A. The determinant plays a crucial role in determining the invertibility of a square matrix. If the determinant is zero, i.e., $ad-bc = 0$, then matrix A is not invertible. Determinants of matrices will be discussed in the next section, where we will explore their properties and computation methods.\n",
    "\n",
    "__Example 6:__\n",
    "\n",
    "1. Find the inverse of $M= \\begin{bmatrix} 1 & 2 \\\\ 3 & 4\\\\ \\end{bmatrix}$.\n",
    "2. Find the inverse of $N= \\begin{bmatrix} 1 & 2 \\\\ 2 & 4\\\\ \\end{bmatrix}$.\n",
    "\n",
    "Solution:\n",
    "\n",
    "To find the inverse of a $2\\times 2$ matrix, we can write a Python code that performs the computation."
   ]
  },
  {
   "cell_type": "code",
   "execution_count": 15,
   "metadata": {},
   "outputs": [],
   "source": [
    "M = np.array([[1, 2], [3, 4]])\n",
    "N = np.array([[1, 2], [2, 4]])\n",
    "\n",
    "# Compute the inverse\n",
    "def inverse_matrix(matrix):\n",
    "    a, b = matrix[0]\n",
    "    c, d = matrix[1]\n",
    "    \n",
    "    det = a * d - b * c\n",
    "\n",
    "    if det == 0:\n",
    "        print(matrix, \"is not invertible\")\n",
    "    else:\n",
    "        D = 1 / det    \n",
    "        inverse = np.zeros((2, 2))\n",
    "        inverse[0, 0] = D * d\n",
    "        inverse[0, 1] = -D * b\n",
    "        inverse[1, 0] = -D * c\n",
    "        inverse[1, 1] = D * a\n",
    "\n",
    "        print(inverse)"
   ]
  },
  {
   "cell_type": "code",
   "execution_count": 16,
   "metadata": {},
   "outputs": [
    {
     "name": "stdout",
     "output_type": "stream",
     "text": [
      "[[-2.   1. ]\n",
      " [ 1.5 -0.5]]\n"
     ]
    }
   ],
   "source": [
    "inverse_matrix(M)"
   ]
  },
  {
   "cell_type": "code",
   "execution_count": 17,
   "metadata": {},
   "outputs": [
    {
     "name": "stdout",
     "output_type": "stream",
     "text": [
      "[[1 2]\n",
      " [2 4]] is not invertible\n"
     ]
    }
   ],
   "source": [
    "inverse_matrix(N)"
   ]
  },
  {
   "cell_type": "markdown",
   "metadata": {},
   "source": [
    "__Theorem 3__ (Properties of the inverse matrix)\n",
    "\n",
    "Let $A$ and $B$ be two invertible $n\\times n$ matrices.\n",
    "\n",
    "1. $(A^{-1})^{-1} = A$\n",
    "2. $(AB)^{-1} = B^{-1}A^{-1}$\n",
    "3. $(A^{T})^{-1} = (A^{-1})^{T}$\n",
    "\n",
    "\n",
    "### Computing the inverse of a matrix\n",
    "\n",
    "__Theorem 4__\n",
    "\n",
    "An $n\\times n$ matrix $A$ is invertible if and only if it is row equivalent to the identity matrix $I_n$. \n",
    "\n",
    "\n",
    "We can use this theorem to find the inverse of a matrix using the row reduction method: set up the augmented matrix $[A|I_n]$ and perform row operations until the left side of the augmented matrix becomes the identity matrix $I_n$. If this is achieved, then the right side of the augmented matrix will be the inverse of $A$. Otherwise, if the left side does not become $I_n$, then the matrix $A$ is not invertible.\n",
    "\n",
    "\n",
    "__Example 7__ \n",
    "\n",
    "Find the inverse of $M= \\begin{bmatrix} 0 & 1 & 2\\\\ 1 & 0 & 3\\\\ 4 & -3 & 8 \\end{bmatrix}$.\n",
    "\n",
    "__Solution__ Lets set up the augmented matrix and find its RREF:\n",
    "\n",
    "\n",
    "$$[M|I_3]= \\begin{bmatrix} 0 & 1 & 2 && 1 & 0 & 0\\\\ 1 & 0 & 3 &&  0 & 0 & 1 \\\\ 4 & -3 & 8 && 0 & 0 & 1\\end{bmatrix}$$"
   ]
  },
  {
   "cell_type": "code",
   "execution_count": 18,
   "metadata": {},
   "outputs": [
    {
     "data": {
      "text/plain": [
       "array([[ 0,  1,  2,  1,  0,  0],\n",
       "       [ 1,  0,  3,  0,  1,  0],\n",
       "       [ 4, -3,  8,  0,  0,  1]])"
      ]
     },
     "execution_count": 18,
     "metadata": {},
     "output_type": "execute_result"
    }
   ],
   "source": [
    "A = np.array([[0,1,2, 1,0,0], [1,0,3, 0, 1, 0], [4, -3, 8, 0, 0, 1]])\n",
    "A"
   ]
  },
  {
   "cell_type": "code",
   "execution_count": 21,
   "metadata": {},
   "outputs": [],
   "source": [
    "# Elementry row operations:\n",
    "\n",
    "# Swap two rows\n",
    "\n",
    "def swap(matrix, row1, row2):\n",
    "    \n",
    "    copy_matrix=np.copy(matrix).astype('float64') \n",
    "  \n",
    "    copy_matrix[row1,:] = matrix[row2,:]\n",
    "    copy_matrix[row2,:] = matrix[row1,:]\n",
    "    \n",
    "    return copy_matrix\n",
    "\n",
    "\n",
    "# Multiple all entries in a row by a nonzero number\n",
    "\n",
    "\n",
    "def scale(matrix, row, scalar):\n",
    "    copy_matrix=np.copy(matrix).astype('float64') \n",
    "    copy_matrix[row,:] = scalar*matrix[row,:]  \n",
    "    return copy_matrix\n",
    "\n",
    "# Replacing a row by the sum of itself and a multiple of another \n",
    "\n",
    "def replace(matrix, row1, row2, scalar):\n",
    "    copy_matrix=np.copy(matrix).astype('float64')\n",
    "    copy_matrix[row1] = matrix[row1]+ scalar * matrix[row2] \n",
    "    return copy_matrix"
   ]
  },
  {
   "cell_type": "code",
   "execution_count": 22,
   "metadata": {},
   "outputs": [
    {
     "data": {
      "text/plain": [
       "array([[ 1.,  0.,  3.,  0.,  1.,  0.],\n",
       "       [ 0.,  1.,  2.,  1.,  0.,  0.],\n",
       "       [ 4., -3.,  8.,  0.,  0.,  1.]])"
      ]
     },
     "execution_count": 22,
     "metadata": {},
     "output_type": "execute_result"
    }
   ],
   "source": [
    "A_1 = swap(A, 0, 1)\n",
    "A_1"
   ]
  },
  {
   "cell_type": "code",
   "execution_count": 23,
   "metadata": {},
   "outputs": [
    {
     "data": {
      "text/plain": [
       "array([[ 1.,  0.,  3.,  0.,  1.,  0.],\n",
       "       [ 0.,  1.,  2.,  1.,  0.,  0.],\n",
       "       [ 0., -3., -4.,  0., -4.,  1.]])"
      ]
     },
     "execution_count": 23,
     "metadata": {},
     "output_type": "execute_result"
    }
   ],
   "source": [
    "A_2 = replace(A_1, 2, 0, -4)\n",
    "A_2"
   ]
  },
  {
   "cell_type": "code",
   "execution_count": 24,
   "metadata": {},
   "outputs": [
    {
     "data": {
      "text/plain": [
       "array([[ 1.,  0.,  3.,  0.,  1.,  0.],\n",
       "       [ 0.,  1.,  2.,  1.,  0.,  0.],\n",
       "       [ 0.,  0.,  2.,  3., -4.,  1.]])"
      ]
     },
     "execution_count": 24,
     "metadata": {},
     "output_type": "execute_result"
    }
   ],
   "source": [
    "A_3 = replace(A_2, 2, 1, 3)\n",
    "A_3"
   ]
  },
  {
   "cell_type": "code",
   "execution_count": 25,
   "metadata": {},
   "outputs": [
    {
     "data": {
      "text/plain": [
       "array([[ 1. ,  0. ,  3. ,  0. ,  1. ,  0. ],\n",
       "       [ 0. ,  1. ,  2. ,  1. ,  0. ,  0. ],\n",
       "       [ 0. ,  0. ,  1. ,  1.5, -2. ,  0.5]])"
      ]
     },
     "execution_count": 25,
     "metadata": {},
     "output_type": "execute_result"
    }
   ],
   "source": [
    "A_4 = scale(A_3, 2, 1/2)\n",
    "A_4"
   ]
  },
  {
   "cell_type": "code",
   "execution_count": 26,
   "metadata": {},
   "outputs": [
    {
     "data": {
      "text/plain": [
       "array([[ 1. ,  0. ,  3. ,  0. ,  1. ,  0. ],\n",
       "       [ 0. ,  1. ,  0. , -2. ,  4. , -1. ],\n",
       "       [ 0. ,  0. ,  1. ,  1.5, -2. ,  0.5]])"
      ]
     },
     "execution_count": 26,
     "metadata": {},
     "output_type": "execute_result"
    }
   ],
   "source": [
    "A_5 = replace(A_4, 1, 2, -2)\n",
    "A_5"
   ]
  },
  {
   "cell_type": "code",
   "execution_count": 27,
   "metadata": {},
   "outputs": [
    {
     "data": {
      "text/plain": [
       "array([[ 1. ,  0. ,  0. , -4.5,  7. , -1.5],\n",
       "       [ 0. ,  1. ,  0. , -2. ,  4. , -1. ],\n",
       "       [ 0. ,  0. ,  1. ,  1.5, -2. ,  0.5]])"
      ]
     },
     "execution_count": 27,
     "metadata": {},
     "output_type": "execute_result"
    }
   ],
   "source": [
    "A_6 = replace(A_5, 0, 2, -3)\n",
    "A_6"
   ]
  },
  {
   "cell_type": "markdown",
   "metadata": {},
   "source": [
    "We can see that the resulting matrix is in the form $[I_3, B]$. Thus, $B= \\begin{bmatrix} -4.5 & 7 & -1.5\\\\ -2 &  4 & -1 \\\\ 1.5 & -2 & 0.5 \\\\ \\end{bmatrix}$ is the inverse of $M$."
   ]
  },
  {
   "cell_type": "markdown",
   "metadata": {},
   "source": [
    "__Theorem 4__ (The Invertible Matrix Theorem)\n",
    "\n",
    "Let $A$ be an $n\\times n$ matrix. The following statements are equivalent:\n",
    "\n",
    "1. $A$ is an invertible matrix.\n",
    "2. $A$ is row equivalent to $I_n$.\n",
    "3. The equation $A\\vec{x}=0$ has only the trivial solution ($\\vec{x} = \\mathbf{0}$).\n",
    "4. The columns of $A$ form a linearly independent set.\n",
    "5. The equation $A\\vec{x}=\\vec{b}$ has a unique solution ($\\vec{x} = A^{-1}\\vec{b}$).\n",
    "6. The columns of $A$ span $\\mathbb{R}^n$.\n",
    "\n",
    "__Example 8__\n",
    "\n",
    "Find the solution set of the following linear systems:\n",
    "\n",
    "1. $M\\vec{x}=0$, where $M$ is the matrix from Example 7.\n",
    "\n",
    "__Solution:__ Since $M$ is invertible, by the Invertible Matrix Theorem (IMT) part (3), the only solution to $M\\vec{x}=0$ is the zero vector $\\vec{x}=\\mathbf{0}$.\n",
    "\n",
    "2. $M\\vec{x}=\\vec{b}$, where $M$ is the matrix from Example 7 and $\\vec{b}=\\begin{bmatrix} 1 \\\\ 2 \\\\ 3 \\end{bmatrix}$.\n",
    "\n",
    "__Solution:__ By IMT part (5), the only solution to $M\\vec{x}=\\vec{b}$ is $\\vec{x}=M^{-1}\\vec{b}$. In Example 7, we computed the inverse of $M$:\n",
    "\n",
    "$A^{-1} = \\begin{bmatrix} -4.5 & 7 & -1.5 \\\\ -2 & 4 & -1 \\\\ 1.5 & -2 & 0.5 \\end{bmatrix}$\n",
    "\n",
    "In the following cell, we use $B$ to represent $A^-1$ in order to simplify notation:"
   ]
  },
  {
   "cell_type": "code",
   "execution_count": 29,
   "metadata": {},
   "outputs": [
    {
     "data": {
      "text/plain": [
       "array([[ 5.],\n",
       "       [ 3.],\n",
       "       [-1.]])"
      ]
     },
     "execution_count": 29,
     "metadata": {},
     "output_type": "execute_result"
    }
   ],
   "source": [
    "B= np.array([[-4.5, 7, -1.5], [-2, 4, -1], [1.5, -2, 0.5]])\n",
    "\n",
    "b = np.array ([[1], [2], [3]])\n",
    "\n",
    "#compute Bb\n",
    "\n",
    "x = np.dot(B,b)\n",
    "x"
   ]
  },
  {
   "cell_type": "markdown",
   "metadata": {},
   "source": [
    "Lets check our solution: "
   ]
  },
  {
   "cell_type": "code",
   "execution_count": 30,
   "metadata": {},
   "outputs": [
    {
     "data": {
      "text/plain": [
       "array([[1.],\n",
       "       [2.],\n",
       "       [3.]])"
      ]
     },
     "execution_count": 30,
     "metadata": {},
     "output_type": "execute_result"
    }
   ],
   "source": [
    "M = np.array([[0,1,2], [1,0,3], [4,-3,8]])\n",
    "\n",
    "#compute Mx\n",
    "\n",
    "Mx= np.dot(M,x) \n",
    "Mx"
   ]
  },
  {
   "cell_type": "markdown",
   "metadata": {},
   "source": [
    "which is equal to $\\vec{b}$!"
   ]
  },
  {
   "cell_type": "markdown",
   "metadata": {},
   "source": [
    "__Exercises:__\n",
    "\n",
    "1. Which pair of the following matrices can be multiplied? Compute their matrix product.\n",
    "\n",
    "$A = \\begin{bmatrix}\n",
    "1 & 3 \\\\\n",
    "4 & -2 \\\\\n",
    "3 & 2\n",
    "\\end{bmatrix}$\n",
    "\n",
    "$B = \\begin{bmatrix}\n",
    "1 & 4 & 5\\\\\n",
    "0 & 2  & 3\n",
    "\\end{bmatrix}$ \n",
    "\n",
    "\n",
    "$C = \\begin{bmatrix}\n",
    "1 & 3 & 0\\\\\n",
    "2 & -1  & 3 \\\\\n",
    "0 & 1 & 1\n",
    "\\end{bmatrix}$ \n",
    "\n",
    "\n",
    "2. Find two matrices $A$ and $B$ such that the products $AB$ and $BA$ are defined but $AB \\neq BA$.\n",
    "\n",
    "\n",
    "3.  Given $A= \\begin{bmatrix}\n",
    "1 & 2 \\\\ 1& 2\n",
    "\\end{bmatrix}$, find a nonzero matrix  $C$ for which $AC= \\begin{bmatrix}\n",
    "0 & 0 \\\\ 0 & 0\n",
    "\\end{bmatrix}$.\n",
    "\n",
    "\n",
    "4. Suppose $A= \\begin{bmatrix}\n",
    "1 & 2 \\\\\n",
    "0 & -1 \\\\\n",
    "3 & 0\n",
    "\\end{bmatrix}$\n",
    "\n",
    "    (a) Compute $A^T$.\n",
    "    \n",
    "    (b) Is $AA^T$ invertible? \n",
    "    \n",
    "    (c) Is $A^TA$ invertible?"
   ]
  },
  {
   "cell_type": "code",
   "execution_count": null,
   "metadata": {},
   "outputs": [],
   "source": []
  }
 ],
 "metadata": {
  "kernelspec": {
   "display_name": "Python 3",
   "language": "python",
   "name": "python3"
  },
  "language_info": {
   "codemirror_mode": {
    "name": "ipython",
    "version": 3
   },
   "file_extension": ".py",
   "mimetype": "text/x-python",
   "name": "python",
   "nbconvert_exporter": "python",
   "pygments_lexer": "ipython3",
   "version": "3.8.5"
  }
 },
 "nbformat": 4,
 "nbformat_minor": 4
}
