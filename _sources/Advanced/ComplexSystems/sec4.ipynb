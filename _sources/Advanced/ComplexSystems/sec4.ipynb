{
 "cells": [
  {
   "cell_type": "markdown",
   "id": "bb05057d",
   "metadata": {},
   "source": [
    "# Societal Applications"
   ]
  },
  {
   "cell_type": "markdown",
   "id": "33f0a3f0",
   "metadata": {},
   "source": [
    "Perhaps the most obvious example of complex social systems and justification for urban science is the proliferation of large metropolitan cities.}\n",
    "\n",
    "<ul>\n",
    "    <li>RAPID URBANIZATION: The vast majority of those living a traditional subsistent existence are projected to move to urban environments. In 2007, the world's urban population surpassed the rural, and in 2021, the latter peaked and is now in decline [Bettencourt 2021]. The emergence of major metropolitan areas has shifted inter-connectivity of people from familiar local relations to global business between strangers.</li>\n",
    "<li>TRANSFORMATIVE POWER: Urban environments have enormous transformative power which compels a scientific understanding of how cities grow and impact their environment. There is a positive correlation between  urbanization and economic and human development [Bettencourt 2021]. Informed/uninformed political decisions influencing large, high-density masses of people may support or destroy civilization.</li></ul>\n",
    "\n",
    "### Incarceration and Parole\n",
    "The penal population is large and complex, and every individual in this population is different. The state of each offender (incarcerated, parole, not incarcerated, not on parole) is important and must be tracked. The macroscopic state (percentage in each category) while in flux, may be expected to approach a steady state in the absence of policy changes.\n",
    "Raphael [2011] describes a dynamical system categorizing the U.S. population into one of three states: (a) Not Incarcerated, Not on Parole, (b) Incarcerated, (c) Parole.  Table 1 gives the probability that an individual will transition from one state to another in 1980 and also in 2005. Determining the steady state populations associated with these transition probabilities is one way to assess improvement or deterioration of the criminal justice system over this 25 year period. \n",
    "\n",
    "To this end, in 1980, the probability that someone on Parole (third row) transitioned to Not Incarcerated, Not on Parole was roughly .40; the probability that someone on Parole transitioned to being Incarcerated was .13; and the probability that a person on Parole remained on Parole was .47.  Notice that the sum .40+.13+.47 =1 since the three states are the only possible states to which a parolee can transition.  Each of the rows in the transition matrices must add to 1 for the same reason.  \n",
    "\n",
    " <img src=\"Table1.png\" width=\"400px\"> \n",
    "\n",
    "Transition matrices can be used to compute the equilibrium levels for each of the 3 groups (Not Incarcerated, Not on Parole, Incarcerated, Parole).  The steady states are the proportion of the total population comprised by each group.  \n",
    "\n",
    "We now describe mathematically how the steady state incarcerated is computed for 1980 using a simplified transition probability matrix based on section A of Table 1.  Consider the transition matrix $M$ defined as follows:\n",
    "\n",
    "$$\n",
    "\\begin{pmatrix}\n",
    ".999 & .08 & .4\\\\\n",
    ".001 & .53 & .13\\\\\n",
    "0 & .39 & .47\n",
    "\\end{pmatrix}\n",
    "$$\n",
    "\n",
    "Note that this is the transpose of the entries in Table 1.\n",
    "\n",
    "\n",
    "Let the steady state population levels be $x_1$ (Not incarcerated, Not on parole), $x_2$ (Incarcerated), $x_3$ (Parole). Then $x_1$, $x_2$, $x_3$ as steady state values must by definition satisfy $x_1+x_2+x_3=1$ and also \n",
    "\n",
    "$$\n",
    "\\begin{pmatrix}\n",
    ".999 & .08 & .4\\\\\n",
    ".001 & .53 & .13\\\\\n",
    "0 & .39 & .47\n",
    "\\end{pmatrix}\n",
    "\\begin{pmatrix}\n",
    "x_1  \\\\\n",
    "x_2 \\\\\n",
    "x_3 \n",
    "\\end{pmatrix}\n",
    "=\n",
    "\\begin{pmatrix}\n",
    "x_1  \\\\\n",
    "x_2 \\\\\n",
    "x_3 \n",
    "\\end{pmatrix}.\n",
    "$$\n",
    "\n",
    "Thus the steady state is an eigenvector of the transition matrix $M$ with eigenvalue 1.  \n",
    "\n",
    "$$\n",
    "\\begin{pmatrix}\n",
    "x_1 \\\\\n",
    "x_2 \\\\\n",
    "x_3 \n",
    "\\end{pmatrix}\n",
    "=\n",
    "\\begin{pmatrix}\n",
    "    .995\\\\\n",
    "    .003\\\\\n",
    "    .002\n",
    "\\end{pmatrix}\n",
    "$$\n",
    "\n",
    "Since $x_1= .995$, $x_2=.003$, and $x_3=.002$ the Not Incarcerated, Not on Parole population  steady state proportion is $99.5\\%$ of the total  population. The steady state Incarcerated population is .3\\% and the Parole population is .2\\%. An equilibrium is stable if nearby  states converge to the equilibrium state as time progresses.  Otherwise, the equilibrium is unstable. In this case, the graph shown below suggests these equilibrium values are stable.\n",
    "\n",
    " <img src=\"fig16.png\" width=\"300px\"> \n",
    " \n"
   ]
  },
  {
   "cell_type": "markdown",
   "id": "985a48b5",
   "metadata": {},
   "source": [
    "### Exercise"
   ]
  },
  {
   "cell_type": "markdown",
   "id": "9c1fb25e",
   "metadata": {},
   "source": [
    "```{admonition} Exercise\n",
    "4.1.1  Find the steady state values for 2005 and comment on its similarities/ differences with the steady state values for 1980.\n",
    "\n",
    "```"
   ]
  },
  {
   "cell_type": "markdown",
   "id": "529a4d14",
   "metadata": {},
   "source": [
    "## Job Diversification\n",
    "\n",
    "Another interesting and important question about cities is their degree of business diversification. According to US Bureau of Labor Statistics data (https://www.bls.gov/oes/tables.htm) Abilene, TX has over 70,000 jobs which can be classfied into 290 types. Using data for a large number of cities, one can look for a scaling law of the form\n",
    "\n",
    "$$\n",
    "    D_S(N)=c N^s.\n",
    "$$\n",
    "\n",
    "where $D_S(N)$ is the expected number of different job types for a city of size $N$.\n",
    "(Note that the value of $D_S(N)$ depends on the resolution of job classification.) Then as before, one can use SAMI to assess the amount of job diversification for a given city.\n",
    "\n",
    "Business types have various classifications, including the North American Industry Classification System (NAICS), a hierarchical taxonomy (resolution levels 2-6 with 2 a broad sector such as 71 arts and entertainment and 6 the most specific classification such as 711110 dinner theater) of business types. The histogram in the figure below gives the number of jobs in each job type. Abilene TX has over 70,000 jobs classfied into 290 types. (Data Source: US Bureau of Labor Statistics https://www.bls.gov/oes/tables.htm}\n",
    "\n",
    "\n",
    " <img src=\"fig18.png\" width=\"5000px\"> \n",
    " \n",
    "\n",
    "Data for this histogram specifies empirical probabilities that a job is of a given type.  Thus, the types can be ranked in terms of decreasing empirical probabilities.  The Shannon entropy $H=-\\sum_{i=1}^{D_S} P(i\\mid N)\\ln P(i\\mid N)$ where $D_S=290$ is thus a more sophisticated measure of diversification.  \n",
    "\n"
   ]
  },
  {
   "cell_type": "markdown",
   "id": "d7c51175",
   "metadata": {},
   "source": [
    "### Exercise"
   ]
  },
  {
   "cell_type": "markdown",
   "id": "0f337730",
   "metadata": {},
   "source": [
    "```{admonition} Exercises\n",
    "\n",
    "4.3.1 Do a SAMI analysis of $D_S(N)$ using the US Bureau of Labor Statistics data (https://www.bls.gov/oes/tables.htm} \n",
    "\n",
    "4.3.2}Do a SAMI analysis of the entropy measure of diversification. Where does Abilene, TX fall on this measure?\n",
    "\n",
    "```"
   ]
  },
  {
   "cell_type": "markdown",
   "id": "7b83e2b0",
   "metadata": {},
   "source": [
    "## Disorder in IDP Camps\n",
    "\n",
    "Between Nov 2020 and Nov 2022, the Tigray region in northern Ethiopia suffered a horrific civil war. At one point their were an estimated 2.5 million internally displaced people (IDP) out of a population of 6-7 million. Even a year after the Pretoria Peace agreement, fighting by tribal milita continued in western Tigray, leaving 1 million IDPs living in over 30,000 IDP camps scattered across most of Tigray. With insufficient resources to create humane living conditions in all the camps, a question arises as to which camps had the greatest need for outside humanitarian support? We will will address this question using the idea of entropy to obtain a simple quantitative measure of the amount of disorder within an IDP camp, and hence a way to rank camps by degree of disorder. We will then apply SAMI to account for camp size."
   ]
  },
  {
   "cell_type": "code",
   "execution_count": null,
   "id": "8708cd63",
   "metadata": {},
   "outputs": [],
   "source": []
  }
 ],
 "metadata": {
  "kernelspec": {
   "display_name": "Python 3",
   "language": "python",
   "name": "python3"
  },
  "language_info": {
   "codemirror_mode": {
    "name": "ipython",
    "version": 3
   },
   "file_extension": ".py",
   "mimetype": "text/x-python",
   "name": "python",
   "nbconvert_exporter": "python",
   "pygments_lexer": "ipython3",
   "version": "3.8.8"
  }
 },
 "nbformat": 4,
 "nbformat_minor": 5
}
