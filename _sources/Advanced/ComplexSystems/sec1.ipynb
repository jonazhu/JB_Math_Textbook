{
 "cells": [
  {
   "cell_type": "markdown",
   "id": "40272062",
   "metadata": {},
   "source": [
    "# 1. Introduction"
   ]
  },
  {
   "cell_type": "markdown",
   "id": "38932ac5",
   "metadata": {},
   "source": [
    " This chapter offers a brief introduction to complex system science. Complexity is an intuitive concept which arises across disciplines.  The science of complex systems seeks to develop a rigorous methodology  for analyzing complex systems arising from interactions involving a large number of constituent parts or agents. The methods utilize undergraduate level mathematics, including calculus, differential equations, and probability and statistics.  Our goal is to show how quantitative methods support basic notions of complex systems, and how they offer a perspective on practical questions in complex human society. \n",
    " \n",
    ".  \n",
    "\n",
    "\n",
    " \n",
    "\n",
    "\n",
    " \n",
    " \n",
    " From a humanitarian standpoint, two goals of complex system science include:\n",
    "\n",
    "<ul>\n",
    "    <li>prevent dangerous misunderstanding and unjust practices associated with an erroneous  view of complex social/environmental systems.</li>\n",
    "    <li>provide insights which can help facilitate enduring solutions to complex societal </li>problems.\n",
    "</ul>\n",
    "\n",
    "For example,  urban redlining maps in the 1920's  which classified neighborhoods with high density of African Americans as `hazardous' and deemed mortgages not insurable by F.H.A. permanently crippled Black home ownership (left panel of figure below). On the other hand,   Robert Sampson [2012] introduced a concept called \\emph{collective efficacy} (cooperation between community members) suggesting that violent crime reduction might be facilitated by  a coherent community-based approach (right panel).\n",
    "\n",
    " <img src=\"fig1.png\" width=\"600px\">   \n",
    "    \n",
    "Home Owners' Loan Corporation neighborhood classifications and present day city owned empty lots. (Map Credit: Claire Wagner   (Right) Collective efficacy (CE) levels and homicides (map credit: Robert Sampson https://www.youtube.com/watch?v=gEXSOUqwztA)\n",
    "\n",
    "\n",
    "\n",
    "This Module is organized into three sections:\n",
    "\n",
    "<ul>\n",
    "    <li>Fundamental Concepts (Section 2);</li>\n",
    "<li> Mathematical Formalism from Statistical Physics (Section 3); </li>\n",
    "<li>Societal Applications (Section 4).</li>\n",
    "    </ul>\n",
    "\n",
    "\n",
    "Note that an assumption about the degree of homogeneity of the constituent parts of a system is related to the sophistication of a model of the system. Statistical physics methodology applied to an ensemble of identical particles is simpler than application to a society comprised of unique individuals with different values, decision-making, etc.. Complex systems where a homogeneity assumption of the constituent units is reasonable (eg. large flock of birds in synchronized flight)  are more amenable to mathematical approaches. \n",
    "    \n",
    "By analogy, the figure below suggests that a jig saw puzzle with only 1 or 2 types of pieces will be less complex than a jigsaw puzzle where each piece is unique.  For complex problems in human society, a major challenge is how to limit the characteristics of constituent parts so the entire population is subdivided into major types whose analysis gives a good picture of the state of the system as a whole. (Such a strategy is also used within statistical physics in the form of the renormalization group approach [Bertin 2021].)\n",
    "    \n",
    " <img src=\"fig2.png\" width=\"600px\"> \n",
    "    \n",
    "Left: 1 piece jigsaw puzzle (crystal) Center: 2 piece 'kite and dart' jigsaw puzzle (quasicrystal) (Right) Random piece jigsaw puzzle (complex)\n",
    "\n"
   ]
  }
 ],
 "metadata": {
  "kernelspec": {
   "display_name": "Python 3 (ipykernel)",
   "language": "python",
   "name": "python3"
  },
  "language_info": {
   "codemirror_mode": {
    "name": "ipython",
    "version": 3
   },
   "file_extension": ".py",
   "mimetype": "text/x-python",
   "name": "python",
   "nbconvert_exporter": "python",
   "pygments_lexer": "ipython3",
   "version": "3.11.3"
  }
 },
 "nbformat": 4,
 "nbformat_minor": 5
}
