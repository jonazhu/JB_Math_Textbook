{
 "cells": [
  {
   "cell_type": "code",
   "execution_count": 24,
   "id": "05c23635",
   "metadata": {
    "tags": [
     "hide-input"
    ]
   },
   "outputs": [],
   "source": [
    "# import libraries\n",
    "import pandas as pd\n",
    "\n",
    "# change this to your own data directory\n",
    "data_dir = \"data/\"\n",
    "\n",
    "# read and preprocess data\n",
    "text_file_name = \"osdg-community-data-v2023-01-01.csv\"\n",
    "text_df = pd.read_csv(data_dir + text_file_name,sep = \"\\t\",  quotechar='\"')\n",
    "col_names = text_df.columns.values[0].split('\\t')\n",
    "text_df[col_names] = text_df[text_df.columns.values[0]].apply(lambda x: pd.Series(str(x).split(\"\\t\")))\n",
    "text_df = text_df.astype({'sdg':int, 'labels_negative': int, 'labels_positive':int, 'agreement': float}, copy=True)\n",
    "text_df.drop(text_df.columns.values[0], axis=1, inplace=True)"
   ]
  },
  {
   "cell_type": "markdown",
   "id": "559b0513",
   "metadata": {},
   "source": [
    "# Solutions to Exercises"
   ]
  },
  {
   "cell_type": "markdown",
   "id": "082a4bed",
   "metadata": {},
   "source": [
    "## 1. Preprocessing"
   ]
  },
  {
   "cell_type": "markdown",
   "id": "cfa8fd66",
   "metadata": {},
   "source": [
    "### Exercise 1.1\n",
    "\n",
    "### Exercise 1.2\n",
    "\n",
    "### Exercise 1.3\n",
    "The following code removes any rows that contain only N/A values. In this case, there are no such rows to remove."
   ]
  },
  {
   "cell_type": "code",
   "execution_count": 25,
   "id": "481928bf-939f-4b7c-84d7-02858271201e",
   "metadata": {},
   "outputs": [
    {
     "name": "stdout",
     "output_type": "stream",
     "text": [
      "Number of rows removed: 0\n"
     ]
    }
   ],
   "source": [
    "nrows_old = text_df.shape[0]\n",
    "text_df.dropna(axis=0, how='all', inplace=True)\n",
    "print(\"Number of rows removed:\", nrows_old - text_df.shape[0])"
   ]
  },
  {
   "cell_type": "markdown",
   "id": "fc2d0090-88ce-4d17-8be0-317493c0a5cc",
   "metadata": {},
   "source": [
    "The next line of code checks for the existence of any remaining N/A values. It turns out that there are none."
   ]
  },
  {
   "cell_type": "code",
   "execution_count": 26,
   "id": "0ced324a-f4ee-4f87-8ae7-1519afc5b866",
   "metadata": {},
   "outputs": [
    {
     "data": {
      "text/plain": [
       "doi                False\n",
       "text_id            False\n",
       "text               False\n",
       "sdg                False\n",
       "labels_negative    False\n",
       "labels_positive    False\n",
       "agreement          False\n",
       "dtype: bool"
      ]
     },
     "execution_count": 26,
     "metadata": {},
     "output_type": "execute_result"
    }
   ],
   "source": [
    "text_df.isna().any()"
   ]
  },
  {
   "cell_type": "markdown",
   "id": "3baa2651-fa3a-4da4-8510-dc24be08f7fe",
   "metadata": {},
   "source": [
    "Whether or not entries with N/A values should be removed depends on the dataset and the nature of the problem. Sometimes, entries with N/A values should be dropped, while at other times, they should be kept unchanged, or replaced with interpolated or placeholder values. Consult [the `pandas` documentation](https://pandas.pydata.org/pandas-docs/stable/user_guide/missing_data.html) for more information about how to deal with missing values in dataframes.\n",
    "\n",
    "### Exercise 1.4\n",
    "\n",
    "After filtering the dataset, we inspect it using the `info()` function."
   ]
  },
  {
   "cell_type": "code",
   "execution_count": 27,
   "id": "04b5fd3d-9258-4061-8068-7ca371ae56a7",
   "metadata": {},
   "outputs": [
    {
     "name": "stdout",
     "output_type": "stream",
     "text": [
      "<class 'pandas.core.frame.DataFrame'>\n",
      "RangeIndex: 24669 entries, 0 to 24668\n",
      "Data columns (total 7 columns):\n",
      " #   Column           Non-Null Count  Dtype  \n",
      "---  ------           --------------  -----  \n",
      " 0   doi              24669 non-null  object \n",
      " 1   text_id          24669 non-null  object \n",
      " 2   text             24669 non-null  object \n",
      " 3   sdg              24669 non-null  int64  \n",
      " 4   labels_negative  24669 non-null  int64  \n",
      " 5   labels_positive  24669 non-null  int64  \n",
      " 6   agreement        24669 non-null  float64\n",
      "dtypes: float64(1), int64(3), object(3)\n",
      "memory usage: 1.3+ MB\n"
     ]
    }
   ],
   "source": [
    "# filter the dataset\n",
    "text_df = text_df.query(\"agreement > 0.5 and (labels_positive - labels_negative) > 2\")\n",
    "text_df.reset_index(inplace=True, drop=True)\n",
    "\n",
    "# inspect it\n",
    "text_df.info()"
   ]
  },
  {
   "cell_type": "markdown",
   "id": "1631456e-d47a-4d00-b412-d3345bc047da",
   "metadata": {},
   "source": [
    "We have 40062 entries with 7 features (see [section 0](sec0_data.ipynb) for details). The data types range from `object` (likely denoting strings) to `int64` (integers) to `float64` (floating-point numbers). This is a reasonable amount of data to work with."
   ]
  },
  {
   "cell_type": "code",
   "execution_count": null,
   "id": "dffd4e74-460b-491b-8672-562a1a5880f9",
   "metadata": {},
   "outputs": [],
   "source": []
  }
 ],
 "metadata": {
  "celltoolbar": "Edit Metadata",
  "kernelspec": {
   "display_name": "Python 3 (ipykernel)",
   "language": "python",
   "name": "python3"
  },
  "language_info": {
   "codemirror_mode": {
    "name": "ipython",
    "version": 3
   },
   "file_extension": ".py",
   "mimetype": "text/x-python",
   "name": "python",
   "nbconvert_exporter": "python",
   "pygments_lexer": "ipython3",
   "version": "3.12.3"
  }
 },
 "nbformat": 4,
 "nbformat_minor": 5
}
