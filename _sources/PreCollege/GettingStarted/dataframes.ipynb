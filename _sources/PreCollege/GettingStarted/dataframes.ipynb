{
 "cells": [
  {
   "cell_type": "markdown",
   "metadata": {},
   "source": [
    "# 7. Dataframes"
   ]
  },
  {
   "cell_type": "markdown",
   "metadata": {},
   "source": [
    "Dataframes are used extensively in the analysis of real world data. In this lab, we will use dataframes to review the basic Python skills we have introduced in this chapter:\n",
    "\n",
    "<ul>\n",
    "    <li> 1. (user-defined) functions </li>\n",
    "    <li> 2.the numpy library</li>\n",
    "    <li> 3. the pandas library  </li>\n",
    "    <li> 4. the matplotlib library </li>\n",
    "    <li> 5. for loops  </li>\n",
    "    <li> 6. if conditionals </li>\n",
    "    </ul>\n",
    "    \n",
    "In particular, we will use a dataframe called COVID to explore COVID-19 data imported directly from the City of Chicago's Data Portal.  "
   ]
  },
  {
   "cell_type": "markdown",
   "metadata": {},
   "source": [
    "1) Let's start by importing the  numpy and pandas libraries. In general, we will always begin by importing these two libraries."
   ]
  },
  {
   "cell_type": "code",
   "execution_count": 1,
   "metadata": {},
   "outputs": [],
   "source": [
    "import numpy as np\n",
    "import pandas as pd"
   ]
  },
  {
   "cell_type": "markdown",
   "metadata": {},
   "source": [
    "2) We can use pandas (pd) to get up-to-date info about COVID 19. Let's create a dataframe called rawCOVID containing data either by reading the excel file \"rawCOCID.xlsx\" (data as of June 27, 2023) or by importing the data directly from the Chicago Data Portal and then display the first line of this dataframe."
   ]
  },
  {
   "cell_type": "code",
   "execution_count": 2,
   "metadata": {},
   "outputs": [],
   "source": [
    "rawCOVID=pd.read_excel(\"rawCOVID.xlsx\")\n",
    "# rawCOVID=pd.read_json(\"https://data.cityofchicago.org/resource/yhhz-zm2v.json?$limit=5000000\")\n",
    "rawCOVID.head(1)"
   ]
  },
  {
   "cell_type": "markdown",
   "metadata": {},
   "source": [
    "3) Let's list just the columns in the rawCOVID dataframe."
   ]
  },
  {
   "cell_type": "code",
   "execution_count": 3,
   "metadata": {},
   "outputs": [],
   "source": [
    "rawCOVID.columns"
   ]
  },
  {
   "cell_type": "markdown",
   "metadata": {},
   "source": [
    "4) Let's get the number of rows and columns in our dataframe."
   ]
  },
  {
   "cell_type": "code",
   "execution_count": 4,
   "metadata": {},
   "outputs": [],
   "source": [
    "rawCOVID.shape"
   ]
  },
  {
   "cell_type": "markdown",
   "metadata": {},
   "source": [
    "5) Let's define a dataframe COVID which uses just 4 columns from rawCOVID: deaths_cumulative, population, tests_cumulative, and zip_code."
   ]
  },
  {
   "cell_type": "code",
   "execution_count": 5,
   "metadata": {},
   "outputs": [],
   "source": [
    "COVID=rawCOVID[[\"deaths_cumulative\", \"population\", \"tests_cumulative\",\"zip_code\"]]\n",
    "COVID.head(1)"
   ]
  },
  {
   "cell_type": "markdown",
   "metadata": {},
   "source": [
    "6) Let's shorten the column names."
   ]
  },
  {
   "cell_type": "code",
   "execution_count": 6,
   "metadata": {},
   "outputs": [],
   "source": [
    "COVID.columns=[\"deaths\",\"population\",\"tests\",\"zip\"]\n",
    "COVID.head(15)"
   ]
  },
  {
   "cell_type": "markdown",
   "metadata": {},
   "source": [
    "7) We can get the latest test info for zip 60604  by first creating a datframe df for that zip code, and then using max() to get the highest value in the \"tests\" column."
   ]
  },
  {
   "cell_type": "code",
   "execution_count": 7,
   "metadata": {},
   "outputs": [],
   "source": [
    "df = COVID[COVID[\"zip\"]=='60604']\n",
    "numtested=df[\"tests\"].max()\n",
    "numtested"
   ]
  },
  {
   "cell_type": "markdown",
   "metadata": {},
   "source": [
    "8) Let's define a function MyCOVID(COVID,zip) which allows us to enter a 5-digit zip code number and have the computer tell us how many tests, and the number of deaths."
   ]
  },
  {
   "cell_type": "code",
   "execution_count": 8,
   "metadata": {},
   "outputs": [],
   "source": [
    "def MyCOVID(COVID,zipcode):\n",
    "    alreadychecked=0  #eliminate duplication of information\n",
    "    for z in COVID.index:  #go through all the index values\n",
    "        if COVID.loc[z,\"zip\"]==zipcode and alreadychecked==0:    #found the zip we requested (first-time)\n",
    "            alreadychecked=1  #we will only process data for each zipcode once\n",
    "            df=COVID[COVID[\"zip\"]==zipcode]\n",
    "            numtested=df[\"tests\"].max()\n",
    "            numdeaths=df[\"deaths\"].max()\n",
    "            print(\"Zip code: \", COVID.loc[z,\"zip\"])\n",
    "            print(\"number tested is \", numtested)\n",
    "            print(\"number deaths \", numdeaths)\n",
    "    return (\"Enter a different zip code if you wish.\")"
   ]
  },
  {
   "cell_type": "markdown",
   "metadata": {},
   "source": [
    "9) Let's see if there's data for zipcode='60623'."
   ]
  },
  {
   "cell_type": "code",
   "execution_count": 9,
   "metadata": {},
   "outputs": [],
   "source": [
    "zipcode='60623'\n",
    "MyCOVID(COVID,zipcode)"
   ]
  },
  {
   "cell_type": "markdown",
   "metadata": {},
   "source": [
    "10) Now analyze zipicode='60637'"
   ]
  },
  {
   "cell_type": "code",
   "execution_count": 10,
   "metadata": {},
   "outputs": [],
   "source": [
    "zipcode='60637'\n",
    "MyCOVID(COVID,zipcode)"
   ]
  },
  {
   "cell_type": "markdown",
   "metadata": {},
   "source": [
    "<h4>Assignment</h4>\n",
    "Modify the MyCOVID function so that a function MyCOVID2 also includes the population of the input zipcode. Then check that your function works on zipcode='60637'"
   ]
  },
  {
   "cell_type": "code",
   "execution_count": 11,
   "metadata": {},
   "outputs": [],
   "source": [
    "# Define MyCOVID2\n"
   ]
  },
  {
   "cell_type": "code",
   "execution_count": 12,
   "metadata": {},
   "outputs": [],
   "source": [
    "# Check that the function is working"
   ]
  },
  {
   "cell_type": "markdown",
   "metadata": {},
   "source": [
    "<h4>Solution</h4>"
   ]
  },
  {
   "cell_type": "code",
   "execution_count": 13,
   "metadata": {},
   "outputs": [],
   "source": [
    "#Define MyCOVID2\n",
    "def MyCOVID2(COVID,zipcode):\n",
    "    alreadychecked=0  #eliminate duplication of information\n",
    "    for z in COVID.index:  #go through all the index values\n",
    "        if COVID.loc[z,\"zip\"]==zipcode and alreadychecked==0:    #found the zip we requested (first-time)\n",
    "            alreadychecked=1  #we will only do this once\n",
    "            df=COVID[COVID[\"zip\"]==zipcode]\n",
    "            population=df[\"population\"].max()\n",
    "            numtested=df[\"tests\"].max()\n",
    "            numdeaths=df[\"deaths\"].max()\n",
    "            print(\"Zip code: \", COVID.loc[z,\"zip\"])\n",
    "            print(\"population is \", population)\n",
    "            print(\"number tested is \", numtested)\n",
    "            print(\"number deaths \", numdeaths)\n",
    "    return (\"Enter a different zip code if you wish.\")"
   ]
  },
  {
   "cell_type": "code",
   "execution_count": 14,
   "metadata": {},
   "outputs": [],
   "source": [
    "# Check that the function is working\n",
    "MyCOVID2(COVID,'60637')"
   ]
  }
 ],
 "metadata": {
  "kernelspec": {
   "display_name": "Python 3 (ipykernel)",
   "language": "python",
   "name": "python3"
  },
  "language_info": {
   "codemirror_mode": {
    "name": "ipython",
    "version": 3
   },
   "file_extension": ".py",
   "mimetype": "text/x-python",
   "name": "python",
   "nbconvert_exporter": "python",
   "pygments_lexer": "ipython3",
   "version": "3.9.2"
  }
 },
 "nbformat": 4,
 "nbformat_minor": 2
}
