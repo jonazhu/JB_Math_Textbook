{
 "cells": [
  {
   "cell_type": "markdown",
   "metadata": {},
   "source": [
    "# 7. Dataframes"
   ]
  },
  {
   "cell_type": "markdown",
   "metadata": {},
   "source": [
    "Dataframes are used extensively in the analysis of real world data. In this lab, we will use dataframes to review the basic Python skills we have introduced in this chapter:\n",
    "\n",
    "<ul>\n",
    "    <li> 1. (user-defined) functions </li>\n",
    "    <li> 2.the numpy library</li>\n",
    "    <li> 3. the pandas library  </li>\n",
    "    <li> 4. the matplotlib library </li>\n",
    "    <li> 5. for loops  </li>\n",
    "    <li> 6. if conditionals </li>\n",
    "    </ul>\n",
    "    \n",
    "In particular, we will use a dataframe called COVID to explore COVID-19 data imported directly from the City of Chicago's Data Portal.  "
   ]
  },
  {
   "cell_type": "markdown",
   "metadata": {},
   "source": [
    "1) Let's start by importing the  numpy and pandas libraries. In general, we will always begin by importing these two libraries."
   ]
  },
  {
   "cell_type": "code",
   "execution_count": 1,
   "metadata": {},
   "outputs": [],
   "source": [
    "import numpy as np\n",
    "import pandas as pd"
   ]
  },
  {
   "cell_type": "markdown",
   "metadata": {},
   "source": [
    "2) We can use pandas (pd) to get up-to-date info about COVID 19. Let's create a dataframe called rawCOVID containing data either by reading the excel file \"rawCOCID.xlsx\" (data as of June 27, 2023) or by importing the data directly from the Chicago Data Portal and then display the first line of this dataframe."
   ]
  },
  {
   "cell_type": "code",
   "execution_count": 2,
   "metadata": {},
   "outputs": [
    {
     "data": {
      "text/html": [
       "<div>\n",
       "<style scoped>\n",
       "    .dataframe tbody tr th:only-of-type {\n",
       "        vertical-align: middle;\n",
       "    }\n",
       "\n",
       "    .dataframe tbody tr th {\n",
       "        vertical-align: top;\n",
       "    }\n",
       "\n",
       "    .dataframe thead th {\n",
       "        text-align: right;\n",
       "    }\n",
       "</style>\n",
       "<table border=\"1\" class=\"dataframe\">\n",
       "  <thead>\n",
       "    <tr style=\"text-align: right;\">\n",
       "      <th></th>\n",
       "      <th>Unnamed: 0</th>\n",
       "      <th>:@computed_region_43wa_7qmu</th>\n",
       "      <th>:@computed_region_6mkv_f3dw</th>\n",
       "      <th>:@computed_region_bdys_3d7i</th>\n",
       "      <th>:@computed_region_rpca_8um6</th>\n",
       "      <th>:@computed_region_vrxf_vc4k</th>\n",
       "      <th>case_rate_cumulative</th>\n",
       "      <th>case_rate_weekly</th>\n",
       "      <th>cases_cumulative</th>\n",
       "      <th>cases_weekly</th>\n",
       "      <th>...</th>\n",
       "      <th>row_id</th>\n",
       "      <th>test_rate_cumulative</th>\n",
       "      <th>test_rate_weekly</th>\n",
       "      <th>tests_cumulative</th>\n",
       "      <th>tests_weekly</th>\n",
       "      <th>week_end</th>\n",
       "      <th>week_number</th>\n",
       "      <th>week_start</th>\n",
       "      <th>zip_code</th>\n",
       "      <th>zip_code_location</th>\n",
       "    </tr>\n",
       "  </thead>\n",
       "  <tbody>\n",
       "    <tr>\n",
       "      <th>0</th>\n",
       "      <td>0</td>\n",
       "      <td>36.0</td>\n",
       "      <td>14309.0</td>\n",
       "      <td>580.0</td>\n",
       "      <td>42.0</td>\n",
       "      <td>38.0</td>\n",
       "      <td>654.2</td>\n",
       "      <td>27.3</td>\n",
       "      <td>96.0</td>\n",
       "      <td>4.0</td>\n",
       "      <td>...</td>\n",
       "      <td>60601-2020-28</td>\n",
       "      <td>9799.0</td>\n",
       "      <td>1376.5</td>\n",
       "      <td>1438</td>\n",
       "      <td>202.0</td>\n",
       "      <td>2020-07-11T00:00:00.000</td>\n",
       "      <td>28</td>\n",
       "      <td>2020-07-05T00:00:00.000</td>\n",
       "      <td>60601</td>\n",
       "      <td>{'type': 'Point', 'coordinates': [-87.622844, ...</td>\n",
       "    </tr>\n",
       "  </tbody>\n",
       "</table>\n",
       "<p>1 rows × 27 columns</p>\n",
       "</div>"
      ],
      "text/plain": [
       "   Unnamed: 0  :@computed_region_43wa_7qmu  :@computed_region_6mkv_f3dw   \n",
       "0           0                         36.0                      14309.0  \\\n",
       "\n",
       "   :@computed_region_bdys_3d7i  :@computed_region_rpca_8um6   \n",
       "0                        580.0                         42.0  \\\n",
       "\n",
       "   :@computed_region_vrxf_vc4k  case_rate_cumulative  case_rate_weekly   \n",
       "0                         38.0                 654.2              27.3  \\\n",
       "\n",
       "   cases_cumulative  cases_weekly  ...         row_id  test_rate_cumulative   \n",
       "0              96.0           4.0  ...  60601-2020-28                9799.0  \\\n",
       "\n",
       "   test_rate_weekly  tests_cumulative  tests_weekly                 week_end   \n",
       "0            1376.5              1438         202.0  2020-07-11T00:00:00.000  \\\n",
       "\n",
       "   week_number               week_start  zip_code   \n",
       "0           28  2020-07-05T00:00:00.000     60601  \\\n",
       "\n",
       "                                   zip_code_location  \n",
       "0  {'type': 'Point', 'coordinates': [-87.622844, ...  \n",
       "\n",
       "[1 rows x 27 columns]"
      ]
     },
     "execution_count": 2,
     "metadata": {},
     "output_type": "execute_result"
    }
   ],
   "source": [
    "rawCOVID=pd.read_excel(\"rawCOVID.xlsx\")\n",
    "# rawCOVID=pd.read_json(\"https://data.cityofchicago.org/resource/yhhz-zm2v.json?$limit=5000000\")\n",
    "rawCOVID.head(1)"
   ]
  },
  {
   "cell_type": "markdown",
   "metadata": {},
   "source": [
    "3) Let's list just the columns in the rawCOVID dataframe."
   ]
  },
  {
   "cell_type": "code",
   "execution_count": 3,
   "metadata": {},
   "outputs": [
    {
     "data": {
      "text/plain": [
       "Index(['Unnamed: 0', ':@computed_region_43wa_7qmu',\n",
       "       ':@computed_region_6mkv_f3dw', ':@computed_region_bdys_3d7i',\n",
       "       ':@computed_region_rpca_8um6', ':@computed_region_vrxf_vc4k',\n",
       "       'case_rate_cumulative', 'case_rate_weekly', 'cases_cumulative',\n",
       "       'cases_weekly', 'death_rate_cumulative', 'death_rate_weekly',\n",
       "       'deaths_cumulative', 'deaths_weekly',\n",
       "       'percent_tested_positive_cumulative', 'percent_tested_positive_weekly',\n",
       "       'population', 'row_id', 'test_rate_cumulative', 'test_rate_weekly',\n",
       "       'tests_cumulative', 'tests_weekly', 'week_end', 'week_number',\n",
       "       'week_start', 'zip_code', 'zip_code_location'],\n",
       "      dtype='object')"
      ]
     },
     "execution_count": 3,
     "metadata": {},
     "output_type": "execute_result"
    }
   ],
   "source": [
    "rawCOVID.columns"
   ]
  },
  {
   "cell_type": "markdown",
   "metadata": {},
   "source": [
    "4) Let's get the number of rows and columns in our dataframe."
   ]
  },
  {
   "cell_type": "code",
   "execution_count": 4,
   "metadata": {},
   "outputs": [
    {
     "data": {
      "text/plain": [
       "(10320, 27)"
      ]
     },
     "execution_count": 4,
     "metadata": {},
     "output_type": "execute_result"
    }
   ],
   "source": [
    "rawCOVID.shape"
   ]
  },
  {
   "cell_type": "markdown",
   "metadata": {},
   "source": [
    "5) Let's define a dataframe COVID which uses just 4 columns from rawCOVID: deaths_cumulative, population, tests_cumulative, and zip_code."
   ]
  },
  {
   "cell_type": "code",
   "execution_count": 5,
   "metadata": {},
   "outputs": [
    {
     "data": {
      "text/html": [
       "<div>\n",
       "<style scoped>\n",
       "    .dataframe tbody tr th:only-of-type {\n",
       "        vertical-align: middle;\n",
       "    }\n",
       "\n",
       "    .dataframe tbody tr th {\n",
       "        vertical-align: top;\n",
       "    }\n",
       "\n",
       "    .dataframe thead th {\n",
       "        text-align: right;\n",
       "    }\n",
       "</style>\n",
       "<table border=\"1\" class=\"dataframe\">\n",
       "  <thead>\n",
       "    <tr style=\"text-align: right;\">\n",
       "      <th></th>\n",
       "      <th>deaths_cumulative</th>\n",
       "      <th>population</th>\n",
       "      <th>tests_cumulative</th>\n",
       "      <th>zip_code</th>\n",
       "    </tr>\n",
       "  </thead>\n",
       "  <tbody>\n",
       "    <tr>\n",
       "      <th>0</th>\n",
       "      <td>5</td>\n",
       "      <td>14675</td>\n",
       "      <td>1438</td>\n",
       "      <td>60601</td>\n",
       "    </tr>\n",
       "  </tbody>\n",
       "</table>\n",
       "</div>"
      ],
      "text/plain": [
       "   deaths_cumulative  population  tests_cumulative zip_code\n",
       "0                  5       14675              1438    60601"
      ]
     },
     "execution_count": 5,
     "metadata": {},
     "output_type": "execute_result"
    }
   ],
   "source": [
    "COVID=rawCOVID[[\"deaths_cumulative\", \"population\", \"tests_cumulative\",\"zip_code\"]]\n",
    "COVID.head(1)"
   ]
  },
  {
   "cell_type": "markdown",
   "metadata": {},
   "source": [
    "6) Let's shorten the column names."
   ]
  },
  {
   "cell_type": "code",
   "execution_count": 6,
   "metadata": {},
   "outputs": [
    {
     "data": {
      "text/html": [
       "<div>\n",
       "<style scoped>\n",
       "    .dataframe tbody tr th:only-of-type {\n",
       "        vertical-align: middle;\n",
       "    }\n",
       "\n",
       "    .dataframe tbody tr th {\n",
       "        vertical-align: top;\n",
       "    }\n",
       "\n",
       "    .dataframe thead th {\n",
       "        text-align: right;\n",
       "    }\n",
       "</style>\n",
       "<table border=\"1\" class=\"dataframe\">\n",
       "  <thead>\n",
       "    <tr style=\"text-align: right;\">\n",
       "      <th></th>\n",
       "      <th>deaths</th>\n",
       "      <th>population</th>\n",
       "      <th>tests</th>\n",
       "      <th>zip</th>\n",
       "    </tr>\n",
       "  </thead>\n",
       "  <tbody>\n",
       "    <tr>\n",
       "      <th>0</th>\n",
       "      <td>5</td>\n",
       "      <td>14675</td>\n",
       "      <td>1438</td>\n",
       "      <td>60601</td>\n",
       "    </tr>\n",
       "    <tr>\n",
       "      <th>1</th>\n",
       "      <td>0</td>\n",
       "      <td>1174</td>\n",
       "      <td>6680</td>\n",
       "      <td>60603</td>\n",
       "    </tr>\n",
       "    <tr>\n",
       "      <th>2</th>\n",
       "      <td>0</td>\n",
       "      <td>1174</td>\n",
       "      <td>6963</td>\n",
       "      <td>60603</td>\n",
       "    </tr>\n",
       "    <tr>\n",
       "      <th>3</th>\n",
       "      <td>0</td>\n",
       "      <td>1174</td>\n",
       "      <td>7218</td>\n",
       "      <td>60603</td>\n",
       "    </tr>\n",
       "    <tr>\n",
       "      <th>4</th>\n",
       "      <td>0</td>\n",
       "      <td>1174</td>\n",
       "      <td>7560</td>\n",
       "      <td>60603</td>\n",
       "    </tr>\n",
       "    <tr>\n",
       "      <th>5</th>\n",
       "      <td>0</td>\n",
       "      <td>1174</td>\n",
       "      <td>7942</td>\n",
       "      <td>60603</td>\n",
       "    </tr>\n",
       "    <tr>\n",
       "      <th>6</th>\n",
       "      <td>0</td>\n",
       "      <td>782</td>\n",
       "      <td>10250</td>\n",
       "      <td>60604</td>\n",
       "    </tr>\n",
       "    <tr>\n",
       "      <th>7</th>\n",
       "      <td>0</td>\n",
       "      <td>782</td>\n",
       "      <td>10457</td>\n",
       "      <td>60604</td>\n",
       "    </tr>\n",
       "    <tr>\n",
       "      <th>8</th>\n",
       "      <td>0</td>\n",
       "      <td>782</td>\n",
       "      <td>10718</td>\n",
       "      <td>60604</td>\n",
       "    </tr>\n",
       "    <tr>\n",
       "      <th>9</th>\n",
       "      <td>0</td>\n",
       "      <td>782</td>\n",
       "      <td>12597</td>\n",
       "      <td>60604</td>\n",
       "    </tr>\n",
       "    <tr>\n",
       "      <th>10</th>\n",
       "      <td>0</td>\n",
       "      <td>782</td>\n",
       "      <td>12718</td>\n",
       "      <td>60604</td>\n",
       "    </tr>\n",
       "    <tr>\n",
       "      <th>11</th>\n",
       "      <td>0</td>\n",
       "      <td>782</td>\n",
       "      <td>12814</td>\n",
       "      <td>60604</td>\n",
       "    </tr>\n",
       "    <tr>\n",
       "      <th>12</th>\n",
       "      <td>0</td>\n",
       "      <td>782</td>\n",
       "      <td>12911</td>\n",
       "      <td>60604</td>\n",
       "    </tr>\n",
       "    <tr>\n",
       "      <th>13</th>\n",
       "      <td>0</td>\n",
       "      <td>782</td>\n",
       "      <td>13000</td>\n",
       "      <td>60604</td>\n",
       "    </tr>\n",
       "    <tr>\n",
       "      <th>14</th>\n",
       "      <td>0</td>\n",
       "      <td>782</td>\n",
       "      <td>13083</td>\n",
       "      <td>60604</td>\n",
       "    </tr>\n",
       "  </tbody>\n",
       "</table>\n",
       "</div>"
      ],
      "text/plain": [
       "    deaths  population  tests    zip\n",
       "0        5       14675   1438  60601\n",
       "1        0        1174   6680  60603\n",
       "2        0        1174   6963  60603\n",
       "3        0        1174   7218  60603\n",
       "4        0        1174   7560  60603\n",
       "5        0        1174   7942  60603\n",
       "6        0         782  10250  60604\n",
       "7        0         782  10457  60604\n",
       "8        0         782  10718  60604\n",
       "9        0         782  12597  60604\n",
       "10       0         782  12718  60604\n",
       "11       0         782  12814  60604\n",
       "12       0         782  12911  60604\n",
       "13       0         782  13000  60604\n",
       "14       0         782  13083  60604"
      ]
     },
     "execution_count": 6,
     "metadata": {},
     "output_type": "execute_result"
    }
   ],
   "source": [
    "COVID.columns=[\"deaths\",\"population\",\"tests\",\"zip\"]\n",
    "COVID.head(15)"
   ]
  },
  {
   "cell_type": "markdown",
   "metadata": {},
   "source": [
    "7) We can get the latest test info for zip 60604  by first creating a datframe df for that zip code, and then using max() to get the highest value in the \"tests\" column."
   ]
  },
  {
   "cell_type": "code",
   "execution_count": 7,
   "metadata": {},
   "outputs": [
    {
     "data": {
      "text/plain": [
       "15747"
      ]
     },
     "execution_count": 7,
     "metadata": {},
     "output_type": "execute_result"
    }
   ],
   "source": [
    "df = COVID[COVID[\"zip\"]=='60604']\n",
    "numtested=df[\"tests\"].max()\n",
    "numtested"
   ]
  },
  {
   "cell_type": "markdown",
   "metadata": {},
   "source": [
    "8) Let's define a function MyCOVID(COVID,zip) which allows us to enter a 5-digit zip code number and have the computer tell us how many tests, and the number of deaths."
   ]
  },
  {
   "cell_type": "code",
   "execution_count": 8,
   "metadata": {},
   "outputs": [],
   "source": [
    "def MyCOVID(COVID,zipcode):\n",
    "    alreadychecked=0  #eliminate duplication of information\n",
    "    for z in COVID.index:  #go through all the index values\n",
    "        if COVID.loc[z,\"zip\"]==zipcode and alreadychecked==0:    #found the zip we requested (first-time)\n",
    "            alreadychecked=1  #we will only process data for each zipcode once\n",
    "            df=COVID[COVID[\"zip\"]==zipcode]\n",
    "            numtested=df[\"tests\"].max()\n",
    "            numdeaths=df[\"deaths\"].max()\n",
    "            print(\"Zip code: \", COVID.loc[z,\"zip\"])\n",
    "            print(\"number tested is \", numtested)\n",
    "            print(\"number deaths \", numdeaths)\n",
    "    return (\"Enter a different zip code if you wish.\")"
   ]
  },
  {
   "cell_type": "markdown",
   "metadata": {},
   "source": [
    "9) Let's see if there's data for zipcode='60623'."
   ]
  },
  {
   "cell_type": "code",
   "execution_count": 9,
   "metadata": {},
   "outputs": [
    {
     "name": "stdout",
     "output_type": "stream",
     "text": [
      "Zip code:  60623\n",
      "number tested is  435801\n",
      "number deaths  334\n"
     ]
    },
    {
     "data": {
      "text/plain": [
       "'Enter a different zip code if you wish.'"
      ]
     },
     "execution_count": 9,
     "metadata": {},
     "output_type": "execute_result"
    }
   ],
   "source": [
    "zipcode='60623'\n",
    "MyCOVID(COVID,zipcode)"
   ]
  },
  {
   "cell_type": "markdown",
   "metadata": {},
   "source": [
    "10) Now analyze zipicode='60637'"
   ]
  },
  {
   "cell_type": "code",
   "execution_count": 10,
   "metadata": {},
   "outputs": [
    {
     "name": "stdout",
     "output_type": "stream",
     "text": [
      "Zip code:  60637\n",
      "number tested is  413295\n",
      "number deaths  106\n"
     ]
    },
    {
     "data": {
      "text/plain": [
       "'Enter a different zip code if you wish.'"
      ]
     },
     "execution_count": 10,
     "metadata": {},
     "output_type": "execute_result"
    }
   ],
   "source": [
    "zipcode='60637'\n",
    "MyCOVID(COVID,zipcode)"
   ]
  },
  {
   "cell_type": "markdown",
   "metadata": {},
   "source": [
    "<h4>Assignment</h4>\n",
    "Modify the MyCOVID function so that a function MyCOVID2 also includes the population of the input zipcode. Then check that your function works on zipcode='60637'"
   ]
  },
  {
   "cell_type": "code",
   "execution_count": 11,
   "metadata": {},
   "outputs": [],
   "source": [
    "# Define MyCOVID2\n"
   ]
  },
  {
   "cell_type": "code",
   "execution_count": 12,
   "metadata": {},
   "outputs": [],
   "source": [
    "# Check that the function is working"
   ]
  },
  {
   "cell_type": "markdown",
   "metadata": {},
   "source": [
    "<h4>Solution</h4>"
   ]
  },
  {
   "cell_type": "code",
   "execution_count": 13,
   "metadata": {},
   "outputs": [],
   "source": [
    "#Define MyCOVID2\n",
    "def MyCOVID2(COVID,zipcode):\n",
    "    alreadychecked=0  #eliminate duplication of information\n",
    "    for z in COVID.index:  #go through all the index values\n",
    "        if COVID.loc[z,\"zip\"]==zipcode and alreadychecked==0:    #found the zip we requested (first-time)\n",
    "            alreadychecked=1  #we will only do this once\n",
    "            df=COVID[COVID[\"zip\"]==zipcode]\n",
    "            population=df[\"population\"].max()\n",
    "            numtested=df[\"tests\"].max()\n",
    "            numdeaths=df[\"deaths\"].max()\n",
    "            print(\"Zip code: \", COVID.loc[z,\"zip\"])\n",
    "            print(\"population is \", population)\n",
    "            print(\"number tested is \", numtested)\n",
    "            print(\"number deaths \", numdeaths)\n",
    "    return (\"Enter a different zip code if you wish.\")"
   ]
  },
  {
   "cell_type": "code",
   "execution_count": 14,
   "metadata": {},
   "outputs": [
    {
     "name": "stdout",
     "output_type": "stream",
     "text": [
      "Zip code:  60637\n",
      "population is  47454\n",
      "number tested is  413295\n",
      "number deaths  106\n"
     ]
    },
    {
     "data": {
      "text/plain": [
       "'Enter a different zip code if you wish.'"
      ]
     },
     "execution_count": 14,
     "metadata": {},
     "output_type": "execute_result"
    }
   ],
   "source": [
    "# Check that the function is working\n",
    "MyCOVID2(COVID,'60637')"
   ]
  }
 ],
 "metadata": {
  "kernelspec": {
   "display_name": "Python 3 (ipykernel)",
   "language": "python",
   "name": "python3"
  },
  "language_info": {
   "codemirror_mode": {
    "name": "ipython",
    "version": 3
   },
   "file_extension": ".py",
   "mimetype": "text/x-python",
   "name": "python",
   "nbconvert_exporter": "python",
   "pygments_lexer": "ipython3",
   "version": "3.10.9"
  }
 },
 "nbformat": 4,
 "nbformat_minor": 2
}
