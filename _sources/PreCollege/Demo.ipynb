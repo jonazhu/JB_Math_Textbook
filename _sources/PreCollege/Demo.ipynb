{
 "cells": [
  {
   "cell_type": "markdown",
   "metadata": {},
   "source": [
    "# After School Program Demo"
   ]
  },
  {
   "cell_type": "markdown",
   "metadata": {},
   "source": [
    "Celestial Ministries is an arts-centered youth outreach in Lawndale, Chicago which was founded by Stanley and Antoinette Ratliff. During COVID-19, Celestial initiated a Zoom program involving a small group of 5th-10th graders on the use of Python Jupyter Notebooks.  For the past 2 years, a 12 lesson program has been conducted in person with mainly 8th graders.  Students who complete the program receive a certificate and $100 stipend. This year, the students will give a demo of the use of JNBs to parents and others attending the final recognition ceremony. \n",
    "        "
   ]
  },
  {
   "cell_type": "markdown",
   "metadata": {},
   "source": [
    "We will demonstrate several things which can be done with Jupyter Notebooks.\n",
    "\n",
    "First we load standard notebooks for analyzing and plotting data.\n",
    "      "
   ]
  },
  {
   "cell_type": "code",
   "execution_count": 1,
   "metadata": {},
   "outputs": [],
   "source": [
    "import numpy as np \n",
    "import pandas as pd \n",
    "import matplotlib as mpl\n",
    "import matplotlib.pyplot as plt"
   ]
  },
  {
   "cell_type": "markdown",
   "metadata": {},
   "source": [
    "<h3>DEMO 1: City of Chicago Budget</h3>\n",
    "We will make a piechart of the City of Chicago budget."
   ]
  },
  {
   "cell_type": "markdown",
   "metadata": {},
   "source": [
    "1) First let's display the PDF with the budget details."
   ]
  },
  {
   "cell_type": "code",
   "execution_count": 7,
   "metadata": {},
   "outputs": [],
   "source": [
    "class PDF(object):\n",
    "  def __init__(self, pdf, size=(300,300)):\n",
    "    self.pdf = pdf\n",
    "    self.size = size\n",
    "\n",
    "  def _repr_html_(self):\n",
    "    return '<iframe src={0} width={1[0]} height={1[1]}></iframe>'.format(self.pdf, self.size)\n",
    "\n",
    "  def _repr_latex_(self):\n",
    "    return r'\\includegraphics[width=1.0\\textwidth]{{{0}}}'.format(self.pdf)\n",
    "PDF('ChicagoBudget.pdf',size=(700,400))"
   ]
  },
  {
   "cell_type": "markdown",
   "metadata": {},
   "source": [
    "2) Next let's read an Excel sheet with the summary of the budget."
   ]
  },
  {
   "cell_type": "code",
   "execution_count": 8,
   "metadata": {},
   "outputs": [],
   "source": [
    "budget=pd.read_excel('ChicagoBudget.xlsx')\n",
    "budget"
   ]
  },
  {
   "cell_type": "markdown",
   "metadata": {},
   "source": [
    "3) A pie chart will show us the proportions."
   ]
  },
  {
   "cell_type": "code",
   "execution_count": 4,
   "metadata": {},
   "outputs": [],
   "source": [
    "fig, ax = plt.subplots(figsize=(6,6)) #you can adjust the figsize  (5,5)=(length,width)\n",
    "plt.rcParams['font.size'] = 10  #fontsize\n",
    "budget_items = budget[\"EXPENSE\"] #categories\n",
    "budget_amounts = budget[\"2023 BUDGET\"] #amounts\n",
    "total=sum(budget_amounts)\n",
    "ax=plt.pie(budget_amounts,labels=budget_items,autopct=lambda p: '${:.0f}'.format(p * total / 100)) #make pie chart  autopct='%1.0f%%'\n",
    "plt.gca().set_title('Budget Breakdown $'+str(total)+' (13+ billion) in Expenses',size=5) #add a title\n",
    "fig.savefig('Budget.png') #save the piechart to a file Budget.png"
   ]
  },
  {
   "cell_type": "markdown",
   "metadata": {},
   "source": [
    "PROBLEM 1: Change the amounts on the pie chart to percentages."
   ]
  },
  {
   "cell_type": "markdown",
   "metadata": {},
   "source": [
    "<h3>Demo 2 Pixel Images</h3>\n",
    "We can increase the resolution of images by increasing the number of pixels.\n",
    "\n",
    "Note: Put the file puppy.png in a separate folder called images."
   ]
  },
  {
   "cell_type": "code",
   "execution_count": 5,
   "metadata": {},
   "outputs": [],
   "source": [
    "# PACKAGE: DO NOT EDIT THIS CELL\n",
    "%matplotlib inline\n",
    "from ipywidgets import interact\n",
    "import cv2, os\n",
    "!pip install opencv-python"
   ]
  },
  {
   "cell_type": "code",
   "execution_count": null,
   "metadata": {},
   "outputs": [],
   "source": [
    "def makepixelimage(folder, N):\n",
    "\n",
    "    directory = folder\n",
    "\n",
    "    # A data structure called a dictionary is used to store the image data and the dataframes we'll make from them.\n",
    "    imgs = {}\n",
    "    dfs = {}\n",
    "\n",
    "    # Specify the pixel image size \n",
    "    dsize = (N, N)\n",
    "\n",
    "    # This will iterate over every image in the directory given, read it into data, and create a \n",
    "    # dataframe for it. Both the image data and its corresponding dataframe are stored.\n",
    "    # Note that when being read into data, we interpret the image as grayscale. \n",
    "    pos = 0\n",
    "    for filename in os.listdir(directory):\n",
    "        f = os.path.join(directory, filename)\n",
    "        # checking if it is a file\n",
    "        if os.path.isfile(f):\n",
    "            imgs[pos] = cv2.imread(f, 0) # image data\n",
    "            imgs[pos] = cv2.resize(imgs[pos], dsize)\n",
    "            dfs[pos] = pd.DataFrame(imgs[pos]) # dataframe\n",
    "            pos += 1\n",
    "    return plt.imshow(imgs[0], cmap=\"gray\")\n"
   ]
  },
  {
   "cell_type": "code",
   "execution_count": null,
   "metadata": {},
   "outputs": [],
   "source": [
    "makepixelimage(\"images\", 8)"
   ]
  },
  {
   "cell_type": "code",
   "execution_count": null,
   "metadata": {},
   "outputs": [],
   "source": [
    "makepixelimage(\"images\", 16) #16x16 image"
   ]
  },
  {
   "cell_type": "code",
   "execution_count": null,
   "metadata": {},
   "outputs": [],
   "source": [
    "makepixelimage(\"images\", 32) #32x32 image"
   ]
  },
  {
   "cell_type": "markdown",
   "metadata": {},
   "source": [
    "Problem 2: Create a 64x64 pixel image of the above."
   ]
  },
  {
   "cell_type": "markdown",
   "metadata": {},
   "source": [
    "<h3>DEMO 3: Track NFL Player Positions</h3>\n",
    "We will plot the movement of two players step by step in a given play\n",
    "Dataset: NFL_play.xlsx"
   ]
  },
  {
   "cell_type": "markdown",
   "metadata": {},
   "source": [
    "1) Import special libraries."
   ]
  },
  {
   "cell_type": "code",
   "execution_count": null,
   "metadata": {},
   "outputs": [],
   "source": [
    "import matplotlib.animation as animation\n",
    "from matplotlib.animation import FuncAnimation"
   ]
  },
  {
   "cell_type": "markdown",
   "metadata": {},
   "source": [
    "2)  Read the Player Tracking Data"
   ]
  },
  {
   "cell_type": "code",
   "execution_count": null,
   "metadata": {},
   "outputs": [],
   "source": [
    "track_play=pd.read_excel('NFL_play.xlsx')\n",
    "track_play.head(22)"
   ]
  },
  {
   "cell_type": "markdown",
   "metadata": {},
   "source": [
    "3) Plot the positions of the players at step -108 (before the snap) of play 1136."
   ]
  },
  {
   "cell_type": "code",
   "execution_count": null,
   "metadata": {},
   "outputs": [],
   "source": [
    "fig= plt.figure(figsize=(8,4))\n",
    "temp=track_play[track_play[\"step\"]==-108]\n",
    "xmin=temp[\"x_position\"].min()\n",
    "xmax=temp[\"x_position\"].max()\n",
    "ymin=temp[\"y_position\"].min()\n",
    "ymax=temp[\"y_position\"].max()\n",
    "plt.xlim(xmin-1,xmax+1)\n",
    "plt.ylim(ymin-1,ymax+1)\n",
    "for i in temp.index:\n",
    "    x=temp.loc[i,\"x_position\"]\n",
    "    y=temp.loc[i,\"y_position\"]\n",
    "    n=temp.loc[i,\"nfl_player_id\"]\n",
    "    p=temp.loc[i,\"position\"]\n",
    "    if temp.loc[i,\"team\"]=='home':\n",
    "        plt.text(x, y, p+str(n),color='b',size=5)\n",
    "    else:\n",
    "        plt.text(x, y, p+str(n),color='r',size=5)\n",
    "plt.title(\"Play 1136 Step -108\",size=10)\n",
    "plt.show()"
   ]
  },
  {
   "cell_type": "markdown",
   "metadata": {},
   "source": [
    "4) Let's define a function which gives the position of players at any step of any play."
   ]
  },
  {
   "cell_type": "code",
   "execution_count": null,
   "metadata": {},
   "outputs": [],
   "source": [
    "def teampositions(data,play,step):\n",
    "    playdf=data[data[\"play_id\"]==play]\n",
    "    playdf = playdf.sort_values(by = 'step')\n",
    "    playdf=playdf.reset_index(drop=True)\n",
    "    stepdf=playdf[playdf[\"step\"]==step]\n",
    "    xmin=stepdf[\"x_position\"].min()\n",
    "    xmax=stepdf[\"x_position\"].max()\n",
    "    ymin=stepdf[\"y_position\"].min()\n",
    "    ymax=stepdf[\"y_position\"].max()\n",
    "    fig= plt.figure(figsize=(8,4))\n",
    "    plt.xlim(xmin-1,xmax+1)\n",
    "    plt.ylim(ymin-1,ymax+1)\n",
    "    for i in stepdf.index:\n",
    "        x=stepdf.loc[i,\"x_position\"]\n",
    "        y=stepdf.loc[i,\"y_position\"]\n",
    "        n=stepdf.loc[i,\"nfl_player_id\"]\n",
    "        p=stepdf.loc[i,\"position\"]\n",
    "        if stepdf.loc[i,\"team\"]=='home':\n",
    "            plt.text(x, y, p+str(n),color='b',size=5)\n",
    "        else:\n",
    "            plt.text(x, y, p+str(n),color='r',size=5)\n",
    "    plt.title(\"Play\"+str(play)+ \"  Step\"+str(step),size=10)\n",
    "    plt.show()\n",
    "    return"
   ]
  },
  {
   "cell_type": "code",
   "execution_count": null,
   "metadata": {},
   "outputs": [],
   "source": [
    "teampositions(track_play,1136,10)"
   ]
  },
  {
   "cell_type": "markdown",
   "metadata": {},
   "source": [
    "5) Let's define a function to animate the movement of two designated players in a specified play. "
   ]
  },
  {
   "cell_type": "code",
   "execution_count": null,
   "metadata": {},
   "outputs": [],
   "source": [
    "def movement(data,play,player1,player2):\n",
    "    playdf=data[data[\"play_id\"]==play]\n",
    "    playdf = playdf.sort_values(by = 'step')\n",
    "    playdf=playdf.reset_index(drop=True)\n",
    "    xmin=playdf[\"x_position\"].min()\n",
    "    xmax=playdf[\"x_position\"].max()\n",
    "    ymin=playdf[\"y_position\"].min()\n",
    "    ymax=playdf[\"y_position\"].max()\n",
    "    player1df=playdf[playdf[\"nfl_player_id\"]==player1]\n",
    "    player1df = player1df.sort_values(by = 'step')\n",
    "    player1df=player1df.reset_index(drop=True)\n",
    "    player2df=playdf[playdf[\"nfl_player_id\"]==player2]\n",
    "    player2df = player2df.sort_values(by = 'step')\n",
    "    player2df=player2df.reset_index(drop=True)\n",
    "    fig= plt.figure(figsize=(5,3))\n",
    "    plt.xlim(xmin-1,xmax+1)\n",
    "    plt.ylim(ymin-1,ymax+1)\n",
    "    x1=player1df[\"x_position\"]\n",
    "    y1=player1df[\"y_position\"]\n",
    "    x2=player2df[\"x_position\"]\n",
    "    y2=player2df[\"y_position\"]\n",
    "    def init():  #inital point on sine curve\\\n",
    "        bluex,=plt.gca().plot([x1[0]],[y1[0]])\n",
    "        redo, = plt.gca().plot([x2[0]],[y2[0]])\n",
    "        return bluex, redo,\n",
    "\n",
    "    def animate(i):\n",
    "        bluex,= plt.gca().plot(x1[i],y1[i],'bx',ms=2,alpha=1)\n",
    "        redo,=plt.gca().plot([x2[i]],[y2[i]],'ro',ms=2,alpha=1)\n",
    "        return bluex, redo,\n",
    "    # create animation using the animate() function\n",
    "    ani = animation.FuncAnimation(fig, animate, frames=np.arange(1,len(playdf[\"step\"])/22,1), init_func=init, interval=5, blit=True, repeat=False)\n",
    "    plt.show() \n",
    "    return ani"
   ]
  },
  {
   "cell_type": "markdown",
   "metadata": {},
   "source": [
    "6) Let's check the wide receiver (42347) and cornerback (43351) shown at the bottom of the chart in Step 4)."
   ]
  },
  {
   "cell_type": "code",
   "execution_count": null,
   "metadata": {},
   "outputs": [],
   "source": [
    "%matplotlib notebook\n",
    "movement(track_play,1136,42347,43351)"
   ]
  },
  {
   "cell_type": "markdown",
   "metadata": {},
   "source": [
    "Problem 3: Change the defensive player in the animation from cornerback to the nearest free safety."
   ]
  },
  {
   "cell_type": "markdown",
   "metadata": {},
   "source": [
    "<h3>Demo 4 Word Clouds</h3>\n",
    "Let's make a word cloud Christmas card using the song \"Twelve Days of Christmas.\""
   ]
  },
  {
   "cell_type": "code",
   "execution_count": null,
   "metadata": {},
   "outputs": [],
   "source": [
    "import wordcloud\n",
    "#Define a function which counts the interesting words\n",
    "def calculate_frequencies(textfile):\n",
    "    #list of punctuations\n",
    "    punctuations = '''!()-[]{};:'\"\\,<>./?@#$%^&*_~'''\n",
    "    #list of uninteresting words \n",
    "    uninteresting_words = [\"AND\",\"BY\",\"IT\",\"THE\",\"THAT\",\"A\",\"IS\",\"HAD\",\"TO\",\"NOT\",\"BUT\",\"FOR\",\"OF\",\"WHICH\",\"IF\",\"IN\",\"ON\",\"WERE\",\"YE\",\"THOU\"]\n",
    "    \n",
    "     # removes punctuation and uninteresting words\n",
    "    import re\n",
    "    fc1=str(textfile)\n",
    "    fc2= fc1.split(' ')\n",
    "    for i in range(len(fc2)): \n",
    "        fc2[i] = fc2[i].upper()\n",
    "    #Remove punctuations\n",
    "    fc3 = []\n",
    "    for s in fc2:\n",
    "        if not any([o in s for o in punctuations]):\n",
    "            fc3.append(s)\n",
    "    #Remove uninteresting words\n",
    "    fc4=[]\n",
    "    for s in fc3:\n",
    "        if not any([o in s for o in uninteresting_words]):\n",
    "            fc4.append(s)\n",
    "    fc5=[]\n",
    "    for s in fc4:\n",
    "        if not any([o.lower() in s for o in uninteresting_words]):\n",
    "            fc5.append(s)\n",
    "            \n",
    "    while('' in fc5) : \n",
    "        fc5.remove('') \n",
    "        \n",
    "    import collections\n",
    "    fc6 = collections.Counter(fc5)\n",
    "\n",
    "    #wordcloud\n",
    "    cloud = wordcloud.WordCloud( max_words = 15)  #can adjust the number of words\n",
    "    cloud.generate_from_frequencies(fc6)\n",
    "    return cloud.to_array()"
   ]
  },
  {
   "cell_type": "code",
   "execution_count": null,
   "metadata": {},
   "outputs": [],
   "source": [
    "%matplotlib notebook\n",
    "#Open the text file with the words to be plotted.\n",
    "with open('twelvedays.txt','r') as file:  \n",
    "    carol = file.readlines()\n",
    "    \n",
    "#make the wordcloud   \n",
    "carol = calculate_frequencies(carol)\n",
    "plt.imshow(carol, interpolation = 'nearest')\n",
    "plt.text(-5,70,\"Merry Christmas!\",color='r',size=40) #***TASK 2***Add Christmas! after Merry\n",
    "plt.axis('off')\n",
    "plt.savefig('card.png', bbox_inches='tight') \n"
   ]
  },
  {
   "cell_type": "markdown",
   "metadata": {},
   "source": [
    "Problem 4. Remove the words Merry Christmas! from the Word Cloud."
   ]
  },
  {
   "cell_type": "markdown",
   "metadata": {},
   "source": [
    "<h3>Demo 5 Name that Tune</h3>"
   ]
  },
  {
   "cell_type": "markdown",
   "metadata": {},
   "source": [
    "1) Musical sound waves are created by rapid vibrations caused by musical instruments. "
   ]
  },
  {
   "cell_type": "code",
   "execution_count": null,
   "metadata": {},
   "outputs": [],
   "source": [
    "from IPython.display import YouTubeVideo\n",
    "YouTubeVideo('tVYQRC1-D54')"
   ]
  },
  {
   "cell_type": "markdown",
   "metadata": {},
   "source": [
    "2)  Sound waves are represented mathematically by sine waves with different frequencies."
   ]
  },
  {
   "cell_type": "code",
   "execution_count": null,
   "metadata": {},
   "outputs": [],
   "source": [
    "def sinewave(frequency):\n",
    "    #-----------CREATE THE SOUND WAVE-------------------\n",
    "    sampling_rate=44100  #how many times we take a measurement each second\n",
    "    t = np.linspace(0,1,sampling_rate)  # take 44100 samples in 1 second; \n",
    "    sound_wave=np.sin(frequency* 2*np.pi* t)  # mathematical definition of a sine wave\n",
    "    #----------PLOT THE SOUND WAVE----------------------\n",
    "    import matplotlib.pyplot as plt\n",
    "    fig=plt.figure(figsize=(2,1))\n",
    "    plt.plot(t,sound_wave)\n",
    "    plt.xlabel(\"seconds\")\n",
    "    return"
   ]
  },
  {
   "cell_type": "code",
   "execution_count": null,
   "metadata": {},
   "outputs": [],
   "source": [
    "sinewave(1)  #frequency=1 and 1 cycle per second"
   ]
  },
  {
   "cell_type": "code",
   "execution_count": null,
   "metadata": {},
   "outputs": [],
   "source": [
    "sinewave(2)  #frequency=2 and 2 cycles per second"
   ]
  },
  {
   "cell_type": "code",
   "execution_count": null,
   "metadata": {},
   "outputs": [],
   "source": [
    "sinewave(20) #frequency=20 and 20 cycles per second"
   ]
  },
  {
   "cell_type": "markdown",
   "metadata": {},
   "source": [
    "3) A computer can create a musical tone based on a given frequency."
   ]
  },
  {
   "cell_type": "code",
   "execution_count": null,
   "metadata": {},
   "outputs": [],
   "source": [
    "def play(freq):\n",
    "    import numpy as np\n",
    "    from IPython.display import Audio  #library used to create sounds\n",
    "    sampling_rate = 44100 # <- rate of sampling\n",
    "    t = np.linspace(0, 2,  sampling_rate) # <- setup time values\n",
    "    sound_wave = np.sin(2 * np.pi * freq * t) # <- sine function formula\n",
    "    return Audio(sound_wave, rate=sampling_rate, autoplay=True) # play the generated sound"
   ]
  },
  {
   "cell_type": "code",
   "execution_count": null,
   "metadata": {},
   "outputs": [],
   "source": [
    "play(220) # play a sound at 220 hz "
   ]
  },
  {
   "cell_type": "markdown",
   "metadata": {},
   "source": [
    "4) A musical scale is a sequence of frequencies."
   ]
  },
  {
   "cell_type": "code",
   "execution_count": null,
   "metadata": {},
   "outputs": [],
   "source": [
    "from IPython.display import Audio \n",
    "rest=0\n",
    "do=220\n",
    "re=9/8*220\n",
    "mi=5/4*220\n",
    "fa=4/3*220\n",
    "so=3/2*220\n",
    "la=5/3*220\n",
    "ti=15/8*220\n",
    "do1=2*220\n",
    "re1=2*9/8*220\n",
    "mi1=2*5/4*220\n",
    "fa1=2*4/3*220\n",
    "so1=2*3/2*220\n",
    "la1=2*5/3*220\n",
    "ti1=2*15/8*220\n",
    "do2=2*2*220\n",
    "scale=[do,re,mi,fa,so,la,ti,do1]"
   ]
  },
  {
   "cell_type": "code",
   "execution_count": null,
   "metadata": {},
   "outputs": [],
   "source": [
    "def play(song):\n",
    "    song=np.array(song)\n",
    "    framerate = 44100\n",
    "    t = np.linspace(0, len(song) / 2, round(framerate * len(song) / 2))[:-1]\n",
    "    song_idx = np.floor(t * 2).astype(int)\n",
    "    data = np.sin(2 * np.pi * song[song_idx] * t)\n",
    "    return Audio(data, rate=framerate, autoplay=True)\n",
    "play(scale)"
   ]
  },
  {
   "cell_type": "markdown",
   "metadata": {},
   "source": [
    "5) Can you name that tune?"
   ]
  },
  {
   "cell_type": "code",
   "execution_count": null,
   "metadata": {},
   "outputs": [],
   "source": [
    "tune= [so, so , la, la, so, fa,mi,rest,so, so , la, la, so, fa,mi,rest,so,so,la,ti,do1,do1,re1,re1,ti,la,ti,la,so,so,la,ti,do1,do1,ti,la,so,so,rest,rest,la,la,so,fa,mi,mi,rest,rest,so,so,do,fa,mi,mi,re,re,do,do,do,do,rest,rest]\n",
    "play(tune)"
   ]
  },
  {
   "cell_type": "code",
   "execution_count": null,
   "metadata": {},
   "outputs": [],
   "source": [
    "from IPython.display import YouTubeVideo\n",
    "YouTubeVideo('L4PA-MFSM34')"
   ]
  },
  {
   "cell_type": "markdown",
   "metadata": {},
   "source": [
    "Problem 5: Create a tune for a familiar worship song. "
   ]
  },
  {
   "cell_type": "markdown",
   "metadata": {},
   "source": [
    "<h3> Assignment</h3>\n",
    "Explain how a JNB such as this could be used in a pre-college after school program. What should a college teacher be aware of in conducting such a program? Comment on how this demo could be improved."
   ]
  }
 ],
 "metadata": {
  "kernelspec": {
   "display_name": "Python 3 (ipykernel)",
   "language": "python",
   "name": "python3"
  },
  "language_info": {
   "codemirror_mode": {
    "name": "ipython",
    "version": 3
   },
   "file_extension": ".py",
   "mimetype": "text/x-python",
   "name": "python",
   "nbconvert_exporter": "python",
   "pygments_lexer": "ipython3",
   "version": "3.10.9"
  }
 },
 "nbformat": 4,
 "nbformat_minor": 2
}
