{
 "cells": [
  {
   "cell_type": "markdown",
   "id": "f0bc0c51",
   "metadata": {},
   "source": [
    "# 8. Predicting Exemplary K-8 Chicago Schools"
   ]
  },
  {
   "cell_type": "markdown",
   "id": "611fcea2",
   "metadata": {},
   "source": [
    "<h4>Overview</h4>\n",
    "This lab is a friendly competition to make a prediction whether a K-8 Chicago school's IL State Board of Education Summative Designation is designated 'Exemplary' (the 'Non-Exemplary' school categories are \"Commendable\", \"Targeted\", and \"Comprehensive\").\n",
    "\n",
    "The prediction will be based on the file MiddleSchool.xlsx with the following data:\n",
    "    \n",
    "<ul>\n",
    "<li>Student Enrollment - Black or African American</li>     \n",
    "<li> Student Enrollment - Hispanic or Latino </li>           \n",
    "<li> Student Enrollment - Children with Disabilities</li>     \n",
    "<li> Student Enrollment - Low Income   </li>                  \n",
    "<li> Total Number of School Days </li>                         \n",
    "<li> 8th Grade Passing Algebra 1    </li>                     \n",
    "<li> Student Attendance Rate     </li>                          \n",
    "<li> Student Chronic Truancy Rate  </li>                       \n",
    "<li> Avg Class Size – All Grades   </li>                       \n",
    "<li> Teacher Retention Rate </li> </ul>\n"
   ]
  },
  {
   "cell_type": "markdown",
   "id": "1257daff",
   "metadata": {},
   "source": [
    "<h4>Scoring </h4>\n",
    "Scoring is based on values for the $Confusion$ $Matrix$:\n",
    "\\begin{pmatrix}\n",
    "TP & FN \\\\\n",
    "FP & TN \n",
    "\\end{pmatrix}\n",
    "where\n",
    "<ul>\n",
    "    <li> TP=True Positive: your model predicts exemplary and the school is exemplary</li>\n",
    "    <li> TN=True Negative: your model predicts not exemplary and the school is not exemplary</li>\n",
    "    <li> FP=False Positive: your model predicts exemplary but the school is not exemplary</li>\n",
    "    <li> FN=False Negative: your model predicts not exemplary but the school is exemplary</li>\n",
    "    </ul>\n",
    "    \n",
    " The number of each type of prediction then determines\n",
    " \n",
    " <ul>\n",
    "    <li> <b>Accuracy </b> = $\\frac{\\mid TP\\mid + \\mid TN \\mid}{\\mid TP\\mid + \\mid TN \\mid+ \\mid FP\\mid + \\mid FN \\mid}$    (proportion that were correctly predicted out of all the schools)</li>\n",
    " \n",
    " \n",
    "<li> <b> Specificity (Precision)</b> = $\\frac{\\mid TN\\mid}{\\mid TN\\mid + \\mid FP\\mid }$ (proportion that were correct out of those you predicted to be exemplary) </li>\n",
    " \n",
    "<li><b> Sensitivity (Recall) </b> = $\\frac{\\mid TP\\mid}{\\mid TP\\mid + \\mid FN\\mid }$ (proportion that you predicted correctly among just the exemplary schools)</li>\n",
    " \n",
    "Your competition (F1) score is the geometric mean of the specificity, and sensitivity. "
   ]
  },
  {
   "cell_type": "markdown",
   "id": "312cf681",
   "metadata": {},
   "source": [
    "<h3>EXAMPLE</h3>"
   ]
  },
  {
   "cell_type": "markdown",
   "id": "86574085",
   "metadata": {},
   "source": [
    "<h4>STEP ONE: Exploratory Data Analysis</h4>\n",
    "1a) Import the usual libraries including matplotlib.pyplot as plt, as well as the MiddleSchool report card data into a datframe df."
   ]
  },
  {
   "cell_type": "code",
   "execution_count": 1,
   "id": "9c4e4acd",
   "metadata": {},
   "outputs": [
    {
     "data": {
      "text/html": [
       "<div>\n",
       "<style scoped>\n",
       "    .dataframe tbody tr th:only-of-type {\n",
       "        vertical-align: middle;\n",
       "    }\n",
       "\n",
       "    .dataframe tbody tr th {\n",
       "        vertical-align: top;\n",
       "    }\n",
       "\n",
       "    .dataframe thead th {\n",
       "        text-align: right;\n",
       "    }\n",
       "</style>\n",
       "<table border=\"1\" class=\"dataframe\">\n",
       "  <thead>\n",
       "    <tr style=\"text-align: right;\">\n",
       "      <th></th>\n",
       "      <th>School Name</th>\n",
       "      <th>School Type</th>\n",
       "      <th>Grades Served</th>\n",
       "      <th>Summative Designation</th>\n",
       "      <th># Student Enrollment</th>\n",
       "      <th>% Student Enrollment - Black or African American</th>\n",
       "      <th>% Student Enrollment - Hispanic or Latino</th>\n",
       "      <th>% Student Enrollment - Children with Disabilities</th>\n",
       "      <th>% Student Enrollment - Low Income</th>\n",
       "      <th>Total Number of School Days</th>\n",
       "      <th>% 8th Grade Passing Algebra 1</th>\n",
       "      <th>Student Attendance Rate</th>\n",
       "      <th>Student Chronic Truancy Rate</th>\n",
       "      <th>Avg Class Size – All Grades</th>\n",
       "      <th>Teacher Retention Rate</th>\n",
       "    </tr>\n",
       "  </thead>\n",
       "  <tbody>\n",
       "    <tr>\n",
       "      <th>0</th>\n",
       "      <td>Barbour Two-Way Lang Immersion</td>\n",
       "      <td>ELEMENTARY</td>\n",
       "      <td>K 1 2 3 4 5 6 7 8</td>\n",
       "      <td>Commendable</td>\n",
       "      <td>779</td>\n",
       "      <td>6.0</td>\n",
       "      <td>84.3</td>\n",
       "      <td>6.5</td>\n",
       "      <td>72.9</td>\n",
       "      <td>181</td>\n",
       "      <td>0.0</td>\n",
       "      <td>96.1</td>\n",
       "      <td>7.4</td>\n",
       "      <td>26.2</td>\n",
       "      <td>91.4</td>\n",
       "    </tr>\n",
       "    <tr>\n",
       "      <th>1</th>\n",
       "      <td>Galapagos Rockford Charter Sch</td>\n",
       "      <td>CHARTER SCH</td>\n",
       "      <td>K 1 2 3 4 5 6 7 8</td>\n",
       "      <td>Commendable</td>\n",
       "      <td>343</td>\n",
       "      <td>60.1</td>\n",
       "      <td>18.4</td>\n",
       "      <td>16.6</td>\n",
       "      <td>44.3</td>\n",
       "      <td>181</td>\n",
       "      <td>0.0</td>\n",
       "      <td>95.8</td>\n",
       "      <td>29.6</td>\n",
       "      <td>19.1</td>\n",
       "      <td>44.2</td>\n",
       "    </tr>\n",
       "  </tbody>\n",
       "</table>\n",
       "</div>"
      ],
      "text/plain": [
       "                      School Name  School Type       Grades Served  \\\n",
       "0  Barbour Two-Way Lang Immersion   ELEMENTARY   K 1 2 3 4 5 6 7 8   \n",
       "1  Galapagos Rockford Charter Sch  CHARTER SCH   K 1 2 3 4 5 6 7 8   \n",
       "\n",
       "  Summative Designation  # Student Enrollment  \\\n",
       "0           Commendable                   779   \n",
       "1           Commendable                   343   \n",
       "\n",
       "   % Student Enrollment - Black or African American  \\\n",
       "0                                               6.0   \n",
       "1                                              60.1   \n",
       "\n",
       "   % Student Enrollment - Hispanic or Latino  \\\n",
       "0                                       84.3   \n",
       "1                                       18.4   \n",
       "\n",
       "   % Student Enrollment - Children with Disabilities  \\\n",
       "0                                                6.5   \n",
       "1                                               16.6   \n",
       "\n",
       "   % Student Enrollment - Low Income  Total Number of School Days  \\\n",
       "0                               72.9                          181   \n",
       "1                               44.3                          181   \n",
       "\n",
       "   % 8th Grade Passing Algebra 1  Student Attendance Rate  \\\n",
       "0                            0.0                     96.1   \n",
       "1                            0.0                     95.8   \n",
       "\n",
       "   Student Chronic Truancy Rate  Avg Class Size – All Grades  \\\n",
       "0                           7.4                         26.2   \n",
       "1                          29.6                         19.1   \n",
       "\n",
       "   Teacher Retention Rate  \n",
       "0                    91.4  \n",
       "1                    44.2  "
      ]
     },
     "execution_count": 1,
     "metadata": {},
     "output_type": "execute_result"
    }
   ],
   "source": [
    "import pandas as pd\n",
    "import numpy as np\n",
    "import matplotlib.pyplot as plt\n",
    "df=pd.read_excel(\"MiddleSchool.xlsx\")\n",
    "df.head(2)"
   ]
  },
  {
   "cell_type": "markdown",
   "id": "b4063a79",
   "metadata": {},
   "source": [
    "1b) Display the column names and the number of data rows in each column."
   ]
  },
  {
   "cell_type": "code",
   "execution_count": 2,
   "id": "0bcddb99",
   "metadata": {},
   "outputs": [
    {
     "data": {
      "text/plain": [
       "School Name                                          122\n",
       "School Type                                          122\n",
       "Grades Served                                        122\n",
       "Summative Designation                                122\n",
       "# Student Enrollment                                 122\n",
       "% Student Enrollment - Black or African American     122\n",
       "% Student Enrollment - Hispanic or Latino            122\n",
       "% Student Enrollment - Children with Disabilities    122\n",
       "% Student Enrollment - Low Income                    122\n",
       "Total Number of School Days                          122\n",
       "% 8th Grade Passing Algebra 1                        122\n",
       "Student Attendance Rate                              122\n",
       "Student Chronic Truancy Rate                         122\n",
       "Avg Class Size – All Grades                          122\n",
       "Teacher Retention Rate                               122\n",
       "dtype: int64"
      ]
     },
     "execution_count": 2,
     "metadata": {},
     "output_type": "execute_result"
    }
   ],
   "source": [
    "df.count()"
   ]
  },
  {
   "cell_type": "markdown",
   "id": "d3bafc7a",
   "metadata": {},
   "source": [
    "1c) Get the max and min values in each column."
   ]
  },
  {
   "cell_type": "code",
   "execution_count": 3,
   "id": "b0bf4393",
   "metadata": {},
   "outputs": [
    {
     "name": "stdout",
     "output_type": "stream",
     "text": [
      "min enroll 92\n",
      "max enroll 1306\n",
      "min % Student Enrollment - Black or African American 0.2\n",
      "max % Student Enrollment - Black or African American 99.5\n",
      "min % Student Enrollment - Hispanic or Latino 0.5\n",
      "max % Student Enrollment - Hispanic or Latino 99.8\n",
      "min % Student Enrollment - Children with Disabilities 5.8\n",
      "max % Student Enrollment - Children with Disabilities 56.3\n",
      "min % Student Enrollment - Low Income 0.3\n",
      "max % Student Enrollment - Low Income 99.6\n",
      "min Total Number of School Days 174\n",
      "max Total Number of School Days 186\n",
      "min % 8th Grade Passing Algebra 1 0.0\n",
      "max % 8th Grade Passing Algebra 1 100.0\n",
      "min Student Attendance Rate 91.1\n",
      "max Student Attendance Rate 99.7\n",
      "min Student Chronic Truancy Rate 0.0\n",
      "max Student Chronic Truancy Rate 46.2\n",
      "Avg Class Size – All Grades 2.0\n",
      "Avg Class Size – All Grades 31.6\n",
      "Teacher Retention Rate 0.0\n",
      "Teacher Retention Rate 100.0\n"
     ]
    }
   ],
   "source": [
    "n1min=df[\"# Student Enrollment\"].min()\n",
    "n1max=df[\"# Student Enrollment\"].max()\n",
    "n2min=df[\"% Student Enrollment - Black or African American\"].min()\n",
    "n2max=df[\"% Student Enrollment - Black or African American\"].max()\n",
    "n3min=df[\"% Student Enrollment - Hispanic or Latino\"].min()\n",
    "n3max=df[\"% Student Enrollment - Hispanic or Latino\"].max()\n",
    "n4min=df[\"% Student Enrollment - Children with Disabilities\"].min()\n",
    "n4max=df[\"% Student Enrollment - Children with Disabilities\"].max()\n",
    "n5min=df[\"% Student Enrollment - Low Income\"].min()\n",
    "n5max=df[\"% Student Enrollment - Low Income\"].max()\n",
    "n6min=df[\"Total Number of School Days\"].min()\n",
    "n6max=df[\"Total Number of School Days\"].max()\n",
    "n7min=df[\"% 8th Grade Passing Algebra 1\"].min()\n",
    "n7max=df[\"% 8th Grade Passing Algebra 1\"].max()\n",
    "n8min=df[\"Student Attendance Rate\"].min()\n",
    "n8max=df[\"Student Attendance Rate\"].max()\n",
    "n9min=df[\"Student Chronic Truancy Rate\"].min()\n",
    "n9max=df[\"Student Chronic Truancy Rate\"].max()\n",
    "n10min=df[\"Avg Class Size – All Grades\"].min()\n",
    "n10max=df[\"Avg Class Size – All Grades\"].max()\n",
    "n11min=df[\"Teacher Retention Rate\"].min()\n",
    "n11max=df[\"Teacher Retention Rate\"].max()\n",
    "print(\"min enroll\",n1min)\n",
    "print(\"max enroll\",n1max)\n",
    "print(\"min % Student Enrollment - Black or African American\",n2min)\n",
    "print(\"max % Student Enrollment - Black or African American\",n2max)\n",
    "print(\"min % Student Enrollment - Hispanic or Latino\",n3min)\n",
    "print(\"max % Student Enrollment - Hispanic or Latino\",n3max)\n",
    "print(\"min % Student Enrollment - Children with Disabilities\",n4min)\n",
    "print(\"max % Student Enrollment - Children with Disabilities\",n4max)\n",
    "print(\"min % Student Enrollment - Low Income\",n5min)\n",
    "print(\"max % Student Enrollment - Low Income\",n5max)\n",
    "print(\"min Total Number of School Days\",n6min)\n",
    "print(\"max Total Number of School Days\",n6max)\n",
    "print(\"min % 8th Grade Passing Algebra 1\",n7min)\n",
    "print(\"max % 8th Grade Passing Algebra 1\",n7max)\n",
    "print(\"min Student Attendance Rate\",n8min)\n",
    "print(\"max Student Attendance Rate\",n8max)\n",
    "print(\"min Student Chronic Truancy Rate\",n9min)\n",
    "print(\"max Student Chronic Truancy Rate\",n9max)\n",
    "print(\"Avg Class Size – All Grades\",n10min)\n",
    "print(\"Avg Class Size – All Grades\",n10max)\n",
    "print(\"Teacher Retention Rate\",n11min)\n",
    "print(\"Teacher Retention Rate\",n11max)\n"
   ]
  },
  {
   "cell_type": "markdown",
   "id": "4e261fae",
   "metadata": {},
   "source": [
    "1d) Check how many schools are in each category."
   ]
  },
  {
   "cell_type": "code",
   "execution_count": 4,
   "id": "fcef1214",
   "metadata": {},
   "outputs": [
    {
     "data": {
      "text/plain": [
       "Summative Designation\n",
       "Commendable      102\n",
       "Targeted           8\n",
       "Exemplary          6\n",
       "Comprehensive      6\n",
       "Name: count, dtype: int64"
      ]
     },
     "execution_count": 4,
     "metadata": {},
     "output_type": "execute_result"
    }
   ],
   "source": [
    "df[\"Summative Designation\"].value_counts()"
   ]
  },
  {
   "cell_type": "markdown",
   "id": "d78de7ca",
   "metadata": {},
   "source": [
    "<h4> STEP TWO</h4>\n",
    "Define a function which predicts whether a school is exemplary (1) or not-exemplary (0)."
   ]
  },
  {
   "cell_type": "markdown",
   "id": "6beaadad",
   "metadata": {},
   "source": [
    "2a) For a simple prediction, let us predict that a school is exemplary if the Teacher Retention Rate is at least 90%."
   ]
  },
  {
   "cell_type": "code",
   "execution_count": 5,
   "id": "049db859",
   "metadata": {},
   "outputs": [
    {
     "name": "stdout",
     "output_type": "stream",
     "text": [
      "|TP|= 5\n",
      "|TN|= 70\n",
      "|FP|= 46\n",
      "|FN|= 1\n",
      "Accuracy (% correct all 122 schools)= 61.0 %\n",
      "Precision (% correct of those you predicted to be exemplary) = 10.0 %\n",
      "Recall (% correct of schools that are exemplary) = 83.0 %\n",
      "COMPETITION F1 SCORE= 17.85 %\n"
     ]
    }
   ],
   "source": [
    "#---PREDICTION MODEL----#\n",
    "def mypredict(df):\n",
    "    for i in df.index:\n",
    "        if df.loc[i,\"Teacher Retention Rate\"]>90:\n",
    "            df.loc[i,\"Prediction\"]=1\n",
    "        else:\n",
    "            df.loc[i,\"Prediction\"]=0\n",
    "    return df\n",
    "\n",
    "#---APPLY MODEL TO OUR DATA---#\n",
    "mydf=mypredict(df)\n",
    "mydf=mydf.reset_index(drop=True)\n",
    "\n",
    "#---COMPUTE YOUR SCORE---#\n",
    "TP=0\n",
    "TN=0\n",
    "FP=0\n",
    "FN=0\n",
    "numschools=0\n",
    "for i in mydf.index:\n",
    "    if mydf.loc[i,\"Prediction\"]==1 and mydf.loc[i,\"Summative Designation\"]==\"Exemplary\":\n",
    "        TP=TP+1\n",
    "    if mydf.loc[i,\"Prediction\"]==0 and mydf.loc[i,\"Summative Designation\"]!=\"Exemplary\":\n",
    "        TN=TN+1\n",
    "    if mydf.loc[i,\"Prediction\"]==1 and mydf.loc[i,\"Summative Designation\"]!=\"Exemplary\":\n",
    "        FP=FP+1\n",
    "    if mydf.loc[i,\"Prediction\"]==0 and mydf.loc[i,\"Summative Designation\"]==\"Exemplary\":\n",
    "        FN=FN+1\n",
    "    numschools=numschools+1\n",
    "print(\"|TP|=\",TP)\n",
    "print(\"|TN|=\",TN)\n",
    "print(\"|FP|=\",FP)\n",
    "print(\"|FN|=\",FN)\n",
    "accuracy=round((TP+TN)/numschools,2)\n",
    "precision=round(TP/(TP+FP),2)\n",
    "recall=round(TP/(TP+FN),2)\n",
    "F1score=2*(precision*recall)/(precision+recall)\n",
    "print(\"Accuracy (% correct all 122 schools)=\",100*accuracy,\"%\")\n",
    "print(\"Precision (% correct of those you predicted to be exemplary) =\",100*precision,\"%\")\n",
    "print(\"Recall (% correct of schools that are exemplary) =\",100*recall,\"%\")\n",
    "print('COMPETITION F1 SCORE=',round(F1score*100,2),\"%\" )\n",
    "    "
   ]
  },
  {
   "cell_type": "markdown",
   "id": "65502d5e",
   "metadata": {},
   "source": [
    "#### ASSIGNMENT"
   ]
  },
  {
   "cell_type": "markdown",
   "id": "ec7802d0",
   "metadata": {},
   "source": [
    "Modify the Prediction Model to see how high you can score."
   ]
  }
 ],
 "metadata": {
  "kernelspec": {
   "display_name": "Python 3 (ipykernel)",
   "language": "python",
   "name": "python3"
  },
  "language_info": {
   "codemirror_mode": {
    "name": "ipython",
    "version": 3
   },
   "file_extension": ".py",
   "mimetype": "text/x-python",
   "name": "python",
   "nbconvert_exporter": "python",
   "pygments_lexer": "ipython3",
   "version": "3.9.2"
  }
 },
 "nbformat": 4,
 "nbformat_minor": 5
}
