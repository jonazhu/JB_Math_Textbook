{
 "cells": [
  {
   "cell_type": "markdown",
   "metadata": {},
   "source": [
    "# 6. Word Clouds"
   ]
  },
  {
   "cell_type": "markdown",
   "metadata": {},
   "source": [
    "In this lab, we will create <b>word clouds</b>-artistic representations of words from a speech, book, song or poem.  The freuency or number of times a word occurs is represented by the size of that word in the word cloud."
   ]
  },
  {
   "cell_type": "code",
   "execution_count": 1,
   "metadata": {},
   "outputs": [],
   "source": [
    "from IPython.display import YouTubeVideo\n",
    "YouTubeVideo('o8dzxh7Ybqw', width=800, height=300)"
   ]
  },
  {
   "cell_type": "markdown",
   "metadata": {},
   "source": [
    "<h3>STEP ONE</h3>\n",
    "Import the Python data analytics (pandas or pd) and numerical Python (numpy) libraries."
   ]
  },
  {
   "cell_type": "code",
   "execution_count": null,
   "metadata": {},
   "outputs": [],
   "source": [
    "import pandas as pd\n",
    "import numpy as np"
   ]
  },
  {
   "cell_type": "markdown",
   "metadata": {},
   "source": [
    "Q1. What is the abbreviation for numpy?\n",
    "<hr>\n",
    "<h3>STEP TWO</h3>\n",
    "Use pandas (pd) to read in the Excel file with the words of the chorus \"I have the joy, joy, joy, joy, down in my heart.\"  "
   ]
  },
  {
   "cell_type": "code",
   "execution_count": null,
   "metadata": {},
   "outputs": [],
   "source": [
    "joy=pd.read_excel(\"joy.xlsx\")  #read in the Excel file with the words\n",
    "joy.head(5)  #Display the first 5 rows."
   ]
  },
  {
   "cell_type": "markdown",
   "metadata": {},
   "source": [
    "Q2. What word is in row 4?\n",
    "<hr>\n",
    "<h3>STEP THREE</h3>\n",
    "Get the frequencies of each word"
   ]
  },
  {
   "cell_type": "code",
   "execution_count": null,
   "metadata": {},
   "outputs": [],
   "source": [
    "joy[\"WORDS\"].value_counts()"
   ]
  },
  {
   "cell_type": "markdown",
   "metadata": {},
   "source": [
    "Q3. Which word has the highest frequency?\n",
    "<hr>\n",
    "<h3> STEP FOUR</h3>\n",
    "We can make a simple word cloud by putting each important word in a specified place, with a given color, and given size.\n",
    "Add the text joy to the word cloud at position .3,.5 in color 'red' and fontsize=80."
   ]
  },
  {
   "cell_type": "code",
   "execution_count": null,
   "metadata": {},
   "outputs": [],
   "source": [
    "from matplotlib import pyplot as plt # library used for making graphs \n",
    "fig=plt.figure()\n",
    "plt.gca().text(.3,.5, 'joy',color='red',fontsize=80)\n",
    "plt.gca().text(.1,.7, 'heart',color='green',fontsize=50)\n",
    "plt.gca().text(.6,.3, 'down',color='gray',fontsize=50)\n",
    "plt.gca().text(.7,.6, 'my',color='yellow',fontsize=50)\n",
    "plt.gca().text(.1,.2, 'where',color='pink',fontsize=30)\n",
    "plt.gca().text(.4,.2, 'I',color='brown',fontsize=20)\n",
    "plt.gca().text(.15,.05, 'have',color='purple',fontsize=20)\n",
    "plt.gca().text(.4,.1, 'stay',color='cyan',fontsize=10)\n",
    "plt.show()"
   ]
  },
  {
   "cell_type": "markdown",
   "metadata": {},
   "source": [
    "Q4. What command is used to include the word joy?\n",
    "<hr>\n",
    "<h3> STEP FIVE</h3>\n",
    "Data scientists have created functions to make word clouds so we don't have to enter each word or letter one by one.  These are found in the wordcloud library. "
   ]
  },
  {
   "cell_type": "code",
   "execution_count": null,
   "metadata": {},
   "outputs": [],
   "source": [
    "!pip install wordcloud\n",
    "import wordcloud #used to make a wordcloud"
   ]
  },
  {
   "cell_type": "markdown",
   "metadata": {},
   "source": [
    "Q5. What is the name of the library which creates word clouds?\n",
    "<hr>\n",
    "<h3>STEP SIX</h3>\n",
    "Check how fast the computer can read the text file with the lyrics to All I Need is You."
   ]
  },
  {
   "cell_type": "code",
   "execution_count": null,
   "metadata": {},
   "outputs": [],
   "source": [
    "import time   #use to measure time\n",
    "start = time.time()  #record the start time\n",
    "with open('I have a dream.txt','r') as file:  #read in the text file\n",
    "    speech = file.readlines()\n",
    "finish = time.time()  #record the finish time\n",
    "print(finish - start)"
   ]
  },
  {
   "cell_type": "markdown",
   "metadata": {},
   "source": [
    "Q6. How fast did the computer read the text file?\n",
    "<hr>\n",
    "<h3> STEP SEVEN</h3>\n",
    "Define a function to take out punctuation marks and count the interesting words"
   ]
  },
  {
   "cell_type": "code",
   "execution_count": null,
   "metadata": {},
   "outputs": [],
   "source": [
    "#Define a function which counts the interesting words\n",
    "def calculate_frequencies(textfile):\n",
    "    #list of punctuations\n",
    "    punctuations = '''!()-[]{};:'\"\\,<>./?@#$%^&*_~'''\n",
    "    #list of uninteresting words \n",
    "    uninteresting_words = [\"AND\",\"IT\",\"THE\"]  #add to this list\n",
    "   \n",
    "     # removes punctuation and uninteresting words\n",
    "    import re\n",
    "    fc1=str(textfile)\n",
    "    fc2= fc1.split(' ')\n",
    "    for i in range(len(fc2)): \n",
    "        fc2[i] = fc2[i].upper()\n",
    "    #Remove punctuations\n",
    "    fc3 = []\n",
    "    for s in fc2:\n",
    "        if not any([o in s for o in punctuations]):\n",
    "            fc3.append(s)\n",
    "    #Remove uninteresting words\n",
    "    fc4=[]\n",
    "    for s in fc3:\n",
    "        if not any([o in s for o in uninteresting_words]):\n",
    "            fc4.append(s)\n",
    "    fc5=[]\n",
    "    for s in fc4:\n",
    "        if not any([o.lower() in s for o in uninteresting_words]):\n",
    "            fc5.append(s)\n",
    "            \n",
    "    while('' in fc5) : \n",
    "        fc5.remove('') \n",
    "        \n",
    "    import collections\n",
    "    fc6 = collections.Counter(fc5)\n",
    "\n",
    "    #wordcloud\n",
    "    cloud = wordcloud.WordCloud( max_words = 30)  #can adjust the number of words\n",
    "    cloud.generate_from_frequencies(fc6)\n",
    "    return cloud.to_array()"
   ]
  },
  {
   "cell_type": "markdown",
   "metadata": {},
   "source": [
    "Q7. What uninteresting words does the above function remove from the word cloud?\n",
    "<hr>\n",
    "\n",
    "<h3> STEP EIGHT</h3>\n",
    "Make the word cloud by executing the next cell.  Then modify the calculate_frequencies() function to elimnate uninteresting words.  Also change how many words are displayed."
   ]
  },
  {
   "cell_type": "code",
   "execution_count": null,
   "metadata": {},
   "outputs": [],
   "source": [
    "myimage = calculate_frequencies(speech)\n",
    "plt.imshow(myimage, interpolation = 'nearest')\n",
    "plt.axis('off')\n",
    "plt.savefig('Ihaveadream.png', bbox_inches='tight')\n",
    "plt.show()"
   ]
  },
  {
   "cell_type": "markdown",
   "metadata": {},
   "source": [
    "Q8. What is the name of the file with the word cloud image for the I have a dream speech?\n",
    "<hr>\n"
   ]
  },
  {
   "cell_type": "markdown",
   "metadata": {},
   "source": [
    "<h3> ACTIVITY</h3>\n",
    "Create word cloud of a famous speech, poem, song etc. Then edit out all the uninteresting words. Then see if the others in the class can figure out your source from 10 words, 20 words, 30 words etc.\n"
   ]
  },
  {
   "cell_type": "markdown",
   "metadata": {},
   "source": [
    "#### Solutions"
   ]
  },
  {
   "cell_type": "markdown",
   "metadata": {},
   "source": [
    "Q1) np  \n",
    "\n",
    "Q2) joy\n",
    "\n",
    "Q3)  joy\n",
    "\n",
    "Q4) plt.gca().text(.3,.5, 'joy',color='red',fontsize=80)\n",
    "\n",
    "Q5) wordcloud\n",
    "\n",
    "Q6) Will vary with computer, but much less than 1 second.\n",
    "\n",
    "Q7) \"AND\",\"IT\",\"THE\"\n",
    "\n",
    "Q8) 'Ihaveadream.png'"
   ]
  },
  {
   "cell_type": "markdown",
   "metadata": {},
   "source": [
    "#### Activity\n",
    "\n",
    "Here is an example using the song \"All I Need is You\" by Lecrae."
   ]
  },
  {
   "cell_type": "code",
   "execution_count": null,
   "metadata": {},
   "outputs": [],
   "source": [
    "with open('allineedisyou.txt','r') as file:  #read in the text file\n",
    "    rap_lyrics = file.readlines()\n",
    "    \n",
    "myimage = calculate_frequencies(rap_lyrics)\n",
    "plt.imshow(myimage, interpolation = 'nearest')\n",
    "plt.axis('off')\n",
    "plt.savefig('allineedisyou.png', bbox_inches='tight')\n",
    "plt.show()"
   ]
  },
  {
   "cell_type": "code",
   "execution_count": null,
   "metadata": {},
   "outputs": [],
   "source": []
  }
 ],
 "metadata": {
  "coursera": {
   "course_slug": "python-crash-course",
   "graded_item_id": "Z5d28",
   "launcher_item_id": "eSjyd"
  },
  "kernelspec": {
   "display_name": "Python 3 (ipykernel)",
   "language": "python",
   "name": "python3"
  },
  "language_info": {
   "codemirror_mode": {
    "name": "ipython",
    "version": 3
   },
   "file_extension": ".py",
   "mimetype": "text/x-python",
   "name": "python",
   "nbconvert_exporter": "python",
   "pygments_lexer": "ipython3",
   "version": "3.10.9"
  },
  "widgets": {
   "application/vnd.jupyter.widget-state+json": {
    "state": {},
    "version_major": 2,
    "version_minor": 0
   }
  }
 },
 "nbformat": 4,
 "nbformat_minor": 2
}
