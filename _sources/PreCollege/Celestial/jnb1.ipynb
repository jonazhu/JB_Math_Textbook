{
 "cells": [
  {
   "cell_type": "markdown",
   "metadata": {},
   "source": [
    "# 1 Functions- Michael Jordan's Highest Scoring Game"
   ]
  },
  {
   "cell_type": "markdown",
   "metadata": {},
   "source": [
    "In this lab, we will introduce a very important programming tool called a function.  "
   ]
  },
  {
   "cell_type": "markdown",
   "metadata": {},
   "source": [
    "<h3>STEP#1</h3>\n",
    "Watch the PowerPoint on this lesson.\n",
    "<a href=\"https://drive.google.com/file/d/1GlvEmf_TnwEDfB9xgEeAQfO0dAT50LVL/view?usp=sharing\" target=\"_blank\">link to PPT</a>"
   ]
  },
  {
   "cell_type": "markdown",
   "metadata": {},
   "source": [
    "<a href=\"jnb1.pdf\">"
   ]
  },
  {
   "cell_type": "markdown",
   "metadata": {},
   "source": [
    "<h3>STEP #2</h3>\n",
    "Does anyone remember from the PowerPoint, a variable is like a b  ____ . A variable has a n  ______ . We can store some i  ______  such as a number (eg. 3) or a message (eg. 'God is Good!') in a variable.\n",
    "Let's give names to two variables:\n",
    "<ul>\n",
    "    <li>feet</li>\n",
    "    <li>inch</li></ul>\n",
    "    \n",
    "In Michael Jordan's case, the info stored in the variable feet is the number 6 and the info stored in the variable inch is also equal to 6. For short, we just write feet=6 and inch=6\n",
    "Let's go around and each person state your name and what your value is for the variables feet and inch."
   ]
  },
  {
   "cell_type": "markdown",
   "metadata": {},
   "source": [
    "<h3>STEP #3</h3>\n",
    "Who remembers the word for a short computer program? c ______  What programming language are we learning? Py  ______ n.\n",
    "In the next cell, we give Python code to create the function in STEP 2. It might look complicated, but your mentor will explain what's going on. Ask questions!"
   ]
  },
  {
   "cell_type": "code",
   "execution_count": 2,
   "metadata": {},
   "outputs": [],
   "source": [
    "def height(feet,inch):\n",
    "    height_in_inches = 12*feet + inch  \n",
    "    return height_in_inches"
   ]
  },
  {
   "cell_type": "code",
   "execution_count": null,
   "metadata": {},
   "outputs": [],
   "source": [
    "height(6,0)  #Test on Seimone's height  feet=6, inch=0"
   ]
  },
  {
   "cell_type": "markdown",
   "metadata": {},
   "source": [
    "<h3> STEP #4</h3>\n",
    "What do we have to do in the next cell to test our function on 6'6\" Michael Jordan?"
   ]
  },
  {
   "cell_type": "code",
   "execution_count": null,
   "metadata": {},
   "outputs": [],
   "source": [
    "# supply the missing input values for height(feet,inches)"
   ]
  },
  {
   "cell_type": "markdown",
   "metadata": {},
   "source": [
    "<h3> STEP #5</h3>\n",
    "One of the fun parts of programming is that we can try to design a function to do almost anything we want. \n",
    "\n",
    "Define a function called points(fg,ft,tp) which computes the points scored by a basketball player given the input variables \n",
    "<ul>\n",
    "    <li> fg= number of 2 point field goals made</li>\n",
    "    <li> ft=number of free throws made </li>\n",
    "    <li> tp=number of three point shots made </li>\n",
    "    \n",
    "Use a variable called pts to store the answer."
   ]
  },
  {
   "cell_type": "code",
   "execution_count": null,
   "metadata": {},
   "outputs": [],
   "source": [
    "\n",
    "\n"
   ]
  },
  {
   "cell_type": "markdown",
   "metadata": {},
   "source": [
    "<h3> STEP #6</h3>\n",
    "In his heighest scoring game, Michael Jordan made 21 two-point field goals, 21 free throws and 2 three point shots.\n",
    "Check that your function gives the correct value of 69 for his point total."
   ]
  },
  {
   "cell_type": "code",
   "execution_count": null,
   "metadata": {},
   "outputs": [],
   "source": [
    "#Supply the missing values for points(fg,ft,tp)"
   ]
  },
  {
   "cell_type": "markdown",
   "metadata": {},
   "source": [
    "<h3> STEP #7</h3>\n",
    "Discuss the following questions:\n",
    "\n",
    "1.  What would you like your mentors to explain about today's lesson?\n",
    "\n",
    "2. What is one of your favorite sports memories?"
   ]
  },
  {
   "cell_type": "markdown",
   "metadata": {},
   "source": [
    "Congratulations for completing JNB1!"
   ]
  }
 ],
 "metadata": {
  "kernelspec": {
   "display_name": "Python 3 (ipykernel)",
   "language": "python",
   "name": "python3"
  },
  "language_info": {
   "codemirror_mode": {
    "name": "ipython",
    "version": 3
   },
   "file_extension": ".py",
   "mimetype": "text/x-python",
   "name": "python",
   "nbconvert_exporter": "python",
   "pygments_lexer": "ipython3",
   "version": "3.10.9"
  }
 },
 "nbformat": 4,
 "nbformat_minor": 2
}
