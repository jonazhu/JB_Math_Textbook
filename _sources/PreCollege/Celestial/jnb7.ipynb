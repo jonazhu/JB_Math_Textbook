{
 "cells": [
  {
   "cell_type": "markdown",
   "metadata": {},
   "source": [
    "# 7. Mapping Famous Chicagoans"
   ]
  },
  {
   "cell_type": "markdown",
   "metadata": {},
   "source": [
    "In the lab we will learn how to use Python to put information on a map of a geographical location."
   ]
  },
  {
   "cell_type": "markdown",
   "metadata": {},
   "source": [
    "<h4>Step One</h4>\n",
    "Let's' begin by importing data of some famous people born in Chicago."
   ]
  },
  {
   "cell_type": "code",
   "execution_count": 1,
   "metadata": {},
   "outputs": [
    {
     "data": {
      "text/html": [
       "<div>\n",
       "<style scoped>\n",
       "    .dataframe tbody tr th:only-of-type {\n",
       "        vertical-align: middle;\n",
       "    }\n",
       "\n",
       "    .dataframe tbody tr th {\n",
       "        vertical-align: top;\n",
       "    }\n",
       "\n",
       "    .dataframe thead th {\n",
       "        text-align: right;\n",
       "    }\n",
       "</style>\n",
       "<table border=\"1\" class=\"dataframe\">\n",
       "  <thead>\n",
       "    <tr style=\"text-align: right;\">\n",
       "      <th></th>\n",
       "      <th>Name</th>\n",
       "      <th>Age</th>\n",
       "      <th>Alive</th>\n",
       "      <th>Noted For</th>\n",
       "      <th>Place of Birth</th>\n",
       "      <th>Zip</th>\n",
       "      <th>Lat</th>\n",
       "      <th>Lon</th>\n",
       "      <th>fun fact</th>\n",
       "    </tr>\n",
       "  </thead>\n",
       "  <tbody>\n",
       "    <tr>\n",
       "      <th>0</th>\n",
       "      <td>Michelle Obama</td>\n",
       "      <td>56</td>\n",
       "      <td>yes</td>\n",
       "      <td>First Lady</td>\n",
       "      <td>Provident Hospital</td>\n",
       "      <td>60605</td>\n",
       "      <td>41.802665</td>\n",
       "      <td>-87.613657</td>\n",
       "      <td>father worked at city water plant</td>\n",
       "    </tr>\n",
       "    <tr>\n",
       "      <th>1</th>\n",
       "      <td>Robin Williams</td>\n",
       "      <td>63</td>\n",
       "      <td>no</td>\n",
       "      <td>Actor</td>\n",
       "      <td>St Luke's Hospital</td>\n",
       "      <td>60605</td>\n",
       "      <td>41.863100</td>\n",
       "      <td>-87.623100</td>\n",
       "      <td>went to Julliard with Christopher Reeve</td>\n",
       "    </tr>\n",
       "    <tr>\n",
       "      <th>2</th>\n",
       "      <td>Walt Disney</td>\n",
       "      <td>65</td>\n",
       "      <td>no</td>\n",
       "      <td>Film Producer</td>\n",
       "      <td>149 Tripp Ave</td>\n",
       "      <td>60651</td>\n",
       "      <td>41.907879</td>\n",
       "      <td>-87.732594</td>\n",
       "      <td>won 22 oscars</td>\n",
       "    </tr>\n",
       "    <tr>\n",
       "      <th>3</th>\n",
       "      <td>Bobby Fischer</td>\n",
       "      <td>64</td>\n",
       "      <td>no</td>\n",
       "      <td>Chess</td>\n",
       "      <td>Michael Reese  Hospital</td>\n",
       "      <td>60606</td>\n",
       "      <td>41.884116</td>\n",
       "      <td>-87.637656</td>\n",
       "      <td>grandmaster at age 15</td>\n",
       "    </tr>\n",
       "    <tr>\n",
       "      <th>4</th>\n",
       "      <td>Isiah Thomas</td>\n",
       "      <td>59</td>\n",
       "      <td>yes</td>\n",
       "      <td>Basketball</td>\n",
       "      <td>West Side</td>\n",
       "      <td>60624</td>\n",
       "      <td>41.874827</td>\n",
       "      <td>-87.710075</td>\n",
       "      <td>youngest of 9 children</td>\n",
       "    </tr>\n",
       "  </tbody>\n",
       "</table>\n",
       "</div>"
      ],
      "text/plain": [
       "             Name  Age Alive      Noted For           Place of Birth    Zip  \\\n",
       "0  Michelle Obama   56   yes     First Lady       Provident Hospital  60605   \n",
       "1  Robin Williams   63    no          Actor       St Luke's Hospital  60605   \n",
       "2     Walt Disney   65    no  Film Producer            149 Tripp Ave  60651   \n",
       "3   Bobby Fischer   64    no          Chess  Michael Reese  Hospital  60606   \n",
       "4    Isiah Thomas   59   yes     Basketball                West Side  60624   \n",
       "\n",
       "         Lat        Lon                                 fun fact  \n",
       "0  41.802665 -87.613657        father worked at city water plant  \n",
       "1  41.863100 -87.623100  went to Julliard with Christopher Reeve  \n",
       "2  41.907879 -87.732594                            won 22 oscars  \n",
       "3  41.884116 -87.637656                    grandmaster at age 15  \n",
       "4  41.874827 -87.710075                   youngest of 9 children  "
      ]
     },
     "execution_count": 1,
     "metadata": {},
     "output_type": "execute_result"
    }
   ],
   "source": [
    "import pandas as pd\n",
    "Chi=pd.read_csv('chicagoans.csv')\n",
    "Chi"
   ]
  },
  {
   "cell_type": "markdown",
   "metadata": {},
   "source": [
    "Q1. How old was Bobby Fischer when he became a grandmaster?\n",
    "<hr>\n",
    "<h3> STEP TWO</h3>\n",
    "Let's use a Python library called folium to make a map of Chicago."
   ]
  },
  {
   "cell_type": "code",
   "execution_count": 2,
   "metadata": {},
   "outputs": [
    {
     "name": "stdout",
     "output_type": "stream",
     "text": [
      "Requirement already satisfied: folium in c:\\users\\pisihara\\appdata\\local\\continuum\\anaconda3\\lib\\site-packages (0.10.0)\n",
      "Requirement already satisfied: numpy in c:\\users\\pisihara\\appdata\\local\\continuum\\anaconda3\\lib\\site-packages (from folium) (1.19.3)\n",
      "Requirement already satisfied: jinja2>=2.9 in c:\\users\\pisihara\\appdata\\local\\continuum\\anaconda3\\lib\\site-packages (from folium) (2.10)\n",
      "Requirement already satisfied: requests in c:\\users\\pisihara\\appdata\\local\\continuum\\anaconda3\\lib\\site-packages (from folium) (2.18.4)\n",
      "Requirement already satisfied: branca>=0.3.0 in c:\\users\\pisihara\\appdata\\local\\continuum\\anaconda3\\lib\\site-packages (from folium) (0.3.1)\n",
      "Requirement already satisfied: six in c:\\users\\pisihara\\appdata\\local\\continuum\\anaconda3\\lib\\site-packages (from branca>=0.3.0->folium) (1.11.0)\n",
      "Requirement already satisfied: MarkupSafe>=0.23 in c:\\users\\pisihara\\appdata\\local\\continuum\\anaconda3\\lib\\site-packages (from jinja2>=2.9->folium) (1.0)\n",
      "Requirement already satisfied: chardet<3.1.0,>=3.0.2 in c:\\users\\pisihara\\appdata\\local\\continuum\\anaconda3\\lib\\site-packages (from requests->folium) (3.0.4)\n",
      "Requirement already satisfied: idna<2.7,>=2.5 in c:\\users\\pisihara\\appdata\\local\\continuum\\anaconda3\\lib\\site-packages (from requests->folium) (2.6)\n",
      "Requirement already satisfied: urllib3<1.23,>=1.21.1 in c:\\users\\pisihara\\appdata\\local\\continuum\\anaconda3\\lib\\site-packages (from requests->folium) (1.22)\n",
      "Requirement already satisfied: certifi>=2017.4.17 in c:\\users\\pisihara\\appdata\\local\\continuum\\anaconda3\\lib\\site-packages (from requests->folium) (2019.6.16)\n"
     ]
    },
    {
     "name": "stderr",
     "output_type": "stream",
     "text": [
      "WARNING: Ignoring invalid distribution -umpy (c:\\users\\pisihara\\appdata\\local\\continuum\\anaconda3\\lib\\site-packages)\n",
      "WARNING: Ignoring invalid distribution -cipy (c:\\users\\pisihara\\appdata\\local\\continuum\\anaconda3\\lib\\site-packages)\n",
      "WARNING: Ignoring invalid distribution -umpy (c:\\users\\pisihara\\appdata\\local\\continuum\\anaconda3\\lib\\site-packages)\n",
      "WARNING: Ignoring invalid distribution -cipy (c:\\users\\pisihara\\appdata\\local\\continuum\\anaconda3\\lib\\site-packages)\n",
      "WARNING: Ignoring invalid distribution -umpy (c:\\users\\pisihara\\appdata\\local\\continuum\\anaconda3\\lib\\site-packages)\n",
      "WARNING: Ignoring invalid distribution -cipy (c:\\users\\pisihara\\appdata\\local\\continuum\\anaconda3\\lib\\site-packages)\n",
      "WARNING: Ignoring invalid distribution -umpy (c:\\users\\pisihara\\appdata\\local\\continuum\\anaconda3\\lib\\site-packages)\n",
      "WARNING: Ignoring invalid distribution -cipy (c:\\users\\pisihara\\appdata\\local\\continuum\\anaconda3\\lib\\site-packages)\n",
      "WARNING: Ignoring invalid distribution -umpy (c:\\users\\pisihara\\appdata\\local\\continuum\\anaconda3\\lib\\site-packages)\n",
      "WARNING: Ignoring invalid distribution -cipy (c:\\users\\pisihara\\appdata\\local\\continuum\\anaconda3\\lib\\site-packages)\n"
     ]
    }
   ],
   "source": [
    "!pip install folium"
   ]
  },
  {
   "cell_type": "code",
   "execution_count": 3,
   "metadata": {
    "scrolled": true
   },
   "outputs": [
    {
     "data": {
      "text/html": [
       "<div style=\"width:100%;\"><div style=\"position:relative;width:100%;height:0;padding-bottom:60%;\"><iframe src=\"data:text/html;charset=utf-8;base64,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\" style=\"position:absolute;width:100%;height:100%;left:0;top:0;border:none !important;\" allowfullscreen webkitallowfullscreen mozallowfullscreen></iframe></div></div>"
      ],
      "text/plain": [
       "<folium.folium.Map at 0x253294a3c50>"
      ]
     },
     "execution_count": 3,
     "metadata": {},
     "output_type": "execute_result"
    }
   ],
   "source": [
    "import folium # map rendering library\n",
    "from folium.features import DivIcon #used to add popup info to a map\n",
    "Chicago_map = folium.Map(location=[41.886456, -87.62325],  tiles=\"Stamen Toner\", zoom_start=10)\n",
    "Chicago_map"
   ]
  },
  {
   "cell_type": "markdown",
   "metadata": {},
   "source": [
    "Q2.\n",
    "\n",
    "Try adjusting the \"zoom_start\" value. What happens?\n",
    "\n",
    "What happens if you change the numbers in location=[41.886456, -87.62325]\""
   ]
  },
  {
   "cell_type": "markdown",
   "metadata": {},
   "source": [
    "<hr>\n",
    "<h3> STEP THREE</h3>\n",
    "Let's add our data about famous Chicagoans to the map."
   ]
  },
  {
   "cell_type": "code",
   "execution_count": 4,
   "metadata": {},
   "outputs": [
    {
     "data": {
      "text/html": [
       "<div style=\"width:100%;\"><div style=\"position:relative;width:100%;height:0;padding-bottom:60%;\"><iframe src=\"data:text/html;charset=utf-8;base64,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\" style=\"position:absolute;width:100%;height:100%;left:0;top:0;border:none !important;\" allowfullscreen webkitallowfullscreen mozallowfullscreen></iframe></div></div>"
      ],
      "text/plain": [
       "<folium.folium.Map at 0x253453f5710>"
      ]
     },
     "execution_count": 4,
     "metadata": {},
     "output_type": "execute_result"
    }
   ],
   "source": [
    "Chicago_map=folium.Map(location=[41.886456,-87.62325],tiles=\"Stamen Toner\",zoom_start=10)\n",
    "for i in Chi.index:\n",
    "    p=[Chi.loc[i,\"Lat\"],Chi.loc[i,\"Lon\"]]\n",
    "    folium.Marker(p,icon=DivIcon(\n",
    "        icon_size=(100,0),\n",
    "        icon_anchor=(0,8),\n",
    "        html='<div style=\"font-size:20pt; color:red\">'+str(Chi.loc[i,\"Name\"]) +'</div>',\n",
    "            )).add_to(Chicago_map)\n",
    "    Chicago_map.add_child(folium.CircleMarker(p, radius=1,color='red'))\n",
    "Chicago_map.save(\"Chicagoans.html\")\n",
    "Chicago_map"
   ]
  },
  {
   "cell_type": "markdown",
   "metadata": {},
   "source": [
    "Map tiles by Stamen Design Data by (c)Open Street Map\n",
    "\n",
    "Q3. What side of the city was Michelle Obama born?\n",
    "<hr>\n",
    "<h3>STEP FOUR</h3>\n",
    "Let's make a function which can add another person to our dataframe called Chi  "
   ]
  },
  {
   "cell_type": "code",
   "execution_count": 5,
   "metadata": {},
   "outputs": [],
   "source": [
    "def addperson(map_name,df,name,age,alive,noted,birth,zipcode,lat,lon,fact):\n",
    "    our_map=map_name \n",
    "    new_row = {'Name':name, \n",
    "                   'Age':age, \n",
    "                   'Alive':alive,\n",
    "                   'Noted For':noted,\n",
    "                    'Place of Birth':birth,\n",
    "                    'Zip':zipcode,\n",
    "                    'Lat':lat,\n",
    "                    'Lon':lon,\n",
    "                    'Fun Fact':fact            }\n",
    "    df= df.append(new_row, ignore_index=True)\n",
    "    for i in df.index:\n",
    "        p=[df.loc[i,\"Lat\"],df.loc[i,\"Lon\"]]\n",
    "        folium.Marker(p,icon=DivIcon(\n",
    "            icon_size=(100,0),\n",
    "            icon_anchor=(0,8),\n",
    "            html='<div style=\"font-size: 30pt; color : red\">'+str(df.loc[i,\"Name\"]) +'</div>',\n",
    "                )).add_to(our_map)\n",
    "        our_map.add_child(folium.CircleMarker(p, radius=1,color='red'))\n",
    "    return df,our_map"
   ]
  },
  {
   "cell_type": "markdown",
   "metadata": {},
   "source": [
    "Q4. What command is used to add a new line to the dataframe df?\n",
    "<hr>"
   ]
  },
  {
   "cell_type": "markdown",
   "metadata": {},
   "source": [
    "<h3>STEP FIVE</h3>\n",
    "Let's add Jenifer Hudson to our dataframe using the following info:\n",
    "\n",
    "'Jennifer Hudson',38,'yes','Actress','Englewood',60621,41.779699,-87.633194,'worked at Burger King'\n"
   ]
  },
  {
   "cell_type": "code",
   "execution_count": 6,
   "metadata": {},
   "outputs": [
    {
     "data": {
      "text/html": [
       "<div style=\"width:100%;\"><div style=\"position:relative;width:100%;height:0;padding-bottom:60%;\"><iframe src=\"data:text/html;charset=utf-8;base64,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\" style=\"position:absolute;width:100%;height:100%;left:0;top:0;border:none !important;\" allowfullscreen webkitallowfullscreen mozallowfullscreen></iframe></div></div>"
      ],
      "text/plain": [
       "<folium.folium.Map at 0x253453f5710>"
      ]
     },
     "execution_count": 6,
     "metadata": {},
     "output_type": "execute_result"
    }
   ],
   "source": [
    "[Chi,Chicagomap]=addperson(Chicago_map,Chi,'Jennifer Hudson','Actress',38,'yes','Englewood',60621,41.779699,-87.633194,'worked at Burger King')\n",
    "Chicago_map"
   ]
  },
  {
   "cell_type": "markdown",
   "metadata": {},
   "source": [
    "Map tiles by Stamen Design Data by (c)Open Street Map\n",
    "\n",
    "Q5. Where did Jennifer Hudson work before becoming famous?\n",
    "<hr>\n",
    "<h3>STEP SIX</h3>\n",
    "Add your info to the map by editing the info in the next cell.\n"
   ]
  },
  {
   "cell_type": "code",
   "execution_count": 7,
   "metadata": {},
   "outputs": [],
   "source": [
    "#answer to Step Six"
   ]
  },
  {
   "cell_type": "markdown",
   "metadata": {},
   "source": [
    "<h3> STEP SEVEN</h3>\n",
    "Let's save your map and info in a new Excel file.\n"
   ]
  },
  {
   "cell_type": "code",
   "execution_count": 8,
   "metadata": {},
   "outputs": [],
   "source": [
    "Chicago_map.save(\"Chicagoans.html\")\n",
    "Chi.to_excel('ChiRevised.xlsx')"
   ]
  },
  {
   "cell_type": "markdown",
   "metadata": {},
   "source": [
    "Q7. Did your map display correctly?  Did the new Excel file include your name?\n",
    "<hr>\n"
   ]
  },
  {
   "cell_type": "markdown",
   "metadata": {},
   "source": [
    "<h4> For Discussion </h4>\n",
    "a) Whom do you admire?  Why so?\n",
    "<hr>\n",
    "b)  What character qualities can help someone to be successful in life?\n",
    "<hr>\n",
    "c) What can help you to be more successful?\n",
    "<hr>"
   ]
  },
  {
   "cell_type": "markdown",
   "metadata": {},
   "source": [
    "#### Solutions"
   ]
  },
  {
   "cell_type": "markdown",
   "metadata": {},
   "source": [
    "Q1) 15\n",
    "\n",
    "Q2) Increasing the zoom_start value zooms in on the specified location. Changing the numbers in location changes the lat,lon of the zoom position.\n",
    "\n",
    "Q3) South Side\n",
    "\n",
    "Q4) new_info and df.append in lines 3-12\n",
    "\n",
    "Q5) Burger King"
   ]
  },
  {
   "cell_type": "code",
   "execution_count": 9,
   "metadata": {},
   "outputs": [
    {
     "data": {
      "text/html": [
       "<div style=\"width:100%;\"><div style=\"position:relative;width:100%;height:0;padding-bottom:60%;\"><iframe src=\"data:text/html;charset=utf-8;base64,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\" style=\"position:absolute;width:100%;height:100%;left:0;top:0;border:none !important;\" allowfullscreen webkitallowfullscreen mozallowfullscreen></iframe></div></div>"
      ],
      "text/plain": [
       "<folium.folium.Map at 0x253453f5710>"
      ]
     },
     "execution_count": 9,
     "metadata": {},
     "output_type": "execute_result"
    }
   ],
   "source": [
    "# Q6\n",
    "[Chi2,Chicago_map]=addperson(Chicago_map,Chi,'Lorraine Hansberry','Writer',34,'no','Provident Hospital',60615,41.80287,-87.61325,'studied painting in Mexico')\n",
    "Chicago_map"
   ]
  }
 ],
 "metadata": {
  "kernelspec": {
   "display_name": "Python 3",
   "language": "python",
   "name": "python3"
  },
  "language_info": {
   "codemirror_mode": {
    "name": "ipython",
    "version": 3
   },
   "file_extension": ".py",
   "mimetype": "text/x-python",
   "name": "python",
   "nbconvert_exporter": "python",
   "pygments_lexer": "ipython3",
   "version": "3.6.4"
  }
 },
 "nbformat": 4,
 "nbformat_minor": 2
}
