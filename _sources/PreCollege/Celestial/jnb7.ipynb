{
 "cells": [
  {
   "cell_type": "markdown",
   "metadata": {},
   "source": [
    "# 7. Mapping Famous Chicagoans"
   ]
  },
  {
   "cell_type": "markdown",
   "metadata": {},
   "source": [
    "In the lab we will learn how to use Python to put information on a map of a geographical location."
   ]
  },
  {
   "cell_type": "markdown",
   "metadata": {},
   "source": [
    "<h4>Step One</h4>\n",
    "Let's' begin by importing data of some famous people born in Chicago."
   ]
  },
  {
   "cell_type": "code",
   "execution_count": 1,
   "metadata": {},
   "outputs": [],
   "source": [
    "import pandas as pd\n",
    "Chi=pd.read_csv('chicagoans.csv')\n",
    "Chi"
   ]
  },
  {
   "cell_type": "markdown",
   "metadata": {},
   "source": [
    "Q1. How old was Bobby Fischer when he became a grandmaster?\n",
    "<hr>\n",
    "<h3> STEP TWO</h3>\n",
    "Let's use a Python library called folium to make a map of Chicago."
   ]
  },
  {
   "cell_type": "code",
   "execution_count": 2,
   "metadata": {},
   "outputs": [],
   "source": [
    "!pip install folium"
   ]
  },
  {
   "cell_type": "code",
   "execution_count": 3,
   "metadata": {
    "scrolled": true
   },
   "outputs": [],
   "source": [
    "import folium # map rendering library\n",
    "from folium.features import DivIcon #used to add popup info to a map\n",
    "Chicago_map = folium.Map(location=[41.886456, -87.62325],  tiles=\"Stamen Toner\", zoom_start=10)\n",
    "Chicago_map"
   ]
  },
  {
   "cell_type": "markdown",
   "metadata": {},
   "source": [
    "Q2.\n",
    "\n",
    "Try adjusting the \"zoom_start\" value. What happens?\n",
    "\n",
    "What happens if you change the numbers in location=[41.886456, -87.62325]\""
   ]
  },
  {
   "cell_type": "markdown",
   "metadata": {},
   "source": [
    "<hr>\n",
    "<h3> STEP THREE</h3>\n",
    "Let's add our data about famous Chicagoans to the map."
   ]
  },
  {
   "cell_type": "code",
   "execution_count": 4,
   "metadata": {},
   "outputs": [],
   "source": [
    "Chicago_map=folium.Map(location=[41.886456,-87.62325],tiles=\"Stamen Toner\",zoom_start=10)\n",
    "for i in Chi.index:\n",
    "    p=[Chi.loc[i,\"Lat\"],Chi.loc[i,\"Lon\"]]\n",
    "    folium.Marker(p,icon=DivIcon(\n",
    "        icon_size=(100,0),\n",
    "        icon_anchor=(0,8),\n",
    "        html='<div style=\"font-size:20pt; color:red\">'+str(Chi.loc[i,\"Name\"]) +'</div>',\n",
    "            )).add_to(Chicago_map)\n",
    "    Chicago_map.add_child(folium.CircleMarker(p, radius=1,color='red'))\n",
    "Chicago_map.save(\"Chicagoans.html\")\n",
    "Chicago_map"
   ]
  },
  {
   "cell_type": "markdown",
   "metadata": {},
   "source": [
    "Map tiles by Stamen Design Data by (c)Open Street Map\n",
    "\n",
    "Q3. What side of the city was Michelle Obama born?\n",
    "<hr>\n",
    "<h3>STEP FOUR</h3>\n",
    "Let's make a function which can add another person to our dataframe called Chi  "
   ]
  },
  {
   "cell_type": "code",
   "execution_count": 5,
   "metadata": {},
   "outputs": [],
   "source": [
    "def addperson(map_name,df,name,age,alive,noted,birth,zipcode,lat,lon,fact):\n",
    "    our_map=map_name \n",
    "    new_row = {'Name':name, \n",
    "                   'Age':age, \n",
    "                   'Alive':alive,\n",
    "                   'Noted For':noted,\n",
    "                    'Place of Birth':birth,\n",
    "                    'Zip':zipcode,\n",
    "                    'Lat':lat,\n",
    "                    'Lon':lon,\n",
    "                    'Fun Fact':fact            }\n",
    "    df= df.append(new_row, ignore_index=True)\n",
    "    for i in df.index:\n",
    "        p=[df.loc[i,\"Lat\"],df.loc[i,\"Lon\"]]\n",
    "        folium.Marker(p,icon=DivIcon(\n",
    "            icon_size=(100,0),\n",
    "            icon_anchor=(0,8),\n",
    "            html='<div style=\"font-size: 30pt; color : red\">'+str(df.loc[i,\"Name\"]) +'</div>',\n",
    "                )).add_to(our_map)\n",
    "        our_map.add_child(folium.CircleMarker(p, radius=1,color='red'))\n",
    "    return df,our_map"
   ]
  },
  {
   "cell_type": "markdown",
   "metadata": {},
   "source": [
    "Q4. What command is used to add a new line to the dataframe df?\n",
    "<hr>"
   ]
  },
  {
   "cell_type": "markdown",
   "metadata": {},
   "source": [
    "<h3>STEP FIVE</h3>\n",
    "Let's add Jenifer Hudson to our dataframe using the following info:\n",
    "\n",
    "'Jennifer Hudson',38,'yes','Actress','Englewood',60621,41.779699,-87.633194,'worked at Burger King'\n"
   ]
  },
  {
   "cell_type": "code",
   "execution_count": 7,
   "metadata": {},
   "outputs": [],
   "source": [
    "[Chi,Chicago_map]=addperson(Chicago_map,Chi,'Jennifer Hudson','Actress',38,'yes','Englewood',60621,41.779699,-87.633194,'worked at Burger King')\n",
    "Chicago_map"
   ]
  },
  {
   "cell_type": "markdown",
   "metadata": {},
   "source": [
    "Map tiles by Stamen Design Data by (c)Open Street Map\n",
    "\n",
    "Q5. Where did Jennifer Hudson work before becoming famous?\n",
    "<hr>\n",
    "<h3>STEP SIX</h3>\n",
    "Add your info to the map by editing the info in the next cell.\n"
   ]
  },
  {
   "cell_type": "code",
   "execution_count": null,
   "metadata": {},
   "outputs": [],
   "source": [
    "#answer to Step Six"
   ]
  },
  {
   "cell_type": "markdown",
   "metadata": {},
   "source": [
    "<h3> STEP SEVEN</h3>\n",
    "Let's save your map and info in a new Excel file.\n"
   ]
  },
  {
   "cell_type": "code",
   "execution_count": 8,
   "metadata": {},
   "outputs": [],
   "source": [
    "Chicago_map.save(\"Chicagoans.html\")\n",
    "Chi.to_excel('ChiRevised.xlsx')"
   ]
  },
  {
   "cell_type": "markdown",
   "metadata": {},
   "source": [
    "Q7. Did your map display correctly?  Did the new Excel file include your name?\n",
    "<hr>\n"
   ]
  },
  {
   "cell_type": "markdown",
   "metadata": {},
   "source": [
    "<h4> For Discussion </h4>\n",
    "a) Whom do you admire?  Why so?\n",
    "<hr>\n",
    "b)  What character qualities can help someone to be successful in life?\n",
    "<hr>\n",
    "c) What can help you to be more successful?\n",
    "<hr>"
   ]
  },
  {
   "cell_type": "markdown",
   "metadata": {},
   "source": [
    "#### Solutions"
   ]
  },
  {
   "cell_type": "markdown",
   "metadata": {},
   "source": [
    "Q1) 15\n",
    "\n",
    "Q2) Increasing the zoom_start value zooms in on the specified location. Changing the numbers in location changes the lat,lon of the zoom position.\n",
    "\n",
    "Q3) South Side\n",
    "\n",
    "Q4) new_info and df.append in lines 3-12\n",
    "\n",
    "Q5) Burger King"
   ]
  },
  {
   "cell_type": "code",
   "execution_count": 9,
   "metadata": {},
   "outputs": [],
   "source": [
    "# Q6\n",
    "[Chi2,Chicago_map]=addperson(Chicago_map,Chi,'Lorraine Hansberry','Writer',34,'no','Provident Hospital',60615,41.80287,-87.61325,'studied painting in Mexico')\n",
    "Chicago_map"
   ]
  }
 ],
 "metadata": {
  "kernelspec": {
   "display_name": "Python 3 (ipykernel)",
   "language": "python",
   "name": "python3"
  },
  "language_info": {
   "codemirror_mode": {
    "name": "ipython",
    "version": 3
   },
   "file_extension": ".py",
   "mimetype": "text/x-python",
   "name": "python",
   "nbconvert_exporter": "python",
   "pygments_lexer": "ipython3",
   "version": "3.10.9"
  }
 },
 "nbformat": 4,
 "nbformat_minor": 2
}
