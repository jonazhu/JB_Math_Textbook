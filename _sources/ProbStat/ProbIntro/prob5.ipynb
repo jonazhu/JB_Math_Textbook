{
 "cells": [
  {
   "cell_type": "markdown",
   "metadata": {},
   "source": [
    "# Agent\\-based models\n",
    "\n",
    "<span style='font-size:medium'>Agent\\-based models are used to describe actions and interactions of individuals \\(agents\\), which occur with various likelihoods. Simulations on such models can be used to make predictions about the future state of the agents. In this section, we refer to agents acting independently. We do not address multi\\-agent systems in which individuals collaborate with one another in groups.</span>\n",
    "\n",
    "<span style='font-size:medium'>Like random walks, agent\\-based models can be used to capture practical processes probabilistically in a variety of areas of study. They can predict the spread of disease, forecast the segregation \\(separation\\) of different populations in a certain region, optimize traffic conditions, and describe behaviors within social networks.</span>\n",
    "\n",
    "<span style='font-size:medium'>In a classic example, consider that we often hear news from other people we know. If a piece of information is shared, how might it spread, from one agent to another?</span>\n",
    "\n",
    "<span style='font-size:medium'>Let us develop an agent\\-based model and use the model to simulate how a piece of information spreads over time. As with any model, we make a few underlying assumptions. Some are very practical. Some are explicit simplifications of a real\\-life scenario to make the problem easier to solve. In modeling and simulations, practitioners like to </span><span style='font-size:medium'>**start with simple models**</span><span style='font-size:medium'> and evaluate how well they capture real scenarios. Modelers address some shortcomings in the simulations with changes to the model assumptions. Over time, we typically expand the scope of the model to address additional scenarios. Here we assume:</span>\n",
    "\n",
    "1. <span style='font-size:medium'>The population is a closed community. The number of individuals does not change.</span>\n",
    "2. <span style='font-size:medium'>Agents who do not have the information do not pass any information to others!</span>\n",
    "3. <span style='font-size:medium'>An agent does not pass information to itself.</span>\n",
    "4. <span style='font-size:medium'>Once an agent hears the piece of information, it will not forget the information. There is no transition from \"knowing\" to \"not knowing\".</span>\n",
    "5. <span style='font-size:medium'>A transmission rate defines how many others hear the information from a given individual in one day.</span>\n",
    "6. <span style='font-size:medium'>Each agent has one of the allowed transmission rates with equal probability.</span>\n",
    "7. <span style='font-size:medium'>When an agent shares the information with another individual, that individual is selected from all the other members of the population with equal probability.</span>\n",
    "\n",
    "<span style='font-size:medium'>In models, </span><span style='font-size:medium'>**initial conditions**</span><span style='font-size:medium'> provide \"starting information\". Let us take the following initial condition for our problem: On Day 0, 1 individual has the information.</span>\n",
    "\n",
    "<span style='font-size:medium'>Parameters are changeable values that quantify practical aspects of entities or processes involved in the problem. Let us identify some parameters for the agent\\-based model and assign them values as follows:</span>\n",
    "\n",
    "1. <span style='font-size:medium'>The value of the population parameter is 1000. \\(There are 1000 agents.\\)</span>\n",
    "2. <span style='font-size:medium'>The allowed transmission rates are 0, 1, 2, 3, 4, and 5.</span>\n",
    "\n",
    "<span style='font-size:medium'>The way the information could spread is as follows: We have Persons 1, 2, 3, 4, 5, 6, 7, 8, 9, 10, 11, 12,..., 1000. These people might have transmission rates 3, 3, 2, 0, 5, 1, 1, 2, 3, 4, 2, 1, ..., 4 respectively. Initially, 1 person knows the information. If that person is Person 1, and Person 1 has a transmission rate of 3, then on the first day of gossip, Person 1 might spread the information to Persons 5, 8, and 9 with transmission rates 5, 2, and 3, respectively. In Day 2 of gossip, Person 1 spreads the information to 3 people, Person 5 to 5 people, Person 8 to 2 people and Person 9 to 3 people. Note these may be some of the same people or people who already know the information. The process continues day\\-by\\-day.</span>\n",
    "\n",
    "\n",
    "\n"
   ]
  },
  {
   "cell_type": "markdown",
   "metadata": {},
   "source": [
    "## Exercises"
   ]
  },
  {
   "cell_type": "markdown",
   "metadata": {},
   "source": [
    "```{admonition} Exercises\n",
    "Exercise 1: Simulate the spread of information under the given assumptions. How many days does it seem to take in general for the information to spread to half of the population? Will all individuals be informed after a certain number of days?\n",
    "\n",
    "Exercise 2: This agent\\-based model could also be applied to the spread of disease. If \"knowing the information\" means \"having the disease\" and \"not having the information\" means \"not having the disease\", what are the interpretations of the assumptions, initial condition, and parameters that are given? Explain how you may find the model compelling in the context of disease, or what changes to the model you recommend to better reflect the spread of disease.\n",
    "```"
   ]
  }
 ],
 "metadata": {
  "kernelspec": {
   "display_name": "Python 3",
   "language": "python",
   "name": "python3"
  },
  "language_info": {
   "codemirror_mode": {
    "name": "ipython",
    "version": 3
   },
   "file_extension": ".py",
   "mimetype": "text/x-python",
   "name": "python",
   "nbconvert_exporter": "python",
   "pygments_lexer": "ipython3",
   "version": "3.8.8"
  }
 },
 "nbformat": 4,
 "nbformat_minor": 4
}
