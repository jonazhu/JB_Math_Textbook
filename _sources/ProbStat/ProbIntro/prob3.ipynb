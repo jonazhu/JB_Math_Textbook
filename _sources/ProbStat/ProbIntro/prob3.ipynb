{
 "cells": [
  {
   "cell_type": "markdown",
   "metadata": {},
   "source": [
    "# Conditional probability\n",
    "\n",
    "<span style='font-size:medium'>Independent events are unrelated events. For example, a die roll coming up 1 is independent of whether the previous roll came up 1.</span>\n",
    "\n",
    "<span style='font-size:medium'>Many common events are not independent. Consider and discuss the following events and whether the probability of each is high or low:</span>\n",
    "\n",
    "- <span style='font-size:medium'>your bicycle needs repairs,</span>\n",
    "- <span style='font-size:medium'>you have a bicycle accident,</span>\n",
    "- <span style='font-size:medium'>your bicycle needs repairs given that you had a bicycle accident,</span>\n",
    "- <span style='font-size:medium'>you had a bicycle accident, given that your bicycle needs repairs. </span>\n",
    "\n",
    "<span style='font-size:medium'>Question: Are the bicycle repairs and the bicycle accident independent events?</span>\n",
    "\n",
    "<span style='font-size:medium'>If not, we call them </span><span style='font-size:medium'>**conditionally related**</span><span style='font-size:medium'>.</span>\n",
    "\n",
    "<span style='font-size:medium'>Question: Which statement is more logical? Or are they equally logical?</span>\n",
    "\n",
    "1. <span style='font-size:medium'>Whether your bike needs repairs \\(event R\\) is related to whether you have a bike accident \\(event A\\).</span>\n",
    "2. <span style='font-size:medium'>Whether you have a bike accident \\(event A\\) is related to whether your bike needs repairs \\(event R\\).</span>\n",
    "\n",
    "<span style='font-size:medium'>The </span><span style='font-size:medium'>**conditional probability**</span><span style='font-size:medium'> of an event is based on prior knowledge of conditions that might be related to the event \\(based on the Wikipedia article on Bayes’ Theorem\\). We speak of the conditional probability that event Y occurs, given that event X occurred. We denote the probability as P\\(Y|X\\). </span>\n",
    "\n",
    "<span style='font-size:medium'>For example, we may want to know the probability that your bike needs repairs \\(event R\\) given that you had a bike accident \\(event A\\). We denote the probability as P\\(R|A\\). </span>\n",
    "\n",
    "<span style='font-size:medium'>The quantity P\\(R|A\\) is a conditional probability. Here A is considered the </span><span style='font-size:medium'>**prior**</span><span style='font-size:medium'> event. We say we are </span><span style='font-size:medium'>**conditioning on**</span><span style='font-size:medium'> A. </span>\n",
    "\n",
    "<span style='font-size:medium'>The \\(conditional\\) probability of Y given X can be calculated using the mathematical </span><span style='font-size:medium'>**definition**</span>\n",
    "\n",
    "$$P(Y|X) = \\frac{P(X \\text{ and } Y)}{P(X)}.$$\n",
    "\n",
    "<span style='font-size:medium'>The probability P\\(X\\) of the prior event X is called the prior probability.</span>\n",
    "\n",
    "<span style='font-size:medium'>We can derive </span><span style='font-size:medium'>**Bayes' Theorem**</span><span style='font-size:medium'> by first writing the conditional probability of X given Y</span>\n",
    "\n",
    "$$P(X|Y) = \\frac{P(X \\text{ and } Y)}{P(Y)}.$$\n",
    "\n",
    "<span style='font-size:medium'>Solving each of the previous two equations for P\\(X and Y\\) shows that</span>\n",
    "\n",
    "$$P(Y|X) P(X) = P(X|Y) {P(Y)}$$\n",
    "\n",
    "<span style='font-size:medium'>or </span>\n",
    "\n",
    "$$P(Y|X) = \\frac{P(X|Y) P(Y)}{P(X)}.$$\n",
    "\n",
    "<span style='font-size:medium'>Bayes’ Theorem expresses one conditional probability in terms of the other. It captures how a probability should change to account for related evidence.</span>\n",
    "\n",
    "## Exercises\n"
   ]
  },
  {
   "cell_type": "markdown",
   "metadata": {},
   "source": [
    "```{admonition} Exercises\n",
    "\n",
    "<span style='font-size:medium'>Exercise 1: Suppose 35 spam email messages contain the word \"free\"; 25 spam messages do not contain the word \"free\"; three of non\\-spam messages contain the word \"free\"; and 37 non\\-spam messages do not contain the word \"free\". \\(This problem is adapted from OpenIntoStatistics, David M. Diez, Christoper D. Barr, and Mine Cetinkaya\\-Rundel, Creative Commons, 2016.\\)</span>\n",
    "\n",
    "<span style='font-size:medium'>Do the following problems and interpret your answers in complete sentences. </span>\n",
    "\n",
    "<span style='font-size:medium'>\\(a\\) Calculate the probability that a message is spam, given that it contains the word \"free\". </span>\n",
    "\n",
    "<span style='font-size:medium'>\\(b\\) Calculate the probability that a message is not spam, given that it contains the word \"free\".</span>\n",
    "\n",
    "<span style='font-size:medium'>\\(c\\) Calculate the probability that a message contains the word \"free\", given that it is spam.</span>\n",
    "\n",
    "<span style='font-size:medium'>\\(d\\) Which of the above quantities do you consider to be of the most practical interest?</span>\n",
    "\n",
    "<span style='font-size:medium'>\\(e\\) Suppose we are trying to make decisions about whether a message is spam. Calculate the most relevant probabilities, explain their significance in the context of the practical problem at hand, and describe possible limitations of their applicability.</span>\n",
    "\n",
    "<span style='font-size:medium'>Exercise 2: Suppose the disease meningitis causes a stiff neck 70% of the time, the prior probability of any patient having meningitis is 1/50,000, and the prior probability of any patient having a stiff neck is 1/100. \\(Artificial Intelligence: A Modern Approach \\(Third Edition\\), Stuart J. Russell and Peter Norvig, Prentice Hall, Upper Saddle River, 2010\\). Use Bayes' Theorem to calculate the probability that a patient has meningitis, given they have a stiff neck. Show how you apply Bayes' Theorem. Interpret the results in a complete sentence.</span>\n",
    "\n",
    "```"
   ]
  }
 ],
 "metadata": {
  "kernelspec": {
   "display_name": "Python 3",
   "language": "python",
   "name": "python3"
  },
  "language_info": {
   "codemirror_mode": {
    "name": "ipython",
    "version": 3
   },
   "file_extension": ".py",
   "mimetype": "text/x-python",
   "name": "python",
   "nbconvert_exporter": "python",
   "pygments_lexer": "ipython3",
   "version": "3.8.8"
  }
 },
 "nbformat": 4,
 "nbformat_minor": 4
}
