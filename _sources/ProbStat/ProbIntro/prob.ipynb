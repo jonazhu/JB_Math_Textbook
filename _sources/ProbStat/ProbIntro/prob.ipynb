{
 "cells": [
  {
   "cell_type": "markdown",
   "metadata": {},
   "source": [
    "# Introduction\n",
    "\n",
    "<span style='font-size:medium'>The </span><span style='font-size:medium'>**probability**</span><span style='font-size:medium'> is the chance or likelihood that a given event will occur. For example, we can ask, \"What is the probability that it will rain tomorrow?\" Probability is a branch of mathematics concerned with the study of probabilities.</span>\n",
    "\n",
    "<span style='font-size:medium'>We quantify the probabilities of various events in this chapter. We do both mathematical analysis and computation. As in other fields of mathematics, mathematical understanding guides the choices of what to compute, and insights gained from computational exploration enhance mathematical understanding.</span>\n",
    "\n",
    "<span style='font-size:medium'>Ultimately we use </span><span style='font-size:medium'>**models**</span><span style='font-size:medium'> to describe practical problems via mathematics or an algorithm \\(precise method\\). We solve mathematical models approximately using Python programs or implement algorithms using Python. The results mimic, imitate, or simulate the behavior of the physical or practical problem at hand. We can use Python to create visualizations that facilitate interpretation of the computer simulation.</span>\n",
    "\n",
    "# Random numbers\n",
    "\n",
    "<span style='font-size:medium'>Many areas of study involve random numbers. Examples include probability, computational science, data science, and statistics.</span>\n",
    "\n",
    "## Arbitrariness\n",
    "\n",
    "<span style='font-size:medium'>When you tell a friend to \"Pick a number between 1 and 10,\" you may think you are telling the friend to pick a </span><span style='font-size:medium'>**random**</span><span style='font-size:medium'> number. However, for true randomness, each outcome 1, 2, 3, ..., 10 must be equally likely. It turns out that people have a preference, usually unconscious, for picking some numbers over others. Therefore, you are really telling the friend to pick an </span><span style='font-size:medium'>**arbitrary**</span><span style='font-size:medium'> integer between 1 and 10, rather than a random one.</span>\n",
    "\n",
    "## Pseudo\\-randomness\n",
    "\n",
    "<span style='font-size:medium'>Even when computers do the choosing, most of time we should only say we have generated pseudo\\-random \\(fake random\\) numbers. A pseudo\\-random number generator, or PRNG, is a program that uses mathematical methods to </span><span style='font-size:medium'>**simulate**</span><span style='font-size:medium'> \\(mimic\\) randomness. </span>\n",
    "\n",
    "<span style='font-size:medium'>The basic process is to:</span>\n",
    "\n",
    "1. <span style='font-size:medium'>Provide the PRNG with an arbitrary seed \\(starting condition\\).</span>\n",
    "2. <span style='font-size:medium'>Ask the PRNG for the next \"random\" number. It is produced by a step\\-by\\-step, complicated, but not random, process.</span>\n",
    "\n",
    "<span style='font-size:medium'>Such a generator is also called a </span><span style='font-size:medium'>**deterministic**</span><span style='font-size:medium'> random bit generator. \"Deterministic\" means causally determined by preceding actions. The word \"deterministic\" is typically used in contrast to \"random.\"</span>\n",
    "\n",
    "<span style='font-size:medium'>Sometimes, researchers use a cryptographically secure pseudo\\-random number generator \\(CSPRNG\\). A CSPRNG may sound like it uses true randomness \\(for strong security\\). However, you cannot safely assume that you have a completely fair \\(unbiased\\) \"coin flip\" or means of selection, even in this context. Fortunately, though, the prescriptive \\(deterministic\\) mechanism involved is hard to reverse, ensuring some measure of security. The key is to have a CSPRNG that is good enough for the application at hand.</span>\n",
    "\n",
    "## Pseudo-random number generation in Python\n",
    "\n",
    "<span style='font-size:medium'>People typically speak of computers </span><span style='font-size:medium'>**generating random numbers**</span><span style='font-size:medium'>. We will use this language when we use Python. However, Python \\(or Excel, Java, C, C\\+\\+, or R\\) is technically doing pseudo\\-random number generation.</span>\n",
    "\n",
    "<span style='font-size:medium'>In Python, a default mechanism is used to set the seed for the PRNG. If you want to use the default mechanism explicitly, you can import the</span><span style='font-size:medium'>`random`</span><span style='font-size:medium'>library and do</span>\n",
    "\n"
   ]
  },
  {
   "cell_type": "code",
   "execution_count": 1,
   "metadata": {},
   "outputs": [],
   "source": [
    "import random\n",
    "random.seed()"
   ]
  },
  {
   "cell_type": "markdown",
   "metadata": {},
   "source": [
    "<span style='font-size:medium'>If for any reason you want to set the seed to a specific integer, such as 123, you can do</span>\n"
   ]
  },
  {
   "cell_type": "code",
   "execution_count": 2,
   "metadata": {},
   "outputs": [],
   "source": [
    "random.seed(123)"
   ]
  },
  {
   "cell_type": "markdown",
   "metadata": {},
   "source": [
    "## True randomness\n",
    "\n",
    "<span style='font-size:medium'>A truly random number cannot simply be generated from a certain </span><span style='font-size:medium'>**algorithm**</span><span style='font-size:medium'> \\(detailed method\\) or by a computer itself \\(unless the computer is purposely re\\-designed\\). Truly\\-random number generation is possible when we consider some physical phenomenon or process, such as atmospheric noise \\(static from lightning discharges\\), cosmic background radiation, etc. While truly random numbers are useful in many practical fields, it is sufficient for us to generate and use pseudo\\-random numbers in this book. </span>\n",
    "\n"
   ]
  },
  {
   "cell_type": "markdown",
   "metadata": {},
   "source": [
    "## Exercises"
   ]
  },
  {
   "cell_type": "markdown",
   "metadata": {},
   "source": [
    "```{admonition} Exercises\n",
    "\n",
    "<span style='font-size:medium'>Exercise 1. Which statement do you judge to be more accurate? Why?</span>\n",
    "\n",
    "1. The computer program selected a number between 1 and 10 at random.\n",
    "2. The computer program selected a number between 1 and 10 arbitrarily.\n",
    "\n",
    "<span style='font-size:medium'>Exercise 2. When a computer program selects a number between 1 and 10, do you think that the choice involves possible preference for some number over others? Support your answer with examples. </span>\n",
    "\n",
    "<span style='font-size:medium'>Exercise 3: Think of an example of how randomness might be involved in a study investigating a new medicine. Explain how randomness is involved. Could computation, for example using Python, be helpful in the study? Explain your answer. </span>\n",
    "\n",
    "<span style='font-size:medium'>Exercise 4: Think of an example of how randomness might occur in the natural world. Explain how randomness is involved. Could a computer simulate or mimic a natural process in the context of your example? If so, how could a computer simulation be useful?</span>\n",
    "\n",
    "<span style='font-size:medium'>Exercise 5: Think of an example of how randomness might occur in a game. Explain how randomness is involved. Could a computer simulate the game? If so, how could the computer simulation be useful?</span>\n",
    "\n",
    "<span style='font-size:medium'>Exercise 6: Consider a die \\(plural: \"dice\"\\). \\(See the image below.\\) Do you think that when we roll a physical die, we can be certain that there is an equal chance of the die landing with each of the six sides facing up? Or could there be a bias toward some sides? Explain your thinking. Do you think the outcome of a roll of the physical die could be influenced by the previous roll? Explain your thinking. How could we use a computer program to simulate a die roll? What are some advantages of doing so?</span>\n",
    "\n",
    "\n",
    "<img src=\"dice.png\" width=\"400px\">\n",
    "\n",
    "<span style='font-size:medium'>Exercise 7: Consider the following answer to the question \"True or false\\-\\-\\- An arbitrary choice is made for no special reason\":</span>\n",
    "\n",
    "<span style='font-size:medium'>_\"Yes, an arbitrary choice typically refers to a decision or selection that is made without any specific reason or justification. It means that there is no objective or rational basis for choosing one option over another. Arbitrary choices are often made when there is no clear preference or when the decision doesn't have a significant impact on the outcome. In such cases, people may resort to random selection, personal whim, or other non\\-logical factors to make a choice.\" \\(ChatGPT, personal communication, June 6, 2023\\)._</span>\n",
    "\n",
    "<span style='font-size:medium'>Provide a critique for which parts are right \\(if any\\). Provide justification for why they are correct. Identify which parts are wrong \\(if any\\) and explain what is wrong. Rewrite the answer in your own words with any corrections that are needed. \\(Retain the citation as with any paraphrased material.\\) Add an example that you think of yourself to clarify the answer to the true/false question.</span>\n",
    "\n",
    "<span style='font-size:medium'>Exercise 8: Use the code below to explore Python commands in the</span><span style='font-size:medium'>`random`</span><span style='font-size:medium'>library. Read the documentation here as desired: </span>https://docs.python.org/3/library/random.html <span style='font-size:medium'>. For each</span><span style='font-size:medium'>`print`</span><span style='font-size:medium'>statement, insert a comment \\(using</span><span style='font-size:medium'>`#`</span><span style='font-size:medium'>\\) that describes all the possible numbers that can be generated. We see possible output below.</span>\n",
    "\n",
    "<span style='font-size:medium'>Exercise 9: Which does a Python program generate: a pseudo\\-random number or a truly random number? Give an example, and explain why the example is pseudo random or truly random.</span>\n",
    "\n",
    "\n",
    "```\n"
   ]
  },
  {
   "cell_type": "code",
   "execution_count": 3,
   "metadata": {},
   "outputs": [
    {
     "name": "stdout",
     "output_type": "stream",
     "text": [
      "0\n",
      "3\n",
      "1\n",
      "4\n",
      "4\n",
      "11.07700234938439\n"
     ]
    }
   ],
   "source": [
    "print(random.randrange(6))\n",
    "print(random.randrange(6) + 1)\n",
    "print(random.randrange(1, 7))\n",
    "print(random.randint(1, 6))\n",
    "print(random.randrange(0, 10, 2))\n",
    "print(random.uniform(10, 20))"
   ]
  },
  {
   "cell_type": "markdown",
   "metadata": {},
   "source": [
    "# Probability\n",
    "\n",
    "<span style='font-size:medium'>Consider a six\\-sided die. \\(See image of two six\\-sided dice in the previous section.\\) The die can be used to select a number between 1 and 6 inclusive. By </span><span style='font-size:medium'>**inclusive**</span><span style='font-size:medium'>, we mean inclusive of the \"end points\" 1 and 6 \\(as well as of 2, 3, 4, and 5\\). The die can be used to select one of the numbers in an approximately random manner, modulo the slight imperfections \\(physical asymmetries\\) in the die.</span>\n",
    "\n",
    "<span style='font-size:medium'>Suppose you roll a perfect die </span>$n$<span style='font-size:medium'> times and keep a record of each outcome.</span>\n",
    "\n",
    "<span style='font-size:medium'>We list the following examples: What is the chance or </span><span style='font-size:medium'>**probability**</span><span style='font-size:medium'> that...</span>\n",
    "\n",
    "1. <span style='font-size:medium'>the die lands on a given number \\(say, 3\\) on the first roll?</span>\n",
    "2. <span style='font-size:medium'>the die lands on a given number \\(say, 4\\) on the second roll?</span>\n",
    "3. <span style='font-size:medium'>the die lands on a 1 or 6 on the first roll?</span>\n",
    "4. <span style='font-size:medium'>the die lands on the same number on the first two rolls?</span>\n",
    "5. <span style='font-size:medium'>the die lands on 1, 2, 3, 4, 5, and then 6 when rolled six times ($n=6$)?</span>\n",
    "\n",
    "<span style='font-size:medium'>The </span><span style='font-size:medium'>**probability**</span><span style='font-size:medium'> of an event, given a set of all of the equally likely outcomes, is the ratio </span>\n",
    "\n",
    "$$\\frac{\\text{the number of outcomes that produce the event}}{\\text{the total number of possible outcomes}}.$$\n",
    "\n",
    "<span style='font-size:medium'>Does this definition help you answer Example 1? Give it a try. Then read on!</span>\n",
    "\n",
    "<span style='font-size:medium'>We can do all of Examples 1\\-\\-5 </span><span style='font-size:medium'>**approximately**</span><span style='font-size:medium'> by using </span><span style='font-size:medium'>**computer simulation**</span><span style='font-size:medium'>. The computer </span><span style='font-size:medium'>**simulates**</span><span style='font-size:medium'> or imitates the rolling of a physical die. We can generate \\(pseudo\\-\\)random numbers many times and see what fraction of the cases result in the target outcome. Also, we can answer Problems 1\\-\\-5 </span><span style='font-size:medium'>**exactly**</span><span style='font-size:medium'> by using </span><span style='font-size:medium'>**mathematical ideas**</span><span style='font-size:medium'>. </span>\n",
    "\n",
    "## Definitions and Facts\n",
    "\n",
    "<span style='font-size:medium'>Definitions and rules. The </span><span style='font-size:medium'>**sample space**</span><span style='font-size:medium'> is the set of possible outcomes. The sample space for the roll of the die is {1, 2, 3, 4, 5, 6}. </span>\n",
    "\n",
    "<span style='font-size:medium'>Definition. An </span><span style='font-size:medium'>**event**</span><span style='font-size:medium'> $E$ corresponds to a subset of the sample space. For example, one event $E$ is that the die lands on a 1 or a 6. The event $E$ corresponds to the subset {1, 6}.</span>\n",
    "\n",
    "<span style='font-size:medium'>Example 1.  The probability that the die lands on a given number \\(say, 3\\) on the first roll is 1/6.</span>\n",
    "\n",
    "<span style='font-size:medium'>Fact. The probability of an event $A$ is a real number $P(A)$ between 0 and 1 inclusive, for example 1/6.</span>\n",
    "\n",
    "<span style='font-size:medium'>Fact. The probability of the sample space is 1. For example, the probability that the die lands on a 1 or 2 or 3 or 4 or 5 or 6 is 6/6 or 1.</span>\n",
    "\n",
    "<span style='font-size:medium'>Fact. The probability that event $A$ does not occur is $P(\\text{not} A) = 1 - P(A)$.</span>\n",
    "\n",
    "<span style='font-size:medium'>Example 3. The probability that the die lands on a 1 or a 6 is 2/6 or 1/3.</span>\n",
    "\n",
    "<span style='font-size:medium'>Example 4. The sample space for two rolls of the die is {11, 12,..., 16, 21, 22,..., 26, 31, 32,..., 36,...61, 62,..., 66}, where each two\\-digit number represents two rolls of the die. An event </span>$A$<span style='font-size:medium'>, in which the die lands on the same number on the first two rolls, corresponds to the set {11, 22, 33, 44, 55, 66}. The probability that the die lands on the same number on the first two rolls is 6/36 or 1/6.</span>\n",
    "\n",
    "<span style='font-size:medium'>Definition. </span><span style='font-size:medium'>**Mutually exclusive** </span><span style='font-size:medium'>events are events that cannot happen at the same time. For example, one roll of the die can yield one of six mutually exclusive events.</span>\n",
    "\n",
    "## Addition rule\n",
    "\n",
    "<span style='font-size:medium'>The addition rule for mutually exclusive events </span>$A$<span style='font-size:medium'> and </span>$B$<span style='font-size:medium'> is that </span>$P(A \\ \\text{or} \\ B) = P(A) + P(B)$<span style='font-size:medium'>. </span>\n",
    "\n",
    "<span style='font-size:medium'>Example 3. For example, the probability that the die lands on 1 \\(event </span>$A$<span style='font-size:medium'>\\) or the die lands on 6 \\(event </span>$B$<span style='font-size:medium'>\\) is </span>$P(A \\ \\text{or} \\ B) = P(A) + P(B) = 1/6 + 1/6 = 1/3$<span style='font-size:medium'>. This agrees with the prior solution.</span>\n",
    "\n",
    "## Multiplication rule\n",
    "\n",
    "<span style='font-size:medium'>The multiplication rule for mutually exclusive events </span>$A$<span style='font-size:medium'> and </span>$B$<span style='font-size:medium'> is that </span>$P(A \\ \\text{and} \\ B) = P(A) P(B).$\n",
    "\n",
    "<span style='font-size:medium'>Example 4. For example, the probability that the die lands on the same number on the first two rolls is the probability that a number is rolled \\(event </span>$A$<span style='font-size:medium'>\\) and the same number is rolled \\(event </span>$B$<span style='font-size:medium'>\\) is </span>$P(A \\ \\text{and} \\ B) = P(A) P(B) = 1 * 1/6 = 1/6$<span style='font-size:medium'>. This agrees with the prior solution.</span>\n",
    "\n",
    "## Simulation\n",
    "\n",
    "<span style='font-size:medium'>This section opened with Problems 1\\-\\-5 above. We said we could use a computer program to </span><span style='font-size:medium'>**simulate**</span><span style='font-size:medium'> the rolling of a physical die to answer the questions approximately.</span>\n",
    "\n",
    "<span style='font-size:medium'>Let's write a </span><span style='font-size:medium'>`roll`</span><span style='font-size:medium'> function to generate \\(pseudo\\-\\)random numbers many times. We'll approximate the probability of an event by calculating the fraction of the total cases that result in the event.  We see possible output below.</span>\n"
   ]
  },
  {
   "cell_type": "code",
   "execution_count": 4,
   "metadata": {},
   "outputs": [],
   "source": [
    "import random\n",
    "# Return a list of num_rolls die rolls.\n",
    "def roll(num_rolls):\n",
    "    # Define a list for the results of the die rolls.\n",
    "    die_rolls = []\n",
    "    # Roll the die num_rolls times.\n",
    "    for i in range(num_rolls):\n",
    "        # Store a number 1-6 inclusive in die_roll.\n",
    "        die_roll = random.randint(1, 6)\n",
    "        # Append the die roll into the list of die rolls.\n",
    "        die_rolls.append(die_roll)\n",
    "\n",
    "    return(die_rolls)"
   ]
  },
  {
   "cell_type": "code",
   "execution_count": 5,
   "metadata": {},
   "outputs": [
    {
     "name": "stdout",
     "output_type": "stream",
     "text": [
      "[1, 4, 5, 5, 3, 3, 1, 2, 2, 3]\n",
      "Number of threes: 3\n"
     ]
    }
   ],
   "source": [
    "# Store ten rolls of the die in a list.\n",
    "rolls = roll(10)\n",
    "# Print the list.\n",
    "print(rolls)\n",
    "# Print the number of threes that were rolled.\n",
    "print(f\"Number of threes: {rolls.count(3)}\")"
   ]
  },
  {
   "cell_type": "markdown",
   "metadata": {},
   "source": [
    "<span style='font-size:medium'>Example 1. Answer Example 1 from the beginning of this section approximately by simulating a large number of rolls and counting the number of threes. Compare the result to the mathematical answer in a complete sentence.  We see possible output below.</span>\n"
   ]
  },
  {
   "cell_type": "code",
   "execution_count": 6,
   "metadata": {},
   "outputs": [
    {
     "name": "stdout",
     "output_type": "stream",
     "text": [
      "For large number of trials, the simulation should yield a fraction of threes approximately equal to 1/6 or 0.16666666666666666.\n",
      "Result obtained: 0.16813\n"
     ]
    }
   ],
   "source": [
    "# Make the variable trials equal a large number of rolls.\n",
    "trials = 100_000\n",
    "# Roll the die a large number of times.\n",
    "rolls = roll(trials)\n",
    "# Count the number of threes in the returned list and divide by the number of rolls.\n",
    "p3 = rolls.count(3)/trials\n",
    "print(f\"For large number of trials, the simulation should yield a fraction of threes approximately equal to 1/6 or {1/6}.\\nResult obtained: {p3}\")"
   ]
  },
  {
   "cell_type": "code",
   "execution_count": 7,
   "metadata": {},
   "outputs": [
    {
     "name": "stdout",
     "output_type": "stream",
     "text": [
      "For large number of trials, the simulation should yield a fraction of ones and sixes approximately equal to 1/3 or 0.3333333333333333.\n",
      "Result obtained: 0.33231\n"
     ]
    }
   ],
   "source": [
    "# Make the variable trials equal a large number of rolls.\n",
    "trials = 100_000\n",
    "# Roll the die a large number of times.\n",
    "rolls = roll(trials)\n",
    "# Count the number of ones and sixes in the returned list and divide by the number of rolls.\n",
    "p_1_or_6 = (rolls.count(1) + rolls.count(6))/trials\n",
    "print(f\"For large number of trials, the simulation should yield a fraction of ones and sixes approximately equal to 1/3 or {1/3}.\\nResult obtained: {p_1_or_6}\")"
   ]
  },
  {
   "cell_type": "markdown",
   "metadata": {},
   "source": [
    "<span style='font-size:medium'>For 100,000 simulated rolls of the die, the fraction of values of 1 or 6 is typically rather close to the mathematical probability of rolling a 1 or 6.</span>\n",
    "\n",
    "<span style='font-size:medium'>Example 4. Answer Example 4 from the beginning of this section approximately by doing a large number of trials of two rolls of a die and counting the fraction of times the two rolls are the same. Compare the result to the mathematical probability in a complete sentence. </span>\n"
   ]
  },
  {
   "cell_type": "code",
   "execution_count": 8,
   "metadata": {},
   "outputs": [
    {
     "name": "stdout",
     "output_type": "stream",
     "text": [
      "For large number of trials, the simulation should yield a fraction of 'double numbers' approximately equal to 1/6 or 0.16666666666666666.\n",
      "Result obtained: 0.1664\n"
     ]
    }
   ],
   "source": [
    "# Set a counter to 0.\n",
    "count = 0\n",
    "# Make the variable trials equal a large number of rolls.\n",
    "trials = 100_000\n",
    "# Roll two dice a large number of times.\n",
    "for i in range(trials):\n",
    "    rolls = roll(2) # Roll a die twice\n",
    "    if (rolls[0] == rolls[1]): # If the two rolls are the same,\n",
    "        count = count + 1 # increment the counter.\n",
    "print(f\"For large number of trials, the simulation should yield a fraction of 'double numbers' approximately equal to 1/6 or {1/6}.\\nResult obtained: {count/trials}\")"
   ]
  },
  {
   "cell_type": "markdown",
   "metadata": {},
   "source": [
    "## Law of large numbers\n",
    "\n",
    "<span style='font-size:medium'>In probability theory, the law of large numbers \\(LLN\\) says that the average of the results obtained from a large number of trials should be close to the expected average and tends to become closer to the expected average as more trials are performed \\(based on the Wikipedia article on the LLN, citing A Modern 7 Introduction to Probability and Statistics by Dekking, 2005\\).</span>\n",
    "\n",
    "<span style='font-size:medium'>Example. A single roll of a fair, six\\-sided die produces 1, 2, 3, 4, 5, or 6, each with equal probability. Therefore, the expected value of the average of the rolls is \\(1 \\+ 2 \\+ 3 \\+ 4 \\+ 5 \\+ 6\\) / 6 = 3.5. According to the LLN, if a six\\-sided die is rolled a large number of times, the average value will approach 3.5 as the number of die rolls approaches infinity. Illustrate this idea using simulation with a larger and larger number of rolls.  We see possible output below.</span>\n"
   ]
  },
  {
   "cell_type": "code",
   "execution_count": 9,
   "metadata": {},
   "outputs": [
    {
     "name": "stdout",
     "output_type": "stream",
     "text": [
      "10, 3.1\n",
      "100, 3.46\n",
      "1000, 3.524\n",
      "10000, 3.4606\n",
      "100000, 3.50184\n",
      "1000000, 3.499671\n"
     ]
    }
   ],
   "source": [
    "for i in range(6):\n",
    "    n = 10**(i+1)\n",
    "    print(f\"{n}, {sum(roll(n))/n}\")"
   ]
  },
  {
   "cell_type": "markdown",
   "metadata": {},
   "source": [
    "<span style='font-size:medium'>For a number of rolls </span>$n=10, 100, 1000, 10^4, 10^5, 10^6$<span style='font-size:medium'>, the average value is, for example, 3.1, 3.43, 3.459, 3.5099, 3.50138, 3.499695, respectively.</span>\n"
   ]
  },
  {
   "cell_type": "markdown",
   "metadata": {},
   "source": [
    "## Gambler's fallacy\n",
    "\n",
    "<span style='font-size:medium'>\"...the law of large numbers does not imply, as too many seem to think, that if deviations from expected behavior occur, these deviations are likely to be 'evened out' by opposite deviations in the future. This misapplication of the law of large numbers is known as the gambler’s fallacy\" \\(Introduction to Computation and Programming Using Python by Guttag\\).</span>\n",
    "\n",
    "<span style='font-size:medium'>Example. At the Casino de Monte\\-Carlo on August 18, 1913, the roulette ball landed on black 26 times in a row, and gamblers lost millions betting on red, incorrectly believing that landing on red became increasingly likely as the length of the run of blacks increased \\(</span>[https://www.bbc.com/future/article/20150127\\-why\\-we\\-gamble\\-like\\-monkeys](https://www.bbc.com/future/article/20150127-why-we-gamble-like-monkeys)<span style='font-size:medium'> , 1/27/2015\\). If you assume that there is a probability of 0.5 of landing on black and a probability of 0.5 of landing on red, what is the probability that 26 spins will result in black all 26 times? What is the probability that the 27th spin will land on black?</span>\n"
   ]
  },
  {
   "cell_type": "code",
   "execution_count": 10,
   "metadata": {},
   "outputs": [
    {
     "name": "stdout",
     "output_type": "stream",
     "text": [
      "1.4901161193847656e-08\n",
      "1.5e-08\n"
     ]
    }
   ],
   "source": [
    "# If you assume that there is a probability of 0.5 of landing on black and a probability of 0.5 of landing on red,\n",
    "# the probability that 26 spins will result in black all 26 times is\n",
    "print((0.5)**26)\n",
    "print(1.5/100_000_000)\n",
    "# If you do 100 million trials of spinning 26 times each, getting black 26 times will typically happen only once or twice."
   ]
  },
  {
   "cell_type": "markdown",
   "metadata": {},
   "source": [
    "<span style='font-size:medium'>If you spin a 27th time, the probability of landing on black is 0.5.</span>\n"
   ]
  },
  {
   "cell_type": "code",
   "execution_count": 11,
   "metadata": {},
   "outputs": [],
   "source": [
    "## Exercises"
   ]
  },
  {
   "cell_type": "markdown",
   "metadata": {},
   "source": [
    "```{admonition} Exercises\n",
    "\n",
    "<span style='font-size:medium'>Exercise 1: Do Example 5 from the beginning of the Probability section mathematically: Suppose you roll a perfect die </span>$n$<span style='font-size:medium'> times and keep a record of each outcome. What is the chance or probability that the die lands on 1, 2, 3, 4, 5, and then 6 when rolled six times \\(</span>$n=6$<span style='font-size:medium'>\\)? Use Python to evaluate your answer. Explain your conclusion in a complete sentence. </span>\n",
    "\n",
    "<span style='font-size:medium'>Exercise 2: Do Example 5 from the beginning of the Probability section computationally: Suppose you roll a perfect die </span>$n$<span style='font-size:medium'> times and keep a record of each outcome. What is the chance or probability that the die lands on 1, 2, 3, 4, 5, and then 6 when rolled six times \\(</span>$n=6$<span style='font-size:medium'>\\)? Do a large number of trials of six rolls of a die and count the number of times the rolls come out as 1 followed by 2, followed by 3, followed by 4, followed by 5, followed by 6. A piece of syntax you may consider using is </span><span style='font-size:medium'>`if (rolls[0] == 1 and rolls[1] == 2 and rolls[2] == 3 and rolls[3] == 4 and rolls[4] == 5 and rolls[5] == 6):`</span><span style='font-size:medium'>. Compare the fraction times you get this pattern to your mathematical answer from the previous exercise in a complete sentence.</span>\n",
    "\n",
    "<span style='font-size:medium'>Exercise 3: If event </span>$A$<span style='font-size:medium'> is that the die comes up 2, and event </span>$B$<span style='font-size:medium'> is that the die comes up with an even number, are the two events </span>$A$<span style='font-size:medium'> and </span>$B$<span style='font-size:medium'> mutually exclusive? Explain. Is the addition rule </span>$P(A \\ \\text{or} \\ B) = P(A) + P(B)$<span style='font-size:medium'> applicable? If so, show that the rule holds. If not, show that the rule does not hold. Use Python to illustrate your answer. </span>\n",
    "\n",
    "<span style='font-size:medium'>Exercise 4: Calculate the probability \\(a\\) mathematically and \\(b\\) computationally of obtaining the given result in </span>$n$<span style='font-size:medium'> rolls of a fair six\\-sided die. Make a statement in a complete sentence about how many times you expect the outcome, in terms of a number of trials \\(consisting of </span>$n$<span style='font-size:medium'> rolls per trial\\). Compare the fraction of times your simulation produces the target pattern with your mathematical answer.</span>\n",
    "\n",
    "1. $n=6$, all numbers are the same\n",
    "2. $n=6$, at least one number is different\n",
    "3. $n=1$, the number rolled is greater than 2\n",
    "4. $n=2$, the sum of the two numbers is greater than 2\n",
    "5. $n=2$, the two numbers are different\n",
    "6. $n=3$, two numbers are the same and one is different\n",
    "7. $n=6$, all the numbers are different\n",
    "8. $n=100$, all the numbers are the same\n",
    "9. $n=6$, the number 1 appears at least once\n",
    "10. $n = 6$, the number 1 appears at most once\n",
    "\n",
    "<span style='font-size:medium'>Exercise 5: Consider the function **flip below**. Summarize its purpose in a complete sentence. Add comments \\(with \\#\\) to clarify the code. Demonstrate its performance on a sample run. Summarize the results in a complete sentence.</span>\n",
    "\n",
    "<span style='font-size:medium'>Exercise 6. Consider the function **flip_trials_preliminary** below. Add comments to explain the code. Summarize the purpose of the function in a complete sentence. Demonstrate its performance on a sample run. Summarize the results in a complete sentence.</span>\n",
    "\n",
    "<span style='font-size:medium'>Exercise 7. When a fair coin is flipped once, the theoretical probability that the outcome will be heads is equal to 1/2. Therefore, according to the LLN, the proportion of heads in a \"large\" number n of coin flips \"should be\" roughly 1⁄2, and the proportion of heads approaches 1/2 as n approaches infinity. Illustrate this idea using simulation with a larger and larger number of flips.</span>\n",
    "```"
   ]
  },
  {
   "cell_type": "code",
   "execution_count": 12,
   "metadata": {},
   "outputs": [],
   "source": [
    "def flip(num_flips):\n",
    "    head_count = 0\n",
    "    for i in range(num_flips):\n",
    "        if random.choice(('H', 'T')) == 'H':\n",
    "            head_count += 1\n",
    "    return head_count/num_flips"
   ]
  },
  {
   "cell_type": "code",
   "execution_count": 13,
   "metadata": {},
   "outputs": [],
   "source": [
    "def flip_trials_preliminary(num_flips_per_trial, num_trials):\n",
    "    fraction_heads = []\n",
    "    for i in range(num_trials):\n",
    "        fraction_heads.append(flip(num_flips_per_trial))\n",
    "    mean = sum(fraction_heads) / len(fraction_heads)\n",
    "    return mean"
   ]
  },
  {
   "cell_type": "markdown",
   "metadata": {},
   "source": [
    "# Conditional probability\n",
    "\n",
    "<span style='font-size:medium'>Independent events are unrelated events. For example, a die roll coming up 1 is independent of whether the previous roll came up 1.</span>\n",
    "\n",
    "<span style='font-size:medium'>Many common events are not independent. Consider and discuss the following events and whether the probability of each is high or low:</span>\n",
    "\n",
    "- <span style='font-size:medium'>your bicycle needs repairs,</span>\n",
    "- <span style='font-size:medium'>you have a bicycle accident,</span>\n",
    "- <span style='font-size:medium'>your bicycle needs repairs given that you had a bicycle accident,</span>\n",
    "- <span style='font-size:medium'>you had a bicycle accident, given that your bicycle needs repairs. </span>\n",
    "\n",
    "<span style='font-size:medium'>Question: Are the bicycle repairs and the bicycle accident independent events?</span>\n",
    "\n",
    "<span style='font-size:medium'>If not, we call them </span><span style='font-size:medium'>**conditionally related**</span><span style='font-size:medium'>.</span>\n",
    "\n",
    "<span style='font-size:medium'>Question: Which statement is more logical? Or are they equally logical?</span>\n",
    "\n",
    "1. <span style='font-size:medium'>Whether your bike needs repairs \\(event R\\) is related to whether you have a bike accident \\(event A\\).</span>\n",
    "2. <span style='font-size:medium'>Whether you have a bike accident \\(event A\\) is related to whether your bike needs repairs \\(event R\\).</span>\n",
    "\n",
    "<span style='font-size:medium'>The </span><span style='font-size:medium'>**conditional probability**</span><span style='font-size:medium'> of an event is based on prior knowledge of conditions that might be related to the event \\(based on the Wikipedia article on Bayes’ Theorem\\). We speak of the conditional probability that event Y occurs, given that event X occurred. We denote the probability as P\\(Y|X\\). </span>\n",
    "\n",
    "<span style='font-size:medium'>For example, we may want to know the probability that your bike needs repairs \\(event R\\) given that you had a bike accident \\(event A\\). We denote the probability as P\\(R|A\\). </span>\n",
    "\n",
    "<span style='font-size:medium'>The quantity P\\(R|A\\) is a conditional probability. Here A is considered the </span><span style='font-size:medium'>**prior**</span><span style='font-size:medium'> event. We say we are </span><span style='font-size:medium'>**conditioning on**</span><span style='font-size:medium'> A. </span>\n",
    "\n",
    "<span style='font-size:medium'>The \\(conditional\\) probability of Y given X can be calculated using the mathematical </span><span style='font-size:medium'>**definition**</span>\n",
    "\n",
    "$$P(Y|X) = \\frac{P(X \\text{ and } Y)}{P(X)}.$$\n",
    "\n",
    "<span style='font-size:medium'>The probability P\\(X\\) of the prior event X is called the prior probability.</span>\n",
    "\n",
    "<span style='font-size:medium'>We can derive </span><span style='font-size:medium'>**Bayes' Theorem**</span><span style='font-size:medium'> by first writing the conditional probability of X given Y</span>\n",
    "\n",
    "$$P(X|Y) = \\frac{P(X \\text{ and } Y)}{P(Y)}.$$\n",
    "\n",
    "<span style='font-size:medium'>Solving each of the previous two equations for P\\(X and Y\\) shows that</span>\n",
    "\n",
    "$$P(Y|X) P(X) = P(X|Y) {P(Y)}$$\n",
    "\n",
    "<span style='font-size:medium'>or </span>\n",
    "\n",
    "$$P(Y|X) = \\frac{P(X|Y) P(Y)}{P(X)}.$$\n",
    "\n",
    "<span style='font-size:medium'>Bayes’ Theorem expresses one conditional probability in terms of the other. It captures how a probability should change to account for related evidence.</span>\n",
    "\n",
    "## Exercises\n"
   ]
  },
  {
   "cell_type": "markdown",
   "metadata": {},
   "source": [
    "```{admonition} Exercises\n",
    "\n",
    "<span style='font-size:medium'>Exercise 1: Suppose 35 spam email messages contain the word \"free\"; 25 spam messages do not contain the word \"free\"; three of non\\-spam messages contain the word \"free\"; and 37 non\\-spam messages do not contain the word \"free\". \\(This problem is adapted from OpenIntoStatistics, David M. Diez, Christoper D. Barr, and Mine Cetinkaya\\-Rundel, Creative Commons, 2016.\\)</span>\n",
    "\n",
    "<span style='font-size:medium'>Do the following problems and interpret your answers in complete sentences. </span>\n",
    "\n",
    "<span style='font-size:medium'>\\(a\\) Calculate the probability that a message is spam, given that it contains the word \"free\". </span>\n",
    "\n",
    "<span style='font-size:medium'>\\(b\\) Calculate the probability that a message is not spam, given that it contains the word \"free\".</span>\n",
    "\n",
    "<span style='font-size:medium'>\\(c\\) Calculate the probability that a message contains the word \"free\", given that it is spam.</span>\n",
    "\n",
    "<span style='font-size:medium'>\\(d\\) Which of the above quantities do you consider to be of the most practical interest?</span>\n",
    "\n",
    "<span style='font-size:medium'>\\(e\\) Suppose we are trying to make decisions about whether a message is spam. Calculate the most relevant probabilities, explain their significance in the context of the practical problem at hand, and describe possible limitations of their applicability.</span>\n",
    "\n",
    "<span style='font-size:medium'>Exercise 2: Suppose the disease meningitis causes a stiff neck 70% of the time, the prior probability of any patient having meningitis is 1/50,000, and the prior probability of any patient having a stiff neck is 1/100. \\(Artificial Intelligence: A Modern Approach \\(Third Edition\\), Stuart J. Russell and Peter Norvig, Prentice Hall, Upper Saddle River, 2010\\). Use Bayes' Theorem to calculate the probability that a patient has meningitis, given they have a stiff neck. Show how you apply Bayes' Theorem. Interpret the results in a complete sentence.</span>\n",
    "\n",
    "```"
   ]
  },
  {
   "cell_type": "markdown",
   "metadata": {},
   "source": [
    "# Probability distributions\n",
    "\n",
    "<span style='font-size:medium'>A probability distribution is a mathematical function that maps each possible numerical outcome </span>$X$<span style='font-size:medium'> of an experiment to its probability. Probability distributions come in many different types. Some fundamental ones include uniform, normal and binormal. </span>\n",
    "\n",
    "## Uniform distribution\n",
    "\n",
    "<span style='font-size:medium'>The graph of a </span><span style='font-size:medium'>**uniform distribution**</span><span style='font-size:medium'> could look like this:</span>\n",
    "\n",
    "<center>\n",
    "<img src=\"uniform.png\"   width=\"400px\">\n",
    "</center>\n",
    "                      \n",
    "                           >\n",
    "\n",
    "<span style='font-size:medium'>In the uniform distribution, each value along the horizontal axis is equally probable.</span>\n",
    "\n",
    "<span style='font-size:medium'>Mathematical distributions are important.  We use them to determine probabilities for results of certain random experiments and to approximate real frequency distributions.</span>\n",
    "\n",
    "<span style='font-size:medium'>For example, if we use Python to generate a random integer between 1 and 6, the number is selected from a uniform distribution: Each outcome is equally likely. We see possible output below.</span>\n"
   ]
  },
  {
   "cell_type": "code",
   "execution_count": 14,
   "metadata": {},
   "outputs": [
    {
     "name": "stdout",
     "output_type": "stream",
     "text": [
      "2\n"
     ]
    }
   ],
   "source": [
    "print(random.randint(1, 6))"
   ]
  },
  {
   "cell_type": "markdown",
   "metadata": {},
   "source": [
    "<span style='font-size:medium'>A histogram is a visualization of a frequency distribution: It shows how often a random variable takes on a value.</span>\n",
    "<span style='font-size:medium'>It shows the shape, center, and spread.</span>\n",
    "\n",
    "<span style='font-size:medium'>For example, consider the simulation of rolling a die 6000 times. We can capture the results with a histogram in Python using the </span><span style='font-size:medium'>`pylab`</span><span style='font-size:medium'> package.  </span><span style='font-size:medium'>`Pylab`</span><span style='font-size:medium'> is a module that imports functions from the modules </span><span style='font-size:medium'>`numpy`</span><span style='font-size:medium'> and </span><span style='font-size:medium'>`matplotlib`</span><span style='font-size:medium'>. </span><span style='font-size:medium'>`Numpy`</span><span style='font-size:medium'> provides tools for numerical computing, e.g., efficient numerical vector/array calculations based on underlying libraries in the Fortran and C programming languages. </span><span style='font-size:medium'>`Matplotlib`</span><span style='font-size:medium'> contains functions to create visualizations of data.</span><span style='font-size:medium'>`Pylab`</span><span style='font-size:medium'>captures the functionality of the proprietary </span><span style='font-size:medium'>`Matlab`</span><span style='font-size:medium'>.</span>\n",
    "\n",
    "<span style='font-size:medium'>Here we call the </span><span style='font-size:medium'>`hist`</span><span style='font-size:medium'> method on the data values that fall in the range 1 to 7 inclusive, where each bar has width 0.8 using . Experiment to see how this call is is an improvement over </span><span style='font-size:medium'>`pylab.hist(values)`</span><span style='font-size:medium'> and </span><span style='font-size:medium'>`pylab.hist(values, bins = 6)`</span><span style='font-size:medium'> and </span><span style='font-size:medium'>`pylab.hist(values, bins = 6, rwidth = 0.8)`</span><span style='font-size:medium'>. We improve the layout of the bars by specifying the leftmost and rightmost values.</span>\n"
   ]
  },
  {
   "cell_type": "code",
   "execution_count": 15,
   "metadata": {},
   "outputs": [
    {
     "data": {
      "image/png": "[encoded data removed]",
      "text/plain": [
       "<Figure size 432x288 with 1 Axes>"
      ]
     },
     "metadata": {
      "needs_background": "light"
     },
     "output_type": "display_data"
    }
   ],
   "source": [
    "import matplotlib.pyplot as plt\n",
    "\n",
    "values = [] # Work with list or array.\n",
    "for i in range(6000): # Roll the die 6000 times.\n",
    "    roll = random.randint(1, 6)\n",
    "    values.append(roll)\n",
    "# Plot a histogram of the values.\n",
    "plt.hist(values, bins = range(1, 8), rwidth = 0.8)\n",
    "# The leftmost edge is 1, and the rightmost is 7.\n",
    "plt.xlabel('Outcome')\n",
    "plt.ylabel('Number of times')\n",
    "plt.show()"
   ]
  },
  {
   "cell_type": "markdown",
   "metadata": {},
   "source": [
    "The results of the simulation of 6000 die rolls look approximately uniform with some slight differences in the frequencies of the rolls of the six numbers.\n"
   ]
  },
  {
   "cell_type": "markdown",
   "metadata": {},
   "source": [
    "The uniform distribution approximates real data, like births by month, as shown in the figure. The real data for the years shown in the figure have some slight month\\-to\\-month differences.\n",
    "\n",
    "<center>\n",
    "    <img src=\"birthsUS.png\"   width=\"462px\"  height=\"284px\"  style=\"object-fit:cover\"/>\n",
    "</center>\n",
    "\n"
   ]
  },
  {
   "cell_type": "markdown",
   "metadata": {},
   "source": [
    "## Normal distribution\n",
    "\n",
    "<span style='font-size:medium'>A probability distribution can be discrete or continuous, depending on whether it maps a discrete value or a continuous value </span>$X$<span style='font-size:medium'> of an experiment to its probability. A numerical variable is discrete if there are jumps between the possible values. A numerical variable is continuous if it can take on any real\\-number value between two other values.</span>\n",
    "\n",
    "<span style='font-size:medium'>The data in the previous examples are discrete. There is a jump of 1 between each possible value on the die. There is a jump of 1 between each possible number of births per month. We cannot roll a 3.72 on a die or have 10,007.21 births per month.</span>\n",
    "\n",
    "<span style='font-size:medium'>The graph of a </span><span style='font-size:medium'>**normal distribution**</span><span style='font-size:medium'> or Gaussian distribution could look like this:</span>\n",
    "\n",
    "<center>\n",
    "<img src=\"normal.png\" style=\"max-width:100%\" />\n",
    "</center>\n",
    "\n",
    "<span style='font-size:medium'>In the normal distribution, the values in the middle range along the horizontal axis are more probable than at the ends \\(\"in the tails\"\\) of the distribution. The normal distribution is often called a \"bell curve\" because it is shaped like a bell.</span>\n",
    "\n",
    "<span style='font-size:medium'>The distribution could be discrete. The continuous form of the normal distribution </span>\n",
    "\n",
    "$$P(X) = \\frac{1}{\\sigma \\sqrt{2 \\pi}} \\exp\\left(-\\frac{1}{2} \\left(\\frac{X - \\mu}{\\sigma}\\right)^2\\right),$$\n",
    "\n",
    "<span style='font-size:medium'>where </span>$\\mu$ <span style='font-size:medium'>is the mean, and </span>$\\sigma$<span style='font-size:medium'> is the standard deviation, can be graphed in Python as: </span>\n",
    "\n"
   ]
  },
  {
   "cell_type": "code",
   "execution_count": 16,
   "metadata": {},
   "outputs": [
    {
     "data": {
      "image/png": "[encoded data removed]",
      "text/plain": [
       "<Figure size 432x288 with 1 Axes>"
      ]
     },
     "metadata": {
      "needs_background": "light"
     },
     "output_type": "display_data"
    }
   ],
   "source": [
    "import math\n",
    "import numpy as np\n",
    "def plot_normal_curve(start, end, mu, sigma):\n",
    "    # Plot the normal distribution with mean mu and standard deviation sigma on an interval from start to end.\n",
    "    y_coords = []\n",
    "    x_coords = np.arange(start, end, (end-start)/100) # Use 100 points between start and end.\n",
    "    for x in x_coords:\n",
    "        y_coords.append(1/sigma/math.sqrt(2*math.pi)*math.exp(-1/2 * ((x-mu)/sigma)**2))\n",
    "    plt.plot(x_coords, y_coords)\n",
    "\n",
    "plot_normal_curve(-2, 2, 0, 0.6)"
   ]
  },
  {
   "cell_type": "markdown",
   "metadata": {},
   "source": [
    "<span style='font-size:medium'>Distributions, such as the normal distribution, are useful for determining probabilities for results of certain random experiments, e.g., in mathematical statistics. </span><span style='font-size:medium'>**Statistics**</span><span style='font-size:medium'> is the science of collecting and analyzing data in large quantities, especially for making inferences about a </span><span style='font-size:medium'>**whole population**</span><span style='font-size:medium'> from a </span><span style='font-size:medium'>**representative sample**</span><span style='font-size:medium'>. </span>\n",
    "\n",
    "<span style='font-size:medium'>For example, how can we estimate the average height of all women in the country? Here the population is women in the country. The average height is the </span><span style='font-size:medium'>**expected value**</span><span style='font-size:medium'> or population parameter.</span>\n",
    "\n",
    "1. <span style='font-size:medium'>Sample some women at random. Measure them and average their heights to get the sample average or </span><span style='font-size:medium'>**sample mean**</span><span style='font-size:medium'>.</span>\n",
    "2. <span style='font-size:medium'>Repeat the process of sampling, measuring, and averaging.</span>\n",
    "3. <span style='font-size:medium'>Average the average heights for the samples.</span>\n",
    "\n",
    "<span style='font-size:medium'>The Law of Large Numbers could be casually stated as: The sample averages converge to the expected value, as the number of samples is increased.</span>\n",
    "\n",
    "<span style='font-size:medium'>The Central Limit Theorem could be casually stated as: The distribution of the sample statistic is approximately normal, if the sample size is large enough.</span>\n",
    "\n",
    "<span style='font-size:medium'>A sample statistic could be a sample mean for a </span><span style='font-size:medium'>**numerical variable**</span><span style='font-size:medium'> \\(like the average height of a sample of people\\) or a </span><span style='font-size:medium'>**sample proportion**</span><span style='font-size:medium'> for a </span><span style='font-size:medium'>**categorical variable**</span><span style='font-size:medium'> \\(like the proportion of adults in a sample of people who are in the \"yes\" category for the variable that measures completion of a sixth\\-grade education\\). Note that for </span><span style='font-size:medium'>**numerical variables**</span><span style='font-size:medium'>, quantities like the average, sum, or difference of their values have clear meaning. The possible values of </span><span style='font-size:medium'>**categorical variables**</span><span style='font-size:medium'> are called \"levels\", such as the yes/no \"levels\".</span>\n",
    "\n",
    "<span style='font-size:medium'>Experiment with / illustrate the law and theorem using </span><span style='font-size:medium'>`pylab`</span><span style='font-size:medium'>. </span>\n",
    "\n"
   ]
  },
  {
   "cell_type": "code",
   "execution_count": 17,
   "metadata": {},
   "outputs": [
    {
     "name": "stdout",
     "output_type": "stream",
     "text": [
      "The mean of the proportions is 0.5002306.\n"
     ]
    },
    {
     "data": {
      "image/png": "[encoded data removed]",
      "text/plain": [
       "<Figure size 432x288 with 1 Axes>"
      ]
     },
     "metadata": {
      "needs_background": "light"
     },
     "output_type": "display_data"
    },
    {
     "data": {
      "text/plain": [
       "<Figure size 432x288 with 0 Axes>"
      ]
     },
     "metadata": {},
     "output_type": "display_data"
    }
   ],
   "source": [
    "def flip_trials(num_flips_per_trial, num_trials):\n",
    "    # Return the proportions of heads in num_trials trials of num_flips coin flips.\n",
    "    # Return the mean of the proportions.\n",
    "    fraction_heads = []\n",
    "    for i in range(num_trials):\n",
    "        fraction_heads.append(flip(num_flips_per_trial))\n",
    "    mean = sum(fraction_heads) / len(fraction_heads)\n",
    "    return fraction_heads, mean\n",
    "\n",
    "def make_histogram_of_proportions(num_flips, num_trials):\n",
    "    # Make a histogram of the proportions of heads in num_trials trials of num_flips coin flips.\n",
    "    plt.title(f'{num_trials} trials of {num_flips} flips')\n",
    "    plt.xlabel('Proportion of heads')\n",
    "    plt.ylabel('Number of trials')\n",
    "    proportions_heads, mean_of_proportions = flip_trials(num_flips, num_trials)\n",
    "    plt.hist(proportions_heads, bins = 20)\n",
    "    xmin, xmax = 0.4, 0.6\n",
    "    plt.figure()\n",
    "    print(f'The mean of the proportions is {mean_of_proportions}.')\n",
    "\n",
    "make_histogram_of_proportions(1000, 10_000)"
   ]
  },
  {
   "cell_type": "markdown",
   "metadata": {},
   "source": [
    "## Binomial distribution\n",
    "\n",
    "<span style='font-size:medium'>Consider a fixed number $n$ of independent experiments, where each experiment can result in \"success\" with the same probability $p$. The binomial distribution maps the non-negative integer </span>$k$<span style='font-size:medium'> to the probability of achieving exactly $k$ successes in $n$ experiments.</span>\n",
    "\n",
    "<span style='font-size:medium'>The graph of a </span><span style='font-size:medium'>**binomial distribution**</span><span style='font-size:medium'> could look like this:</span>\n",
    "\n",
    "<center>\n",
    "<img src=\"binomial.png\" style=\"max-width:100%\" />\n",
    "    </center>\n",
    "\n",
    "<span style='font-size:medium'>The distribution is discrete. The binomial distribution </span>\n",
    "\n",
    "$$P(k) = \\frac{n!}{k! (n-k)!} \\ p^k (1-p)^{n-k}$$\n",
    "\n",
    "<span style='font-size:medium'>can be graphed in Python as: </span>"
   ]
  },
  {
   "cell_type": "code",
   "execution_count": 18,
   "metadata": {},
   "outputs": [
    {
     "data": {
      "image/png": "[encoded data removed]",
      "text/plain": [
       "<Figure size 432x288 with 1 Axes>"
      ]
     },
     "metadata": {
      "needs_background": "light"
     },
     "output_type": "display_data"
    }
   ],
   "source": [
    "def plot_binomial_curve(n, p):\n",
    "    # Plot the binomial distribution for n independent trials, each with probability p of success.\n",
    "    y_coords = []\n",
    "    for k in range(n):\n",
    "        y_coords.append(math.factorial(n)/math.factorial(k)/math.factorial(n-k) * p**k * (1-p)**(n-k))\n",
    "    plt.plot(np.arange(0, n, 1), y_coords) # Plot x-coordinates 0, 1, 2, 3, ..., n against y-coordinates.\n",
    "\n",
    "plot_binomial_curve(30, 0.2)"
   ]
  },
  {
   "cell_type": "code",
   "execution_count": 19,
   "metadata": {},
   "outputs": [],
   "source": [
    "## Exercises"
   ]
  },
  {
   "cell_type": "markdown",
   "metadata": {},
   "source": [
    "```{admonition} Exercises\n",
    "<span style='font-size:medium'>Exercise 1: Consider points </span>$(x, y)$<span style='font-size:medium'> in a 1 x 1 square in the first quadrant of the plane </span>$(x, y) \\in [0, 1) \\times [0, 1)$<span style='font-size:medium'>. Simulate filling the square with dots by picking points in the square at random. Generate the coordinates in each </span>$x$<span style='font-size:medium'>\\-</span>$y$<span style='font-size:medium'> pair by using Python to sample from a uniform distribution on the interval \\[0, 1\\). Use the ratio of number of dots inside a quarter circle with center at the origin to total dots to simulate the ratio of the area of the quarter circle to the area of the square. Use this ratio to to estimate the value of </span>$\\pi$<span style='font-size:medium'>.</span>\n",
    "\n",
    "<span style='font-size:medium'>Exercise 2: 1. Use Python to simulate a game board in which 10,000 balls are dropped down onto a triangle of ten levels of pegs, one\\-by\\-one. Level 1 has 1 peg. Level 2 below it has 2 pegs, etc., down to 10 pegs at Level 10 at the bottom. Assume each ball has equal probability of moving to the left or to the right at each level.</span>\n",
    "\n",
    "<span style='font-size:medium'>\\(a\\) Plot the number of balls against the landing\\-peg number. Include a descriptive title and labels for both axes on your plot.</span>\n",
    "\n",
    "<span style='font-size:medium'>\\(b\\) How does the graph tend to change if you use more levels and keep the number of balls the same? Why?</span>\n",
    "\n",
    "<span style='font-size:medium'>\\(c\\) How does the graph tend to change if you use more balls and keep the number of levels the same? Why?</span>\n",
    "\n",
    "<span style='font-size:medium'>Exercise 3: Consider a biased coin that lands on heads 20% of the time. Simulate 30 flips of the coin. Record whether no heads were flipped, 1 head was flipped, 2 heads were flipped,  3 heads were flipped, etc., up to 30 heads. Repeat the experiment 10,000 times. Draw a histogram that shows how often each number 1\\-30 of heads was flipped. Describe the shape and spread of the graph. Compare it to the graph of the mathematical distribution given by the formula.</span>\n",
    "```"
   ]
  },
  {
   "cell_type": "markdown",
   "metadata": {},
   "source": [
    "# Random walks\n",
    "\n",
    "<span style='font-size:medium'>A </span><span style='font-size:medium'>**random walk**</span><span style='font-size:medium'> </span><span style='font-size:medium'>**on the number line**</span><span style='font-size:medium'> is a path in which each of </span>$n$<span style='font-size:medium'> steps is taken either to the left or right at random. In an </span><span style='font-size:medium'>**unbiased**</span><span style='font-size:medium'> random walk, each step has a 50\\-50 chance of going to the left or to the right.</span>\n",
    "\n",
    "<span style='font-size:medium'>A </span><span style='font-size:medium'>**random walk on a square lattice**</span><span style='font-size:medium'> is a path in which each of </span>$n$<span style='font-size:medium'> steps is taken left, right, up, or down at random. In one example of a biased random walk, a person takes a step left with probability 0.35, a step right with probability 0.2, a step forward with probability 0.4, and a step back with probability 0.05. Note the probabilities add to 1, meaning there are no other options at each iteration.</span>\n",
    "\n",
    "<span style='font-size:medium'>A random walk is an example of a </span><span style='font-size:medium'>**stochastic process**</span><span style='font-size:medium'> because it yields varied output due to randomness when it is executed repeatedly with the same input. By contrast, a deterministic process yields the same output when it is executed repeatedly with the same input. Random walks can be used to model \\(describe\\) practical processes in a variety of areas of study, such as the motion of particles in physics, changes in DNA and \"genetic drift\" in biology, the changes in stock prices in financial markets, and human migration and relocation in global geography and societies.</span>\n",
    "\n",
    "<span style='font-size:medium'>In a traditional framing of a random walk, a drunk person walks on a street with an equal probability of movement to the left or right at each pace. One can readily ask a many questions about the random walk that can be surprisingly challenging to answer via basic calculation and pencil\\-and\\-paper experimentation.</span>\n",
    "\n",
    "<span style='font-size:medium'>For instance, in an unbiased random walk on the number line, what is the expected number of paces the person should take in order to move one pace to the left of the starting point? Also consider, in the example above of the biased random walk on a square lattice, what is the expected number of paces the person should take in order to visit the location one pace to the left of the starting point? </span>\n",
    "\n",
    "<span style='font-size:medium'>Mathematical approaches can provide answers about random walks. However, many questions prove quite difficult to address theoretically. </span>\n",
    "\n",
    "<span style='font-size:medium'>Computer simulations can conveniently and intuitively provide insights into random walks. They can also illustrate the variations that occur over many trials of an experiment. In this section, we use computation to consider the questions above and more.</span>\n",
    "\n",
    "<span style='font-size:medium'>Example: Consider and explore this Python code for a random walk on a square lattice. We see possible output below.</span>\n",
    "\n"
   ]
  },
  {
   "cell_type": "code",
   "execution_count": 20,
   "metadata": {},
   "outputs": [
    {
     "data": {
      "image/png": "[encoded data removed]",
      "text/plain": [
       "<Figure size 432x288 with 1 Axes>"
      ]
     },
     "metadata": {
      "needs_background": "light"
     },
     "output_type": "display_data"
    },
    {
     "name": "stdout",
     "output_type": "stream",
     "text": [
      "Final position: 10.0, 1.0\n"
     ]
    }
   ],
   "source": [
    "n = 1000\n",
    "x, y = np.zeros(n), np.zeros(n)\n",
    "for i in range(1, n):\n",
    "    val = random.choice(['forward', 'back', 'left', 'right'])\n",
    "    if val == 'forward':\n",
    "        x[i] = x[i-1]\n",
    "        y[i] = y[i-1] + 1\n",
    "    elif val == 'back':\n",
    "        x[i] = x[i-1]\n",
    "        y[i] = y[i-1] - 1\n",
    "    elif val == 'left':\n",
    "        x[i] = x[i-1] - 1\n",
    "        y[i] = y[i-1]\n",
    "    else: # val == 'right'\n",
    "        x[i] = x[i-1] + 1\n",
    "        y[i] = y[i-1]\n",
    "plt.plot(x, y, 'r*-')\n",
    "plt.title(f\"{n} steps\")\n",
    "plt.show()\n",
    "print(f\"Final position: {x[n-1]}, {y[n-1]}\")"
   ]
  },
  {
   "cell_type": "markdown",
   "metadata": {},
   "source": [
    "<span style='font-size:medium'>Example: Consider and explore this Python code for a random walk on a cubic lattice!  We see possible output below.</span>\n"
   ]
  },
  {
   "cell_type": "code",
   "execution_count": 21,
   "metadata": {},
   "outputs": [
    {
     "name": "stdout",
     "output_type": "stream",
     "text": [
      "Final position: 1.0, 4.0, 4.0\n"
     ]
    },
    {
     "data": {
      "image/png": "[encoded data removed]",
      "text/plain": [
       "<Figure size 432x288 with 2 Axes>"
      ]
     },
     "metadata": {
      "needs_background": "light"
     },
     "output_type": "display_data"
    }
   ],
   "source": [
    "n = 100\n",
    "x, y, z = np.zeros(n), np.zeros(n), np.zeros(n)\n",
    "for i in range(1, n):\n",
    "    val = random.choice(['forward', 'back', 'left', 'right', 'up', 'down'])\n",
    "    if val == 'forward':\n",
    "        x[i] = x[i-1]\n",
    "        y[i] = y[i-1] + 1\n",
    "        z[i] = z[i-1]\n",
    "    elif val == 'back':\n",
    "        x[i] = x[i-1]\n",
    "        y[i] = y[i-1] - 1\n",
    "        z[i] = z[i-1]\n",
    "    elif val == 'left':\n",
    "        x[i] = x[i-1] - 1\n",
    "        y[i] = y[i-1]\n",
    "        z[i] = z[i-1]\n",
    "    elif val == 'right':\n",
    "        x[i] = x[i-1] + 1\n",
    "        y[i] = y[i-1]\n",
    "        z[i] = z[i-1]\n",
    "    elif val == 'up':\n",
    "        x[i] = x[i-1]\n",
    "        y[i] = y[i-1]\n",
    "        z[i] = z[i-1] + 1\n",
    "    else: # go down\n",
    "        x[i] = x[i-1]\n",
    "        y[i] = y[i-1]\n",
    "        z[i] = z[i-1] - 1\n",
    "plt.title(f\"{n} steps\")\n",
    "ax = plt.axes(projection='3d')\n",
    "ax.set_xlabel('x position')\n",
    "ax.set_ylabel('y position')\n",
    "ax.set_zlabel('z position')\n",
    "plt.plot(x, y, z, 'r*-')\n",
    "print(f\"Final position: {x[n-1]}, {y[n-1]}, {z[n-1]}\")"
   ]
  },
  {
   "cell_type": "markdown",
   "metadata": {},
   "source": [
    "Note you can change the figure size, for example by inserting the following line before plotting:\n"
   ]
  },
  {
   "cell_type": "code",
   "execution_count": 22,
   "metadata": {},
   "outputs": [
    {
     "data": {
      "text/plain": [
       "<Figure size 500x500 with 0 Axes>"
      ]
     },
     "metadata": {},
     "output_type": "display_data"
    }
   ],
   "source": [
    "fig = plt.figure(figsize = (10, 10), dpi = 50)"
   ]
  },
  {
   "cell_type": "markdown",
   "metadata": {},
   "source": [
    "## Exercises"
   ]
  },
  {
   "cell_type": "markdown",
   "metadata": {},
   "source": [
    "```{admonition} Exercises\n",
    "<span style='font-size:medium'>Exercise 1: A person walks on a street with an equal probability of movement to the left or right at each pace. Write a Python program to approximate the expected number of paces the person should take in order to move one pace to the left of the starting point. Suggestion: Use 0 as the starting point. State your conclusions in a complete sentence.</span>\n",
    "\n",
    "<span style='font-size:medium'>Exercise 2: Consider an unbiased random walk on a square lattice. Write a Python program to find approximate answers to the following questions:</span>\n",
    "\n",
    "<span style='font-size:medium'>\\(a\\) What is the expected number of a paces the person should take in order to visit the location one pace to the left of the starting point \\(0, 0\\)? Explain.</span>\n",
    "\n",
    "<span style='font-size:medium'>\\(b\\) How far away from the starting point \\(0,0\\) does a person end up after </span>$n$<span style='font-size:medium'> steps of an unbiased random walk on a square lattice? Explain.</span>\n",
    "\n",
    "<span style='font-size:medium'>\\(c\\) If you run the simulation program for Part \\(b\\) many times, is there any statistical distribution you can expect? Explain.</span>\n",
    "\n",
    "<span style='font-size:medium'>Exercise 3: A person walks one pace left with a probability of 0.35, one pace right with a probability of 0.2, one pace forward with a probability of 0.4 and one pace backward with a probability of 0.05.  Write a Python program to approximate the expected number of paces the person should take in order to visit the location one pace to the left of the starting point. State your conclusions in a complete sentence.</span>\n",
    "\n",
    "<span style='font-size:medium'>Exercise 4: A person walks one pace left, right, forward or back with equal probability. When the person walks left, right, or back, she walks one pace. When she walks forward, she walks two paces. Write a Python program to approximate how far forward the person has walked in 1000 paces. State your conclusions in a complete sentence.</span>\n",
    "\n",
    "<span style='font-size:medium'>Exercise 5: A </span><span style='font-size:medium'>**Markov chain**</span><span style='font-size:medium'> describes a sequence of possible events in which the probability of each event depends on the state in the previous event. For example, suppose that we modify an unbiased random walk on a square lattice such that if the previous step was to the right, then the probability of making the current move up, down, left, or right is 0.2, 0.2, 0.4, or 0.2, respectively. As such,</span>\n",
    "\n",
    "<span style='font-size:medium'>\\(a\\) explain the implications of a move to the right in practical terms in a complete sentence.</span>\n",
    "\n",
    "<span style='font-size:medium'>\\(b\\) run some simulations and address the question: How does the use of the Markov chain change the unbiased random walk on a square lattice? </span>\n",
    "\n",
    "<span style='font-size:medium'>Exercise 6: Two people get lost in a shopping mall. They both want to find each other as soon as possible. However, each has no clue where the other one is. There are two strategies available:</span>\n",
    "\n",
    "<span style='font-size:medium'>\\(1\\) One person stays in the same place. The other moves around.</span>\n",
    "\n",
    "<span style='font-size:medium'>\\(2\\) Both people move.</span>\n",
    "\n",
    "<span style='font-size:medium'>Which strategy is better for them to meet?</span>\n",
    "\n",
    "<span style='font-size:medium'>Do simulations and explain how they support your answer.</span>\n",
    "\n",
    "```"
   ]
  },
  {
   "cell_type": "markdown",
   "metadata": {},
   "source": [
    "# Agent\\-based models\n",
    "\n",
    "<span style='font-size:medium'>Agent\\-based models are used to describe actions and interactions of individuals \\(agents\\), which occur with various likelihoods. Simulations on such models can be used to make predictions about the future state of the agents. In this section, we refer to agents acting independently. We do not address multi\\-agent systems in which individuals collaborate with one another in groups.</span>\n",
    "\n",
    "<span style='font-size:medium'>Like random walks, agent\\-based models can be used to capture practical processes probabilistically in a variety of areas of study. They can predict the spread of disease, forecast the segregation \\(separation\\) of different populations in a certain region, optimize traffic conditions, and describe behaviors within social networks.</span>\n",
    "\n",
    "<span style='font-size:medium'>In a classic example, consider that we often hear news from other people we know. If a piece of information is shared, how might it spread, from one agent to another?</span>\n",
    "\n",
    "<span style='font-size:medium'>Let us develop an agent\\-based model and use the model to simulate how a piece of information spreads over time. As with any model, we make a few underlying assumptions. Some are very practical. Some are explicit simplifications of a real\\-life scenario to make the problem easier to solve. In modeling and simulations, practitioners like to </span><span style='font-size:medium'>**start with simple models**</span><span style='font-size:medium'> and evaluate how well they capture real scenarios. Modelers address some shortcomings in the simulations with changes to the model assumptions. Over time, we typically expand the scope of the model to address additional scenarios. Here we assume:</span>\n",
    "\n",
    "1. <span style='font-size:medium'>The population is a closed community. The number of individuals does not change.</span>\n",
    "2. <span style='font-size:medium'>Agents who do not have the information do not pass any information to others!</span>\n",
    "3. <span style='font-size:medium'>An agent does not pass information to itself.</span>\n",
    "4. <span style='font-size:medium'>Once an agent hears the piece of information, it will not forget the information. There is no transition from \"knowing\" to \"not knowing\".</span>\n",
    "5. <span style='font-size:medium'>A transmission rate defines how many others hear the information from a given individual in one day.</span>\n",
    "6. <span style='font-size:medium'>Each agent has one of the allowed transmission rates with equal probability.</span>\n",
    "7. <span style='font-size:medium'>When an agent shares the information with another individual, that individual is selected from all the other members of the population with equal probability.</span>\n",
    "\n",
    "<span style='font-size:medium'>In models, </span><span style='font-size:medium'>**initial conditions**</span><span style='font-size:medium'> provide \"starting information\". Let us take the following initial condition for our problem: On Day 0, 1 individual has the information.</span>\n",
    "\n",
    "<span style='font-size:medium'>Parameters are changeable values that quantify practical aspects of entities or processes involved in the problem. Let us identify some parameters for the agent\\-based model and assign them values as follows:</span>\n",
    "\n",
    "1. <span style='font-size:medium'>The value of the population parameter is 1000. \\(There are 1000 agents.\\)</span>\n",
    "2. <span style='font-size:medium'>The allowed transmission rates are 0, 1, 2, 3, 4, and 5.</span>\n",
    "\n",
    "<span style='font-size:medium'>The way the information could spread is as follows: We have Persons 1, 2, 3, 4, 5, 6, 7, 8, 9, 10, 11, 12,..., 1000. These people might have transmission rates 3, 3, 2, 0, 5, 1, 1, 2, 3, 4, 2, 1, ..., 4 respectively. Initially, 1 person knows the information. If that person is Person 1, and Person 1 has a transmission rate of 3, then on the first day of gossip, Person 1 might spread the information to Persons 5, 8, and 9 with transmission rates 5, 2, and 3, respectively. In Day 2 of gossip, Person 1 spreads the information to 3 people, Person 5 to 5 people, Person 8 to 2 people and Person 9 to 3 people. Note these may be some of the same people or people who already know the information. The process continues day\\-by\\-day.</span>\n",
    "\n",
    "<span style='font-size:medium'>Exercise 1: Simulate the spread of information under the given assumptions. How many days does it seem to take in general for the information to spread to half of the population? Will all individuals be informed after a certain number of days?</span>\n",
    "\n",
    "<span style='font-size:medium'>Exercise 2: This agent\\-based model could also be applied to the spread of disease. If \"knowing the information\" means \"having the disease\" and \"not having the information\" means \"not having the disease\", what are the interpretations of the assumptions, initial condition, and parameters that are given? Explain how you may find the model compelling in the context of disease, or what changes to the model you recommend to better reflect the spread of disease.</span>\n",
    "\n"
   ]
  },
  {
   "cell_type": "markdown",
   "metadata": {},
   "source": [
    "# Mathematical games\n",
    "\n",
    "<span style='font-size:medium'>Many games that people play for pleasure have mathematical aspects. Indeed </span><span style='font-size:medium'>**game theory**</span><span style='font-size:medium'> is a field of mathematics. </span>\n",
    "\n",
    "<span style='font-size:medium'>We can identify properties of games mathematically and via computer simulation. In this section, we focus on modeling, simulation, and visualization of the results of a few games that involve randomness. The goal is to get insights into the likelihoods of different outcomes, given rules, rather than actually to engage in games for pure entertainment. No prior familiarity with the games is assumed, and we do not include any betting, which some people consider morally objectionable.</span>\n",
    "\n",
    "## Craps\n",
    "\n",
    "<span style='font-size:medium'>The game of craps uses two six\\-sided dice. The rules for two versions of the game are as follows:</span>\n",
    "\n",
    "1. <span style='font-size:medium'>“Pass Line”:</span>\n",
    "\n",
    "- <span style='font-size:medium'>If the first roll is a 7 or 11, you win.</span>\n",
    "- <span style='font-size:medium'>Otherwise, if the first roll is a 2, 3, or 12, you lose.</span>\n",
    "- <span style='font-size:medium'>In all other cases, the specific number rolled is “the point”, and you roll again until one of the following outcomes:</span>\n",
    "  - <span style='font-size:medium'>If you roll “the point” again, you win.</span>\n",
    "  - <span style='font-size:medium'>If you roll a 7, you lose.</span>\n",
    "\n",
    "2. <span style='font-size:medium'>“Don't Pass”:</span>\n",
    "\n",
    "- <span style='font-size:medium'>If the first roll is a 7 or 11, you lose.</span>\n",
    "- <span style='font-size:medium'>Otherwise, if the first roll is a 2, 3, or 12, you win.</span>\n",
    "- <span style='font-size:medium'>In all other cases, the specific number rolled is “the point”, and you roll again until one of the following outcomes:</span>\n",
    "  - <span style='font-size:medium'>If you roll “the point” again, you lose.</span>\n",
    "  - <span style='font-size:medium'>If you roll a 7, you win.</span>\n",
    "\n",
    "<span style='font-size:medium'>If you neither win, nor lose, we call the result a draw or a tie.</span>\n",
    "\n",
    "<span style='font-size:medium'>We can implement these two versions of the game in Python. We see possible output below. </span>\n",
    "\n"
   ]
  },
  {
   "cell_type": "code",
   "execution_count": 24,
   "metadata": {},
   "outputs": [
    {
     "name": "stdout",
     "output_type": "stream",
     "text": [
      "Pass line:\n",
      "draw\n",
      "\n",
      "Play again\n",
      "\n",
      "Don't pass:\n",
      "lose\n"
     ]
    }
   ],
   "source": [
    "def roll_two_dice():\n",
    "    die1 = random.randint(1, 6)\n",
    "    die2 = random.randint(1, 6)\n",
    "    return die1 + die2\n",
    "\n",
    "def pass_line():\n",
    "    roll = roll_two_dice()\n",
    "    if (roll == 7) or (roll == 11):\n",
    "        return \"win\"\n",
    "    elif (roll == 2) or (roll == 3) or (roll == 12):\n",
    "        return \"lose\"\n",
    "    else:\n",
    "        the_point = roll\n",
    "        roll = roll_two_dice()\n",
    "        if (roll == the_point):\n",
    "            return \"win\"\n",
    "        elif (roll == 7):\n",
    "            return \"lose\"\n",
    "        else:\n",
    "            return \"draw\"\n",
    "\n",
    "def dont_pass():\n",
    "    roll = roll_two_dice()\n",
    "    if (roll == 7) or (roll == 11):\n",
    "        return \"lose\"\n",
    "    elif (roll == 2) or (roll == 3) or (roll == 12):\n",
    "        return \"win\"\n",
    "    else:\n",
    "        the_point = roll\n",
    "        roll = roll_two_dice()\n",
    "        if (roll == the_point):\n",
    "            return \"lose\"\n",
    "        elif (roll == 7):\n",
    "            return \"win\"\n",
    "        else:\n",
    "            return \"draw\"\n",
    "\n",
    "print(\"Pass line:\")\n",
    "print(pass_line())\n",
    "print(\"\\nPlay again\\n\")\n",
    "print(\"Don't pass:\")\n",
    "print(dont_pass())"
   ]
  },
  {
   "cell_type": "markdown",
   "metadata": {},
   "source": [
    "<span style='font-size:medium'>Explore these two versions of the game craps in the Exercises section.</span>\n"
   ]
  },
  {
   "cell_type": "markdown",
   "metadata": {},
   "source": [
    "## Choosing the right one\n",
    "\n",
    "<span style='font-size:medium'>Consider the following problem:</span>\n",
    "\n",
    "<span style='font-size:medium'>You arrive at a hotel and are invited to walk down the hall and choose what you consider the best out of $n$ rooms. The rooms are varied with no underlying organization. You will view them one\\-by\\-one, and the person in charge says you must accept or reject a room immediately after viewing it because a stream of others seeking lodging is coming in behind you. If you have not accepted a room before you reach the end of the hall, you will get the last of the $n$ rooms.</span>\n",
    "\n",
    "<span style='font-size:medium'>Problem: How can you maximize the chance that you will accept the room you consider the best?</span>\n",
    "\n",
    "<span style='font-size:medium'>Optimal stopping problems like this one arise in various contexts, including financial markets \\(choosing when to sell stock in an </span>$n$<span style='font-size:medium'>\\-day period\\), housing markets \\(choosing when to sell a house in an </span>$n$<span style='font-size:medium'>\\-day period\\), and hiring or marriage \\(selecting someone when </span>$n$<span style='font-size:medium'> candidates \"dribble in\" sequentially\\).</span>\n",
    "\n",
    "<span style='font-size:medium'>Notice that if your strategy is to pick a room at random, your chance of getting the best room is $1/n$. If your strategy is to choose the first, second, last, or \"middle\" room, your chance of getting the best room is also $1/n$. For larger values of $n$, this strategy performs increasingly poorly.</span>\n",
    "\n",
    "<span style='font-size:medium'>An insight here is that you can benefit from a \"preview process.\" Set a strategy in which you preview $r$ rooms (rejecting each one) and record the maximum score $m$ from the preview set. Then pick the first room with a score that is better than $m$.\n",
    "</span>\n",
    "\n",
    "<span style='font-size:medium'>For example, suppose </span>$n = 10$<span style='font-size:medium'>. Previewing </span>$r$<span style='font-size:medium'> rooms is possible if </span>$0 \\le r < n$<span style='font-size:medium'>. Suppose your strategy is to preview </span>$r = 3$<span style='font-size:medium'> rooms. If the scores for the rooms are \\[67, 91, 85, 92, 2, 71, 32, 56, 37, 34\\], then </span>$m = 91$<span style='font-size:medium'>. The first room with a score better than </span>$m$<span style='font-size:medium'> is the fourth room with a score of 92. In this case, the strategy yielded the best room.</span>\n",
    "\n",
    "<span style='font-size:medium'>It can be shown mathematically that the optimal fraction of the total rooms that you should preview is </span>$1/e$<span style='font-size:medium'> or approximately 37% as </span>$n$<span style='font-size:medium'> gets very large. The probability that you will select the best room this way is also </span>$1/e$<span style='font-size:medium'> for large </span>$n$<span style='font-size:medium'>. We can also come up with this advantageous fraction of rooms approximately via simulation.</span>\n",
    "\n",
    "<span style='font-size:medium'>We can explore the game of choosing the right one with the following algorithm:</span>\n"
   ]
  },
  {
   "cell_type": "code",
   "execution_count": 25,
   "metadata": {},
   "outputs": [],
   "source": [
    "# 1. Generate a list ratings of n rooms, from 0 to 100.\n",
    "\n",
    "# 2. Define the number_rooms_to_preview as int(0.37 * n).\n",
    "\n",
    "# 3. Find max among the first 37% by looping through the rooms to be visited.\n",
    "\n",
    "# 4. While rooms still remain to be visited,\n",
    "# and the rating does not surpass the first 37% of ratings,\n",
    "# advance to the next room:\n",
    "# while (i < n) and (ratings[i] <= max):\n",
    "    # i += 1\n",
    "\n",
    "# 5. Once you exit the while loop, if you haven't reached the final room,\n",
    "# if i < n:\n",
    "# then you have found a room that surpasses the first 37%.\n",
    "# You found the first rating that exceeds max, so assign that rating as your choice:\n",
    "    # choice = ratings[i]\n",
    "\n",
    "# 6. Otherwise, you have been through all the rooms, and you must take the last room:\n",
    "# else:\n",
    "    # choice = ratings[n-1]\n",
    "\n",
    "# 7. Sort apartments best to worst:\n",
    "# ratings.sort(reverse = True)\n",
    "\n",
    "# 8. Find the index of your choice in the sorted list\n",
    "# to get the rank of your chosen room (1 <= rank <= n):\n",
    "# rank = ratings.index(choice) + 1\n",
    "\n",
    "# 9. Append the rank of the selected apartment into a list.\n",
    "\n",
    "# 10. Plot these ranks in a histogram."
   ]
  },
  {
   "cell_type": "markdown",
   "metadata": {},
   "source": [
    "<span style='font-size:medium'>Explore this algorithm for choosing the right one in the Exercises section. </span>\n"
   ]
  },
  {
   "cell_type": "markdown",
   "metadata": {},
   "source": [
    "## Coin\\-flipping game\n",
    "\n",
    "<span style='font-size:medium'>Suppose you have a coin to flip and </span>$n$<span style='font-size:medium'> tokens. In this game, you put a fraction </span>$F$<span style='font-size:medium'> of your tokens \\(</span>$Fn$<span style='font-size:medium'> tokens\\)</span> <span style='font-size:medium'>on the table, </span>$0 <F \\le 1$<span style='font-size:medium'>. You choose either heads or tails for the game, for example heads. Then you flip the coin. If it comes up with your choice \\(heads\\), then you win </span>$Fn$<span style='font-size:medium'> additional tokens. If your choice is wrong \\(the coin comes up tails\\), then you lose all </span>$Fn$<span style='font-size:medium'> tokens. Repeat the process, each time using the same fraction </span>$F$<span style='font-size:medium'> of the number of tokens that you now have and using the same coin\\-flip choice \\(in this example, heads\\). Do this until you lose all your tokens or up to a maximum number of flips, for example 30, whichever comes first.</span>\n",
    "\n",
    "<span style='font-size:medium'>Example: You start the game with </span>$n=100$<span style='font-size:medium'> tokens. You decide that you will put down </span>$F = 1/2$<span style='font-size:medium'> of your tokens for each turn, use heads as your guess, and play until you lose all your tokens or up to a maximum of 30 flips, whichever comes first. As such, you put 50 tokens on the table. You flip the coin. It comes up heads, so you win 50 tokens. Therefore, you have 150 tokens altogether \\(150 points\\). So, next you put 75 tokens on the table. You flip the coin. It comes up tails, so you lose the 75 tokens. Now you have 75 tokens \\(75 points\\) altogether. In one version of the game, points must be positive integers, so you chose a convention for rounding up or rounding down when the number of tokens </span>$Fn$<span style='font-size:medium'>is odd. In another version, fractional points like 37.5 are allowed. We could simulate a continuation of the game with one of these conventions to determine how many points you have at the end of the game.</span>\n",
    "\n",
    "<span style='font-size:medium'>It has been mathematically established that a winning strategy to maximize your points is to put down the optimal fraction </span>$F$<span style='font-size:medium'> of your tokens,  given by the Kelly criterion as </span>$$F = \\frac{bp – 1 + p}{b},$$<span style='font-size:medium'>where </span>$p$<span style='font-size:medium'> is the probability of winning, like </span>$p = 0.5$<span style='font-size:medium'> for heads, </span>$1 − p$<span style='font-size:medium'> is the probability of losing, and </span>$b$<span style='font-size:medium'> are the odds in the game. For example, odds </span>$b = 1$<span style='font-size:medium'> means “put down 1 and win </span>$b = 1$<span style='font-size:medium'> points” \\(or lose </span>$b = 1$<span style='font-size:medium'> point\\).</span>\n",
    "\n",
    "<span style='font-size:medium'>Explore this game in the Exercises section.</span>\n",
    "\n"
   ]
  },
  {
   "cell_type": "markdown",
   "metadata": {},
   "source": [
    "## Exercises"
   ]
  },
  {
   "cell_type": "markdown",
   "metadata": {},
   "source": [
    "```{admonition} Exercises\n",
    "<span style='font-size:medium'>Exercise 1: For the game of craps, does the choice of “Pass Line” vs. “Don't Pass” affect the likelihood of winning, under the rules given? If so, what kind of difference and how much difference? Use quantitative information to support your answer. State whether you have provided mathematical proof or computational evidence.</span>\n",
    "\n",
    "<span style='font-size:medium'>Exercise 2: If one of the two dice is biased in the game of craps, how does that affect the analysis and conclusions from Exercise 1? Illustrate your answer by doing some simulations and discussing the results.</span>\n",
    "\n",
    "<span style='font-size:medium'>Exercise 3: Simulate the optimal stopping problem for ten rooms using the algorithm discussed in this section. Execute many trials.</span>\n",
    "\n",
    "<span style='font-size:medium'>\\(a\\) Explain whether you typically get the best room or not when you preview 37% \\(three or four\\) of the rooms.</span>\n",
    "\n",
    "<span style='font-size:medium'>\\(b\\) If you don't get the best room, how good of a room do you typically get?</span>\n",
    "\n",
    "<span style='font-size:medium'>\\(c\\) Show a histogram of the ranks of the rooms you choose. Do the shape, center, and spread of the ranks suggest that the strategy \\(algorithm\\) is a good one for winning the best room? Explain.</span>\n",
    "\n",
    "<span style='font-size:medium'>\\(d\\) Does the strategy of previewing three or four of the ten rooms tend to lead to a better outcome than if you preview two or five? Support your answer.</span>\n",
    "\n",
    "<span style='font-size:medium'>Exercise 4: With a fair coin, is there a winning strategy to maximize your points in the coin\\-flipping game described in this section? If so, what is the winning strategy? Illustrate your conclusions using simulation.</span>\n",
    "\n",
    "<span style='font-size:medium'>Exercise 5: If you know the coin is biased, with 60% chance of heads and 40% chance of tails, how should you change your strategy? Illustrate your answer using simulation.</span>\n",
    "\n",
    "```"
   ]
  }
 ],
 "metadata": {
  "kernelspec": {
   "display_name": "Python 3",
   "language": "python",
   "name": "python3"
  },
  "language_info": {
   "codemirror_mode": {
    "name": "ipython",
    "version": 3
   },
   "file_extension": ".py",
   "mimetype": "text/x-python",
   "name": "python",
   "nbconvert_exporter": "python",
   "pygments_lexer": "ipython3",
   "version": "3.8.8"
  }
 },
 "nbformat": 4,
 "nbformat_minor": 4
}
