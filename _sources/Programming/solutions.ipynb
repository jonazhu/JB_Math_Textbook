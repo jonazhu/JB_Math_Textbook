{
 "cells": [
  {
   "cell_type": "code",
   "execution_count": 1,
   "id": "caad0a4c",
   "metadata": {},
   "outputs": [],
   "source": [
    "import pandas as pd\n",
    "import matplotlib.pyplot as plt\n",
    "import numpy as np"
   ]
  },
  {
   "cell_type": "markdown",
   "id": "42c3278d",
   "metadata": {},
   "source": [
    "# Solution to Exercises"
   ]
  },
  {
   "cell_type": "markdown",
   "id": "2c6f46c7",
   "metadata": {},
   "source": [
    "## Introduction to Python"
   ]
  },
  {
   "cell_type": "code",
   "execution_count": null,
   "id": "303317c9",
   "metadata": {},
   "outputs": [],
   "source": []
  },
  {
   "cell_type": "markdown",
   "id": "668ddeac",
   "metadata": {},
   "source": [
    "## Working with Data"
   ]
  },
  {
   "cell_type": "markdown",
   "id": "cc34c41a",
   "metadata": {},
   "source": [
    "### 1 An Overview of Data and Data Analysis"
   ]
  },
  {
   "cell_type": "markdown",
   "id": "8a6e6892",
   "metadata": {},
   "source": [
    "Exercise 1\n",
    "\n",
    "Answers may vary. Data of chess moves from human players: sophisticated algorithms are needed to understand the meaning of the moves and the impact of each move towards the winning of the chess game. Real-time data from background radiation: it is nearly impossible to predict the next minute's exact radiation level by \"analyzing\" the historical values, though an average level over a time period is available. Written texts of a now-extinct human language: because there is no gold-standard human verification, a machine's interpretation of such a language can be less convincing. \n",
    "\n",
    "Exercise 2\n",
    "\n",
    "There are several suggested options, but all depend on the nature of the specific data. One can implement parallel systems, consider data compression if possible, or just prioritize the volume with less accurate results, etc.   \n",
    "\n",
    "Exercise 3\n",
    "\n",
    "Not really. The structure and the quality of data are two different things. One individual may use a numeric value from 0-5 to self-record the tasteness level for a certain type of food that he or she eats every day. However, such kind of record can be very much subjective and does not imply a high quality or accuracy."
   ]
  },
  {
   "cell_type": "markdown",
   "id": "276805c4",
   "metadata": {},
   "source": [
    "### 2 Data Operations: Importing and Exporting, Reading and Writing Data"
   ]
  },
  {
   "cell_type": "markdown",
   "id": "6150f2b5",
   "metadata": {},
   "source": [
    "Exercise 1 \n",
    "\n",
    "The purpose of making this question is to provide a general solution in case that one does not want a program to display too many data at a time."
   ]
  },
  {
   "cell_type": "markdown",
   "id": "67950600",
   "metadata": {},
   "source": [
    "All user entered elements to be stored in a list\n",
    "\n",
    "list_numbers = list()\n",
    "\n",
    "Accepting user inputs\n",
    "\n",
    "user_input = input()\n",
    "\n",
    "Continue to accept user inputs until user types STOP\n",
    "\n",
    "while user_input != 'STOP':\n",
    "    list_numbers.append(user_input)\n",
    "    user_input = input()\n",
    "\n",
    "Displaying the smaller of: number of user entered elements or 6\n",
    "\n",
    "records_to_display = min(len(list_numbers), 6)\n",
    "\n",
    "Using a loop to display uer input values\n",
    "\n",
    "for i in range(records_to_display):\n",
    "    print(list_numbers[i])"
   ]
  },
  {
   "cell_type": "markdown",
   "id": "1c71d059",
   "metadata": {},
   "source": [
    "Exercise 2\n",
    "\n",
    "Except the first line, all other 99 lines (rows) have actual data. Usually, there is no comma after last data record in each line. There will be 26 records in each line (row). However, since the first column is storing an index value, there will be 25 actual data records in each line (row). Therefore, the total number of records in this .csv file can store (100-1) * (25+1-1) = 2475. \n",
    "\n",
    "\n",
    "Exercise 3\n",
    "\n",
    "We must treat each element as a number type value. The following code does not work, though the output looks okay."
   ]
  },
  {
   "cell_type": "markdown",
   "id": "92e02f78",
   "metadata": {},
   "source": [
    "user_input_line = input()\n",
    "output_format = user_input_line.replace(\",\" , \"\\n\")\n",
    "print(output_format)"
   ]
  },
  {
   "cell_type": "markdown",
   "id": "8073c03a",
   "metadata": {},
   "source": [
    "The correct function that we should use is the split() function."
   ]
  },
  {
   "cell_type": "markdown",
   "id": "207d104d",
   "metadata": {},
   "source": [
    "user_input_line = input()\n",
    "\n",
    "output_list = user_input_line.split(\",\")\n",
    "output_numbers = []\n",
    "\n",
    "for i in range(len(output_list)):\n",
    "    # adding and displaying the numbers as number type values\n",
    "    output_numbers.append(int(output_list[i]))\n",
    "    print(output_numbers[i])"
   ]
  },
  {
   "cell_type": "markdown",
   "id": "e293170e",
   "metadata": {},
   "source": [
    "Exercise 4\n",
    "\n",
    "One way to solve the problem is to replace all other symbols with the same separator such as a comma throughout the file. \n",
    "\n",
    "    #. The separator symbol (e.g. semicolon) to be replaced\n",
    "    separator_other = \";\"\n",
    "    #.The separator symbol (e.g. comma) to replace other separator symbols\n",
    "    separator_comma = \",\"\n",
    "    #. Assume that all_data is the entire text from the file. Using .replace() function to update ; with ,\n",
    "    all_data = all_data.replace(separator_other, separator_comma)\n",
    "\n",
    "Another way is to recognize both commas and semicolons as data separators.\n",
    "\n",
    "    #. Example: In the sep parameter part, put both , and ; as separators.\n",
    "    df = pd.read_csv(\"file_name.csv\", sep = \",;\")"
   ]
  },
  {
   "cell_type": "markdown",
   "id": "2e5173dc",
   "metadata": {},
   "source": [
    "### 3  Introduction to Pandas"
   ]
  },
  {
   "cell_type": "markdown",
   "id": "56052afd",
   "metadata": {},
   "source": [
    "Exercise 1"
   ]
  },
  {
   "cell_type": "code",
   "execution_count": 4,
   "id": "5b7cb370",
   "metadata": {},
   "outputs": [
    {
     "name": "stdout",
     "output_type": "stream",
     "text": [
      "           Data Source World Development Indicators  \\\n",
      "0                  NaN                          NaN   \n",
      "1    Last Updated Date          2023-09-19 00:00:00   \n",
      "2                  NaN                          NaN   \n",
      "3         Country Name                 Country Code   \n",
      "4                Aruba                          ABW   \n",
      "..                 ...                          ...   \n",
      "265             Kosovo                          XKX   \n",
      "266        Yemen, Rep.                          YEM   \n",
      "267       South Africa                          ZAF   \n",
      "268             Zambia                          ZMB   \n",
      "269           Zimbabwe                          ZWE   \n",
      "\n",
      "                             Unnamed: 2      Unnamed: 3  Unnamed: 4  \\\n",
      "0                                   NaN             NaN         NaN   \n",
      "1                                   NaN             NaN         NaN   \n",
      "2                                   NaN             NaN         NaN   \n",
      "3                        Indicator Name  Indicator Code      1960.0   \n",
      "4    International migrant stock, total     SM.POP.TOTL      7893.0   \n",
      "..                                  ...             ...         ...   \n",
      "265  International migrant stock, total     SM.POP.TOTL         NaN   \n",
      "266  International migrant stock, total     SM.POP.TOTL    159146.0   \n",
      "267  International migrant stock, total     SM.POP.TOTL    927656.0   \n",
      "268  International migrant stock, total     SM.POP.TOTL    360835.0   \n",
      "269  International migrant stock, total     SM.POP.TOTL    387173.0   \n",
      "\n",
      "     Unnamed: 5  Unnamed: 6  Unnamed: 7  Unnamed: 8  Unnamed: 9  ...  \\\n",
      "0           NaN         NaN         NaN         NaN         NaN  ...   \n",
      "1           NaN         NaN         NaN         NaN         NaN  ...   \n",
      "2           NaN         NaN         NaN         NaN         NaN  ...   \n",
      "3        1961.0      1962.0      1963.0      1964.0      1965.0  ...   \n",
      "4           NaN         NaN         NaN         NaN      7677.0  ...   \n",
      "..          ...         ...         ...         ...         ...  ...   \n",
      "265         NaN         NaN         NaN         NaN         NaN  ...   \n",
      "266         NaN         NaN         NaN         NaN    177076.0  ...   \n",
      "267         NaN         NaN         NaN         NaN    945162.0  ...   \n",
      "268         NaN         NaN         NaN         NaN    325507.0  ...   \n",
      "269         NaN         NaN         NaN         NaN    448754.0  ...   \n",
      "\n",
      "     Unnamed: 57  Unnamed: 58  Unnamed: 59  Unnamed: 60  Unnamed: 61  \\\n",
      "0            NaN          NaN          NaN          NaN          NaN   \n",
      "1            NaN          NaN          NaN          NaN          NaN   \n",
      "2            NaN          NaN          NaN          NaN          NaN   \n",
      "3         2013.0       2014.0       2015.0       2016.0       2017.0   \n",
      "4            NaN          NaN      36114.0          NaN          NaN   \n",
      "..           ...          ...          ...          ...          ...   \n",
      "265          NaN          NaN          NaN          NaN          NaN   \n",
      "266          NaN          NaN     344131.0          NaN          NaN   \n",
      "267          NaN          NaN    3142511.0          NaN          NaN   \n",
      "268          NaN          NaN     127915.0          NaN          NaN   \n",
      "269          NaN          NaN     398866.0          NaN          NaN   \n",
      "\n",
      "     Unnamed: 62  Unnamed: 63  Unnamed: 64  Unnamed: 65  Unnamed: 66  \n",
      "0            NaN          NaN          NaN          NaN          NaN  \n",
      "1            NaN          NaN          NaN          NaN          NaN  \n",
      "2            NaN          NaN          NaN          NaN          NaN  \n",
      "3         2018.0       2019.0       2020.0       2021.0       2022.0  \n",
      "4            NaN          NaN          NaN          NaN          NaN  \n",
      "..           ...          ...          ...          ...          ...  \n",
      "265          NaN          NaN          NaN          NaN          NaN  \n",
      "266          NaN          NaN          NaN          NaN          NaN  \n",
      "267          NaN          NaN          NaN          NaN          NaN  \n",
      "268          NaN          NaN          NaN          NaN          NaN  \n",
      "269          NaN          NaN          NaN          NaN          NaN  \n",
      "\n",
      "[270 rows x 67 columns]\n"
     ]
    },
    {
     "ename": "KeyError",
     "evalue": "'Country Name'",
     "output_type": "error",
     "traceback": [
      "\u001b[0;31m---------------------------------------------------------------------------\u001b[0m",
      "\u001b[0;31mKeyError\u001b[0m                                  Traceback (most recent call last)",
      "\u001b[0;32m~/anaconda3/lib/python3.8/site-packages/pandas/core/indexes/base.py\u001b[0m in \u001b[0;36mget_loc\u001b[0;34m(self, key, method, tolerance)\u001b[0m\n\u001b[1;32m   3079\u001b[0m             \u001b[0;32mtry\u001b[0m\u001b[0;34m:\u001b[0m\u001b[0;34m\u001b[0m\u001b[0;34m\u001b[0m\u001b[0m\n\u001b[0;32m-> 3080\u001b[0;31m                 \u001b[0;32mreturn\u001b[0m \u001b[0mself\u001b[0m\u001b[0;34m.\u001b[0m\u001b[0m_engine\u001b[0m\u001b[0;34m.\u001b[0m\u001b[0mget_loc\u001b[0m\u001b[0;34m(\u001b[0m\u001b[0mcasted_key\u001b[0m\u001b[0;34m)\u001b[0m\u001b[0;34m\u001b[0m\u001b[0;34m\u001b[0m\u001b[0m\n\u001b[0m\u001b[1;32m   3081\u001b[0m             \u001b[0;32mexcept\u001b[0m \u001b[0mKeyError\u001b[0m \u001b[0;32mas\u001b[0m \u001b[0merr\u001b[0m\u001b[0;34m:\u001b[0m\u001b[0;34m\u001b[0m\u001b[0;34m\u001b[0m\u001b[0m\n",
      "\u001b[0;32mpandas/_libs/index.pyx\u001b[0m in \u001b[0;36mpandas._libs.index.IndexEngine.get_loc\u001b[0;34m()\u001b[0m\n",
      "\u001b[0;32mpandas/_libs/index.pyx\u001b[0m in \u001b[0;36mpandas._libs.index.IndexEngine.get_loc\u001b[0;34m()\u001b[0m\n",
      "\u001b[0;32mpandas/_libs/hashtable_class_helper.pxi\u001b[0m in \u001b[0;36mpandas._libs.hashtable.PyObjectHashTable.get_item\u001b[0;34m()\u001b[0m\n",
      "\u001b[0;32mpandas/_libs/hashtable_class_helper.pxi\u001b[0m in \u001b[0;36mpandas._libs.hashtable.PyObjectHashTable.get_item\u001b[0;34m()\u001b[0m\n",
      "\u001b[0;31mKeyError\u001b[0m: 'Country Name'",
      "\nThe above exception was the direct cause of the following exception:\n",
      "\u001b[0;31mKeyError\u001b[0m                                  Traceback (most recent call last)",
      "\u001b[0;32m<ipython-input-4-3c267b5da041>\u001b[0m in \u001b[0;36m<module>\u001b[0;34m\u001b[0m\n\u001b[1;32m      9\u001b[0m \u001b[0;31m# 3. Display the population values for the country Ethiopia.\u001b[0m\u001b[0;34m\u001b[0m\u001b[0;34m\u001b[0m\u001b[0;34m\u001b[0m\u001b[0m\n\u001b[1;32m     10\u001b[0m \u001b[0mcountry_name\u001b[0m \u001b[0;34m=\u001b[0m \u001b[0;34m\"Ethiopia\"\u001b[0m\u001b[0;34m\u001b[0m\u001b[0;34m\u001b[0m\u001b[0m\n\u001b[0;32m---> 11\u001b[0;31m \u001b[0mcountry_selected\u001b[0m \u001b[0;34m=\u001b[0m \u001b[0mpopulation_raw_data\u001b[0m\u001b[0;34m.\u001b[0m\u001b[0mloc\u001b[0m\u001b[0;34m[\u001b[0m\u001b[0mpopulation_raw_data\u001b[0m\u001b[0;34m[\u001b[0m\u001b[0;34m'Country Name'\u001b[0m\u001b[0;34m]\u001b[0m \u001b[0;34m==\u001b[0m \u001b[0mcountry_name\u001b[0m\u001b[0;34m]\u001b[0m\u001b[0;34m\u001b[0m\u001b[0;34m\u001b[0m\u001b[0m\n\u001b[0m\u001b[1;32m     12\u001b[0m \u001b[0mprint\u001b[0m\u001b[0;34m(\u001b[0m\u001b[0mcountry_selected\u001b[0m\u001b[0;34m)\u001b[0m\u001b[0;34m\u001b[0m\u001b[0;34m\u001b[0m\u001b[0m\n\u001b[1;32m     13\u001b[0m \u001b[0;34m\u001b[0m\u001b[0m\n",
      "\u001b[0;32m~/anaconda3/lib/python3.8/site-packages/pandas/core/frame.py\u001b[0m in \u001b[0;36m__getitem__\u001b[0;34m(self, key)\u001b[0m\n\u001b[1;32m   3022\u001b[0m             \u001b[0;32mif\u001b[0m \u001b[0mself\u001b[0m\u001b[0;34m.\u001b[0m\u001b[0mcolumns\u001b[0m\u001b[0;34m.\u001b[0m\u001b[0mnlevels\u001b[0m \u001b[0;34m>\u001b[0m \u001b[0;36m1\u001b[0m\u001b[0;34m:\u001b[0m\u001b[0;34m\u001b[0m\u001b[0;34m\u001b[0m\u001b[0m\n\u001b[1;32m   3023\u001b[0m                 \u001b[0;32mreturn\u001b[0m \u001b[0mself\u001b[0m\u001b[0;34m.\u001b[0m\u001b[0m_getitem_multilevel\u001b[0m\u001b[0;34m(\u001b[0m\u001b[0mkey\u001b[0m\u001b[0;34m)\u001b[0m\u001b[0;34m\u001b[0m\u001b[0;34m\u001b[0m\u001b[0m\n\u001b[0;32m-> 3024\u001b[0;31m             \u001b[0mindexer\u001b[0m \u001b[0;34m=\u001b[0m \u001b[0mself\u001b[0m\u001b[0;34m.\u001b[0m\u001b[0mcolumns\u001b[0m\u001b[0;34m.\u001b[0m\u001b[0mget_loc\u001b[0m\u001b[0;34m(\u001b[0m\u001b[0mkey\u001b[0m\u001b[0;34m)\u001b[0m\u001b[0;34m\u001b[0m\u001b[0;34m\u001b[0m\u001b[0m\n\u001b[0m\u001b[1;32m   3025\u001b[0m             \u001b[0;32mif\u001b[0m \u001b[0mis_integer\u001b[0m\u001b[0;34m(\u001b[0m\u001b[0mindexer\u001b[0m\u001b[0;34m)\u001b[0m\u001b[0;34m:\u001b[0m\u001b[0;34m\u001b[0m\u001b[0;34m\u001b[0m\u001b[0m\n\u001b[1;32m   3026\u001b[0m                 \u001b[0mindexer\u001b[0m \u001b[0;34m=\u001b[0m \u001b[0;34m[\u001b[0m\u001b[0mindexer\u001b[0m\u001b[0;34m]\u001b[0m\u001b[0;34m\u001b[0m\u001b[0;34m\u001b[0m\u001b[0m\n",
      "\u001b[0;32m~/anaconda3/lib/python3.8/site-packages/pandas/core/indexes/base.py\u001b[0m in \u001b[0;36mget_loc\u001b[0;34m(self, key, method, tolerance)\u001b[0m\n\u001b[1;32m   3080\u001b[0m                 \u001b[0;32mreturn\u001b[0m \u001b[0mself\u001b[0m\u001b[0;34m.\u001b[0m\u001b[0m_engine\u001b[0m\u001b[0;34m.\u001b[0m\u001b[0mget_loc\u001b[0m\u001b[0;34m(\u001b[0m\u001b[0mcasted_key\u001b[0m\u001b[0;34m)\u001b[0m\u001b[0;34m\u001b[0m\u001b[0;34m\u001b[0m\u001b[0m\n\u001b[1;32m   3081\u001b[0m             \u001b[0;32mexcept\u001b[0m \u001b[0mKeyError\u001b[0m \u001b[0;32mas\u001b[0m \u001b[0merr\u001b[0m\u001b[0;34m:\u001b[0m\u001b[0;34m\u001b[0m\u001b[0;34m\u001b[0m\u001b[0m\n\u001b[0;32m-> 3082\u001b[0;31m                 \u001b[0;32mraise\u001b[0m \u001b[0mKeyError\u001b[0m\u001b[0;34m(\u001b[0m\u001b[0mkey\u001b[0m\u001b[0;34m)\u001b[0m \u001b[0;32mfrom\u001b[0m \u001b[0merr\u001b[0m\u001b[0;34m\u001b[0m\u001b[0;34m\u001b[0m\u001b[0m\n\u001b[0m\u001b[1;32m   3083\u001b[0m \u001b[0;34m\u001b[0m\u001b[0m\n\u001b[1;32m   3084\u001b[0m         \u001b[0;32mif\u001b[0m \u001b[0mtolerance\u001b[0m \u001b[0;32mis\u001b[0m \u001b[0;32mnot\u001b[0m \u001b[0;32mNone\u001b[0m\u001b[0;34m:\u001b[0m\u001b[0;34m\u001b[0m\u001b[0;34m\u001b[0m\u001b[0m\n",
      "\u001b[0;31mKeyError\u001b[0m: 'Country Name'"
     ]
    }
   ],
   "source": [
    "# a) Read the data file and print the raw data\n",
    "import pandas as pd\n",
    "population_raw_data = pd.read_excel('world_population.xlsx')\n",
    "print(population_raw_data)\n",
    "\n",
    "# b) Display the first 5 rows of data. \n",
    "population_raw_data.head()\n",
    "\n",
    "# c) Display the population values for the country Ethiopia.\n",
    "country_name = \"Ethiopia\"\n",
    "country_selected = population_raw_data.loc[population_raw_data['Country Name'] == country_name]\n",
    "print(country_selected)\n",
    "\n",
    "# d) Select and display all countries and regions whose population is over 1 billion in the year of 2000.\n",
    "\n",
    "population_size = 1000000000\n",
    "regions_selected = population_raw_data.loc[population_raw_data['2000'] > population_size]\n",
    "print(regions_selected)\n",
    "\n",
    "# e) Select a column \"Country Name\" and the year column \"1960\" to display the data that are associated with these two columns.\n",
    "data_year1960 = pd.DataFrame(population_raw_data, columns = ['Country Name','1960'])\n",
    "print(data_year1960)"
   ]
  },
  {
   "cell_type": "markdown",
   "id": "6af73a8c",
   "metadata": {},
   "source": [
    "Exercise 2"
   ]
  },
  {
   "cell_type": "code",
   "execution_count": 5,
   "id": "b94745c5",
   "metadata": {},
   "outputs": [
    {
     "name": "stdout",
     "output_type": "stream",
     "text": [
      "20\n",
      "20\n",
      "359145\n",
      "62\n",
      "80192\n",
      "4408.5\n",
      "0    924\n",
      "dtype: int64\n",
      "27283.438618124135\n",
      "744386022.8289474\n"
     ]
    }
   ],
   "source": [
    "# Assume a Python list was used to store all elements. Then, transform the list into a Series.\n",
    "import pandas as pd\n",
    "list_numbers = [10301, 4994, 8872, 9624, 3666, 924, 73712, 3823, 55900, 62, 6498, 852, 24540, 421, 67891, 924, 80192, 3667, 494, 1788]\n",
    "series_numbers = pd.Series(list_numbers)\n",
    "\n",
    "# a) the number count, i.e. how many elements in this set.\n",
    "print(len(list_numbers))\n",
    "# Or\n",
    "print(series_numbers.size)\n",
    "\n",
    "# b) the sum of all these numbers.\n",
    "print(series_numbers.sum()) \n",
    "\n",
    "# c) the minimum value from this set.\n",
    "print(series_numbers.min()) \n",
    "\n",
    "# d) the maximum value from this set.\n",
    "print(series_numbers.max()) \n",
    "\n",
    "# e) the median value from this set.\n",
    "print(series_numbers.median()) \n",
    "\n",
    "# f) the mode of the elements in this set.\n",
    "print(series_numbers.mode()) \n",
    "\n",
    "# g) the standard deviation from this set.\n",
    "print(series_numbers.std()) \n",
    "\n",
    "# h) the variance (defined as the square of the standard deviation from #7). \n",
    "print(series_numbers.var()) "
   ]
  },
  {
   "cell_type": "markdown",
   "id": "b6fb482d",
   "metadata": {},
   "source": [
    "### 4 Basics of MATPLOTLIB"
   ]
  },
  {
   "cell_type": "markdown",
   "id": "069d499c",
   "metadata": {},
   "source": [
    "A bar chart may be considered; however, some modifications from the original bar chart are necessary. The values of total births in different months are likely close to each other. A simple bar chart that is showing the absolute values may not present the difference of values very well. Different months have different number of days. It is likely that February has the smallest number, but such a fact does not mean \"February is the month that people avoid giving births.\" \n",
    "\n",
    "    One suggestion is that we use the number of births per day in a month to represent data. \n",
    "\n",
    "    The following chart is produced with the reflection of modifications."
   ]
  },
  {
   "cell_type": "code",
   "execution_count": 6,
   "id": "91563a5e",
   "metadata": {},
   "outputs": [
    {
     "data": {
      "image/png": "[encoded data removed]",
      "text/plain": [
       "<Figure size 432x288 with 1 Axes>"
      ]
     },
     "metadata": {
      "needs_background": "light"
     },
     "output_type": "display_data"
    }
   ],
   "source": [
    "# Data initialization\n",
    "number_births = [253, 229, 247, 251, 261, 239, 244, 252, 235, 242, 245, 249]\n",
    "days_per_month = [31, 28, 31, 30, 31, 30, 31, 31, 30, 31, 30, 31]\n",
    "month_labels = [\"Jan\", \"Feb\", \"Mar\", \"Apr\", \"May\", \"Jun\", \"Jul\", \"Aug\", \"Sep\", \"Oct\", \"Nov\", \"Dec\"]\n",
    "\n",
    "# Transforming the original data of total births to the births by day\n",
    "births_by_day = []\n",
    "\n",
    "# Calculating and adding numbers to the list of births by day\n",
    "for i in range(len(number_births)):\n",
    "    births_by_day.append(number_births[i] / days_per_month[i])\n",
    "\n",
    "# Assume that we want to see the difference between a benchmark value, e.g. 8.0, and the actual monthly births\n",
    "benchmark_number = 8.0\n",
    "monthly_deviation = []\n",
    "\n",
    "# Calculating and adding numbers to the list of monthly deviations\n",
    "for i in range(len(number_births)):\n",
    "    monthly_deviation.append(births_by_day[i] - 8.0)\n",
    "\n",
    "# Beginning ploting\n",
    "import matplotlib.pyplot as plt\n",
    "import numpy as np\n",
    "\n",
    "# X: monthly deviation from 8.0 births per day; Y: months\n",
    "x_months = np.array(month_labels)\n",
    "y_deviations = np.array(monthly_deviation)\n",
    "\n",
    "# Displaying the bar chart with labels\n",
    "plt.bar(x_months, y_deviations)\n",
    "plt.title(\"Monthly births data\")\n",
    "plt.xlabel(\"Months\")\n",
    "plt.ylabel(\"Deviation from 8.0 births per day\")\n",
    "plt.show()"
   ]
  }
 ],
 "metadata": {
  "kernelspec": {
   "display_name": "Python 3",
   "language": "python",
   "name": "python3"
  },
  "language_info": {
   "codemirror_mode": {
    "name": "ipython",
    "version": 3
   },
   "file_extension": ".py",
   "mimetype": "text/x-python",
   "name": "python",
   "nbconvert_exporter": "python",
   "pygments_lexer": "ipython3",
   "version": "3.8.8"
  }
 },
 "nbformat": 4,
 "nbformat_minor": 5
}
