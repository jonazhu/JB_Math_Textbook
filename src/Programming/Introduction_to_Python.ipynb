{
 "cells": [
  {
   "cell_type": "markdown",
   "metadata": {},
   "source": [
    "# Introduction to Python\n",
    "\n",
    "This chapter introduces programming concepts and how those concepts are expressed in the Python programming language. Keep in mind that *learning to program* and *learning the Python programming language* are different things. Learning to program involves learning to break problems down into computational steps and synthesizing those steps into an algorithm, independently of what programming language, if any, one is using. To learn a programming language is to learn how those computational steps are epxressed in the syntax and idioms of a specific coding system. \n",
    "\n",
    "Learning to program and learning a programming language both take time and effort. A chapter like this isn't enough to teach you everything about Python if you already know how to program in another language, and it certainly isn't enough to teach you how to program if you haven't already. Many good books and online tutorials exist for those purposes. What we hope to accomplish in this chapter is highlight basic facts about programming and the Python programming language so that you know what to anticipate in the chapters that follow. This way you can begin to follow and make changes to the code portions of the notebooks. With practice, obsvering the code in this book can be your first step towards writing programs yourself."
   ]
  },
  {
   "cell_type": "markdown",
   "metadata": {},
   "source": [
    "## Expressions, types, variables, and statements\n",
    "\n",
    "The fundamental building block of code is an *expression*, which is a construct in the programming language that evaluates to a value. We can put an expression in a code cell in a notebook like this, and the Python interpreter will read that expression, evaluate it, and display the result. There are many kinds of expressions, but the easiest to understand are mathematical expressions, since they look mainly the same as they do in mathematical writing.\n",
    "Here are a few examples."
   ]
  },
  {
   "cell_type": "code",
   "execution_count": 1,
   "metadata": {},
   "outputs": [
    {
     "data": {
      "text/plain": [
       "5"
      ]
     },
     "execution_count": 1,
     "metadata": {},
     "output_type": "execute_result"
    }
   ],
   "source": [
    "5"
   ]
  },
  {
   "cell_type": "code",
   "execution_count": 2,
   "metadata": {},
   "outputs": [
    {
     "data": {
      "text/plain": [
       "10"
      ]
     },
     "execution_count": 2,
     "metadata": {},
     "output_type": "execute_result"
    }
   ],
   "source": [
    "7+3"
   ]
  },
  {
   "cell_type": "code",
   "execution_count": 3,
   "metadata": {},
   "outputs": [
    {
     "data": {
      "text/plain": [
       "1.0588235294117647"
      ]
     },
     "execution_count": 3,
     "metadata": {},
     "output_type": "execute_result"
    }
   ],
   "source": [
    "(27-9)/17"
   ]
  },
  {
   "cell_type": "markdown",
   "metadata": {},
   "source": [
    "Values have different *types*. A type is a set of values associated together by how they are stored in computer memory and what operations are defined for them. Integers are real numbers are represented by different types in Python. We can see the type of an expression by using the *type* function."
   ]
  },
  {
   "cell_type": "code",
   "execution_count": 4,
   "metadata": {},
   "outputs": [
    {
     "data": {
      "text/plain": [
       "int"
      ]
     },
     "execution_count": 4,
     "metadata": {},
     "output_type": "execute_result"
    }
   ],
   "source": [
    "type(3+7)"
   ]
  },
  {
   "cell_type": "code",
   "execution_count": 5,
   "metadata": {},
   "outputs": [
    {
     "data": {
      "text/plain": [
       "float"
      ]
     },
     "execution_count": 5,
     "metadata": {},
     "output_type": "execute_result"
    }
   ],
   "source": [
    "type(24/7)"
   ]
  },
  {
   "cell_type": "markdown",
   "metadata": {},
   "source": [
    "The type `int` is obviously short for *integer*. The real number type is called `float`--that is, *floating point*--in reference to how fractional values are stored in computer memory. Notice that in these two cases, the type itself is the value: the result of evaluating `type(3+7)` is the *type* of the result of `3+7`, not the result of `3+7` itself.\n",
    "\n",
    "Not all values are numeric. Other type of values include `str` (*string*, for text values) and `bool` (*boolean*, for logical values)."
   ]
  },
  {
   "cell_type": "code",
   "execution_count": 6,
   "metadata": {},
   "outputs": [
    {
     "data": {
      "text/plain": [
       "'jupyter notebook'"
      ]
     },
     "execution_count": 6,
     "metadata": {},
     "output_type": "execute_result"
    }
   ],
   "source": [
    "'jupyter notebook'"
   ]
  },
  {
   "cell_type": "code",
   "execution_count": 7,
   "metadata": {},
   "outputs": [
    {
     "data": {
      "text/plain": [
       "str"
      ]
     },
     "execution_count": 7,
     "metadata": {},
     "output_type": "execute_result"
    }
   ],
   "source": [
    "type('jupyter notebook')"
   ]
  },
  {
   "cell_type": "code",
   "execution_count": 8,
   "metadata": {},
   "outputs": [
    {
     "data": {
      "text/plain": [
       "True"
      ]
     },
     "execution_count": 8,
     "metadata": {},
     "output_type": "execute_result"
    }
   ],
   "source": [
    "3 < 7"
   ]
  },
  {
   "cell_type": "code",
   "execution_count": 9,
   "metadata": {},
   "outputs": [
    {
     "data": {
      "text/plain": [
       "bool"
      ]
     },
     "execution_count": 9,
     "metadata": {},
     "output_type": "execute_result"
    }
   ],
   "source": [
    "type(3 < 7)"
   ]
  },
  {
   "cell_type": "markdown",
   "metadata": {},
   "source": [
    "Values can be stored in *variables* so that they can be reused."
   ]
  },
  {
   "cell_type": "code",
   "execution_count": 10,
   "metadata": {},
   "outputs": [
    {
     "data": {
      "text/plain": [
       "120"
      ]
     },
     "execution_count": 10,
     "metadata": {},
     "output_type": "execute_result"
    }
   ],
   "source": [
    "x = 7 + 3\n",
    "x * 12"
   ]
  },
  {
   "cell_type": "markdown",
   "metadata": {},
   "source": [
    "In the first line of that cell, `7 + 3` is an expression, as in earlier examples, but the line as a whole, `x = 7 + 3`, is not an expression but a *statement*. This means it does not result in a value but rather has a *side effect*, which means it makes the Python interpreter do something like display a plot, print something to the output, or, in this case, store a value in a variable. This is important because it means `x = 7 + 3` is not a *comparison* (Is *x* equal to `7 + 3`?) but an *assignment* (Store the result of `7+3` in variable *x*!). To test if two expressions evaluate to the same value, we use `==` instead of `=`."
   ]
  },
  {
   "cell_type": "code",
   "execution_count": 11,
   "metadata": {},
   "outputs": [
    {
     "data": {
      "text/plain": [
       "False"
      ]
     },
     "execution_count": 11,
     "metadata": {},
     "output_type": "execute_result"
    }
   ],
   "source": [
    "x == 12"
   ]
  },
  {
   "cell_type": "markdown",
   "metadata": {},
   "source": [
    "For a lot of purposes your knowledge of variables from math can guide you in understanding variables in Python or other code. But the difference between comparison and assignment bring up an important difference: just as variables can be assigned, they can also be *reassigned*. In fact, they can be used and reassigned in the same statement."
   ]
  },
  {
   "cell_type": "code",
   "execution_count": 12,
   "metadata": {},
   "outputs": [
    {
     "data": {
      "text/plain": [
       "11"
      ]
     },
     "execution_count": 12,
     "metadata": {},
     "output_type": "execute_result"
    }
   ],
   "source": [
    "x = x + 1\n",
    "x"
   ]
  },
  {
   "cell_type": "markdown",
   "metadata": {},
   "source": [
    "Mathematically $x = x + 1$ makes little sense, apart from always being false. (Can you think of any algebraic structure in which an element is equal to itself plus the multiplicative identity? I can't.) But in programming it means, \"Take the value that *x* used to be, add 1 to that value, and store that value back in variable *x*. To put a fancy word to it, variables in Python are *mutable*.\n",
    "\n",
    "As a final observation about expressions and statements, notice that in each of the cells so far the output has been the value that results from the last expression. If we want to display more information, we can use the `print()` function, which has the side effect of displaying something to output. This function takes a string as its input. We can make bigger string from smaller strings using `+`, which in the context of strings does *string concatenation*. Most non-string values can be turned to strings using the `str()` function."
   ]
  },
  {
   "cell_type": "code",
   "execution_count": 13,
   "metadata": {},
   "outputs": [
    {
     "name": "stdout",
     "output_type": "stream",
     "text": [
      "At first x is 11\n",
      "Now x is 12\n",
      "Finally, x is 300\n"
     ]
    }
   ],
   "source": [
    "print('At first x is ' + str(x))\n",
    "x = x + 1\n",
    "print('Now x is ' + str(x))\n",
    "x = x * 25\n",
    "print('Finally, x is ' + str(x))"
   ]
  },
  {
   "cell_type": "markdown",
   "metadata": {},
   "source": [
    "## Conditionals and while loops\n",
    "\n",
    "If a computational task is complicated enough that we want to use a computer for it, then it almost certainly requires some sort of decision-making and repetition. The most basic construct for making a decision in an algorithm is a *conditional*, which uses the Python keyword `if`."
   ]
  },
  {
   "cell_type": "code",
   "execution_count": 14,
   "metadata": {},
   "outputs": [],
   "source": [
    "if x < 12 :\n",
    "    print('Hello')"
   ]
  },
  {
   "cell_type": "markdown",
   "metadata": {},
   "source": [
    "Since `x` (from earlier) is *not* less than 12, the print statement wasn't executed, and this cell had no output.  We can make this into a decision between alternatives using `else`."
   ]
  },
  {
   "cell_type": "code",
   "execution_count": 15,
   "metadata": {},
   "outputs": [
    {
     "name": "stdout",
     "output_type": "stream",
     "text": [
      "Aloha\n"
     ]
    }
   ],
   "source": [
    "if x < 12 :\n",
    "    print('Hello')\n",
    "else :\n",
    "    print('Aloha')"
   ]
  },
  {
   "cell_type": "markdown",
   "metadata": {},
   "source": [
    "We can make a multiway branch by using any number of `elif` (short for `else if`) clauses in our conditional statement."
   ]
  },
  {
   "cell_type": "code",
   "execution_count": 16,
   "metadata": {},
   "outputs": [
    {
     "name": "stdout",
     "output_type": "stream",
     "text": [
      "Ni hao\n"
     ]
    }
   ],
   "source": [
    "if x < 12 :\n",
    "    print('Hello')\n",
    "elif x < 100 :\n",
    "    print('Howdy')\n",
    "elif x < 350 :\n",
    "    print('Ni hao')\n",
    "else :\n",
    "    print('Aloha')"
   ]
  },
  {
   "cell_type": "markdown",
   "metadata": {},
   "source": [
    "Repetition is implemented using a loop, which executes a statement (the *body* of the loop) as long as a condition (the *guard* of the loop) is true. Each execution of the body is an *iteration* of the loop."
   ]
  },
  {
   "cell_type": "code",
   "execution_count": 17,
   "metadata": {},
   "outputs": [
    {
     "name": "stdout",
     "output_type": "stream",
     "text": [
      "There are 10 iterations left.\n",
      "(Deep breath)\n",
      "There are 9 iterations left.\n",
      "(Deep breath)\n",
      "There are 8 iterations left.\n",
      "(Deep breath)\n",
      "There are 7 iterations left.\n",
      "(Deep breath)\n",
      "There are 6 iterations left.\n",
      "(Deep breath)\n",
      "There are 5 iterations left.\n",
      "(Deep breath)\n",
      "There are 4 iterations left.\n",
      "(Deep breath)\n",
      "There are 3 iterations left.\n",
      "(Deep breath)\n",
      "There are 2 iterations left.\n",
      "(Deep breath)\n",
      "There are 1 iterations left.\n",
      "(Deep breath)\n"
     ]
    }
   ],
   "source": [
    "y = 10\n",
    "while y > 0 :\n",
    "    print('There are ' + str(y) + ' iterations left.')\n",
    "    y -= 1\n",
    "    print('(Deep breath)')"
   ]
  },
  {
   "cell_type": "markdown",
   "metadata": {},
   "source": [
    "Notice several things in this example: The body of the loop consists of three statements; however, these three statements are treated as one *compound statement* because they are all indented together. The statement `y -= 1` is a convenient shorthand for `y = y - 1`. We can similarly use `y += 1` to mean increment *y* by one, etc. Finally, the loop did not stop as soon as *y* was no longer greater than 0 (when `y -= 1` was executed the final time) but rather it finished the iteration, printing `(Deep breath)` one last time. This is because the guard is checked only between iterations---it is not continuously checked while the body is executed. \n",
    "\n",
    "If we wanted to quit the loop in the middle of an iteration, we can do that using a `break` statement, which we can put inside a conditional. The the following example, we use this instead of the guard and simply make the guard itself to be `True`."
   ]
  },
  {
   "cell_type": "code",
   "execution_count": 18,
   "metadata": {},
   "outputs": [
    {
     "name": "stdout",
     "output_type": "stream",
     "text": [
      "There are 10 iterations left.\n",
      "(Deep breath)\n",
      "There are 9 iterations left.\n",
      "(Deep breath)\n",
      "There are 8 iterations left.\n",
      "(Deep breath)\n",
      "There are 7 iterations left.\n",
      "(Deep breath)\n",
      "There are 6 iterations left.\n",
      "(Deep breath)\n",
      "There are 5 iterations left.\n",
      "(Deep breath)\n",
      "There are 4 iterations left.\n",
      "(Deep breath)\n",
      "There are 3 iterations left.\n",
      "(Deep breath)\n",
      "There are 2 iterations left.\n",
      "(Deep breath)\n",
      "There are 1 iterations left.\n"
     ]
    }
   ],
   "source": [
    "y = 10\n",
    "while True :\n",
    "    print('There are ' + str(y) + ' iterations left.')\n",
    "    y -= 1\n",
    "    if y <= 0 :\n",
    "        break\n",
    "    print('(Deep breath)')"
   ]
  },
  {
   "cell_type": "markdown",
   "metadata": {},
   "source": [
    "To see how well you follow this, make sure you can explain, *(1)* Why did we invert the guard from `y > 10` to the `y <= 10`? and, *(2)* Why didn't the output end with `(Deep breath)` as in the original loop?"
   ]
  },
  {
   "cell_type": "markdown",
   "metadata": {},
   "source": [
    "## Functions\n",
    "\n",
    "You already know about functions from mathematics. With just a little bit of Python syntax, you can make mathematical function that fits right into the Python coding we've seen. Let's take \n",
    "\n",
    "\n",
    "$f(x, y) = 2 x^2 - 3x + \\frac{y}{x}$\n",
    "\n",
    "If we replace the = for a `:` and throw in the Python keywords `def` and `return` (because we are *defining* a function to *return* a certain value as its result), we get"
   ]
  },
  {
   "cell_type": "code",
   "execution_count": 19,
   "metadata": {},
   "outputs": [],
   "source": [
    "def f(x, y) :\n",
    "    return 2 * x**2 - 3 * x + y/x"
   ]
  },
  {
   "cell_type": "markdown",
   "metadata": {},
   "source": [
    "Now we can *call* or *apply* the function to some *parameters* (or arguments), which all together makes an expression. (The `**` operator does exponentiation.)"
   ]
  },
  {
   "cell_type": "code",
   "execution_count": 20,
   "metadata": {},
   "outputs": [
    {
     "data": {
      "text/plain": [
       "35.6"
      ]
     },
     "execution_count": 20,
     "metadata": {},
     "output_type": "execute_result"
    }
   ],
   "source": [
    "f(5, 3)"
   ]
  },
  {
   "cell_type": "markdown",
   "metadata": {},
   "source": [
    "That's well and good mathematically. But in programming, a function can be much more than that: it's a way to package up a chunk of code, give the chunk of code a name, specify variable to hold the input to that chunk of code, and indicate what that chunk of code's output is, based on what is computed from the input when the chunk of code is executed. This allows that chunk of code to be executed many times from any context. (And we promise that we'll never use the phrase *chunk of code* from this point on.)"
   ]
  },
  {
   "cell_type": "code",
   "execution_count": 21,
   "metadata": {},
   "outputs": [],
   "source": [
    "def greatest_common_divisor(a, b) :\n",
    "    while b > 0 :\n",
    "        r = a % b    # The % operator is called \"modulo\" or \"mod\". It compute a remainder\n",
    "        a = b\n",
    "        b = r\n",
    "    return a"
   ]
  },
  {
   "cell_type": "code",
   "execution_count": 22,
   "metadata": {},
   "outputs": [
    {
     "data": {
      "text/plain": [
       "6"
      ]
     },
     "execution_count": 22,
     "metadata": {},
     "output_type": "execute_result"
    }
   ],
   "source": [
    "greatest_common_divisor(24, 18)"
   ]
  },
  {
   "cell_type": "code",
   "execution_count": 23,
   "metadata": {},
   "outputs": [
    {
     "data": {
      "text/plain": [
       "25"
      ]
     },
     "execution_count": 23,
     "metadata": {},
     "output_type": "execute_result"
    }
   ],
   "source": [
    "greatest_common_divisor(100, 75)"
   ]
  },
  {
   "cell_type": "code",
   "execution_count": 24,
   "metadata": {},
   "outputs": [],
   "source": [
    "def mad_lib(exclamation, adverb, plural_noun, verb):\n",
    "    print('\"' + exclamation + '!\" he said ' + adverb + '. \"I didn\\'t know ' + plural_noun + \n",
    "          ' could ' + verb + '.\"')"
   ]
  },
  {
   "cell_type": "code",
   "execution_count": 25,
   "metadata": {},
   "outputs": [
    {
     "name": "stdout",
     "output_type": "stream",
     "text": [
      "\"Wow!\" he said warily. \"I didn't know cardinals could yodel.\"\n"
     ]
    }
   ],
   "source": [
    "mad_lib('Wow', 'warily', 'cardinals', 'yodel')"
   ]
  },
  {
   "cell_type": "markdown",
   "metadata": {},
   "source": [
    "## Lists and other indexables and iterables\n",
    "\n",
    "For collections of data, we need more than variables that hold a single value. The code in the chapters that follow makes use of various specialized *data structures*, but for right now we'll observe how to use the simplest *container* in Python, which is the *list* data structure. A list is an ordered sequence of values. We can express a list in Python by, well, *listing* a bunch of values, separated by commas and surrounded by square brackets. More precisely we don't need to list values but rather expressions that the values result from."
   ]
  },
  {
   "cell_type": "code",
   "execution_count": 26,
   "metadata": {},
   "outputs": [
    {
     "data": {
      "text/plain": [
       "[5, 15, 'geoduck', False, 2.4]"
      ]
     },
     "execution_count": 26,
     "metadata": {},
     "output_type": "execute_result"
    }
   ],
   "source": [
    "[5, 7 + 8, \"geoduck\", 14 < 3, 12 / 5]"
   ]
  },
  {
   "cell_type": "markdown",
   "metadata": {},
   "source": [
    "A list also is a value, just of a different type. We can store list values in variables."
   ]
  },
  {
   "cell_type": "code",
   "execution_count": 27,
   "metadata": {},
   "outputs": [
    {
     "data": {
      "text/plain": [
       "list"
      ]
     },
     "execution_count": 27,
     "metadata": {},
     "output_type": "execute_result"
    }
   ],
   "source": [
    "z = [5, 7 + 8, \"geoduck\", 14 < 3, 12 / 5]\n",
    "type(z)"
   ]
  },
  {
   "cell_type": "markdown",
   "metadata": {},
   "source": [
    "Since a list is a linear sequence, we can refer to and retrieve a list's components by *index*. Python lists are indexed from 0, which means that what normal people might call the \"first\" element is, for our purpose, the \"zeroth\" element. The `len()` function tells us the number of elements in the list."
   ]
  },
  {
   "cell_type": "code",
   "execution_count": 28,
   "metadata": {},
   "outputs": [
    {
     "name": "stdout",
     "output_type": "stream",
     "text": [
      "5\n",
      "15\n",
      "2.4\n"
     ]
    }
   ],
   "source": [
    "print(z[0])\n",
    "print(z[1])\n",
    "print(z[len(z) - 1])"
   ]
  },
  {
   "cell_type": "markdown",
   "metadata": {},
   "source": [
    "Notice that zero-based indexing means that the last element is in position one-less-than-the-length. The length of the list itself is not a valid index."
   ]
  },
  {
   "cell_type": "code",
   "execution_count": 29,
   "metadata": {},
   "outputs": [
    {
     "ename": "IndexError",
     "evalue": "list index out of range",
     "output_type": "error",
     "traceback": [
      "\u001b[0;31m---------------------------------------------------------------------------\u001b[0m",
      "\u001b[0;31mIndexError\u001b[0m                                Traceback (most recent call last)",
      "\u001b[0;32m<ipython-input-29-6feb84cae33b>\u001b[0m in \u001b[0;36m<module>\u001b[0;34m\u001b[0m\n\u001b[0;32m----> 1\u001b[0;31m \u001b[0mz\u001b[0m\u001b[0;34m[\u001b[0m\u001b[0mlen\u001b[0m\u001b[0;34m(\u001b[0m\u001b[0mz\u001b[0m\u001b[0;34m)\u001b[0m\u001b[0;34m]\u001b[0m\u001b[0;34m\u001b[0m\u001b[0;34m\u001b[0m\u001b[0m\n\u001b[0m",
      "\u001b[0;31mIndexError\u001b[0m: list index out of range"
     ]
    }
   ],
   "source": [
    "z[len(z)]"
   ]
  },
  {
   "cell_type": "markdown",
   "metadata": {},
   "source": [
    "The most straighforward interpretation of a list for mathematcal pruposes is as a sequence of numbers. Using Python pieces we know so far, we can write a function that computes simple statistics for a list:"
   ]
  },
  {
   "cell_type": "code",
   "execution_count": 30,
   "metadata": {},
   "outputs": [],
   "source": [
    "def simple_stats(xx) :\n",
    "    min = xx[0]  # The minimum value we've seen so far\n",
    "    max = xx[0]  # The maximum value we've seen so far\n",
    "    sum = xx[0]  # The sum of all the numbers we've seen so far\n",
    "    i = 1        # What does the variable i mean?\n",
    "    while i < len(xx) :\n",
    "        # x[i] is the current number we're looking at.\n",
    "        # Add it to our running sum\n",
    "        sum += xx[i]\n",
    "        # If it's less than the minimum-so-far, then it's the new minimum-so-far\n",
    "        if xx[i] < min :\n",
    "            min = xx[i]\n",
    "        # Similarly with maximum\n",
    "        if xx[i] > max:\n",
    "            max = xx[i]\n",
    "        i += 1\n",
    "    print('The sum of the numbers is ' + str(sum))\n",
    "    print('The average of the numbers is ' + str(sum/len(xx)))\n",
    "    print('The greatest number is ' + str(max))\n",
    "    print('The least number is ' + str(min))"
   ]
  },
  {
   "cell_type": "code",
   "execution_count": 31,
   "metadata": {},
   "outputs": [
    {
     "name": "stdout",
     "output_type": "stream",
     "text": [
      "The sum of the numbers is 86\n",
      "The average of the numbers is 10.75\n",
      "The greatest number is 25\n",
      "The least number is 1\n"
     ]
    }
   ],
   "source": [
    "simple_stats([2,6,9,12,17,1,25,14])"
   ]
  },
  {
   "cell_type": "markdown",
   "metadata": {},
   "source": [
    "The function `simple_stats()` doesn't have a return statement. This means when it is called, the call doesn't evaluate to a value---it just has side effects, namely printing results to output.\n",
    "\n",
    "To answer our question, \"What does the variable `i` mean?\", it means several things:\n",
    "\n",
    "- `i` is the number of values we've processed so far.\n",
    "- `i` is the index of the next value we'll look at.\n",
    "- `min` is the minimum of all the values in indicies 0 (inclusive) through `i` (exclusive).\n",
    "- `i` is one more than the number of iterations completed.\n",
    "\n",
    "We can also modify a list by writing to a position or add to it by using the `append()` function."
   ]
  },
  {
   "cell_type": "code",
   "execution_count": 32,
   "metadata": {},
   "outputs": [
    {
     "data": {
      "text/plain": [
       "[5, 15, 'geoduck', 'Yoda', 2.4]"
      ]
     },
     "execution_count": 32,
     "metadata": {},
     "output_type": "execute_result"
    }
   ],
   "source": [
    "z[3] = 'Yoda'\n",
    "z"
   ]
  },
  {
   "cell_type": "code",
   "execution_count": 33,
   "metadata": {},
   "outputs": [
    {
     "data": {
      "text/plain": [
       "[5, 15, 'geoduck', 'Yoda', 2.4, 42]"
      ]
     },
     "execution_count": 33,
     "metadata": {},
     "output_type": "execute_result"
    }
   ],
   "source": [
    "z.append(42)\n",
    "z"
   ]
  },
  {
   "cell_type": "markdown",
   "metadata": {},
   "source": [
    "You'll notice that `append()` is used differently from other function we've seen since the list we're append to appears to the left of the function name, separated by a dot, rather than in the partentheses. The value being appended is in the parentheses. It's a different kind of function, but that's a story we'll have to come back to later.\n",
    "\n",
    "But the real power of Python indexing is that you can specify a range (a sublist or a substring) or count from the back of the list using negative indices. See how well you can infer the rules of indexing from these examples."
   ]
  },
  {
   "cell_type": "code",
   "execution_count": 34,
   "metadata": {},
   "outputs": [],
   "source": [
    "aa = ['A','B','C','D','E','F','G']"
   ]
  },
  {
   "cell_type": "code",
   "execution_count": 35,
   "metadata": {},
   "outputs": [
    {
     "data": {
      "text/plain": [
       "'G'"
      ]
     },
     "execution_count": 35,
     "metadata": {},
     "output_type": "execute_result"
    }
   ],
   "source": [
    "aa[-1]"
   ]
  },
  {
   "cell_type": "code",
   "execution_count": 36,
   "metadata": {},
   "outputs": [
    {
     "data": {
      "text/plain": [
       "'E'"
      ]
     },
     "execution_count": 36,
     "metadata": {},
     "output_type": "execute_result"
    }
   ],
   "source": [
    "aa[-3]"
   ]
  },
  {
   "cell_type": "code",
   "execution_count": 37,
   "metadata": {},
   "outputs": [
    {
     "data": {
      "text/plain": [
       "['C', 'D', 'E']"
      ]
     },
     "execution_count": 37,
     "metadata": {},
     "output_type": "execute_result"
    }
   ],
   "source": [
    "aa[2:5]"
   ]
  },
  {
   "cell_type": "code",
   "execution_count": 38,
   "metadata": {},
   "outputs": [
    {
     "data": {
      "text/plain": [
       "['B', 'C', 'D', 'E']"
      ]
     },
     "execution_count": 38,
     "metadata": {},
     "output_type": "execute_result"
    }
   ],
   "source": [
    "aa[1:5]"
   ]
  },
  {
   "cell_type": "code",
   "execution_count": 39,
   "metadata": {},
   "outputs": [
    {
     "data": {
      "text/plain": [
       "['A', 'B', 'C']"
      ]
     },
     "execution_count": 39,
     "metadata": {},
     "output_type": "execute_result"
    }
   ],
   "source": [
    "aa[:3]"
   ]
  },
  {
   "cell_type": "code",
   "execution_count": 40,
   "metadata": {},
   "outputs": [
    {
     "data": {
      "text/plain": [
       "['D', 'E', 'F', 'G']"
      ]
     },
     "execution_count": 40,
     "metadata": {},
     "output_type": "execute_result"
    }
   ],
   "source": [
    "aa[3:]"
   ]
  },
  {
   "cell_type": "code",
   "execution_count": 41,
   "metadata": {},
   "outputs": [
    {
     "data": {
      "text/plain": [
       "['E', 'F', 'G']"
      ]
     },
     "execution_count": 41,
     "metadata": {},
     "output_type": "execute_result"
    }
   ],
   "source": [
    "aa[-3:]"
   ]
  },
  {
   "cell_type": "code",
   "execution_count": 42,
   "metadata": {},
   "outputs": [
    {
     "data": {
      "text/plain": [
       "['A', 'B', 'C', 'D']"
      ]
     },
     "execution_count": 42,
     "metadata": {},
     "output_type": "execute_result"
    }
   ],
   "source": [
    "aa[:-3]"
   ]
  },
  {
   "cell_type": "markdown",
   "metadata": {},
   "source": [
    "The fact that lists have components that can be referred to using square brackets means that lists are *indexable*. Strings are also indexable."
   ]
  },
  {
   "cell_type": "code",
   "execution_count": 43,
   "metadata": {},
   "outputs": [
    {
     "data": {
      "text/plain": [
       "'e'"
      ]
     },
     "execution_count": 43,
     "metadata": {},
     "output_type": "execute_result"
    }
   ],
   "source": [
    "ss = 'Jupyter Notebook'\n",
    "ss[5]"
   ]
  },
  {
   "cell_type": "markdown",
   "metadata": {},
   "source": [
    "List and strings (and many other Python containers) share another useful property: They are *iterable*, which means they can be used in special constructs designed to *iterate* over the components. One construct is a *for loop*, an alternative to the *while loop* that works on iterables:"
   ]
  },
  {
   "cell_type": "code",
   "execution_count": 44,
   "metadata": {},
   "outputs": [
    {
     "name": "stdout",
     "output_type": "stream",
     "text": [
      "5\n",
      "15\n",
      "geoduck\n",
      "Yoda\n",
      "2.4\n",
      "42\n"
     ]
    }
   ],
   "source": [
    "for a in z:\n",
    "    print(a)"
   ]
  },
  {
   "cell_type": "markdown",
   "metadata": {},
   "source": [
    "The way to interpret this is that the variable `a` *ranges over the values* in the list `z`. In each iteration, `a` takes on a different value in the list. Observe the usefulness of iterables in this simpler version of our `simple_stats()` function from before, this time just computing the average."
   ]
  },
  {
   "cell_type": "code",
   "execution_count": 45,
   "metadata": {},
   "outputs": [],
   "source": [
    "def average(xx) :\n",
    "    sum = 0\n",
    "    for x in xx :\n",
    "        sum += x\n",
    "    return sum / len(xx)"
   ]
  },
  {
   "cell_type": "code",
   "execution_count": 46,
   "metadata": {},
   "outputs": [
    {
     "data": {
      "text/plain": [
       "26.166666666666668"
      ]
     },
     "execution_count": 46,
     "metadata": {},
     "output_type": "execute_result"
    }
   ],
   "source": [
    "average([4,72,3,10,5,63])"
   ]
  },
  {
   "cell_type": "markdown",
   "metadata": {},
   "source": [
    "To see this on strings (the function `upper()` converts text to uppercase):"
   ]
  },
  {
   "cell_type": "code",
   "execution_count": 47,
   "metadata": {},
   "outputs": [],
   "source": [
    "def cheer(name) :\n",
    "    for c in name :\n",
    "        c = c.upper()\n",
    "        if c in 'AEFHILMNORSX' :  # Letters whose names begin with a vowel sound\n",
    "            print('Give me an ' + c)\n",
    "        else :\n",
    "            print('Give me a ' + c)\n",
    "    print(\"What's that spell?\")\n",
    "    print(name)\n",
    "    "
   ]
  },
  {
   "cell_type": "code",
   "execution_count": 48,
   "metadata": {},
   "outputs": [
    {
     "name": "stdout",
     "output_type": "stream",
     "text": [
      "Give me a P\n",
      "Give me a Y\n",
      "Give me a T\n",
      "Give me an H\n",
      "Give me an O\n",
      "Give me an N\n",
      "What's that spell?\n",
      "Python\n"
     ]
    }
   ],
   "source": [
    "cheer('Python')"
   ]
  },
  {
   "cell_type": "markdown",
   "metadata": {},
   "source": [
    "We snuck in some new Python in that last example---using `in` to see if the character `c` occurs in our list (actually a string) of letters whose names begin with a vowel sound. It turns out that `in` can be used both in a for loop to iterate over an iterable, but also in an expression to test whether an element exists somewhere in an iterable.\n",
    "\n",
    "One more iterable is particularly useful: the `range()` function, which returns an iterable over numbers in the range indicated in the parameters to the function. If you give the function one number, it is interpreted as an exclusive upperbound, with 0 as the inclusive lower bound:"
   ]
  },
  {
   "cell_type": "code",
   "execution_count": 49,
   "metadata": {},
   "outputs": [
    {
     "name": "stdout",
     "output_type": "stream",
     "text": [
      "Say hello, 0\n",
      "Say hello, 1\n",
      "Say hello, 2\n",
      "Say hello, 3\n"
     ]
    }
   ],
   "source": [
    "for i in range(4) :\n",
    "    print('Say hello, ' + str(i))"
   ]
  },
  {
   "cell_type": "markdown",
   "metadata": {},
   "source": [
    "Or you can specify both an (inclusive) lower bound and an (exclusive) upper bound."
   ]
  },
  {
   "cell_type": "code",
   "execution_count": 50,
   "metadata": {},
   "outputs": [
    {
     "name": "stdout",
     "output_type": "stream",
     "text": [
      "My favorite primes are\n",
      "11\n",
      "12\n",
      "13\n",
      "... well... except for 12.\n"
     ]
    }
   ],
   "source": [
    "print('My favorite primes are')\n",
    "for i in range(11,14) :\n",
    "    print(i)\n",
    "print('... well... except for 12.')"
   ]
  },
  {
   "cell_type": "markdown",
   "metadata": {},
   "source": [
    "Finally, you can specify an increment:"
   ]
  },
  {
   "cell_type": "code",
   "execution_count": 51,
   "metadata": {},
   "outputs": [
    {
     "name": "stdout",
     "output_type": "stream",
     "text": [
      "2\n",
      "4\n",
      "6\n",
      "8\n",
      "Whom do we appreciate?\n",
      "T-minus 5 seconds\n",
      "T-minus 4 seconds\n",
      "T-minus 3 seconds\n",
      "T-minus 2 seconds\n",
      "T-minus 1 seconds\n",
      "Lift off\n"
     ]
    }
   ],
   "source": [
    "for i in range(2, 9, 2) :\n",
    "    print(i)\n",
    "print('Whom do we appreciate?')\n",
    "for i in range(5, 0, -1) :\n",
    "    print('T-minus ' + str(i) + ' seconds')\n",
    "print('Lift off')"
   ]
  },
  {
   "cell_type": "markdown",
   "metadata": {},
   "source": [
    "Together with `len()`, ranges provide us with another idiom for iterating over the values in a list, if for some reason we don't want to use the list as an iterable directly. For example, suppose we have a list of the coefficients of the polynomial $3 + 4x - 7x^2 + 5x^3$. The following function evaluates a polynomial, given a list of coefficients and an $x$ value:"
   ]
  },
  {
   "cell_type": "code",
   "execution_count": 52,
   "metadata": {},
   "outputs": [],
   "source": [
    "def evaluate_polynomial(coefficients, x) :\n",
    "    result = 0\n",
    "    for i in range(len(coefficients)) :\n",
    "        result += coefficients[i] * x**i\n",
    "    return result\n",
    "        "
   ]
  },
  {
   "cell_type": "code",
   "execution_count": 53,
   "metadata": {},
   "outputs": [
    {
     "data": {
      "text/plain": [
       "23"
      ]
     },
     "execution_count": 53,
     "metadata": {},
     "output_type": "execute_result"
    }
   ],
   "source": [
    "evaluate_polynomial([3,4,-7,5], 2)"
   ]
  },
  {
   "cell_type": "markdown",
   "metadata": {},
   "source": [
    "How many meanings can you find for the variable `i`?"
   ]
  },
  {
   "cell_type": "markdown",
   "metadata": {},
   "source": [
    "## Thinking through algorithms\n",
    "\n",
    "Here is a function that takes a list `yy` and another value `x` and determines the first index in `yy` that contains `x`. If `x` doesn't exist anywhere in the list, then the function returns the special value `None`."
   ]
  },
  {
   "cell_type": "code",
   "execution_count": null,
   "metadata": {},
   "outputs": [],
   "source": [
    "def bounded_linear_search(yy, x) :\n",
    "    i = 0\n",
    "    found_it = False\n",
    "    # As long as we have more positions to inspect and we haven't found what we're looking for\n",
    "    while i < len(yy) and not found_it :\n",
    "        # If i's the one we're looking for...\n",
    "        if yy[i] == x :\n",
    "            # ... great! We found it.\n",
    "            found_it = True            \n",
    "        # Otherwise ...\n",
    "        else :\n",
    "            # move on to the next one, if any.\n",
    "            i += 1\n",
    "    if found_it :\n",
    "        return i\n",
    "    else :\n",
    "        return None\n"
   ]
  },
  {
   "cell_type": "code",
   "execution_count": null,
   "metadata": {},
   "outputs": [],
   "source": [
    "zz = [4,2,8,7,12,16,1,9,11]\n",
    "print(bounded_linear_search(zz, 7))\n",
    "print(bounded_linear_search(zz,5))"
   ]
  },
  {
   "cell_type": "markdown",
   "metadata": {},
   "source": [
    "Here is another function that does something similar, but *assumes the list is sorted from least to greatest*. Because of this assumption it doesn't start at the beginning but instead looks in the middle. Depending on whether the value in the middle is too big or too small, it \"throws away\" either the top half or the bottom half of the list (or, if the value is just right, it return that index). To do this, the algorithm keeps track of an upper and lower bound of the range of indices in the list where the searched value could be---in other words, it has determined that the searched value *can't* be *outside* that range. (The `//` operator does *integer division*. For positive integers, this means rounding down to the nearest integer. We do this because indices need to be integers.)"
   ]
  },
  {
   "cell_type": "code",
   "execution_count": null,
   "metadata": {},
   "outputs": [],
   "source": [
    "def binary_search(yy, x):\n",
    "    lower_bound = 0\n",
    "    upper_bound = len(yy)\n",
    "    mid = (lower_bound + upper_bound) // 2\n",
    "    # As long as the range is more than just one position...\n",
    "    while upper_bound - lower_bound > 1 :\n",
    "        # ...if the midpoint is the value we're looking for...\n",
    "        if yy[mid] == x :\n",
    "            # ...then collapse the range to include just that position\n",
    "            lower_bound = mid\n",
    "            upper_bound = mid+1\n",
    "        # ...otherwise, if the midpoint is too big...\n",
    "        elif yy[mid] > x :\n",
    "            # ...then throw away the top half of the range\n",
    "            upper_bound = mid\n",
    "        # ...otherwise, the only option left is that the midpoint is too small, so..\n",
    "        else :\n",
    "            assert yy[mid] < x \n",
    "            # ...throw away the bottom half of the range.\n",
    "            lower_bound = mid + 1\n",
    "        # Recompute the midpoint index\n",
    "        mid = (lower_bound + upper_bound) // 2\n",
    "\n",
    "    # Check that the range isn't empty and that the midpoint is what we're looking for\n",
    "    if upper_bound - lower_bound == 1 and yy[mid] == x :\n",
    "        return mid\n",
    "    else :\n",
    "        return None\n",
    "    "
   ]
  },
  {
   "cell_type": "markdown",
   "metadata": {},
   "source": [
    "(`assert` means \"I am certain of this proposition, may my program crash if I am wrong.\")"
   ]
  },
  {
   "cell_type": "code",
   "execution_count": null,
   "metadata": {},
   "outputs": [],
   "source": [
    "zz = [1,4,5,17,19,25,33,34,37,40,44,58,63]\n",
    "print(binary_search(zz, 17))\n",
    "print(binary_search(zz, 43))"
   ]
  },
  {
   "cell_type": "markdown",
   "metadata": {},
   "source": [
    "How do these algorithm differ? Is one better than the other? We have already observed that the second algorthm makes a stronger assumption about its input than the first one does. It takes a very different strategy, which wouldn't be correct if we didn't make that stronger assumption. Thinking carefully about code comes down to two things: Correctness and efficiency. \n",
    "\n",
    "We can reason about an algorithm's efficiency by identifing what must be true of the state of the computation at each step. The *state of the computation* is captured by the value of the variables, and this ties in with what we've already alluded to when talking about the meaning of variables. What does the variable `i` mean in `bounded_linear_search`? Similar to `simple_stats`,\n",
    "\n",
    "- `i` is the number of values we've processed so far.\n",
    "- `i` is the index of the next value we'll look at.\n",
    "- `i` is the number of iterations completed.\n",
    "\n",
    "But especially `i` represents the algorithm's progress in searching for the indicated value `x` (call it the *search value*). That is, `i` marks the boundary between two sections of the list: The indices less than `i` are *known not to contain* the search value; if the search value is anywhere in the list at all, it must be in an index `i` or greater. \n",
    "\n",
    "- For all indices $j$, where $0 \\leq j < \\mathtt{i}$, $\\mathtt{yy}[j] \\neq \\mathtt{x}$\n",
    "\n",
    "(We use typewriter font for variables that actually occur in the code. Since $j$ is not a variable in the code, it gets the usual italic font.)\n",
    "\n",
    "Here's a new version nof `bounded_linear_search` with the comments taken away but where we assert this last claim about `i`. Practically speaking this defeats the whole purpose of `bounded_linear_search` since this check does the same work as the entire algorithm, but we're doing it here for demonstration purposes.\n",
    "\n",
    "\n"
   ]
  },
  {
   "cell_type": "code",
   "execution_count": 56,
   "metadata": {},
   "outputs": [],
   "source": [
    "def bounded_linear_search(yy, x) :\n",
    "    i = 0\n",
    "    found_it = False\n",
    "    while i < len(yy) and not found_it :\n",
    "        assert not x in yy[:i]   # x is nowhere in y between 0 and i\n",
    "        if yy[i] == x :\n",
    "            found_it = True            \n",
    "        else :\n",
    "            i += 1\n",
    "    if found_it :\n",
    "        return i\n",
    "    else :\n",
    "        return None\n"
   ]
  },
  {
   "cell_type": "code",
   "execution_count": 57,
   "metadata": {},
   "outputs": [
    {
     "name": "stdout",
     "output_type": "stream",
     "text": [
      "3\n",
      "None\n"
     ]
    }
   ],
   "source": [
    "zz = [4,2,8,7,12,16,1,9,11]\n",
    "print(bounded_linear_search(zz, 7))\n",
    "print(bounded_linear_search(zz,5))"
   ]
  },
  {
   "cell_type": "markdown",
   "metadata": {},
   "source": [
    "For `binary_search`, the variables `lower_bound` and `upper_bound` define the region in the list where the search value might be. Here's a new version that asserts that the search value isn't anywhere outside that range."
   ]
  },
  {
   "cell_type": "code",
   "execution_count": 58,
   "metadata": {},
   "outputs": [],
   "source": [
    "def binary_search(yy, x):\n",
    "    lower_bound = 0\n",
    "    upper_bound = len(yy)\n",
    "    mid = (lower_bound + upper_bound) // 2\n",
    "    while upper_bound - lower_bound > 1 :\n",
    "        assert not x in yy[:lower_bound] and not x in yy[upper_bound:]\n",
    "        if yy[mid] == x :\n",
    "            lower_bound = mid\n",
    "            upper_bound = mid+1\n",
    "        elif yy[mid] > x :\n",
    "            upper_bound = mid\n",
    "        else :\n",
    "            assert yy[mid] < x \n",
    "            lower_bound = mid + 1\n",
    "        mid = (lower_bound + upper_bound) // 2\n",
    "\n",
    "    if upper_bound - lower_bound == 1 and yy[mid] == x :\n",
    "        return mid\n",
    "    else :\n",
    "        return None"
   ]
  },
  {
   "cell_type": "code",
   "execution_count": 59,
   "metadata": {},
   "outputs": [
    {
     "name": "stdout",
     "output_type": "stream",
     "text": [
      "3\n",
      "None\n"
     ]
    }
   ],
   "source": [
    "zz = [1,4,5,17,19,25,33,34,37,40,44,58,63]\n",
    "print(binary_search(zz, 17))\n",
    "print(binary_search(zz, 43))"
   ]
  },
  {
   "cell_type": "markdown",
   "metadata": {},
   "source": [
    "But the real difference between these two algorithms can be seen by looking at their efficiency. The simplest way to observe the computational cost of an algorithm is to count the number iterations of its loop (assuming it's only got one...). In this third version of `bounded_linear_search`, we display the number of iterations before the function returns."
   ]
  },
  {
   "cell_type": "code",
   "execution_count": 60,
   "metadata": {},
   "outputs": [],
   "source": [
    "def bounded_linear_search(yy, x) :\n",
    "    i = 0\n",
    "    found_it = False\n",
    "    while i < len(yy) and not found_it :\n",
    "        assert not x in yy[:i]   # x is nowhere in y between 0 and i\n",
    "        if yy[i] == x :\n",
    "            found_it = True            \n",
    "        else :\n",
    "            i += 1\n",
    "    print(str(i) + ' iterations')\n",
    "    if found_it :\n",
    "        return i\n",
    "    else :\n",
    "        return None"
   ]
  },
  {
   "cell_type": "markdown",
   "metadata": {},
   "source": [
    "Of course the number of iterations depends on when the algorithm finds the search value, and the *worst case* in terms of cost is if it doesn't occur in the list at all. Let's observe the number of iterations if we search for a value in increasingly large lists which don't contain that value."
   ]
  },
  {
   "cell_type": "code",
   "execution_count": 61,
   "metadata": {},
   "outputs": [
    {
     "name": "stdout",
     "output_type": "stream",
     "text": [
      "8 iterations\n",
      "16 iterations\n",
      "32 iterations\n",
      "64 iterations\n",
      "128 iterations\n",
      "256 iterations\n"
     ]
    }
   ],
   "source": [
    "bounded_linear_search([5]*8, 9)\n",
    "bounded_linear_search([5]*16, 9)\n",
    "bounded_linear_search([5]*32, 9)\n",
    "bounded_linear_search([5]*64, 9)\n",
    "bounded_linear_search([5]*128, 9)\n",
    "bounded_linear_search([5]*256, 9)\n"
   ]
  },
  {
   "cell_type": "markdown",
   "metadata": {},
   "source": [
    "The number of iterations equals the size of the list, but perhaps you could have predicted that, since each iterations inspects one position in the list. Let's do a similar experiment on `binary_search`. Since that function doesn't have a variable like `i` that tracks with the number of iterations, we need to add such a variable."
   ]
  },
  {
   "cell_type": "code",
   "execution_count": 62,
   "metadata": {},
   "outputs": [],
   "source": [
    "def binary_search(yy, x):\n",
    "    lower_bound = 0\n",
    "    upper_bound = len(yy)\n",
    "    mid = (lower_bound + upper_bound) // 2\n",
    "    i = 0\n",
    "    while upper_bound - lower_bound > 1 :\n",
    "        if yy[mid] == x :\n",
    "            lower_bound = mid\n",
    "            upper_bound = mid+1\n",
    "        elif yy[mid] > x :\n",
    "            upper_bound = mid\n",
    "        else :\n",
    "            assert yy[mid] < x \n",
    "            lower_bound = mid + 1\n",
    "        mid = (lower_bound + upper_bound) // 2\n",
    "        i += 1\n",
    "        \n",
    "    print(str(i) + ' iterations')\n",
    "    if upper_bound - lower_bound == 1 and yy[mid] == x :\n",
    "        return mid\n",
    "    else :\n",
    "        return None"
   ]
  },
  {
   "cell_type": "code",
   "execution_count": 64,
   "metadata": {},
   "outputs": [
    {
     "name": "stdout",
     "output_type": "stream",
     "text": [
      "2 iterations\n",
      "3 iterations\n",
      "4 iterations\n",
      "5 iterations\n",
      "6 iterations\n",
      "7 iterations\n"
     ]
    }
   ],
   "source": [
    "binary_search([5]*8, 9)\n",
    "binary_search([5]*16, 9)\n",
    "binary_search([5]*32, 9)\n",
    "binary_search([5]*64, 9)\n",
    "binary_search([5]*128, 9)\n",
    "binary_search([5]*256, 9)"
   ]
  },
  {
   "cell_type": "markdown",
   "metadata": {},
   "source": [
    "Not only is this algorithm starkly more efficient, we can mathematically quantify the difference in efficiency. The worst-case number of iterations of `binary_search` tracks with the base-two logarithm of the length of the list. And this, too, makes sense: In each iteration of `binary_search` we throw away half of the remaining range of the list, and so it takes $\\log_2 n$ steps to whittle a list of length $n$ down to a trivial range.\n",
    "\n",
    "(We said the number iterations \"tracks with\" the base-two logarithm of the length of the list. How does the number of iterations relate to the length of the list precisesly?)"
   ]
  },
  {
   "cell_type": "markdown",
   "metadata": {},
   "source": [
    "## Section on libraries\n",
    "\n",
    "Focus on using functions from standard libraries. Look ahead to scipy"
   ]
  },
  {
   "cell_type": "markdown",
   "metadata": {},
   "source": [
    "## Section on classes and objects\n",
    "\n",
    "This would be brief, just the idea of an object as an instance of a class, an object having data components and functional components."
   ]
  },
  {
   "cell_type": "markdown",
   "metadata": {},
   "source": [
    "## Section on numpy\n",
    "\n",
    "Focus on np arrays, how to index"
   ]
  },
  {
   "cell_type": "markdown",
   "metadata": {},
   "source": [
    "## Section on other libraries\n",
    "\n",
    "Briefly show what pandas, matplotlib, others"
   ]
  },
  {
   "cell_type": "code",
   "execution_count": null,
   "metadata": {},
   "outputs": [],
   "source": []
  }
 ],
 "metadata": {
  "kernelspec": {
   "display_name": "Python 3",
   "language": "python",
   "name": "python3"
  },
  "language_info": {
   "codemirror_mode": {
    "name": "ipython",
    "version": 3
   },
   "file_extension": ".py",
   "mimetype": "text/x-python",
   "name": "python",
   "nbconvert_exporter": "python",
   "pygments_lexer": "ipython3",
   "version": "3.7.2"
  }
 },
 "nbformat": 4,
 "nbformat_minor": 4
}
