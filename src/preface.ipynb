{
 "cells": [
  {
   "cell_type": "markdown",
   "id": "725c40e7",
   "metadata": {},
   "source": [
    "# Preface"
   ]
  },
  {
   "cell_type": "markdown",
   "id": "064ef5a8",
   "metadata": {},
   "source": [
    "```{index} JNB \n",
    "```"
   ]
  },
  {
   "cell_type": "markdown",
   "id": "168aae11",
   "metadata": {},
   "source": [
    "This book is an introduction to the use of Python Jupyter Notebooks (JNBs) for college math teachers and their students. The book may be most useful to a college math teacher who is interested to use Juppyter Notebooks in their courses.  Each section of the book has been written in the form of a Jupyter Notebook and can be downloaded as such.  However, these notebooks contain special markdown code which are needed to produce features such as indexing, referencing, and highlight boxes in the Jupyter Book.  Each chapter contains a lab with solutions.  With experience, teachers can modify these labs and create new labs tailorded to their courses. The chapters were written by different authors/authorship teams, and as such, vary in style. Each chapter essentially can be read independently of the others as long as one has the pre-requisite mathematical knowledge. Some effort has been made to standardize the chapter formats, and the index may help the reader find specific topics of interest.There is virutally no limit to what can be donw with JNBs, and we hope this work serves as a useful starting point for teachers and students to enrich and enliven the study of mathematics using this tool. \n",
    "\n",
    "P. Isihara, Wheaton IL, Spring 2024"
   ]
  }
 ],
 "metadata": {
  "kernelspec": {
   "display_name": "Python 3",
   "language": "python",
   "name": "python3"
  },
  "language_info": {
   "codemirror_mode": {
    "name": "ipython",
    "version": 3
   },
   "file_extension": ".py",
   "mimetype": "text/x-python",
   "name": "python",
   "nbconvert_exporter": "python",
   "pygments_lexer": "ipython3",
   "version": "3.8.8"
  }
 },
 "nbformat": 4,
 "nbformat_minor": 5
}
