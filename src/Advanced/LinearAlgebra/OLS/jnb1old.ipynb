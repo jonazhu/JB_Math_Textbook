{
 "cells": [
  {
   "cell_type": "markdown",
   "metadata": {},
   "source": [
    "# 2. OLS Linear Regression"
   ]
  },
  {
   "cell_type": "markdown",
   "metadata": {},
   "source": [
    "We begin with the familiar topic of ordinary least squares (OLS) linear regression. The table below shows an excerpt of Chicago Public School data for 2011--2012 from the Chicago Data Portal. One expects  a higher average ACT score to be associated with a higher percentage of college eligibility.  \n",
    "<table>\n",
    "  <tr>\n",
    "    <th> School zipcode  </th>\n",
    "    <th>Average ACT Score</th>\n",
    "    <th> College Eligibility</th></tr>\n",
    "  <tr>\n",
    "    <td>60605   </td>\n",
    "    <td>25.1</td>\n",
    "    <td>80.7</td></tr>\n",
    "  <tr>\n",
    "    <td> 60607  </td>\n",
    "    <td>27</td>\n",
    "    <td>91.6</td></tr>\n",
    "  <tr>\n",
    "    <td> ...  </td>\n",
    "    <td>...</td>\n",
    "    <td>...</td></tr>\n",
    "  <tr>\n",
    "    <td> 60660  </td>\n",
    "    <td>16.5  </td>\n",
    "    <td>14.2</td>\n",
    "  </tr>\n",
    "</table>\n",
    "\n",
    "\n",
    "\n",
    "Source: Chicago Data Portal, \n",
    "\n",
    "https://data.cityofchicago.org/Education/Chicago-Public-Schools-Progress-Report-Cards-2011-/9xs2-f89t\n"
   ]
  },
  {
   "cell_type": "markdown",
   "metadata": {},
   "source": [
    "The figure below shows a scatterplot  of $n= 83 $ data points partly reproduced in the above table together with the OLS regression line.\n",
    "\n",
    "<img src=\"fig1.png\" width=\"200px\"> "
   ]
  },
  {
   "cell_type": "markdown",
   "metadata": {},
   "source": [
    "### Least-Squares Solutions"
   ]
  },
  {
   "cell_type": "markdown",
   "metadata": {},
   "source": [
    "Consider a  collection of $n$ data points $(x_1,y_1),(x_2,y_2),\\dots,(x_n,y_n)$ in $\\mathbb{R}^2.$ We seek the line $y=c_0+c_1x$ that best fits these data, where $c_0$ is the $y$-intercept of the line and $c_1$ the slope of the line. As shown in the figure below, an OLS loss function $J(c_0,c_1)$ sums the squared vertical separations between the data points $(x_1,y_1),(x_2,y_2),\\dots,(x_n,y_n)$  and the line $y=c_0+c_1x$.\n",
    "\n",
    "\n",
    "<img src=\"fig2.png\" width=\"300px\"> \n",
    "\n"
   ]
  },
  {
   "cell_type": "markdown",
   "metadata": {},
   "source": [
    "\n",
    "If the $n$ data points are collinear, then there exists an exact solution  $(c_0,c_1)$ to the system\n",
    "\t\n",
    "$$\n",
    "c_0 + c_1 x_1 = y_1,\n",
    "$$\n",
    "\n",
    "$$\n",
    "c_0+c_1x_2  = y_2,\n",
    "$$\n",
    "\n",
    "$$\\vdots$$\n",
    "\n",
    "$$\n",
    "c_0+c_1 x_n  = y_n. \n",
    "$$\n",
    "\n",
    "In matrix form, this system of equations  becomes \n",
    "\n",
    "$$\n",
    "\\mathbf{A}\\mathbf{c}=\\mathbf{y}, \n",
    "$$\n",
    "\n",
    "where\n",
    "\n",
    "$$\n",
    " \\mathbf{A}=\n",
    "\\begin{pmatrix}\n",
    "1& x_1\\\\\n",
    "1& x_2\\\\\n",
    "\\vdots&\\vdots\\\\\n",
    "1& x_n\n",
    "\\end{pmatrix},\\quad \\mathbf{c}=\n",
    "\\begin{pmatrix}\n",
    "c_0\\\\\n",
    "c_1\n",
    "\\end{pmatrix}, \\quad \\, and \\, \\quad \\mathbf{y}=\n",
    "\\begin{pmatrix}\n",
    "y_1\\\\\n",
    "y_2\\\\\n",
    "\\vdots\\\\\n",
    "y_n\n",
    "\\end{pmatrix}.\n",
    "$$\n",
    "\n",
    "\n",
    " In general, this linear system with $n>2$ equations and 2 unknowns  ($c_0,c_1$)  will not have an exact solution.  Instead, our goal to find a linear fit to the data is based on a <i>least-squares solution</i>, one that solves the following optimization problem:\n"
   ]
  },
  {
   "cell_type": "markdown",
   "metadata": {},
   "source": [
    "### OLS LINEAR REGRESSION OPTIMIZATION PROBLEM "
   ]
  },
  {
   "cell_type": "markdown",
   "metadata": {},
   "source": [
    "`````{admonition} OLS Linear Regression Optimization Problem\n",
    ":class: tip\n",
    "\n",
    "Find $(c_0,c_1)$ which minimizes the loss function $J(c_0,c_1)$ defined as\n",
    "\n",
    "$$\n",
    "J(c_0,c_1)=\\tfrac{1}{2}\\sum_{i=1}^n (y_i-(c_0+c_1x_i) )^2=\\tfrac{1}{2}\\|\\mathbf{y} - \\mathbf{A}\\mathbf{c}\\|^2.\n",
    "$$\n",
    "\n",
    "(The factor of 1/2 multiplying the sum is introduced to simplify theoretical analysis of the loss function.)\n",
    "\n",
    "`````"
   ]
  },
  {
   "cell_type": "markdown",
   "metadata": {},
   "source": [
    "The loss function $J$ is  zero when the points are collinear and situated on the line $y=c_0+c_1x$; otherwise,  $J$  is positive, since it is  half the sum of the squared vertical separations between data points and the line $y=c_0+c_1x$, as shown in the previous figure.\n"
   ]
  },
  {
   "cell_type": "markdown",
   "metadata": {},
   "source": [
    "### Minimizing the OLS Loss Function  via Normal Equations"
   ]
  },
  {
   "cell_type": "markdown",
   "metadata": {},
   "source": [
    "Let $\\mathbf{A}$ be an $n\\times 2$ matrix of real numbers, and let the linear transformation $\\mathbf{L}:\\mathbb{R}^2\\rightarrow\\mathbb{R}^n$ be defined by $\\mathbf{L}(\\mathbf{c})= \\mathbf{A}\\mathbf{c}$, where $\\mathbf{c}$ is a $2\\times 1$ column vector. The range of  $\\mathbf{A}$ is the set of all $n\\times 1$ vectors defined  by\n",
    "\n",
    "$$\n",
    "range\\, of \\, \\mathbf{A} = \\{ \\mathbf{A}\\mathbf{c} \\mid \\mathbf{c}\\in\\mathbf{R}^2\\}. \n",
    "$$\n",
    "\n",
    "By choosing $\\mathbf{c}=(1,0)^T$, we see that  the first column of $\\mathbf{A}$ (denoted $\\mathbf{a}_1$) is in the range of $\\mathbf{A}$. By choosing $\\mathbf{c}=(0,1)^T$, we see that  the second column of $\\mathbf{A}$ (denoted $\\mathbf{a}_2$) is also in the range of $\\mathbf{A}$. \n"
   ]
  },
  {
   "cell_type": "markdown",
   "metadata": {},
   "source": [
    "Minimizing the loss function $J(\\mathbf{c}) =\\frac{1}{2}\\|\\mathbf{y} - \\mathbf{A}\\mathbf{c}\\|^2$ is equivalent to minimizing  $\\|\\mathbf{y} - \\mathbf{A}\\mathbf{c}\\|$, the latter being   the distance between $\\mathbf{y}$ and an arbitrary vector $\\mathbf{A} \\mathbf{c}$ that is in the range of $\\mathbf{A}$ (see figure below). If there is no exact solution (i.e., $\\mathbf{y}$ is not in the range of $\\mathbf{A})$, this minimization is accomplished by choosing $\\mathbf{\\hat{c}}$ such that vector $\\mathbf{y}-\\mathbf{A}\\hat{c}$ is orthogonal to the range of $\\mathbf{A}$.  That is, for $\\mathbf{\\hat{c}}$ to be a least-squares solution to $ \\mathbf{A}\\mathbf{c}=\\mathbf{y}$, the vector  $\\mathbf{y}-\\mathbf{A}\\mathbf{\\hat{c}}$ must be orthogonal (perpendicular) to each vector  in the range of $\\mathbf{A}$. Since both column vectors of $\\mathbf{A}$ (namely,  $\\mathbf{a}_1$ and $\\mathbf{a}_2$) are in the range of $\\mathbf{A}$, it follows that $\\mathbf{a}_i\\cdot(\\mathbf{y}-\\mathbf{A}\\mathbf{\\hat{c}})=\\mathbf{a}_i^T(\\mathbf{y}-\\mathbf{A}\\mathbf{\\hat{c}})=0$ for each column vector $\\mathbf{a}_i$ of matrix~$\\mathbf{A}.$\n",
    "\n",
    "<img src=\"fig3.png\" width=\"400px\"> \n"
   ]
  },
  {
   "cell_type": "markdown",
   "metadata": {},
   "source": [
    " Hence,\n",
    " \n",
    "$$\n",
    "\\mathbf{A}^T(\\mathbf{y}-\\mathbf{A}\\mathbf{\\hat{c}})=\\mathbf{0}\\Rightarrow \\label{N1}\n",
    "$$\n",
    "\n",
    "$$\n",
    "\\mathbf{A}^T\\mathbf{y}-\\mathbf{A}^T\\mathbf{A}\\mathbf{\\hat{c}} = \\mathbf{0}\\Rightarrow \n",
    "$$\n",
    "\n",
    "$$\n",
    "\\mathbf{A}^T\\mathbf{y}=\\mathbf{A}^T\\mathbf{A}\\mathbf{\\hat{c}}\n",
    "$$\n",
    "\n",
    "The last equation is called the \\emph{normal equations} for the system $\\mathbf{A}\\mathbf{c}=\\mathbf{y}.$ Solving the normal equations, one obtains optimal values for $c_0,c_1$. \n"
   ]
  },
  {
   "cell_type": "markdown",
   "metadata": {},
   "source": [
    "#### Example 2.1."
   ]
  },
  {
   "cell_type": "markdown",
   "metadata": {},
   "source": [
    "```{admonition} Example 2.1\n",
    "\n",
    "Consider the data $(-1, 1)$, $(0, 0)$, $(1, 2)$, $(2, 3)$. Use the normal equations to find the OLS regression line for the data.\n",
    "\n",
    "```"
   ]
  },
  {
   "cell_type": "markdown",
   "metadata": {},
   "source": [
    "```{toggle}\n",
    "<b> Solution.</b>\n",
    "\n",
    "The system is\n",
    "\n",
    "\\begin{align*}\n",
    "c_0-c_1&=1,\\\\\n",
    "c_0&=0,\\\\\n",
    "c_0+c_1&=2,\\\\\n",
    "c_0+2c_1&=3;\\\\\n",
    "\\end{align*}\n",
    "\n",
    "\n",
    "or, in matrix form,\n",
    "\n",
    "\\begin{align*}\n",
    "\\begin{pmatrix}\n",
    "1& -1\\\\\n",
    "1& 0\\\\\n",
    "1&1\\\\\n",
    "1& 2\n",
    "\\end{pmatrix}\n",
    "\\begin{pmatrix}\n",
    "c_0\\\\\n",
    "c_1\n",
    "\\end{pmatrix}=\n",
    "\\begin{pmatrix}\n",
    "1\\\\\n",
    "0\\\\\n",
    "2\\\\\n",
    "3\n",
    "\\end{pmatrix}.\n",
    "\\end{align*}\n",
    "The normal equations are \n",
    "\\begin{eqnarray}\n",
    "\\begin{pmatrix}\n",
    "1& 1&1&1\\\\\n",
    "-1&0&1&2\n",
    "\\end{pmatrix}\n",
    "\\begin{pmatrix}\n",
    "1\\\\\n",
    "0\\\\\n",
    "2\\\\\n",
    "3\n",
    "\\end{pmatrix}=\n",
    "\\begin{pmatrix}\n",
    "1& 1&1&1\\\\\n",
    "-1&0&1&2\n",
    "\\end{pmatrix}\n",
    "\\begin{pmatrix}\n",
    "1& -1\\\\\n",
    "1& 0\\\\\n",
    "1&1\\\\\n",
    "1& 2\n",
    "\\end{pmatrix}\n",
    "\\begin{pmatrix}\n",
    "c_0\\\\\n",
    "c_1\n",
    "\\end{pmatrix},\n",
    "\\label{ne}\n",
    "\\end{eqnarray}\n",
    "or\n",
    "\\begin{eqnarray*}\n",
    "\\begin{pmatrix}\n",
    "6\\\\\n",
    "7\n",
    "\\end{pmatrix}=\n",
    "\\begin{pmatrix}\n",
    "4&2\\\\\n",
    "2&6\n",
    "\\end{pmatrix}\n",
    "\\begin{pmatrix}\n",
    "c_0\\\\\n",
    "c_1\n",
    "\\end{pmatrix}.\n",
    "\\end{eqnarray*}\n",
    "The least-squares solution is therefore  $c_0=11/10$, $c_1=4/5.$ \n",
    "\n",
    "```"
   ]
  },
  {
   "cell_type": "markdown",
   "metadata": {},
   "source": [
    "### Equivalence of Gradient-Based Optimization"
   ]
  },
  {
   "cell_type": "markdown",
   "metadata": {},
   "source": [
    "\n",
    "Note that the normal equations are equivalent to gradient-based minimization of the OLS linear regression loss function $J(c_0,c_1)=\\frac{1}{2}\\sum_{i=1}^n (y_i-(c_0+c_1x_i) )^2$:\n",
    "\n",
    "\\begin{align*}\n",
    "\\mathbf{A}^T(\\mathbf{y}-\\mathbf{A}\\mathbf{\\hat{c}})&=\n",
    "\\begin{pmatrix}\n",
    "1 & 1& \\dots& 1\\\\\n",
    "x_1&x_2&\\dots&x_n\n",
    "\\end{pmatrix}\n",
    "\\begin{pmatrix}\n",
    "y_1-(c_0+c_1x_1)\\\\\n",
    "y_2-(c_0+c_1x_2)\\\\\n",
    "\\dots\\\\\n",
    "y_n-(c_0+c_1x_n)\n",
    "\\end{pmatrix}\\\\\n",
    "&=\n",
    "\\begin{pmatrix}\n",
    "\\sum_{i=1}^n \\bigl(y_i-(c_0+c_1x_i)\\bigr)\\\\\\\\\n",
    "\\sum_{i=1}^n x_i\\bigl(y_i-(c_0+c_1x_i)\\bigr)\n",
    "\\end{pmatrix}=\n",
    "\\begin{pmatrix}\n",
    "-\\tfrac{\\partial J}{\\partial c_0}\\\\\n",
    "-\\tfrac{\\partial J}{\\partial c_1}\n",
    "\\end{pmatrix}=\n",
    "\\begin{pmatrix}\n",
    "0\\\\\n",
    "0\n",
    "\\end{pmatrix}.\n",
    "\\end{align*}\n",
    "The normal equations are equivalent to setting both partial derivatives of $J$ equal to zero, as is required to minimize the loss function $J(c_0,c_1)$.\n",
    "\n",
    "\n"
   ]
  },
  {
   "cell_type": "markdown",
   "metadata": {},
   "source": [
    "#### Example 2.2."
   ]
  },
  {
   "cell_type": "markdown",
   "metadata": {},
   "source": [
    "```{admonition} Example 2.2\n",
    "\n",
    "For the data points in Example 2.1, show how gradient-based optimization of the loss function $J$ gives the same values for $c_0$ and $c_1$.\n",
    "\n",
    "```"
   ]
  },
  {
   "cell_type": "markdown",
   "metadata": {},
   "source": [
    "```{toggle}\n",
    "\n",
    "<b> Solution:</b>\n",
    "\n",
    "The loss function $J(c_0,c_1)$ is \n",
    "\n",
    "\\begin{align*}\n",
    "J(c_0,c_1)&=\\tfrac{1}{2}[\\bigl(1-(c_0-c_1)\\bigr)^2+(0-c_0)^2+\\bigl(2-(c_0+c_1)\\bigr)^2+\\\\\n",
    "&\\qquad\\bigl(3-(c_0+2c_1)\\bigr)^2].\n",
    "\\end{align*}\n",
    "\n",
    "To minimize $J$, we solve the linear system for $\\nabla J(c_1,c_2)=\\mathbf{0}$: \n",
    "\n",
    "$$\n",
    "\\frac{\\partial J}{\\partial c_0}\n",
    "=4c_0+2c_1-6=0, \\qquad\n",
    "\\frac{\\partial J}{\\partial c_1} =2c_0+6c_1-7=0.\n",
    "$$\n",
    "\n",
    "Solving this system, we obtain $c_0=11/10$ and $c_1=4/5$. \n",
    "\n",
    "\n",
    "\n",
    "{\\flushleft The} system used to find these critical values is equivalent to:\n",
    "\n",
    "\\begin{align}\n",
    "%\\scriptstyle\n",
    "\\begin{pmatrix}\n",
    "%\\scriptstyle\n",
    "-\\frac{\\partial J}{\\partial c_0}\\\\\n",
    "-\\frac{\\partial J}{\\partial c_1}\n",
    "\\end{pmatrix}&=\n",
    "\\begin{pmatrix}\n",
    "\\scriptstyle\n",
    "\\bigl(1-(c_0-c_1)\\bigr)+(0-c_0)+\\bigl(2-(c_0+c_1)\\bigr)+\\bigl(3-(c_0+2c_1\\bigr) \\\\\n",
    "\\scriptstyle-\\bigl(1-(c_0-c_1)\\bigr)+0(0-c_0)+\\bigl(2-(c_0+c_1)\\bigr)+2\\bigl(3-(c_0+2c_1)\\bigr)\n",
    "\\end{pmatrix}\\nonumber\\\\\n",
    "&=\n",
    "\\scriptstyle\\begin{pmatrix}\n",
    "1& 1&1&1\\\\\n",
    "-1&0&1&2\n",
    "\\end{pmatrix}\n",
    "\\scriptstyle\n",
    "\\begin{pmatrix}\n",
    "1\\\\\n",
    "\\textstyle 0\\\\\n",
    "2\\\\\n",
    "3\n",
    "\\end{pmatrix}-\n",
    "\\scriptstyle\\begin{pmatrix}\n",
    "1& 1&1&1\\\\\n",
    "-1&0&1&2\n",
    "\\end{pmatrix}\n",
    "\\scriptstyle\\begin{pmatrix}\n",
    "1& -1\\\\\n",
    "1& 0\\\\\n",
    "1&1\\\\\n",
    "1& 2\n",
    "\\end{pmatrix}\n",
    "\\scriptstyle\\begin{pmatrix}\n",
    "c_0\\\\\n",
    "c_1\n",
    "\\end{pmatrix}=\n",
    "\\scriptstyle\n",
    "\\begin{pmatrix}\n",
    "0\\\\\n",
    "0\n",
    "\\end{pmatrix},\n",
    "\\label{ne1}\n",
    "\\end{align}\n",
    "\n",
    "\n",
    "Gradient-based optimization expressed  is indeed equivalent to the normal equations.\n",
    "\n",
    "```"
   ]
  },
  {
   "cell_type": "markdown",
   "metadata": {},
   "source": [
    "To say that solving the normal equations is mathematically equivalent to gradient-based optimization of the OLS loss function does not  imply that the normal equations offer the best numerical method for optimization of the loss function [Epperly 2022]. Beyond the scope of this Module is an assessment of different numerical approaches such as gradient descent and its variants including the  Adam method [Sun et. al. 2019], matrix factorizations such as $SVD$ or $QR$ [Aggarwal 2020], and mean-centering and standardizing data [Toth 2020]. \n",
    "\n",
    "In addition to facilitating numerical analysis, mean-centering simplifies the linear algebra approach. Mean-centered data is obtained from a collection of data points by  replacing the original dataset  $(x_i,y_i)$  with  the data points $(x_i-\\bar{x},y_i-\\bar{y})$, $i=1, \\dots n$, where $\\bar{x}$ and $\\bar{y}$ are the respective  means of the $x$ and $y$ coordinates of the original data.  One can show that for mean-centered data,  $\\hat{c}_0=0$, and the regression line is  $y = \\hat{c}_1 x$.  Let $\\mathbf{x}=(x_1,x_2,...,x_n)^{tr}$.  For mean-centered data, the regression vector ${\\bf \\hat{y}}=\\hat{c}_1\\mathbf{x}$ is obtained by projecting the vector ${\\bf y}$ directly onto  the vector ${\\bf x}$ as shown in the figure below.\n",
    "\n",
    "<img src=\"fig4.png\" width=\"200px\"> \n",
    "\n",
    "\n"
   ]
  },
  {
   "cell_type": "markdown",
   "metadata": {},
   "source": [
    "\n",
    "The <i>variation equation</i> states that the total variation in the y-values is the sum of the explained variation (variation in the corresponding $y$-values on the regression line)  and the unexplained variation (the sum of squared residuals or twice the value of the loss function $J$). For mean-centered data, the total variation is $\\mid\\mid \\mathbf{y}\\mid\\mid^2$, the explained variation is $\\mid\\mid \\hat{c}_1\\mathbf{x}\\mid\\mid^2$ and the unexplained variation is $\\mid\\mid \\mathbf{y} -\\hat{c}_1 \\mathbf{x}\\mid\\mid^2$. In other words, the variation equation for mean-centered data is simply the Pythagorean theorem."
   ]
  },
  {
   "cell_type": "markdown",
   "metadata": {},
   "source": [
    "### Practice Problems"
   ]
  },
  {
   "cell_type": "markdown",
   "metadata": {},
   "source": [
    "```{admonition} Practice Problems\n",
    "\n",
    "1) Consider the data $(1, 0)$, $(4, 5)$, $(7, 8)$.  Use the normal equations  to find the least-squares solution line $y  = a + bx$ that best fits the data. \n",
    "\n",
    "\n",
    "2) Consider the data $(-1,1)$, $(0,0)$, $(1,2)$, $(2,3)$.  Use the normal equations to find the least-squares solution for the parabola $y=a+bx+cx^2$ that best fits the data.\n",
    "\n",
    "```"
   ]
  },
  {
   "cell_type": "markdown",
   "metadata": {},
   "source": [
    "#### Solutions to Practice Problems"
   ]
  },
  {
   "cell_type": "markdown",
   "metadata": {},
   "source": [
    "```{toggle}\n",
    "\n",
    "Problem 1) \n",
    "The system is\n",
    "\n",
    "\\begin{align*}\n",
    "a+b&=0,\\\\\n",
    "a + 4b&=5,\\\\\n",
    "a+7b&=8;\n",
    "\\end{align*}\n",
    "\n",
    "or, in matrix form,\n",
    "\n",
    "\\begin{align*}\n",
    "\\begin{pmatrix}\n",
    "1& 1\\\\\n",
    "1& 4\\\\\n",
    "1&7\\\\\n",
    "\\end{pmatrix}\n",
    "\\begin{pmatrix}\n",
    "a\\\\\n",
    "b\\\\\n",
    "\\end{pmatrix}=\n",
    "\\begin{pmatrix}\n",
    "0\\\\\n",
    "5\\\\\n",
    "8\\\\\n",
    "\\end{pmatrix}.\n",
    "\\end{align*}\n",
    "\n",
    "The normal equations are\n",
    "\n",
    "\\begin{align*}\n",
    "\\begin{pmatrix}\n",
    "1& 1&1\\\\\n",
    "1&4&7\\\\\n",
    "\\end{pmatrix}\n",
    "\\begin{pmatrix}\n",
    "0\\\\\n",
    "5\\\\\n",
    "8\\\\\n",
    "\\end{pmatrix}=\n",
    "\\begin{pmatrix}\n",
    "1& 1&1\\\\\n",
    "1&4&7\\\\\n",
    "\\end{pmatrix}\n",
    "\\begin{pmatrix}\n",
    "1& 1\\\\\n",
    "1& 4\\\\\n",
    "1&7\\\\\n",
    "\\end{pmatrix}\n",
    "\\begin{pmatrix}\n",
    "a\\\\\n",
    "b\n",
    "\\end{pmatrix},\n",
    "\\end{align*}\n",
    "\n",
    "or\n",
    "\t\n",
    "\\begin{align*}\n",
    "\\begin{pmatrix}\n",
    "13\\\\\n",
    "76\n",
    "\\end{pmatrix}=\n",
    "\\begin{pmatrix}\n",
    "3&12\\\\\n",
    "12&66\n",
    "\\end{pmatrix}\n",
    "\\begin{pmatrix}\n",
    "a\\\\\n",
    "b\n",
    "\\end{pmatrix}.\n",
    "\\end{align*}\n",
    "\n",
    "Solving the normal equations gives the least-squares solution $a=-1$,  $b=4/3$. \n",
    "\n",
    "```\n"
   ]
  },
  {
   "cell_type": "markdown",
   "metadata": {},
   "source": [
    "```{toggle}\n",
    "\n",
    "\n",
    "Problem 2)\n",
    "\n",
    "The system is\n",
    "\t\n",
    "\\begin{align*}\n",
    "a-b+c&=1,\\\\\n",
    "a&=0,\\\\\n",
    "a+b+c&=2,\\\\\n",
    "a+2b+4c&=3;\\\\\n",
    "\\end{align*}\n",
    "\t\n",
    "or, in matrix form,\n",
    "\t\n",
    "\\begin{align*}\n",
    "\\begin{pmatrix}\n",
    "1& -1&1\\\\\n",
    "1& 0&0\\\\\n",
    "1&1&1\\\\\n",
    "1& 2&4\n",
    "\\end{pmatrix}\n",
    "\\begin{pmatrix}\n",
    "a\\\\\n",
    "b\\\\\n",
    "c\n",
    "\\end{pmatrix}=\n",
    "\\begin{pmatrix}\n",
    "1\\\\\n",
    "0\\\\\n",
    "2\\\\\n",
    "3\n",
    "\\end{pmatrix}.\n",
    "\\end{align*}\n",
    "\n",
    "The normal equations are\n",
    "\n",
    "\\begin{align*}\n",
    "\\begin{pmatrix}\n",
    "1& 1&1&1\\\\\n",
    "-1&0&1&2\\\\\n",
    "1&0&1&4\n",
    "\\end{pmatrix}\n",
    "\\begin{pmatrix}\n",
    "1\\\\\n",
    "0\\\\\n",
    "2\\\\\n",
    "3\n",
    "\\end{pmatrix}=\n",
    "\\begin{pmatrix}\n",
    "1& 1&1&1\\\\\n",
    "-1&0&1&2\\\\\n",
    "1&0&1&4\n",
    "\\end{pmatrix}\n",
    "\\begin{pmatrix}\n",
    "1& -1&1\\\\\n",
    "1& 0&0\\\\\n",
    "1&1&1\\\\\n",
    "1& 2&4\n",
    "\\end{pmatrix}\n",
    "\\begin{pmatrix}\n",
    "a\\\\\n",
    "b\n",
    "\\end{pmatrix},\n",
    "\\end{align*}\n",
    "or\n",
    "\\begin{align*}\n",
    "\\begin{pmatrix}\n",
    "6\\\\\n",
    "7\\\\\n",
    "15\n",
    "\\end{pmatrix}=\n",
    "\\begin{pmatrix}\n",
    "4&2&6\\\\\n",
    "2&6&8\\\\\n",
    "6&8&18\n",
    "\\end{pmatrix}\n",
    "\\begin{pmatrix}\n",
    "a\\\\\n",
    "b\\\\\n",
    "c\n",
    "\\end{pmatrix}.\n",
    "\\end{align*}\n",
    "\n",
    "Solving the normal equations gives the least-squares solution $a=3/5, b=3/10$, and $c=1/2.$\n",
    "\n",
    "\n",
    "```"
   ]
  },
  {
   "cell_type": "markdown",
   "metadata": {},
   "source": [
    "## Lab"
   ]
  },
  {
   "cell_type": "markdown",
   "metadata": {},
   "source": [
    "In this lab we will make scatterplots of data which include the OLS regression line.\n",
    "\n",
    "We begin by importing libraries."
   ]
  },
  {
   "cell_type": "code",
   "execution_count": 1,
   "metadata": {},
   "outputs": [],
   "source": [
    "import numpy as np\n",
    "import pandas as pd\n",
    "import matplotlib.pyplot as plt\n",
    "from sklearn.linear_model import LinearRegression"
   ]
  },
  {
   "cell_type": "markdown",
   "metadata": {},
   "source": [
    "### Example 1"
   ]
  },
  {
   "cell_type": "markdown",
   "metadata": {},
   "source": [
    "```{admonition} OLS Regression of ACT and College Eligibility\n",
    "Datafile: ACTCollegeEligible.csv\n",
    "```"
   ]
  },
  {
   "cell_type": "markdown",
   "metadata": {},
   "source": [
    "1) Import Libraries, dropping rows with missing data."
   ]
  },
  {
   "cell_type": "code",
   "execution_count": 2,
   "metadata": {},
   "outputs": [
    {
     "data": {
      "text/html": [
       "<div>\n",
       "<style scoped>\n",
       "    .dataframe tbody tr th:only-of-type {\n",
       "        vertical-align: middle;\n",
       "    }\n",
       "\n",
       "    .dataframe tbody tr th {\n",
       "        vertical-align: top;\n",
       "    }\n",
       "\n",
       "    .dataframe thead th {\n",
       "        text-align: right;\n",
       "    }\n",
       "</style>\n",
       "<table border=\"1\" class=\"dataframe\">\n",
       "  <thead>\n",
       "    <tr style=\"text-align: right;\">\n",
       "      <th></th>\n",
       "      <th>School Name</th>\n",
       "      <th>Street Address</th>\n",
       "      <th>ZIP</th>\n",
       "      <th>Average Score ACT 2012</th>\n",
       "      <th>5-Year Cohort Graduation Rate 2012 - Percent</th>\n",
       "      <th>One-Year Dropout Rate 2012 - Percent</th>\n",
       "      <th>Freshman On-Track to Graduate 2012 - Percent</th>\n",
       "      <th>College Eligibility 2012 - Percent</th>\n",
       "      <th>College Enrollment 2012 - Percent</th>\n",
       "      <th>College Retention 2010 - Percent</th>\n",
       "      <th>Misconducts Resulting in Suspensions 2012 - Percent</th>\n",
       "      <th>Average Days of Suspension 2012</th>\n",
       "      <th>Student Attendance 2012 - Percent</th>\n",
       "      <th>Teacher Attendance 2012 - Percent</th>\n",
       "      <th>X Coordinate</th>\n",
       "      <th>Y Coordinate</th>\n",
       "      <th>Longitude</th>\n",
       "      <th>Latitude</th>\n",
       "      <th>Location</th>\n",
       "    </tr>\n",
       "  </thead>\n",
       "  <tbody>\n",
       "    <tr>\n",
       "      <th>0</th>\n",
       "      <td>Chicago Academy High School</td>\n",
       "      <td>3400 N Austin Ave</td>\n",
       "      <td>60634</td>\n",
       "      <td>19.3</td>\n",
       "      <td>71.0</td>\n",
       "      <td>4.0</td>\n",
       "      <td>82.2</td>\n",
       "      <td>35.2</td>\n",
       "      <td>75.8</td>\n",
       "      <td>71.0</td>\n",
       "      <td>4.5</td>\n",
       "      <td>2.6</td>\n",
       "      <td>93.6</td>\n",
       "      <td>95.6</td>\n",
       "      <td>1135740.091</td>\n",
       "      <td>1922002.941</td>\n",
       "      <td>-87.776506</td>\n",
       "      <td>41.942154</td>\n",
       "      <td>(-87.77650575, 41.94215439)</td>\n",
       "    </tr>\n",
       "    <tr>\n",
       "      <th>3</th>\n",
       "      <td>William Jones College Preparatory High School</td>\n",
       "      <td>606 S State St</td>\n",
       "      <td>60605</td>\n",
       "      <td>25.1</td>\n",
       "      <td>87.1</td>\n",
       "      <td>1.5</td>\n",
       "      <td>98.0</td>\n",
       "      <td>80.7</td>\n",
       "      <td>92.2</td>\n",
       "      <td>90.8</td>\n",
       "      <td>10.6</td>\n",
       "      <td>4.5</td>\n",
       "      <td>93.9</td>\n",
       "      <td>95.3</td>\n",
       "      <td>1176412.354</td>\n",
       "      <td>1897618.088</td>\n",
       "      <td>-87.627755</td>\n",
       "      <td>41.874419</td>\n",
       "      <td>(-87.62775497, 41.87441898)</td>\n",
       "    </tr>\n",
       "  </tbody>\n",
       "</table>\n",
       "</div>"
      ],
      "text/plain": [
       "                                     School Name     Street Address    ZIP   \n",
       "0                    Chicago Academy High School  3400 N Austin Ave  60634  \\\n",
       "3  William Jones College Preparatory High School     606 S State St  60605   \n",
       "\n",
       "   Average Score ACT 2012  5-Year Cohort Graduation Rate 2012 - Percent   \n",
       "0                    19.3                                          71.0  \\\n",
       "3                    25.1                                          87.1   \n",
       "\n",
       "   One-Year Dropout Rate 2012 - Percent   \n",
       "0                                   4.0  \\\n",
       "3                                   1.5   \n",
       "\n",
       "   Freshman On-Track to Graduate 2012 - Percent   \n",
       "0                                          82.2  \\\n",
       "3                                          98.0   \n",
       "\n",
       "   College Eligibility 2012 - Percent  College Enrollment 2012 - Percent   \n",
       "0                                35.2                               75.8  \\\n",
       "3                                80.7                               92.2   \n",
       "\n",
       "   College Retention 2010 - Percent   \n",
       "0                              71.0  \\\n",
       "3                              90.8   \n",
       "\n",
       "   Misconducts Resulting in Suspensions 2012 - Percent   \n",
       "0                                                4.5    \\\n",
       "3                                               10.6     \n",
       "\n",
       "   Average Days of Suspension 2012  Student Attendance 2012 - Percent   \n",
       "0                              2.6                               93.6  \\\n",
       "3                              4.5                               93.9   \n",
       "\n",
       "   Teacher Attendance 2012 - Percent  X Coordinate  Y Coordinate  Longitude   \n",
       "0                               95.6   1135740.091   1922002.941 -87.776506  \\\n",
       "3                               95.3   1176412.354   1897618.088 -87.627755   \n",
       "\n",
       "    Latitude                     Location  \n",
       "0  41.942154  (-87.77650575, 41.94215439)  \n",
       "3  41.874419  (-87.62775497, 41.87441898)  "
      ]
     },
     "execution_count": 2,
     "metadata": {},
     "output_type": "execute_result"
    }
   ],
   "source": [
    "df=pd.read_csv(\"ACTCollegeEligible.csv\")\n",
    "df=df.dropna()\n",
    "df.head(2)"
   ]
  },
  {
   "cell_type": "markdown",
   "metadata": {},
   "source": [
    "2) Specify the x and y coordinates of the points to be plotted."
   ]
  },
  {
   "cell_type": "code",
   "execution_count": 3,
   "metadata": {},
   "outputs": [],
   "source": [
    "X=df[[\"Average Score ACT 2012\"]]\n",
    "Y=df[[\"College Eligibility 2012 - Percent\"]]"
   ]
  },
  {
   "cell_type": "markdown",
   "metadata": {},
   "source": [
    "3)  Create the OLS regression model."
   ]
  },
  {
   "cell_type": "code",
   "execution_count": 4,
   "metadata": {},
   "outputs": [
    {
     "name": "stdout",
     "output_type": "stream",
     "text": [
      "OLS regression line y=mx+b\n",
      "slope m= [[6.09611136]]\n",
      "intercept b= [-80.78259412]\n"
     ]
    }
   ],
   "source": [
    "OLSmodel = LinearRegression()\n",
    "OLSmodel.fit(X, Y)\n",
    "print(\"OLS regression line y=mx+b\")\n",
    "print(\"slope m=\",OLSmodel.coef_)\n",
    "print(\"intercept b=\",OLSmodel.intercept_)"
   ]
  },
  {
   "cell_type": "markdown",
   "metadata": {},
   "source": [
    "4) Make the scatterplot with regression line."
   ]
  },
  {
   "cell_type": "code",
   "execution_count": 5,
   "metadata": {},
   "outputs": [
    {
     "name": "stdout",
     "output_type": "stream",
     "text": [
      "Intercept is  [-80.78259412]\n",
      "Slope is  [[6.09611136]]\n",
      "R^2 for OLS is  0.9351396968249491\n"
     ]
    },
    {
     "data": {
      "image/png": "[encoded data removed]",
      "text/plain": [
       "<Figure size 640x480 with 1 Axes>"
      ]
     },
     "metadata": {},
     "output_type": "display_data"
    }
   ],
   "source": [
    "from sklearn.linear_model import LinearRegression #sklearn is a machine learning library\n",
    "X=df[[\"Average Score ACT 2012\"]]\n",
    "Y=df[[\"College Eligibility 2012 - Percent\"]]\n",
    "reg=LinearRegression()\n",
    "reg.fit(X,Y)\n",
    "print(\"Intercept is \", reg.intercept_)\n",
    "print(\"Slope is \", reg.coef_)\n",
    "print(\"R^2 for OLS is \", reg.score(X,Y))\n",
    "# x values on the regression line will be between 13.5 and 30 \n",
    "x = np.linspace(13.5, 30 ,100) \n",
    "# define the regression line y = mx+b here\n",
    "[[m]]=reg.coef_\n",
    "[b]=reg.intercept_\n",
    "y =  m*x  + b   \n",
    "#plot the data points \n",
    "fig=df.plot(x=\"Average Score ACT 2012\", y=\"College Eligibility 2012 - Percent\", style='o')  \n",
    "plt.xlabel(\"Average Score ACT 2012\")  \n",
    "plt.ylabel(\"College Eligibility 2012 - Percent\")  \n",
    "# plot the regression line \n",
    "plt.plot(x,y, 'k') #add the color for red\n",
    "plt.legend([],[], frameon=True)\n",
    "plt.grid()\n",
    "plt.show()"
   ]
  },
  {
   "cell_type": "markdown",
   "metadata": {},
   "source": [
    "### Example 2"
   ]
  },
  {
   "cell_type": "markdown",
   "metadata": {},
   "source": [
    "```{admonition} Linear Regression of Chicago Public School Data \n",
    "Data File:  Imported directly from the Chicago data portal in Step 1.\n",
    "```"
   ]
  },
  {
   "cell_type": "markdown",
   "metadata": {},
   "source": [
    "1) Let's begin by executing the following cell to retrieve a Chicago Public School (CPS) dataset."
   ]
  },
  {
   "cell_type": "code",
   "execution_count": 6,
   "metadata": {},
   "outputs": [
    {
     "data": {
      "text/html": [
       "<div>\n",
       "<style scoped>\n",
       "    .dataframe tbody tr th:only-of-type {\n",
       "        vertical-align: middle;\n",
       "    }\n",
       "\n",
       "    .dataframe tbody tr th {\n",
       "        vertical-align: top;\n",
       "    }\n",
       "\n",
       "    .dataframe thead th {\n",
       "        text-align: right;\n",
       "    }\n",
       "</style>\n",
       "<table border=\"1\" class=\"dataframe\">\n",
       "  <thead>\n",
       "    <tr style=\"text-align: right;\">\n",
       "      <th></th>\n",
       "      <th>school_id</th>\n",
       "      <th>legacy_unit_id</th>\n",
       "      <th>finance_id</th>\n",
       "      <th>short_name</th>\n",
       "      <th>long_name</th>\n",
       "      <th>primary_category</th>\n",
       "      <th>is_high_school</th>\n",
       "      <th>is_middle_school</th>\n",
       "      <th>is_elementary_school</th>\n",
       "      <th>is_pre_school</th>\n",
       "      <th>...</th>\n",
       "      <th>fifth_contact_title</th>\n",
       "      <th>fifth_contact_name</th>\n",
       "      <th>seventh_contact_title</th>\n",
       "      <th>seventh_contact_name</th>\n",
       "      <th>refugee_services</th>\n",
       "      <th>visual_impairments</th>\n",
       "      <th>freshman_start_end_time</th>\n",
       "      <th>sixth_contact_title</th>\n",
       "      <th>sixth_contact_name</th>\n",
       "      <th>hard_of_hearing</th>\n",
       "    </tr>\n",
       "  </thead>\n",
       "  <tbody>\n",
       "    <tr>\n",
       "      <th>0</th>\n",
       "      <td>609966</td>\n",
       "      <td>3750</td>\n",
       "      <td>23531</td>\n",
       "      <td>HAMMOND</td>\n",
       "      <td>Charles G Hammond Elementary School</td>\n",
       "      <td>ES</td>\n",
       "      <td>False</td>\n",
       "      <td>True</td>\n",
       "      <td>True</td>\n",
       "      <td>True</td>\n",
       "      <td>...</td>\n",
       "      <td>NaN</td>\n",
       "      <td>NaN</td>\n",
       "      <td>NaN</td>\n",
       "      <td>NaN</td>\n",
       "      <td>NaN</td>\n",
       "      <td>NaN</td>\n",
       "      <td>NaN</td>\n",
       "      <td>NaN</td>\n",
       "      <td>NaN</td>\n",
       "      <td>NaN</td>\n",
       "    </tr>\n",
       "    <tr>\n",
       "      <th>1</th>\n",
       "      <td>400069</td>\n",
       "      <td>4150</td>\n",
       "      <td>67081</td>\n",
       "      <td>POLARIS</td>\n",
       "      <td>Polaris Charter Academy</td>\n",
       "      <td>ES</td>\n",
       "      <td>False</td>\n",
       "      <td>True</td>\n",
       "      <td>True</td>\n",
       "      <td>False</td>\n",
       "      <td>...</td>\n",
       "      <td>NaN</td>\n",
       "      <td>NaN</td>\n",
       "      <td>NaN</td>\n",
       "      <td>NaN</td>\n",
       "      <td>NaN</td>\n",
       "      <td>NaN</td>\n",
       "      <td>NaN</td>\n",
       "      <td>NaN</td>\n",
       "      <td>NaN</td>\n",
       "      <td>NaN</td>\n",
       "    </tr>\n",
       "    <tr>\n",
       "      <th>2</th>\n",
       "      <td>610191</td>\n",
       "      <td>6070</td>\n",
       "      <td>29291</td>\n",
       "      <td>STONE</td>\n",
       "      <td>Stone Elementary Scholastic Academy</td>\n",
       "      <td>ES</td>\n",
       "      <td>False</td>\n",
       "      <td>True</td>\n",
       "      <td>True</td>\n",
       "      <td>False</td>\n",
       "      <td>...</td>\n",
       "      <td>NaN</td>\n",
       "      <td>NaN</td>\n",
       "      <td>NaN</td>\n",
       "      <td>NaN</td>\n",
       "      <td>NaN</td>\n",
       "      <td>NaN</td>\n",
       "      <td>NaN</td>\n",
       "      <td>NaN</td>\n",
       "      <td>NaN</td>\n",
       "      <td>NaN</td>\n",
       "    </tr>\n",
       "    <tr>\n",
       "      <th>3</th>\n",
       "      <td>400173</td>\n",
       "      <td>9648</td>\n",
       "      <td>66801</td>\n",
       "      <td>PATHWAYS - BRIGHTON PARK HS</td>\n",
       "      <td>Pathways in Education- Brighton Park</td>\n",
       "      <td>HS</td>\n",
       "      <td>True</td>\n",
       "      <td>False</td>\n",
       "      <td>False</td>\n",
       "      <td>False</td>\n",
       "      <td>...</td>\n",
       "      <td>NaN</td>\n",
       "      <td>NaN</td>\n",
       "      <td>NaN</td>\n",
       "      <td>NaN</td>\n",
       "      <td>NaN</td>\n",
       "      <td>NaN</td>\n",
       "      <td>NaN</td>\n",
       "      <td>NaN</td>\n",
       "      <td>NaN</td>\n",
       "      <td>NaN</td>\n",
       "    </tr>\n",
       "    <tr>\n",
       "      <th>4</th>\n",
       "      <td>610153</td>\n",
       "      <td>5670</td>\n",
       "      <td>25191</td>\n",
       "      <td>RYDER</td>\n",
       "      <td>William H Ryder Math &amp; Science Specialty ES</td>\n",
       "      <td>ES</td>\n",
       "      <td>False</td>\n",
       "      <td>True</td>\n",
       "      <td>True</td>\n",
       "      <td>True</td>\n",
       "      <td>...</td>\n",
       "      <td>NaN</td>\n",
       "      <td>NaN</td>\n",
       "      <td>NaN</td>\n",
       "      <td>NaN</td>\n",
       "      <td>NaN</td>\n",
       "      <td>NaN</td>\n",
       "      <td>NaN</td>\n",
       "      <td>NaN</td>\n",
       "      <td>NaN</td>\n",
       "      <td>NaN</td>\n",
       "    </tr>\n",
       "  </tbody>\n",
       "</table>\n",
       "<p>5 rows × 92 columns</p>\n",
       "</div>"
      ],
      "text/plain": [
       "   school_id  legacy_unit_id  finance_id                   short_name   \n",
       "0     609966            3750       23531                      HAMMOND  \\\n",
       "1     400069            4150       67081                      POLARIS   \n",
       "2     610191            6070       29291                        STONE   \n",
       "3     400173            9648       66801  PATHWAYS - BRIGHTON PARK HS   \n",
       "4     610153            5670       25191                        RYDER   \n",
       "\n",
       "                                     long_name primary_category   \n",
       "0          Charles G Hammond Elementary School               ES  \\\n",
       "1                      Polaris Charter Academy               ES   \n",
       "2          Stone Elementary Scholastic Academy               ES   \n",
       "3         Pathways in Education- Brighton Park               HS   \n",
       "4  William H Ryder Math & Science Specialty ES               ES   \n",
       "\n",
       "   is_high_school  is_middle_school  is_elementary_school  is_pre_school  ...   \n",
       "0           False              True                  True           True  ...  \\\n",
       "1           False              True                  True          False  ...   \n",
       "2           False              True                  True          False  ...   \n",
       "3            True             False                 False          False  ...   \n",
       "4           False              True                  True           True  ...   \n",
       "\n",
       "  fifth_contact_title fifth_contact_name seventh_contact_title   \n",
       "0                 NaN                NaN                   NaN  \\\n",
       "1                 NaN                NaN                   NaN   \n",
       "2                 NaN                NaN                   NaN   \n",
       "3                 NaN                NaN                   NaN   \n",
       "4                 NaN                NaN                   NaN   \n",
       "\n",
       "  seventh_contact_name refugee_services visual_impairments   \n",
       "0                  NaN              NaN                NaN  \\\n",
       "1                  NaN              NaN                NaN   \n",
       "2                  NaN              NaN                NaN   \n",
       "3                  NaN              NaN                NaN   \n",
       "4                  NaN              NaN                NaN   \n",
       "\n",
       "  freshman_start_end_time sixth_contact_title  sixth_contact_name   \n",
       "0                     NaN                 NaN                 NaN  \\\n",
       "1                     NaN                 NaN                 NaN   \n",
       "2                     NaN                 NaN                 NaN   \n",
       "3                     NaN                 NaN                 NaN   \n",
       "4                     NaN                 NaN                 NaN   \n",
       "\n",
       "   hard_of_hearing  \n",
       "0              NaN  \n",
       "1              NaN  \n",
       "2              NaN  \n",
       "3              NaN  \n",
       "4              NaN  \n",
       "\n",
       "[5 rows x 92 columns]"
      ]
     },
     "execution_count": 6,
     "metadata": {},
     "output_type": "execute_result"
    }
   ],
   "source": [
    "import pandas as pd\n",
    "import numpy as np\n",
    "raw_CPS_data=  pd.read_json('https://data.cityofchicago.org/resource/kh4r-387c.json?$limit=100000')\n",
    "raw_CPS_data.head() "
   ]
  },
  {
   "cell_type": "markdown",
   "metadata": {},
   "source": [
    "2) Let's get the column names"
   ]
  },
  {
   "cell_type": "code",
   "execution_count": 7,
   "metadata": {},
   "outputs": [
    {
     "data": {
      "text/plain": [
       "Index(['school_id', 'legacy_unit_id', 'finance_id', 'short_name', 'long_name',\n",
       "       'primary_category', 'is_high_school', 'is_middle_school',\n",
       "       'is_elementary_school', 'is_pre_school', 'summary',\n",
       "       'administrator_title', 'administrator', 'secondary_contact_title',\n",
       "       'secondary_contact', 'address', 'city', 'state', 'zip', 'phone', 'fax',\n",
       "       'cps_school_profile', 'website', 'facebook', 'attendance_boundaries',\n",
       "       'grades_offered_all', 'grades_offered', 'student_count_total',\n",
       "       'student_count_low_income', 'student_count_special_ed',\n",
       "       'student_count_english_learners', 'student_count_black',\n",
       "       'student_count_hispanic', 'student_count_white', 'student_count_asian',\n",
       "       'student_count_native_american', 'student_count_other_ethnicity',\n",
       "       'student_count_asian_pacific', 'student_count_multi',\n",
       "       'student_count_hawaiian_pacific', 'student_count_ethnicity_not',\n",
       "       'statistics_description', 'demographic_description', 'dress_code',\n",
       "       'prek_school_day', 'kindergarten_school_day', 'school_hours',\n",
       "       'after_school_hours', 'earliest_drop_off_time', 'classroom_languages',\n",
       "       'bilingual_services', 'title_1_eligible', 'preschool_inclusive',\n",
       "       'preschool_instructional', 'transportation_bus', 'transportation_el',\n",
       "       'school_latitude', 'school_longitude', 'overall_rating',\n",
       "       'rating_status', 'rating_statement', 'classification_description',\n",
       "       'school_year', 'third_contact_title', 'third_contact_name', 'network',\n",
       "       'is_gocps_participant', 'is_gocps_prek', 'is_gocps_elementary',\n",
       "       'is_gocps_high_school', 'open_for_enrollment_date', 'twitter',\n",
       "       'youtube', 'pinterest', 'college_enrollment_rate_school',\n",
       "       'college_enrollment_rate_mean', 'graduation_rate_school',\n",
       "       'graduation_rate_mean', 'significantly_modified',\n",
       "       'transportation_metra', 'fourth_contact_title', 'fourth_contact_name',\n",
       "       'fifth_contact_title', 'fifth_contact_name', 'seventh_contact_title',\n",
       "       'seventh_contact_name', 'refugee_services', 'visual_impairments',\n",
       "       'freshman_start_end_time', 'sixth_contact_title', 'sixth_contact_name',\n",
       "       'hard_of_hearing'],\n",
       "      dtype='object')"
      ]
     },
     "execution_count": 7,
     "metadata": {},
     "output_type": "execute_result"
    }
   ],
   "source": [
    "raw_CPS_data.columns"
   ]
  },
  {
   "cell_type": "markdown",
   "metadata": {},
   "source": [
    "3) Let's find the number of rows in each column which have data using a command of the form df.count()."
   ]
  },
  {
   "cell_type": "code",
   "execution_count": 8,
   "metadata": {},
   "outputs": [
    {
     "data": {
      "text/plain": [
       "school_id                  654\n",
       "legacy_unit_id             654\n",
       "finance_id                 654\n",
       "short_name                 654\n",
       "long_name                  654\n",
       "                          ... \n",
       "visual_impairments           6\n",
       "freshman_start_end_time    101\n",
       "sixth_contact_title         45\n",
       "sixth_contact_name          45\n",
       "hard_of_hearing             13\n",
       "Length: 92, dtype: int64"
      ]
     },
     "execution_count": 8,
     "metadata": {},
     "output_type": "execute_result"
    }
   ],
   "source": [
    "raw_CPS_data.count()"
   ]
  },
  {
   "cell_type": "markdown",
   "metadata": {},
   "source": [
    "4) Let's check what entries there are in the 'grades_offered' column."
   ]
  },
  {
   "cell_type": "code",
   "execution_count": 9,
   "metadata": {},
   "outputs": [
    {
     "data": {
      "text/plain": [
       "grades_offered\n",
       "PK,K-8       327\n",
       "9-12         144\n",
       "K-8           82\n",
       "7-12          11\n",
       "PK,K-6        10\n",
       "PK,K-5        10\n",
       "6-12           9\n",
       "K-6            8\n",
       "6-8            6\n",
       "PK,K-4         4\n",
       "K-12           4\n",
       "PE,PK,K-8      4\n",
       "11-12          4\n",
       "5-8            3\n",
       "PK             3\n",
       "K-5            3\n",
       "PK,K-3         3\n",
       "8-12           2\n",
       "PK,K-2         2\n",
       "7-8            2\n",
       "PK,3-8         1\n",
       "9              1\n",
       "K,4-8          1\n",
       "K-1,5-8        1\n",
       "3-12           1\n",
       "K-3,5-8        1\n",
       "1-8            1\n",
       "PK,K-7         1\n",
       "10-12          1\n",
       "4-11           1\n",
       "K-3            1\n",
       "K-2            1\n",
       "4-8            1\n",
       "Name: count, dtype: int64"
      ]
     },
     "execution_count": 9,
     "metadata": {},
     "output_type": "execute_result"
    }
   ],
   "source": [
    "raw_CPS_data['grades_offered'].value_counts()"
   ]
  },
  {
   "cell_type": "markdown",
   "metadata": {},
   "source": [
    "5) Let's create a dataframe called mid with just the data for PK,K-8 "
   ]
  },
  {
   "cell_type": "code",
   "execution_count": 10,
   "metadata": {},
   "outputs": [
    {
     "data": {
      "text/html": [
       "<div>\n",
       "<style scoped>\n",
       "    .dataframe tbody tr th:only-of-type {\n",
       "        vertical-align: middle;\n",
       "    }\n",
       "\n",
       "    .dataframe tbody tr th {\n",
       "        vertical-align: top;\n",
       "    }\n",
       "\n",
       "    .dataframe thead th {\n",
       "        text-align: right;\n",
       "    }\n",
       "</style>\n",
       "<table border=\"1\" class=\"dataframe\">\n",
       "  <thead>\n",
       "    <tr style=\"text-align: right;\">\n",
       "      <th></th>\n",
       "      <th>school_id</th>\n",
       "      <th>legacy_unit_id</th>\n",
       "      <th>finance_id</th>\n",
       "      <th>short_name</th>\n",
       "      <th>long_name</th>\n",
       "      <th>primary_category</th>\n",
       "      <th>is_high_school</th>\n",
       "      <th>is_middle_school</th>\n",
       "      <th>is_elementary_school</th>\n",
       "      <th>is_pre_school</th>\n",
       "      <th>...</th>\n",
       "      <th>fifth_contact_title</th>\n",
       "      <th>fifth_contact_name</th>\n",
       "      <th>seventh_contact_title</th>\n",
       "      <th>seventh_contact_name</th>\n",
       "      <th>refugee_services</th>\n",
       "      <th>visual_impairments</th>\n",
       "      <th>freshman_start_end_time</th>\n",
       "      <th>sixth_contact_title</th>\n",
       "      <th>sixth_contact_name</th>\n",
       "      <th>hard_of_hearing</th>\n",
       "    </tr>\n",
       "  </thead>\n",
       "  <tbody>\n",
       "    <tr>\n",
       "      <th>0</th>\n",
       "      <td>609966</td>\n",
       "      <td>3750</td>\n",
       "      <td>23531</td>\n",
       "      <td>HAMMOND</td>\n",
       "      <td>Charles G Hammond Elementary School</td>\n",
       "      <td>ES</td>\n",
       "      <td>False</td>\n",
       "      <td>True</td>\n",
       "      <td>True</td>\n",
       "      <td>True</td>\n",
       "      <td>...</td>\n",
       "      <td>NaN</td>\n",
       "      <td>NaN</td>\n",
       "      <td>NaN</td>\n",
       "      <td>NaN</td>\n",
       "      <td>NaN</td>\n",
       "      <td>NaN</td>\n",
       "      <td>NaN</td>\n",
       "      <td>NaN</td>\n",
       "      <td>NaN</td>\n",
       "      <td>NaN</td>\n",
       "    </tr>\n",
       "    <tr>\n",
       "      <th>4</th>\n",
       "      <td>610153</td>\n",
       "      <td>5670</td>\n",
       "      <td>25191</td>\n",
       "      <td>RYDER</td>\n",
       "      <td>William H Ryder Math &amp; Science Specialty ES</td>\n",
       "      <td>ES</td>\n",
       "      <td>False</td>\n",
       "      <td>True</td>\n",
       "      <td>True</td>\n",
       "      <td>True</td>\n",
       "      <td>...</td>\n",
       "      <td>NaN</td>\n",
       "      <td>NaN</td>\n",
       "      <td>NaN</td>\n",
       "      <td>NaN</td>\n",
       "      <td>NaN</td>\n",
       "      <td>NaN</td>\n",
       "      <td>NaN</td>\n",
       "      <td>NaN</td>\n",
       "      <td>NaN</td>\n",
       "      <td>NaN</td>\n",
       "    </tr>\n",
       "  </tbody>\n",
       "</table>\n",
       "<p>2 rows × 92 columns</p>\n",
       "</div>"
      ],
      "text/plain": [
       "   school_id  legacy_unit_id  finance_id short_name   \n",
       "0     609966            3750       23531    HAMMOND  \\\n",
       "4     610153            5670       25191      RYDER   \n",
       "\n",
       "                                     long_name primary_category   \n",
       "0          Charles G Hammond Elementary School               ES  \\\n",
       "4  William H Ryder Math & Science Specialty ES               ES   \n",
       "\n",
       "   is_high_school  is_middle_school  is_elementary_school  is_pre_school  ...   \n",
       "0           False              True                  True           True  ...  \\\n",
       "4           False              True                  True           True  ...   \n",
       "\n",
       "  fifth_contact_title fifth_contact_name seventh_contact_title   \n",
       "0                 NaN                NaN                   NaN  \\\n",
       "4                 NaN                NaN                   NaN   \n",
       "\n",
       "  seventh_contact_name refugee_services visual_impairments   \n",
       "0                  NaN              NaN                NaN  \\\n",
       "4                  NaN              NaN                NaN   \n",
       "\n",
       "  freshman_start_end_time sixth_contact_title  sixth_contact_name   \n",
       "0                     NaN                 NaN                 NaN  \\\n",
       "4                     NaN                 NaN                 NaN   \n",
       "\n",
       "   hard_of_hearing  \n",
       "0              NaN  \n",
       "4              NaN  \n",
       "\n",
       "[2 rows x 92 columns]"
      ]
     },
     "execution_count": 10,
     "metadata": {},
     "output_type": "execute_result"
    }
   ],
   "source": [
    "mid=raw_CPS_data[raw_CPS_data['grades_offered']=='PK,K-8']\n",
    "mid.head(2)"
   ]
  },
  {
   "cell_type": "markdown",
   "metadata": {},
   "source": [
    "6) Let's streamline the data to a dataframe df which includes just the columns ['address','student_count_total','student_count_black','student_count_hispanic','student_count_white','zip']"
   ]
  },
  {
   "cell_type": "code",
   "execution_count": 11,
   "metadata": {},
   "outputs": [
    {
     "data": {
      "text/html": [
       "<div>\n",
       "<style scoped>\n",
       "    .dataframe tbody tr th:only-of-type {\n",
       "        vertical-align: middle;\n",
       "    }\n",
       "\n",
       "    .dataframe tbody tr th {\n",
       "        vertical-align: top;\n",
       "    }\n",
       "\n",
       "    .dataframe thead th {\n",
       "        text-align: right;\n",
       "    }\n",
       "</style>\n",
       "<table border=\"1\" class=\"dataframe\">\n",
       "  <thead>\n",
       "    <tr style=\"text-align: right;\">\n",
       "      <th></th>\n",
       "      <th>address</th>\n",
       "      <th>student_count_total</th>\n",
       "      <th>student_count_black</th>\n",
       "      <th>student_count_hispanic</th>\n",
       "      <th>student_count_white</th>\n",
       "      <th>zip</th>\n",
       "    </tr>\n",
       "  </thead>\n",
       "  <tbody>\n",
       "    <tr>\n",
       "      <th>0</th>\n",
       "      <td>2819 W 21ST PL</td>\n",
       "      <td>342</td>\n",
       "      <td>33</td>\n",
       "      <td>304</td>\n",
       "      <td>2</td>\n",
       "      <td>60623</td>\n",
       "    </tr>\n",
       "    <tr>\n",
       "      <th>1</th>\n",
       "      <td>620 N SAWYER AVE</td>\n",
       "      <td>378</td>\n",
       "      <td>337</td>\n",
       "      <td>33</td>\n",
       "      <td>5</td>\n",
       "      <td>60624</td>\n",
       "    </tr>\n",
       "  </tbody>\n",
       "</table>\n",
       "</div>"
      ],
      "text/plain": [
       "            address  student_count_total  student_count_black   \n",
       "0    2819 W 21ST PL                  342                   33  \\\n",
       "1  620 N SAWYER AVE                  378                  337   \n",
       "\n",
       "   student_count_hispanic  student_count_white    zip  \n",
       "0                     304                    2  60623  \n",
       "1                      33                    5  60624  "
      ]
     },
     "execution_count": 11,
     "metadata": {},
     "output_type": "execute_result"
    }
   ],
   "source": [
    "df=raw_CPS_data[['address','student_count_total','student_count_black','student_count_hispanic','student_count_white','zip']]\n",
    "df.head(2)"
   ]
  },
  {
   "cell_type": "markdown",
   "metadata": {},
   "source": [
    "7) Let's get all the schools with zip 60623"
   ]
  },
  {
   "cell_type": "code",
   "execution_count": 12,
   "metadata": {},
   "outputs": [
    {
     "data": {
      "text/html": [
       "<div>\n",
       "<style scoped>\n",
       "    .dataframe tbody tr th:only-of-type {\n",
       "        vertical-align: middle;\n",
       "    }\n",
       "\n",
       "    .dataframe tbody tr th {\n",
       "        vertical-align: top;\n",
       "    }\n",
       "\n",
       "    .dataframe thead th {\n",
       "        text-align: right;\n",
       "    }\n",
       "</style>\n",
       "<table border=\"1\" class=\"dataframe\">\n",
       "  <thead>\n",
       "    <tr style=\"text-align: right;\">\n",
       "      <th></th>\n",
       "      <th>address</th>\n",
       "      <th>student_count_total</th>\n",
       "      <th>student_count_black</th>\n",
       "      <th>student_count_hispanic</th>\n",
       "      <th>student_count_white</th>\n",
       "      <th>zip</th>\n",
       "    </tr>\n",
       "  </thead>\n",
       "  <tbody>\n",
       "    <tr>\n",
       "      <th>0</th>\n",
       "      <td>2819 W 21ST PL</td>\n",
       "      <td>342</td>\n",
       "      <td>33</td>\n",
       "      <td>304</td>\n",
       "      <td>2</td>\n",
       "      <td>60623</td>\n",
       "    </tr>\n",
       "    <tr>\n",
       "      <th>11</th>\n",
       "      <td>2345 S CHRISTIANA AVE</td>\n",
       "      <td>559</td>\n",
       "      <td>66</td>\n",
       "      <td>484</td>\n",
       "      <td>9</td>\n",
       "      <td>60623</td>\n",
       "    </tr>\n",
       "  </tbody>\n",
       "</table>\n",
       "</div>"
      ],
      "text/plain": [
       "                  address  student_count_total  student_count_black   \n",
       "0          2819 W 21ST PL                  342                   33  \\\n",
       "11  2345 S CHRISTIANA AVE                  559                   66   \n",
       "\n",
       "    student_count_hispanic  student_count_white    zip  \n",
       "0                      304                    2  60623  \n",
       "11                     484                    9  60623  "
      ]
     },
     "execution_count": 12,
     "metadata": {},
     "output_type": "execute_result"
    }
   ],
   "source": [
    "df23=df[df['zip']==60623]\n",
    "df23.head(2)"
   ]
  },
  {
   "cell_type": "markdown",
   "metadata": {},
   "source": [
    "7) Let's reset the index."
   ]
  },
  {
   "cell_type": "code",
   "execution_count": 13,
   "metadata": {},
   "outputs": [
    {
     "data": {
      "text/html": [
       "<div>\n",
       "<style scoped>\n",
       "    .dataframe tbody tr th:only-of-type {\n",
       "        vertical-align: middle;\n",
       "    }\n",
       "\n",
       "    .dataframe tbody tr th {\n",
       "        vertical-align: top;\n",
       "    }\n",
       "\n",
       "    .dataframe thead th {\n",
       "        text-align: right;\n",
       "    }\n",
       "</style>\n",
       "<table border=\"1\" class=\"dataframe\">\n",
       "  <thead>\n",
       "    <tr style=\"text-align: right;\">\n",
       "      <th></th>\n",
       "      <th>address</th>\n",
       "      <th>student_count_total</th>\n",
       "      <th>student_count_black</th>\n",
       "      <th>student_count_hispanic</th>\n",
       "      <th>student_count_white</th>\n",
       "      <th>zip</th>\n",
       "    </tr>\n",
       "  </thead>\n",
       "  <tbody>\n",
       "    <tr>\n",
       "      <th>0</th>\n",
       "      <td>2819 W 21ST PL</td>\n",
       "      <td>342</td>\n",
       "      <td>33</td>\n",
       "      <td>304</td>\n",
       "      <td>2</td>\n",
       "      <td>60623</td>\n",
       "    </tr>\n",
       "    <tr>\n",
       "      <th>1</th>\n",
       "      <td>2345 S CHRISTIANA AVE</td>\n",
       "      <td>559</td>\n",
       "      <td>66</td>\n",
       "      <td>484</td>\n",
       "      <td>9</td>\n",
       "      <td>60623</td>\n",
       "    </tr>\n",
       "    <tr>\n",
       "      <th>2</th>\n",
       "      <td>3500 W DOUGLAS BLVD</td>\n",
       "      <td>216</td>\n",
       "      <td>212</td>\n",
       "      <td>4</td>\n",
       "      <td>0</td>\n",
       "      <td>60623</td>\n",
       "    </tr>\n",
       "    <tr>\n",
       "      <th>3</th>\n",
       "      <td>3711 W DOUGLAS BLVD</td>\n",
       "      <td>499</td>\n",
       "      <td>480</td>\n",
       "      <td>14</td>\n",
       "      <td>3</td>\n",
       "      <td>60623</td>\n",
       "    </tr>\n",
       "    <tr>\n",
       "      <th>4</th>\n",
       "      <td>4217 W 18TH ST</td>\n",
       "      <td>316</td>\n",
       "      <td>306</td>\n",
       "      <td>10</td>\n",
       "      <td>0</td>\n",
       "      <td>60623</td>\n",
       "    </tr>\n",
       "  </tbody>\n",
       "</table>\n",
       "</div>"
      ],
      "text/plain": [
       "                 address  student_count_total  student_count_black   \n",
       "0         2819 W 21ST PL                  342                   33  \\\n",
       "1  2345 S CHRISTIANA AVE                  559                   66   \n",
       "2    3500 W DOUGLAS BLVD                  216                  212   \n",
       "3    3711 W DOUGLAS BLVD                  499                  480   \n",
       "4         4217 W 18TH ST                  316                  306   \n",
       "\n",
       "   student_count_hispanic  student_count_white    zip  \n",
       "0                     304                    2  60623  \n",
       "1                     484                    9  60623  \n",
       "2                       4                    0  60623  \n",
       "3                      14                    3  60623  \n",
       "4                      10                    0  60623  "
      ]
     },
     "execution_count": 13,
     "metadata": {},
     "output_type": "execute_result"
    }
   ],
   "source": [
    "df23=df23.reset_index(drop=True)\n",
    "df23.head(5)"
   ]
  },
  {
   "cell_type": "markdown",
   "metadata": {},
   "source": [
    "8) What is the size of the biggest CPS PK,K-8 in 60623?"
   ]
  },
  {
   "cell_type": "code",
   "execution_count": 14,
   "metadata": {},
   "outputs": [
    {
     "data": {
      "text/plain": [
       "1072"
      ]
     },
     "execution_count": 14,
     "metadata": {},
     "output_type": "execute_result"
    }
   ],
   "source": [
    "max=df23[\"student_count_total\"].max()\n",
    "max"
   ]
  },
  {
   "cell_type": "markdown",
   "metadata": {},
   "source": [
    "9) What is the size of the smallest CPS PK,K-8 in 60623?"
   ]
  },
  {
   "cell_type": "code",
   "execution_count": 15,
   "metadata": {},
   "outputs": [
    {
     "data": {
      "text/plain": [
       "96"
      ]
     },
     "execution_count": 15,
     "metadata": {},
     "output_type": "execute_result"
    }
   ],
   "source": [
    "min=df23[\"student_count_total\"].min()\n",
    "min"
   ]
  },
  {
   "cell_type": "markdown",
   "metadata": {},
   "source": [
    "10) Let's simplify the column names to [\"address\",\"total\",\"black\",\"hispanic\",\"white\"]"
   ]
  },
  {
   "cell_type": "code",
   "execution_count": 16,
   "metadata": {},
   "outputs": [
    {
     "data": {
      "text/html": [
       "<div>\n",
       "<style scoped>\n",
       "    .dataframe tbody tr th:only-of-type {\n",
       "        vertical-align: middle;\n",
       "    }\n",
       "\n",
       "    .dataframe tbody tr th {\n",
       "        vertical-align: top;\n",
       "    }\n",
       "\n",
       "    .dataframe thead th {\n",
       "        text-align: right;\n",
       "    }\n",
       "</style>\n",
       "<table border=\"1\" class=\"dataframe\">\n",
       "  <thead>\n",
       "    <tr style=\"text-align: right;\">\n",
       "      <th></th>\n",
       "      <th>address</th>\n",
       "      <th>total</th>\n",
       "      <th>black</th>\n",
       "      <th>hispanic</th>\n",
       "      <th>white</th>\n",
       "      <th>zip</th>\n",
       "    </tr>\n",
       "  </thead>\n",
       "  <tbody>\n",
       "    <tr>\n",
       "      <th>0</th>\n",
       "      <td>2819 W 21ST PL</td>\n",
       "      <td>342</td>\n",
       "      <td>33</td>\n",
       "      <td>304</td>\n",
       "      <td>2</td>\n",
       "      <td>60623</td>\n",
       "    </tr>\n",
       "  </tbody>\n",
       "</table>\n",
       "</div>"
      ],
      "text/plain": [
       "          address  total  black  hispanic  white    zip\n",
       "0  2819 W 21ST PL    342     33       304      2  60623"
      ]
     },
     "execution_count": 16,
     "metadata": {},
     "output_type": "execute_result"
    }
   ],
   "source": [
    "df23.columns= [\"address\",\"total\",\"black\",\"hispanic\",\"white\",\"zip\"]\n",
    "df23.head(1)\n"
   ]
  },
  {
   "cell_type": "markdown",
   "metadata": {},
   "source": [
    "10) Let's create 3 new columns '%black', '%hispanic', '%white'"
   ]
  },
  {
   "cell_type": "code",
   "execution_count": 17,
   "metadata": {},
   "outputs": [
    {
     "data": {
      "text/html": [
       "<div>\n",
       "<style scoped>\n",
       "    .dataframe tbody tr th:only-of-type {\n",
       "        vertical-align: middle;\n",
       "    }\n",
       "\n",
       "    .dataframe tbody tr th {\n",
       "        vertical-align: top;\n",
       "    }\n",
       "\n",
       "    .dataframe thead th {\n",
       "        text-align: right;\n",
       "    }\n",
       "</style>\n",
       "<table border=\"1\" class=\"dataframe\">\n",
       "  <thead>\n",
       "    <tr style=\"text-align: right;\">\n",
       "      <th></th>\n",
       "      <th>address</th>\n",
       "      <th>total</th>\n",
       "      <th>black</th>\n",
       "      <th>hispanic</th>\n",
       "      <th>white</th>\n",
       "      <th>zip</th>\n",
       "      <th>%black</th>\n",
       "      <th>%hispanic</th>\n",
       "      <th>%white</th>\n",
       "    </tr>\n",
       "  </thead>\n",
       "  <tbody>\n",
       "    <tr>\n",
       "      <th>0</th>\n",
       "      <td>2819 W 21ST PL</td>\n",
       "      <td>342</td>\n",
       "      <td>33</td>\n",
       "      <td>304</td>\n",
       "      <td>2</td>\n",
       "      <td>60623</td>\n",
       "      <td>9.6</td>\n",
       "      <td>88.9</td>\n",
       "      <td>0.0</td>\n",
       "    </tr>\n",
       "    <tr>\n",
       "      <th>1</th>\n",
       "      <td>2345 S CHRISTIANA AVE</td>\n",
       "      <td>559</td>\n",
       "      <td>66</td>\n",
       "      <td>484</td>\n",
       "      <td>9</td>\n",
       "      <td>60623</td>\n",
       "      <td>11.8</td>\n",
       "      <td>86.6</td>\n",
       "      <td>0.0</td>\n",
       "    </tr>\n",
       "    <tr>\n",
       "      <th>2</th>\n",
       "      <td>3500 W DOUGLAS BLVD</td>\n",
       "      <td>216</td>\n",
       "      <td>212</td>\n",
       "      <td>4</td>\n",
       "      <td>0</td>\n",
       "      <td>60623</td>\n",
       "      <td>98.1</td>\n",
       "      <td>1.9</td>\n",
       "      <td>0.0</td>\n",
       "    </tr>\n",
       "    <tr>\n",
       "      <th>3</th>\n",
       "      <td>3711 W DOUGLAS BLVD</td>\n",
       "      <td>499</td>\n",
       "      <td>480</td>\n",
       "      <td>14</td>\n",
       "      <td>3</td>\n",
       "      <td>60623</td>\n",
       "      <td>96.2</td>\n",
       "      <td>2.8</td>\n",
       "      <td>0.0</td>\n",
       "    </tr>\n",
       "    <tr>\n",
       "      <th>4</th>\n",
       "      <td>4217 W 18TH ST</td>\n",
       "      <td>316</td>\n",
       "      <td>306</td>\n",
       "      <td>10</td>\n",
       "      <td>0</td>\n",
       "      <td>60623</td>\n",
       "      <td>96.8</td>\n",
       "      <td>3.2</td>\n",
       "      <td>0.0</td>\n",
       "    </tr>\n",
       "  </tbody>\n",
       "</table>\n",
       "</div>"
      ],
      "text/plain": [
       "                 address  total  black  hispanic  white    zip  %black   \n",
       "0         2819 W 21ST PL    342     33       304      2  60623     9.6  \\\n",
       "1  2345 S CHRISTIANA AVE    559     66       484      9  60623    11.8   \n",
       "2    3500 W DOUGLAS BLVD    216    212         4      0  60623    98.1   \n",
       "3    3711 W DOUGLAS BLVD    499    480        14      3  60623    96.2   \n",
       "4         4217 W 18TH ST    316    306        10      0  60623    96.8   \n",
       "\n",
       "   %hispanic  %white  \n",
       "0       88.9     0.0  \n",
       "1       86.6     0.0  \n",
       "2        1.9     0.0  \n",
       "3        2.8     0.0  \n",
       "4        3.2     0.0  "
      ]
     },
     "execution_count": 17,
     "metadata": {},
     "output_type": "execute_result"
    }
   ],
   "source": [
    "for i in df23.index:\n",
    "    df23.loc[i,'%black']=round(100*df23.loc[i,'black']/df23.loc[i,'total'],1)\n",
    "    df23.loc[i,'%hispanic']=round(100*df23.loc[i,'hispanic']/df23.loc[i,'total'],1)\n",
    "    df23.loc[i,'%white']=round(df23.loc[i,'white']/df23.loc[i,'total'],1)\n",
    "df23.head(5)"
   ]
  },
  {
   "cell_type": "markdown",
   "metadata": {},
   "source": [
    "### Exercise\n"
   ]
  },
  {
   "cell_type": "markdown",
   "metadata": {},
   "source": [
    "```{admonition} Exercise\n",
    "Make a scatterplot which shows the %black (x-axis) vs. %hispanic (y-axis) and include the OLS regression line on the plot. What does the graph tell us about grade pre K - 8 schools in Chicago zip code 60623?\n",
    "```"
   ]
  },
  {
   "cell_type": "markdown",
   "metadata": {},
   "source": [
    "### Solution"
   ]
  },
  {
   "cell_type": "code",
   "execution_count": 18,
   "metadata": {},
   "outputs": [
    {
     "name": "stdout",
     "output_type": "stream",
     "text": [
      "Intercept is  [98.71284906]\n",
      "Slope is  [[-0.99515441]]\n",
      "R^2 for OLS is  0.9996943205528053\n"
     ]
    },
    {
     "data": {
      "image/png": "[encoded data removed]",
      "text/plain": [
       "<Figure size 640x480 with 1 Axes>"
      ]
     },
     "metadata": {},
     "output_type": "display_data"
    }
   ],
   "source": [
    "from sklearn.linear_model import LinearRegression #sklearn is a machine learning library\n",
    "X=df23[[\"%black\"]]\n",
    "Y=df23[[\"%hispanic\"]]\n",
    "reg=LinearRegression()\n",
    "reg.fit(X,Y)\n",
    "print(\"Intercept is \", reg.intercept_)\n",
    "print(\"Slope is \", reg.coef_)\n",
    "print(\"R^2 for OLS is \", reg.score(X,Y))\n",
    "# x values on the regression line will be between 0 and 100 with a spacing of .0\n",
    "x = np.arange(0, 100 ,.01) \n",
    "# define the regression line y = mx+b here\n",
    "[[m]]=reg.coef_\n",
    "[b]=reg.intercept_\n",
    "y =  m*x  + b   \n",
    "\n",
    "fig=df23.plot(x='%black', y='%hispanic', style='o')  \n",
    "plt.title('% Black vs % Hispanic in 60623 pre-K - 8 Schools')  \n",
    "plt.xlabel('% Black')  \n",
    "plt.ylabel('% Hispanic')  \n",
    "# plot the regression line \n",
    "plt.plot(x,y, 'r') #add the color for red\n",
    "plt.legend([],[], frameon=True)\n",
    "plt.grid()\n",
    "plt.show()"
   ]
  },
  {
   "cell_type": "markdown",
   "metadata": {},
   "source": [
    "The graph show that schools are predominantly hispanic or preominantly black."
   ]
  }
 ],
 "metadata": {
  "celltoolbar": "Edit Metadata",
  "kernelspec": {
   "display_name": "Python 3",
   "language": "python",
   "name": "python3"
  },
  "language_info": {
   "codemirror_mode": {
    "name": "ipython",
    "version": 3
   },
   "file_extension": ".py",
   "mimetype": "text/x-python",
   "name": "python",
   "nbconvert_exporter": "python",
   "pygments_lexer": "ipython3",
   "version": "3.8.8"
  }
 },
 "nbformat": 4,
 "nbformat_minor": 2
}
