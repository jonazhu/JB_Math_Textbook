{
 "cells": [
  {
   "cell_type": "markdown",
   "metadata": {},
   "source": [
    "# 0. Before Reading\n",
    "\n",
    "The dataset used in the exercises for this section is from a citizen science project. It consists of 40067 text excerptslabeled with 16 United Nations Sustainable Development Goals (UN SDG) categories and can be found at https://zenodo.org/record/7540165#.ZAF10uzMKfU. As of now, all the exercises use the 2023.01 version of the dataset, which is the version used when designing the exercises and the content for this section. Please be aware that the data file format has gone through significant changes since the first version, 2021.09.\n",
    "\n",
    "The UN SDG framework is a UN 2030 thematic framework for world development. Adopted in 2015, it has 17 comprehensive goals, with 169 targets and 232 indicators. The UN SDGs are universal, being accepted and adopted by countries all over the globe, and represents a proxy of an ideal future. "
   ]
  },
  {
   "cell_type": "markdown",
   "metadata": {
    "tags": [
     "\"tags\": [\"hide-input\",]"
    ]
   },
   "source": [
    "<img src=\"images/unsdg.png\" width=\"600px\">"
   ]
  },
  {
   "cell_type": "markdown",
   "metadata": {},
   "source": [
    "The libraries for this section include:\n",
    "$\\texttt{scikit-learn}$, \n",
    "$\\texttt{nltk}$, \n",
    "$\\texttt{fasttext}$, \n",
    "$\\texttt{googletrans}$, \n",
    "$\\texttt{spaCy}$, and \n",
    "$\\texttt{huggingface}$.\n",
    "\n",
    "\n",
    "We recommend creating a new Python environment for this section; you can do this in the terminal by running the following code chunk:"
   ]
  },
  {
   "cell_type": "markdown",
   "metadata": {
    "tags": [
     "\"tags\": [\"hide-output\",]"
    ]
   },
   "source": [
    "conda deactivate \n",
    "\n",
    "conda create -n nlp\n",
    "\n",
    "conda activate nlp\n",
    "\n",
    "conda install -c conda-forge spacy\n",
    "\n",
    "conda install -c conda-forge scikit-learn\n",
    "\n",
    "conda install ipykernel\n",
    "\n",
    "conda install seaborn\n"
   ]
  }
 ],
 "metadata": {
  "kernelspec": {
   "display_name": "Python 3",
   "language": "python",
   "name": "python3"
  },
  "language_info": {
   "codemirror_mode": {
    "name": "ipython",
    "version": 3
   },
   "file_extension": ".py",
   "mimetype": "text/x-python",
   "name": "python",
   "nbconvert_exporter": "python",
   "pygments_lexer": "ipython3",
   "version": "3.8.8"
  }
 },
 "nbformat": 4,
 "nbformat_minor": 2
}
