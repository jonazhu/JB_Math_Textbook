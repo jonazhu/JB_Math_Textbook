{
 "cells": [
  {
   "attachments": {},
   "cell_type": "markdown",
   "metadata": {},
   "source": [
    "<h1>6. Applications</h1>\n",
    "\n",
    "Now that we have covered some of the basics of text problems and language processing, we can go on to cover some additional things we can do beyond simply classification."
   ]
  },
  {
   "attachments": {},
   "cell_type": "markdown",
   "metadata": {},
   "source": [
    "<h2>6.1 Similarity Retrieval</h2>\n",
    "Document retrieval based on similarity\n",
    "\n",
    "<h2>6.2 Content Recommendation</h2>\n",
    "\n",
    "<h2>6.3 More Exercises"
   ]
  }
 ],
 "metadata": {
  "language_info": {
   "name": "python"
  },
  "orig_nbformat": 4
 },
 "nbformat": 4,
 "nbformat_minor": 2
}
