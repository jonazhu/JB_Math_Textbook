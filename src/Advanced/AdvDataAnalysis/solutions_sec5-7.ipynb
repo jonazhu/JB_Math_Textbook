{
 "cells": [
  {
   "cell_type": "code",
   "execution_count": 1,
   "metadata": {},
   "outputs": [
    {
     "name": "stdout",
     "output_type": "stream",
     "text": [
      "Intel MKL WARNING: Support of Intel(R) Streaming SIMD Extensions 4.2 (Intel(R) SSE4.2) enabled only processors has been deprecated. Intel oneAPI Math Kernel Library 2025.0 will require Intel(R) Advanced Vector Extensions (Intel(R) AVX) instructions.\n",
      "Intel MKL WARNING: Support of Intel(R) Streaming SIMD Extensions 4.2 (Intel(R) SSE4.2) enabled only processors has been deprecated. Intel oneAPI Math Kernel Library 2025.0 will require Intel(R) Advanced Vector Extensions (Intel(R) AVX) instructions.\n"
     ]
    }
   ],
   "source": [
    "# import libraries\n",
    "import pandas as pd\n",
    "import numpy as np\n",
    "import seaborn as sns \n",
    "from matplotlib import pyplot as plt\n",
    "import matplotlib as mpl\n",
    "from sklearn import metrics\n",
    "from sklearn.metrics import confusion_matrix\n",
    "from sklearn.metrics import ConfusionMatrixDisplay\n",
    "from sklearn.model_selection import train_test_split\n",
    "from sklearn.naive_bayes import MultinomialNB\n",
    "from sklearn.neural_network import MLPClassifier\n",
    "\n",
    "from sklearn.ensemble import RandomForestClassifier\n",
    "from sklearn.feature_extraction.text import CountVectorizer\n",
    "from sklearn.feature_extraction.text import TfidfVectorizer\n",
    "\n",
    "# change this to your own data directory\n",
    "data_dir = \"data/\"\n",
    "\n",
    "# read and preprocess data\n",
    "text_file_name = \"osdg-community-data-v2023-01-01.csv\"\n",
    "text_df = pd.read_csv(data_dir + text_file_name,sep = \"\\t\",  quotechar='\"')\n",
    "col_names = text_df.columns.values[0].split('\\t')\n",
    "text_df[col_names] = text_df[text_df.columns.values[0]].apply(lambda x: pd.Series(str(x).split(\"\\t\")))\n",
    "text_df = text_df.astype({'sdg':int, 'labels_negative': int, 'labels_positive':int, 'agreement': float}, copy=True)\n",
    "text_df.drop(text_df.columns.values[0], axis=1, inplace=True)\n",
    "text_df = text_df.query(\"agreement > 0.5 and (labels_positive - labels_negative) > 2\")\n",
    "text_df.reset_index(inplace=True, drop=True)"
   ]
  },
  {
   "cell_type": "code",
   "execution_count": 2,
   "metadata": {},
   "outputs": [],
   "source": [
    "docs = text_df.text\n",
    "categories = text_df.sdg\n",
    "X_train, X_test, y_train, y_test = \\\n",
    "    train_test_split(docs, categories, test_size=0.33, random_state=7)"
   ]
  },
  {
   "cell_type": "markdown",
   "metadata": {},
   "source": [
    "# Solutions to Exercises: Sections 14.5 to 14.7\n",
    "\n",
    "For exercises 4.1 to 4.3, the below code will be used to establish the dataset used for all next classifications."
   ]
  },
  {
   "cell_type": "code",
   "execution_count": 3,
   "metadata": {},
   "outputs": [],
   "source": [
    "X_train_tfidf_vectorizer = TfidfVectorizer(ngram_range=(1,1), stop_words = \"english\", min_df=5)\n",
    "X_train_tfidf_vectorizer.fit(X_train)\n",
    "X_train_tfidf_vector = X_train_tfidf_vectorizer.transform(X_train)\n",
    "X_test_tfidf_vector = X_train_tfidf_vectorizer.transform(X_test)"
   ]
  },
  {
   "cell_type": "markdown",
   "metadata": {},
   "source": [
    "**Exercise 4.1**"
   ]
  },
  {
   "cell_type": "code",
   "execution_count": 4,
   "metadata": {},
   "outputs": [
    {
     "name": "stdout",
     "output_type": "stream",
     "text": [
      "              precision    recall  f1-score   support\n",
      "\n",
      "           1       0.79      0.81      0.80       481\n",
      "           2       0.82      0.87      0.84       316\n",
      "           3       0.94      0.93      0.94       674\n",
      "           4       0.92      0.94      0.93       863\n",
      "           5       0.92      0.92      0.92       920\n",
      "           6       0.90      0.91      0.91       465\n",
      "           7       0.88      0.88      0.88       730\n",
      "           8       0.68      0.61      0.64       353\n",
      "           9       0.79      0.80      0.79       328\n",
      "          10       0.64      0.58      0.61       256\n",
      "          11       0.85      0.88      0.86       462\n",
      "          12       0.85      0.78      0.81       217\n",
      "          13       0.85      0.87      0.86       443\n",
      "          14       0.93      0.92      0.93       263\n",
      "          15       0.89      0.85      0.87       313\n",
      "          16       0.97      0.97      0.97      1057\n",
      "\n",
      "    accuracy                           0.88      8141\n",
      "   macro avg       0.85      0.85      0.85      8141\n",
      "weighted avg       0.88      0.88      0.88      8141\n",
      "\n"
     ]
    }
   ],
   "source": [
    "tfidf_mlp_clf = MLPClassifier(random_state=1, max_iter=100).fit(X_train_tfidf_vector, y_train)\n",
    "y_pred = tfidf_mlp_clf.predict(X_test_tfidf_vector)\n",
    "tfidf_mlp_clf.score(X_test_tfidf_vector, y_test)\n",
    "print(metrics.classification_report(y_test,y_pred))"
   ]
  },
  {
   "cell_type": "markdown",
   "metadata": {},
   "source": [
    "**Exercise 4.2**"
   ]
  },
  {
   "cell_type": "code",
   "execution_count": 5,
   "metadata": {},
   "outputs": [
    {
     "name": "stdout",
     "output_type": "stream",
     "text": [
      "              precision    recall  f1-score   support\n",
      "\n",
      "           1       0.70      0.73      0.71       481\n",
      "           2       0.90      0.67      0.77       316\n",
      "           3       0.92      0.90      0.91       674\n",
      "           4       0.76      0.96      0.85       863\n",
      "           5       0.62      0.94      0.75       920\n",
      "           6       0.86      0.81      0.84       465\n",
      "           7       0.60      0.97      0.74       730\n",
      "           8       0.85      0.08      0.15       353\n",
      "           9       0.91      0.32      0.48       328\n",
      "          10       0.89      0.12      0.21       256\n",
      "          11       0.86      0.75      0.80       462\n",
      "          12       0.97      0.30      0.46       217\n",
      "          13       0.84      0.80      0.82       443\n",
      "          14       0.96      0.61      0.75       263\n",
      "          15       0.96      0.64      0.77       313\n",
      "          16       0.86      0.98      0.91      1057\n",
      "\n",
      "    accuracy                           0.77      8141\n",
      "   macro avg       0.84      0.66      0.68      8141\n",
      "weighted avg       0.81      0.77      0.74      8141\n",
      "\n"
     ]
    }
   ],
   "source": [
    "tfidf_multinomialNB_clf = MultinomialNB().fit(X_train_tfidf_vector, y_train)\n",
    "y_pred = tfidf_multinomialNB_clf.predict(X_test_tfidf_vector)\n",
    "print(metrics.classification_report(y_test,y_pred))"
   ]
  },
  {
   "cell_type": "markdown",
   "metadata": {},
   "source": [
    "**Exercise 4.3**"
   ]
  },
  {
   "cell_type": "code",
   "execution_count": 6,
   "metadata": {},
   "outputs": [
    {
     "name": "stdout",
     "output_type": "stream",
     "text": [
      "              precision    recall  f1-score   support\n",
      "\n",
      "           1     0.8174    0.8004    0.8088       481\n",
      "           2     0.8192    0.8892    0.8528       316\n",
      "           3     0.9294    0.9377    0.9335       674\n",
      "           4     0.9109    0.9594    0.9345       863\n",
      "           5     0.9092    0.9467    0.9276       920\n",
      "           6     0.9188    0.9247    0.9218       465\n",
      "           7     0.8714    0.9096    0.8901       730\n",
      "           8     0.7186    0.6006    0.6543       353\n",
      "           9     0.8233    0.7957    0.8093       328\n",
      "          10     0.6990    0.5625    0.6234       256\n",
      "          11     0.8690    0.8615    0.8652       462\n",
      "          12     0.8836    0.7696    0.8227       217\n",
      "          13     0.8521    0.8713    0.8616       443\n",
      "          14     0.9423    0.9316    0.9369       263\n",
      "          15     0.9112    0.8850    0.8979       313\n",
      "          16     0.9513    0.9612    0.9562      1057\n",
      "\n",
      "    accuracy                         0.8840      8141\n",
      "   macro avg     0.8642    0.8504    0.8560      8141\n",
      "weighted avg     0.8815    0.8840    0.8820      8141\n",
      "\n"
     ]
    }
   ],
   "source": [
    "from sklearn.linear_model import RidgeClassifier\n",
    "\n",
    "tfidf_ridge_clf = RidgeClassifier(tol=1e-2, solver=\"sparse_cg\")\n",
    "tfidf_ridge_clf = tfidf_ridge_clf.fit(X_train_tfidf_vector, y_train)\n",
    "y_pred = tfidf_ridge_clf.predict(X_test_tfidf_vector)\n",
    "print(metrics.classification_report(y_test,y_pred, digits = 4))"
   ]
  },
  {
   "cell_type": "markdown",
   "metadata": {},
   "source": [
    "**Exercise 4.4**\n",
    "\n",
    "Implementations may vary. One example is given below:"
   ]
  },
  {
   "cell_type": "code",
   "execution_count": 7,
   "metadata": {},
   "outputs": [],
   "source": [
    "def ClassifyDocs(data, classifier_algorithm, params):\n",
    "    docs = data.text\n",
    "    categories = data.sdg\n",
    "    X_train, X_test, y_train, y_test = train_test_split(docs, categories, test_size=0.33, random_state=7)\n",
    "\n",
    "    X_train_tfidf_vectorizer = TfidfVectorizer(ngram_range=(1,1), stop_words = \"english\", min_df=5)\n",
    "    X_train_tfidf_vectorizer.fit(X_train)\n",
    "    X_train_tfidf_vector = X_train_tfidf_vectorizer.transform(X_train)\n",
    "    X_test_tfidf_vector = X_train_tfidf_vectorizer.transform(X_test)\n",
    "    \n",
    "    if classifier_algorithm == \"mlp\":\n",
    "        tfidf_mlp_clf = MLPClassifier(random_state=params[0], max_iter=params[1]).fit(X_train_tfidf_vector, y_train)\n",
    "        y_pred = tfidf_mlp_clf.predict(X_test_tfidf_vector)\n",
    "        tfidf_mlp_clf.score(X_test_tfidf_vector, y_test)\n",
    "        print(metrics.classification_report(y_test,y_pred))\n",
    "\n",
    "    elif classifier_algorithm == \"multinomialNB\":\n",
    "        tfidf_multinomialNB_clf = MultinomialNB().fit(X_train_tfidf_vector, y_train)\n",
    "        y_pred = tfidf_multinomialNB_clf.predict(X_test_tfidf_vector)\n",
    "        print(metrics.classification_report(y_test,y_pred))\n",
    "\n",
    "    elif classifier_algorithm == \"ridge\":\n",
    "        tfidf_ridge_clf = RidgeClassifier(tol=params[0], solver=params[1])\n",
    "        tfidf_ridge_clf = tfidf_ridge_clf.fit(X_train_tfidf_vector, y_train)\n",
    "        y_pred = tfidf_ridge_clf.predict(X_test_tfidf_vector)\n",
    "        print(metrics.classification_report(y_test,y_pred, digits = 4))\n",
    "\n",
    "    else:\n",
    "        print(\"Invalid classifier algorithm\")"
   ]
  },
  {
   "cell_type": "markdown",
   "metadata": {},
   "source": [
    "**Exercise 4.5**"
   ]
  },
  {
   "cell_type": "code",
   "execution_count": 8,
   "metadata": {},
   "outputs": [
    {
     "name": "stdout",
     "output_type": "stream",
     "text": [
      "MLP\n",
      "              precision    recall  f1-score   support\n",
      "\n",
      "           1       0.79      0.81      0.80       481\n",
      "           2       0.82      0.87      0.84       316\n",
      "           3       0.94      0.93      0.94       674\n",
      "           4       0.92      0.94      0.93       863\n",
      "           5       0.92      0.92      0.92       920\n",
      "           6       0.90      0.91      0.91       465\n",
      "           7       0.88      0.88      0.88       730\n",
      "           8       0.68      0.61      0.64       353\n",
      "           9       0.79      0.80      0.79       328\n",
      "          10       0.64      0.58      0.61       256\n",
      "          11       0.85      0.88      0.86       462\n",
      "          12       0.85      0.78      0.81       217\n",
      "          13       0.85      0.87      0.86       443\n",
      "          14       0.93      0.92      0.93       263\n",
      "          15       0.89      0.85      0.87       313\n",
      "          16       0.97      0.97      0.97      1057\n",
      "\n",
      "    accuracy                           0.88      8141\n",
      "   macro avg       0.85      0.85      0.85      8141\n",
      "weighted avg       0.88      0.88      0.88      8141\n",
      "\n",
      "MultinomialNB\n",
      "              precision    recall  f1-score   support\n",
      "\n",
      "           1       0.70      0.73      0.71       481\n",
      "           2       0.90      0.67      0.77       316\n",
      "           3       0.92      0.90      0.91       674\n",
      "           4       0.76      0.96      0.85       863\n",
      "           5       0.62      0.94      0.75       920\n",
      "           6       0.86      0.81      0.84       465\n",
      "           7       0.60      0.97      0.74       730\n",
      "           8       0.85      0.08      0.15       353\n",
      "           9       0.91      0.32      0.48       328\n",
      "          10       0.89      0.12      0.21       256\n",
      "          11       0.86      0.75      0.80       462\n",
      "          12       0.97      0.30      0.46       217\n",
      "          13       0.84      0.80      0.82       443\n",
      "          14       0.96      0.61      0.75       263\n",
      "          15       0.96      0.64      0.77       313\n",
      "          16       0.86      0.98      0.91      1057\n",
      "\n",
      "    accuracy                           0.77      8141\n",
      "   macro avg       0.84      0.66      0.68      8141\n",
      "weighted avg       0.81      0.77      0.74      8141\n",
      "\n",
      "Ridge\n",
      "              precision    recall  f1-score   support\n",
      "\n",
      "           1     0.8174    0.8004    0.8088       481\n",
      "           2     0.8192    0.8892    0.8528       316\n",
      "           3     0.9294    0.9377    0.9335       674\n",
      "           4     0.9109    0.9594    0.9345       863\n",
      "           5     0.9092    0.9467    0.9276       920\n",
      "           6     0.9188    0.9247    0.9218       465\n",
      "           7     0.8714    0.9096    0.8901       730\n",
      "           8     0.7186    0.6006    0.6543       353\n",
      "           9     0.8233    0.7957    0.8093       328\n",
      "          10     0.6990    0.5625    0.6234       256\n",
      "          11     0.8690    0.8615    0.8652       462\n",
      "          12     0.8836    0.7696    0.8227       217\n",
      "          13     0.8521    0.8713    0.8616       443\n",
      "          14     0.9423    0.9316    0.9369       263\n",
      "          15     0.9112    0.8850    0.8979       313\n",
      "          16     0.9513    0.9612    0.9562      1057\n",
      "\n",
      "    accuracy                         0.8840      8141\n",
      "   macro avg     0.8642    0.8504    0.8560      8141\n",
      "weighted avg     0.8815    0.8840    0.8820      8141\n",
      "\n"
     ]
    }
   ],
   "source": [
    "print(\"MLP\")\n",
    "ClassifyDocs(text_df, \"mlp\", [1,100])\n",
    "print(\"MultinomialNB\")\n",
    "ClassifyDocs(text_df, \"multinomialNB\", [])\n",
    "print(\"Ridge\")\n",
    "class_params = [1e-2, \"sparse_cg\"]\n",
    "ClassifyDocs(text_df, \"ridge\", class_params)"
   ]
  },
  {
   "cell_type": "markdown",
   "metadata": {},
   "source": [
    "**Exercise 5.1**"
   ]
  },
  {
   "cell_type": "code",
   "execution_count": 9,
   "metadata": {},
   "outputs": [
    {
     "ename": "AttributeError",
     "evalue": "'DataFrame' object has no attribute 'embedding'",
     "output_type": "error",
     "traceback": [
      "\u001b[0;31m---------------------------------------------------------------------------\u001b[0m",
      "\u001b[0;31mAttributeError\u001b[0m                            Traceback (most recent call last)",
      "Cell \u001b[0;32mIn[9], line 1\u001b[0m\n\u001b[0;32m----> 1\u001b[0m docs \u001b[38;5;241m=\u001b[39m text_df\u001b[38;5;241m.\u001b[39membedding\u001b[38;5;241m.\u001b[39mtolist()\n\u001b[1;32m      2\u001b[0m scaler \u001b[38;5;241m=\u001b[39m preprocessing\u001b[38;5;241m.\u001b[39mMinMaxScaler()\u001b[38;5;241m.\u001b[39mfit(docs)\n\u001b[1;32m      3\u001b[0m X \u001b[38;5;241m=\u001b[39m scaler\u001b[38;5;241m.\u001b[39mtransform(docs)\n",
      "File \u001b[0;32m/opt/anaconda3/envs/nlp/lib/python3.11/site-packages/pandas/core/generic.py:5902\u001b[0m, in \u001b[0;36mNDFrame.__getattr__\u001b[0;34m(self, name)\u001b[0m\n\u001b[1;32m   5895\u001b[0m \u001b[38;5;28;01mif\u001b[39;00m (\n\u001b[1;32m   5896\u001b[0m     name \u001b[38;5;129;01mnot\u001b[39;00m \u001b[38;5;129;01min\u001b[39;00m \u001b[38;5;28mself\u001b[39m\u001b[38;5;241m.\u001b[39m_internal_names_set\n\u001b[1;32m   5897\u001b[0m     \u001b[38;5;129;01mand\u001b[39;00m name \u001b[38;5;129;01mnot\u001b[39;00m \u001b[38;5;129;01min\u001b[39;00m \u001b[38;5;28mself\u001b[39m\u001b[38;5;241m.\u001b[39m_metadata\n\u001b[1;32m   5898\u001b[0m     \u001b[38;5;129;01mand\u001b[39;00m name \u001b[38;5;129;01mnot\u001b[39;00m \u001b[38;5;129;01min\u001b[39;00m \u001b[38;5;28mself\u001b[39m\u001b[38;5;241m.\u001b[39m_accessors\n\u001b[1;32m   5899\u001b[0m     \u001b[38;5;129;01mand\u001b[39;00m \u001b[38;5;28mself\u001b[39m\u001b[38;5;241m.\u001b[39m_info_axis\u001b[38;5;241m.\u001b[39m_can_hold_identifiers_and_holds_name(name)\n\u001b[1;32m   5900\u001b[0m ):\n\u001b[1;32m   5901\u001b[0m     \u001b[38;5;28;01mreturn\u001b[39;00m \u001b[38;5;28mself\u001b[39m[name]\n\u001b[0;32m-> 5902\u001b[0m \u001b[38;5;28;01mreturn\u001b[39;00m \u001b[38;5;28mobject\u001b[39m\u001b[38;5;241m.\u001b[39m\u001b[38;5;21m__getattribute__\u001b[39m(\u001b[38;5;28mself\u001b[39m, name)\n",
      "\u001b[0;31mAttributeError\u001b[0m: 'DataFrame' object has no attribute 'embedding'"
     ]
    }
   ],
   "source": [
    "from sklearn import preprocessing\n",
    "from sklearn.multiclass import OneVsRestClassifier\n",
    "from sklearn.preprocessing import LabelBinarizer\n",
    "\n",
    "import tensorflow as tf\n",
    "import tensorflow_hub as hub\n",
    "\n",
    "# change this to your own embedding directory\n",
    "embedding_dir = \"embeddings/\"\n",
    "\n",
    "# load the embedding\n",
    "embed = hub.load(embedding_dir + \"universal-sentence-encoder_4\")\n",
    "\n",
    "text_df[\"embedding\"] = list(embed(text_df.text))\n",
    "\n",
    "file_name = \"sdg_names_definitions.csv\"\n",
    "sdg_names = pd.read_csv(data_dir + file_name)\n",
    "\n",
    "docs = text_df.embedding.tolist()\n",
    "scaler = preprocessing.MinMaxScaler().fit(docs)\n",
    "X = scaler.transform(docs)\n",
    "y = text_df.sdg\n",
    "\n",
    "label_binarizer = LabelBinarizer().fit(y)\n",
    "y_onehot = label_binarizer.transform(y)\n",
    "n_classes = len(label_binarizer.classes_)\n",
    "class_names = [sdg_names[sdg_names[\"sdg\"] == label_binarizer.classes_[i]].sdg_name.item() \\\n",
    "               for i in range(n_classes)]\n",
    "\n",
    "X_train, X_test, y_train, y_test = train_test_split(X, y_onehot, test_size=.33, random_state=0)\n",
    "ovr_mlp_clf = OneVsRestClassifier(MLPClassifier(random_state=0, max_iter=300)).fit(X_train,y_train)\n",
    "y_score = ovr_mlp_clf.predict_proba(X_test)"
   ]
  }
 ],
 "metadata": {
  "kernelspec": {
   "display_name": "nlp",
   "language": "python",
   "name": "python3"
  },
  "language_info": {
   "codemirror_mode": {
    "name": "ipython",
    "version": 3
   },
   "file_extension": ".py",
   "mimetype": "text/x-python",
   "name": "python",
   "nbconvert_exporter": "python",
   "pygments_lexer": "ipython3",
   "version": "3.11.3"
  }
 },
 "nbformat": 4,
 "nbformat_minor": 2
}
