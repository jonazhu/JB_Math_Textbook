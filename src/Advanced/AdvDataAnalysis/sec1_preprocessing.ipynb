{
 "cells": [
  {
   "attachments": {},
   "cell_type": "markdown",
   "metadata": {},
   "source": [
    "<h1>1. Preprocessing</h1>"
   ]
  },
  {
   "attachments": {},
   "cell_type": "markdown",
   "metadata": {},
   "source": [
    "Usually, natural language processors (NLP) refer to both speech data and textual data. There are several components necessary to understand the structure and meaning of human language.\n",
    "\n",
    "From a linguistics perspective, it is important to look at the following:\n",
    " - syntax, the actual rules that define how words are combined to form understandable sentences;\n",
    " - semantics, referring to the meaning behind the phrases and sentences formed by syntax;\n",
    " - morphology, referring to the ways in which words can take different forms.\n",
    "\n",
    "Then, from a computational perspective, we can take the rules from the linguistics aspects and transform linguistic knowledge into rule-based and/or ML-based algorithms to solve problems related to natural language processing.\n",
    "\n",
    "\n"
   ]
  },
  {
   "attachments": {},
   "cell_type": "markdown",
   "metadata": {},
   "source": [
    "<b>Exercise 1.1:</b> Explore the Allen NLP demos found at https://demo.allennlp.org/sentiment-analysis/glove-sentiment-analysis. \n",
    "<ol>\n",
    "<li>Choose either of the two sentiment analysis algorithms and use any of the provided example sentences. Look under CLI Output. How do the algorithms take the example input sentence and transform it?</li>\n",
    "<li> Look under Model Interpretations and Model Attacks, which visualize the most important words in the sentence. Which words seem to be important, and which ones are often removed? </li>\n",
    "<li>Try some of your own sentences. Does the algorithm seem to be accurate?</li>\n",
    "</ol>"
   ]
  },
  {
   "attachments": {},
   "cell_type": "markdown",
   "metadata": {},
   "source": [
    "<h2>1.1 Tasks</h2>\n",
    "Within the realm of preprocessing textual data, we first must perform certain detections and tasks; this ensures that we have textual data that makes sense and is meaningful. The following all help at ensuring data cleanliness:\n",
    "\n",
    " - <b>Syntactic analysis:</b> Does the grammar make sense? Is the text gramatically correct?\n",
    " - <b>Semantic analysis:</b> Are we aware of the meaning of the words in context?  Do we understand the structure, word interaction, and related concepts of the text?\n",
    " - <b>Keyword extraction:</b> What are the most important words in the text?\n",
    " - <b>Named entity resolution:</b> How do we identify and extract entities (names, organizations, addresses and places) and relationships? \n",
    " - <b>Text classification:</b> Can we organize our text into predefined categories? Ways of doing this include:\n",
    "   - <b>Sentiment analysis:</b> Can we classify text (like customer feedback) into positive and negative feedback?\n",
    "   - <b>Email filtering:</b> If we are taking our texts from emails, can we classify email text as spam mail and remove spam?\n",
    "   - <b>Intent detection:</b> What is the text generator trying to achieve? For example, searching “apple” could indicate an intent of buying, eating, or researching apples.\n",
    "   - <b>Language detection:</b> Can we classify the body of text into languages, with an associated probability?\n",
    "\n",
    "<b>Exercise 1.2:</b> Explore another Allen NLP demo found at https://demo.allennlp.org/next-token-lm. \n",
    "<ol>\n",
    "<li>Try some of the provided example sentences, and give the probabilities for the sentences with the highest score. </li>\n",
    "</ol>\n"
   ]
  },
  {
   "attachments": {},
   "cell_type": "markdown",
   "metadata": {},
   "source": [
    "<h2>1.2 Levels of Processing</h2>\n",
    "\n",
    "In (almost) any language, there are distinct levels of a text we can focus on: <b>characters</b> are strung together to form <b>words</b>, which are put together into <b>sentences</b>, then <b>paragraphs</b>, <b>documents</b>, and a whole set of documents, or a <b>corpus</b>. In all these cases, we put multiples together to make the next level, and decisions in preprocessing at one level will inherently impact the next level.\n",
    "\n",
    "We will not be focusing on using algorithms to process whole documents or anything above that level, so we can look at preprocessing at the remaining levels: characters, words, sentences, and paragraphs. \n",
    "\n",
    "<b>For characters</b>, we typically process textual data by removing special characters, punctuations, and normalizations. However, this is not necessarily the case for every NLP approach. In some cases, taking away these special characters, punctuations, and normalizations will completely alter the meaning of higher levels of text.\n",
    "\n",
    "<b>For words</b>, we first have to define words within our text snippets. This is known as segmenting: in the English language, we can use white space to segment text into words. However, this is not always the case with other languages, so it is important to know the linguistic rules of the primary language you are working with. Additionally, we perform some removals and/or replacements for odd words such as abbreviations, acronyms, numbers, and misspelled words. Finally, we normalize our text data; this is typically done by stemming (covered later in this section) or lemmatization.\n",
    "\n",
    "<b>For sentences</b>, we first have to define sentence boundaries. In most languages, including English, sentences are started with a capital letter and ended with a period. However, periods and capital letters are also used within sentences, and captial letters or periods might not even exist in other languages, again stressing the importance of knowing the language's rules.  Within sentences, we can also mark phrases. In English sentences, we can typically label phrases of sentences with a subject, predicate, and object; the subject is the one performing the action, or predicate, on or directed towards the object. Finally, we parse the sentence, or tag the words with their respective part of speech. Note that this can only be done on the sentence level, not the word level, as the same word can have a different part of speech depending on how it is used in a sentence.\n",
    "\n",
    "Finally, <b>for paragraphs</b>, our primary level of preprocessing is to understand the text by extracting the meaning of the text. This can include sentiments, emotions, intentions, etc. A good way of doing this is to perform abstractive summarization, or constructing new text that is similar in meaning to the old text. \n"
   ]
  },
  {
   "attachments": {},
   "cell_type": "markdown",
   "metadata": {},
   "source": [
    "The actual process of text preprocessing, however, does not necessarily flow distinctly from one level to another. The order of preprocessing steps, as well as whether or not to include specific steps, depends largely on the application. An example process is given here: \n",
    "<ol>\n",
    "<li>Segmentation: breaking text into sentences</li>\n",
    "<li>Spelling correction</li>\n",
    "<li>Noise removal: includes text that would otherwise confuse the main text, including emojis, foreign language, and http links</li>\n",
    "<li>Language detection: identifying the language used in a body of text</li>\n",
    "<li>Stop-words removal: these words are typically high frequency, generic, and less context specific\n",
    "change cases</li>\n",
    "<li>Lemmatization</li>\n",
    "<li>Tokenization: break texts into words, phrases, symbols, and other semantically useful units, meaningful elements</li>\n",
    "<li>Parsing: part of speech identification</li>\n",
    "<li>Standardization</li>\n",
    "<li>Stemming: reduces tokens to base forms (stems), removes affixes</li>\n",
    "</ol>\n",
    "\n",
    "Many of these steps may be unfamiliar - that is perfectly fine, as they will be covered later in this section. \n",
    "\n",
    "It is commonly accepted that preprocessing text helps improve accuracy, so it is critical to perform good, appropriate preprocessing.\n",
    "\n"
   ]
  },
  {
   "attachments": {},
   "cell_type": "markdown",
   "metadata": {},
   "source": [
    "<h2>1.3 Procedures</h2>\n",
    "\n",
    "<h3>1.3.1 Stemming </h3>\n",
    "\n",
    "Developed by Martin Porter in 1980, the <b>Porter Stemmer</b> is the oldest and most commonly used stemming algorithm in many languages. It is slightly time consuming, so another stemming algorithm that can be used is the Lancaster stemmer. This stemmer is very aggressive, however, and is especially harmful for short tokens, where the token itself may become unclear or altered to a point where it loses meaning.\n",
    "\n",
    "As mentioned previously, stemming is performed to help normalize our textual data; this is done so that we do not end up with many different words with very similar meaning. For example, stemming turns \"watch\", \"watched\", \"watching\", and \"watches\" into \"watch\". To do this, the algorithm accesses a database where known word forms, such as the various forms of \"watch\", are grouped together, then analyzes the text for all instances of these forms and turns them all into the root word. Stemmers also typically perform preprocessing tasks like turning words not at the beginning of a sentence into lowercase and removing stop words, which are common words like \"the\" and \"that\" which show up in a variety of contexts and typically do not change meaning across these contexts.\n",
    "\n",
    "However, there are always irregularities when using any stemming algorithm. Take the following examples: \n",
    "<ul>\n",
    "<li>\"I bought an Apple\" vs. \"I bought an apple\": Here, the stemming algorithm removed the capital on \"Apple\", but we can clearly see that this drastically altered the meaning; now, the speaker has bought a fruit instead of a product from the company Apple.  </li>\n",
    "<li>\"I watched <i>The Who</i>\" => remove stop words => \"I watched\": Here, the stemming algorithm removed the stop words \"the\" and \"who\", but this again changed the meaning of the sentence. Here, instead of watching the TV show <i>The Who</i>, the speaker has now watched something unspecified.</li> \n",
    "<li>\"Take that!\" => remove stop words => \"Take\": Like the above example, the stemming algorithm removed a stop word, \"that\". However, the sentence now loses all meaning: it is no longer a complete sentence, and without the \"that\" which served to add a violent, fighting intent to the original sentence, this emotion and intent is completely gone.\n",
    "</ul>\n"
   ]
  },
  {
   "attachments": {},
   "cell_type": "markdown",
   "metadata": {},
   "source": [
    "<h3>1.3.2 Translation</h3>\n",
    "\n",
    "Language detection is easy using pre-existing algorithms, including Google Translate, which can be downloaded and installed for use in Python with the following:"
   ]
  },
  {
   "cell_type": "code",
   "execution_count": null,
   "metadata": {},
   "outputs": [],
   "source": [
    "conda install fasttext\n",
    "pip  install googletrans==3.1.0a0\n",
    "conda install -c conda-forge langdetect \n",
    "conda install -c conda-forge spacy_langdetect\n"
   ]
  },
  {
   "attachments": {},
   "cell_type": "markdown",
   "metadata": {},
   "source": [
    "To use the translation service, we can run the following code to import and load the model, then use it to predict languages:"
   ]
  },
  {
   "cell_type": "code",
   "execution_count": null,
   "metadata": {},
   "outputs": [],
   "source": [
    "import fasttext\n",
    "model = fasttext.load_model('lid.176.ftz')\n",
    "print(model.predict('الشمس تشرق', k=2))  # top 2 matching languages\n",
    "print(model.predict(\"影響包含對氣候的變化以及自然資源的枯竭程度\",k=2))  # top 2 matching languages\n",
    "print(model.predict(t1, k=3))\n",
    "print(model.predict('四个全面', k=3))\n",
    "\n",
    "from langdetect import detect, DetectorFactory\n",
    "DetectorFactory.seed = 0\n",
    "detect('四个和尚没水喝'), detect('今一はお前さん')\n",
    "\n",
    "from googletrans import Translator\n",
    "t = Translator().detect(\"四个和尚\")\n",
    "t.lang, t.confidence"
   ]
  },
  {
   "attachments": {},
   "cell_type": "markdown",
   "metadata": {},
   "source": [
    "<b>Exercise 1.3:</b> Run the previous lines of code.\n",
    "<ol>\n",
    "<li>What are the matching languages for the provided example sentences?</li>\n",
    "<li>How confident is the translator in the predicted language for the final sentence?</li>\n",
    "</ol>"
   ]
  },
  {
   "attachments": {},
   "cell_type": "markdown",
   "metadata": {},
   "source": [
    "<h3>1.3.3 Parts of Speech</h3>\n",
    "\n",
    "In addition to splitting sentences and texts into tokens, it is also important to add the appropriate part of speech to tokens within the text. \n",
    "\n",
    "For the example sentence “The dog ate the bone”, we can first split the sentence into a noun phrase (NP), \"the dog\", and a verb phrase (VP), \"ate the bone\". The first NP can be split into a determinant (D) \"the\", and a noun (N) \"dog\". The VP can be split into a verb \"ate\", and another NP \"the bone\", which then gest split in a similar manner. Hence was have labeled every word with its appropriate part of speech.\n",
    "\n",
    "<b>Exercise 1.4:</b> Perform this similar breakdown and labeling with the following sentences. \n",
    "<ol>\n",
    "<li>“This is a sentence.”</li>\n",
    "<li>\"Er lebt mit seinen Eltern und seiner Schwester in Berlin.\" (use a translator for help)</li>\n",
    "<li>“In China today, President Xi Jinping…”</li>\n",
    "</ol>\n",
    "\n",
    "Now use the provided code to see how the computer labels these words. How are they similar or different from your labeling?\n"
   ]
  },
  {
   "attachments": {},
   "cell_type": "markdown",
   "metadata": {},
   "source": [
    "<h3>1.3.4 Tokenizers</h3>\n",
    "\n",
    "The primary goal of a tokenizer is to break text into tokens. This is highly language dependent; in English, we use white space and punctuations to as word and token separators, but this may not work in some languages. \n",
    "\n",
    "For the purposes of building ML models, there are several things that tokenizers track in addition to creating the tokens themselves. Tokenizers track <i>features</i>, or the frequency of occurrence of each individual token (normalized or not). They also produce a <i>sample</i>, or a vector of all the token frequencies for a given document. \n",
    "\n",
    "When a tokenizer vectorizes a corpus, it counts the occurrences of tokens in each document, normalizes and weights these occurrences, and constructs an n-gram, which is discussed in the next section.\n",
    "\n"
   ]
  },
  {
   "attachments": {},
   "cell_type": "markdown",
   "metadata": {},
   "source": [
    "<h3>1.3.5 Named Entity Recognition</h3>\n",
    "\n",
    "The purpose of named entity recognition (NER) is self-explanatory; it extracts entities from data.\n",
    "\n",
    "<b>Exercise 1.5:</b> Try the Allen NLP NER demo found at https://demo.allennlp.org/named-entity-recognition/named-entity-recognition. \n",
    "<ol>\n",
    "<li>Use the below sentence in the demo. Which phrases are labeled as named entities? </li>\n",
    "\n",
    "'The Israel Oceanographic and Limnological Research station monitors the quantity and quality of water along the coastline of the Mediterranean Sea. The Nature and Parks Authority (NPA) monitors water quality in rivers on behalf of the MoEP. Mekorot and local authorities monitor drinking water quality under the supervision of the Ministry of Health. The Ministry of Health monitors effluent quality prior to its use in the agricultural sector.'\n",
    "\n",
    "<li>Now use text.lower() to make the entire sentence lowercase and use that as an input into the Allen NLP NER. Which phrases are now labeled as named entities?</li>\n",
    "\n",
    "'the israel oceanographic and limnological research station monitors the quantity and quality of water along the coastline of the mediterranean sea. the nature and parks authority (npa) monitors water quality in rivers on behalf of the moep. mekorot and local authorities monitor drinking water quality under the supervision of the ministry of health. the ministry of health monitors effluent quality prior to its use in the agricultural sector.'\n",
    "\n",
    "</ol>\n"
   ]
  },
  {
   "attachments": {},
   "cell_type": "markdown",
   "metadata": {},
   "source": [
    "<h3>1.3.6 String Operations</h3>\n",
    "\n",
    "Now that we know about various preprocessing techniques, we can review some basic string operations. These will also be important in identifying various sentences and tokens within our dataset in case we would like to focus on specific words, or it can help in identifying cases, numeric characters, and other tests that we might need to conduct."
   ]
  },
  {
   "cell_type": "code",
   "execution_count": null,
   "metadata": {},
   "outputs": [],
   "source": [
    "s.startswith(t) #test if s starts with t\n",
    "s.endswith(t) #test if s ends with t\n",
    "t in s # test if t is a substring of s\n",
    "s.islower() # test if s contains cased characters and all are lowercase\n",
    "s.isupper() # test if s contains cased characters and all are uppercase\n",
    "s.isalpha() # test if s is non-empty and all characters in s are alphabetic\n",
    "s.isalnum() # test if s is non-empty and all characters in s are alphanumeric\n",
    "s.isdigit() # test if s is non-empty and all characters in s are digits\n",
    "s.istitle() # test if s contains cased characters and is titlecased (i.e. all words in s have initial capitals)\n"
   ]
  },
  {
   "attachments": {},
   "cell_type": "markdown",
   "metadata": {},
   "source": [
    "<h2>1.4 More Exercises</h2>"
   ]
  }
 ],
 "metadata": {
  "kernelspec": {
   "display_name": "nlp",
   "language": "python",
   "name": "python3"
  },
  "language_info": {
   "codemirror_mode": {
    "name": "ipython",
    "version": 3
   },
   "file_extension": ".py",
   "mimetype": "text/x-python",
   "name": "python",
   "nbconvert_exporter": "python",
   "pygments_lexer": "ipython3",
   "version": "3.11.3"
  },
  "orig_nbformat": 4
 },
 "nbformat": 4,
 "nbformat_minor": 2
}
