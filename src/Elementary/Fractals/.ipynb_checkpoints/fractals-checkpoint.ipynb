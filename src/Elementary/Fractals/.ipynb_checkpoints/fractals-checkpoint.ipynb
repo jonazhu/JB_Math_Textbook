{
 "cells": [
  {
   "cell_type": "markdown",
   "metadata": {},
   "source": [
    "# Fractals\n",
    "\n",
    "\n",
    "<img src=\"Tfractal.png\" width=\"300px\">"
   ]
  },
  {
   "cell_type": "markdown",
   "metadata": {},
   "source": [
    "```{Note}\n",
    "Fractal geometry creates many interesting shapes. One type of fractal pattern is obtained by an iterative process. For example, an equilateral triangle may be subdivided into 4 smaller equilateral triangle.  In turn, each smaller equilateral triangle can be subdivided into 4 even smaller equilateral triangles, and so on.  The goal of the puzzle is to figure out the iterative process for each row, and apply it.\n",
    "```"
   ]
  },
  {
   "cell_type": "markdown",
   "metadata": {},
   "source": [
    "<img src=\"fractal.png\" width=\"600px\">"
   ]
  }
 ],
 "metadata": {
  "kernelspec": {
   "display_name": "Python 3",
   "language": "python",
   "name": "python3"
  },
  "language_info": {
   "codemirror_mode": {
    "name": "ipython",
    "version": 3
   },
   "file_extension": ".py",
   "mimetype": "text/x-python",
   "name": "python",
   "nbconvert_exporter": "python",
   "pygments_lexer": "ipython3",
   "version": "3.8.8"
  }
 },
 "nbformat": 4,
 "nbformat_minor": 2
}
