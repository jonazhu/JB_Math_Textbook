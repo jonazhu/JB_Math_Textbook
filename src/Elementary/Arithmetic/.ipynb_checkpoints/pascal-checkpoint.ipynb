{
 "cells": [
  {
   "cell_type": "markdown",
   "metadata": {},
   "source": [
    "# Pascal's Triangle\n",
    "\n",
    "<img src=\"Tpascal.png\" width=\"400px\">"
   ]
  },
  {
   "cell_type": "markdown",
   "metadata": {},
   "source": [
    "```{Note}\n",
    "Pascal's triangle is used to determine the coefficients in a binomial expansion (x+y)^n.  \n",
    "For example, if n=1, the coefficients are 1,1:  (x+y)^1= 1 x + 1 y.\n",
    "If n=2, the coefficients are 1,2,1: (x+y)^2= 1 x^2 + 2 xy + 1 y^2\n",
    "```"
   ]
  },
  {
   "cell_type": "markdown",
   "metadata": {},
   "source": [
    "<img src=\"pascal.png\" width=\"600px\">"
   ]
  }
 ],
 "metadata": {
  "kernelspec": {
   "display_name": "Python 3",
   "language": "python",
   "name": "python3"
  },
  "language_info": {
   "codemirror_mode": {
    "name": "ipython",
    "version": 3
   },
   "file_extension": ".py",
   "mimetype": "text/x-python",
   "name": "python",
   "nbconvert_exporter": "python",
   "pygments_lexer": "ipython3",
   "version": "3.8.8"
  }
 },
 "nbformat": 4,
 "nbformat_minor": 2
}
