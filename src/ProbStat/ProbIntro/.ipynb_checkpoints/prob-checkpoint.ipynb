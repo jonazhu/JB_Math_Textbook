{
 "cells": [
  {
   "cell_type": "markdown",
   "metadata": {},
   "source": [
    "# Introduction\n",
    "\n",
    "<span style='font-size:medium'>The </span><span style='font-size:medium'>**probability**</span><span style='font-size:medium'> is the chance or likelihood that a given event will occur. For example, we can ask, \"What is the probability that it will rain tomorrow?\" Probability is a branch of mathematics concerned with the study of probabilities.</span>\n",
    "\n",
    "<span style='font-size:medium'>We quantify the probabilities of various events in this chapter. We do both mathematical analysis and computation. As in other fields of mathematics, mathematical understanding guides the choices of what to compute, and insights gained from computational exploration enhance mathematical understanding.</span>\n",
    "\n",
    "# Random numbers\n",
    "\n",
    "<span style='font-size:medium'>Many areas of study involve random numbers. Examples include probability, computational science, data science, and statistics.</span>\n",
    "\n",
    "## <span style='font-size:medium'>Arbitrariness</span>\n",
    "\n",
    "<span style='font-size:medium'>When you tell a friend to \"Pick a number between 1 and 10,\" you may think you are telling the friend to pick a </span><span style='font-size:medium'>**random**</span><span style='font-size:medium'> number. However, for true randomness, each outcome 1, 2, 3, ..., 10 must be equally likely. It turns out that people have a preference, usually unconscious, for picking some numbers over others. Therefore, you are really telling the friend to pick an </span><span style='font-size:medium'>**arbitrary**</span><span style='font-size:medium'> integer between 1 and 10, rather than a random one.</span>\n",
    "\n",
    "## <span style='font-size:medium'>Pseudo\\-randomness</span>\n",
    "\n",
    "<span style='font-size:medium'>Even when computers do the choosing, most of time we should only say we have generated pseudo\\-random \\(fake random\\) numbers. A pseudo\\-random number generator, or PRNG, is a program that uses mathematical methods to </span><span style='font-size:medium'>**simulate**</span><span style='font-size:medium'> \\(mimic\\) randomness. </span>\n",
    "\n",
    "<span style='font-size:medium'>The basic process is to:</span>\n",
    "\n",
    "1. <span style='font-size:medium'>Provide the PRNG with an arbitrary seed \\(starting condition\\).</span>\n",
    "2. <span style='font-size:medium'>Ask the PRNG for the next \"random\" number. It is produced by a step\\-by\\-step, complicated, but not random, process.</span>\n",
    "\n",
    "<span style='font-size:medium'>Such a generator is also called a </span><span style='font-size:medium'>**deterministic**</span><span style='font-size:medium'> random bit generator. \"Deterministic\" means causally determined by preceding actions. The word \"deterministic\" is typically used in contrast to \"random.\"</span>\n",
    "\n",
    "<span style='font-size:medium'>Sometimes, researchers use a cryptographically secure pseudo\\-random number generator \\(CSPRNG\\). A CSPRNG may sound like it uses true randomness \\(for strong security\\). However, you cannot safely assume that you have a completely fair \\(unbiased\\) \"coin flip\" or means of selection, even in this context. Fortunately, though, the prescriptive \\(deterministic\\) mechanism involved is hard to reverse, ensuring some measure of security. The key is to have a CSPRNG that is good enough for the application at hand.</span>\n",
    "\n",
    "## <span style='font-size:medium'>\\(Pseudo\\-\\)random number generation in Python</span>\n",
    "\n",
    "<span style='font-size:medium'>People typically speak of computers </span><span style='font-size:medium'>**generating random numbers**</span><span style='font-size:medium'>. We will use this language when we use Python. However, Python \\(or Excel, Java, C, C\\+\\+, or R\\) is technically doing pseudo\\-random number generation.</span>\n",
    "\n",
    "<span style='font-size:medium'>In Python, a default mechanism is used to set the seed for the PRNG. If you want to use the default mechanism explicitly, you can import the</span><span style='font-size:medium'>`random`</span><span style='font-size:medium'>library and do</span>\n",
    "\n"
   ]
  },
  {
   "cell_type": "code",
   "execution_count": 3,
   "metadata": {},
   "outputs": [],
   "source": [
    "import random\n",
    "random.seed()"
   ]
  },
  {
   "cell_type": "markdown",
   "metadata": {},
   "source": [
    "<span style='font-size:medium'>If for any reason you wanted to set the seed to a specific integer, such as 123, you could do</span>\n"
   ]
  },
  {
   "cell_type": "code",
   "execution_count": 5,
   "metadata": {},
   "outputs": [],
   "source": [
    "random.seed(123)"
   ]
  },
  {
   "cell_type": "markdown",
   "metadata": {},
   "source": [
    "## <span style='font-size:medium'>True randomness</span>\n",
    "\n",
    "<span style='font-size:medium'>A truly random number cannot simply be generated from a certain </span><span style='font-size:medium'>**algorithm**</span><span style='font-size:medium'> \\(detailed method\\) or by a computer itself \\(unless the computer is purposely re\\-designed\\). Truly\\-random number generation is possible when we consider some physical phenomenon or process, such as atmospheric noise \\(static from lightning discharges\\), cosmic background radiation, etc. While truly random numbers are useful in many practical fields, it is sufficient for us to generate and use pseudo\\-random numbers in this book. </span>\n",
    "\n"
   ]
  },
  {
   "cell_type": "markdown",
   "metadata": {},
   "source": [
    "## <span style='font-size:medium'>Exercises</span>\n",
    "\n",
    "<span style='font-size:medium'>Exercise 1. Which statement is probably more accurate? Why?</span>\n",
    "\n",
    "- <span style='font-size:medium'>The teacher posed the question to a student he picked at random.</span>\n",
    "- <span style='font-size:medium'>The teacher posed the question to a student he picked arbitrarily.</span>\n",
    "\n",
    "<span style='font-size:medium'>Exercise 2: What is the difference between a number chosen at random and a number chosen arbitrarily?</span>\n",
    "\n",
    "<span style='font-size:medium'>Exercise 3: True or false\\-\\-\\- An arbitrary choice may involve convenience. Justify your answer. Give an example.</span>\n",
    "\n",
    "<span style='font-size:medium'>Exercise 4: True or false\\-\\-\\- An arbitrary choice may involve some preference. Justify your answer. Give an example.</span>\n",
    "\n",
    "<span style='font-size:medium'>Exercise 5: Give an example of how randomness might be involved in a study investigating a new medicine. Explain how randomness is involved.</span>\n",
    "\n",
    "<span style='font-size:medium'>Exercise 6: Give an example of how randomness might occur in the natural world. Explain how randomness is involved.</span>\n",
    "\n",
    "<span style='font-size:medium'>Exercise 7: Give an example of how randomness might occur in a game. Explain how randomness is involved.</span>\n",
    "\n",
    "<span style='font-size:medium'>Exercise 8: What is the difference between a pseudo\\-random number and a truly random number? Give an example of each, and explain why the example is pseudo random or truly random, respectively.</span>\n",
    "\n",
    "<span style='font-size:medium'>Exercise 9: Can we be certain that there is an equal chance that each of the six sides of a physical die \\(plural: dice\\) is facing up? \\(See image of two dice below.\\) Or could there be a bias toward some sides? Could there be a correlation between the outcome of a roll of the die and the previous roll?</span>\n",
    "\n"
   ]
  },
  {
   "cell_type": "markdown",
   "metadata": {},
   "source": [
    "<figure>\n",
    "    <img src='https://upload.wikimedia.org/wikipedia/commons/thumb/c/c4/2-Dice-Icon.svg/240px-2-Dice-Icon.svg.png' alt='Dice icon by Steaphan Greene, licensed under CC BY-SA 3.0.'>\n",
    "    <figcaption>Dice icon by Steaphan Greene, licensed under CC BY-SA 3.0.</figcaption>\n",
    "</figure>\n"
   ]
  },
  {
   "cell_type": "markdown",
   "metadata": {},
   "source": [
    "<span style='font-size:medium'>Exercise 10: Consider the following answer to the question \"True or false\\-\\-\\- An arbitrary choice is made for no special reason\":</span>\n",
    "\n",
    "<span style='font-size:medium'>_\"Yes, an arbitrary choice typically refers to a decision or selection that is made without any specific reason or justification. It means that there is no objective or rational basis for choosing one option over another. Arbitrary choices are often made when there is no clear preference or when the decision doesn't have a significant impact on the outcome. In such cases, people may resort to random selection, personal whim, or other non\\-logical factors to make a choice.\" \\(ChatGPT, personal communication, June 6, 2023\\)._</span>\n",
    "\n",
    "<span style='font-size:medium'>Provide a critique for which parts are right \\(if any\\). Provide justification for why they are correct. Identify which parts are wrong \\(if any\\) and explain what is wrong. Rewrite the answer in your own words with any corrections that are needed. \\(Retain the citation as with any paraphrased material.\\) Add an example that you think of yourself to clarify the answer to the true/false question.</span>\n",
    "\n",
    "<span style='font-size:medium'>Exercise 11: Use the code below to explore Python commands in the</span><span style='font-size:medium'>`random`</span><span style='font-size:medium'>library and read the documentation. For each</span><span style='font-size:medium'>`print`</span><span style='font-size:medium'>statement, insert a comment \\(using</span><span style='font-size:medium'>`#`</span><span style='font-size:medium'>\\) that describes all the possible numbers that can be generated. </span>\n",
    "\n"
   ]
  },
  {
   "cell_type": "code",
   "execution_count": 6,
   "metadata": {},
   "outputs": [
    {
     "name": "stdout",
     "output_type": "stream",
     "text": [
      "0\n",
      "3\n",
      "1\n",
      "4\n",
      "4\n",
      "11.07700234938439\n"
     ]
    }
   ],
   "source": [
    "print(random.randrange(6))\n",
    "print(random.randrange(6) + 1)\n",
    "print(random.randrange(1, 7))\n",
    "print(random.randint(1, 6))\n",
    "print(random.randrange(0, 10, 2))\n",
    "print(random.uniform(10,20))"
   ]
  },
  {
   "cell_type": "markdown",
   "metadata": {},
   "source": [
    "# Probability\n",
    "\n",
    "<span style='font-size:medium'>Consider a six\\-sided die. \\(See image of two six\\-sided dice in the previous section.\\) The die can be used to select a number between 1 and 6 inclusive. By </span><span style='font-size:medium'>**inclusive**</span><span style='font-size:medium'>, we mean inclusive of the \"end points\" 1 and 6 \\(as well as of 2, 3, 4, and 5\\). The die can be used to select one of the numbers in an approximately random manner, modulo the slight imperfections \\(physical asymmetries\\) in the die.</span>\n",
    "\n",
    "<span style='font-size:medium'>Suppose you roll a perfect die </span>$n$<span style='font-size:medium'> times and keep a record of each outcome.</span>\n",
    "\n",
    "<span style='font-size:medium'>We list the following problems: What is the chance or </span><span style='font-size:medium'>**probability**</span><span style='font-size:medium'> that...</span>\n",
    "\n",
    "1. <span style='font-size:medium'>the die lands on a given number \\(say, 3\\) on the first roll?</span>\n",
    "2. <span style='font-size:medium'>the die lands on a given number \\(say, 4\\) on the second roll?</span>\n",
    "3. <span style='font-size:medium'>the die lands on a 1 or 6 on the first roll?</span>\n",
    "4. <span style='font-size:medium'>the die lands on the same number on the first two rolls?</span>\n",
    "5. <span style='font-size:medium'>the die lands on 1, 2, 3, 4, 5, and then 6 when rolled six times $n=6$)?</span>\n",
    "\n",
    "<span style='font-size:medium'>The </span><span style='font-size:medium'>**probability**</span><span style='font-size:medium'> of an event, given a set of all of the equally likely outcomes, is the ratio </span>\n",
    "\n",
    "$$\\frac{\\text{the number of outcomes that produce the event}}{\\text{the total number of possible outcomes}}.$$\n",
    "\n",
    "<span style='font-size:medium'>Does this definition help you answer Problem 1? Give it a try. Then read on!</span>\n",
    "\n",
    "<span style='font-size:medium'>We can answer all of Problems 1\\-\\-5 </span><span style='font-size:medium'>**approximately**</span><span style='font-size:medium'> by using </span><span style='font-size:medium'>**computer simulation**</span><span style='font-size:medium'>. The computer </span><span style='font-size:medium'>**simulates**</span><span style='font-size:medium'> or </span><span style='font-size:medium'>**imitates**</span><span style='font-size:medium'> the rolling of a physical die. We can generate \\(pseudo\\-\\)random numbers many times and see what fraction of the cases result in the target outcome. Also, we can answer Problems 1\\-\\-5 </span><span style='font-size:medium'>**exactly**</span><span style='font-size:medium'> by using </span><span style='font-size:medium'>**mathematical ideas**</span><span style='font-size:medium'>. </span>\n",
    "\n",
    "## <span style='font-size:medium'>Definitions and facts</span>\n",
    "\n",
    "<span style='font-size:medium'>Definitions and rules. The </span><span style='font-size:medium'>**sample space**</span><span style='font-size:medium'> is the set of possible outcomes. The sample space for the roll of the die is {1, 2, 3, 4, 5, 6}. </span>\n",
    "\n",
    "<span style='font-size:medium'>Definition. An </span><span style='font-size:medium'>**event**</span><span style='font-size:medium'> $E$ corresponds to a subset of the sample space. For example, one event $E$ is that the die lands on a 1 or a 6. The event $E$ corresponds to the subset {1, 6}.</span>\n",
    "\n",
    "<span style='font-size:medium'>Problem 1.  The probability that the die lands on a given number \\(say, 3\\) on the first roll is 1/6.</span>\n",
    "\n",
    "<span style='font-size:medium'>Fact. The probability of an event $A$ is a real number $P(A)$ between 0 and 1 inclusive, for example 1/6.</span>\n",
    "\n",
    "<span style='font-size:medium'>Fact. The probability of the sample space is 1. For example, the probability that the die lands on a 1 or 2 or 3 or 4 or 5 or 6 is 6/6 or 1.</span>\n",
    "\n",
    "<span style='font-size:medium'>Problem 3. The probability that the die lands on a 1 or a 6 is 2/6 or 1/3.</span>\n",
    "\n",
    "<span style='font-size:medium'>Problem 4. The sample space for two rolls of the die is {11, 12,..., 16, 21, 22,..., 26, 31, 32,..., 36,...61, 62,..., 66}, where each two\\-digit number represents two rolls of the die. An event $A$, in which the die lands on the same number on the first two rolls, corresponds to the set {11, 22, 33, 44, 55, 66}. The probability that the die lands on the same number on the first two rolls is 6/36 or 1/6.</span>\n",
    "\n",
    "<span style='font-size:medium'>Definition. </span><span style='font-size:medium'>**Mutually exclusive** </span><span style='font-size:medium'>events are events that cannot happen at the same time. For example, one roll of the die can yield one of six mutually exclusive events.</span>\n",
    "\n",
    "## <span style='font-size:medium'>Addition rule</span>\n",
    "\n",
    "<span style='font-size:medium'>The addition rule for mutually exclusive events </span>$A$<span style='font-size:medium'> and </span>$B$<span style='font-size:medium'> is that </span>$P(A \\ \\text{or} \\ B) = P(A) + P(B)$<span style='font-size:medium'>. </span>\n",
    "\n",
    "<span style='font-size:medium'>Problem 3. For example, the probability that the die lands on 1 (event $A$) or the die lands on 6 (event $B$) is $P(A \\ \\text{or} \\ B) = P(A) + P(B) = 1/6 + 1/6 = 1/3$. This agrees with the prior solution.</span>\n",
    "\n",
    "## <span style='font-size:medium'>Multiplication rule</span>\n",
    "\n",
    "<span style='font-size:medium'>The multiplication rule for mutually exclusive events </span>$A$<span style='font-size:medium'> and </span>$B$<span style='font-size:medium'> is that </span>$P(A \\ \\text{and} \\ B) = P(A) P(B).$\n",
    "\n",
    "<span style='font-size:medium'>Problem 4. For example, the probability that the die lands on the same number on the first two rolls is the probability that a number is rolled \\(event </span>$A$<span style='font-size:medium'>\\) and the same number is rolled \\(event </span>$B$<span style='font-size:medium'>\\) is </span>$P(A \\ \\text{and} \\ B) = P(A) P(B) = 1 * 1/6 = 1/6$<span style='font-size:medium'>. This agrees with the prior solution.</span>\n",
    "\n",
    "## <span style='font-size:medium'>Simulation</span>\n",
    "\n",
    "<span style='font-size:medium'>This section opened with Problems 1\\-\\-5 above. We said we could use a computer program to </span><span style='font-size:medium'>**simulate**</span><span style='font-size:medium'> or </span><span style='font-size:medium'>**mimic**</span><span style='font-size:medium'> the rolling of a physical die to answer the questions approximately.</span>\n",
    "\n",
    "<span style='font-size:medium'>Let's write a </span><span style='font-size:medium'>`roll`</span><span style='font-size:medium'> function to generate \\(pseudo\\-\\)random numbers many times. We'll approximate the probability of an event by calculating the fraction of the total cases that result in the event.</span>\n",
    "\n"
   ]
  },
  {
   "cell_type": "code",
   "execution_count": 7,
   "metadata": {},
   "outputs": [],
   "source": [
    "import random\n",
    "'''Return a list of num_rolls die rolls.'''\n",
    "def roll(num_rolls):\n",
    "    # Define a list for the results of the die rolls.\n",
    "    die_rolls = []\n",
    "    # Roll the die num_rolls times.\n",
    "    for i in range(num_rolls):\n",
    "        # Store a number 1-6 inclusive in die_roll.\n",
    "        die_roll = random.randint(1, 6)\n",
    "        # Append the die roll into the list of die rolls.\n",
    "        die_rolls.append(die_roll)\n",
    "    return(die_rolls)"
   ]
  },
  {
   "cell_type": "code",
   "execution_count": 8,
   "metadata": {},
   "outputs": [
    {
     "name": "stdout",
     "output_type": "stream",
     "text": [
      "[1, 4, 5, 5, 3, 3, 1, 2, 2, 3]\n",
      "Number of threes: 3\n"
     ]
    }
   ],
   "source": [
    "# Store ten rolls of the die in a list.\n",
    "rolls = roll(10)\n",
    "# Print the list.\n",
    "print(rolls)\n",
    "# Print the number of threes that were rolled.\n",
    "print(f\"Number of threes: {rolls.count(3)}\")"
   ]
  },
  {
   "cell_type": "markdown",
   "metadata": {},
   "source": [
    "<span style='font-size:medium'>Problem 1. Answer Problem 1 from the beginning of this section approximately by simulating a large number of rolls and counting the number of threes. Compare the result to the mathematical answer in a complete sentence.</span>\n"
   ]
  },
  {
   "cell_type": "code",
   "execution_count": 9,
   "metadata": {},
   "outputs": [
    {
     "name": "stdout",
     "output_type": "stream",
     "text": [
      "For large number of trials, the simulation should yield a fraction of threes approximately equal to 1/6 or 0.16666666666666666.\n",
      "Result obtained: 0.16813\n"
     ]
    }
   ],
   "source": [
    "# Make the variable trials equal a large number of rolls.\n",
    "trials = 100_000\n",
    "# Roll the die a large number of times.\n",
    "rolls = roll(trials)\n",
    "# Count the number of threes in the returned list and divide by the number of rolls.\n",
    "p3 = rolls.count(3)/trials\n",
    "print(f\"For large number of trials, the simulation should yield a fraction of threes approximately equal to 1/6 or {1/6}.\\nResult obtained: {p3}\")"
   ]
  },
  {
   "cell_type": "markdown",
   "metadata": {},
   "source": [
    "<span style='font-size:medium'>For 100,000 simulated rolls of the die, the fraction of values of 3 is typically rather close to the mathematical probability of rolling a 3. </span>\n",
    "\n",
    "<span style='font-size:medium'>Problem 3. Answer Problem 3 from the beginning of this section approximately by simulating a large number of rolls and counting the number of ones and sixes. Compare the result to the mathematical answer in a complete sentence.</span>\n",
    "\n"
   ]
  },
  {
   "cell_type": "code",
   "execution_count": 10,
   "metadata": {},
   "outputs": [
    {
     "name": "stdout",
     "output_type": "stream",
     "text": [
      "For large number of trials, the simulation should yield a fraction of ones and sixes approximately equal to 1/3 or 0.3333333333333333.\n",
      "Result obtained: 0.33231\n"
     ]
    }
   ],
   "source": [
    "# Make the variable trials equal a large number of rolls.\n",
    "trials = 100_000\n",
    "# Roll the die a large number of times.\n",
    "rolls = roll(trials)\n",
    "# Count the number of ones and sixes in the returned list and divide by the number of rolls.\n",
    "p_1_or_6 = (rolls.count(1) + rolls.count(6))/trials\n",
    "print(f\"For large number of trials, the simulation should yield a fraction of ones and sixes approximately equal to 1/3 or {1/3}.\\nResult obtained: {p_1_or_6}\")"
   ]
  },
  {
   "cell_type": "markdown",
   "metadata": {},
   "source": [
    "<span style='font-size:medium'>For 100,000 simulated rolls of the die, the fraction of values of 1 or 6 is typically rather close to the mathematical probability of rolling a 1 or 6.</span>\n",
    "\n",
    "<span style='font-size:medium'>Problem 4. Answer Problem 4 from the beginning of this section approximately by doing a large number of trials of two rolls of a die and counting the fraction of times the two rolls are the same. Compare the result to the mathematical probability in a complete sentence. </span>\n"
   ]
  },
  {
   "cell_type": "code",
   "execution_count": 11,
   "metadata": {},
   "outputs": [
    {
     "name": "stdout",
     "output_type": "stream",
     "text": [
      "For large number of trials, the simulation should yield a fraction of 'double numbers' approximately equal to 1/6 or 0.16666666666666666.\n",
      "Result obtained: 0.1664\n"
     ]
    }
   ],
   "source": [
    "# Set a counter to 0.\n",
    "count = 0\n",
    "# Make the variable trials equal a large number of rolls.\n",
    "trials = 100_000\n",
    "# Roll two dice a large number of times.\n",
    "for i in range(trials):\n",
    "    rolls = roll(2) # Roll a die twice\n",
    "    if (rolls[0] == rolls[1]): # If the two rolls are the same,\n",
    "        count = count + 1 # increment the counter.\n",
    "print(f\"For large number of trials, the simulation should yield a fraction of 'double numbers' approximately equal to 1/6 or {1/6}.\\nResult obtained: {count/trials}\")"
   ]
  },
  {
   "cell_type": "markdown",
   "metadata": {},
   "source": [
    "## <span style='font-size:medium'>Law of large numbers</span>\n",
    "\n",
    "<span style='font-size:medium'>In probability theory, the law of large numbers \\(LLN\\) says that the average of the results obtained from a large number of trials should be close to the expected average and tends to become closer to the expected average as more trials are performed \\(based on the Wikipedia article on the LLN, citing A Modern 7 Introduction to Probability and Statistics by Dekking, 2005\\).</span>\n",
    "\n",
    "<span style='font-size:medium'>Problem. A single roll of a fair, six\\-sided die produces 1, 2, 3, 4, 5, or 6, each with equal probability. Therefore, the expected value of the average of the rolls is \\(1 \\+ 2 \\+ 3 \\+ 4 \\+ 5 \\+ 6\\) / 6 = 3.5. According to the LLN, if a six\\-sided die is rolled a large number of times, the average value will approach 3.5 as the number of die rolls approaches infinity. Illustrate this idea using simulation with a larger and larger number of rolls.</span>\n",
    "\n",
    "## <span style='font-size:medium'>Gambler's fallacy</span>\n",
    "\n",
    "<span style='font-size:medium'>\"...the law of large numbers does not imply, as too many seem to think, that if deviations from expected behavior occur, these deviations are likely to be 'evened out' by opposite deviations in the future. This misapplication of the law of large numbers is known as the gambler’s fallacy\" \\(Introduction to Computation and Programming Using Python by Guttag\\).</span>\n",
    "\n",
    "<span style='font-size:medium'>Problem. At the Casino de Monte\\-Carlo on August 18, 1913, the roulette ball landed on black 26 times in a row, and gamblers lost millions betting on red, incorrectly believing that landing on red became increasingly likely as the length of the run of blacks increased \\(</span>[<span style='font-size:medium'>https://www.bbc.com/future/article/20150127\\-why\\-we\\-gamble\\-like\\-monkeys</span>](https://www.bbc.com/future/article/20150127-why-we-gamble-like-monkeys)<span style='font-size:medium'> , 1/27/2015\\). If you assume that there is a probability of 0.5 of landing on black and a probability of 0.5 of landing on red, what is the probability that 26 spins will result in black all 26 times? What is the probability that the 27th spin will land on black?</span>\n"
   ]
  },
  {
   "cell_type": "markdown",
   "metadata": {},
   "source": [
    "## <span style='font-size:medium'>Exercises</span>\n",
    "\n",
    "<span style='font-size:medium'>Exercise 1: Do Problem 5 from the beginning of this section mathematically. Show and explain your work.</span>\n",
    "\n",
    "<span style='font-size:medium'>Exercise 2: If event </span>$A$<span style='font-size:medium'> is that the die comes up 2, and event </span>$B$<span style='font-size:medium'> is that the die comes up with an even number, are the two events </span>$A$<span style='font-size:medium'> and </span>$B$<span style='font-size:medium'> mutually exclusive? Explain.</span>\n",
    "\n",
    "<span style='font-size:medium'>Exercise 3: If event </span>$A$<span style='font-size:medium'> is that the die comes up 4, and event </span>$B$<span style='font-size:medium'> is that the die comes up with an even number, is the addition rule </span>$P(A \\ \\text{or} \\ B) = P(A) + P(B)$<span style='font-size:medium'> applicable? If so, show that the rule holds for </span>$A$<span style='font-size:medium'> and </span>$B$<span style='font-size:medium'>. If not, show that the rule does not hold for </span>$A$<span style='font-size:medium'> and </span>$B$<span style='font-size:medium'>.</span>\n",
    "\n",
    "<span style='font-size:medium'>Exercise 4: Are Problems 1 and 2 at the beginning of the section mathematically different or mathematically equivalent? Explain your answer.</span>\n",
    "\n",
    "<span style='font-size:medium'>Exercise 5. Answer Problem 5 from the beginning of this section mathematically. Show your work. Interpret your answer in a complete sentence.</span>\n",
    "\n",
    "<span style='font-size:medium'>Exercise 6. Answer Problem 5 from the beginning of this section  approximately by doing a large number of trials of six rolls of a die and counting the number of times the rolls come out as 1 followed by 2, followed by 3, followed by 4, followed by 5, followed by 6. A piece of syntax you may consider using is </span><span style='font-size:medium'>`if (rolls[0] == 1 and rolls[1] == 2 and rolls[2] == 3 and rolls[3] == 4 and rolls[4] == 5 and rolls[5] == 6):`</span><span style='font-size:medium'> . Compare the fraction times you get this pattern to your mathematical answer from the previous exercise in a complete sentence.</span>\n",
    "\n",
    "<span style='font-size:medium'>\\[Insert possible additional material:\\] Here are some additional exercises. I can include or exclude, modulo feedback. These are more challenging than the problem set already given. </span>\n",
    "\n",
    "<span style='font-size:medium'>Calculate the probability mathematically of obtaining the given result in </span>$n$<span style='font-size:medium'> rolls of a fair six\\-sided die. Make a statement in a complete sentence about how many times you expect the outcome, in terms of a number of trials \\(consisting of </span>$n$<span style='font-size:medium'> rolls per trial\\), based on the mathematical probability. \\(Answer without doing simulation.\\)</span>\n",
    "\n",
    "<span style='font-size:medium'>Exercise 7. </span>$n=6$<span style='font-size:medium'>, all numbers are the same</span>\n",
    "\n",
    "<span style='font-size:medium'>Exercise 8. </span>$n=6$<span style='font-size:medium'>, at least one number is different</span>\n",
    "\n",
    "<span style='font-size:medium'>Exercise 9. </span>$n=1$<span style='font-size:medium'>, the number rolled is greater than 2</span>\n",
    "\n",
    "<span style='font-size:medium'>Exercise 10. </span>$n=2$<span style='font-size:medium'>, the sum of the two numbers is greater than 2</span>\n",
    "\n",
    "<span style='font-size:medium'>Exercise 11. </span>$n=2$<span style='font-size:medium'>, the two numbers are different</span>\n",
    "\n",
    "<span style='font-size:medium'>Exercise 12. </span>$n=3$<span style='font-size:medium'>, two numbers are the same and one is different</span>\n",
    "\n",
    "<span style='font-size:medium'>Exercise 13. </span>$n=6$<span style='font-size:medium'>, all the numbers are different</span>\n",
    "\n",
    "<span style='font-size:medium'>Exercise 14. </span>$n=100$<span style='font-size:medium'>, all the numbers are the same</span>\n",
    "\n",
    "<span style='font-size:medium'>Exercise 15. </span>$n=6$<span style='font-size:medium'>, the number 1 appears at least once</span>\n",
    "\n",
    "<span style='font-size:medium'>Exercise 16. </span>$n = 6$<span style='font-size:medium'>, the number 1 appears at most once</span>\n",
    "\n",
    "<span style='font-size:medium'>Exercise 17: For each exercise 7\\-\\-16, do a simulation and compare the results with your prior mathematical conclusions in a complete sentence.</span>\n",
    "\n",
    "<span style='font-size:medium'>Exercise 18: Consider the function below. Summarize its purpose in a complete sentence. Demonstrate its performance on a sample run. Summarize the results in a complete sentence.</span>\n",
    "\n"
   ]
  },
  {
   "cell_type": "code",
   "execution_count": 10,
   "metadata": {},
   "outputs": [],
   "source": [
    "import random\n",
    "def flip(num_flips):\n",
    "    '''Return the fraction of heads in num_flips coin flips.'''\n",
    "    head_count = 0\n",
    "    # Do num_flips coin flips.\n",
    "    for i in range(num_flips):\n",
    "        # If the flip is heads, increment heads counter.\n",
    "        if random.choice(('H', 'T')) == 'H':\n",
    "            head_count += 1\n",
    "    # Return the fraction of heads flipped.\n",
    "    return head_count/num_flips"
   ]
  },
  {
   "cell_type": "markdown",
   "metadata": {},
   "source": [
    "<span style='font-size:medium'>Exercise 19. Consider the function below. Add comments to explain the code. Summarize the purpose of the function in a complete sentence. Demonstrate its performance on a sample run. Summarize the results in a complete sentence.</span>\n"
   ]
  },
  {
   "cell_type": "code",
   "execution_count": 11,
   "metadata": {},
   "outputs": [],
   "source": [
    "def flip_trials(num_flips_per_trial, num_trials):\n",
    "    fraction_heads = []\n",
    "    for i in range(num_trials):\n",
    "        fraction_heads.append(flip(num_flips_per_trial))\n",
    "    print(fraction_heads)\n",
    "    mean = sum(fraction_heads) / len(fraction_heads)\n",
    "    return mean"
   ]
  },
  {
   "cell_type": "markdown",
   "metadata": {},
   "source": [
    "<span style='font-size:medium'>Exercise 19. When a fair coin is flipped once, the theoretical probability that the outcome will be heads is equal to 1/2. Therefore, according to the LLN, the proportion of heads in a \"large\" number n of coin flips \"should be\" roughly 1⁄2, and the proportion of heads approaches 1/2 as n approaches infinity. Illustrate this idea using simulation with a larger and larger number of flips.</span>\n",
    "\n",
    "<span style='font-size:medium'>Exercise 20. For each problem and exercise in this section, if it can be used to illustrate the LLN, explain how. Use language similar to the previous exercise and problem.</span>\n",
    "\n"
   ]
  },
  {
   "cell_type": "markdown",
   "metadata": {},
   "source": [
    "# Conditional probability\n",
    "\n",
    "<span style='font-size:medium'>Independent events are unrelated events. For example, a die roll coming up 1 is independent of whether the previous roll came up 1.</span>\n",
    "\n",
    "<span style='font-size:medium'>Many common events are not independent. Consider and discuss the following events and whether the probability of each is high or low:</span>\n",
    "\n",
    "- <span style='font-size:medium'>your bicycle needs repairs,</span>\n",
    "- <span style='font-size:medium'>you have a bicycle accident,</span>\n",
    "- <span style='font-size:medium'>your bicycle needs repairs given that you had a bicycle accident.</span>\n",
    "\n",
    "<span style='font-size:medium'>Question: Are the bicycle repairs and the bicycle accident independent events?</span>\n",
    "\n",
    "<span style='font-size:medium'>If not, we call them </span><span style='font-size:medium'>**conditionally related**</span><span style='font-size:medium'>.</span>\n",
    "\n",
    "<span style='font-size:medium'>Question: Which statement is more logical? Or are they equally logical?</span>\n",
    "\n",
    "1. <span style='font-size:medium'>Whether your bike needs repairs \\(event R\\) is related to whether you have a bike accident \\(event A\\).</span>\n",
    "2. <span style='font-size:medium'>Whether you have a bike accident \\(event A\\) is related to whether your bike needs repairs \\(event R\\).</span>\n",
    "\n",
    "<span style='font-size:medium'>The </span><span style='font-size:medium'>**conditional probability**</span><span style='font-size:medium'> of an event is based on prior knowledge of conditions that might be related to the event \\(based on the Wikipedia article on Bayes’ Theorem\\). We speak of the conditional probability that event Y occurs, given that event X occurred. We denote the probability as P\\(Y|X\\). </span>\n",
    "\n",
    "<span style='font-size:medium'>For example, we may want to know the probability that your bike needs repairs \\(event R\\) given that you had a bike accident \\(event A\\). We denote the probability as P\\(R|A\\). </span>\n",
    "\n",
    "<span style='font-size:medium'>The quantity P\\(R|A\\) is a conditional probability. Here A is considered the </span><span style='font-size:medium'>**prior**</span><span style='font-size:medium'> event. We say we are </span><span style='font-size:medium'>**conditioning on**</span><span style='font-size:medium'> A. </span>\n",
    "\n",
    "<span style='font-size:medium'>The \\(conditional\\) probability of Y given X can be calculated using the mathematical definition</span>\n",
    "\n",
    "$$P(Y|X) = \\frac{P(X \\text{ and } Y)}{P(X)}.$$\n",
    "\n",
    "<span style='font-size:medium'>Exercise 1: Suppose event C is that you call the fire department and event H is that your house is on fire. \\(a\\) What does P\\(C|H\\) mean? \\(b\\) Is P\\(C|H\\) probably the same as P\\(C\\) or probably different? Explain.</span>\n",
    "\n",
    "<span style='font-size:medium'>Exercise 2: Is P\\(X|Y\\) always the same as P\\(Y|X\\)? Explain your answer and give a supporting example.</span>\n",
    "\n",
    "<span style='font-size:medium'>Exercise 3: Is P\\(X and Y\\) always the same as P\\(Y and X\\)? Explain your answer and give a supporting example.</span>\n",
    "\n",
    "<span style='font-size:medium'>Exercise 4: Why is it important to distinguish between independent events and conditional events?</span>\n",
    "\n",
    "<span style='font-size:medium'>Give an example from your life experience.</span>\n",
    "\n",
    "<span style='font-size:medium'>Exercise 5: Explain how conditional probability may be relevant in the following examples:</span>\n",
    "\n",
    "<span style='font-size:medium'>\\(a\\) If you play a coin flipping game, are you going to change your strategy if you suspect that the coin is biased, after playing a few times?</span>\n",
    "\n",
    "<span style='font-size:medium'>\\(b\\) If a person is playing poker, are they going to change their strategy if they suspect another player has very good cards? What if the other player is just trying to scare other players?</span>\n",
    "\n",
    "<span style='font-size:medium'>\\(c\\) If you failed an elective last semester, are you likely to get elective credit this semester, given that you are taking a different elective or given other factors?</span>\n",
    "\n",
    "<span style='font-size:medium'>\\(d\\) Is there a chance for you to become a billionaire at some point of your lifetime? When and under what conditions?</span>\n",
    "\n",
    "<span style='font-size:medium'>Exercise 6: In this exercise, we try to get some confidence that the mathematical definition of conditional probability is a correct formula by looking at the sizes of the various quantities involved and using intuition. Suppose event C is that you call the fire department and event H is that your house is on fire. \\(a\\) Write the mathematical definition of P\\(C|H\\). \\(b\\) Probably P\\(H\\) is very small. Give a common\\-sense explanation for why. \\(c\\) P\\(H and C\\) is probably slightly smaller that P\\(H\\). Why? \\(d\\) If the numerator P\\(H and C\\) is only slightly smaller than the denominator P\\(H\\), what is the size of the fraction? Support your answer with example numbers. </span>\n",
    "\n",
    "<span style='font-size:medium'>Exercise 7: Suppose 35 spam email messages contain the word \"free\"; 25 spam messages do not contain the word \"free\"; three of non\\-spam messages contain the word \"free\"; and 37 non\\-spam messages do not contain the word \"free\". Put this data into a table with columns \"free\", \"not free\" and \"Total\" and rows \"spam\", \"not spam\", and \"Total\". For each exercise, show your work and state your answer in a complete sentence. Confirm that your answer is consistent with the definition of conditional probability.</span><span style='font-size:medium'> </span><span style='font-size:medium'>\\(This problem is adapted from OpenIntoStatistics, David M. Diez, Christoper D. Barr, and Mine Cetinkaya\\-Rundel, Creative Commons, 2016.\\)</span>\n",
    "\n",
    "<span style='font-size:medium'>\\(a\\) Calculate the probability that a message is spam, given that it contains the word \"free\".</span>\n",
    "\n",
    "<span style='font-size:medium'>\\(b\\) Calculate the probability that a message is not spam, given that it contains the word \"free\".</span>\n",
    "\n",
    "<span style='font-size:medium'>\\(c\\) Calculate the probability that a message contains the word \"free\", given that it is spam.</span>\n",
    "\n",
    "<span style='font-size:medium'>\\(d\\) Which of the above quantities do you consider to be of the most practical interest? Explain your answer.</span>\n",
    "\n",
    "<span style='font-size:medium'>\\(e\\) Suppose we are trying to make decisions about whether a message is spam. Calculate the most relevant probabilities, explain their significance in the context of the practical problem at hand, and describe possible limitations of their applicability.</span>\n",
    "\n",
    "<span style='font-size:medium'>Exercise 8: \\(a\\) Write the mathematical definitions of the conditional probabilities P\\(Y given X\\) and P\\(X given Y\\). \\(b\\) Use the two definitions to write one of the conditional probabilities in terms of the other by eliminating P\\(X and Y\\). \\(Start by solving each of the two equations for P\\(X and Y\\).\\) The result is Bayes’ Theorem, which expresses one conditional probability in terms of the other. It captures how a probability should change to account for related evidence \\(based on the Wikipedia article on Bayes’ Theorem\\).</span>\n",
    "\n",
    "<span style='font-size:medium'>Exercise 9: Suppose the disease meningitis causes a stiff neck 70% of the time, the prior probability of any patient having meningitis is 1/50,000, and the prior probability of any patient having stiff neck is 1/100. \\(Artificial Intelligence: A Modern Approach \\(Third Edition\\), Stuart J. Russell and Peter Norvig, Prentice Hall, Upper Saddle River, 2010\\). Use Bayes' Theorem to calculate the probability that a patient has meningitis, given they have a stiff neck. Show how you apply Bayes' Theorem. Interpret the results in a complete sentence.</span>\n",
    "\n"
   ]
  }
 ],
 "metadata": {
  "kernelspec": {
   "display_name": "Python 3",
   "language": "python",
   "name": "python3"
  },
  "language_info": {
   "codemirror_mode": {
    "name": "ipython",
    "version": 3
   },
   "file_extension": ".py",
   "mimetype": "text/x-python",
   "name": "python",
   "nbconvert_exporter": "python",
   "pygments_lexer": "ipython3",
   "version": "3.8.8"
  }
 },
 "nbformat": 4,
 "nbformat_minor": 4
}
