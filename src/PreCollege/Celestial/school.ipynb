{
 "cells": [
  {
   "cell_type": "markdown",
   "id": "ab39df32",
   "metadata": {},
   "source": [
    "# After-School Programs"
   ]
  },
  {
   "cell_type": "markdown",
   "id": "4f613d86",
   "metadata": {},
   "source": [
    ":::{admonition} Personal Note from the Author\n",
    "In the Summer of 2020, Hope Wood (Wheaton College Urban Studies staff), Demetrius Crawford (Wheaton College Urban Studies outreach program participant) and I (Wheaton College math professor) launched the idea of creating JNB labs as a tool to teach math, data analysis and STEAM to disadvantaged Chicago grade-school students. \n",
    "\n",
    "In Fall 2020, Mr. Jim Wilkes, principal of Cornerstone Academy, an alternative Christian High School serving mainly low to middle income students on the West Side of Chicago held the pilot offering of a JNB after-school program via Zoom. A class of Wheaton College student mentors worked online in small groups of 2 or 3 with Cornerstone students. Mr. Wilkes and I served as co-program directors, and Hope Wood and Antoinette Ratliff as program staff.\n",
    "\n",
    "The following JNBs were developed for use with 8th graders participating in an after-school program at a non-profit organization called Celestial Ministries. The first two years, the scholars' middle school math teacher brought them to to the program and participated in the class. I served as teacher.  We are planning for the middle school teacher to take over the teaching responsibilities. \n",
    "\n",
    "Celestial Ministries serves single parent children in Lawndale neighborhood on the West Side of Chicago. Parents and friends were invite to a recognition ceremony in which students demonstrated various functionalities of JNBs which covered in the program. Students who successfully completed the program were given a certificate and 1a 00 dollar stipend.\n",
    ":::"
   ]
  },
  {
   "cell_type": "markdown",
   "id": "d372abe8",
   "metadata": {},
   "source": [
    ":::``{admonition} Word of Advice\n",
    ":class: tip\n",
    "There are likely opportunities to introduce Python Jupyter Notebooks in disadvantaged communities within proximity of your workplace or residence. Establishing a good working relationship with a well-established community organization and loal community math teacher is highly recommended as opposed to seeking to establish a program on your own.\n",
    ":::``"
   ]
  },
  {
   "cell_type": "markdown",
   "id": "cc936d27",
   "metadata": {},
   "source": [
    "## GLIMPSES OF CHICAGO"
   ]
  },
  {
   "cell_type": "markdown",
   "id": "3d1d35c5",
   "metadata": {},
   "source": [
    "### Michael Jordan's Greatest Scoring Game\n",
    ":::{note}\n",
    "In this section, we will introduce a very important programming tool called a function. \n",
    ":::"
   ]
  },
  {
   "cell_type": "markdown",
   "id": "8bbae49d",
   "metadata": {},
   "source": [
    "__STEP#1__\n",
    "Watch the PowerPoint on this lesson.\n",
    "<a href=\"https://drive.google.com/file/d/1GlvEmf_TnwEDfB9xgEeAQfO0dAT50LVL/view?usp=sharing\" target=\"_blank\">link to PPT</a>"
   ]
  },
  {
   "cell_type": "markdown",
   "id": "ae9a9a3f",
   "metadata": {},
   "source": [
    "__STEP #2__\n",
    "Does anyone remember from the PowerPoint, a variable is like a b  ____ . A variable has a n  ______ . We can store some i  ______  such as a number (eg. 3) or a message (eg. 'God is Good!') in a variable.\n",
    "Let's give names to two variables:\n",
    "<ul>\n",
    "    <li>feet</li>\n",
    "    <li>inch</li></ul>\n",
    "    \n",
    "In Michael Jordan's case, the info stored in the variable feet is the number 6 and the info stored in the variable inch is also equal to 6. For short, we just write feet=6 and inch=6\n",
    "Let's go around and each person state your name and what your value is for the variables feet and inch."
   ]
  },
  {
   "cell_type": "markdown",
   "id": "c28f9315",
   "metadata": {},
   "source": [
    "__STEP #3__\n",
    "Who remembers the word for a short computer program? c ______  What programming language are we learning? Py  ______ n.\n",
    "In the next cell, we give Python code to create the function in STEP 2. It might look complicated, but your mentor will explain what's going on. Ask questions!"
   ]
  },
  {
   "cell_type": "code",
   "execution_count": 8,
   "id": "4520362c",
   "metadata": {},
   "outputs": [],
   "source": [
    "def height(feet,inch):\n",
    "    height_in_inches = 12*feet + inch  \n",
    "    return height_in_inches"
   ]
  },
  {
   "cell_type": "code",
   "execution_count": 9,
   "id": "142da50b",
   "metadata": {},
   "outputs": [
    {
     "data": {
      "text/plain": [
       "72"
      ]
     },
     "execution_count": 9,
     "metadata": {},
     "output_type": "execute_result"
    }
   ],
   "source": [
    "height(6,0)  #Test on Seimone's height  feet=6, inch=0"
   ]
  },
  {
   "cell_type": "markdown",
   "id": "58858de6",
   "metadata": {},
   "source": [
    "__STEP #4__\n",
    "What do we have to do in the next cell to test our function on 6'6\" Michael Jordan?"
   ]
  },
  {
   "cell_type": "code",
   "execution_count": null,
   "id": "fd81e709",
   "metadata": {},
   "outputs": [],
   "source": []
  },
  {
   "cell_type": "markdown",
   "id": "f35bc86b",
   "metadata": {},
   "source": [
    "__STEP #5__\n",
    "One of the fun parts of programming is that we can try to design a function to do almost anything we want. \n",
    "\n",
    "Define a function called points(fg,ft,tp) which computes the points scored by a basketball player given the input variables \n",
    "<ul>\n",
    "    <li> fg= number of 2 point field goals made</li>\n",
    "    <li> ft=number of free throws made </li>\n",
    "    <li> tp=number of three point shots made </li>\n",
    "    \n",
    "Use a variable called pts to store the answer."
   ]
  },
  {
   "cell_type": "markdown",
   "id": "007f0dc4",
   "metadata": {},
   "source": [
    "__STEP 6__\n",
    "In his heighest scoring game, Michael Jordan made 21 two-point field goals, 21 free throws and 2 three point shots.\n",
    "Check that your function gives the correct value of 69 for his point total."
   ]
  },
  {
   "cell_type": "code",
   "execution_count": null,
   "id": "693f971e",
   "metadata": {},
   "outputs": [],
   "source": [
    "#Supply the missing values for points(fg,ft,tp)\n"
   ]
  },
  {
   "cell_type": "markdown",
   "id": "c790b01e",
   "metadata": {},
   "source": [
    ":::{admonition} For Discussion\n",
    "\n",
    "1.  What would you like your mentors to explain about today's lesson?\n",
    "\n",
    "2. What is one of your favorite sports memories?\n",
    "\n",
    ":::"
   ]
  },
  {
   "cell_type": "markdown",
   "id": "6f03a50f",
   "metadata": {},
   "source": [
    "### How Bad is COVID-19?"
   ]
  },
  {
   "cell_type": "markdown",
   "id": "196a7408",
   "metadata": {},
   "source": [
    "### Mapping Famous Chicagoans"
   ]
  },
  {
   "cell_type": "markdown",
   "id": "b7424429",
   "metadata": {},
   "source": [
    "### Exemplary Schools"
   ]
  },
  {
   "cell_type": "markdown",
   "id": "f130275f",
   "metadata": {},
   "source": [
    "## STEAM (Arts in STEM)"
   ]
  },
  {
   "cell_type": "markdown",
   "id": "a41e5b51",
   "metadata": {},
   "source": [
    "### Pixel Images"
   ]
  },
  {
   "cell_type": "markdown",
   "id": "654af1ca",
   "metadata": {},
   "source": [
    "### Name that Tune!"
   ]
  },
  {
   "cell_type": "markdown",
   "id": "a9d066fe",
   "metadata": {},
   "source": [
    "### Word Clouds"
   ]
  },
  {
   "cell_type": "markdown",
   "id": "46358c5d",
   "metadata": {},
   "source": [
    "### Simulating Formula 1"
   ]
  },
  {
   "cell_type": "markdown",
   "id": "18dea8da",
   "metadata": {},
   "source": [
    "## REVIEW DEMO"
   ]
  }
 ],
 "metadata": {
  "kernelspec": {
   "display_name": "Python 3 (ipykernel)",
   "language": "python",
   "name": "python3"
  },
  "language_info": {
   "codemirror_mode": {
    "name": "ipython",
    "version": 3
   },
   "file_extension": ".py",
   "mimetype": "text/x-python",
   "name": "python",
   "nbconvert_exporter": "python",
   "pygments_lexer": "ipython3",
   "version": "3.11.3"
  }
 },
 "nbformat": 4,
 "nbformat_minor": 5
}
