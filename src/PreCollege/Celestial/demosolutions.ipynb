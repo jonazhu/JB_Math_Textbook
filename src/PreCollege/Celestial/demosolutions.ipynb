{
 "cells": [
  {
   "cell_type": "markdown",
   "metadata": {},
   "source": [
    "# JNB Lab Solutions"
   ]
  },
  {
   "cell_type": "code",
   "execution_count": 1,
   "metadata": {},
   "outputs": [],
   "source": [
    "import numpy as np \n",
    "import pandas as pd \n",
    "import matplotlib as mpl\n",
    "import matplotlib.pyplot as plt"
   ]
  },
  {
   "cell_type": "markdown",
   "metadata": {},
   "source": [
    "<b> Demo 1 Exercise</b>"
   ]
  },
  {
   "cell_type": "code",
   "execution_count": 2,
   "metadata": {},
   "outputs": [],
   "source": [
    "budget=pd.read_excel('ChicagoBudget.xlsx')\n",
    "\n",
    "fig, ax = plt.subplots(figsize=(7,7)) #you can adjust the figsize  (5,5)=(length,width)\n",
    "plt.rcParams['font.size'] = 7  #fontsize\n",
    "budget_items = budget[\"EXPENSE\"] #categories\n",
    "budget_amounts = budget[\"2023 BUDGET\"] #amounts\n",
    "total=sum(budget_amounts)\n",
    "ax=plt.pie(budget_amounts,labels=budget_items,autopct=lambda p: '${:.0f}'.format(p * total / 100)) #make pie chart  autopct='%1.0f%%'\n",
    "plt.gca().set_title('Budget Breakdown $'+str(total)+' (13+ billion) in Expenses',size=7) #add a title\n",
    "fig.savefig('Budget.png') #save the piechart to a file Budget.png"
   ]
  },
  {
   "cell_type": "markdown",
   "metadata": {},
   "source": [
    "<b> Demo 2 Exercise</b>\n"
   ]
  },
  {
   "cell_type": "code",
   "execution_count": 3,
   "metadata": {},
   "outputs": [],
   "source": [
    "# PACKAGE: DO NOT EDIT THIS CELL\n",
    "%matplotlib inline\n",
    "from ipywidgets import interact\n",
    "import cv2, os"
   ]
  },
  {
   "cell_type": "code",
   "execution_count": 4,
   "metadata": {
    "tags": [
     "hide-input"
    ]
   },
   "outputs": [],
   "source": [
    "def makepixelimage(folder, N):\n",
    "\n",
    "    directory = folder\n",
    "\n",
    "    # A data structure called a dictionary is used to store the image data and the dataframes we'll make from them.\n",
    "    imgs = {}\n",
    "    dfs = {}\n",
    "\n",
    "    # Specify the pixel image size \n",
    "    dsize = (N, N)\n",
    "\n",
    "    # This will iterate over every image in the directory given, read it into data, and create a \n",
    "    # dataframe for it. Both the image data and its corresponding dataframe are stored.\n",
    "    # Note that when being read into data, we interpret the image as grayscale. \n",
    "    pos = 0\n",
    "    for filename in os.listdir(directory):\n",
    "        f = os.path.join(directory, filename)\n",
    "        # checking if it is a file\n",
    "        if os.path.isfile(f):\n",
    "            imgs[pos] = cv2.imread(f, 0) # image data\n",
    "            imgs[pos] = cv2.resize(imgs[pos], dsize)\n",
    "            dfs[pos] = pd.DataFrame(imgs[pos]) # dataframe\n",
    "            pos += 1\n",
    "    return plt.imshow(imgs[0], cmap=\"gray\")\n"
   ]
  },
  {
   "cell_type": "code",
   "execution_count": 5,
   "metadata": {},
   "outputs": [],
   "source": [
    "makepixelimage(\"images\", 16) #16x16 image"
   ]
  },
  {
   "cell_type": "code",
   "execution_count": 6,
   "metadata": {},
   "outputs": [],
   "source": [
    "makepixelimage(\"images\", 32) #32x32 image"
   ]
  },
  {
   "cell_type": "markdown",
   "metadata": {},
   "source": [
    "<b> DEMO 3 Exercise</b>\n"
   ]
  },
  {
   "cell_type": "code",
   "execution_count": 7,
   "metadata": {
    "tags": [
     "hide-input"
    ]
   },
   "outputs": [],
   "source": [
    "import matplotlib.animation as animation\n",
    "from matplotlib.animation import FuncAnimation\n",
    "track_play=pd.read_excel('NFL_play.xlsx')\n",
    "fig= plt.figure(figsize=(8,4))\n",
    "temp=track_play[track_play[\"step\"]==-108]\n",
    "xmin=temp[\"x_position\"].min()\n",
    "xmax=temp[\"x_position\"].max()\n",
    "ymin=temp[\"y_position\"].min()\n",
    "ymax=temp[\"y_position\"].max()\n",
    "plt.xlim(xmin-1,xmax+1)\n",
    "plt.ylim(ymin-1,ymax+1)\n",
    "for i in temp.index:\n",
    "    x=temp.loc[i,\"x_position\"]\n",
    "    y=temp.loc[i,\"y_position\"]\n",
    "    n=temp.loc[i,\"nfl_player_id\"]\n",
    "    p=temp.loc[i,\"position\"]\n",
    "    if temp.loc[i,\"team\"]=='home':\n",
    "        plt.text(x, y, p+str(n),color='b',size=5)\n",
    "    else:\n",
    "        plt.text(x, y, p+str(n),color='r',size=5)\n",
    "plt.title(\"Play 1136 Step -108\",size=10)\n",
    "plt.show()"
   ]
  },
  {
   "cell_type": "markdown",
   "metadata": {},
   "source": [
    "The quarterback is QB43424 and running back is RB43293."
   ]
  },
  {
   "cell_type": "code",
   "execution_count": 8,
   "metadata": {
    "tags": [
     "hide-input"
    ]
   },
   "outputs": [],
   "source": [
    "def movement(data,play,player1,player2):\n",
    "    playdf=data[data[\"play_id\"]==play]\n",
    "    playdf = playdf.sort_values(by = 'step')\n",
    "    playdf=playdf.reset_index(drop=True)\n",
    "    xmin=playdf[\"x_position\"].min()\n",
    "    xmax=playdf[\"x_position\"].max()\n",
    "    ymin=playdf[\"y_position\"].min()\n",
    "    ymax=playdf[\"y_position\"].max()\n",
    "    player1df=playdf[playdf[\"nfl_player_id\"]==player1]\n",
    "    player1df = player1df.sort_values(by = 'step')\n",
    "    player1df=player1df.reset_index(drop=True)\n",
    "    player2df=playdf[playdf[\"nfl_player_id\"]==player2]\n",
    "    player2df = player2df.sort_values(by = 'step')\n",
    "    player2df=player2df.reset_index(drop=True)\n",
    "    fig= plt.figure(figsize=(5,3))\n",
    "    plt.xlim(xmin-1,xmax+1)\n",
    "    plt.ylim(ymin-1,ymax+1)\n",
    "    x1=player1df[\"x_position\"]\n",
    "    y1=player1df[\"y_position\"]\n",
    "    x2=player2df[\"x_position\"]\n",
    "    y2=player2df[\"y_position\"]\n",
    "    def init():  #inital point on sine curve\\\n",
    "        bluex,=plt.gca().plot([x1[0]],[y1[0]])\n",
    "        redo, = plt.gca().plot([x2[0]],[y2[0]])\n",
    "        return bluex, redo,\n",
    "\n",
    "    def animate(i):\n",
    "        bluex,= plt.gca().plot(x1[i],y1[i],'bx',ms=2,alpha=1)\n",
    "        redo,=plt.gca().plot([x2[i]],[y2[i]],'ro',ms=2,alpha=1)\n",
    "        return bluex, redo,\n",
    "    # create animation using the animate() function\n",
    "    ani = animation.FuncAnimation(fig, animate, frames=np.arange(1,len(playdf[\"step\"])/22,1), init_func=init, interval=5, blit=True, repeat=False)\n",
    "    plt.show() \n",
    "    return ani"
   ]
  },
  {
   "cell_type": "code",
   "execution_count": 9,
   "metadata": {},
   "outputs": [],
   "source": [
    "%matplotlib notebook\n",
    "movement(track_play,1136,43424,43293)"
   ]
  },
  {
   "cell_type": "markdown",
   "metadata": {},
   "source": [
    "<b>Demo 4 Exercise</b>"
   ]
  },
  {
   "cell_type": "code",
   "execution_count": 10,
   "metadata": {
    "tags": [
     "hide-input"
    ]
   },
   "outputs": [],
   "source": [
    "import wordcloud\n",
    "#Define a function which counts the interesting words\n",
    "def calculate_frequencies(textfile):\n",
    "    #list of punctuations\n",
    "    punctuations = '''!()-[]{};:'\"\\,<>./?@#$%^&*_~'''\n",
    "    #list of uninteresting words \n",
    "    uninteresting_words = [\"AND\",\"BY\",\"IT\",\"THE\",\"THAT\",\"A\",\"IS\",\"HAD\",\"TO\",\"NOT\",\"BUT\",\"FOR\",\"OF\",\"WHICH\",\"IF\",\"IN\",\"ON\",\"WERE\",\"YE\",\"THOU\"]\n",
    "    \n",
    "     # removes punctuation and uninteresting words\n",
    "    import re\n",
    "    fc1=str(textfile)\n",
    "    fc2= fc1.split(' ')\n",
    "    for i in range(len(fc2)): \n",
    "        fc2[i] = fc2[i].upper()\n",
    "    #Remove punctuations\n",
    "    fc3 = []\n",
    "    for s in fc2:\n",
    "        if not any([o in s for o in punctuations]):\n",
    "            fc3.append(s)\n",
    "    #Remove uninteresting words\n",
    "    fc4=[]\n",
    "    for s in fc3:\n",
    "        if not any([o in s for o in uninteresting_words]):\n",
    "            fc4.append(s)\n",
    "    fc5=[]\n",
    "    for s in fc4:\n",
    "        if not any([o.lower() in s for o in uninteresting_words]):\n",
    "            fc5.append(s)\n",
    "            \n",
    "    while('' in fc5) : \n",
    "        fc5.remove('') \n",
    "        \n",
    "    import collections\n",
    "    fc6 = collections.Counter(fc5)\n",
    "\n",
    "    #wordcloud\n",
    "    cloud = wordcloud.WordCloud( max_words = 15)  #can adjust the number of words\n",
    "    cloud.generate_from_frequencies(fc6)\n",
    "    return cloud.to_array()"
   ]
  },
  {
   "cell_type": "code",
   "execution_count": 11,
   "metadata": {
    "tags": [
     "hide-input"
    ]
   },
   "outputs": [],
   "source": [
    "import matplotlib.pyplot as plt\n",
    "%matplotlib notebook\n",
    "#Open the text file with the words to be plotted.\n",
    "with open('twelvedays.txt','r') as file:  \n",
    "    carol = file.readlines()\n",
    "    \n",
    "#make the wordcloud   \n",
    "carol = calculate_frequencies(carol)\n",
    "plt.imshow(carol, interpolation = 'nearest')\n",
    "plt.text(-5,70,\"Merry Christmas!\",color='r',size=40) #***TASK 2***Add Christmas! after Merry\n",
    "plt.axis('off')\n",
    "plt.savefig('card.png', bbox_inches='tight') \n"
   ]
  },
  {
   "cell_type": "markdown",
   "metadata": {},
   "source": [
    "<b> Demo 5 Exercise</b>"
   ]
  },
  {
   "cell_type": "code",
   "execution_count": 12,
   "metadata": {
    "tags": [
     "hide-input"
    ]
   },
   "outputs": [],
   "source": [
    "import numpy as np\n",
    "\n",
    "def play(freq):\n",
    "    import numpy as np\n",
    "    from IPython.display import Audio  #library used to create sounds\n",
    "    sampling_rate = 44100 # <- rate of sampling\n",
    "    t = np.linspace(0, 2,  sampling_rate) # <- setup time values\n",
    "    sound_wave = np.sin(2 * np.pi * freq * t) # <- sine function formula\n",
    "    return Audio(sound_wave, rate=sampling_rate, autoplay=True) # play the generated sound\n",
    "\n",
    "from IPython.display import Audio \n",
    "rest=0\n",
    "do=220\n",
    "re=9/8*220\n",
    "mi=5/4*220\n",
    "fa=4/3*220\n",
    "so=3/2*220\n",
    "la=5/3*220\n",
    "ti=15/8*220\n",
    "do1=2*220\n",
    "re1=2*9/8*220\n",
    "mi1=2*5/4*220\n",
    "fa1=2*4/3*220\n",
    "so1=2*3/2*220\n",
    "la1=2*5/3*220\n",
    "ti1=2*15/8*220\n",
    "do2=2*2*220\n",
    "scale=[do,re,mi,fa,so,la,ti,do1]\n",
    "\n",
    "def play(song):\n",
    "    song=np.array(song)\n",
    "    framerate = 44100\n",
    "    t = np.linspace(0, len(song) / 2, round(framerate * len(song) / 2))[:-1]\n",
    "    song_idx = np.floor(t * 2).astype(int)\n",
    "    data = np.sin(2 * np.pi * song[song_idx] * t)\n",
    "    return Audio(data, rate=framerate, autoplay=True)\n"
   ]
  },
  {
   "cell_type": "code",
   "execution_count": 13,
   "metadata": {},
   "outputs": [],
   "source": [
    "jingle= [mi, rest,mi ,rest, mi, rest,rest, mi,rest, mi,rest,mi,rest,rest,mi, mi,so ,so, do,do, re,re, mi,mi]\n",
    "play(jingle)"
   ]
  }
 ],
 "metadata": {
  "celltoolbar": "Edit Metadata",
  "kernelspec": {
   "display_name": "Python 3 (ipykernel)",
   "language": "python",
   "name": "python3"
  },
  "language_info": {
   "codemirror_mode": {
    "name": "ipython",
    "version": 3
   },
   "file_extension": ".py",
   "mimetype": "text/x-python",
   "name": "python",
   "nbconvert_exporter": "python",
   "pygments_lexer": "ipython3",
   "version": "3.11.3"
  }
 },
 "nbformat": 4,
 "nbformat_minor": 2
}
