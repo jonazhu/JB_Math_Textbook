{
 "cells": [
  {
   "cell_type": "markdown",
   "metadata": {},
   "source": [
    "# 2 How bad is COVID by Chicago Zipcode"
   ]
  },
  {
   "cell_type": "markdown",
   "metadata": {},
   "source": [
    "In this lab we will analyze data imported directly from the Chicago Data Portal\n",
    "\n",
    "https://data.cityofchicago.org/"
   ]
  },
  {
   "cell_type": "markdown",
   "metadata": {},
   "source": [
    "<h3> STEP 1</h3>\n",
    "Let's read in up to 100,000 rows of COVID data for Chicago from the Chicago Data Portal."
   ]
  },
  {
   "cell_type": "code",
   "execution_count": 1,
   "metadata": {},
   "outputs": [
    {
     "data": {
      "text/html": [
       "<div>\n",
       "<style scoped>\n",
       "    .dataframe tbody tr th:only-of-type {\n",
       "        vertical-align: middle;\n",
       "    }\n",
       "\n",
       "    .dataframe tbody tr th {\n",
       "        vertical-align: top;\n",
       "    }\n",
       "\n",
       "    .dataframe thead th {\n",
       "        text-align: right;\n",
       "    }\n",
       "</style>\n",
       "<table border=\"1\" class=\"dataframe\">\n",
       "  <thead>\n",
       "    <tr style=\"text-align: right;\">\n",
       "      <th></th>\n",
       "      <th>:@computed_region_43wa_7qmu</th>\n",
       "      <th>:@computed_region_6mkv_f3dw</th>\n",
       "      <th>:@computed_region_bdys_3d7i</th>\n",
       "      <th>:@computed_region_rpca_8um6</th>\n",
       "      <th>:@computed_region_vrxf_vc4k</th>\n",
       "      <th>case_rate_cumulative</th>\n",
       "      <th>case_rate_weekly</th>\n",
       "      <th>cases_cumulative</th>\n",
       "      <th>cases_weekly</th>\n",
       "      <th>death_rate_cumulative</th>\n",
       "      <th>...</th>\n",
       "      <th>row_id</th>\n",
       "      <th>test_rate_cumulative</th>\n",
       "      <th>test_rate_weekly</th>\n",
       "      <th>tests_cumulative</th>\n",
       "      <th>tests_weekly</th>\n",
       "      <th>week_end</th>\n",
       "      <th>week_number</th>\n",
       "      <th>week_start</th>\n",
       "      <th>zip_code</th>\n",
       "      <th>zip_code_location</th>\n",
       "    </tr>\n",
       "  </thead>\n",
       "  <tbody>\n",
       "    <tr>\n",
       "      <th>0</th>\n",
       "      <td>36.0</td>\n",
       "      <td>14311.0</td>\n",
       "      <td>367.0</td>\n",
       "      <td>34.0</td>\n",
       "      <td>38.0</td>\n",
       "      <td>NaN</td>\n",
       "      <td>NaN</td>\n",
       "      <td>NaN</td>\n",
       "      <td>NaN</td>\n",
       "      <td>0.0</td>\n",
       "      <td>...</td>\n",
       "      <td>60603-2020-10</td>\n",
       "      <td>0.0</td>\n",
       "      <td>0.0</td>\n",
       "      <td>0</td>\n",
       "      <td>0.0</td>\n",
       "      <td>2020-03-07T00:00:00.000</td>\n",
       "      <td>10</td>\n",
       "      <td>2020-03-01T00:00:00.000</td>\n",
       "      <td>60603</td>\n",
       "      <td>{'type': 'Point', 'coordinates': [-87.625473, ...</td>\n",
       "    </tr>\n",
       "    <tr>\n",
       "      <th>1</th>\n",
       "      <td>36.0</td>\n",
       "      <td>14311.0</td>\n",
       "      <td>367.0</td>\n",
       "      <td>34.0</td>\n",
       "      <td>38.0</td>\n",
       "      <td>NaN</td>\n",
       "      <td>NaN</td>\n",
       "      <td>NaN</td>\n",
       "      <td>NaN</td>\n",
       "      <td>0.0</td>\n",
       "      <td>...</td>\n",
       "      <td>60603-2020-11</td>\n",
       "      <td>0.0</td>\n",
       "      <td>0.0</td>\n",
       "      <td>0</td>\n",
       "      <td>0.0</td>\n",
       "      <td>2020-03-14T00:00:00.000</td>\n",
       "      <td>11</td>\n",
       "      <td>2020-03-08T00:00:00.000</td>\n",
       "      <td>60603</td>\n",
       "      <td>{'type': 'Point', 'coordinates': [-87.625473, ...</td>\n",
       "    </tr>\n",
       "    <tr>\n",
       "      <th>2</th>\n",
       "      <td>36.0</td>\n",
       "      <td>14311.0</td>\n",
       "      <td>367.0</td>\n",
       "      <td>34.0</td>\n",
       "      <td>38.0</td>\n",
       "      <td>NaN</td>\n",
       "      <td>NaN</td>\n",
       "      <td>NaN</td>\n",
       "      <td>NaN</td>\n",
       "      <td>0.0</td>\n",
       "      <td>...</td>\n",
       "      <td>60603-2020-12</td>\n",
       "      <td>85.2</td>\n",
       "      <td>85.2</td>\n",
       "      <td>1</td>\n",
       "      <td>1.0</td>\n",
       "      <td>2020-03-21T00:00:00.000</td>\n",
       "      <td>12</td>\n",
       "      <td>2020-03-15T00:00:00.000</td>\n",
       "      <td>60603</td>\n",
       "      <td>{'type': 'Point', 'coordinates': [-87.625473, ...</td>\n",
       "    </tr>\n",
       "    <tr>\n",
       "      <th>3</th>\n",
       "      <td>36.0</td>\n",
       "      <td>14311.0</td>\n",
       "      <td>367.0</td>\n",
       "      <td>34.0</td>\n",
       "      <td>38.0</td>\n",
       "      <td>NaN</td>\n",
       "      <td>NaN</td>\n",
       "      <td>NaN</td>\n",
       "      <td>NaN</td>\n",
       "      <td>0.0</td>\n",
       "      <td>...</td>\n",
       "      <td>60603-2020-13</td>\n",
       "      <td>340.7</td>\n",
       "      <td>255.5</td>\n",
       "      <td>4</td>\n",
       "      <td>3.0</td>\n",
       "      <td>2020-03-28T00:00:00.000</td>\n",
       "      <td>13</td>\n",
       "      <td>2020-03-22T00:00:00.000</td>\n",
       "      <td>60603</td>\n",
       "      <td>{'type': 'Point', 'coordinates': [-87.625473, ...</td>\n",
       "    </tr>\n",
       "    <tr>\n",
       "      <th>4</th>\n",
       "      <td>36.0</td>\n",
       "      <td>14311.0</td>\n",
       "      <td>367.0</td>\n",
       "      <td>34.0</td>\n",
       "      <td>38.0</td>\n",
       "      <td>NaN</td>\n",
       "      <td>NaN</td>\n",
       "      <td>NaN</td>\n",
       "      <td>NaN</td>\n",
       "      <td>0.0</td>\n",
       "      <td>...</td>\n",
       "      <td>60603-2020-14</td>\n",
       "      <td>851.8</td>\n",
       "      <td>511.1</td>\n",
       "      <td>10</td>\n",
       "      <td>6.0</td>\n",
       "      <td>2020-04-04T00:00:00.000</td>\n",
       "      <td>14</td>\n",
       "      <td>2020-03-29T00:00:00.000</td>\n",
       "      <td>60603</td>\n",
       "      <td>{'type': 'Point', 'coordinates': [-87.625473, ...</td>\n",
       "    </tr>\n",
       "    <tr>\n",
       "      <th>5</th>\n",
       "      <td>36.0</td>\n",
       "      <td>14311.0</td>\n",
       "      <td>367.0</td>\n",
       "      <td>34.0</td>\n",
       "      <td>38.0</td>\n",
       "      <td>NaN</td>\n",
       "      <td>NaN</td>\n",
       "      <td>NaN</td>\n",
       "      <td>NaN</td>\n",
       "      <td>0.0</td>\n",
       "      <td>...</td>\n",
       "      <td>60603-2020-15</td>\n",
       "      <td>1362.9</td>\n",
       "      <td>511.1</td>\n",
       "      <td>16</td>\n",
       "      <td>6.0</td>\n",
       "      <td>2020-04-11T00:00:00.000</td>\n",
       "      <td>15</td>\n",
       "      <td>2020-04-05T00:00:00.000</td>\n",
       "      <td>60603</td>\n",
       "      <td>{'type': 'Point', 'coordinates': [-87.625473, ...</td>\n",
       "    </tr>\n",
       "    <tr>\n",
       "      <th>6</th>\n",
       "      <td>36.0</td>\n",
       "      <td>14311.0</td>\n",
       "      <td>367.0</td>\n",
       "      <td>34.0</td>\n",
       "      <td>38.0</td>\n",
       "      <td>NaN</td>\n",
       "      <td>NaN</td>\n",
       "      <td>NaN</td>\n",
       "      <td>NaN</td>\n",
       "      <td>0.0</td>\n",
       "      <td>...</td>\n",
       "      <td>60603-2020-16</td>\n",
       "      <td>1618.4</td>\n",
       "      <td>255.5</td>\n",
       "      <td>19</td>\n",
       "      <td>3.0</td>\n",
       "      <td>2020-04-18T00:00:00.000</td>\n",
       "      <td>16</td>\n",
       "      <td>2020-04-12T00:00:00.000</td>\n",
       "      <td>60603</td>\n",
       "      <td>{'type': 'Point', 'coordinates': [-87.625473, ...</td>\n",
       "    </tr>\n",
       "    <tr>\n",
       "      <th>7</th>\n",
       "      <td>36.0</td>\n",
       "      <td>14311.0</td>\n",
       "      <td>367.0</td>\n",
       "      <td>34.0</td>\n",
       "      <td>38.0</td>\n",
       "      <td>NaN</td>\n",
       "      <td>NaN</td>\n",
       "      <td>NaN</td>\n",
       "      <td>NaN</td>\n",
       "      <td>0.0</td>\n",
       "      <td>...</td>\n",
       "      <td>60603-2020-17</td>\n",
       "      <td>1873.9</td>\n",
       "      <td>255.5</td>\n",
       "      <td>22</td>\n",
       "      <td>3.0</td>\n",
       "      <td>2020-04-25T00:00:00.000</td>\n",
       "      <td>17</td>\n",
       "      <td>2020-04-19T00:00:00.000</td>\n",
       "      <td>60603</td>\n",
       "      <td>{'type': 'Point', 'coordinates': [-87.625473, ...</td>\n",
       "    </tr>\n",
       "    <tr>\n",
       "      <th>8</th>\n",
       "      <td>36.0</td>\n",
       "      <td>14311.0</td>\n",
       "      <td>367.0</td>\n",
       "      <td>34.0</td>\n",
       "      <td>38.0</td>\n",
       "      <td>NaN</td>\n",
       "      <td>NaN</td>\n",
       "      <td>NaN</td>\n",
       "      <td>NaN</td>\n",
       "      <td>0.0</td>\n",
       "      <td>...</td>\n",
       "      <td>60603-2020-18</td>\n",
       "      <td>2981.3</td>\n",
       "      <td>1107.3</td>\n",
       "      <td>35</td>\n",
       "      <td>13.0</td>\n",
       "      <td>2020-05-02T00:00:00.000</td>\n",
       "      <td>18</td>\n",
       "      <td>2020-04-26T00:00:00.000</td>\n",
       "      <td>60603</td>\n",
       "      <td>{'type': 'Point', 'coordinates': [-87.625473, ...</td>\n",
       "    </tr>\n",
       "    <tr>\n",
       "      <th>9</th>\n",
       "      <td>36.0</td>\n",
       "      <td>14311.0</td>\n",
       "      <td>367.0</td>\n",
       "      <td>34.0</td>\n",
       "      <td>38.0</td>\n",
       "      <td>NaN</td>\n",
       "      <td>NaN</td>\n",
       "      <td>NaN</td>\n",
       "      <td>NaN</td>\n",
       "      <td>0.0</td>\n",
       "      <td>...</td>\n",
       "      <td>60603-2020-19</td>\n",
       "      <td>3577.5</td>\n",
       "      <td>596.3</td>\n",
       "      <td>42</td>\n",
       "      <td>7.0</td>\n",
       "      <td>2020-05-09T00:00:00.000</td>\n",
       "      <td>19</td>\n",
       "      <td>2020-05-03T00:00:00.000</td>\n",
       "      <td>60603</td>\n",
       "      <td>{'type': 'Point', 'coordinates': [-87.625473, ...</td>\n",
       "    </tr>\n",
       "  </tbody>\n",
       "</table>\n",
       "<p>10 rows × 26 columns</p>\n",
       "</div>"
      ],
      "text/plain": [
       "   :@computed_region_43wa_7qmu  :@computed_region_6mkv_f3dw  \\\n",
       "0                         36.0                      14311.0   \n",
       "1                         36.0                      14311.0   \n",
       "2                         36.0                      14311.0   \n",
       "3                         36.0                      14311.0   \n",
       "4                         36.0                      14311.0   \n",
       "5                         36.0                      14311.0   \n",
       "6                         36.0                      14311.0   \n",
       "7                         36.0                      14311.0   \n",
       "8                         36.0                      14311.0   \n",
       "9                         36.0                      14311.0   \n",
       "\n",
       "   :@computed_region_bdys_3d7i  :@computed_region_rpca_8um6  \\\n",
       "0                        367.0                         34.0   \n",
       "1                        367.0                         34.0   \n",
       "2                        367.0                         34.0   \n",
       "3                        367.0                         34.0   \n",
       "4                        367.0                         34.0   \n",
       "5                        367.0                         34.0   \n",
       "6                        367.0                         34.0   \n",
       "7                        367.0                         34.0   \n",
       "8                        367.0                         34.0   \n",
       "9                        367.0                         34.0   \n",
       "\n",
       "   :@computed_region_vrxf_vc4k  case_rate_cumulative  case_rate_weekly  \\\n",
       "0                         38.0                   NaN               NaN   \n",
       "1                         38.0                   NaN               NaN   \n",
       "2                         38.0                   NaN               NaN   \n",
       "3                         38.0                   NaN               NaN   \n",
       "4                         38.0                   NaN               NaN   \n",
       "5                         38.0                   NaN               NaN   \n",
       "6                         38.0                   NaN               NaN   \n",
       "7                         38.0                   NaN               NaN   \n",
       "8                         38.0                   NaN               NaN   \n",
       "9                         38.0                   NaN               NaN   \n",
       "\n",
       "   cases_cumulative  cases_weekly  death_rate_cumulative  \\\n",
       "0               NaN           NaN                    0.0   \n",
       "1               NaN           NaN                    0.0   \n",
       "2               NaN           NaN                    0.0   \n",
       "3               NaN           NaN                    0.0   \n",
       "4               NaN           NaN                    0.0   \n",
       "5               NaN           NaN                    0.0   \n",
       "6               NaN           NaN                    0.0   \n",
       "7               NaN           NaN                    0.0   \n",
       "8               NaN           NaN                    0.0   \n",
       "9               NaN           NaN                    0.0   \n",
       "\n",
       "                         ...                                 row_id  \\\n",
       "0                        ...                          60603-2020-10   \n",
       "1                        ...                          60603-2020-11   \n",
       "2                        ...                          60603-2020-12   \n",
       "3                        ...                          60603-2020-13   \n",
       "4                        ...                          60603-2020-14   \n",
       "5                        ...                          60603-2020-15   \n",
       "6                        ...                          60603-2020-16   \n",
       "7                        ...                          60603-2020-17   \n",
       "8                        ...                          60603-2020-18   \n",
       "9                        ...                          60603-2020-19   \n",
       "\n",
       "   test_rate_cumulative  test_rate_weekly  tests_cumulative  tests_weekly  \\\n",
       "0                   0.0               0.0                 0           0.0   \n",
       "1                   0.0               0.0                 0           0.0   \n",
       "2                  85.2              85.2                 1           1.0   \n",
       "3                 340.7             255.5                 4           3.0   \n",
       "4                 851.8             511.1                10           6.0   \n",
       "5                1362.9             511.1                16           6.0   \n",
       "6                1618.4             255.5                19           3.0   \n",
       "7                1873.9             255.5                22           3.0   \n",
       "8                2981.3            1107.3                35          13.0   \n",
       "9                3577.5             596.3                42           7.0   \n",
       "\n",
       "                  week_end week_number               week_start  zip_code  \\\n",
       "0  2020-03-07T00:00:00.000          10  2020-03-01T00:00:00.000     60603   \n",
       "1  2020-03-14T00:00:00.000          11  2020-03-08T00:00:00.000     60603   \n",
       "2  2020-03-21T00:00:00.000          12  2020-03-15T00:00:00.000     60603   \n",
       "3  2020-03-28T00:00:00.000          13  2020-03-22T00:00:00.000     60603   \n",
       "4  2020-04-04T00:00:00.000          14  2020-03-29T00:00:00.000     60603   \n",
       "5  2020-04-11T00:00:00.000          15  2020-04-05T00:00:00.000     60603   \n",
       "6  2020-04-18T00:00:00.000          16  2020-04-12T00:00:00.000     60603   \n",
       "7  2020-04-25T00:00:00.000          17  2020-04-19T00:00:00.000     60603   \n",
       "8  2020-05-02T00:00:00.000          18  2020-04-26T00:00:00.000     60603   \n",
       "9  2020-05-09T00:00:00.000          19  2020-05-03T00:00:00.000     60603   \n",
       "\n",
       "                                   zip_code_location  \n",
       "0  {'type': 'Point', 'coordinates': [-87.625473, ...  \n",
       "1  {'type': 'Point', 'coordinates': [-87.625473, ...  \n",
       "2  {'type': 'Point', 'coordinates': [-87.625473, ...  \n",
       "3  {'type': 'Point', 'coordinates': [-87.625473, ...  \n",
       "4  {'type': 'Point', 'coordinates': [-87.625473, ...  \n",
       "5  {'type': 'Point', 'coordinates': [-87.625473, ...  \n",
       "6  {'type': 'Point', 'coordinates': [-87.625473, ...  \n",
       "7  {'type': 'Point', 'coordinates': [-87.625473, ...  \n",
       "8  {'type': 'Point', 'coordinates': [-87.625473, ...  \n",
       "9  {'type': 'Point', 'coordinates': [-87.625473, ...  \n",
       "\n",
       "[10 rows x 26 columns]"
      ]
     },
     "execution_count": 1,
     "metadata": {},
     "output_type": "execute_result"
    }
   ],
   "source": [
    "import pandas as pd\n",
    "import numpy as np\n",
    "rawCOVID = pd.read_json('https://data.cityofchicago.org/resource/yhhz-zm2v.json?$limit=100000') #Import data directly from data portal\n",
    "rawCOVID.head(10)"
   ]
  },
  {
   "cell_type": "markdown",
   "metadata": {},
   "source": [
    "We'll list the 26 column names"
   ]
  },
  {
   "cell_type": "code",
   "execution_count": 3,
   "metadata": {},
   "outputs": [
    {
     "data": {
      "text/plain": [
       "(8280, 26)"
      ]
     },
     "execution_count": 3,
     "metadata": {},
     "output_type": "execute_result"
    }
   ],
   "source": [
    "rawCOVID.shape"
   ]
  },
  {
   "cell_type": "code",
   "execution_count": 2,
   "metadata": {},
   "outputs": [
    {
     "data": {
      "text/plain": [
       "[':@computed_region_43wa_7qmu',\n",
       " ':@computed_region_6mkv_f3dw',\n",
       " ':@computed_region_bdys_3d7i',\n",
       " ':@computed_region_rpca_8um6',\n",
       " ':@computed_region_vrxf_vc4k',\n",
       " 'case_rate_cumulative',\n",
       " 'case_rate_weekly',\n",
       " 'cases_cumulative',\n",
       " 'cases_weekly',\n",
       " 'death_rate_cumulative',\n",
       " 'death_rate_weekly',\n",
       " 'deaths_cumulative',\n",
       " 'deaths_weekly',\n",
       " 'percent_tested_positive_cumulative',\n",
       " 'percent_tested_positive_weekly',\n",
       " 'population',\n",
       " 'row_id',\n",
       " 'test_rate_cumulative',\n",
       " 'test_rate_weekly',\n",
       " 'tests_cumulative',\n",
       " 'tests_weekly',\n",
       " 'week_end',\n",
       " 'week_number',\n",
       " 'week_start',\n",
       " 'zip_code',\n",
       " 'zip_code_location']"
      ]
     },
     "execution_count": 2,
     "metadata": {},
     "output_type": "execute_result"
    }
   ],
   "source": [
    "list(rawCOVID.columns)"
   ]
  },
  {
   "cell_type": "markdown",
   "metadata": {},
   "source": [
    "Q1. .Does case matter when referring to a column name?\n",
    "<hr>\n",
    "<h3> STEP TWO </h3>\n",
    "Let's streamline the data to just 4 columns, drop rows with missing data,  simplify the column names, and then display the first 20 rows."
   ]
  },
  {
   "cell_type": "code",
   "execution_count": 6,
   "metadata": {},
   "outputs": [
    {
     "data": {
      "text/html": [
       "<div>\n",
       "<style scoped>\n",
       "    .dataframe tbody tr th:only-of-type {\n",
       "        vertical-align: middle;\n",
       "    }\n",
       "\n",
       "    .dataframe tbody tr th {\n",
       "        vertical-align: top;\n",
       "    }\n",
       "\n",
       "    .dataframe thead th {\n",
       "        text-align: right;\n",
       "    }\n",
       "</style>\n",
       "<table border=\"1\" class=\"dataframe\">\n",
       "  <thead>\n",
       "    <tr style=\"text-align: right;\">\n",
       "      <th></th>\n",
       "      <th>deaths</th>\n",
       "      <th>population</th>\n",
       "      <th>tests</th>\n",
       "      <th>zip</th>\n",
       "    </tr>\n",
       "  </thead>\n",
       "  <tbody>\n",
       "    <tr>\n",
       "      <th>0</th>\n",
       "      <td>0</td>\n",
       "      <td>1174</td>\n",
       "      <td>0</td>\n",
       "      <td>60603</td>\n",
       "    </tr>\n",
       "    <tr>\n",
       "      <th>1</th>\n",
       "      <td>0</td>\n",
       "      <td>1174</td>\n",
       "      <td>0</td>\n",
       "      <td>60603</td>\n",
       "    </tr>\n",
       "    <tr>\n",
       "      <th>2</th>\n",
       "      <td>0</td>\n",
       "      <td>1174</td>\n",
       "      <td>1</td>\n",
       "      <td>60603</td>\n",
       "    </tr>\n",
       "    <tr>\n",
       "      <th>3</th>\n",
       "      <td>0</td>\n",
       "      <td>1174</td>\n",
       "      <td>4</td>\n",
       "      <td>60603</td>\n",
       "    </tr>\n",
       "    <tr>\n",
       "      <th>4</th>\n",
       "      <td>0</td>\n",
       "      <td>1174</td>\n",
       "      <td>10</td>\n",
       "      <td>60603</td>\n",
       "    </tr>\n",
       "    <tr>\n",
       "      <th>5</th>\n",
       "      <td>0</td>\n",
       "      <td>1174</td>\n",
       "      <td>16</td>\n",
       "      <td>60603</td>\n",
       "    </tr>\n",
       "    <tr>\n",
       "      <th>6</th>\n",
       "      <td>0</td>\n",
       "      <td>1174</td>\n",
       "      <td>19</td>\n",
       "      <td>60603</td>\n",
       "    </tr>\n",
       "    <tr>\n",
       "      <th>7</th>\n",
       "      <td>0</td>\n",
       "      <td>1174</td>\n",
       "      <td>22</td>\n",
       "      <td>60603</td>\n",
       "    </tr>\n",
       "    <tr>\n",
       "      <th>8</th>\n",
       "      <td>0</td>\n",
       "      <td>1174</td>\n",
       "      <td>35</td>\n",
       "      <td>60603</td>\n",
       "    </tr>\n",
       "    <tr>\n",
       "      <th>9</th>\n",
       "      <td>0</td>\n",
       "      <td>1174</td>\n",
       "      <td>42</td>\n",
       "      <td>60603</td>\n",
       "    </tr>\n",
       "    <tr>\n",
       "      <th>10</th>\n",
       "      <td>0</td>\n",
       "      <td>1174</td>\n",
       "      <td>50</td>\n",
       "      <td>60603</td>\n",
       "    </tr>\n",
       "    <tr>\n",
       "      <th>11</th>\n",
       "      <td>0</td>\n",
       "      <td>1174</td>\n",
       "      <td>64</td>\n",
       "      <td>60603</td>\n",
       "    </tr>\n",
       "    <tr>\n",
       "      <th>12</th>\n",
       "      <td>0</td>\n",
       "      <td>1174</td>\n",
       "      <td>71</td>\n",
       "      <td>60603</td>\n",
       "    </tr>\n",
       "    <tr>\n",
       "      <th>13</th>\n",
       "      <td>0</td>\n",
       "      <td>1174</td>\n",
       "      <td>90</td>\n",
       "      <td>60603</td>\n",
       "    </tr>\n",
       "    <tr>\n",
       "      <th>14</th>\n",
       "      <td>0</td>\n",
       "      <td>1174</td>\n",
       "      <td>100</td>\n",
       "      <td>60603</td>\n",
       "    </tr>\n",
       "    <tr>\n",
       "      <th>15</th>\n",
       "      <td>0</td>\n",
       "      <td>1174</td>\n",
       "      <td>114</td>\n",
       "      <td>60603</td>\n",
       "    </tr>\n",
       "    <tr>\n",
       "      <th>16</th>\n",
       "      <td>0</td>\n",
       "      <td>1174</td>\n",
       "      <td>124</td>\n",
       "      <td>60603</td>\n",
       "    </tr>\n",
       "    <tr>\n",
       "      <th>17</th>\n",
       "      <td>0</td>\n",
       "      <td>1174</td>\n",
       "      <td>148</td>\n",
       "      <td>60603</td>\n",
       "    </tr>\n",
       "    <tr>\n",
       "      <th>18</th>\n",
       "      <td>0</td>\n",
       "      <td>1174</td>\n",
       "      <td>168</td>\n",
       "      <td>60603</td>\n",
       "    </tr>\n",
       "    <tr>\n",
       "      <th>19</th>\n",
       "      <td>0</td>\n",
       "      <td>1174</td>\n",
       "      <td>199</td>\n",
       "      <td>60603</td>\n",
       "    </tr>\n",
       "  </tbody>\n",
       "</table>\n",
       "</div>"
      ],
      "text/plain": [
       "    deaths  population  tests    zip\n",
       "0        0        1174      0  60603\n",
       "1        0        1174      0  60603\n",
       "2        0        1174      1  60603\n",
       "3        0        1174      4  60603\n",
       "4        0        1174     10  60603\n",
       "5        0        1174     16  60603\n",
       "6        0        1174     19  60603\n",
       "7        0        1174     22  60603\n",
       "8        0        1174     35  60603\n",
       "9        0        1174     42  60603\n",
       "10       0        1174     50  60603\n",
       "11       0        1174     64  60603\n",
       "12       0        1174     71  60603\n",
       "13       0        1174     90  60603\n",
       "14       0        1174    100  60603\n",
       "15       0        1174    114  60603\n",
       "16       0        1174    124  60603\n",
       "17       0        1174    148  60603\n",
       "18       0        1174    168  60603\n",
       "19       0        1174    199  60603"
      ]
     },
     "execution_count": 6,
     "metadata": {},
     "output_type": "execute_result"
    }
   ],
   "source": [
    "COVID=rawCOVID[['deaths_cumulative', \"population\",  'tests_cumulative','zip_code']]\n",
    "COVID.dropna  #drop rows with missing data\n",
    "COVID.columns=[\"deaths\",\"population\",\"tests\",\"zip\"] #simplify the column names\n",
    "COVID.head(20)"
   ]
  },
  {
   "cell_type": "markdown",
   "metadata": {},
   "source": [
    "Q2. Why is there different information for the same zip code?\n",
    "<hr>\n",
    "<h3> STEP THREE</h3>\n",
    "Let's check how many rows have data in each column</h3>"
   ]
  },
  {
   "cell_type": "code",
   "execution_count": 7,
   "metadata": {},
   "outputs": [
    {
     "data": {
      "text/plain": [
       "deaths        8280\n",
       "population    8280\n",
       "tests         8280\n",
       "zip           8280\n",
       "dtype: int64"
      ]
     },
     "execution_count": 7,
     "metadata": {},
     "output_type": "execute_result"
    }
   ],
   "source": [
    "COVID.count()"
   ]
  },
  {
   "cell_type": "markdown",
   "metadata": {},
   "source": [
    "Q3.  How many data rows are there in each column?\n",
    "<hr>\n",
    "<h3> STEP FOUR</h3>\n",
    "Let's find out how many times each zip code appears."
   ]
  },
  {
   "cell_type": "code",
   "execution_count": 8,
   "metadata": {},
   "outputs": [
    {
     "data": {
      "text/plain": [
       "60634      138\n",
       "60630      138\n",
       "60666      138\n",
       "60610      138\n",
       "60827      138\n",
       "60657      138\n",
       "60622      138\n",
       "60625      138\n",
       "60633      138\n",
       "60606      138\n",
       "60607      138\n",
       "60632      138\n",
       "60659      138\n",
       "60661      138\n",
       "60612      138\n",
       "60642      138\n",
       "60636      138\n",
       "60616      138\n",
       "60629      138\n",
       "60637      138\n",
       "60605      138\n",
       "Unknown    138\n",
       "60646      138\n",
       "60618      138\n",
       "60620      138\n",
       "60647      138\n",
       "60608      138\n",
       "60643      138\n",
       "60617      138\n",
       "60602      138\n",
       "60640      138\n",
       "60660      138\n",
       "60639      138\n",
       "60649      138\n",
       "60707      138\n",
       "60611      138\n",
       "60655      138\n",
       "60619      138\n",
       "60651      138\n",
       "60613      138\n",
       "60654      138\n",
       "60615      138\n",
       "60624      138\n",
       "60652      138\n",
       "60621      138\n",
       "60609      138\n",
       "60645      138\n",
       "60614      138\n",
       "60628      138\n",
       "60638      138\n",
       "60601      138\n",
       "60603      138\n",
       "60626      138\n",
       "60641      138\n",
       "60631      138\n",
       "60656      138\n",
       "60623      138\n",
       "60604      138\n",
       "60653      138\n",
       "60644      138\n",
       "Name: zip, dtype: int64"
      ]
     },
     "execution_count": 8,
     "metadata": {},
     "output_type": "execute_result"
    }
   ],
   "source": [
    "COVID[\"zip\"].value_counts()"
   ]
  },
  {
   "cell_type": "markdown",
   "metadata": {},
   "source": [
    "<h2>STEP FIVE </h2>\n",
    "Let's make a copy of the COVID dataframe and display the first 5 rows."
   ]
  },
  {
   "cell_type": "code",
   "execution_count": 9,
   "metadata": {},
   "outputs": [
    {
     "data": {
      "text/html": [
       "<div>\n",
       "<style scoped>\n",
       "    .dataframe tbody tr th:only-of-type {\n",
       "        vertical-align: middle;\n",
       "    }\n",
       "\n",
       "    .dataframe tbody tr th {\n",
       "        vertical-align: top;\n",
       "    }\n",
       "\n",
       "    .dataframe thead th {\n",
       "        text-align: right;\n",
       "    }\n",
       "</style>\n",
       "<table border=\"1\" class=\"dataframe\">\n",
       "  <thead>\n",
       "    <tr style=\"text-align: right;\">\n",
       "      <th></th>\n",
       "      <th>deaths</th>\n",
       "      <th>population</th>\n",
       "      <th>tests</th>\n",
       "      <th>zip</th>\n",
       "    </tr>\n",
       "  </thead>\n",
       "  <tbody>\n",
       "    <tr>\n",
       "      <th>0</th>\n",
       "      <td>0</td>\n",
       "      <td>1174</td>\n",
       "      <td>0</td>\n",
       "      <td>60603</td>\n",
       "    </tr>\n",
       "    <tr>\n",
       "      <th>1</th>\n",
       "      <td>0</td>\n",
       "      <td>1174</td>\n",
       "      <td>0</td>\n",
       "      <td>60603</td>\n",
       "    </tr>\n",
       "    <tr>\n",
       "      <th>2</th>\n",
       "      <td>0</td>\n",
       "      <td>1174</td>\n",
       "      <td>1</td>\n",
       "      <td>60603</td>\n",
       "    </tr>\n",
       "    <tr>\n",
       "      <th>3</th>\n",
       "      <td>0</td>\n",
       "      <td>1174</td>\n",
       "      <td>4</td>\n",
       "      <td>60603</td>\n",
       "    </tr>\n",
       "    <tr>\n",
       "      <th>4</th>\n",
       "      <td>0</td>\n",
       "      <td>1174</td>\n",
       "      <td>10</td>\n",
       "      <td>60603</td>\n",
       "    </tr>\n",
       "  </tbody>\n",
       "</table>\n",
       "</div>"
      ],
      "text/plain": [
       "   deaths  population  tests    zip\n",
       "0       0        1174      0  60603\n",
       "1       0        1174      0  60603\n",
       "2       0        1174      1  60603\n",
       "3       0        1174      4  60603\n",
       "4       0        1174     10  60603"
      ]
     },
     "execution_count": 9,
     "metadata": {},
     "output_type": "execute_result"
    }
   ],
   "source": [
    "df1=COVID\n",
    "df1.head(5)"
   ]
  },
  {
   "cell_type": "markdown",
   "metadata": {},
   "source": [
    "<h2> STEP SIX </h2> \n",
    "\n",
    "Filter data by a specific zip code, for example, '60611'"
   ]
  },
  {
   "cell_type": "code",
   "execution_count": 10,
   "metadata": {},
   "outputs": [
    {
     "data": {
      "text/html": [
       "<div>\n",
       "<style scoped>\n",
       "    .dataframe tbody tr th:only-of-type {\n",
       "        vertical-align: middle;\n",
       "    }\n",
       "\n",
       "    .dataframe tbody tr th {\n",
       "        vertical-align: top;\n",
       "    }\n",
       "\n",
       "    .dataframe thead th {\n",
       "        text-align: right;\n",
       "    }\n",
       "</style>\n",
       "<table border=\"1\" class=\"dataframe\">\n",
       "  <thead>\n",
       "    <tr style=\"text-align: right;\">\n",
       "      <th></th>\n",
       "      <th>deaths</th>\n",
       "      <th>population</th>\n",
       "      <th>tests</th>\n",
       "      <th>zip</th>\n",
       "    </tr>\n",
       "  </thead>\n",
       "  <tbody>\n",
       "    <tr>\n",
       "      <th>952</th>\n",
       "      <td>2</td>\n",
       "      <td>32426</td>\n",
       "      <td>2076</td>\n",
       "      <td>60611</td>\n",
       "    </tr>\n",
       "    <tr>\n",
       "      <th>953</th>\n",
       "      <td>2</td>\n",
       "      <td>32426</td>\n",
       "      <td>2476</td>\n",
       "      <td>60611</td>\n",
       "    </tr>\n",
       "    <tr>\n",
       "      <th>954</th>\n",
       "      <td>2</td>\n",
       "      <td>32426</td>\n",
       "      <td>2842</td>\n",
       "      <td>60611</td>\n",
       "    </tr>\n",
       "    <tr>\n",
       "      <th>955</th>\n",
       "      <td>2</td>\n",
       "      <td>32426</td>\n",
       "      <td>3354</td>\n",
       "      <td>60611</td>\n",
       "    </tr>\n",
       "    <tr>\n",
       "      <th>956</th>\n",
       "      <td>3</td>\n",
       "      <td>32426</td>\n",
       "      <td>3827</td>\n",
       "      <td>60611</td>\n",
       "    </tr>\n",
       "  </tbody>\n",
       "</table>\n",
       "</div>"
      ],
      "text/plain": [
       "     deaths  population  tests    zip\n",
       "952       2       32426   2076  60611\n",
       "953       2       32426   2476  60611\n",
       "954       2       32426   2842  60611\n",
       "955       2       32426   3354  60611\n",
       "956       3       32426   3827  60611"
      ]
     },
     "execution_count": 10,
     "metadata": {},
     "output_type": "execute_result"
    }
   ],
   "source": [
    "df2=df1[df1['zip']=='60611']\n",
    "df2.head()"
   ]
  },
  {
   "cell_type": "code",
   "execution_count": 11,
   "metadata": {},
   "outputs": [
    {
     "data": {
      "text/plain": [
       "60611    138\n",
       "Name: zip, dtype: int64"
      ]
     },
     "execution_count": 11,
     "metadata": {},
     "output_type": "execute_result"
    }
   ],
   "source": [
    "df2[\"zip\"].value_counts()"
   ]
  },
  {
   "cell_type": "markdown",
   "metadata": {},
   "source": [
    "<h2> STEP SEVEN </h2>\n",
    "Let's find the largest value in the 'tests' column for zip '60611'."
   ]
  },
  {
   "cell_type": "code",
   "execution_count": 13,
   "metadata": {},
   "outputs": [
    {
     "data": {
      "text/plain": [
       "366842"
      ]
     },
     "execution_count": 13,
     "metadata": {},
     "output_type": "execute_result"
    }
   ],
   "source": [
    "df2 = df1[df1[\"zip\"]=='60637'] #get just rows with zip 60611\n",
    "numtested=df2[\"tests\"].max() #get the largest number for tests\n",
    "numtested"
   ]
  },
  {
   "cell_type": "markdown",
   "metadata": {},
   "source": [
    "Question:  How can we find how many deaths due to COVID have occurred in zip '60623'?  (Create a new dataframe for 60623 called temp)"
   ]
  },
  {
   "cell_type": "code",
   "execution_count": 15,
   "metadata": {},
   "outputs": [
    {
     "data": {
      "text/plain": [
       "330"
      ]
     },
     "execution_count": 15,
     "metadata": {},
     "output_type": "execute_result"
    }
   ],
   "source": [
    "df3 = COVID[df1[\"zip\"]=='60623'] #get just rows with zip 60611\n",
    "numdeaths=df3[\"deaths\"].max() #get the largest number for tests\n",
    "numdeaths"
   ]
  },
  {
   "cell_type": "markdown",
   "metadata": {},
   "source": [
    "Question: How can we get the population in 60623?"
   ]
  },
  {
   "cell_type": "code",
   "execution_count": 16,
   "metadata": {},
   "outputs": [
    {
     "data": {
      "text/plain": [
       "85979"
      ]
     },
     "execution_count": 16,
     "metadata": {},
     "output_type": "execute_result"
    }
   ],
   "source": [
    "df3 = COVID[df1[\"zip\"]=='60623'] #get just rows with zip 60611\n",
    "pop=df3[\"population\"].max() #get the largest number for tests\n",
    "pop\n"
   ]
  },
  {
   "cell_type": "markdown",
   "metadata": {},
   "source": [
    "<h3> STEP EIGHT</h3>\n",
    "We can instruct the computer to give us the number COVID tests for any Chicago zipcode. </h3>"
   ]
  },
  {
   "cell_type": "code",
   "execution_count": 17,
   "metadata": {},
   "outputs": [],
   "source": [
    "def MyCOVID(COVID,zip):\n",
    "    alreadychecked=0  #eliminate duplication of information\n",
    "    for z in COVID.index:  #go through all the index values\n",
    "        if COVID.loc[z,\"zip\"]==zip and alreadychecked==0:    #found the zip we requested (first-time)\n",
    "            alreadychecked=1  #we will only do this once\n",
    "            df=COVID[COVID[\"zip\"]==zip]\n",
    "            numtested=df[\"tests\"].max()\n",
    "            print(\"Zip code: \", zip)  #print zipcode\n",
    "            print(\"number tested is \", numtested) #print number tested\n",
    "    return (\"Enter a different zip code if you wish.\")"
   ]
  },
  {
   "cell_type": "markdown",
   "metadata": {},
   "source": [
    "Q5. Test out the function on zip code '60610'"
   ]
  },
  {
   "cell_type": "code",
   "execution_count": 19,
   "metadata": {},
   "outputs": [
    {
     "name": "stdout",
     "output_type": "stream",
     "text": [
      "Zip code:  60637\n",
      "number tested is  366842\n"
     ]
    },
    {
     "data": {
      "text/plain": [
       "'Enter a different zip code if you wish.'"
      ]
     },
     "execution_count": 19,
     "metadata": {},
     "output_type": "execute_result"
    }
   ],
   "source": [
    "MyCOVID(COVID,'60637')"
   ]
  },
  {
   "cell_type": "code",
   "execution_count": null,
   "metadata": {},
   "outputs": [],
   "source": [
    "def MyCOVID2(COVID,zip):\n",
    "    alreadychecked=0  #eliminate duplication of information\n",
    "    for z in COVID.index:  #go through all the index values\n",
    "        if COVID.loc[z,\"zip\"]==zip and alreadychecked==0:    #found the zip we requested (first-time)\n",
    "            alreadychecked=1  #we will only do this once\n",
    "            df=COVID[COVID[\"zip\"]==zip]\n",
    "            numtested=df[\"tests\"].max()\n",
    "            numdeaths=df[\"deaths\"].max()\n",
    "            print(\"Zip code: \", zip)  #print zipcode\n",
    "            print(\"number tested is \", numtested) #print number tested\n",
    "            print(\"number of deaths is \", numdeaths) #print number tested\n",
    "    return (\"Enter a different zip code if you wish.\")"
   ]
  },
  {
   "cell_type": "markdown",
   "metadata": {},
   "source": [
    "<h3> Assignment </h3>"
   ]
  },
  {
   "cell_type": "code",
   "execution_count": null,
   "metadata": {},
   "outputs": [],
   "source": [
    "MyCOVID2(COVID,\"60619\")"
   ]
  },
  {
   "cell_type": "markdown",
   "metadata": {},
   "source": [
    "Q1)  Define a function myCOVID2() which outputs for each given zip code the population, number tested, and number of deaths. "
   ]
  },
  {
   "cell_type": "markdown",
   "metadata": {},
   "source": [
    "Q2)  Use your function myCOVID2() to determine the COVID data for each of the following Chicago landmarks:\n",
    "\n",
    "a) North Park University (zip  '60625')\n"
   ]
  },
  {
   "cell_type": "code",
   "execution_count": null,
   "metadata": {
    "collapsed": true
   },
   "outputs": [],
   "source": [
    "# solution to 2a)"
   ]
  },
  {
   "cell_type": "markdown",
   "metadata": {},
   "source": [
    "b) Wheaton in Chicago (zip='60637')"
   ]
  },
  {
   "cell_type": "code",
   "execution_count": null,
   "metadata": {},
   "outputs": [],
   "source": [
    "# solution to 2b)"
   ]
  },
  {
   "cell_type": "markdown",
   "metadata": {},
   "source": [
    "Q3) Why is COVID disproportionately impacting black and brown communities?"
   ]
  },
  {
   "cell_type": "markdown",
   "metadata": {},
   "source": [
    "### Solutions"
   ]
  },
  {
   "cell_type": "markdown",
   "metadata": {},
   "source": [
    "Q1)"
   ]
  },
  {
   "cell_type": "code",
   "execution_count": null,
   "metadata": {},
   "outputs": [],
   "source": [
    "def MyCOVID2(COVID,zip):\n",
    "    alreadychecked=0  #eliminate duplication of information\n",
    "    for z in COVID.index:  #go through all the index values\n",
    "        if COVID.loc[z,\"zip\"]==zip and alreadychecked==0:    #found the zip we requested (first-time)\n",
    "            alreadychecked=1  #we will only do this once\n",
    "            df=COVID[COVID[\"zip\"]==zip]\n",
    "            numtested=df[\"tests\"].max()\n",
    "            numdeaths=df[\"deaths\"].max()\n",
    "            print(\"Zip code: \", zip)  #print zipcode\n",
    "            print(\"number tested is \", numtested) #print number tested\n",
    "            print(\"number of deaths is \", numdeaths) #print number tested\n",
    "    return (\"Enter a different zip code if you wish.\")"
   ]
  },
  {
   "cell_type": "markdown",
   "metadata": {},
   "source": [
    "Q2a)"
   ]
  },
  {
   "cell_type": "code",
   "execution_count": null,
   "metadata": {},
   "outputs": [],
   "source": [
    "MyCOVID(COVID,'60625')"
   ]
  },
  {
   "cell_type": "markdown",
   "metadata": {},
   "source": [
    "Q2b)"
   ]
  },
  {
   "cell_type": "code",
   "execution_count": null,
   "metadata": {},
   "outputs": [],
   "source": [
    "MyCOVID(COVID,'60637')"
   ]
  },
  {
   "cell_type": "markdown",
   "metadata": {},
   "source": [
    "Q3)"
   ]
  }
 ],
 "metadata": {
  "kernelspec": {
   "display_name": "Python 3 (ipykernel)",
   "language": "python",
   "name": "python3"
  },
  "language_info": {
   "codemirror_mode": {
    "name": "ipython",
    "version": 3
   },
   "file_extension": ".py",
   "mimetype": "text/x-python",
   "name": "python",
   "nbconvert_exporter": "python",
   "pygments_lexer": "ipython3",
   "version": "3.10.9"
  }
 },
 "nbformat": 4,
 "nbformat_minor": 2
}
