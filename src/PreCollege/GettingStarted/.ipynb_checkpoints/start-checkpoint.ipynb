{
 "cells": [
  {
   "cell_type": "markdown",
   "metadata": {},
   "source": [
    "# 0. Getting Started with Jupyter Notebooks (JNBs)"
   ]
  },
  {
   "cell_type": "markdown",
   "metadata": {},
   "source": [
    "<h3>Installing Jupyter Notebooks</h3>"
   ]
  },
  {
   "cell_type": "markdown",
   "metadata": {},
   "source": [
    "1) Install Jupyter Notebooks using the Anaconda distribution.\n",
    "\n",
    "<a href=\"https://www.anaconda.com/download/\">Install Jupyter Notebooks</a>\n",
    "\n"
   ]
  },
  {
   "cell_type": "markdown",
   "metadata": {},
   "source": [
    "2) Download these three files to your computer from \n",
    "\n",
    "bears.xlsx\n",
    "\n",
    "start.ipynb\n",
    "\n",
    "upload.png\n",
    "\n",
    "<a href=\"https://drive.google.com/drive/folders/10T29vt8E-HLhBrc0VaKCrnNyV84S34V_?usp=sharingUpload\">Get files</a> \n",
    "\n"
   ]
  },
  {
   "cell_type": "markdown",
   "metadata": {},
   "source": [
    "3) Launch Jupyter Notebooks and upload these three files to your Jupyter Notebook directory as shown in the two red circles numbered 1 and 2 below."
   ]
  },
  {
   "cell_type": "markdown",
   "metadata": {},
   "source": [
    "<br>\n",
    "\n",
    "<img src=\"upload.png\" width=\"700px\"> <br>"
   ]
  },
  {
   "cell_type": "markdown",
   "metadata": {},
   "source": [
    "4) Open the JNB \"start.ipynb\" by clicking on it."
   ]
  },
  {
   "cell_type": "markdown",
   "metadata": {},
   "source": [
    "5) On the top menu bar, click on kernel, Restart&Run All "
   ]
  },
  {
   "cell_type": "markdown",
   "metadata": {},
   "source": [
    "Having completed these steps, you are ready to begin this Lab."
   ]
  },
  {
   "cell_type": "markdown",
   "metadata": {},
   "source": [
    "<h3> Lab </h3>"
   ]
  },
  {
   "cell_type": "markdown",
   "metadata": {},
   "source": [
    " <h4>Step One</h4>\n",
    " Press shift+enter to execute the following cell."
   ]
  },
  {
   "cell_type": "code",
   "execution_count": 2,
   "metadata": {},
   "outputs": [],
   "source": [
    "import pandas as pd"
   ]
  },
  {
   "cell_type": "markdown",
   "metadata": {},
   "source": [
    "<h4>STEP TWO</h4>\n",
    "Make sure you have the file \"bears.xlsx\" in the same directory as this JNB. (You can check by clicking on File, Open)"
   ]
  },
  {
   "cell_type": "markdown",
   "metadata": {},
   "source": [
    "<h4>STEP THREE</h4>\n",
    "Now we can use the read_excel() function in the pandas (abbreviated pd) library to read  the data into what is called a dataframe.  We will name our dataframe bear_info. Press shift+enter to execute the next cell.  (The # symbol preceeds a comment explaining a line or block of code)"
   ]
  },
  {
   "cell_type": "code",
   "execution_count": 3,
   "metadata": {},
   "outputs": [
    {
     "data": {
      "text/html": [
       "<div>\n",
       "<style scoped>\n",
       "    .dataframe tbody tr th:only-of-type {\n",
       "        vertical-align: middle;\n",
       "    }\n",
       "\n",
       "    .dataframe tbody tr th {\n",
       "        vertical-align: top;\n",
       "    }\n",
       "\n",
       "    .dataframe thead th {\n",
       "        text-align: right;\n",
       "    }\n",
       "</style>\n",
       "<table border=\"1\" class=\"dataframe\">\n",
       "  <thead>\n",
       "    <tr style=\"text-align: right;\">\n",
       "      <th></th>\n",
       "      <th>Animal</th>\n",
       "      <th>Life_Span_in_Years</th>\n",
       "      <th>Size_in_Feet</th>\n",
       "      <th>Weight_in_Pounds</th>\n",
       "    </tr>\n",
       "  </thead>\n",
       "  <tbody>\n",
       "    <tr>\n",
       "      <th>0</th>\n",
       "      <td>Black</td>\n",
       "      <td>20</td>\n",
       "      <td>6</td>\n",
       "      <td>600</td>\n",
       "    </tr>\n",
       "    <tr>\n",
       "      <th>1</th>\n",
       "      <td>Giant Panda</td>\n",
       "      <td>20</td>\n",
       "      <td>5</td>\n",
       "      <td>300</td>\n",
       "    </tr>\n",
       "    <tr>\n",
       "      <th>2</th>\n",
       "      <td>Grizzly</td>\n",
       "      <td>25</td>\n",
       "      <td>8</td>\n",
       "      <td>800</td>\n",
       "    </tr>\n",
       "  </tbody>\n",
       "</table>\n",
       "</div>"
      ],
      "text/plain": [
       "        Animal  Life_Span_in_Years  Size_in_Feet  Weight_in_Pounds\n",
       "0        Black                  20             6               600\n",
       "1  Giant Panda                  20             5               300\n",
       "2      Grizzly                  25             8               800"
      ]
     },
     "execution_count": 3,
     "metadata": {},
     "output_type": "execute_result"
    }
   ],
   "source": [
    "import pandas as pd  #import the pandas library (abbreviated pd)\n",
    "bear_info=pd.read_excel(\"bears.xlsx\")  #read in the data\n",
    "bear_info  #display the data"
   ]
  },
  {
   "cell_type": "markdown",
   "metadata": {},
   "source": [
    "Q. What is the weight given for a Giant Panda? (Click the + sign to create a new cell.  Then click on the new cell and change the type of the cell from \"Code\" to \"Markdown\".  Then type your answer. \"A Giant Panda weighs ...\"  Shift+enter will register your answer. "
   ]
  }
 ],
 "metadata": {
  "kernelspec": {
   "display_name": "Python 3 (ipykernel)",
   "language": "python",
   "name": "python3"
  },
  "language_info": {
   "codemirror_mode": {
    "name": "ipython",
    "version": 3
   },
   "file_extension": ".py",
   "mimetype": "text/x-python",
   "name": "python",
   "nbconvert_exporter": "python",
   "pygments_lexer": "ipython3",
   "version": "3.10.9"
  }
 },
 "nbformat": 4,
 "nbformat_minor": 2
}
