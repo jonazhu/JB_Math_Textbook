{
 "cells": [
  {
   "cell_type": "markdown",
   "id": "9445765d",
   "metadata": {},
   "source": [
    "# 5. Integrals"
   ]
  },
  {
   "cell_type": "markdown",
   "id": "471aacd8",
   "metadata": {},
   "source": [
    "Below is the list of topics that are covered in this section:\n",
    "- Antiderivative and Indefinite Integrals\n",
    "- Area Problem and Definite Integrals\n",
    "- Fundamental Theorems of Calculus\n",
    "- Improper Integrals\n",
    "- Average Value\n",
    "- Area Between Curves"
   ]
  },
  {
   "cell_type": "markdown",
   "id": "6ea09882",
   "metadata": {},
   "source": [
    "## 5.1 Antiderivative and Indefinite Integrals"
   ]
  },
  {
   "cell_type": "markdown",
   "id": "b45f074c",
   "metadata": {},
   "source": [
    "In the previous section we worked with derivatives. One easy example with power rule is that **the** derivative of $f(x)=x^2$ is $f\\,'(x)=2x$.<br>\n",
    "What if we would like to reverse this process? What is a function $f(x)$ that has derivative $2x$? <br>\n",
    "Note that $x^2$ is not the only such function as $x^2+3, x^2-5, x^2+66, x^2-\\pi$, in general $x^2+C$ for any constant $C$, are all derived into $2x$."
   ]
  },
  {
   "cell_type": "markdown",
   "id": "55922fdb",
   "metadata": {},
   "source": [
    "Given a function $f(x)$. <br>\n",
    "**An antiderivative** of $f(x)$ is any function $F(x)$ \n",
    "such that $F\\,'(x)=f(x)$.<br>\n",
    "\n",
    "If $F(x)$ is an antiderivative of $f(x)$, then the general antiderivative of $f(x)$ is called an **indefinite integral**, denoted \n",
    "\n",
    "$$\n",
    "\\int f(x)\\,dx=F(x)+C, \n",
    "$$\n",
    "\n",
    "here $C$ is a constant.\n",
    "\n",
    "- The symbol $\\int$ is called the **integral** symbol\n",
    "- $f(x)$ is called the **integrand**\n",
    "- $x$ is called the **integration variable**\n",
    "- $C$ is called the **constant of integration**\n",
    "\n",
    "In this case we say we are **integrating $\\boldsymbol{f(x)}$ with respect to (w.r.t.) $x$**."
   ]
  },
  {
   "cell_type": "markdown",
   "id": "fa8db8e6",
   "metadata": {},
   "source": [
    "#### Properties of the Indefinite Integral"
   ]
  },
  {
   "cell_type": "markdown",
   "id": "b08eb65d",
   "metadata": {},
   "source": [
    "- Constant multiple can be factored out the indefinite integral \n",
    "\n",
    "$$\n",
    "\\int k\\cdot f(x)\\,dx=k\\cdot \\int f(x)\\,dx\n",
    "$$\n",
    "    \n",
    "- Indefinite integral of the sum or difference of functions \n",
    "\n",
    "$$\n",
    "\\int f(x)\\pm g(x) \\,dx = \\int f(x)\\,dx \\pm \\int g(x)\\,dx\n",
    "$$"
   ]
  },
  {
   "cell_type": "markdown",
   "id": "0da8d185",
   "metadata": {},
   "source": [
    "#### Basic Antiderivative Formulas"
   ]
  },
  {
   "cell_type": "markdown",
   "id": "f9fbb9c1",
   "metadata": {},
   "source": [
    "Antiderivative formulas for some basic integrands:\n",
    "- Constant \n",
    "\n",
    "$$\n",
    "\\int k \\,dx=kx+C\n",
    "$$\n",
    "    \n",
    "    \n",
    "- Power Rule \n",
    "\n",
    "$$\n",
    "\\int x^n\\,dx=\\dfrac{x^{n+1}}{n+1}+C,\\quad n\\neq -1\n",
    "$$\n",
    "\n",
    "- Power of $-1$ \n",
    "\n",
    "$$\n",
    "\\int \\dfrac{1}{x}\\,dx = \\ln|x|+C\n",
    "$$\n",
    "\n",
    "- Exponential\n",
    "\n",
    "$$\n",
    "\\int b^x\\,dx=\\dfrac{b^x}{\\ln(b)}+C\n",
    "$$\n",
    "\n",
    "- Exponential when $b=e$ \n",
    "\n",
    "$$\n",
    "\\int e^x\\,dx=\\dfrac{e^x}{\\ln(e)}+C=\\dfrac{e^x}{1}+C=e^x+C\n",
    "$$\n",
    "\n",
    "- Sine\n",
    "\n",
    "$$\n",
    "\\int \\sin(x)\\,dx=-\\cos(x)+C\n",
    "$$\n",
    "\n",
    "- Cosine\n",
    "\n",
    "$$\n",
    "\\int \\cos(x)\\,dx=\\sin(x)+C\n",
    "$$"
   ]
  },
  {
   "cell_type": "markdown",
   "id": "2ed10710",
   "metadata": {},
   "source": [
    "#### Integration by U-substitution"
   ]
  },
  {
   "cell_type": "markdown",
   "id": "3a60ce3a",
   "metadata": {},
   "source": [
    "On the Derivative section, we already see how Chain Rule is used to find the derivative of a composition of two functions.<br>\n",
    "Similarly, there is a tool that can be used to find an antiderivative of certain functions involving composition of functions. <br>\n",
    "\n",
    "**Rule:**\n",
    "\n",
    "$$\n",
    "\\int f\\left(g\\left(x\\right)\\right)\\cdot g\\,'(x)\\,dx=\\int f(u) \\,du, \\quad \\text{ where }u=g(x)\n",
    "$$\n",
    "    \n",
    "Note that to use this rule, the integrand must contain a composition function $f\\left(g\\left(x\\right)\\right)$ multiplied with the derivative of the inside function $g(x)$. "
   ]
  },
  {
   "cell_type": "markdown",
   "id": "09828bc8",
   "metadata": {},
   "source": [
    "**Steps for U-subs**<br>\n",
    "1. Find $u$, which is the inside function\n",
    "2. Find $du$ in terms of $x$ and $dx$\n",
    "3. Substitute the integrals, if done correctly will only have integration in terms of variable $u$, not the original variable.\n",
    "4. Integrate \n",
    "5. Substitute back the $u$ in terms of the original variable."
   ]
  },
  {
   "cell_type": "markdown",
   "id": "e6db0a88",
   "metadata": {},
   "source": [
    "**Example**<br>\n",
    "Determine $\\displaystyle\\int 6x^2\\left(x^3+8\\right)^5\\, dx$. <br>\n",
    "\n",
    "The \"inside function\" here is $x^3+8$, which derivative is $3x^2$. Hence, set up the integration as such, then do the steps above:\n",
    "\n",
    "\n",
    "$$\n",
    "\\int 6x^2\\left(x^3+8\\right)^5\\,dx = 2\\cdot \\int \\left(x^3+8\\right)^5\\cdot 3x^2\\,dx\n",
    "$$\n",
    "\n",
    "Steps:<br>\n",
    "1. $u=x^3+8$\n",
    "2. $du=3x^2 \\,dx$\n",
    "3. Substitute $u$ and $du$:<br> $2\\cdot \\displaystyle\\int \\underbrace{\\left(x^3+8\\right)}_{u}^5\\cdot \\underbrace{3x^2\\,dx}_{du} = 2\\cdot \\displaystyle\\int u^5\\,du$\n",
    "4. Integrate: <br>$2\\cdot \\displaystyle\\int u^5\\,du=2\\cdot \\dfrac{u^6}{6}+C$\n",
    "5. Substitute back to $x$: <br>\n",
    "$2\\cdot \\dfrac{u^6}{6}+C=2\\cdot \\dfrac{\\left(x^3+8\\right)^6}{6}+C=\\dfrac{\\left(x^3+8\\right)^6}{3}+C$\n",
    "\n",
    "Hence:\n",
    "\n",
    "$$\n",
    "\\int 6x^2\\left(x^3+8\\right)^5\\,dx = \\dfrac{\\left(x^3+8\\right)^6}{3}+C\n",
    "$$"
   ]
  },
  {
   "cell_type": "markdown",
   "id": "83a8ba7b",
   "metadata": {},
   "source": [
    "#### Integration by Parts (IBP)"
   ]
  },
  {
   "cell_type": "markdown",
   "id": "d1644ed1",
   "metadata": {},
   "source": [
    "On the Derivative section, we already see how Product Rule is used to find the derivative of a product of two functions.<br>\n",
    "Similarly, there is a tool that can be used to find an antiderivative of certain functions involving product of two functions."
   ]
  },
  {
   "cell_type": "markdown",
   "id": "c5f989ad",
   "metadata": {},
   "source": [
    "**Rule**\n",
    "\n",
    "$$\n",
    "\\int f\\cdot g\\,'\\;dx=fg-\\int f\\,'\\cdot g \\;dx\n",
    "$$\n",
    "\n",
    "or, more commonly remembered as: \n",
    "\n",
    "$$\n",
    "\\int u\\; dv = uv-\\int v\\; du\n",
    "$$\n",
    "\n",
    "A common issue with this set up is deciding which factor of the product should be $u$ and which one should be $dv$. While there are many \"tricks\" offered by some resources, there are no official rules on which factor is which. If one set up does not work, we can always try the other set up. Repetitive practice is the best way to develop the sense of recognizing which factor is \"a good choice\" to be $u$ or $dv$."
   ]
  },
  {
   "cell_type": "markdown",
   "id": "169784eb",
   "metadata": {},
   "source": [
    "**Example**<br>\n",
    "Determine $\\displaystyle\\int x\\cdot e^{3x}\\,dx$<br>\n",
    "\n",
    "First choose the $u$ and $dv$:<br>\n",
    "$$u=x \\qquad dv=e^{3x} \\,dx$$\n",
    "\n",
    "Next, find $du$ and $v$:\n",
    "\n",
    "$$\n",
    "u=x \\Rightarrow \\, du=dx \n",
    "$$\n",
    "\n",
    "$$\n",
    "dv=e^{3x} \\Rightarrow \\int e^{3x}\\,dx = \\dfrac{e^{3x}}{3}\n",
    "$$\n",
    "\n",
    "Thus:\n",
    "\n",
    "$$\n",
    "\\int x\\cdot e^{3x}\\,dx = x\\cdot \\dfrac{e^{3x}}{3} - \\int \\dfrac{e^{3x}}{3} \\,dx =\n",
    "$$\n",
    "\n",
    "$$\n",
    "\\dfrac{xe^{3x}}{3}- \\dfrac{1}{3}\\cdot \\int e^{3x} \\,dx =\n",
    "$$\n",
    "\n",
    "\n",
    "$$\n",
    "\\dfrac{xe^{3x}}{3}- \\dfrac{1}{9}e^{3x}+C\n",
    "$$\n",
    "\n",
    "Now, try to do $u=e^{3x}$ and $dv=x\\,dx$ instead, what happen?"
   ]
  },
  {
   "cell_type": "markdown",
   "id": "d1d0534b",
   "metadata": {},
   "source": [
    "Note that both U-Subs and IBP are used to work on product of two functions, with the restriction on U-Subs being stricter. Hence, there are indefinite integrals that can be evaluated using either U-Subs and IBP. "
   ]
  },
  {
   "cell_type": "markdown",
   "id": "cf5ce3aa",
   "metadata": {},
   "source": [
    "Below is a code example that ask user for the integrand $f(x)$, and returned the general antiderivative $\\displaystyle\\int f(x)\\,dx$."
   ]
  },
  {
   "cell_type": "code",
   "execution_count": 1,
   "id": "1f6a11f6",
   "metadata": {},
   "outputs": [],
   "source": [
    "import sympy as sp\n",
    "\n",
    "def find_antiderivative():\n",
    "    # Prompt the user for the function f(x)\n",
    "    function_input = input(\"Enter the function f(x): \")\n",
    "\n",
    "    # Define the variable and function using sympy\n",
    "    x = sp.Symbol('x')\n",
    "    f = sp.sympify(function_input)\n",
    "\n",
    "    # Compute the antiderivative of f(x)\n",
    "    antiderivative = sp.integrate(f, x)\n",
    "\n",
    "    # Return the general antiderivative\n",
    "    return antiderivative\n"
   ]
  },
  {
   "cell_type": "code",
   "execution_count": 2,
   "id": "b5300451",
   "metadata": {},
   "outputs": [
    {
     "name": "stdout",
     "output_type": "stream",
     "text": [
      "Enter the function f(x): x**2\n",
      "General Antiderivative:\n",
      "x**3/3\n"
     ]
    }
   ],
   "source": [
    "# Run the function to find the antiderivative\n",
    "antiderivative = find_antiderivative()\n",
    "\n",
    "# Print the general antiderivative\n",
    "print(\"General Antiderivative:\")\n",
    "print(antiderivative)"
   ]
  },
  {
   "cell_type": "markdown",
   "id": "711a8067",
   "metadata": {},
   "source": [
    "## 5.2 Area Problem and Definite Integrals"
   ]
  },
  {
   "cell_type": "markdown",
   "id": "868daaa6",
   "metadata": {},
   "source": [
    "Unlike indefinite integrals, definite integrals don't come from reversing the process of evaluating derivative. Definite integrals comes from **Area Problem**. <br> \n",
    "Analogically, the area problems to definite integrals is just like RoC problems to derivatives."
   ]
  },
  {
   "cell_type": "markdown",
   "id": "64ad4859",
   "metadata": {},
   "source": [
    "The goal of the area problem is to find the area of the region between the graph of $f(x)$ and the $x$-axis. If that region has a common two-dimensional shapes, then it is enough to use basic geometry to find the area.<br>\n",
    "\n",
    "**Example**<br>\n",
    "Find the shaded area formed by the function $f(x)=2x$ and the $x$-axis on the interval $[0,2]$.<br>\n",
    "<img src=\"5Int2AP1.png\" width=\"200px\"> <br>\n",
    "Note that the area is simply a triangle area with base $2$ and height $4$. Hence the area is $\\frac{1}{2}\\cdot 2\\cdot 4=4$.<br>"
   ]
  },
  {
   "cell_type": "markdown",
   "id": "d64299f9",
   "metadata": {},
   "source": [
    "Now, how about finding the shaded area formed by the function, say, $f(x)=0.5x^2+2$ and the $x$-axis on the interval $[0,2]$?<br>\n",
    "<img src=\"5Int2AP2.png\" width=\"200px\"> <br>\n",
    "While we might not able to calculate this area exactly using high school 2D geometry, we can do an estimation."
   ]
  },
  {
   "cell_type": "markdown",
   "id": "b0a80a0b",
   "metadata": {},
   "source": [
    "Estimating the area can be done by dividing the interval into several subintervals, and in each subinterval create a rectangle whose height is using the function value at a specific point in that subinterval.<br>\n",
    "The approximation of the area is then obtained by adding the total area of all rectangles. <br>\n",
    "Below are the example if we divide the interval $[0,2]$ into 4 subintervals, and use certain points as the height of each rectangle:<br>\n",
    "<img src=\"5Int2AP3.png\" width=\"650px\"> <br>\n",
    "As their name suggests, the **Left Sum, Middle Sum (Midpoint Rule)**, and **Right Sum** are using the function values at the left endpoints, midpoints, and right endpoints, respectively, as the height of the rectangles. <br>"
   ]
  },
  {
   "cell_type": "markdown",
   "id": "b76512ac",
   "metadata": {},
   "source": [
    "Since this example divides the interval $[0,2]$ into 4 subintervals, then the width of each rectangle is $\\frac{2-0}{4}=0.5$. <br>\n",
    "Let $A_L,A_M,$and $A_R$ denotes the area approximation using the Left, Middle, and Right sum, respectively. Then: <br>\n",
    "$$\n",
    "\\begin{align}\n",
    "A_L &= 0.5\\cdot f(0) + 0.5\\cdot f(0.5) + 0.5\\cdot f(1) + 0.5\\cdot f(1.5)\\\\\n",
    "    &= 0.5\\cdot\\left[f(0)+f(0.5)+f(1)+f(1.5)\\right] \\\\\n",
    "    &= 0.5\\cdot\\left[2+2.125+2.5+3.125\\right] = \\boldsymbol{4.875}\\\\[2mm]\n",
    "A_M &= 0.5\\cdot f(0.25) + 0.5\\cdot f(0.75) + 0.5\\cdot f(1.25) + 0.5\\cdot f(1.75) \\\\\n",
    "    &= 0.5\\cdot\\left[f(0.25)+f(0.75)+f(1.25)+f(1.25)\\right] \\\\\n",
    "    &= 0.5\\cdot\\left[2.03125+2.28125+2.78125+3.53125\\right] = \\boldsymbol{5.3125} \\\\[2mm]\n",
    "A_R &= 0.5\\cdot f(0.5) + 0.5\\cdot f(1) + 0.5\\cdot f(1.5) + 0.5\\cdot f(2) \\\\\n",
    "    &= 0.5\\cdot\\left[f(0.5)+f(1)+f(1.5)+f(2)\\right]\\\\\n",
    "    &= 0.5\\cdot\\left[2.125+2.5+3.125+4\\right] = \\boldsymbol{5.875}\n",
    "\\end{align}\n",
    "$$"
   ]
  },
  {
   "cell_type": "markdown",
   "id": "2a5c31b6",
   "metadata": {},
   "source": [
    "In this particular example, the Left Sum clearly gives an underestimate as all the rectangles' heights are below the graph of $f(x)$, meanwhile the Right Sum gives an overestimate as all the rectangles' heights are above it. The Midpoint Rule seems to give the least error from the figure as the height of the rectangles are closer to the value on the actual graph.<br>\n",
    "\n",
    "Illustrated below the approximation using Left Sum on 6, 8, and 10 rectangles:<br>\n",
    "<img src=\"5Int2AP4.png\" width=\"650px\"> <br>\n",
    "\n",
    "Even though graphically we can see the increase in accuracy when the number of rectangle increase, how should we know the actual area?"
   ]
  },
  {
   "cell_type": "markdown",
   "id": "a8bfe997",
   "metadata": {},
   "source": [
    "Let $n$ denotes the number of rectangles, $\\Delta x$ denotes the width of each rectangle, and $x_1,x_2,\\ldots,x_n$ denotes the points in the interval $[a,b]$ which values on those points are used as the height of the rectangle.<br> The area approximation is then: \n",
    "$$\n",
    "A \\approx \\Bigl[f\\left(x_1\\right)+f\\left(x_2\\right)+\\ldots+f\\left(x_n\\right)\\Bigr] \\cdot \\Delta x \\qquad \\text{or} \\qquad A \\approx \\sum\\limits_{i=1}^n f\\left(x_i\\right) \\cdot \\Delta x\n",
    "$$\n",
    "\n",
    "The summation above is what we call **Riemann Sum**."
   ]
  },
  {
   "cell_type": "markdown",
   "id": "dbe63752",
   "metadata": {},
   "source": [
    "Now, increasing the number of rectangles $n$ gives better approximation of the area. In fact, taking limit as $n\\to \\infty$ gives the actual area.<br>\n",
    "This limit of Riemann Sum as $n$ goes to infinity is the **definite integral**, denoted as follow:\n",
    "$$\n",
    "\\int_a^b f(x)\\,dx = \\lim_{n\\to \\infty} \\sum\\limits_{i=1}^n f\\left(x_i\\right) \\cdot \\Delta x\n",
    "$$"
   ]
  },
  {
   "cell_type": "markdown",
   "id": "f902f897",
   "metadata": {},
   "source": [
    "For our previous example $f(x)=0.5x^2+2$ and the $x$-axis on the interval $[0,2]$:<br>\n",
    "For $n$ subintervals, the width of each subinterval is $\\Delta x=\\dfrac{2-0}{n}=\\dfrac{2}{n}$, and hence the subintervals are:\n",
    "\n",
    "$$\n",
    "\\left[0,\\dfrac{2}{n}\\right],\\left[\\dfrac{2}{n},\\dfrac{4}{n}\\right],\\left[\\dfrac{4}{n},\\dfrac{6}{n}\\right],\\ldots,\\left[\\dfrac{2(i-1)}{n},\\dfrac{2i}{n}\\right],\\ldots,\\left[\\dfrac{2(n-1)}{n},2\\right]\n",
    "$$\n",
    "\n",
    "As $n$ is large, without lost of generality we can take the right endpoint as the height of each rectangle. The right endpoint of the $i^{\\text{th}}$ subinterval is $x_i=\\dfrac{2i}{n}$. <br>\n",
    "The Riemann Sum then become:\n",
    "\n",
    "\n",
    "\\begin{align}\n",
    "\\sum\\limits_{i=1}^n f\\left(x_i\\right) \\cdot \\Delta x \n",
    "&= \\sum\\limits_{i=1}^n f\\left(\\dfrac{2i}{n}\\right)\\left(\\dfrac{2}{n}\\right)\\\\\n",
    "&= \\sum\\limits_{i=1}^n \\left(0.5\\left(\\dfrac{2i}{n}\\right)^2+2\\right)\\left(\\dfrac{2}{n}\\right)\\\\\n",
    "&= \\sum\\limits_{i=1}^n \\left(\\dfrac{4i^2}{n^3}+\\dfrac{4}{n}\\right)\\\\\n",
    "&= \\dfrac{4}{n^3}\\sum\\limits_{i=1}^n \\left(i^2\\right)+\\dfrac{4}{n}\\sum\\limits_{i=1}^n (1)\\\\\n",
    "&= \\dfrac{4}{n^3}\\left(\\dfrac{n(n+1)(2n+1)}{6}\\right)+\\dfrac{4}{n} (n)\\\\\n",
    "&= \\dfrac{16n^2+6n+2}{3n^2}\\\\\n",
    "&= \\dfrac{16}{3}+\\dfrac{2}{n}+\\dfrac{2}{3n^2}\n",
    "\\end{align}\n"
   ]
  },
  {
   "cell_type": "markdown",
   "id": "bb88fa4c",
   "metadata": {},
   "source": [
    "Computing the integral:\n",
    "\n",
    "\\begin{align}\n",
    "\\int_0^2 0.5x^2+2\\, dx \n",
    "&= \\lim\\limits_{n\\to\\infty}  \\sum\\limits_{i=1}^n f\\left(x_i\\right) \\cdot \\Delta x \\\\\n",
    "&= \\lim\\limits_{n\\to\\infty} \\left(\\dfrac{16}{3}+\\dfrac{2}{n}+\\dfrac{2}{3n^2}\\right) \\\\\n",
    "&= \\dfrac{16}{3}+0+0 =\\boldsymbol{\\dfrac{16}{3}}\n",
    "\\end{align}\n",
    "\n"
   ]
  },
  {
   "cell_type": "markdown",
   "id": "ac8f8546",
   "metadata": {},
   "source": [
    "That is certainly a tedious work even for a simple function like $f(x)=0.5x^2+2$. On the next part we will learn a simpler way to do this area calculation.<br>"
   ]
  },
  {
   "cell_type": "markdown",
   "id": "912242be",
   "metadata": {},
   "source": [
    "Below is the code to calculate Riemann Sum of $f(x)$ on the interval $[a,b]$ using $n$ intervals."
   ]
  },
  {
   "cell_type": "code",
   "execution_count": 3,
   "id": "0490dc76",
   "metadata": {},
   "outputs": [],
   "source": [
    "def riemann_sum():\n",
    "    #Function can be edited as needed\n",
    "    f = lambda x: 0.5 * x ** 2 + 2\n",
    "\n",
    "    # Prompt the user for the type of Riemann sum\n",
    "    sum_type = input(\"Choose Riemann sum type (left, right, or midpoint): \")\n",
    "\n",
    "    # Prompt the user for inputs\n",
    "    a = float(input(\"Enter the left endpoint (a): \"))\n",
    "    b = float(input(\"Enter the right endpoint (b): \"))\n",
    "    n = int(input(\"Enter the number of subintervals (n): \"))\n",
    "\n",
    "    # Calculate the width of each subinterval\n",
    "    delta_x = (b - a) / n\n",
    "\n",
    "    # Initialize the Riemann sum\n",
    "    riemann_sum = 0\n",
    "\n",
    "    # Calculate the Riemann sum based on the selected type\n",
    "    if sum_type == \"left\":\n",
    "        for i in range(n):\n",
    "            x = a + i * delta_x\n",
    "            riemann_sum += f(x) * delta_x\n",
    "    elif sum_type == \"right\":\n",
    "        for i in range(1, n + 1):\n",
    "            x = a + i * delta_x\n",
    "            riemann_sum += f(x) * delta_x\n",
    "    elif sum_type == \"midpoint\":\n",
    "        for i in range(n):\n",
    "            x = a + (i + 0.5) * delta_x\n",
    "            riemann_sum += f(x) * delta_x\n",
    "    else:\n",
    "        print(\"Invalid Riemann sum type.\")\n",
    "\n",
    "    return riemann_sum"
   ]
  },
  {
   "cell_type": "code",
   "execution_count": 4,
   "id": "5e8f738a",
   "metadata": {},
   "outputs": [
    {
     "name": "stdout",
     "output_type": "stream",
     "text": [
      "Choose Riemann sum type (left, right, or midpoint): left\n",
      "Enter the left endpoint (a): 0\n",
      "Enter the right endpoint (b): 1\n",
      "Enter the number of subintervals (n): 4\n",
      "The Riemann sum is: 2.109375\n"
     ]
    }
   ],
   "source": [
    "# Call the function to get the Riemann sum\n",
    "result = riemann_sum()\n",
    "print(\"The Riemann sum is:\", result)"
   ]
  },
  {
   "cell_type": "markdown",
   "id": "078a3831",
   "metadata": {},
   "source": [
    "#### Properties of Definite Integral"
   ]
  },
  {
   "cell_type": "markdown",
   "id": "9fa773c7",
   "metadata": {},
   "source": [
    "Before going to the next part, familiarize yourself with the properties of the definite integral below, and think where do they came from based on the relation with the area under the curve.\n",
    "- $\\displaystyle\\int_{a}^{b} f(x) \\,dx=-\\displaystyle\\int_{b}^{a} f(x)\\, dx$\n",
    "- $\\displaystyle\\int_{a}^{a} f(x) \\,dx=0$\n",
    "- $\\displaystyle\\int_{a}^{b} cf(x) \\,dx=c\\displaystyle\\int_{a}^{b} f(x) \\,dx$ for any constant $c$\n",
    "- $\\displaystyle\\int_{a}^{b} f(x)\\pm g(x) \\,dx=\\displaystyle\\int_{a}^{b} f(x) \\,dx \\pm \\displaystyle\\int_{a}^{b} g(x) \\,dx$ \n",
    "- $\\displaystyle\\int_{a}^{b} f(x) \\,dx=\\displaystyle\\int_{a}^{c} f(x) \\,dx + \\displaystyle\\int_{c}^{b} f(x) \\,dx$ for any constant $c$\n",
    "- If $f(x)\\geq g(x)$ for $a\\leq x \\leq b$ then $\\displaystyle\\int_{a}^{b} f(x) \\,dx \\geq \\displaystyle\\int_{a}^{b} g(x) \\,dx$\n",
    "- $\\Bigg\\vert \\displaystyle\\int_{a}^{b} f(x) \\,dx \\; \\Bigg\\vert \\leq \\displaystyle\\int_{a}^{b} \\vert f(x) \\vert \\,dx$"
   ]
  },
  {
   "cell_type": "markdown",
   "id": "f1a4346b",
   "metadata": {},
   "source": [
    "<br>"
   ]
  },
  {
   "cell_type": "markdown",
   "id": "b12624e9",
   "metadata": {},
   "source": [
    "## 5.3 Fundamental Theorems of Calculus (FTC)"
   ]
  },
  {
   "cell_type": "markdown",
   "id": "d0cb5928",
   "metadata": {},
   "source": [
    "#### FTC Part 1"
   ]
  },
  {
   "cell_type": "markdown",
   "id": "81a2b78d",
   "metadata": {},
   "source": [
    "**Theorem (FTC 1):** For $f(t)$ continuous function and $a$ any constant: $\\dfrac{d}{dx}\\displaystyle\\int_a^x f(t)\\,dt=f(x)$.\n",
    "\n",
    "While many 'resources' said that FTC 1 \"basically\" shows that derivative and integral \"cancel each other\", it is not actually that simple. <br>\n",
    "Motivated students are encouraged to explore the proof of FTC 1 (Hint: Use the Extreme Value Theorem)."
   ]
  },
  {
   "cell_type": "markdown",
   "id": "e964fea0",
   "metadata": {},
   "source": [
    "**Example** <br>\n",
    "If $F(x)=\\displaystyle\\int_{-2}^x e^{3t^2}\\sin^2\\left(2-t^5\\right)$, find $F\\,'(x)$.<br>\n",
    "\n",
    "By FTC 1, $F\\,'(x)=\\dfrac{d}{dx} F(x) \\,dx = \\dfrac{d}{dx} \\displaystyle\\int_{-2}^x e^{3t^2}\\sin^2\\left(2-t^5\\right) \\,dx = e^{3x^2}\\sin^2\\left(2-x^5\\right)$."
   ]
  },
  {
   "cell_type": "markdown",
   "id": "ca720489",
   "metadata": {},
   "source": [
    "When the lower bound is not a constant, or if the upper bound is a more complicated function of $x$, FTC 1 can still be applied with the help of Chain Rule and integral properties.\n",
    "- $\\dfrac{d}{dx}\\displaystyle\\int_a^{u(x)} f(t)\\,dt = u\\,'(x)f(u(x))$\n",
    "- $\\dfrac{d}{dx}\\displaystyle\\int_{v(x)}^{u(x)} f(t)\\,dt = -v\\,'(x)f(v(x))+u\\,'(x)f(u(x))$"
   ]
  },
  {
   "cell_type": "markdown",
   "id": "eaed9751",
   "metadata": {},
   "source": [
    "**Example** <br>\n",
    "$\\dfrac{d}{dx}\\displaystyle\\int_5^{x^2} \\dfrac{t^3-7}{t^2+8}\\,dt = 2x \\dfrac{\\left(x^2\\right)^3-7}{\\left(x^2\\right)^2+8}$."
   ]
  },
  {
   "cell_type": "markdown",
   "id": "4564395d",
   "metadata": {},
   "source": [
    "#### FTC Part 2"
   ]
  },
  {
   "cell_type": "markdown",
   "id": "04736156",
   "metadata": {},
   "source": [
    "FTC 2 connect area problem (definite integral) with antiderivative (indefinite integral).<br> \n",
    "It provide a simpler way to calculate definite integral compared to using the limit of Riemann Sum."
   ]
  },
  {
   "cell_type": "markdown",
   "id": "40e15822",
   "metadata": {},
   "source": [
    "**Theorem (FTC 2):** If $F(x)$ is an antiderivative of $f(x)$ and $f(x)$ is continuous on $[a,b]$, then:$ \\displaystyle\\int_a^b f(x)\\,dx=F(x)\\,\\Big\\vert_a^b = F(b) - F(a)$."
   ]
  },
  {
   "cell_type": "markdown",
   "id": "dd28f717",
   "metadata": {},
   "source": [
    "**Example**<br>\n",
    "Let's visit the example used previously when we discuss Riemann Sum: Calculate $\\displaystyle\\int_0^2 0.5x^2+2\\, dx$<br>\n",
    "\n",
    "Using basic antiderivative formula (in this case, for constant and power function), we have $\\displaystyle\\int 0.5x^2+2\\, dx = \\dfrac{0.5x^3}{3}+2x$, hence by FTC 2:\n",
    "$$\n",
    "\\displaystyle\\int_0^2 0.5x^2+2\\, dx = \\left(\\dfrac{0.5x^3}{3}+2x\\right) \\Bigg\\vert_0^2 = \\left(\\dfrac{0.5(2)^3}{3}+2(2)\\right)-\\left(\\dfrac{0.5(0)^3}{3}+2(0)\\right) = \\dfrac{4}{3} + 4 =\\boldsymbol{\\dfrac{16}{3}}\n",
    "$$\n",
    "This give the same answer with much lesser efforts compared to using limit of Riemann Sum."
   ]
  },
  {
   "cell_type": "markdown",
   "id": "54e3924f",
   "metadata": {},
   "source": [
    "Below is an example code that prompt user for $f(x)$ and $[a,b]$, then return the value of $\\displaystyle\\int_a^b f(x)\\,dx$."
   ]
  },
  {
   "cell_type": "code",
   "execution_count": 5,
   "id": "ee24ab97",
   "metadata": {},
   "outputs": [],
   "source": [
    "import sympy as sp\n",
    "\n",
    "def definite_integral():\n",
    "    # Prompt the user for the function, lower limit, and upper limit\n",
    "    expression_str = input(\"Enter the function f(x): \")\n",
    "    a = float(input(\"Enter the lower limit (a): \"))\n",
    "    b = float(input(\"Enter the upper limit (b): \"))\n",
    "\n",
    "    # Convert the input string to a sympy expression\n",
    "    x = sp.symbols('x')\n",
    "    expression = sp.sympify(expression_str)\n",
    "\n",
    "    # Calculate the definite integral\n",
    "    integral = sp.integrate(expression, (x, a, b))\n",
    "\n",
    "    return integral"
   ]
  },
  {
   "cell_type": "code",
   "execution_count": 6,
   "id": "5b592b8f",
   "metadata": {},
   "outputs": [
    {
     "name": "stdout",
     "output_type": "stream",
     "text": [
      "Enter the function f(x): x**3\n",
      "Enter the lower limit (a): 0\n",
      "Enter the upper limit (b): 1\n",
      "The definite integral is: 0.250000000000000\n"
     ]
    }
   ],
   "source": [
    "# Call the function to get the definite integral\n",
    "result = definite_integral()\n",
    "print(\"The definite integral is:\", result)"
   ]
  },
  {
   "cell_type": "markdown",
   "id": "86905747",
   "metadata": {},
   "source": [
    "## 5.4 Improper Integrals"
   ]
  },
  {
   "cell_type": "markdown",
   "id": "7bc201ab",
   "metadata": {},
   "source": [
    "Consider the area problem on an unbounded interval $(a,\\infty]$ or $(-\\infty,b]$ or $(-\\infty,\\infty)$ instead of $[a,b]$. <br>\n",
    "The definite integral that corresponds to the area problem over such unbounded interval is called **improper integral**."
   ]
  },
  {
   "cell_type": "markdown",
   "id": "266effff",
   "metadata": {},
   "source": [
    "To calculate improper integral, we first bound the interval to some number $N$, then take $N\\to \\pm\\infty$ as needed:\n",
    "\n",
    "- $\\displaystyle\\int_a^{\\infty} f(x)\\,dx = \\lim\\limits_{N\\to \\infty} \\displaystyle\\int_a^N f(x)\\,dx$<br>\n",
    "\n",
    "- $\\displaystyle\\int_{-\\infty}^b f(x)\\,dx = \\lim\\limits_{N\\to -\\infty} \\displaystyle\\int_N^b f(x)\\,dx$<br>\n",
    "\n",
    "- $\\displaystyle\\int_{-\\infty}^{\\infty} f(x)\\,dx = \\displaystyle\\int_{-\\infty}^c f(x)\\,dx+\\displaystyle\\int_c^{\\infty} f(x)\\,dx =\\lim\\limits_{N\\to -\\infty} \\displaystyle\\int_N^c f(x)\\,dx+\\lim\\limits_{N\\to \\infty} \\displaystyle\\int_c^N f(x)\\,dx$,  for any number $c$."
   ]
  },
  {
   "cell_type": "markdown",
   "id": "2487241b",
   "metadata": {},
   "source": [
    "Since the area is over an unbounded interval, the area is also possible to be, but not necessarily, unbounded.<br>\n",
    "If the limit exists, then we said the improper integral to be **convergent**. Otherwise, we said the improper integral to be **divergent**."
   ]
  },
  {
   "cell_type": "markdown",
   "id": "a746dade",
   "metadata": {},
   "source": [
    "**Example**<br>\n",
    "Determine if the following integrals are convergent or divergent: $\\displaystyle\\int_{-\\infty}^{\\infty} xe^{-x^2}\\, dx$. <br>\n",
    "Using $u$-subs with $u=-x^2$, we have $\\displaystyle\\int xe^{-x^2}\\, dx = -\\dfrac{1}{2}e^{-x^2} + C$. Hence for the improper integral:"
   ]
  },
  {
   "cell_type": "markdown",
   "id": "8c1ad877",
   "metadata": {},
   "source": [
    "$$\n",
    "\\begin{align}\n",
    "\\int_{-\\infty}^{\\infty} xe^{-x^2}\\, dx \n",
    "&= \\int_{-\\infty}^{0} xe^{-x^2}\\, dx + \\int_{0}^{\\infty} xe^{-x^2}\\, dx \\\\\n",
    "&= \\lim\\limits_{N\\to -\\infty} \\int_{N}^{0} xe^{-x^2}\\, dx + \\lim\\limits_{N\\to \\infty}\\int_{0}^{N} xe^{-x^2}\\, dx \\\\\n",
    "&= \\lim\\limits_{N\\to -\\infty} \\left(-\\dfrac{1}{2}e^{-x^2}\\right)\\Bigg\\vert_N^0 + \\lim\\limits_{N\\to \\infty}\\left(-\\dfrac{1}{2}e^{-x^2}\\right)\\Bigg\\vert_0^N\\\\\n",
    "&= \\lim\\limits_{N\\to -\\infty} \\left[\\left(-\\dfrac{1}{2}e^{0}\\right)-\\left(-\\dfrac{1}{2}e^{-N^2}\\right)\\right] + \\lim\\limits_{N\\to \\infty}\\left[\\left(-\\dfrac{1}{2}e^{-N^2}\\right)-\\left(-\\dfrac{1}{2}e^{0}\\right)\\right]\\\\\n",
    "&= -\\dfrac{1}{2} + \\dfrac{1}{2} = \\boldsymbol{0}\n",
    "\\end{align}\n",
    "$$"
   ]
  },
  {
   "cell_type": "markdown",
   "id": "b22e43c7",
   "metadata": {},
   "source": [
    "A little modification on sympy can be used to enable the code to calculate improper integral. <br>\n",
    "Below is the modified code so that user can put either **-inf** (for $-\\infty$) or **inf** (for $\\infty$) as the integral bounds:"
   ]
  },
  {
   "cell_type": "code",
   "execution_count": 7,
   "id": "ce1cdbe8",
   "metadata": {},
   "outputs": [],
   "source": [
    "import sympy as sp\n",
    "from sympy import oo\n",
    "\n",
    "def definite_integral():\n",
    "    # Prompt the user for the function and the bounds\n",
    "    expression_str = input(\"Enter the function f(x): \")\n",
    "    a_str = input(\"Enter the lower bound (a) or -inf for negative infinity: \")\n",
    "    b_str = input(\"Enter the upper bound (b) or inf for positive infinity: \")\n",
    "\n",
    "    # Convert the input strings to sympy expressions\n",
    "    x = sp.symbols('x')\n",
    "    expression = sp.sympify(expression_str)\n",
    "\n",
    "    # Set the lower bound\n",
    "    if a_str == \"-inf\":\n",
    "        a = -oo\n",
    "    else:\n",
    "        a = float(a_str)\n",
    "\n",
    "    # Set the upper bound\n",
    "    if b_str == \"inf\":\n",
    "        b = oo\n",
    "    else:\n",
    "        b = float(b_str)\n",
    "\n",
    "    try:\n",
    "        # Calculate the integral\n",
    "        integral = sp.integrate(expression, (x, a, b))\n",
    "\n",
    "        # Check if the integral is finite\n",
    "        if integral.is_finite:\n",
    "            return integral\n",
    "        else:\n",
    "            return \"The integral diverges\"\n",
    "    except ValueError:\n",
    "        return \"The integral diverges\""
   ]
  },
  {
   "cell_type": "code",
   "execution_count": 8,
   "id": "3f376869",
   "metadata": {},
   "outputs": [
    {
     "name": "stdout",
     "output_type": "stream",
     "text": [
      "Enter the function f(x): 1/x\n",
      "Enter the lower bound (a) or -inf for negative infinity: 1\n",
      "Enter the upper bound (b) or inf for positive infinity: inf\n",
      "The definite integral is: The integral diverges\n"
     ]
    }
   ],
   "source": [
    "# Call the function to get the definite integral\n",
    "result = definite_integral()\n",
    "print(\"The definite integral is:\", result)"
   ]
  },
  {
   "cell_type": "markdown",
   "id": "639917b5",
   "metadata": {},
   "source": [
    "<br>"
   ]
  },
  {
   "cell_type": "markdown",
   "id": "6655c4d6",
   "metadata": {},
   "source": [
    "## 5.5 Average Value"
   ]
  },
  {
   "cell_type": "markdown",
   "id": "e5645ff8",
   "metadata": {},
   "source": [
    "When a continuous function $f(x)$ is linear, the average value $f(x)$ on $[a,b]$ is simply $\\frac{f(a)+f(b)}{2}$. <br>\n",
    "How about the average value of nonlinear continuous function $f(x)$? "
   ]
  },
  {
   "cell_type": "markdown",
   "id": "3911fd14",
   "metadata": {},
   "source": [
    "<img src=\"5Int5avg1.png\" width=\"600px\">"
   ]
  },
  {
   "cell_type": "markdown",
   "id": "fb06144d",
   "metadata": {},
   "source": [
    "The **average value** of continuous function $f(x)$ on $[a,b]$ is given by $\\dfrac{1}{b-a}\\displaystyle\\int_a^b f(x)\\, dx$.<br>\n",
    "\n",
    "Motivated students are encouraged to try proving this formula algebraically using Riemann Sum.<br>\n",
    "An easier way to look at the average value is the height $h$ such that the area of rectangle with width $(b-a)$ and height $h$ is equal to the area between $f(x)$ and the $x$-axis on $[a,b]$:<br>\n",
    "$h(b-a) =\\displaystyle\\int_a^b f(x)\\,dx \\quad \\Rightarrow \\quad h= \\dfrac{1}{b-a}\\displaystyle\\int_a^b f(x)\\,dx$<br>\n",
    "<img src=\"5Int5avg2.png\" width=\"300px\">  "
   ]
  },
  {
   "cell_type": "markdown",
   "id": "c67073e6",
   "metadata": {},
   "source": [
    "**Example** <br>\n",
    "Determine the average value of $f(x)=5\\cos(3x)+x$ on $[1,4]$. <br>\n",
    "Average value is $\\dfrac{1}{4-1}\\displaystyle\\int_1^4 5\\cos(3x)+x\\, dx = \\dfrac{1}{3} \\left(\\dfrac{5}{3}\\sin(3x)+\\dfrac{x^2}{2}\\right)\\Bigg\\vert_1^4 = \\dfrac{1}{3} \\left[\\left(\\dfrac{5}{3}\\sin(12)+\\dfrac{16}{2}\\right)-\\left(\\dfrac{5}{3}\\sin(3)+\\dfrac{1}{2}\\right) \\right] \\approx 2.12$."
   ]
  },
  {
   "cell_type": "markdown",
   "id": "36521fb5",
   "metadata": {},
   "source": [
    "If want to ask user for $f(x)$ and find the average value for $f(x)$ on $[a,b]$, remember to check the continuity of $f(x)$ on $[a,b]$."
   ]
  },
  {
   "cell_type": "code",
   "execution_count": 9,
   "id": "4437aa55",
   "metadata": {},
   "outputs": [],
   "source": [
    "import sympy as sp\n",
    "\n",
    "def calculate_average_value():\n",
    "    x = sp.Symbol('x')\n",
    "\n",
    "    # Prompt user for function f(x) and the interval [a,b]\n",
    "    f_x_str = input(\"Enter the function f(x): \")\n",
    "    f_x = eval(f_x_str)  # Evaluate the function string as a valid Python expression\n",
    "    a = float(input(\"Enter the left endpoint of the interval (a): \"))\n",
    "    b = float(input(\"Enter the right endpoint of the interval (b): \"))\n",
    "\n",
    "    # Check if f(x) is not continuous on [a, b]\n",
    "    is_continuous = True\n",
    "    for point in [a, b]:\n",
    "        if not sp.limit(f_x, x, point, dir='-').equals(sp.limit(f_x, x, point, dir='+')):\n",
    "            is_continuous = False\n",
    "            break\n",
    "\n",
    "    if not is_continuous:\n",
    "        return \"f(x) is not continuous on [a,b]\"\n",
    "\n",
    "    # Calculate the average value of f(x) on [a,b]\n",
    "    avg_value = sp.integrate(f_x, (x, a, b)) / (b - a)\n",
    "    return avg_value\n",
    "\n"
   ]
  },
  {
   "cell_type": "code",
   "execution_count": 10,
   "id": "9baf0719",
   "metadata": {},
   "outputs": [
    {
     "name": "stdout",
     "output_type": "stream",
     "text": [
      "Enter the function f(x): x**2\n",
      "Enter the left endpoint of the interval (a): 0\n",
      "Enter the right endpoint of the interval (b): 1\n",
      "0.333333333333333\n"
     ]
    }
   ],
   "source": [
    "# Test the function\n",
    "result = calculate_average_value()\n",
    "print(result)"
   ]
  },
  {
   "cell_type": "markdown",
   "id": "18cc425e",
   "metadata": {},
   "source": [
    "#### The Mean Value Theorem for Integrals"
   ]
  },
  {
   "cell_type": "markdown",
   "id": "66afc549",
   "metadata": {},
   "source": [
    "**Theorem (MVT for Integrals):** If $f(x)$ is continuous on $[a,b]$, then there is a number $c$ in $[a,b]$ such that $\\displaystyle\\int_a^b f(x)\\,dx=f(c)\\left(b-a\\right)$."
   ]
  },
  {
   "cell_type": "markdown",
   "id": "4cd530fe",
   "metadata": {},
   "source": [
    "**Example**<br>\n",
    "Find the number $c$ that satisfies the MVT for Integrals, for $f(x)=3x^2+5x-7$ on $[2,4]$. <br>\n",
    "Since $f(x)=3x^2+5x-7$ is a polynomial and hence is continuous on $[2,4]$, apply the MVT for Integrals: \n",
    "$$\n",
    "\\begin{align}\n",
    "\\int_2^4 3x^2+5x-7 \\,dx &= \\left(3c^2+5c-7\\right)(4-2) \\\\\n",
    "\\left(x^3+\\dfrac{5x^2}{2}-7x\\right)\\Bigg\\vert_2^4 &= 2\\left(3c^2+5c-7\\right)\\\\\n",
    "72 &= 2\\left(3c^2+5c-7\\right)\\\\\n",
    "36 &= 3c^2+5c-7\\\\\n",
    "0 &= 3c^2+5c-43\\\\\n",
    "\\end{align}\n",
    "$$\n",
    "\n",
    "Using quadratic formula we get $c=\\dfrac{-5 \\pm \\sqrt{541}}{6}$, or approximately, $c\\approx -4.7099, 3.0432$. <br>\n",
    "The only $c$ value that is in the given interval $[2,4]$ is $\\boldsymbol{c\\approx 3.0432}$."
   ]
  },
  {
   "cell_type": "markdown",
   "id": "c791d022",
   "metadata": {},
   "source": [
    "Below is the example code that ask user for a continuous $f(x)$ on $[a,b]$, and will return the value(s) of $c$ that satisfy the MVT for integrals."
   ]
  },
  {
   "cell_type": "code",
   "execution_count": 11,
   "id": "e281f4fa",
   "metadata": {},
   "outputs": [
    {
     "name": "stdout",
     "output_type": "stream",
     "text": [
      "Enter the left endpoint of the interval (a): 0\n",
      "Enter the right endpoint of the interval (b): 1\n",
      "Enter the function f(x): x**2\n",
      "The value(s) of c that satisfy MVT for Integrals on [a,b]:\n",
      "0.577350269189626\n"
     ]
    }
   ],
   "source": [
    "import sympy as sp\n",
    "\n",
    "# Prompt user for interval [a, b]\n",
    "a = float(input(\"Enter the left endpoint of the interval (a): \"))\n",
    "b = float(input(\"Enter the right endpoint of the interval (b): \"))\n",
    "\n",
    "# Prompt user for function f(x)\n",
    "x = sp.symbols('x')\n",
    "f_x_str = input(\"Enter the function f(x): \")\n",
    "f_x = sp.sympify(f_x_str)\n",
    "\n",
    "# Check if f(x) is continuous on [a, b]\n",
    "is_continuous = sp.limit(f_x, x, a, '+') == sp.limit(f_x, x, a, '-')\n",
    "if not is_continuous:\n",
    "    print(\"f(x) is not continuous on [a, b]\")\n",
    "else:\n",
    "    # Calculate the definite integral of f(x) from a to b\n",
    "    integral = sp.integrate(f_x, (x, a, b))\n",
    "\n",
    "    # Solve the equation f(c) * (b - a) = integral for c\n",
    "    c = sp.symbols('c')\n",
    "    equation = sp.Eq(f_x.subs(x, c) * (b - a), integral)\n",
    "    solutions = sp.solve(equation, c)\n",
    "\n",
    "    # Filter solutions within the interval [a, b]\n",
    "    valid_solutions = [solution for solution in solutions if a <= solution <= b]\n",
    "\n",
    "    # Display the solutions\n",
    "    if valid_solutions:\n",
    "        print(\"The value(s) of c that satisfy MVT for Integrals on [a,b]:\")\n",
    "        for solution in valid_solutions:\n",
    "            print(solution)\n",
    "    else:\n",
    "        print(\"No valid value of c found in the interval [a, b].\")"
   ]
  },
  {
   "cell_type": "markdown",
   "id": "e9e6c03c",
   "metadata": {},
   "source": [
    "<br>"
   ]
  },
  {
   "cell_type": "markdown",
   "id": "776af99e",
   "metadata": {},
   "source": [
    "## 5.6 Area Between Curves"
   ]
  },
  {
   "cell_type": "markdown",
   "id": "7964ac33",
   "metadata": {},
   "source": [
    "We already know that the definite integral $\\displaystyle\\int_a^b f(x)\\,dx$ gives the area between the graph of $f(x)$ and the $x$-axis over interval $[a,b]$. <br>\n",
    "Now we want to calculate the area between the graph of two functions."
   ]
  },
  {
   "cell_type": "markdown",
   "id": "820504e8",
   "metadata": {},
   "source": [
    "In general, the area betwen two functions over the interval $[a,b]$ is $A=\\displaystyle\\int_a^b (\\text{top function})-(\\text{bottom function})\\,dx$.<br>\n",
    "To illustrate the idea, consider a specific case where two continuous function $f(x)$ and $g(x)$ satisfies $f(x)\\geq g(x)$ on $[a,b]$ with the diagram below."
   ]
  },
  {
   "cell_type": "markdown",
   "id": "abd58a85",
   "metadata": {},
   "source": [
    "<img src=\"5Int6ABC1.png\" width=\"800px\">"
   ]
  },
  {
   "cell_type": "markdown",
   "id": "046193d5",
   "metadata": {},
   "source": [
    "When the function $f(x)$ and $g(x)$ alternate the upper and bottom position, one common way to find the area is to separate the interval $a\\leq x\\leq b$ into multiple subintervals where in each subinterval the top and bottom position is consistent. However, the shorter way to do it is to keep the integrand positive using absolute value:\n",
    "\n",
    "$$\n",
    "A=\\int_a^b \\Big\\vert f(x) - g(x) \\Big\\vert \\,dx\n",
    "$$\n",
    "\n",
    "This formula holds no matter which function $f(x)$ of $g(x)$ is on the top or bottom."
   ]
  },
  {
   "cell_type": "markdown",
   "id": "736e8c7a",
   "metadata": {},
   "source": [
    "Similarly, the area between $x=f(y)$ and $x=g(y)$ on the interval $c\\leq y\\leq d$ is $A=\\displaystyle\\int_c^d (\\text{right function})-(\\text{left function})\\,dx$. <br>\n",
    "In general, the formula is $A=\\displaystyle\\int_c^d \\Big\\vert f(y) - g(y) \\Big\\vert \\,dy$."
   ]
  },
  {
   "cell_type": "markdown",
   "id": "124f0c6c",
   "metadata": {},
   "source": [
    "Below is an example code that ask user for $f(x)$, $g(x)$, and $[a,b]$. It will return the area between the two $f(x)$ and $g(x)$ over the interval $[a,b]$."
   ]
  },
  {
   "cell_type": "code",
   "execution_count": null,
   "id": "2255928a",
   "metadata": {},
   "outputs": [],
   "source": [
    "import sympy as sp\n",
    "from scipy.integrate import quad\n",
    "\n",
    "# Prompt user for interval [a, b]\n",
    "a = float(input(\"Enter the left endpoint of the interval (a): \"))\n",
    "b = float(input(\"Enter the right endpoint of the interval (b): \"))\n",
    "\n",
    "# Prompt user for function f(x)\n",
    "x = sp.symbols('x')\n",
    "f_x_str = input(\"Enter the function f(x): \")\n",
    "f_x = sp.sympify(f_x_str)\n",
    "\n",
    "# Check if f(x) is continuous on [a, b]\n",
    "is_f_continuous = sp.limit(f_x, x, a, '+') == sp.limit(f_x, x, a, '-')\n",
    "if not is_f_continuous:\n",
    "    print(\"f(x) is not continuous on [a, b]\")\n",
    "else:\n",
    "    # Prompt user for function g(x)\n",
    "    g_x_str = input(\"Enter the function g(x): \")\n",
    "    g_x = sp.sympify(g_x_str)\n",
    "\n",
    "    # Check if g(x) is continuous on [a, b]\n",
    "    is_g_continuous = sp.limit(g_x, x, a, '+') == sp.limit(g_x, x, a, '-')\n",
    "    if not is_g_continuous:\n",
    "        print(\"g(x) is not continuous on [a, b]\")\n",
    "    else:\n",
    "        # Define the absolute difference between f(x) and g(x)\n",
    "        abs_diff = sp.Abs(f_x - g_x)\n",
    "\n",
    "        # Convert the absolute difference to a callable function\n",
    "        abs_diff_fn = sp.lambdify(x, abs_diff)\n",
    "\n",
    "        # Numerically approximate the integral using quad function\n",
    "        area, _ = quad(abs_diff_fn, a, b)\n",
    "\n",
    "        # Display the result\n",
    "        print(\"The area between f(x) and g(x) over the interval [a, b] is:\")\n",
    "        print(area)"
   ]
  },
  {
   "cell_type": "markdown",
   "id": "7ae5c8d7",
   "metadata": {},
   "source": [
    "<br>"
   ]
  },
  {
   "cell_type": "markdown",
   "id": "004c59cc",
   "metadata": {},
   "source": [
    "## Exercises"
   ]
  },
  {
   "cell_type": "markdown",
   "id": "78e03431",
   "metadata": {},
   "source": [
    "1. Find the indefinite integral of the following functions. \n",
    "\n",
    "    - $f(x)=\\sin\\left(\\cos\\left(x\\right)\\right)\\sin(x)$ <br>\n",
    "        \n",
    "    - $g(x)=3x\\sqrt[3]{1-2x^2}$ <br>\n",
    "        \n",
    "    - $h(x)=\\dfrac{3x^5+2x}{\\left(x^6+2x^2\\right)^3}$ <br>\n",
    "        \n",
    "    - $m(x)=x^5\\sqrt{x^3+1}$ <br>\n",
    "        Hint: if doing manually, use u-subs twice in the process\n",
    "        \n",
    "    - $n(x)=x^2\\cos(7x)$ <br>\n",
    "        Hint: if doing manually, use IBP twice in the process"
   ]
  },
  {
   "cell_type": "markdown",
   "id": "49abc55a",
   "metadata": {},
   "source": [
    "2. For each of the following function at the given interval, find the Riemann Sum with $n=8$, each using Left, Midpoint, and Right Sum.\n",
    "\n",
    "    - $f(x)=\\sin(x)$ on $[0,\\pi]$<br>\n",
    "    \n",
    "    - $g(x)=3x^3+5x-7$ on $[-2,6]$<br>\n",
    "    \n",
    "    - $h(x)=x^5\\sqrt{x^3+1}$ on $[2,10]$"
   ]
  },
  {
   "cell_type": "markdown",
   "id": "41b2d5af",
   "metadata": {},
   "source": [
    "3. Use FTC 2 to compute the following, and determine which Sum (Left/Midpoint/Right) on the previous problem gives the best approximation.<br>\n",
    "\n",
    "    - $\\displaystyle\\int_0^{\\pi} \\sin(x)\\, dx$ <br> \n",
    "    \n",
    "    - $\\displaystyle\\int_{-2}^{6} 3x^3+5x-7\\, dx$ <br> \n",
    "    \n",
    "    - $\\displaystyle\\int_2^{10} x^5\\sqrt{x^3+1}\\, dx$ <br> "
   ]
  },
  {
   "cell_type": "markdown",
   "id": "159e1e08",
   "metadata": {},
   "source": [
    "4. Use FTC 1 to differentiate each of the following integral with respect to $x$.\n",
    "    \n",
    "    - $\\displaystyle\\int_2^x 7\\sin^2\\left(t^3-0.2t+9\\right)\\,dt$\n",
    "    \n",
    "    - $\\displaystyle\\int_2^{\\cos(3x)} \\sqrt{17-9t^6}\\,dt$\n",
    "    \n",
    "    - $\\displaystyle\\int_{-5x}^{5x^2} e^{t}-\\ln(4t)\\,dt $"
   ]
  },
  {
   "cell_type": "markdown",
   "id": "83c44597",
   "metadata": {},
   "source": [
    "5. Determine if the following integral is convergent or divergent. If convergent, calculate its value. If divergent, explain why.\n",
    "\n",
    "    - $\\displaystyle\\int_4^{\\infty} \\dfrac{2}{x^3}\\,dx$\n",
    "    \n",
    "    - $\\displaystyle\\int_{-\\infty}^5 e^{2x}+1\\,dx$\n",
    "    \n",
    "    - $\\displaystyle\\int_{-\\infty}^{\\infty} \\dfrac{x^2}{x^3+1}\\,dx$"
   ]
  },
  {
   "cell_type": "markdown",
   "id": "bedcf8e8",
   "metadata": {},
   "source": [
    "6. Find the average value of the given function on the given interval.\n",
    "\n",
    "    - $f(x)=10\\ln(x)+x^2$ on $[3,5]$\n",
    "    \n",
    "    - $t(x)=70+950e^{-0.07x}$ on $[0,60]$\n",
    "    \n",
    "    - $g(x)=-\\sin\\left(\\dfrac{1}{2}x\\right)+\\cos(2x)$ on $\\left[\\dfrac{\\pi}{2},\\pi\\right]$"
   ]
  },
  {
   "cell_type": "markdown",
   "id": "8e8bd122",
   "metadata": {},
   "source": [
    "7. Find the number $c$ that satisfies the MVT for Integrals, for $f(x)=4x^2+5x+6$ on $[-1,5]$."
   ]
  },
  {
   "cell_type": "markdown",
   "id": "bba597d9",
   "metadata": {},
   "source": [
    "8. Find the area of the following:\n",
    "    \n",
    "    - between $f(x)=3x$ and $g(x)=x\\left(\\sqrt{x}+1\\right)$ for $0\\leq x\\leq 4$\n",
    "    \n",
    "    - between $f(y)=3y$ and $g(y)=30y\\cdot e^{-0.3y}$ for $0\\leq y \\leq 9$\n",
    "    \n",
    "    - enclosed by $f(x)=4-x$ and $g(x)=(x-1)^2$<br> (Hint: find where $f(x)$ and $g(x)$ intersects)"
   ]
  }
 ],
 "metadata": {
  "kernelspec": {
   "display_name": "Python 3 (ipykernel)",
   "language": "python",
   "name": "python3"
  },
  "language_info": {
   "codemirror_mode": {
    "name": "ipython",
    "version": 3
   },
   "file_extension": ".py",
   "mimetype": "text/x-python",
   "name": "python",
   "nbconvert_exporter": "python",
   "pygments_lexer": "ipython3",
   "version": "3.10.9"
  }
 },
 "nbformat": 4,
 "nbformat_minor": 5
}
