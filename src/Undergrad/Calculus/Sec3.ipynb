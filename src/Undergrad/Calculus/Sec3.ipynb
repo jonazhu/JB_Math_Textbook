{
 "cells": [
  {
   "cell_type": "markdown",
   "id": "04cc564b",
   "metadata": {},
   "source": [
    "# 3. Limits, Continuity, and Rates"
   ]
  },
  {
   "cell_type": "markdown",
   "id": "87c8664a",
   "metadata": {},
   "source": [
    "Below is the list of topics that are covered in this section:\n",
    "- Limits\n",
    "- Continuity\n",
    "- Measures of Change over an Interval\n",
    "- Measures of Change at a Point\n",
    "- Secant and Tangent Lines"
   ]
  },
  {
   "cell_type": "markdown",
   "id": "51aab2d1",
   "metadata": {},
   "source": [
    "<h2 style>3.1 Limits </h2>"
   ]
  },
  {
   "cell_type": "markdown",
   "id": "e5376276",
   "metadata": {},
   "source": [
    "On the previous section while talking about behaviors of some common functions, we saw the phrase \"$f(x)$ goes to $\\infty$ as $x$ goes to $\\infty$\".<br>\n",
    "This phrase describes how the output of the function behaves as the input **approaching** something, and can be written using **limit** notation: $\\lim\\limits_{x\\to\\infty}f(x)=\\infty$."
   ]
  },
  {
   "cell_type": "markdown",
   "id": "664b52b3",
   "metadata": {},
   "source": [
    "The keyword here is \"approaching\". The input is not equal to a certain point, it is approaching it. One most common formal definition for **limit** is:<br>\n",
    "\n",
    "We say that the limit of $f(x)$ is $L$ as $x$ approaches $a$ and write this as $\\lim\\limits_{x\\to a}f(x)=L$ provided we can make $f(x)$ as close to $L$ as needed for all $x$ sufficiently close to $a$, from both sides, without actually letting $x$ be $a$.<br>\n",
    "\n",
    "$\\lim\\limits_{x\\to a}f(x)=L$ can also alternatively written as $f(x) \\to L \\text{  as  } x\\to a$."
   ]
  },
  {
   "cell_type": "markdown",
   "id": "6288fbba",
   "metadata": {},
   "source": [
    "The phrase \"from both sides\" refer to the **Left-hand limits** and **Right-hand limits**. <br>\n",
    "\n",
    "For function $f$ defined on an interval containing a constant $a$ (except possibly at $a$ itself):\n",
    "- Left-hand limit of $f$ as $x$ approaches $a$ from the left is written $\\lim\\limits_{x\\to a^-}f(x)=L_1$\n",
    "- Left-hand limit of $f$ as $x$ approaches $a$ from the right is written $\\lim\\limits_{x\\to a^+}f(x)=L_2$\n",
    "\n",
    "Here $a^-$ denotes \"to the left of $a$ and $a^+$ denotes \"to the right of $a$.<br>\n",
    "\n",
    "By definition, for function $f$ defined on an interval containing a constant $a$ (except possibly at $a$ itself), the limit of $f$ as $x$ approaches $a$ exists if and only if $\\lim\\limits_{x\\to a^-}f(x)=\\lim\\limits_{x\\to a^+}f(x)=L$, and hence written $\\lim\\limits_{x\\to a}f(x)=L$"
   ]
  },
  {
   "cell_type": "markdown",
   "id": "f57dba83",
   "metadata": {},
   "source": [
    "**Example**<br>\n",
    "Given the graph of $f(x)$ below:\n",
    "- $\\lim\\limits_{x\\to 0^-}f(x)=0$ while $\\lim\\limits_{x\\to 0^+}f(x)=0$ hence $\\lim\\limits_{x\\to 0}f(x)=0$.\n",
    "- $\\lim\\limits_{x\\to 1^-}f(x)=1$ while $\\lim\\limits_{x\\to 1^+}f(x)=2$ hence $\\lim\\limits_{x\\to 1}f(x)$ does not exists.\n",
    "\n",
    "Note that when looking for limits as $x$ approaching $0$ or $1$, it never mattered what $f(0)$ or $f(1)$ is, as we only see the values to the left and right of those points.\n",
    "\n",
    "\n",
    "  ```{image} 3LCR1.png\n",
    "  :alt: function\n",
    "  :width: 250px\n",
    "  ```"
   ]
  },
  {
   "cell_type": "markdown",
   "id": "a68aabdf",
   "metadata": {},
   "source": [
    "Below is a code example that prompt user for a function $f(x)$ and a constant $a$, and then return $\\lim\\limits_{x\\to a}f(x)=L$."
   ]
  },
  {
   "cell_type": "code",
   "execution_count": 5,
   "id": "de058ffe",
   "metadata": {},
   "outputs": [
    {
     "name": "stdout",
     "output_type": "stream",
     "text": [
      "The limit of f(x) as x approaches 0 is: 1\n"
     ]
    }
   ],
   "source": [
    "import numpy as np\n",
    "import sympy as sp\n",
    "\n",
    "# Prompt the user to input the function f(x) and the constant a\n",
    "#expression_str = input(\"Enter the function f(x): \")\n",
    "#a = float(input(\"Enter the constant a: \"))\n",
    "a=0\n",
    "\n",
    "# Define the variable x and the function f(x)\n",
    "#x = sp.symbols('x')\n",
    "#f_x = sp.sympify(expression_str)\n",
    "\n",
    "x = sp.symbols('x')\n",
    "f_x=  sp.sin(x)/x\n",
    "\n",
    "# Calculate the limit of f(x) as x approaches a\n",
    "limit_result = sp.limit(f_x, x, a)\n",
    "\n",
    "# Print the result\n",
    "print(\"The limit of f(x) as x approaches\", a, \"is:\", limit_result)"
   ]
  },
  {
   "cell_type": "markdown",
   "id": "54453fda",
   "metadata": {},
   "source": [
    "<h4 style>Limit Properties</h4>"
   ]
  },
  {
   "cell_type": "markdown",
   "id": "6a920579",
   "metadata": {},
   "source": [
    "Assuming $\\lim\\limits_{x\\to a}f(x)$ and $\\lim\\limits_{x\\to a}g(x)$ exists and $c$ is any constant. Then:\n",
    "- $\\lim\\limits_{x\\to a}\\left[c\\cdot f(x)\\right]=c\\cdot \\lim\\limits_{x\\to a}f(x)$\n",
    "- $\\lim\\limits_{x\\to a}\\left[f(x) \\pm g(x)\\right]=\\lim\\limits_{x\\to a}f(x) \\pm \\lim\\limits_{x\\to a}g(x)$\n",
    "- $\\lim\\limits_{x\\to a}\\left[f(x) \\cdot g(x)\\right]=\\lim\\limits_{x\\to a}f(x) \\cdot \\lim\\limits_{x\\to a}g(x)$ \n",
    "- $\\lim\\limits_{x\\to a}\\left[\\dfrac{f(x)}{g(x)}\\right]= \\frac{\\lim\\limits_{x\\to a}f(x)}{\\lim\\limits_{x\\to a}g(x)}$, provided $\\lim\\limits_{x\\to a}g(x)\\neq 0$\n",
    "- $\\lim\\limits_{x\\to a}\\left[f(x)\\right]^n=\\left[\\lim\\limits_{x\\to a}f(x)\\right]^n$\n",
    "- $\\lim\\limits_{x\\to a} c=c$\n",
    "- $\\lim\\limits_{x\\to a} x=a$"
   ]
  },
  {
   "cell_type": "markdown",
   "id": "2954d71b",
   "metadata": {},
   "source": [
    "<br>"
   ]
  },
  {
   "cell_type": "markdown",
   "id": "47eaacbf",
   "metadata": {},
   "source": [
    "<h2 style>3.2 Continuity</h2>"
   ]
  },
  {
   "cell_type": "markdown",
   "id": "5a16ea91",
   "metadata": {},
   "source": [
    "Graphically, a function is **continuous** if it can be drawn without lifting the writing utensil from the paper. <br>\n",
    "Mathematically, a function $f$ is **continuous at $\\boldsymbol{x=a}$** if and only if the following three conditions are satisfied:\n",
    "- $f(a)$ exists\n",
    "- $\\lim\\limits_{x\\to a}f(x)$ exists\n",
    "- $\\lim\\limits_{x\\to a}f(x)=f(a)$\n",
    "\n",
    "A function is **continuous on an interval** if these three conditions are met for every input value in the interval."
   ]
  },
  {
   "cell_type": "markdown",
   "id": "b5095382",
   "metadata": {},
   "source": [
    "**Fact:** If $\\lim\\limits_{x\\to a}g(x)=b$ and $f(x)$ is continuous at $x=b$, then $\\lim\\limits_{x\\to a}f(g(x))=f\\left(\\lim\\limits_{x\\to a}g(x)\\right)$."
   ]
  },
  {
   "cell_type": "markdown",
   "id": "9dfc9c0e",
   "metadata": {},
   "source": [
    "**Example**<br>\n",
    "Evaluate $\\lim\\limits_{x\\to 0}e^{\\cos(x)}$.<br>\n",
    "The function $\\cos(x)$ is continuous at $x=0$ since $\\cos(0)=\\lim\\limits_{x\\to 0^-}\\cos(x)=\\lim\\limits_{x\\to 0^+}\\cos(x)=1$.<br>\n",
    "Hence $\\lim\\limits_{x\\to 0}e^{\\cos(x)}=e^{\\left(\\lim\\limits_{x\\to 0}\\cos(x)\\right)}=e^1=e$. Of course, this can easily be checked using the code."
   ]
  },
  {
   "cell_type": "code",
   "execution_count": 6,
   "id": "873a765a",
   "metadata": {},
   "outputs": [
    {
     "name": "stdout",
     "output_type": "stream",
     "text": [
      "The limit of e^(cos(x)) as x approaches 0 is: E\n"
     ]
    }
   ],
   "source": [
    "import sympy as sp\n",
    "\n",
    "# Define the variable x\n",
    "x = sp.symbols('x')\n",
    "\n",
    "# Define the function e^(cos(x))\n",
    "f_x = sp.exp(sp.cos(x))\n",
    "\n",
    "# Calculate the limit of e^(cos(x)) as x approaches 0\n",
    "limit_result = sp.limit(f_x, x, 0)\n",
    "\n",
    "# Print the result\n",
    "print(\"The limit of e^(cos(x)) as x approaches 0 is:\", limit_result)"
   ]
  },
  {
   "cell_type": "markdown",
   "id": "e608c092",
   "metadata": {},
   "source": [
    "<h4 style>Intermediate Value Theorem</h4>"
   ]
  },
  {
   "cell_type": "markdown",
   "id": "609f8524",
   "metadata": {},
   "source": [
    "Suppose that $f(x)$ is continuous on $[a,b]$ and let $M$ be any number between $f(a)$ and $f(b)$. Then there exists a constant $c$ such that $a<c<b$ and $f(c)=M$."
   ]
  },
  {
   "cell_type": "markdown",
   "id": "d7a0d49a",
   "metadata": {},
   "source": [
    "**Example** <br>\n",
    "Show that the function $f(x)=x^3+2x^2-0.3$ has a zero in the interval $[0,1]$.<br>\n",
    "Since $f(x)$ is a polynomial, it is continuous everywhere. $f(0)=-0.3$ and $f(1)=2.7$. <br>\n",
    "Since $0$ is between $-0.3$ and $2.7$, then by the Intermediate Value Theorem, there is a constant $c$ between $0$ and $1$ such that $f(c)=0$, that is, $c$ is a zero of $f(x)$ on $[0,1]$."
   ]
  },
  {
   "cell_type": "markdown",
   "id": "566b9880",
   "metadata": {},
   "source": [
    "This theorem might be useful for computationally expensive functions.<br>\n",
    "Otherwise, with the help of any calculating tools, it is quite simple to just find all the zeros of a given function in a given interval.<br>\n",
    "Below is a code example that prompt user for $f(x)$ and interval $[a,b]$, and then return the zeroes located in $[a,b]$."
   ]
  },
  {
   "cell_type": "code",
   "execution_count": 10,
   "id": "2f05cc99",
   "metadata": {},
   "outputs": [
    {
     "name": "stdout",
     "output_type": "stream",
     "text": [
      "Zeros of the function within the interval [a, b]: {0.001}\n"
     ]
    }
   ],
   "source": [
    "from scipy.optimize import fsolve\n",
    "\n",
    "# Prompt the user to input the function f(x)\n",
    "#expression_str = input(\"Enter the function f(x): \")\n",
    "#f_x = lambda x: eval(expression_str)\n",
    "f_x = lambda x: x**3+x-.0015\n",
    "\n",
    "# Prompt the user to input the interval [a, b]\n",
    "#a = float(input(\"Enter the lower bound of the interval (a): \"))\n",
    "a=-1\n",
    "#b = float(input(\"Enter the upper bound of the interval (b): \"))\n",
    "b=1\n",
    "\n",
    "# Define a function to check if a value is within the interval [a, b]\n",
    "def within_interval(x):\n",
    "    return a <= x <= b\n",
    "\n",
    "# Find all the zeros of the function within the interval [a, b]\n",
    "zeros = set()\n",
    "tolerance = 1e-6  # Adjust the tolerance as needed\n",
    "for x0 in range(int(a), int(b)+1):\n",
    "    zero = fsolve(f_x, x0)\n",
    "    if within_interval(zero) and abs(zero) > tolerance:\n",
    "        zeros.add(round(zero[0], 3))  # Round to three decimal places\n",
    "\n",
    "# Print the zeros within the interval\n",
    "print(\"Zeros of the function within the interval [a, b]:\", zeros)"
   ]
  },
  {
   "cell_type": "markdown",
   "id": "1f5c63de",
   "metadata": {},
   "source": [
    "<br>"
   ]
  },
  {
   "cell_type": "markdown",
   "id": "a52129b3",
   "metadata": {},
   "source": [
    "<h2 style>3.3 Measures of Change over an Interval </h2>"
   ]
  },
  {
   "cell_type": "markdown",
   "id": "6887d8da",
   "metadata": {},
   "source": [
    "If $x_1$ and $x_2$ are input values for the function $f$ and $x_1<x_2$, then:\n",
    "- the **change** in $f$ from $x_1$ to $x_2$ is $f(x_2)-f(x_1)$ <br>\n",
    "    what it calculates: between input $x_1$ and $x_2$, by how much does the output changes?<br>\n",
    "    \n",
    "- the **percent change** in $f$ from $x_1$ to $x_2$ is $\\dfrac{f(x_2)-f(x_1)}{f(x_1)}\\cdot 100\\%$<br>\n",
    "    what it calculates: between input $x_1$ and $x_2$, by how many % does the output changes?<br>\n",
    "    \n",
    "- the **average rate of change (aRoC)** in $f$ from $x_1$ to $x_2$ is $\\dfrac{f(x_2)-f(x_1)}{x_2-x_1}$<br>\n",
    "    what it calculates: between input $x_1$ and $x_2$, how fast does the output changes?  "
   ]
  },
  {
   "cell_type": "markdown",
   "id": "cf746546",
   "metadata": {},
   "source": [
    "Below is an example of code that prompt user to input two points $(x_1,f(x_1))$ and $(x_2,f(x_2))$, then return the change, percent change, and average rate of change between the two points."
   ]
  },
  {
   "cell_type": "code",
   "execution_count": 11,
   "id": "224436f9",
   "metadata": {},
   "outputs": [
    {
     "name": "stdout",
     "output_type": "stream",
     "text": [
      "Change in y: -4\n",
      "Percent change: -80.0 %\n",
      "Average rate of change: -1.3333333333333333\n"
     ]
    }
   ],
   "source": [
    "# Prompt the user to input the coordinates of the first point (x1, f(x1))\n",
    "#x1 = float(input(\"Enter the x-coordinate of the first point: \"))\n",
    "x1=2\n",
    "#f_x1 = float(input(\"Enter the y-coordinate of the first point: \"))\n",
    "f_x1=5\n",
    "\n",
    "# Prompt the user to input the coordinates of the second point (x2, f(x2))\n",
    "#x2 = float(input(\"Enter the x-coordinate of the second point: \"))\n",
    "x2=5\n",
    "#f_x2 = float(input(\"Enter the y-coordinate of the second point: \"))\n",
    "f_x2=1\n",
    "\n",
    "# Calculate the change, percent change and average rate of change\n",
    "change = f_x2 - f_x1\n",
    "percent_change = (change / f_x1) * 100\n",
    "average_rate_of_change = change / (x2 - x1)\n",
    "\n",
    "# Print the results\n",
    "print(\"Change in y:\", change)\n",
    "print(\"Percent change:\", percent_change, \"%\")\n",
    "print(\"Average rate of change:\", average_rate_of_change)"
   ]
  },
  {
   "cell_type": "markdown",
   "id": "81d9a986",
   "metadata": {},
   "source": [
    "<br>"
   ]
  },
  {
   "cell_type": "markdown",
   "id": "256bcf32",
   "metadata": {},
   "source": [
    "<h2 style>3.4 Measures of Change at a Point </h2>"
   ]
  },
  {
   "cell_type": "markdown",
   "id": "2570f471",
   "metadata": {},
   "source": [
    "If $x$ is an input values for the function $f$, then:\n",
    "- the **(instantaneous) rate of change (RoC)** of $f$ at point $x=a$ is $\\lim\\limits_{x\\to a} \\dfrac{f(x)-f(a)}{x-a}$ <br>\n",
    "    what it calculates: at the input $x=a$, how fast does the output changes?<br>\n",
    "- the **percent rate of change** of $f$ at point $x=a$ is $\\dfrac{\\text{RoC}}{f(a)}\\cdot 100\\%$ <br>\n",
    "    what it calculates: at the input $x=a$, how fast does the output percentage changes?    "
   ]
  },
  {
   "cell_type": "markdown",
   "id": "a85e8b40",
   "metadata": {},
   "source": [
    "Below is an example of code that prompt user to input a function $f(x)$ and the point $x=a$, then return the instantaneous rate of change and percent rate of change of $f$ at $x=a$."
   ]
  },
  {
   "cell_type": "code",
   "execution_count": 13,
   "id": "e52e0ad1",
   "metadata": {},
   "outputs": [
    {
     "name": "stdout",
     "output_type": "stream",
     "text": [
      "Approximate Instantaneous Rate of Change: -4.0\n",
      "Approximate Percent Rate of Change: 133.333\n"
     ]
    }
   ],
   "source": [
    "#this code is not using derivatives as we are still in Section 3.\n",
    "# Prompt the user to input the function f(x)\n",
    "#expression_str = input(\"Enter the function f(x): \")\n",
    "#f_x = lambda x: eval(expression_str)\n",
    "f_x= lambda x: 1-x**2\n",
    "\n",
    "# Prompt the user to input the point a\n",
    "#a = float(input(\"Enter the value of a: \"))\n",
    "a=2\n",
    "\n",
    "# Calculate the approximate instantaneous rate of change\n",
    "delta_x = 0.0001  # Small interval\n",
    "f_a = f_x(a)\n",
    "f_a_plus_delta_x = f_x(a + delta_x)\n",
    "instantaneous_rate_of_change = round((f_a_plus_delta_x - f_a) / delta_x, 3) \n",
    "\n",
    "# Calculate the approximate percent rate of change\n",
    "percent_rate_of_change = round((instantaneous_rate_of_change / f_a) * 100, 3)\n",
    "\n",
    "# Print the results\n",
    "print(\"Approximate Instantaneous Rate of Change:\", instantaneous_rate_of_change)\n",
    "print(\"Approximate Percent Rate of Change:\", percent_rate_of_change)"
   ]
  },
  {
   "cell_type": "markdown",
   "id": "1eefbf79",
   "metadata": {},
   "source": [
    "<br>"
   ]
  },
  {
   "cell_type": "markdown",
   "id": "7a77f5f0",
   "metadata": {},
   "source": [
    "<h2 style>3.5 Secant and Tangent Lines </h2>"
   ]
  },
  {
   "cell_type": "markdown",
   "id": "564767d2",
   "metadata": {},
   "source": [
    "Given a continuous function $f(x)$ on the interval containing $x=a$ and $x=b$. <br>\n",
    "The **secant line** on $f$ between $x=a$ and $x=b$ is a straight line connecting $(a,f(a))$ and $(b,f(b))$.<br>\n",
    "It is left to the reader to see the obvious fact that the slope of this secant line is the average rate of change of $f$ between $x=a$ and $x=b$."
   ]
  },
  {
   "cell_type": "markdown",
   "id": "f7891319",
   "metadata": {},
   "source": [
    "Below is an example code prompting user to input function $f$ as well as $x=a$ and $x=b$. Code will return the plot of $f$ together with its secant line between $x=a$ and $x=b$."
   ]
  },
  {
   "cell_type": "code",
   "execution_count": 24,
   "id": "2c7d27b1",
   "metadata": {},
   "outputs": [
    {
     "data": {
      "image/png": "[encoded data removed]",
      "text/plain": [
       "<matplotlib.figure.Figure at 0x25e48eb9e10>"
      ]
     },
     "metadata": {
      "needs_background": "light"
     },
     "output_type": "display_data"
    }
   ],
   "source": [
    "import numpy as np\n",
    "import matplotlib.pyplot as plt\n",
    "import math\n",
    "\n",
    "# Prompt user for a function f(x)\n",
    "#equation = input(\"Enter the function f(x): \")\n",
    "f= lambda x: .25*x**2\n",
    "\n",
    "# Define the secant line function\n",
    "def secant_line(x, a, b):\n",
    "    return f(a) + (f(b) - f(a))/(b - a) * (x - a)\n",
    "\n",
    "# Prompt user for values\n",
    "# = float(input(\"Enter the value of a: \"))\n",
    "a=1\n",
    "#b = float(input(\"Enter the value of b: \"))\n",
    "b=2\n",
    "# Generate x values\n",
    "x = np.linspace(a - 2, b + 2, 100)\n",
    "\n",
    "# Generate y values for f(x)\n",
    "y = f(x)\n",
    "\n",
    "# Generate y values for the secant line\n",
    "secant = secant_line(x, a, b)\n",
    "\n",
    "# Plot the function f(x) and the secant line\n",
    "plt.plot(x, y, label='f(x)')\n",
    "plt.plot(x, secant, label='Secant Line')\n",
    "\n",
    "# Add the x=0 and y=0 axes\n",
    "plt.axhline(0, color='black', linestyle='--')\n",
    "plt.axvline(0, color='black', linestyle='--')\n",
    "\n",
    "# Set the x-axis and y-axis labels\n",
    "plt.xlabel('x')\n",
    "plt.ylabel('y')\n",
    "\n",
    "# Set the title\n",
    "plt.title('Plot of f(x) with Secant Line')\n",
    "\n",
    "# Set the legend\n",
    "plt.legend()\n",
    "\n",
    "# Set the x-axis limits\n",
    "plt.xlim(a - 2, b + 2)\n",
    "\n",
    "# Display the plot\n",
    "plt.show()"
   ]
  },
  {
   "cell_type": "markdown",
   "id": "d5531b43",
   "metadata": {},
   "source": [
    "The word **tangent** comes from the Latin word *tangere*, meaning \"to touch\". <br>\n",
    "Given a continuous function $f(x)$ on the interval containing $x=a$. <br>\n",
    "The **tangent line** on $f$ at $x=a$ is a straight line touching $f(x)$ at exactly $(a,f(a))$ and nowhere else.<br>\n",
    "It is left to the reader to see the obvious fact that the slope of this tangent line is the instantaneous rate of change of $f$ at $x=a$."
   ]
  },
  {
   "cell_type": "markdown",
   "id": "030c4f8a",
   "metadata": {},
   "source": [
    "Below is an example code prompting user to input function $f$ and $x=a$. Code will return the plot of $f$ together with its tangent line at $x=a$."
   ]
  },
  {
   "cell_type": "code",
   "execution_count": 25,
   "id": "9a0cf6bf",
   "metadata": {},
   "outputs": [
    {
     "data": {
      "image/png": "[encoded data removed]",
      "text/plain": [
       "<matplotlib.figure.Figure at 0x25e48ea6588>"
      ]
     },
     "metadata": {
      "needs_background": "light"
     },
     "output_type": "display_data"
    }
   ],
   "source": [
    "import numpy as np\n",
    "import matplotlib.pyplot as plt\n",
    "\n",
    "# Prompt the user to input the function f(x)\n",
    "#equation = input(\"Enter the function f(x): \")\n",
    "f= lambda x: .25*x**2\n",
    "# Prompt the user to input the value of a\n",
    "#a = float(input(\"Enter the value of a: \"))\n",
    "a=1\n",
    "\n",
    "# Define the function f(x)\n",
    "#def f(x):\n",
    "#    return eval(equation)\n",
    "\n",
    "# Generate x values for plotting\n",
    "x = np.linspace(a - 2, a + 2, 100)\n",
    "\n",
    "# Generate y values for the function f(x)\n",
    "y = f(x)\n",
    "\n",
    "# Calculate the tangent line at x = a\n",
    "tangent_x = np.linspace(a - 2, a + 2, 100)\n",
    "tangent_y = f(a) + (tangent_x - a) * (f(a + 0.01) - f(a)) / (0.01)\n",
    "\n",
    "# Initialize the figure and axes\n",
    "fig, ax = plt.subplots()\n",
    "\n",
    "# Plot the function f(x)\n",
    "ax.plot(x, y, label='f(x)')\n",
    "\n",
    "# Plot the tangent line at x = a\n",
    "ax.plot(tangent_x, tangent_y, 'r--', label='Tangent Line at a')\n",
    "\n",
    "# Add the x=0 and y=0 axes\n",
    "ax.axhline(0, color='black', linestyle='--')\n",
    "ax.axvline(0, color='black', linestyle='--')\n",
    "\n",
    "# Set the x-axis and y-axis limits\n",
    "ax.set_xlim(a - 2, a + 2)\n",
    "ax.set_ylim(min(y) - 1, max(y) + 1)\n",
    "\n",
    "# Set the x-axis and y-axis labels\n",
    "ax.set_xlabel('x')\n",
    "ax.set_ylabel('y')\n",
    "\n",
    "# Set the title\n",
    "ax.set_title('Function f(x) with Tangent Line at x=a')\n",
    "\n",
    "# Set the legend\n",
    "ax.legend()\n",
    "\n",
    "# Display the plot\n",
    "plt.show()"
   ]
  },
  {
   "cell_type": "markdown",
   "id": "c45639cc",
   "metadata": {},
   "source": [
    "The tangent line at $x=a$ can be ontain by taking the secant line between $x=a$ and $x=b$, then bring $b$ closer and closer to $a$.<br>\n",
    "Taking $b=a+h$, the slope of the secant line between $x=a$ and $x=b$ is $\\dfrac{f(a+h)-f(a)}{a+h-a}=\\dfrac{f(a+h)-f(a)}{h}$. <br>\n",
    "Bringing $b \\to a$ os then bringing $h\\to 0$, and hence the slope of the tangent line at $x=a$ is $\\lim\\limits_{h \\to 0}\\dfrac{f(a+h)-f(a)}{h}$. <br>\n",
    "This realization is an important concept as we are to introduce derivative on the next Section."
   ]
  },
  {
   "cell_type": "markdown",
   "id": "07548e00",
   "metadata": {},
   "source": [
    "Below is the code showing the graph of $f(x)=x^2$ with the secant lines between $x=2$ and $x=b$, starting from $b=4$ until $b=2$, which gives the tangent line of $f(x)$ at $x=2$."
   ]
  },
  {
   "cell_type": "code",
   "execution_count": 26,
   "id": "3109b4d9",
   "metadata": {},
   "outputs": [
    {
     "data": {
      "image/png": "[encoded data removed]",
      "text/plain": [
       "<matplotlib.figure.Figure at 0x25e48efef98>"
      ]
     },
     "metadata": {
      "needs_background": "light"
     },
     "output_type": "display_data"
    }
   ],
   "source": [
    "import numpy as np\n",
    "import matplotlib.pyplot as plt\n",
    "\n",
    "# Define the function f(x)\n",
    "def f(x):\n",
    "    return x**2\n",
    "\n",
    "# Define the tangent line function at x = 2\n",
    "def tangent_line(x):\n",
    "    return 4 * (x - 2) + 4\n",
    "\n",
    "# Define the secant line function\n",
    "def secant_line(x, a, b):\n",
    "    return (f(b) - f(a)) / (b - a) * (x - a) + f(a)\n",
    "\n",
    "# Generate x values for plotting\n",
    "x = np.linspace(0, 6, 100)\n",
    "\n",
    "# Generate y values for the function f(x)\n",
    "y = f(x)\n",
    "\n",
    "# Generate y values for the tangent line at x = 2\n",
    "tangent_y = tangent_line(x)\n",
    "\n",
    "# Generate y values for the secant lines\n",
    "secant_y1 = secant_line(x, 2, 4)\n",
    "secant_y2 = secant_line(x, 2, 3.5)\n",
    "secant_y3 = secant_line(x, 2, 3)\n",
    "secant_y4 = secant_line(x, 2, 2.5)\n",
    "\n",
    "# Initialize the figure and axes\n",
    "fig, ax = plt.subplots()\n",
    "\n",
    "# Plot the graph of f(x)\n",
    "ax.plot(x, y, color='black', label='f(x) = x^2')\n",
    "\n",
    "# Plot the tangent line at x = 2\n",
    "ax.plot(x, tangent_y, 'r-', label='Tangent Line at x=2')\n",
    "\n",
    "# Plot the secant lines\n",
    "ax.plot(x, secant_y1, 'b-', label='Secant Line: x=2 to x=4')\n",
    "ax.plot(x, secant_y2, 'g--', label='Secant Line: x=2 to x=3.5')\n",
    "ax.plot(x, secant_y3, 'm--', label='Secant Line: x=2 to x=3')\n",
    "ax.plot(x, secant_y4, 'c--', label='Secant Line: x=2 to x=2.5')\n",
    "\n",
    "# Add the x=0 and y=0 axes\n",
    "ax.axhline(0, color='black')\n",
    "ax.axvline(0, color='black')\n",
    "\n",
    "# Set the x-axis and y-axis labels\n",
    "ax.set_xlabel('x')\n",
    "ax.set_ylabel('y')\n",
    "\n",
    "# Set the title\n",
    "ax.set_title('Graph of f(x) = x^2 with Tangent and Secant Lines')\n",
    "\n",
    "# Set the legend\n",
    "ax.legend()\n",
    "\n",
    "# Display the plot\n",
    "plt.show()"
   ]
  },
  {
   "cell_type": "markdown",
   "id": "205ba562",
   "metadata": {},
   "source": [
    "#### Animation showing secant segment slopes approaching the tangent line slope."
   ]
  },
  {
   "cell_type": "markdown",
   "id": "89586f21",
   "metadata": {},
   "source": [
    "<img src=\"secant.gif\" width=\"550\" align=\"center\">"
   ]
  },
  {
   "cell_type": "markdown",
   "id": "b08c9866",
   "metadata": {},
   "source": [
    "<h2 style>Exercises </h2>"
   ]
  },
  {
   "cell_type": "markdown",
   "id": "cf35a655",
   "metadata": {},
   "source": [
    "1) Given the graph of $f(x)$ below:\n",
    "\n",
    "  ```{image} 3LCR1.png\n",
    "  :alt: function\n",
    "  :width: 250px\n",
    "  ```\n",
    "        \n",
    "    \n",
    "Determine whether or not $\\lim\\limits_{x\\to 2}f(x)$ and $\\lim\\limits_{x\\to 3}f(x)$ exists. Explain. "
   ]
  },
  {
   "cell_type": "markdown",
   "id": "544595d7",
   "metadata": {},
   "source": [
    "2) Calculate the following limits. Explain why or why not the limit exists.\n",
    "    - $\\lim\\limits_{x\\to 7} 5\\ln(x)$\n",
    "    - $\\lim\\limits_{x\\to 3} \\left(3x^3+4x^2-5x-6\\right)$\n",
    "    - $\\lim\\limits_{x\\to 0} \\dfrac{1}{x}$"
   ]
  },
  {
   "cell_type": "markdown",
   "id": "f22c31a8",
   "metadata": {},
   "source": [
    "3) Do the following problems:\n",
    "    - Evaluate $\\lim\\limits_{x\\to 0}e^{\\sin(x)}$\n",
    "    - Find all zeroes of $f(x)=4x^3+3x^2-3x+0.2$ on the interval $[0,1]$"
   ]
  },
  {
   "cell_type": "markdown",
   "id": "7513d64b",
   "metadata": {},
   "source": [
    "4) Given $f(x)=4x^3-2x^2+3x-7$. Calculate the following:\n",
    "    - Change of $f$ between $x=-1$ and $x=2$ \n",
    "    - Percent change of $f$ between $x=-1$ and $x=2$ \n",
    "    - Average rate of change of $f$ between $x=-1$ and $x=2$ \n",
    "    - Instantaneous rate of change of $f$ at $x=3$\n",
    "    - Percent rate of change of $f$ at $x=3$"
   ]
  },
  {
   "cell_type": "markdown",
   "id": "edbb6e4a",
   "metadata": {},
   "source": [
    "5) Given $f(x)=4x^3-2x^2+3x-7$. Plot the following and relate these plot with your answer from the previous problem:\n",
    "    - Secant line between on $f$ between $x=-1$ and $x=2$ \n",
    "    - Tangent line on $f$ at $x=3$"
   ]
  },
  {
   "cell_type": "code",
   "execution_count": null,
   "id": "436544e4",
   "metadata": {},
   "outputs": [],
   "source": []
  }
 ],
 "metadata": {
  "kernelspec": {
   "display_name": "Python 3 (ipykernel)",
   "language": "python",
   "name": "python3"
  },
  "language_info": {
   "codemirror_mode": {
    "name": "ipython",
    "version": 3
   },
   "file_extension": ".py",
   "mimetype": "text/x-python",
   "name": "python",
   "nbconvert_exporter": "python",
   "pygments_lexer": "ipython3",
   "version": "3.10.9"
  }
 },
 "nbformat": 4,
 "nbformat_minor": 5
}
