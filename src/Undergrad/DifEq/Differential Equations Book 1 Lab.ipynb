{
 "cells": [
  {
   "cell_type": "markdown",
   "id": "08274f31",
   "metadata": {},
   "source": [
    "# Differential Equations Lab"
   ]
  },
  {
   "cell_type": "markdown",
   "id": "cfbe2680",
   "metadata": {},
   "source": [
    "## Section 2 Questions"
   ]
  },
  {
   "cell_type": "markdown",
   "id": "d1a60353",
   "metadata": {},
   "source": [
    "1. List the type, order, and parameters of each of the following differential equations. For each ordinary differential equation, determine if it is linear or nonlinear.\n",
    "    - $\\dfrac{dy}{dx} +3x^2 = sin(x) + 3$\n",
    "    \n",
    "    - $(\\dfrac{dy}{dx})^2 +3x^2 = sin(x) + 3$\n",
    "    \n",
    "    - $\\dfrac{dy}{dx}k +3x^2 k = ysin(x) + 3$\n",
    "    \n",
    "    - $\\dfrac{d^2y}{dx^2} +3x^2 = sin(x) + 3$\n",
    "\n",
    "$ $\n",
    "   \n",
    "    \n",
    "2. List the type, order, and parameters of each of the following differential equations. For each ordinary differential equation, determine if it is linear or nonlinear.\n",
    "    - $\\frac{\\partial w}{\\partial u} + \\frac{\\partial^2 w}{\\partial v^2} = u$\n",
    "    \n",
    "    - $\\frac{\\partial w}{\\partial u} + \\frac{\\partial w}{\\partial v} = u^2$\n",
    "    \n",
    "    - $\\dfrac{dt}{dv}t = tan(t) +9$\n",
    "    - $\\dfrac{dt}{dv}v = tan(t) +9$\n",
    "    \n",
    "\n",
    "$ $\n",
    "    \n",
    "3. Show that $y = e^{2t}$ is a solution for all $t$ to $y''+y = 5y$.\n",
    "4. Show that $y = te^{5t}$ is a solution for all $t$ to $y''-10y'=-25y$\n",
    "5. Show that $y = sin(3t)+cos(3t) + t^3 -6$ is a solution for all $t$ to $y'''+9y' = 27t^2+6$\n",
    "6. Show that $y = 12t^2+t^4$ is a solution for all $t$ to $(y'+y'')-(y'''+y^{(4)}) = y-t^4+4t^3$"
   ]
  },
  {
   "cell_type": "markdown",
   "id": "41f29dc8",
   "metadata": {},
   "source": [
    "## Section 3 Questions"
   ]
  },
  {
   "cell_type": "markdown",
   "id": "365e11a2",
   "metadata": {},
   "source": [
    "1. Solve the separable equations:\n",
    "\n",
    "    - $ \\dfrac{dx}{dt} = \\dfrac{1}{t}e^{-2x} $\n",
    "    \n",
    "    - $ \\dfrac{dx}{dt} = \\dfrac{-1}{x^2t^2} $\n",
    "    \n",
    "    - $ \\dfrac{dy}{dx} = cos^2(y)e^{x^2}2x $\n",
    "    \n",
    "    - $ \\dfrac{1}{x}-\\dfrac{dx}{dt}=x^{-1}\\dfrac{1}{sec(t)} $\n",
    "    \n",
    "2. Solve the linear equations using the method of integrating factors ($\\mu(t) = e^{P(t)}$)\n",
    "\n",
    "    - $ t\\dfrac{dx}{dt} = sin(t) -x $\n",
    "    \n",
    "    - $ \\dfrac{dx}{dt} + x 4t^3 = \\dfrac{1}{t e^{t^4}} $\n",
    "    \n",
    "    - $ \\dfrac{dy}{dx} + \\dfrac{y}{x} = \\dfrac{1}{x+x^3} $\n",
    "    \n",
    "    - $ \\dfrac{dy}{dx}x + \\dfrac{-2y}{x^2} = xe^{-x^{-2}}sec(x)tan(x) $\n",
    "\n",
    "3. Plot the direction fields\n",
    "\n",
    "    - $ \\dfrac{dy}{dx}= x^2-y^2-y $\n",
    "\n",
    "    - $ \\dfrac{dy}{dx}= x(y-x) $\n",
    "    \n",
    "    - $ \\dfrac{dy}{dx}= y(x-y) $\n",
    "\n",
    "4. Find the equilibrium solutions and draw the phase lines for the following functions. Classify each equilibrium solution.\n",
    "\n",
    "    - $ y'=(y-6)(y+7)  $\n",
    "\n",
    "    - $ y'= y^3-8y^2+12y  $\n",
    "\n",
    "    - $ y'= y(y^2-1) $\n",
    "    \n",
    "    - $ y'= y^2(y^2-1) $"
   ]
  },
  {
   "cell_type": "markdown",
   "id": "0bd9420a",
   "metadata": {},
   "source": [
    "## Section 4 Questions"
   ]
  },
  {
   "cell_type": "markdown",
   "id": "84d02986",
   "metadata": {},
   "source": [
    "1. Solve the initial value problem:\n",
    "    - $ x'' - x' -42x = 0 $; $ x'(0) = 0$, $ x''(0) = 1$\n",
    "    - $ x''-14x'+48x=0 $; $x'(0)=0$, $x''(0)=5$\n",
    "    - $ x''+6x'+9x=0, x'(0)=0, x''(0)=9 $\n",
    "    - $ x''+16x'+64x=0, x'(0)=0, x''(0)=8 $\n",
    "    - $ x''+4x'+8x=0, x'(0)=0, x''(0)=4 $\n",
    "    - $ x''+10x'+30x=0, x'(0)= 0, x''(0)= 30 $\n",
    "2. Solve the non-homogeneous equations:\n",
    "    - $ x''-9x'+20x=-10 $\n",
    "    - $ x''-9x'+20x=20t^2 $\n",
    "    - $ x''-9x'+20x=e^{3t} $\n",
    "    - $ x''-9x'+20x=e^{5t} $\n",
    "3. Solve the non-homogeneous equations:\n",
    "    - $ x''+4x'+4x =sin(t)$\n",
    "    - $ x''+4x'+4x =8t^2 $"
   ]
  },
  {
   "cell_type": "markdown",
   "id": "072d9656",
   "metadata": {},
   "source": [
    "## Section 5 Questions"
   ]
  },
  {
   "cell_type": "code",
   "execution_count": null,
   "id": "c5eca9f4",
   "metadata": {},
   "outputs": [],
   "source": []
  }
 ],
 "metadata": {
  "kernelspec": {
   "display_name": "Python 3 (ipykernel)",
   "language": "python",
   "name": "python3"
  },
  "language_info": {
   "codemirror_mode": {
    "name": "ipython",
    "version": 3
   },
   "file_extension": ".py",
   "mimetype": "text/x-python",
   "name": "python",
   "nbconvert_exporter": "python",
   "pygments_lexer": "ipython3",
   "version": "3.11.7"
  }
 },
 "nbformat": 4,
 "nbformat_minor": 5
}
