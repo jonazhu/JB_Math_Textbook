{
 "cells": [
  {
   "cell_type": "markdown",
   "id": "173dea4e",
   "metadata": {},
   "source": [
    "## 1. Overview of Chapter"
   ]
  },
  {
   "cell_type": "markdown",
   "id": "20990be2",
   "metadata": {},
   "source": [
    "This Differential Equations Module offers a brief introduction to several important topics in undergraduate Differential Equations:\n",
    "\n",
    " - Introduction to Differential Equations (Section 2)\n",
    " - First-Order Differential Equations (Section 3)\n",
    " - Second-Order Differential Equations (Section 4)\n",
    " - Systems of Linear First Order Differential Equations (Section 5)\n",
    " - Laplace Transforms (Section 6)\n",
    "\n",
    "For each topic, we provide basic definitions, examples, and exercises that are designed to be easily understood by entry level undergraduate students. The exercises include problems that are both solvable manually to check students' understand of the concepts and solvable using Python Jupyter Notebooks. This module focus on the more pure mathematical sides of Differential Equations, while the application can be found under the <b>Differential Equations for the Benefit of Society</b> Module in the <b>APPLICATIONS</b> chapter of this book."
   ]
  },
  {
   "cell_type": "code",
   "execution_count": null,
   "id": "f82f18fa",
   "metadata": {},
   "outputs": [],
   "source": []
  }
 ],
 "metadata": {
  "kernelspec": {
   "display_name": "Python 3 (ipykernel)",
   "language": "python",
   "name": "python3"
  },
  "language_info": {
   "codemirror_mode": {
    "name": "ipython",
    "version": 3
   },
   "file_extension": ".py",
   "mimetype": "text/x-python",
   "name": "python",
   "nbconvert_exporter": "python",
   "pygments_lexer": "ipython3",
   "version": "3.9.16"
  }
 },
 "nbformat": 4,
 "nbformat_minor": 5
}
