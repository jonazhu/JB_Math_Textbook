{
 "cells": [
  {
   "cell_type": "markdown",
   "id": "5f2d658e",
   "metadata": {},
   "source": [
    "# 6. Laplace Transforms"
   ]
  },
  {
   "cell_type": "markdown",
   "id": "eeedbbe0",
   "metadata": {},
   "source": [
    "```{note}\n",
    "\n",
    "In the realm of differential equations, the Laplace Transform is a crucial and powerful tool that simplifies the process of solving complex equations. This mathematical operation is named after Pierre-Simon Laplace, a French mathematician and astronomer whose work was foundational to many branches of mathematics.\n",
    "\n",
    "The essence of the Laplace Transform lies in its ability to convert differential equations, which involve rates of change and are dependent on time, into algebraic equations, which are easier to manipulate. In this conversion process, complex patterns of time-dependent behavior are mapped into a domain where they are described as simple functions of a complex variable.\n",
    "\n",
    "In this chapter, we will explore the fundamentals of Laplace Transforms, beginning with its definition and properties. We'll investigate how to apply Laplace Transforms to linear ordinary differential equations, including initial and boundary value problems. We will also study the Inverse Laplace Transform, a crucial technique for reclaiming our original function after performing operations in the Laplace domain. By leveraging Laplace Transforms, we can tackle systems that would be otherwise intimidating or intractable, such as those involving discontinuous or impulsive forces. This method is extensively used in various fields, including engineering, physics, and mathematics, to solve real-world problems ranging from electric circuit analysis to modeling population growth or decay.\n",
    "```"
   ]
  },
  {
   "cell_type": "markdown",
   "id": "324ef105",
   "metadata": {},
   "source": [
    "### 6.1 Introduction to Laplace Transforms"
   ]
  },
  {
   "cell_type": "markdown",
   "id": "2ce08c47",
   "metadata": {},
   "source": [
    "Let $f(t)$ be a function and consider the integeral\n",
    "\n",
    "$$\n",
    "\\mathcal{L}(f(t)) = \\int_{0}^{\\infty} e^{-st}f(t) \\mathrm{d}t \\equiv F(s).\n",
    "$$\n",
    "\n",
    "If this integral is finite, then $\\mathcal{L}(f(t))$ (also denoted $F(s)$) is called the **Laplace transform**of $f(t)$. Note that not all function have Laplace transforms."
   ]
  },
  {
   "cell_type": "markdown",
   "id": "822271be",
   "metadata": {},
   "source": [
    "```{admonition} Example\n",
    "\n",
    "Find the Laplace transform of $f(t)=1$.\n",
    "\n",
    "$$\\mathcal{L}(1) = \\int_{0}^{\\infty} e^{-st} \\mathrm{d}t$$\n",
    "$$= \\lim_{R \\rightarrow \\infty} \\int_{0}^{R} e^{-st} \\mathrm{d}t$$\n",
    "$$= \\lim_{R \\rightarrow \\infty} -\\dfrac{1}{s} e^{-st}\\bigm|_{t=0}^{t=R}$$\n",
    "$$= \\left[\\lim_{R \\rightarrow \\infty} -\\dfrac{1}{s} e^{-sR} \\right] + \\dfrac{1}{s}$$\n",
    "\n",
    "Notice that if $s<0$, then the limit goes to $\\infty$ and if $s>0$, the limit goes to $0$. Thus $\\mathcal{L}(1) = \\dfrac{1}{s}$ for $s >0$.\n",
    "```"
   ]
  },
  {
   "cell_type": "code",
   "execution_count": 2,
   "id": "545f6aee",
   "metadata": {
    "tags": [
     "hide-input"
    ]
   },
   "outputs": [
    {
     "name": "stdout",
     "output_type": "stream",
     "text": [
      "The Laplace transform of f(t) = 1 is: (1/s, 0, True)\n"
     ]
    }
   ],
   "source": [
    "#We can also do this example in the Jupyter notebook.\n",
    "from sympy import symbols, LaplaceTransform, Function\n",
    "\n",
    "t, s = symbols('t s')\n",
    "f = Function('f')(t)\n",
    "\n",
    "# Define the function\n",
    "f = 1\n",
    "\n",
    "# Compute Laplace transform\n",
    "F = LaplaceTransform(f, t, s).doit()\n",
    "\n",
    "print(\"The Laplace transform of f(t) = 1 is:\", F)"
   ]
  },
  {
   "cell_type": "markdown",
   "id": "e7d431b9",
   "metadata": {},
   "source": [
    "```{admonition} Example\n",
    "\n",
    "Find the Laplace transform of $f(t)=e^{at}$.\n",
    "\n",
    "$$\\mathcal{L}(e^{at}) = \\int_{0}^{\\infty} e^{-st}e^{at} \\mathrm{d}t$$\n",
    "$$= \\lim_{R \\rightarrow \\infty} \\int_{0}^{R} e^{(a-s)t} \\mathrm{d}t$$\n",
    "$$= \\lim_{R \\rightarrow \\infty} \\dfrac{1}{a-s} e^{(a-s)t}\\bigm|_{t=0}^{t=R}$$\n",
    "$$= \\left[\\lim_{R \\rightarrow \\infty} \\dfrac{1}{a-s} e^{(a-s)R} \\right] - \\dfrac{1}{a-s}$$\n",
    "\n",
    "Notice that if $s<a$, then the limit goes to $\\infty$ and if $s>a$, the limit goes to $0$. Thus $\\mathcal{L}(1) = -\\dfrac{1}{a-s} \\dfrac{1}{s-a}$ for $s >a$.\n",
    "```"
   ]
  },
  {
   "cell_type": "code",
   "execution_count": 3,
   "id": "e2a18c0e",
   "metadata": {
    "tags": [
     "hide-input"
    ]
   },
   "outputs": [
    {
     "name": "stdout",
     "output_type": "stream",
     "text": [
      "The Laplace transform of f(t) = e^(at) is: (1/(-a + s), a, True)\n"
     ]
    }
   ],
   "source": [
    "from sympy import symbols, LaplaceTransform, Function, exp\n",
    "\n",
    "t, s, a = symbols('t s a')\n",
    "f = Function('f')(t)\n",
    "\n",
    "# Define the function\n",
    "f = exp(a*t)\n",
    "\n",
    "# Compute Laplace transform\n",
    "F = LaplaceTransform(f, t, s).doit()\n",
    "\n",
    "print(\"The Laplace transform of f(t) = e^(at) is:\", F)"
   ]
  },
  {
   "cell_type": "markdown",
   "id": "c03e4b7f",
   "metadata": {},
   "source": [
    "Given that a function does not always have a Laplace transform (see Exercise 4), it is worthwhile to discuss requirements for a function to have a Laplace transform. First, the function must be piecewise continuous. In other words, $f(t)$ is continuous except at possibly finitely many points. If $f(t)$ is discontinuous at $t_k$, then $\\lim_{t \\rightarrow t_k^-} f(t)$ and $\\lim_{t \\rightarrow t_k^+} f(t)$ are both finite. Secondly, the function must have exponential order. In other words, there must be some numbers $M,a,T$ such that $|f(t)| \\leq Me^{at}$ for $t >T$."
   ]
  },
  {
   "cell_type": "markdown",
   "id": "86048ad1",
   "metadata": {},
   "source": [
    "**Linearity of Laplace Transforms** If $f(t)$ and $g(t)$ are both piecewise continuous functions of exponential order, then\n",
    "$$\\mathcal{L}(af(t)+bg(t)) = a \\mathcal{L}(f(t)) + b \\mathcal{L}(g(t)).$$"
   ]
  },
  {
   "cell_type": "markdown",
   "id": "9a729cc0",
   "metadata": {},
   "source": [
    "Summary\n",
    "| Initial Function       | Laplace Transform of that Function     | \n",
    "| :----------- | :----------- |\n",
    "| $1$ | $\\dfrac{1}{s}$, if $s>0$ |\n",
    "| $e^{at}$ | $\\dfrac{1}{s-a}$, if $s>a$ |\n",
    "| $\\sin(bt)$ | $\\dfrac{b}{s^2+b^2}$ |\n",
    "| $\\cos(bt)$ | $\\dfrac{s}{s^2+b^2}$ |\n",
    "| $af(t)+bg(t)$ | $aF(s)+bG(s)$ (Linearity) |\n",
    "| $f'(t)$ | $sF(s)-f(0)$ |\n",
    "| $f''(t)$ | $s^2F(s) - sf(0) -f'(0)$ |"
   ]
  },
  {
   "cell_type": "markdown",
   "id": "489cb699",
   "metadata": {},
   "source": [
    "### 6.2 The Inverse Laplace Transform"
   ]
  },
  {
   "cell_type": "markdown",
   "id": "1f8e0c0c",
   "metadata": {},
   "source": [
    "```{admonition} Example\n",
    "\n",
    "Consider the linear initial value problem\n",
    "\n",
    "$$x'+4x = e^{-5t}, \\quad x(0)=1.$$\n",
    "\n",
    "Find the Laplace transform of the solution $x(t)$.\n",
    "\n",
    "$$\\mathcal{L}(x' + 4x) = \\mathcal{L}(e^{-5t})$$\n",
    "$$\\mathcal{L}(x') + 4\\mathcal{L}(x) = \\mathcal{L}(e^{-5t})$$\n",
    "$$s\\mathcal{L}(x)-x(0)+4\\mathcal{L}(x) = \\dfrac{1}{s+5}$$\n",
    "$$(s+4)\\mathcal{L}(x)-1 = \\dfrac{1}{s+5}$$\n",
    "$$(s+4)\\mathcal{L}(x) = \\dfrac{1}{s+5}+ \\dfrac{s+5}{s+5}$$\n",
    "$$(s+4)\\mathcal{L}(x) = \\dfrac{s+6}{s+5}$$\n",
    "$$\\mathcal{L}(x) = \\dfrac{s+6}{(s+5)(s+4)}$$\n",
    "\n",
    "\n",
    "Now we want to know, what function $x(t)$ has $\\mathcal{L}(x) = \\dfrac{s+6}{(s+5)(s+4)}$?\n",
    "```"
   ]
  },
  {
   "cell_type": "markdown",
   "id": "0a742f94",
   "metadata": {},
   "source": [
    "The function $f(t)$ which has Laplace transform $F(s)$ is called the **inverse Laplace transform of** $F(s)$. So long as all of the functions are piecewise continuous of exponential order, this transformation is unique, except possibly at the points of discontinuity. Moreover, the inverse Laplace transform is a linear operator. That is,\n",
    "$$ \\mathcal{L}^{-1}(aF(s)+bG(s)) = a \\mathcal{L}^{-1}(F(s))+b \\mathcal{L}^{-1}(G(s)).$$"
   ]
  },
  {
   "cell_type": "markdown",
   "id": "bb9ef198",
   "metadata": {},
   "source": [
    "```{admonition} Example (continued)\n",
    "\n",
    "Find the inverse Laplace transform for $\\mathcal{L}(x) = \\dfrac{s+6}{(s+5)(s+4)}$.\n",
    "\n",
    "First, we can use partial fractions to split this into more reasonable pieces.\n",
    "\n",
    "\n",
    "$$\\dfrac{s+6}{(s+5)(s+4)} = \\dfrac{A}{s+5} + \\dfrac{B}{s+4}$$\n",
    "\n",
    "\n",
    "$$s+6 = A(s+4) + B(s+5)$$\n",
    "\n",
    "If $s=-4$, then $2 = A(0) + B(1)$, thus $B=2$.\n",
    "If $s=-5$, then $1 = A(-1) + B(0)$, thus $A=-1$.\n",
    "\n",
    "So $\\mathcal{L}(x) = \\dfrac{-1}{s+5} + \\dfrac{2}{s+4}$. Recall that $\\mathcal{L}(e^{at}) = \\dfrac{1}{s-a}$. Thus $\\mathcal{L}(x) = -\\mathcal{L}(e^{-5t}) + 2 \\mathcal{L}(e^{-4t})$. So $x(t) = -e^{-5t}+2e^{-4t}$, which is the solution to the initial-value problem given in the previous example!\n",
    "```"
   ]
  },
  {
   "cell_type": "markdown",
   "id": "97576ae1",
   "metadata": {},
   "source": [
    "In order to solve differential equations with Laplace transforms, we will:\n",
    "\n",
    "*Step 1*: Take the Laplace transform of both sides and set them equal.\n",
    "\n",
    "*Step 2*: Enter initial conditions (if needed)\n",
    "\n",
    "*Step 3*: Solve the equation algebraically for the transform $\\mathcal{L}(X)$, which we will now denote $X(s)$, of the unknown function $x(t)$.\n",
    "\n",
    "*Step 4*: Invert $X(s)$ to find $x(t)$."
   ]
  },
  {
   "cell_type": "markdown",
   "id": "40e4f5db",
   "metadata": {},
   "source": [
    "```{admonition} Example\n",
    "\n",
    "Consider the linear initial value problem\n",
    "\n",
    "\n",
    "$$x''+4x = 8, \\quad x(0)=0, \\quad x'(0)=0.$$\n",
    "\n",
    "\n",
    "Find the Laplace transform of the solution $x(t)$.\n",
    "\n",
    "$$\\mathcal{L}(x'' + 4x) = \\mathcal{L}(8)$$\n",
    "$$\\mathcal{L}(x'') + 4\\mathcal{L}(x) = \\mathcal{L}(8)$$\n",
    "$$s^2X(s) - sx(0)-x'(0)+4X(s) = \\dfrac{8}{s}$$\n",
    "$$(s^2+4)X(s) = \\dfrac{8}{s}$$\n",
    "$$X(s) = \\dfrac{8}{(s)(s^2+4)}$$\n",
    "\n",
    "Now use partial fractions\n",
    "\n",
    "\n",
    "$$\\dfrac{8}{(s)(s^2+4)} = \\dfrac{A}{s} + \\dfrac{Bs+C}{s^2+4}$$\n",
    "$$8 = (s^2+4)A + s(Bs+C)$$\n",
    "\n",
    "Solving for $A$, $B$, and $C$, yields $A = 2$, $B=-2$, and $C=0$.\n",
    "\n",
    "Thus $X(s) = \\dfrac{-2s}{s^2+4} + \\dfrac{2}{s} = -2 \\left(\\dfrac{s}{s^2+2^2}\\right) +2 \\left(\\dfrac{1}{s}\\right)$. Therefore, $x(t) = -2\\cos(2t)+2$.\n",
    "```"
   ]
  },
  {
   "cell_type": "markdown",
   "id": "d77155ed",
   "metadata": {},
   "source": [
    "### 6.3 More Laplace Transforms & the Heaviside Function"
   ]
  },
  {
   "cell_type": "markdown",
   "id": "1a30ccc5",
   "metadata": {},
   "source": [
    "`````{admonition} Theorem\n",
    ":class: tip\n",
    "\n",
    "If $f(t)$ is any piecewise contiunous function of exponential order, then $$\\mathcal{L}(e^{at}f(t)) = F(s-a) \\quad \\text{ where } F(s) = \\mathcal{L}(f(t)).$$\n",
    "`````"
   ]
  },
  {
   "cell_type": "markdown",
   "id": "e4747e45",
   "metadata": {},
   "source": [
    "`````{admonition} Theorem\n",
    ":class: tip\n",
    "\n",
    "Theorem\n",
    "\n",
    "If $f(t)$ is any piecewise contiunous function of exponential order, then \n",
    "\n",
    "$$\\mathcal{L}(tf(t)) = -\\dfrac{d}{ds}F(s) \\quad \\text{ where } F(s) = \\mathcal{L}(f(t)).$$\n",
    "\n",
    "`````"
   ]
  },
  {
   "cell_type": "markdown",
   "id": "d4fe8fdd",
   "metadata": {},
   "source": [
    "Let's update our table to take in this new information\n",
    "\n",
    "| Initial Function      | Laplace Transform of that Function     | \n",
    "| :----------- | :----------- |\n",
    "| $1$ | $\\dfrac{1}{s}$, if $s>0$ |\n",
    "| $e^{at}$ | $\\dfrac{1}{s-a}$, if $s>a$ |\n",
    "| $\\sin(bt)$ | $\\dfrac{b}{s^2+b^2}$ |\n",
    "| $\\cos(bt)$ | $\\dfrac{s}{s^2+b^2}$ |\n",
    "| $af(t)+bg(t)$ | $aF(s)+bG(s)$ (Linearity) |\n",
    "| $f'(t)$ | $sF(s)-f(0)$ |\n",
    "| $f''(t)$ | $s^2F(s) - sf(0) -f'(0)$ |\n",
    "| $t$ | $\\dfrac{1}{s^2}$ |\n",
    "| $tf(t)$ | $-\\dfrac{d}{ds}F(s)$ |\n",
    "| $t^n$ | $\\dfrac{n!}{s^{n+1}}$ |\n",
    "| $te^{at}$ | $\\dfrac{1}{(s-a)^2}$ |\n",
    "| $e^{at}f(t)$ | $F(s-a)$ |\n",
    "| $e^{at}\\sin(bt)$ | $\\dfrac{b}{(s-a)^2+b^2}$ |\n",
    "| $e^{at}\\cos(bt)$ | $\\dfrac{s-a}{(s-a)^2+b^2}$ |"
   ]
  },
  {
   "cell_type": "markdown",
   "id": "f92abae2",
   "metadata": {},
   "source": [
    "Now we will explore how we invert terms of the form $\\dfrac{As+B}{s^2+cs+d}$ where $s^2+cs+d$ is an irreducible quadratic. To do this we will complete the square, that is, we will write $$s^2+cs+d=s^2+cs+\\left(\\dfrac{c}{2} \\right)^2 + d -\\left(\\dfrac{c}{2} \\right)^2= \\left(s+\\dfrac{c}{2}\\right)^2 + \\left(\\sqrt{d-\\dfrac{c}{2}^2} \\right)^2 =(s-a)^2+b^2.$$ If we complete the square, then\n",
    "\n",
    "$$\\dfrac{As+B}{s^2+cs+d} = c_1 \\left( \\dfrac{s-a}{(s-a)^2+b^2} \\right) + c_2 \\left(\\dfrac{b}{(s-a)^2+b^2} \\right) = c_1 \\mathcal{L}(e^{at}\\cos(bt))+c_2 \\mathcal{L}(e^{at}\\sin(bt)).$$"
   ]
  },
  {
   "cell_type": "markdown",
   "id": "47a363f8",
   "metadata": {},
   "source": [
    "```{admonition} Example\n",
    "\n",
    "Find the inverse Laplace Transform of \n",
    "\n",
    "$$\\dfrac{4s+2}{s^2+2s+5}.$$\n",
    "\n",
    "Notice the denominator is an irreducible quadratic, so we need to complete the square.\n",
    "\n",
    "$$s^2+2s+5 = s^2+2s+\\left(\\dfrac{2}{2} \\right)^2 + 5 - \\left(\\dfrac{2}{2} \\right)^2 = (s+1)^2+4 = (s-(-1))^2+2^2$$\n",
    "\n",
    "Thus, \n",
    "\n",
    "$$\\mathcal{L}^{-1}\\left(\\dfrac{4s+2}{s^2+2s+5} \\right) = 4 \\mathcal{L}^{-1}\\left(\\dfrac{s+1}{(s+1)^2+2^2}\\right)- \\mathcal{L}^{-1}\\left(\\dfrac{2}{(s+1)^2+2^2}\\right) = 4e^{-t}\\cos(2t) - e^{-t}\\sin(2t).$$\n",
    "\n",
    "```"
   ]
  },
  {
   "cell_type": "markdown",
   "id": "310d7267",
   "metadata": {},
   "source": [
    "The **unit step function** (also called the **Heaviside function**) at $t=c$ is the function $$u(t-c) = \\begin{cases} 0 & \\text{ if } t < c \\\\ 1 & \\text{ if } t>c \\end{cases} .$$ \n",
    "\n",
    "More importantly, the Laplace transform of the Heaviside function exists and any piecewise continuous function can be expressed in terms of the Heaviside function. The Heaviside function for $c=0$ is plotted below."
   ]
  },
  {
   "cell_type": "code",
   "execution_count": 6,
   "id": "ae45ec73",
   "metadata": {
    "tags": [
     "hide-input"
    ]
   },
   "outputs": [
    {
     "data": {
      "image/png": "[encoded data removed]",
      "text/plain": [
       "<Figure size 600x400 with 1 Axes>"
      ]
     },
     "metadata": {},
     "output_type": "display_data"
    }
   ],
   "source": [
    "import numpy as np\n",
    "import matplotlib.pyplot as plt\n",
    "\n",
    "# Define the unit step function\n",
    "def unit_step(t):\n",
    "    return np.heaviside(t, 1)\n",
    "\n",
    "# Generate a range of x values\n",
    "t = np.linspace(-2, 2, 1000)\n",
    "\n",
    "# Calculate the corresponding y values\n",
    "y = unit_step(t)\n",
    "\n",
    "# Create the plot\n",
    "plt.figure(figsize=(6, 4))\n",
    "\n",
    "# Plot two separate lines to remove vertical line at t=0\n",
    "plt.plot(t[t<0], y[t<0], 'b')\n",
    "plt.plot(t[t>=0], y[t>=0], 'b')\n",
    "\n",
    "# Add points at (0,0) and (0,1)\n",
    "plt.plot(0, 0, 'bo', fillstyle='none')\n",
    "plt.plot(0, 1, 'bo', fillstyle='none')\n",
    "\n",
    "plt.title('Heaviside Function with c=0')\n",
    "plt.xlabel('t')\n",
    "plt.ylabel('u(t)')\n",
    "plt.grid(True)\n",
    "plt.show()"
   ]
  },
  {
   "cell_type": "markdown",
   "id": "372b9a84",
   "metadata": {},
   "source": [
    "```{admonition} Example\n",
    "\n",
    "Consider the function $$f(t) = \\begin{cases} 4-t & \\text{ if } 0 \\leq t \\leq \\pi \\\\ 4+\\cos(t) & \\text{ if } t>pi \\end{cases}$$\n",
    "plotted below. Express this function in terms of the Heaviside function.\n",
    "```"
   ]
  },
  {
   "cell_type": "code",
   "execution_count": 8,
   "id": "a7506143",
   "metadata": {
    "tags": [
     "hide-input"
    ]
   },
   "outputs": [
    {
     "data": {
      "image/png": "[encoded data removed]",
      "text/plain": [
       "<Figure size 600x400 with 1 Axes>"
      ]
     },
     "metadata": {},
     "output_type": "display_data"
    }
   ],
   "source": [
    "import numpy as np\n",
    "import matplotlib.pyplot as plt\n",
    "\n",
    "# Define the piecewise functions\n",
    "def f1(t):\n",
    "    return 4 - t\n",
    "\n",
    "def f2(t):\n",
    "    return 4 + np.cos(t)\n",
    "\n",
    "# Generate a range of t values for each piece\n",
    "t1 = np.linspace(0, np.pi, 500)\n",
    "t2 = np.linspace(np.pi, 2*np.pi, 500)\n",
    "\n",
    "# Calculate the corresponding y values using the piecewise function\n",
    "y1 = f1(t1)\n",
    "y2 = f2(t2)\n",
    "\n",
    "# Create the plot\n",
    "plt.figure(figsize=(6, 4))\n",
    "plt.plot(t1, y1, label='4 - t for 0 <= t <= pi')\n",
    "plt.plot(t2, y2, label='4 + cos(t) for t > pi')\n",
    "\n",
    "# Add markers for the specific points\n",
    "plt.plot(np.pi, 4 - np.pi, 'bo')  # filled blue circle\n",
    "plt.plot(np.pi, 3, 'ro', markerfacecolor='none')  # open red circle\n",
    "\n",
    "plt.title('Plot of the f(t)')\n",
    "plt.xlabel('t')\n",
    "plt.ylabel('f(t)')\n",
    "plt.legend()\n",
    "plt.grid(True)\n",
    "plt.show()"
   ]
  },
  {
   "cell_type": "markdown",
   "id": "b7cc4af3",
   "metadata": {},
   "source": [
    "To express $f(t)$ in terms of the Heaviside function, notice that $f(t) = 4-t + u(t-\\pi)(4+\\cos(t)-(4-t))$. Now we'd like to find the Laplace transform of $u(t-\\pi)(4+\\cos(t)-(4-t))$ in order to be able to solve initial-value problems. The following theorem will help us do exactly that."
   ]
  },
  {
   "cell_type": "markdown",
   "id": "8abee18b",
   "metadata": {},
   "source": [
    "`````{admonition} Theorem\n",
    ":class: tip\n",
    "\n",
    "Let $f(t)$ be a piecewise continuous function of exponential order and let $u(t-c)$ be the unit step function for some $c$. Then\n",
    "- $\\mathcal{L}(u(t-c)) = \\dfrac{e^{-cs}}{s}$\n",
    "- $\\mathcal{L}(u(t-c)f(t-c)) = e^{-cs}F(s)$\n",
    "- $\\mathcal{L}(u(t-c)f(t)) = e^{-cs}G(s)$ where $G(s) = \\mathcal{L}(f(t+c))$\n",
    "\n",
    "`````"
   ]
  },
  {
   "cell_type": "markdown",
   "id": "0ff8510e",
   "metadata": {},
   "source": [
    "```{admonition} Example (continued)\n",
    "\n",
    "Consider the function \n",
    "\n",
    "$$f(t) = \\begin{cases} 4-t & \\text{ if } 0 \\leq t \\leq \\pi \\\\ 4+\\cos(t) & \\text{ if } t>pi. \\end{cases}\n",
    "$$\n",
    "\n",
    "Find $\\mathcal{L}(f(t))$.\n",
    "\n",
    "Since $f(t) = 4-t + u(t-\\pi)(4+\\cos(t)-(4-t))$, we know\n",
    "\n",
    "$$\\mathcal{L}(f(t)) = \\mathcal{L}(4) - \\mathcal{L}(t) + \\mathcal{L}(u(t-\\pi)(4+\\cos(t)-(4-t)))$$\n",
    "$$\\mathcal{L}(f(t)) = \\dfrac{4}{s} - \\dfrac{1}{s^2} + \\mathcal{L}(u(t-\\pi)(4+\\cos(t)-(4-t)))$$\n",
    "$$\\mathcal{L}(f(t)) = \\dfrac{4}{s} - \\dfrac{1}{s^2} + \\mathcal{L}(u(t-\\pi)(\\cos(t)+t))$$\n",
    "$$\\mathcal{L}(f(t)) = \\dfrac{4}{s} - \\dfrac{1}{s^2} + e^{-\\pi s}G(s) \\text{ where } G(s) = \\mathcal{L}(\\cos(t)+t+\\pi)$$\n",
    "$$\\mathcal{L}(f(t)) = \\dfrac{4}{s} - \\dfrac{1}{s^2} + e^{-\\pi s}\\left(\\dfrac{s}{s^2+\\pi^2} + \\dfrac{1}{s^2} + \\dfrac{\\pi}{s}\\right)$$\n",
    "\n",
    "`````"
   ]
  },
  {
   "cell_type": "markdown",
   "id": "74c33b5e",
   "metadata": {},
   "source": [
    "### Exercises"
   ]
  },
  {
   "cell_type": "markdown",
   "id": "3ed32f7a",
   "metadata": {},
   "source": [
    "```{admonition} Exercises\n",
    "\n",
    "1. By hand show that the Laplace transforms of $\\cos(bt)$ and $\\sin(bt)$ are the functions listed in the chart.\n",
    "    \n",
    "2. Show that the Laplace transform of $f'(t)$ is $sF(s)-f(0)$.\n",
    "\n",
    "3. Show that the Laplace transform of $f''(t)$ is $s^2F(s)-sf(0)-sf'(0)$.\n",
    "\n",
    "4. Show that the function $g(x) = e^{t^2}$ does not have a Laplace transform.\n",
    "\n",
    "5. Find the Laplace transform of $f(t) = 8+3e^{2t}-\\cos(6t)$.\n",
    "\n",
    "6. Solve the initial value problem\n",
    "\n",
    "$$x'' + 4x'+3x = 10\\cos(t), \\quad x(0)=2, \\quad x'(0)=3.$$\n",
    "\n",
    "7. Solve the initial value problem\n",
    "\n",
    "$$x'' + 2x'+3x = 9t, \\quad x(0)=1, \\quad x'(0)=2.$$\n",
    "\n",
    "8. Let $f(t) = \\begin{cases} t & \\text{ if } 0 \\leq t \\leq 2 \\\\ 0 & \\text{ if } t>2 \\end{cases}$. Solve the initial value problem\n",
    "\n",
    "$$\n",
    "x'' + x = f(t), \\quad x(0)=0, \\quad x'(0)=0.\n",
    "$$ \n",
    "\n",
    "*Hint: First rewrite $f(t)$ using the Heaviside function so that you can take the Laplace transform of both sides.*\n",
    "`````"
   ]
  },
  {
   "cell_type": "code",
   "execution_count": null,
   "id": "8521ed41",
   "metadata": {},
   "outputs": [],
   "source": []
  }
 ],
 "metadata": {
  "celltoolbar": "Edit Metadata",
  "kernelspec": {
   "display_name": "Python 3 (ipykernel)",
   "language": "python",
   "name": "python3"
  },
  "language_info": {
   "codemirror_mode": {
    "name": "ipython",
    "version": 3
   },
   "file_extension": ".py",
   "mimetype": "text/x-python",
   "name": "python",
   "nbconvert_exporter": "python",
   "pygments_lexer": "ipython3",
   "version": "3.11.3"
  }
 },
 "nbformat": 4,
 "nbformat_minor": 5
}
