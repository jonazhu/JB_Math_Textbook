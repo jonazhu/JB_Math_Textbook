{
 "cells": [
  {
   "cell_type": "markdown",
   "metadata": {},
   "source": [
    "# 1. Logistic Growth and COVID-19"
   ]
  },
  {
   "cell_type": "markdown",
   "metadata": {},
   "source": [
    "## Introduction\n",
    "\n",
    "In this section, we explain the difference between exponential and logistic growth models using COVID-19 data reported by Wang et. al. in their 2020 paper \"Prediction of epidemic trends in COVID-19 with logistic model and machine learning technics.\"\n",
    "\n"
   ]
  },
  {
   "cell_type": "markdown",
   "metadata": {},
   "source": [
    "## Exponential Growth\n",
    "Let $y(t)$ reprsent the size of a specified population with $y(0)=y_0$ the initial population size at time $t=0$. The <b>exponential growth model</b> with positive, constant, growth rate $k$\n",
    "\n",
    "$$\n",
    "\\frac{dy}{dt}=ky, \\,\\,\\,\\,y(0)=y_0\n",
    "$$\n",
    "\n",
    "is easily solved by separation of variables:\n",
    "\n",
    "$$\n",
    "\\int \\frac{dy}{y}=\\,\\int k\\, dt \\Rightarrow\\ \\ln y = kt + C \\Rightarrow y = C_1 e^{kt}.\n",
    "$$\n",
    "\n",
    "Using the intial condition $y(0)=y_0$, we obtain\n",
    "\n",
    "$$\n",
    "y(t)=y_0e^{kt}.\n",
    "$$\n",
    "\n",
    "\n",
    "This model is able to predict rapid growth such as shown in the figure below:\n",
    "\n",
    "<img src=\"fig1.png\" width=\"200px\">\n",
    "\n",
    "\n",
    "Indeed, if we specify for example $y(10)=5000$ and $y(20)=30,000$, we have\n",
    "\n",
    "$$\n",
    "y(10)=y_0 e^{10k}=5000\\Rightarrow y_0= 5000 e^{-10k}$\n",
    "$$\n",
    "\n",
    "$$\n",
    "y(20)=y_0 e^{20k)}=30,000\\Rightarrow  y_0 = 30000 e^{-20k}.\n",
    "$$\n",
    "\n",
    "Setting these two expressions for $y_0$ equal to each other gives\n",
    "\n",
    "$$\n",
    "5000 e^{-10k}=30000e^{-20k}\\Rightarrow e^{10k}=6 \\Rightarrow 10k = \\ln 6 \\Rightarrow  k=\\frac{\\ln(6)}{10}.\n",
    "$$\n",
    "\n",
    "\n",
    "Using this value for $k$, we can now find $y_0$:\n",
    "$$\n",
    "y_0 = 5000 e^{-10k}\\rightarrow y_0=5000 e^{-10\\frac{\\ln(6)}{10}}= 5000 e^{-\\ln 6} = 5000 ( \\frac{1}{6}) = 5000/6.\n",
    "$$\n",
    "\n",
    "Let's look at a graph of $y=y_0e^{kt}$ for these values of $k$ and $y_0$."
   ]
  },
  {
   "cell_type": "code",
   "execution_count": 1,
   "metadata": {},
   "outputs": [
    {
     "data": {
      "text/plain": [
       "<matplotlib.figure.Figure at 0x1e1617a35c0>"
      ]
     },
     "metadata": {},
     "output_type": "display_data"
    }
   ],
   "source": [
    "import numpy as np\n",
    "import matplotlib.pyplot as plt\n",
    "\n",
    "k=np.log(6)/10\n",
    "y0=5000/6\n",
    "\n",
    "f = lambda t : y0 * np.exp(k*t)\n",
    "t=np.arange(0,22,.01)\n",
    "y=f(t)\n",
    "plt.figure(figsize=(3,3))\n",
    "plt.gca().set_xticks([0,10,20.])\n",
    "plt.gca().set_yticks([10000,20000,30000,40000,50000])\n",
    "plt.plot(t,y,'k',markersize=10)\n",
    "plt.text(10,5000,'o',color='r')\n",
    "plt.text(20,30000,'o',color='r')\n",
    "plt.title('Exponential Growth')\n",
    "plt.xlabel('t (in days)')\n",
    "plt.ylabel('number infected')\n",
    "plt.ylim((0,50000)) \n",
    "plt.xlim((0,22)) \n",
    "plt.show()"
   ]
  },
  {
   "cell_type": "markdown",
   "metadata": {},
   "source": [
    "Any exponential growth function with $y_0>0$ and $k>0$ is such that $\\lim_{t\\rightarrow\\infty} y(t) =\\infty$  . and thus is not realistic for predicting the spread of COVID-19 if the time horizon is sufficiently long. Observe in our case what happens if we extend for example the time horizon fro  $t=0$ to $t=50$."
   ]
  },
  {
   "cell_type": "code",
   "execution_count": 2,
   "metadata": {},
   "outputs": [
    {
     "data": {
      "image/png": "[encoded data removed]",
      "text/plain": [
       "<matplotlib.figure.Figure at 0x1e17ba29b00>"
      ]
     },
     "metadata": {
      "needs_background": "light"
     },
     "output_type": "display_data"
    }
   ],
   "source": [
    "f = lambda t : y0 * np.exp(k*t)\n",
    "t=np.arange(0,50,.01)\n",
    "y=f(t)\n",
    "plt.figure(figsize=(3,3))\n",
    "plt.gca().set_xticks([0,10,20,30,40,50])\n",
    "plt.gca().set_yticks([100000,200000,300000,400000,500000])\n",
    "plt.plot(t,y,'k',markersize=10)\n",
    "plt.text(10,5000,'o',color='r')\n",
    "plt.text(20,30000,'o',color='r')\n",
    "plt.title('Exponential Growth')\n",
    "plt.xlabel('t (in days)')\n",
    "plt.ylabel('number infected')\n",
    "plt.ylim((0,500000)) \n",
    "plt.xlim((0,50)) \n",
    "plt.show()\n"
   ]
  },
  {
   "cell_type": "markdown",
   "metadata": {},
   "source": [
    "The actual reported data is shown below, and shows $y(t)$ leveling off at about 80000.\n",
    "\n",
    "<img src=\"fig2.png\" width=\"300px\">"
   ]
  },
  {
   "cell_type": "markdown",
   "metadata": {},
   "source": [
    "### Logistic Growth Model\n",
    "\n",
    "The <b>logistic growth model</b>\n",
    "\n",
    "$$\n",
    "\\frac{dy}{dt}=ky(1-\\frac{y}{M}), \\,\\,\\,\\,y(0)=y_0\n",
    "$$\n",
    "\n",
    "is used to describe \"s-shaped\" or \"sigmoidal\" growth. Note that when $y$ is small compared to $M$, then \n",
    "\n",
    "$$\n",
    "\\frac{dy}{dt}\\approx ky\n",
    "$$\n",
    "\n",
    "so we he have exponential growth.\n",
    "\n",
    "However, as $y$ approaches $M$, the factor $(1-\\frac{y}{M})$ wpproaches 0, and so $\\frac{dy}{dt}\\rightarrow 0$.This achieves the \"leveling off\" of the growth.\n",
    "\n",
    "Let's ask Python to solve numerically the logistic growth model for the values $k=\\log(6)/10$, $y_0=5000/6$ and $M=80000$. "
   ]
  },
  {
   "cell_type": "code",
   "execution_count": 3,
   "metadata": {},
   "outputs": [
    {
     "data": {
      "image/png": "[encoded data removed]",
      "text/plain": [
       "<matplotlib.figure.Figure at 0x1e160625eb8>"
      ]
     },
     "metadata": {
      "needs_background": "light"
     },
     "output_type": "display_data"
    }
   ],
   "source": [
    "import matplotlib.pyplot as plt\n",
    "import numpy as np\n",
    "from scipy.integrate import solve_ivp\n",
    "\n",
    "plt.style.use('seaborn-poster')\n",
    "\n",
    "%matplotlib inline\n",
    "\n",
    "k=np.log(6)/10\n",
    "y0=5000/6\n",
    "M=80000\n",
    "\n",
    "F = lambda t,y: k*y*(1-y/M)\n",
    "\n",
    "t_eval = np.arange(0, 50, 0.01)\n",
    "sol = solve_ivp(F, [0, 50], [y0], t_eval=t_eval)\n",
    "\n",
    "plt.figure(figsize = (3,3))\n",
    "plt.plot(sol.t, sol.y[0])\n",
    "plt.text(10,5000,'o',color='r')\n",
    "plt.text(20,30000,'o',color='r')\n",
    "plt.text(30,65000,'o',color='r')\n",
    "plt.text(50,80000,'o',color='r')\n",
    "\n",
    "\n",
    "plt.title('Logistic Growth')\n",
    "plt.xlabel('t (in days)')\n",
    "plt.ylabel('number infected')\n",
    "plt.ylim((0,80000)) \n",
    "plt.xlim((0,50)) \n",
    "plt.tight_layout()\n",
    "plt.show()"
   ]
  },
  {
   "cell_type": "markdown",
   "metadata": {},
   "source": [
    "### Exercises"
   ]
  },
  {
   "cell_type": "markdown",
   "metadata": {},
   "source": [
    "1) a) Use separation of variables and partial fractions to obtain the general solution to the logistic model\n",
    "\n",
    "$$\n",
    "\\frac{dy}{dt}=ky(1-\\frac{y}{M})\\,\\,\\,y(0)=y_0\n",
    "$$\n",
    "\n",
    "b)  Make a plot of the logistic model solution for the values $k=\\log(6)/10$, $y_0=5000/6$ and $M=80000$. Add to your plot the points  (10,5000), (20,30000),  (30,65000) and (50,80000).  how well does the logistic model solution fit these points?\n",
    "\n",
    "2) Sketch a slope field to explain qualitatively the behavior of the general logistic model for $k>0$ and $M>0$. Sketch  solution curves where $y_0$ is close to 0, $y_0$ is roughly $M/2$, $y_0$ is slightly smaller than $M$, $y_0$ is slightly greater than $M$ and $y_0$ is approximately 2M. "
   ]
  },
  {
   "cell_type": "markdown",
   "metadata": {},
   "source": [
    "#### Reference\n",
    "\n",
    "Wang, P., Zheng, X., Li, J., and Zhu, B.  2020. Prediction of epidemic trends in COVID-19 with logistic model and machine learning technics.  \\emph{Chaos, Solitons, and Fractals} 139(2020), 1-7."
   ]
  },
  {
   "cell_type": "markdown",
   "metadata": {},
   "source": [
    "#### Solution to Exercises"
   ]
  }
 ],
 "metadata": {
  "kernelspec": {
   "display_name": "Python 3",
   "language": "python",
   "name": "python3"
  },
  "language_info": {
   "codemirror_mode": {
    "name": "ipython",
    "version": 3
   },
   "file_extension": ".py",
   "mimetype": "text/x-python",
   "name": "python",
   "nbconvert_exporter": "python",
   "pygments_lexer": "ipython3",
   "version": "3.6.4"
  }
 },
 "nbformat": 4,
 "nbformat_minor": 2
}
