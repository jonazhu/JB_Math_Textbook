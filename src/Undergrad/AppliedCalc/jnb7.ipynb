{
 "cells": [
  {
   "cell_type": "markdown",
   "id": "aff0b061",
   "metadata": {},
   "source": [
    "# 7. Probability Distributions and Drive Thrus"
   ]
  },
  {
   "cell_type": "markdown",
   "id": "30297705",
   "metadata": {},
   "source": [
    " PROBLEM  Suppose you are the owner of a fast food restaurant. Currently there is one drive up lane, but you are considering adding a second drive-up lane.  What factors need to be considered in making a decision whether to add a second drive-up lane?"
   ]
  },
  {
   "cell_type": "markdown",
   "id": "0c35268d",
   "metadata": {},
   "source": [
    "<img src=\"drivethru.gif\" width=\"750\" align=\"center\">"
   ]
  },
  {
   "cell_type": "markdown",
   "id": "23b18dad",
   "metadata": {},
   "source": [
    "<h4> Introduction </h4>\n",
    "A statistical simulation model uses data of customer arrival and ordering times to re-create a scenario and explore options such as adding a second drive thru lane. (For example, see https://blog.promodel.com/2013/07/10/fast-food-drive-thru-2-lanes-faster-than-1/)"
   ]
  },
  {
   "cell_type": "markdown",
   "id": "e81af98f",
   "metadata": {},
   "source": [
    "Calculus is used in  statistically-based simulations since probabilities are represented as areas under curves called probability distributions.  \n",
    "\n",
    "This lab will focus on the use of uniform (constant) and exponential distributions to model arrival times of customers."
   ]
  },
  {
   "cell_type": "markdown",
   "id": "b4caa50d",
   "metadata": {},
   "source": [
    "<h4> Example</h4>\n",
    "\n",
    "A computer simulation of 1 versus 2 drive up lanes uses probabilities computed using definite integrals. The probability that some timed event $X$ occurs between $t=a$ and $t=b$ is given by\n",
    "\n",
    "$prob(a\\le X \\le b) =\\int_a^b f(t)\\, dt$\n",
    "\n",
    "\n",
    "Example 1 Suppose the time to place an  order is given by U(20,120)=$\\frac{1}{100}$ meaning there is equal likelihood that the time will be between 20 and 120 seconds. Find the probability that the length of the next order is between 25 and 35 seconds.\n",
    "\n",
    "Solution: probability=$\\int_{25}^{35} f(t) dt = \\int_{25}^{35} \\frac{1}{100} dt = \\frac{t}{100}\\mid_{25}^{35}=\\frac{35}{100}-\\frac{25}{100}=\\frac{10}{100}=\\frac{1}{10}. $"
   ]
  },
  {
   "cell_type": "code",
   "execution_count": 1,
   "id": "95dd3573",
   "metadata": {},
   "outputs": [
    {
     "data": {
      "text/plain": [
       "Text(0.5,0,'Order Time t (seconds)')"
      ]
     },
     "execution_count": 1,
     "metadata": {},
     "output_type": "execute_result"
    }
   ],
   "source": [
    "import numpy as np\n",
    "import matplotlib.pyplot as plt\n",
    "f= lambda t:0*t+1/100\n",
    "x=np.linspace(14.95,40,20)\n",
    "y=f(x)\n",
    "plt.figure(figsize=(3,3))\n",
    "plt.plot(x,y)\n",
    "plt.ylim((0,.015))\n",
    "plt.bar(25,1/100,10,alpha=0.1,align='edge',color='k',edgecolor='k')\n",
    "plt.title('Uniform Distribution U(20,120)')\n",
    "plt.text(25,.005,'Shaded area = 2/3')\n",
    "plt.text(16,.01,'y=1/100',color='b')\n",
    "plt.xlabel('Order Time t (seconds)')"
   ]
  },
  {
   "cell_type": "markdown",
   "id": "bfd78665",
   "metadata": {},
   "source": [
    "Example 2a) Suppose the time to the next car arriving at the drive up is given by E(1) (i.e. k=1). What is the probability that the next arrival is within 3 minutes.\n",
    "\n",
    " Solution.  probability = $\\int_0^3 e^{-t}\\,dt= - e^{-t}\\mid_0^3= -e^{-3}+e^0=1-e^{-3}\\approx .95.$\n"
   ]
  },
  {
   "cell_type": "code",
   "execution_count": 2,
   "id": "23ee0d6e",
   "metadata": {},
   "outputs": [
    {
     "data": {
      "text/plain": [
       "Text(0.5,0,'Time t to next arrival (seconds)')"
      ]
     },
     "execution_count": 2,
     "metadata": {},
     "output_type": "execute_result"
    },
    {
     "data": {
      "image/png": "[encoded data removed]",
      "text/plain": [
       "<matplotlib.figure.Figure at 0x21daaf1dbe0>"
      ]
     },
     "metadata": {
      "needs_background": "light"
     },
     "output_type": "display_data"
    }
   ],
   "source": [
    "import numpy as np\n",
    "import matplotlib.pyplot as plt\n",
    "f= lambda t: np.exp(-t)\n",
    "x=np.linspace(0,5,100)\n",
    "y=f(x)\n",
    "plt.figure(figsize=(3,3))\n",
    "plt.plot(x,y)\n",
    "x1=np.linspace(0,1,10)\n",
    "y1=f(x1)\n",
    "plt.fill_between(x1,y1,color='lightgray')\n",
    "plt.title('Exponential Distribution E(1)=e^(-t)')\n",
    "plt.text(-.2,0,'Shaded area = .95')\n",
    "plt.text(1,.6,'y=e^(-t)',color='b')\n",
    "plt.xlabel('Time t to next arrival (seconds)')"
   ]
  },
  {
   "cell_type": "markdown",
   "id": "3edd4a0d",
   "metadata": {},
   "source": [
    "Example 2b) Find the value of $k$ so that there is a 25% chance (probability=.25) that the next car will arrive within 1 minute.\n",
    "\n",
    " Solution  $\\int_0^1 k e^{-kt}\\,dt = .25 \\Rightarrow - e^{-kt}\\mid_0^1=.25 \\Rightarrow -e^{-k}+1=.25 \\Rightarrow -e^{-k}=-.75\\Rightarrow e^{-k}=.75.$ Take $\\ln()$ of both sides, we have $-k=\\ln(.75)\\Rightarrow k=-\\ln(.75)\\approx .29.$"
   ]
  },
  {
   "cell_type": "markdown",
   "id": "bb9a340f",
   "metadata": {},
   "source": [
    "Example 3a) Using the value of $k$ given in 2b), find the probability $F(x)$ that the next car will arrive within $x$ minutes.\n",
    "\n",
    "Solution \n",
    "$F(x)=\\int_0^x .29 e^{-.29t}\\,dt= -e^{-.29t}\\mid_0^x = -e^{-.29x}+1.$ That is $F(x)=1-e^{-.29x}$"
   ]
  },
  {
   "cell_type": "markdown",
   "id": "2caf2200",
   "metadata": {},
   "source": [
    " Example 3b) Use your function in part a) to find the probability that the next car will arrive within 2 minutes.\n",
    " \n",
    "Solution  \n",
    "$F(2)=1-e^{-.29(2)}=1-e^{-.58}\\approx .44$"
   ]
  },
  {
   "cell_type": "markdown",
   "id": "ead7ebfc",
   "metadata": {},
   "source": [
    "<h4> LAB ON THE EXPONENTIAL DISTRIBUTION</H4>\n"
   ]
  },
  {
   "cell_type": "markdown",
   "id": "4f6fd3a4",
   "metadata": {},
   "source": [
    "An important probability function called the exponential distribution has the form\n",
    "\n",
    "$$f(t) = k e^{-kt}  \\hspace{.2in} (t \\ge 0 \\hspace{.1in} and \\hspace{.1in} k>0).$$\n",
    "\n",
    "\n",
    " The exponential distribution is used to describe the amount of time until some event occurs such as the time to the next arrival of a car at a drive through window.  More specifically, the probability that the next car arrives somewhere between $t=a$ and $t=b$ minutes is given by the definite integral\n",
    "\n",
    "$$\n",
    "Prob(a\\le t \\le b) = \\int_a^b f(t) dt  =  \\int_a^b k e^{-kt}  \\hspace{.05in} dt.$$\n",
    "\n",
    "\n",
    "\n",
    " 1) Suppose $k=1$.  Find the probability that the next car will arrive at the drive through within 2 minutes.\n",
    "\n",
    "\n",
    "\n",
    " 2) Using $k=1$, show that the probability that the next car will arrive between 0 and $\\infty$ minutes is equal to 1 (i.e. there is a 100% chance another car will arrive some time)\n",
    "\n",
    "\n",
    "3) Find the value of $k$ such that there is a 50% chance (i.e. probability = .5) that the next car will arrive in one minute.\n",
    "\n",
    "\n",
    "4) Using your answer to problem 3, find a function $F(x)$ which gives the probability that the next car will arrive within $x$ minutes.\n",
    "(In general, given a probability distribution function $f(t)$ defined on an interval $a\\le x \\le b$, the cumulative distribution function $F(x)$ is obtained by the definite integral $\\int_a^x f(t) \\hspace{.1in} dt$).\n",
    "\n",
    "5) se your answer to d) to find the probability that the next car will arrive within 3 minutes.\n"
   ]
  }
 ],
 "metadata": {
  "kernelspec": {
   "display_name": "Python 3",
   "language": "python",
   "name": "python3"
  },
  "language_info": {
   "codemirror_mode": {
    "name": "ipython",
    "version": 3
   },
   "file_extension": ".py",
   "mimetype": "text/x-python",
   "name": "python",
   "nbconvert_exporter": "python",
   "pygments_lexer": "ipython3",
   "version": "3.6.4"
  }
 },
 "nbformat": 4,
 "nbformat_minor": 5
}
