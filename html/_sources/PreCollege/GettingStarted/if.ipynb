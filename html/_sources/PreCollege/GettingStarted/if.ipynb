{
 "cells": [
  {
   "cell_type": "markdown",
   "metadata": {},
   "source": [
    "# 5. if Conditional Statements"
   ]
  },
  {
   "cell_type": "markdown",
   "metadata": {},
   "source": [
    "In this notebook, we will introduce an if conditional statement as another useful tool in its own right and in writing  user-defined functions.  Basically a command is executed only if a specified  condition is true. If not, there is an 'else' option to specify a different command to be executed."
   ]
  },
  {
   "cell_type": "markdown",
   "metadata": {},
   "source": [
    "1) Let's start by importing the  numpy library. (Don't forget to press shift+enter to execute each cell.)"
   ]
  },
  {
   "cell_type": "code",
   "execution_count": 1,
   "metadata": {},
   "outputs": [],
   "source": [
    "import numpy as np"
   ]
  },
  {
   "cell_type": "markdown",
   "metadata": {},
   "source": [
    "2) Let's create a ist of all numbers between 1 and 10. "
   ]
  },
  {
   "cell_type": "code",
   "execution_count": 2,
   "metadata": {},
   "outputs": [
    {
     "data": {
      "text/plain": [
       "array([ 1,  2,  3,  4,  5,  6,  7,  8,  9, 10])"
      ]
     },
     "execution_count": 2,
     "metadata": {},
     "output_type": "execute_result"
    }
   ],
   "source": [
    "list=np.arange(1,11,1)\n",
    "list"
   ]
  },
  {
   "cell_type": "markdown",
   "metadata": {},
   "source": [
    "3) Let's define a function checksize which takes an input list and outputs whether each number in the list is less than 7. If so, the computer will print \"OK\" and if not, the computer will print \"Too Big!\" "
   ]
  },
  {
   "cell_type": "code",
   "execution_count": 3,
   "metadata": {},
   "outputs": [],
   "source": [
    "def checksize(list):  #remember the use of :\n",
    "    for i in list:  #the for statement needs a : at the end. The next line  must also be indented.\n",
    "        if i<7:     #an if statement also needs a : at the end;  must also indent the next line\n",
    "            print(i,\"is OK\")   # computer does this if i<7\n",
    "        else:      # else needs a : at the end; must indent the next line\n",
    "            print(i, \"is Too Big!\") # instruction if x >=7\n",
    "    return print(\"Finished!\")  #prints a message to the screen when completed"
   ]
  },
  {
   "cell_type": "markdown",
   "metadata": {},
   "source": [
    "4) Let's see if this works."
   ]
  },
  {
   "cell_type": "code",
   "execution_count": 4,
   "metadata": {},
   "outputs": [
    {
     "name": "stdout",
     "output_type": "stream",
     "text": [
      "1 is OK\n",
      "2 is OK\n",
      "3 is OK\n",
      "4 is OK\n",
      "5 is OK\n",
      "6 is OK\n",
      "7 is Too Big!\n",
      "8 is Too Big!\n",
      "9 is Too Big!\n",
      "10 is Too Big!\n",
      "Finished!\n"
     ]
    }
   ],
   "source": [
    "checksize(list)"
   ]
  },
  {
   "cell_type": "markdown",
   "metadata": {},
   "source": [
    "<h3> Assignment</h3>"
   ]
  },
  {
   "cell_type": "markdown",
   "metadata": {},
   "source": [
    "1) Create a new list called list1 consisting of numbers from 1 to 20.  Define a function numberdigits(list1) which goes through the numbers in list1 and prints \"is single digit\" if the number is single digit and \"is double digits\" if the number is double digit.  Check that your function runs correctly on list1."
   ]
  },
  {
   "cell_type": "code",
   "execution_count": 5,
   "metadata": {},
   "outputs": [],
   "source": [
    "#define list 1 \n"
   ]
  },
  {
   "cell_type": "code",
   "execution_count": 6,
   "metadata": {},
   "outputs": [],
   "source": [
    "#definition of the function\n"
   ]
  },
  {
   "cell_type": "code",
   "execution_count": 7,
   "metadata": {},
   "outputs": [],
   "source": [
    "#test of the function\n"
   ]
  },
  {
   "cell_type": "markdown",
   "metadata": {},
   "source": [
    "2) Define a new list called list2 which has all the even numbers between 0 and 20.  Then define a function halve_upper_half(list2) which outputs half of each number in list2 if the original number is greater than 10.  Check that your function does what it is supposed to do.  "
   ]
  },
  {
   "cell_type": "code",
   "execution_count": 8,
   "metadata": {},
   "outputs": [
    {
     "data": {
      "text/plain": [
       "array([ 0,  1,  2,  3,  4,  5,  6,  7,  8,  9, 10, 11, 12, 13, 14, 15, 16,\n",
       "       17, 18, 19, 20])"
      ]
     },
     "execution_count": 8,
     "metadata": {},
     "output_type": "execute_result"
    }
   ],
   "source": [
    "#Define list2\n",
    "list2=np.arange(0,21,1)\n",
    "list2"
   ]
  },
  {
   "cell_type": "code",
   "execution_count": 9,
   "metadata": {},
   "outputs": [],
   "source": [
    "#Define the function halve_upper_half(list2)\n",
    "     "
   ]
  },
  {
   "cell_type": "code",
   "execution_count": 10,
   "metadata": {},
   "outputs": [],
   "source": [
    "#Check that your function does what it's supposed to do\n"
   ]
  },
  {
   "cell_type": "markdown",
   "metadata": {},
   "source": [
    "<h4>Solutions</h4>"
   ]
  },
  {
   "cell_type": "markdown",
   "metadata": {},
   "source": [
    "<h4>Problem 1</h4>"
   ]
  },
  {
   "cell_type": "code",
   "execution_count": 11,
   "metadata": {},
   "outputs": [
    {
     "data": {
      "text/plain": [
       "array([ 1,  2,  3,  4,  5,  6,  7,  8,  9, 10, 11, 12, 13, 14, 15, 16, 17,\n",
       "       18, 19, 20])"
      ]
     },
     "execution_count": 11,
     "metadata": {},
     "output_type": "execute_result"
    }
   ],
   "source": [
    "# 1) define list1\n",
    "list1=np.arange(1,21,1)\n",
    "list1"
   ]
  },
  {
   "cell_type": "code",
   "execution_count": 12,
   "metadata": {},
   "outputs": [],
   "source": [
    "#definition of the function\n",
    "def numberdigits(input_list):  #remember the use of :\n",
    "    for i in input_list:  #the for statement needs a : at the end. The next line  must also be indented.\n",
    "        if i<10:     #an if statement also needs a : at the end;  must also indent the next line\n",
    "            print(i,\"is single digit\")   # computer does this if i<7\n",
    "        else:      # else needs a : at the end; must indent the next line\n",
    "            if i<100:\n",
    "                print(i, \"is double digit\") # instruction if x >=7\n",
    "    return print(\"Finished!\")  #prints a message to the screen when completed"
   ]
  },
  {
   "cell_type": "code",
   "execution_count": 13,
   "metadata": {},
   "outputs": [
    {
     "name": "stdout",
     "output_type": "stream",
     "text": [
      "1 is single digit\n",
      "2 is single digit\n",
      "3 is single digit\n",
      "4 is single digit\n",
      "5 is single digit\n",
      "6 is single digit\n",
      "7 is single digit\n",
      "8 is single digit\n",
      "9 is single digit\n",
      "10 is double digit\n",
      "11 is double digit\n",
      "12 is double digit\n",
      "13 is double digit\n",
      "14 is double digit\n",
      "15 is double digit\n",
      "16 is double digit\n",
      "17 is double digit\n",
      "18 is double digit\n",
      "19 is double digit\n",
      "20 is double digit\n",
      "Finished!\n"
     ]
    }
   ],
   "source": [
    "#test of the function\n",
    "numberdigits(list1)"
   ]
  },
  {
   "cell_type": "markdown",
   "metadata": {},
   "source": [
    "<h4>Problem 2</h4>"
   ]
  },
  {
   "cell_type": "code",
   "execution_count": 14,
   "metadata": {},
   "outputs": [
    {
     "data": {
      "text/plain": [
       "array([ 0,  1,  2,  3,  4,  5,  6,  7,  8,  9, 10, 11, 12, 13, 14, 15, 16,\n",
       "       17, 18, 19, 20])"
      ]
     },
     "execution_count": 14,
     "metadata": {},
     "output_type": "execute_result"
    }
   ],
   "source": [
    "#Define list2\n",
    "list2=np.arange(0,21,1)\n",
    "list2"
   ]
  },
  {
   "cell_type": "code",
   "execution_count": 15,
   "metadata": {},
   "outputs": [],
   "source": [
    "#Define the function halve_upper_half(list2)\n",
    "def halve_upper_half(input_list):\n",
    "    for i in input_list:\n",
    "        if i>9:\n",
    "            print(\"half of \", i,\" is \",i/2)   "
   ]
  },
  {
   "cell_type": "code",
   "execution_count": 16,
   "metadata": {},
   "outputs": [
    {
     "name": "stdout",
     "output_type": "stream",
     "text": [
      "half of  10  is  5.0\n",
      "half of  11  is  5.5\n",
      "half of  12  is  6.0\n",
      "half of  13  is  6.5\n",
      "half of  14  is  7.0\n",
      "half of  15  is  7.5\n",
      "half of  16  is  8.0\n",
      "half of  17  is  8.5\n",
      "half of  18  is  9.0\n",
      "half of  19  is  9.5\n",
      "half of  20  is  10.0\n"
     ]
    }
   ],
   "source": [
    "#Check that your function does what it's supposed to do\n",
    "halve_upper_half(list2)"
   ]
  },
  {
   "cell_type": "code",
   "execution_count": null,
   "metadata": {},
   "outputs": [],
   "source": []
  }
 ],
 "metadata": {
  "kernelspec": {
   "display_name": "Python 3 (ipykernel)",
   "language": "python",
   "name": "python3"
  },
  "language_info": {
   "codemirror_mode": {
    "name": "ipython",
    "version": 3
   },
   "file_extension": ".py",
   "mimetype": "text/x-python",
   "name": "python",
   "nbconvert_exporter": "python",
   "pygments_lexer": "ipython3",
   "version": "3.6.4"
  }
 },
 "nbformat": 4,
 "nbformat_minor": 2
}
