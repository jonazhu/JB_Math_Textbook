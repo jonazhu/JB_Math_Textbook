{
 "cells": [
  {
   "cell_type": "markdown",
   "id": "0381ef75",
   "metadata": {},
   "source": [
    "# Functions"
   ]
  },
  {
   "cell_type": "markdown",
   "id": "29258f69-2add-44fd-9696-07635a2d032b",
   "metadata": {
    "tags": []
   },
   "source": [
    "<h1 style=\"font-size:3rem;color:black;\">2. Functions</h1>"
   ]
  },
  {
   "cell_type": "markdown",
   "id": "18c43d62-d5e3-4707-b138-bb36c9a3019f",
   "metadata": {},
   "source": [
    "Below is the list of topics that are covered in this section:\n",
    "- Function Definition and Terminology\n",
    "- Function Behaviors\n",
    "- Common Functions (Linear, Exponential, Logarithm, Logistic)\n",
    "- Function Operations, Compositions, and Inverse"
   ]
  },
  {
   "cell_type": "markdown",
   "id": "50e96e6d-c75f-46f4-bccc-dc5dd0ca06d2",
   "metadata": {},
   "source": [
    "<h2 style>2.1 Function Definition and Terminology </h2>"
   ]
  },
  {
   "cell_type": "markdown",
   "id": "df9b8855-87ee-4fdd-a645-00a8f3d1e329",
   "metadata": {},
   "source": [
    "A **function** is a *rule* that assigns exactly one output to each input. </br>\n",
    "When a function $f$ has input $x$, the output is written $f(x)$. This notation is read \"$f$ of $x$\"."
   ]
  },
  {
   "cell_type": "markdown",
   "id": "cc54fc22-06c1-4542-9071-3d4a645b6fbe",
   "metadata": {},
   "source": [
    "**Example** </br>\n",
    "- $f(x)=x+3$ is a rule that adding $3$ into the input $x$, giving the output $x+3$.\n",
    "- $g(x)=8-x^2$ is a rule that squaring the input $x$, then subtracting the result from $8$, giving the output $8-x^2$."
   ]
  },
  {
   "cell_type": "markdown",
   "id": "d3b9d4f0-41dd-4227-b270-b56a26b6b5c8",
   "metadata": {},
   "source": [
    "Code example for $f(x)=x+3$ is given below. Enter an input value and the code will return the output value."
   ]
  },
  {
   "cell_type": "code",
   "execution_count": 23,
   "id": "211906a0-6cca-485d-bf75-2d0b2eacb9f0",
   "metadata": {},
   "outputs": [
    {
     "name": "stdin",
     "output_type": "stream",
     "text": [
      "Enter input value x = 2.658\n"
     ]
    },
    {
     "name": "stdout",
     "output_type": "stream",
     "text": [
      "The output is f(x) = 5.6579999999999995\n"
     ]
    }
   ],
   "source": [
    "#define the function f(x)\n",
    "def f(x): \n",
    "    return x+3\n",
    "\n",
    "# Ask for user input\n",
    "user_input = float(input(\"Enter input value x =\")) \n",
    "\n",
    "# Call the function with the user input\n",
    "output = f(user_input) \n",
    "\n",
    "# Print the output\n",
    "print(\"The output is f(x) =\", output) "
   ]
  },
  {
   "cell_type": "markdown",
   "id": "b94c66ce-8715-46b2-bffb-bfaf5931fda2",
   "metadata": {},
   "source": [
    "<br>"
   ]
  },
  {
   "cell_type": "markdown",
   "id": "7e77d5f3-1862-4521-938b-b2e2796d5bb4",
   "metadata": {},
   "source": [
    "The **domain**  of a function is the set of all input values that can be plugged into a function such that the output exists. </br>\n",
    "The **range** of a function is the set of all possible output values that a function can take."
   ]
  },
  {
   "cell_type": "markdown",
   "id": "5a44776c-b331-4534-9021-a8ac0b49ddab",
   "metadata": {},
   "source": [
    "Note that for the domain we need to avoid division by zero, square roots of negative numbers, and logarithms of nonpositive numbers. Can you explain why?"
   ]
  },
  {
   "cell_type": "markdown",
   "id": "40bdaf4b-502e-4b6a-a36f-706fed569f9c",
   "metadata": {},
   "source": [
    "Python itself does not have built-in functionality to directly determine the domain and range of a given function. <br>\n",
    "The domain and range of a function often depend on the specific characteristics of the function and its mathematical properties."
   ]
  },
  {
   "cell_type": "markdown",
   "id": "eae3babf-7e21-48d6-be0e-4bae6cae4070",
   "metadata": {},
   "source": [
    "**Example**</br>\n",
    "Given $f(x)=\\frac{1}{\\sqrt{x}}$. </br>\n",
    "Excluding the zeroes of denominator and negative number inside the square root, the domain of $f(x)$ is $\\left(0,\\infty\\right)$. The range of $f(x)$ hence also $\\left(0,\\infty\\right)$."
   ]
  },
  {
   "cell_type": "markdown",
   "id": "db8d754c-c356-4330-a107-78d660c39af1",
   "metadata": {},
   "source": [
    "Code example for $f(x)$ is given below. "
   ]
  },
  {
   "cell_type": "code",
   "execution_count": 24,
   "id": "4e9ee9d6-e61e-421c-bcb1-6bc804e3f963",
   "metadata": {},
   "outputs": [
    {
     "name": "stdout",
     "output_type": "stream",
     "text": [
      "Domain: (0 < x) & (x < oo)\n"
     ]
    }
   ],
   "source": [
    "import sympy as sp\n",
    "\n",
    "# Define the function symbolically\n",
    "x = sp.Symbol('x')\n",
    "f = 1 / (sp.sqrt(x))\n",
    "\n",
    "# Find the domain: denominator not zero AND inside square root must be positive\n",
    "domain = sp.solve(sp.denom(f) != 0 and x>0, x)\n",
    "\n",
    "# Print the domain\n",
    "print(\"Domain:\", domain)"
   ]
  },
  {
   "cell_type": "markdown",
   "id": "ef2a61fa-5db8-4c38-a197-4b38c88bcbe5",
   "metadata": {},
   "source": [
    "<br>"
   ]
  },
  {
   "cell_type": "markdown",
   "id": "d44971e0-2179-4f23-9f10-962374901a6e",
   "metadata": {},
   "source": [
    "<h2 style>2.2 Function Behaviors</h2>"
   ]
  },
  {
   "cell_type": "markdown",
   "id": "3ba70f06-9fdb-4252-8ff3-a5f7cc14b576",
   "metadata": {},
   "source": [
    "<h4 style>Increasing, Decreasing, and Constant Function </h4>\n",
    "\n",
    "A function $f$ defined over an interval is:\n",
    "- **increasing** if the output values increase as the input values increase.\n",
    "- **decreasing** if the output values decrease as the input values increase.\n",
    "- **constant** if the output values remain the same as the input values increase."
   ]
  },
  {
   "cell_type": "markdown",
   "id": "6f4a445c-cb06-471c-8b3a-a70a6b9e74a2",
   "metadata": {
    "tags": []
   },
   "source": [
    "<h4 style>Concave Up and Concave Down Function, Inflection Point </h4>\n",
    "\n",
    "A function $f$ defined over an interval is:\n",
    "- **concave up** if a graph of $f$ appears to be a portion of an arc opening upward.\n",
    "- **concave down** if a graph of $f$ appears to be a portion of an arc opening downward.\n",
    "\n",
    "A point on a function changes concavity is called an **inflection point**."
   ]
  },
  {
   "cell_type": "markdown",
   "id": "4101b61e-02fa-4280-96d9-86e1e197c947",
   "metadata": {},
   "source": [
    "<br>"
   ]
  },
  {
   "cell_type": "markdown",
   "id": "fc861f99-f813-41ab-ac7c-92544eaf1089",
   "metadata": {
    "tags": []
   },
   "source": [
    "<h2 style>2.3 Common Functions (Linear, Exponential, Logarithm, Logistic)</h2>"
   ]
  },
  {
   "cell_type": "markdown",
   "id": "289013a5-9158-4b29-87e1-4aca9067f510",
   "metadata": {},
   "source": [
    "<h4 style>Linear Functions </h4>"
   ]
  },
  {
   "cell_type": "markdown",
   "id": "c479b7c7-cadc-4aa7-8120-0ac0008d7be4",
   "metadata": {},
   "source": [
    "A linear function is a function that can be expressed in the form $f(x)=mx+b$, where $m$ represents the slope and $b$ represents the $y$-intercept."
   ]
  },
  {
   "cell_type": "markdown",
   "id": "05d84a10-7443-4778-a9df-59eb93592a8d",
   "metadata": {},
   "source": [
    "The slope $m$:\n",
    "- Determines the steepness or inclination of the line. <br>\n",
    "    A positive slope indicates an upward trend, a negative slope indicates a downward trend, and a slope of zero represents a horizontal line.\n",
    "- Represents the rate at which the function's output changes with respect to the input.\n",
    "- Is calculated as the ratio of the change in $y$-coordinates to the change in $x$-coordinates between two points on the line, that is, <br>\n",
    "    between point $(x_1,y_1)$ and $(x_2,y_2)$, the slope $m=\\dfrac{y_2-y_1}{x_2-x_1}$."
   ]
  },
  {
   "cell_type": "markdown",
   "id": "aef52ba7-625c-47a1-ac81-821f68bb8312",
   "metadata": {},
   "source": [
    "The $y$-intercept $b$:\n",
    "- Is the point where the line intersects the $y$-axis.\n",
    "- Represents the value of the $f(x)$ when $x = 0$."
   ]
  },
  {
   "cell_type": "markdown",
   "id": "29377a58-7dbf-4a16-975c-4ff35fcc26eb",
   "metadata": {},
   "source": [
    "To find the $x$-intercept, set $y = 0$ in the equation $f(x)=mx+b$ and solve for $x$."
   ]
  },
  {
   "cell_type": "markdown",
   "id": "39234c43-9e11-43f8-a574-ba2140341d8f",
   "metadata": {},
   "source": [
    "Below is the code prompting user to input the constants $m$, and $b$."
   ]
  },
  {
   "cell_type": "code",
   "execution_count": 52,
   "id": "b3149cac-9ccc-4428-b2e5-a00d070b16a6",
   "metadata": {},
   "outputs": [
    {
     "name": "stdin",
     "output_type": "stream",
     "text": [
      "Enter the value for the slope (m):  2\n",
      "Enter the value for the y-intercept (b):  5\n"
     ]
    },
    {
     "data": {
      "image/png": "[encoded data removed]",
      "text/plain": [
       "<Figure size 640x480 with 1 Axes>"
      ]
     },
     "metadata": {},
     "output_type": "display_data"
    }
   ],
   "source": [
    "import numpy as np\n",
    "import matplotlib.pyplot as plt\n",
    "\n",
    "# Prompt the user to input the slope and y-intercept\n",
    "m = float(input(\"Enter the value for the slope (m): \"))\n",
    "b = float(input(\"Enter the value for the y-intercept (b): \"))\n",
    "\n",
    "# Define the linear function\n",
    "def linear_function(x):\n",
    "    return m * x + b\n",
    "\n",
    "# Generate a range of x values for plotting\n",
    "x = np.linspace(-10, 10, 100)\n",
    "\n",
    "# Compute the corresponding y values using the linear function\n",
    "y = linear_function(x)\n",
    "\n",
    "# Plot the linear function\n",
    "plt.plot(x, y, label='f(x) = mx + b')\n",
    "\n",
    "# Plot the x-axis and y-axis lines\n",
    "plt.axhline(0, color='black', linewidth=0.5)  # x-axis\n",
    "plt.axvline(0, color='black', linewidth=0.5)  # y-axis\n",
    "\n",
    "# Set plot labels and title\n",
    "plt.xlabel('x')\n",
    "plt.ylabel('f(x)')\n",
    "plt.title('Linear Function')\n",
    "\n",
    "# Add a legend\n",
    "plt.legend()\n",
    "\n",
    "# Display the plot\n",
    "plt.show()"
   ]
  },
  {
   "cell_type": "markdown",
   "id": "dcbe42e6-6438-47e9-9762-b4295cd92c5b",
   "metadata": {},
   "source": [
    "<h4 style>Exponential Functions </h4>"
   ]
  },
  {
   "cell_type": "markdown",
   "id": "7f642799-e84b-4725-9026-780f8461e458",
   "metadata": {},
   "source": [
    "An exponential function is a function in the form $f(x)=ab^x$, where $a$ is the $y$-intercept and $b>0$ is the constant multiplier."
   ]
  },
  {
   "cell_type": "markdown",
   "id": "2bef07ab-b0ad-4f32-8bd2-8181b574fd41",
   "metadata": {},
   "source": [
    "Below is the code to plot the graphs of $f(x)=2^x$ and $f(x)=\\left(\\frac{1}{2}\\right)^x$:"
   ]
  },
  {
   "cell_type": "code",
   "execution_count": 41,
   "id": "8eecde36-fb04-4ef0-a5e2-9ca5018a8762",
   "metadata": {},
   "outputs": [
    {
     "data": {
      "image/png": "[encoded data removed]",
      "text/plain": [
       "<Figure size 640x480 with 1 Axes>"
      ]
     },
     "metadata": {},
     "output_type": "display_data"
    }
   ],
   "source": [
    "import numpy as np\n",
    "import matplotlib.pyplot as plt\n",
    "\n",
    "# Define the x range\n",
    "x = np.linspace(-3, 3, 100)\n",
    "\n",
    "# Define the functions\n",
    "f1 = 2 ** x\n",
    "f2 = (1 / 2) ** x\n",
    "\n",
    "# Plot the functions\n",
    "plt.plot(x, f1, label='f(x) = 2^x')\n",
    "plt.plot(x, f2, label='f(x) = (1/2)^x')\n",
    "\n",
    "# Plot the x-axis and y-axis lines\n",
    "plt.axhline(0, color='black', linewidth=0.5)  # x-axis\n",
    "plt.axvline(0, color='black', linewidth=0.5)  # y-axis\n",
    "\n",
    "# Set plot labels and title\n",
    "plt.xlabel('x')\n",
    "plt.ylabel('f(x)')\n",
    "plt.title('Plot of f(x) = 2^x and f(x) = (1/2)^x')\n",
    "\n",
    "# Add a legend\n",
    "plt.legend()\n",
    "\n",
    "# Display the plot\n",
    "plt.show()"
   ]
  },
  {
   "cell_type": "markdown",
   "id": "c9c8661c-da19-4c27-a407-3d41059ba119",
   "metadata": {},
   "source": [
    "Properties of $f(x)=ab^x$:\n",
    "- $f(0)=a$. The $y$-intercept is always at $y=a$.\n",
    "- $f(x) > 0$. An exponential function is always positive (never touch zero either)\n",
    "- The domain of $f(x)$ is $(-\\infty,\\infty)$ while the range of $f(x)$ is $(0,\\infty)$.\n",
    "- If $0<b<1$ then \n",
    "    - $f(x)$ goes to $0$ as $x$ goes to $\\infty$.\n",
    "    - $f(x)$ goes to $\\infty$ as $x$ goes to $-\\infty$.\n",
    "- If $b>1$ then \n",
    "    - $f(x)$ goes to $\\infty$ as $x$ goes to $\\infty$.\n",
    "    - $f(x)$ goes to $0$ as $x$ goes to $-\\infty$."
   ]
  },
  {
   "cell_type": "markdown",
   "id": "1dc7678f-0234-4291-bdc8-8e8728ce7c86",
   "metadata": {},
   "source": [
    "The **natural exponential function** is $f(x)=e^x$, where $e$ is the Euler's number $e=2.71828182845905\\ldots$"
   ]
  },
  {
   "cell_type": "markdown",
   "id": "4e732836-fb9f-4189-b6c3-e3af18f2d24f",
   "metadata": {},
   "source": [
    "<h4 style>Logarithm Functions </h4>"
   ]
  },
  {
   "cell_type": "markdown",
   "id": "8e8e6e04-6975-4794-b2e0-2b8311486228",
   "metadata": {},
   "source": [
    "A logarithm (log) function is a function in the form $f(x)=a+b\\ln(x)$, where $a$ and $b\\neq 0$ are constants for positive input $x$."
   ]
  },
  {
   "cell_type": "markdown",
   "id": "82b44eea-c8da-4cf8-8a98-ead93594ba91",
   "metadata": {},
   "source": [
    "Below is the code to plot the graphs of $f(x)=1+2\\ln(x)$ and $f(x)=1-2\\ln(x)$:"
   ]
  },
  {
   "cell_type": "code",
   "execution_count": 51,
   "id": "d1ffa7fe-520f-4414-9b66-2a3a0d50ee7e",
   "metadata": {},
   "outputs": [
    {
     "data": {
      "image/png": "[encoded data removed]",
      "text/plain": [
       "<Figure size 640x480 with 1 Axes>"
      ]
     },
     "metadata": {},
     "output_type": "display_data"
    }
   ],
   "source": [
    "import numpy as np\n",
    "import matplotlib.pyplot as plt\n",
    "\n",
    "# Define the functions\n",
    "def f1(x):\n",
    "    return 1 + 2 * np.log(x)\n",
    "\n",
    "def f2(x):\n",
    "    return 1 - 2 * np.log(x)\n",
    "\n",
    "# Generate a range of x values for plotting\n",
    "x = np.linspace(0.1, 10, 100)\n",
    "\n",
    "# Compute the corresponding y values for each function\n",
    "y1 = f1(x)\n",
    "y2 = f2(x)\n",
    "\n",
    "# Plot the functions\n",
    "plt.plot(x, y1, label='f(x) = 1 + 2 * ln(x)')\n",
    "plt.plot(x, y2, label='f(x) = 1 - 2 * ln(x)')\n",
    "\n",
    "# Plot the x-axis and y-axis lines\n",
    "plt.axhline(0, color='black', linewidth=0.5)  # x-axis\n",
    "plt.axvline(0, color='black', linewidth=0.5)  # y-axis\n",
    "\n",
    "# Set plot labels and title\n",
    "plt.xlabel('x')\n",
    "plt.ylabel('f(x)')\n",
    "plt.title('Plot of f(x) = 1 + 2 * ln(x) and f(x) = 1 - 2 * ln(x)')\n",
    "\n",
    "# Add a legend\n",
    "plt.legend()\n",
    "\n",
    "# Display the plot\n",
    "plt.show()"
   ]
  },
  {
   "cell_type": "markdown",
   "id": "7bddda87-95b1-45ad-820f-7ca042f15dc0",
   "metadata": {},
   "source": [
    "Properties of $f(x)=a+b\\ln(x)$. <br>\n",
    "The input $x$ restricted to be positive since $\\ln(x)$ only defined for $x>0$. <br>\n",
    "The log function then can be either increasing or decreasing depending the value of $b$. <br>\n",
    "For increasing log functions:\n",
    "- concave down\n",
    "- $b>0$\n",
    "- vertical asymptote $x=0$, with $f(x)$ goes to $-\\infty$\n",
    "- $f(x)$ goes to $\\infty$ as $x$ goes to $\\infty$ <br>\n",
    "\n",
    "For decreasing log functions:\n",
    "- concave up\n",
    "- $b<0$\n",
    "- vertical asymptote $x=0$, with $f(x)$ goes to $\\infty$\n",
    "- $f(x)$ goes to $-\\infty$ as $x$ goes to $\\infty$"
   ]
  },
  {
   "cell_type": "markdown",
   "id": "a12ed583-b926-4e7e-b1e3-15d2e62bb1f4",
   "metadata": {},
   "source": [
    "<h4 style>Logistic Functions </h4>"
   ]
  },
  {
   "cell_type": "markdown",
   "id": "fc316c43-5a17-4ccd-8fca-6162079fc2b8",
   "metadata": {},
   "source": [
    "While exponential and log functions are commonly used in real life, it is unrealistic to believe that exponential growth can continue forever. In many situations, the growth ultimately restricted by the logistic availability. <br>"
   ]
  },
  {
   "cell_type": "markdown",
   "id": "ec893bfd-950e-4fad-b8f5-4c98fbc532ed",
   "metadata": {},
   "source": [
    "A logistic function is a function in the form $f(x)=\\dfrac{L}{1+ae^{-bx}}$, where $L,a$, and $b$ are nonzero constant. <br>"
   ]
  },
  {
   "cell_type": "markdown",
   "id": "b30169b8-9e38-4121-9cba-a522457da835",
   "metadata": {},
   "source": [
    "In this function, $y=0$ and $y=L$ are the horizontal asymptotes of the graph of $f(x)$, corresponds to the fact that the amount of resources is always positive but the growth is limited at a certain point."
   ]
  },
  {
   "cell_type": "markdown",
   "id": "5a71dfa5-db5d-4c8e-9cc3-9115e1cd4bea",
   "metadata": {},
   "source": [
    "Depending on the positive or negative growth of the logistics, the logistic function can either increasing or decreasing. <br>\n",
    "Below is an example of the graph of an increasing logistic function $f(x)=\\dfrac{400}{1+2.5e^{-0.5x}}$:"
   ]
  },
  {
   "cell_type": "code",
   "execution_count": 46,
   "id": "2cfb3463-4e42-4f5a-8244-8c4488e56ff4",
   "metadata": {},
   "outputs": [
    {
     "data": {
      "image/png": "[encoded data removed]",
      "text/plain": [
       "<Figure size 640x480 with 1 Axes>"
      ]
     },
     "metadata": {},
     "output_type": "display_data"
    }
   ],
   "source": [
    "import numpy as np\n",
    "import matplotlib.pyplot as plt\n",
    "\n",
    "# Define the x range\n",
    "x = np.linspace(-10, 10, 100)\n",
    "\n",
    "# Define the logistic function\n",
    "f = 400 / (1 + 2.5 * np.exp(-0.5 * x))\n",
    "\n",
    "# Plot the logistic function\n",
    "plt.plot(x, f, label='f(x) = 400 / (1 + 2.5 * e^(-0.5x))')\n",
    "\n",
    "# Plot the x-axis and y-axis lines\n",
    "plt.axhline(0, color='black', linewidth=0.5)  # x-axis\n",
    "plt.axvline(0, color='black', linewidth=0.5)  # y-axis\n",
    "\n",
    "# Set plot labels and title\n",
    "plt.xlabel('x')\n",
    "plt.ylabel('f(x)')\n",
    "plt.title('Plot of the Logistic Function')\n",
    "\n",
    "# Add a legend\n",
    "plt.legend()\n",
    "\n",
    "# Display the plot\n",
    "plt.show()"
   ]
  },
  {
   "cell_type": "markdown",
   "id": "e9e80962-2e4f-4493-a3a1-66ce1a96ec76",
   "metadata": {},
   "source": [
    "Below is the code prompting user to input the constants $L, a$, and $b$."
   ]
  },
  {
   "cell_type": "code",
   "execution_count": 50,
   "id": "4460d0d3-0d79-4a45-92cf-d72ebaff277e",
   "metadata": {},
   "outputs": [
    {
     "name": "stdin",
     "output_type": "stream",
     "text": [
      "Enter the value for L:  400\n",
      "Enter the value for a:  2.5\n",
      "Enter the value for b:  -0.5\n"
     ]
    },
    {
     "data": {
      "image/png": "[encoded data removed]",
      "text/plain": [
       "<Figure size 640x480 with 1 Axes>"
      ]
     },
     "metadata": {},
     "output_type": "display_data"
    }
   ],
   "source": [
    "import numpy as np\n",
    "import matplotlib.pyplot as plt\n",
    "\n",
    "# Prompt the user to input the parameters\n",
    "L = float(input(\"Enter the value for L: \"))\n",
    "a = float(input(\"Enter the value for a: \"))\n",
    "b = float(input(\"Enter the value for b: \"))\n",
    "\n",
    "# Define the logistic function\n",
    "def logistic_function(x):\n",
    "    return L / (1 + a * np.exp(-b * x))\n",
    "\n",
    "# Generate a range of x values for plotting\n",
    "x = np.linspace(-10, 10, 100)\n",
    "\n",
    "# Compute the corresponding y values using the logistic function\n",
    "y = logistic_function(x)\n",
    "\n",
    "# Plot the logistic function\n",
    "plt.plot(x, y, label='f(x) = L / (1 + a * e^(-b * x))')\n",
    "\n",
    "# Plot the x-axis and y-axis lines\n",
    "plt.axhline(0, color='black', linewidth=0.5)  # x-axis\n",
    "plt.axvline(0, color='black', linewidth=0.5)  # y-axis\n",
    "\n",
    "# Set plot labels and title\n",
    "plt.xlabel('x')\n",
    "plt.ylabel('f(x)')\n",
    "plt.title('Logistic Function')\n",
    "\n",
    "# Add a legend\n",
    "plt.legend()\n",
    "\n",
    "# Display the plot\n",
    "plt.show()"
   ]
  },
  {
   "cell_type": "markdown",
   "id": "517070ad-ce6d-44df-b5d4-841e9956306e",
   "metadata": {},
   "source": [
    "Properties of  $f(x)=\\dfrac{L}{1+ae^{-bx}}$. <br>\n",
    "For increasing logistic function:\n",
    "- The function begins concave up then changes to concave down\n",
    "- $b>0$\n",
    "- Horizontal asymptotes $y=0$ to the left and $y=L$ to the right<br>\n",
    "\n",
    "For decreasing logistic function:\n",
    "- The function begins concave down then changes to concave up\n",
    "- $b<0$\n",
    "- Horizontal asymptotes $y=L$ to the left and $y=0$ to the right<br>\n",
    "\n",
    "Both increasing and decreasing logistic function have exactly one inflection point.<br>\n",
    "Without further contextual restriction on the domain, the domain of a logistic function is $(-\\infty,\\infty)$ and the range is $(0,L)$."
   ]
  },
  {
   "cell_type": "markdown",
   "id": "e91e5ff3-7f1e-4b3b-9c0c-bdef705b228a",
   "metadata": {},
   "source": [
    "<br>"
   ]
  },
  {
   "cell_type": "markdown",
   "id": "4861b657-03b0-4b19-bd42-4d2f2f725a5d",
   "metadata": {},
   "source": [
    "<h2 style>2.4 Function Operations, Compositions, and Inverse</h2>"
   ]
  },
  {
   "cell_type": "markdown",
   "id": "f688a466-1a7b-49cb-865a-52b48188740d",
   "metadata": {},
   "source": [
    "<h4 style>Function Operations</h4>"
   ]
  },
  {
   "cell_type": "markdown",
   "id": "b3000987-6780-41cb-8f59-7f30987f83b9",
   "metadata": {},
   "source": [
    "Note that not everything can be mathematically operated. Simple example, adding apples and oranges can't be equal apples or oranges. If given contexts, it is important to pay attention on what you are trying to operate. As mentioned in the Introduction section, restricted to this Calculus module, we focus on the values rather than the contexts.<br>\n",
    "\n",
    "If the input $x$ of functions $f$ and $g$ are well defined for the functions to be operated, then the following new functions can be constructed:\n",
    "- **function addition:**\n",
    "    $[f+g](x)=f(x)+g(x)$\n",
    "- **function subtraction:**\n",
    "    $[f-g](x)=f(x)-g(x)$\n",
    "- **function mutiplication:**\n",
    "    $[f\\cdot g](x)=f(x) \\cdot g(x)$\n",
    "- **function division:**\n",
    "    $\\left[\\dfrac{f}{g}\\right](x)=\\dfrac{f(x)}{g(x)}$, where $g(x)\\neq 0$"
   ]
  },
  {
   "cell_type": "markdown",
   "id": "479adc4d-b5a4-48aa-b1ab-727713780b08",
   "metadata": {},
   "source": [
    "**Example** <br>\n",
    "Below is a code example that prompts the user to input a value of $x$, as well as two functions $f(x)$ and $g(x)$. <br>\n",
    "It then computes and returns the sum, difference, product, and quotient of the functions at the given value of $x$. <br>\n",
    "Note that $g(x)$ cannot be zero at the given input $x$."
   ]
  },
  {
   "cell_type": "code",
   "execution_count": 31,
   "id": "651c12ab-f4b6-4cad-8151-b62836dcd368",
   "metadata": {},
   "outputs": [
    {
     "name": "stdin",
     "output_type": "stream",
     "text": [
      "Enter the value of x:  5\n",
      "Enter the first function (f(x)):  3*x**2+10\n",
      "Enter the second function (g(x)):  1-2*x\n"
     ]
    },
    {
     "name": "stdout",
     "output_type": "stream",
     "text": [
      "Sum: 76.0\n",
      "Difference: 94.0\n",
      "Product: -765.0\n",
      "Quotient: -9.444444444444445\n"
     ]
    }
   ],
   "source": [
    "def calculate_operations(f, g, x):\n",
    "    # Evaluate f(x) and g(x)\n",
    "    f_value = f(x)\n",
    "    g_value = g(x)\n",
    "\n",
    "    # Compute sum, difference, product, and quotient\n",
    "    sum_result = f_value + g_value\n",
    "    difference_result = f_value - g_value\n",
    "    product_result = f_value * g_value\n",
    "    quotient_result = f_value / g_value\n",
    "\n",
    "    # Return the results\n",
    "    return sum_result, difference_result, product_result, quotient_result\n",
    "\n",
    "# Prompt the user to enter the value of x\n",
    "x = float(input(\"Enter the value of x: \"))\n",
    "\n",
    "# Prompt the user to enter the functions as strings\n",
    "f_input = input(\"Enter the first function (f(x)): \")\n",
    "g_input = input(\"Enter the second function (g(x)): \")\n",
    "\n",
    "# Create the functions from the user input\n",
    "f = eval(\"lambda x: \" + f_input)\n",
    "g = eval(\"lambda x: \" + g_input)\n",
    "\n",
    "# Calculate the operations at the given value of x\n",
    "sum_result, difference_result, product_result, quotient_result = calculate_operations(f, g, x)\n",
    "\n",
    "# Print the results\n",
    "print(\"Sum:\", sum_result)\n",
    "print(\"Difference:\", difference_result)\n",
    "print(\"Product:\", product_result)\n",
    "print(\"Quotient:\", quotient_result)"
   ]
  },
  {
   "cell_type": "markdown",
   "id": "e28c682e-bdc2-456e-aff2-331ad9f7e49c",
   "metadata": {},
   "source": [
    "<h4 style>Function Compositions</h4>"
   ]
  },
  {
   "cell_type": "markdown",
   "id": "4b87be53-7216-4e83-aaae-3891f6025ce6",
   "metadata": {},
   "source": [
    "The **function composition** of two functions evaluated by plugging one function into the other function. <br>\n",
    "The composition operator is $\\circ$. \n",
    "- $(f\\circ g)(x)=f(g(x))$\n",
    "- $(g\\circ f)(x)=g(f(x))$"
   ]
  },
  {
   "cell_type": "markdown",
   "id": "10eaab98-413a-484d-8c31-3b1ad0dfccb7",
   "metadata": {},
   "source": [
    "**Example**\n",
    "Given $f(x)=3x^2+10$ and $g(x)=1-2x$. \n",
    "- $(f\\circ g)(x)=f(g(x))=f(1-2x)=3(1-2x)^2+10$\n",
    "- $(g\\circ f)(x)=g(f(x))=g\\left(3x^2+10\\right)=1-2\\left(3x^2+10\\right)$\n",
    "- $(g\\circ g)(x)=g(g(x))=g(1-2x)=1-2\\left(1-2x\\right)$"
   ]
  },
  {
   "cell_type": "markdown",
   "id": "96d7a1b1-8aed-450f-b6b1-74d16f9f6af6",
   "metadata": {},
   "source": [
    "To create a composition function of two user functions at a certain input value, you can prompt the user to enter the functions as strings and dynamically evaluate and compose them.<br>\n",
    "For $(f\\circ g)(x)$ from above example:"
   ]
  },
  {
   "cell_type": "code",
   "execution_count": 37,
   "id": "a79d701a-fbfc-4b6a-a5b6-5ea1009a45ad",
   "metadata": {},
   "outputs": [
    {
     "name": "stdin",
     "output_type": "stream",
     "text": [
      "Enter the first function:  3*x**2+10\n",
      "Enter the second function:  1-2*x\n",
      "Enter the input value:  4.5\n"
     ]
    },
    {
     "name": "stdout",
     "output_type": "stream",
     "text": [
      "Result: 202.0\n"
     ]
    }
   ],
   "source": [
    "def compose_functions(f, g):\n",
    "    def composed_function(x):\n",
    "        return f(g(x))\n",
    "    return composed_function\n",
    "\n",
    "# Prompt the user to enter the functions as strings\n",
    "f_input = input(\"Enter the first function: \")\n",
    "g_input = input(\"Enter the second function: \")\n",
    "\n",
    "# Create the functions from the user input\n",
    "f = eval(\"lambda x: \" + f_input)\n",
    "g = eval(\"lambda x: \" + g_input)\n",
    "\n",
    "# Create the composition function\n",
    "composed = compose_functions(f, g)\n",
    "\n",
    "# Prompt the user to enter an input value\n",
    "x = float(input(\"Enter the input value: \"))\n",
    "\n",
    "# Compute the composition of the user input functions\n",
    "result = composed(x)\n",
    "print(\"Result:\", result)"
   ]
  },
  {
   "cell_type": "markdown",
   "id": "71a83f56-67d1-4788-ab53-151973a5ec71",
   "metadata": {},
   "source": [
    "<h4 style>Inverse Functions</h4>"
   ]
  },
  {
   "cell_type": "markdown",
   "id": "03dc3bbf-5dcb-47b1-b5d5-52a37d0c514e",
   "metadata": {},
   "source": [
    "Given a one-to-one function, a new function can sometimes be created by reversing the input and output of the original function. This reversed function is called an **inverse function**. <Br>\n",
    "The inverse function of a one-to-one function $f(x)$ is denoted $f^{-1}(x)$.<br>\n",
    "    Composing a function and its inverse will undo what each of the function done to the input $x$, hence $\\left(f\\circ f^{-1}\\right)(x)=x$ and $\\left(f^{-1}\\circ f\\right)(x)=x$"
   ]
  },
  {
   "cell_type": "markdown",
   "id": "edea1453-c80c-475e-b393-85992d19587d",
   "metadata": {},
   "source": [
    "**Example** <br>\n",
    "Given $f(x)=2x+3$. What $f$ does here is first multiply $x$ by $2$, then adding the result by $3$.<br>\n",
    "To reverse what $f$ does, we took the reverse of the action backward. Reverse of \"add $3$\" is \"subtract $3$\". Reverse of \"multiply by $2$\" is \"divide by $2$\".<br>\n",
    "This mean the inverse function first subtract the input $x$ by $3$, then divide the result by $2$. Hence the inverse function is $f^{-1}(x)=\\frac{x-3}{2}$.<br>\n",
    "This can easily checked by confirming that $\\left(f\\circ f^{-1}\\right)(x)=x$ and $\\left(f^{-1}\\circ f\\right)(x)=x$."
   ]
  },
  {
   "cell_type": "markdown",
   "id": "14318c7c-80cd-4692-8cae-5881b563cd22",
   "metadata": {},
   "source": [
    "Below is a code example that prompts the user to input a function $f(x)$ and $x=a$, and then calculates and returns $f^{-1}(a)$.<br>\n",
    "Note that user must input a one-to-one function. "
   ]
  },
  {
   "cell_type": "code",
   "execution_count": 32,
   "id": "bcf811e7-8d3d-4c8d-8550-a14cf53ab5b8",
   "metadata": {},
   "outputs": [
    {
     "name": "stdin",
     "output_type": "stream",
     "text": [
      "Enter the function f(x):  2*x+3\n",
      "Enter a value for x:  5\n"
     ]
    },
    {
     "name": "stdout",
     "output_type": "stream",
     "text": [
      "Inverse of f(x) at x = 5.0 is approximately: 1.0\n"
     ]
    }
   ],
   "source": [
    "def find_inverse(f):\n",
    "    def inverse(x):\n",
    "        # Use a binary search algorithm to find the inverse\n",
    "        left = -1000  # Starting point for search\n",
    "        right = 1000  # Ending point for search\n",
    "        precision = 0.0001  # Precision of the inverse calculation\n",
    "\n",
    "        while right - left > precision:\n",
    "            mid = (left + right) / 2\n",
    "            if f(mid) < x:\n",
    "                left = mid\n",
    "            else:\n",
    "                right = mid\n",
    "\n",
    "        return round((left + right) / 2, 4)  # Return the approximate inverse with 4 decimal places\n",
    "\n",
    "    return inverse\n",
    "\n",
    "# Prompt the user to enter the function f(x) as a string\n",
    "f_input = input(\"Enter the function f(x): \")\n",
    "\n",
    "# Create the function from the user input\n",
    "f = eval(\"lambda x: \" + f_input)\n",
    "\n",
    "# Calculate the inverse function\n",
    "inverse_f = find_inverse(f)\n",
    "\n",
    "# Prompt the user to enter a value for x\n",
    "x = float(input(\"Enter a value for x: \"))\n",
    "\n",
    "# Calculate the inverse of f(x) at the given x value\n",
    "inverse_result = inverse_f(x)\n",
    "\n",
    "# Print the result\n",
    "print(\"Inverse of f(x) at x =\", x, \"is approximately:\", inverse_result)"
   ]
  },
  {
   "cell_type": "markdown",
   "id": "0ccf02c8-6ae4-4191-ae90-edd796767a2e",
   "metadata": {},
   "source": [
    "<br>"
   ]
  },
  {
   "cell_type": "markdown",
   "id": "8654fdf6-677b-4214-a5de-0d0529077831",
   "metadata": {},
   "source": [
    "<h2 style>Exercises </h2>"
   ]
  },
  {
   "cell_type": "markdown",
   "id": "f0a0edb1-a18e-46db-a4c5-7224a17a56fa",
   "metadata": {},
   "source": [
    "1. Find the domain of the following, both manually and using the code.\n",
    "    - $f(x)=\\sqrt{x-9}$\n",
    "    - $f(x)=\\dfrac{1}{\\sqrt{x}-9}$\n",
    "    - $f(x)=\\ln(x-9)$    "
   ]
  },
  {
   "cell_type": "markdown",
   "id": "0bcf387b-ff95-408d-8ac4-d0522cd4b6dc",
   "metadata": {},
   "source": [
    "2. Given the graph of the function $f$ below.<br>\n",
    "    <img src=\"2Function2.png\" style=\"width:250px; height:auto;\"> <br>\n",
    "    - Find the intervals on which the graph of $f$ is increasing or decreasing\n",
    "    - Find the intervals on which the graph of $f$ is concave up or concave down\n",
    "    - Find the inflection points (if any)"
   ]
  },
  {
   "cell_type": "markdown",
   "id": "94882706-0b91-446e-b43f-f85240044619",
   "metadata": {},
   "source": [
    "3. Plot the following functions on the interval $[-5,5]$:\n",
    "     - $f(x)=4+3x$\n",
    "     - $f(x)=4\\cdot 3^x$\n",
    "     - $f(x)=4+3\\log(x)$\n",
    "     - $f(x)=4\\cos(3x)$\n",
    "     - $f(x)=\\dfrac{1.5}{1+4e^{-2.45x}}$"
   ]
  },
  {
   "cell_type": "markdown",
   "id": "d1b84141-cf86-43b4-8793-547e2a6fd6b1",
   "metadata": {},
   "source": [
    "4. Given $f(x)=1+6x^2$ and $g(x)=6-\\sqrt{x}$. Find each of the following:\n",
    "    - $[f+g](1234)$\n",
    "    - $(g\\circ f)(2345)$\n",
    "    - $[f\\cdot g](0.3456)$\n",
    "    - $(f\\circ f)(4567)$\n",
    "    - $g^{-1}(0.2345)$"
   ]
  }
 ],
 "metadata": {
  "kernelspec": {
   "display_name": "Python 3 (ipykernel)",
   "language": "python",
   "name": "python3"
  },
  "language_info": {
   "codemirror_mode": {
    "name": "ipython",
    "version": 3
   },
   "file_extension": ".py",
   "mimetype": "text/x-python",
   "name": "python",
   "nbconvert_exporter": "python",
   "pygments_lexer": "ipython3",
   "version": "3.10.9"
  }
 },
 "nbformat": 4,
 "nbformat_minor": 5
}
