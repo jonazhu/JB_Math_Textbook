{
 "cells": [
  {
   "cell_type": "markdown",
   "id": "f7471bc4",
   "metadata": {},
   "source": [
    "# Intro"
   ]
  },
  {
   "cell_type": "markdown",
   "id": "26f69257-aba6-4e33-a4ea-0d11202a6738",
   "metadata": {
    "tags": []
   },
   "source": [
    "<h1 style=\"font-size:3rem;color:black;\">1. Introduction</h1>"
   ]
  },
  {
   "cell_type": "markdown",
   "id": "e8a56b1c-bd70-44f5-a24a-703e753693b8",
   "metadata": {},
   "source": [
    "This Calculus Module offers a brief introduction to several important topics in undergraduate Calculus:\n",
    "- Functions (Section 2)\n",
    "- Rates, Limits, and Continuity (Section 3)\n",
    "- Derivatives (Section 4)\n",
    "- Integrals (Section 5)\n",
    "- Parametric Equations (Section 6)\n",
    "- Sequences and Series (Section 7)"
   ]
  },
  {
   "cell_type": "markdown",
   "id": "3db2b811-1c2d-415e-b56a-aac70696b8e9",
   "metadata": {},
   "source": [
    "For each topic, we provide basic definitions, examples, and exercises that are designed to be easily understood by entry level undergraduate students. \n",
    "The exercises include problems solvable manually to check students' understanding of the concepts, and also solvable using Python Jupyter Notebooks."
   ]
  },
  {
   "cell_type": "markdown",
   "id": "28c82c64-29a1-4030-8739-ef0c54b44e15",
   "metadata": {},
   "source": [
    "This module focus on the more pure mathematical sides of Calculus, while the application can be found under the **Calculus for Daily Life** Module on the **APPLICATIONS** chapter of this book.\n",
    "In many cases, what preventing students to be successful in Calculus course is that they are not yet proficient with the underlying algebra skills, which are not inculed in this Calculus Module. \n",
    "Students who are struggling in those area can visit the **PRE-COLLEGE OUTREACH** chapter of this book. "
   ]
  }
 ],
 "metadata": {
  "kernelspec": {
   "display_name": "Python 3 (ipykernel)",
   "language": "python",
   "name": "python3"
  },
  "language_info": {
   "codemirror_mode": {
    "name": "ipython",
    "version": 3
   },
   "file_extension": ".py",
   "mimetype": "text/x-python",
   "name": "python",
   "nbconvert_exporter": "python",
   "pygments_lexer": "ipython3",
   "version": "3.10.9"
  }
 },
 "nbformat": 4,
 "nbformat_minor": 5
}