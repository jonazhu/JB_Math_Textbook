{
 "cells": [
  {
   "cell_type": "markdown",
   "metadata": {},
   "source": [
    "# Random Number Approximation of Pi"
   ]
  },
  {
   "cell_type": "markdown",
   "metadata": {
    "id": "kMBxly4ck7-D"
   },
   "source": [
    "<h3> In this lab we will use random numbers to estimate $\\pi\\approx 3.14$.</h3>"
   ]
  },
  {
   "cell_type": "markdown",
   "metadata": {
    "id": "UYaUQD4Ek7-G"
   },
   "source": [
    "1) Let's look at the library matplotlib! The matplotlib (mpl) library has a sub-library called pyplot (plt).  We can access the functions in pyplot by executing the next cell."
   ]
  },
  {
   "cell_type": "code",
   "execution_count": 1,
   "metadata": {
    "executionInfo": {
     "elapsed": 632,
     "status": "ok",
     "timestamp": 1670351904314,
     "user": {
      "displayName": "Jonathan Connors",
      "userId": "02339329203151858064"
     },
     "user_tz": 360
    },
    "id": "VWgae9QNk7-H"
   },
   "outputs": [],
   "source": [
    "import matplotlib.pyplot as plt\n",
    "import numpy as np\n",
    "np.random.seed(1232023)"
   ]
  },
  {
   "cell_type": "markdown",
   "metadata": {},
   "source": [
    "STEP ONE A random number is any number whose decimal is between 0 and 1.  Let's use a random number generator to generate 100 random numbers and then plot them."
   ]
  },
  {
   "cell_type": "code",
   "execution_count": 2,
   "metadata": {
    "id": "kjK6bPB2uz0V"
   },
   "outputs": [
    {
     "data": {
      "text/plain": [
       "<matplotlib.collections.PathCollection at 0x11c26c250>"
      ]
     },
     "execution_count": 2,
     "metadata": {},
     "output_type": "execute_result"
    },
    {
     "data": {
      "image/png": "[encoded data removed]",
      "text/plain": [
       "<Figure size 640x480 with 1 Axes>"
      ]
     },
     "metadata": {},
     "output_type": "display_data"
    }
   ],
   "source": [
    "N=100\n",
    "x=np.arange(0,N,1) \n",
    "y=np.random.rand(N)\n",
    "plt.scatter(x, y, s=y, marker='o')"
   ]
  },
  {
   "cell_type": "markdown",
   "metadata": {},
   "source": [
    "Question 1:  How are the 100 random numbers represented in this graph?"
   ]
  },
  {
   "cell_type": "markdown",
   "metadata": {},
   "source": [
    "STEP TWO: Here is a different plot of random numbers. "
   ]
  },
  {
   "cell_type": "code",
   "execution_count": 3,
   "metadata": {},
   "outputs": [
    {
     "data": {
      "text/plain": [
       "<matplotlib.collections.PathCollection at 0x11c4e4a30>"
      ]
     },
     "execution_count": 3,
     "metadata": {},
     "output_type": "execute_result"
    },
    {
     "data": {
      "image/png": "[encoded data removed]",
      "text/plain": [
       "<Figure size 100x100 with 1 Axes>"
      ]
     },
     "metadata": {},
     "output_type": "display_data"
    }
   ],
   "source": [
    "fig=plt.figure(figsize=(1,1))\n",
    "N=100\n",
    "x=np.random.rand(N)\n",
    "y=np.random.rand(N)\n",
    "plt.scatter(x, y,s=.1,  marker='o')"
   ]
  },
  {
   "cell_type": "markdown",
   "metadata": {},
   "source": [
    "Q2. How were random numbers used to generate the plot above?"
   ]
  },
  {
   "cell_type": "markdown",
   "metadata": {},
   "source": [
    "STEP THREE: The distance d from a point (x,y) to the origin (0,0) is given by the formula\n",
    "\n",
    "$$d=\\sqrt{x^2+y^2}$$\n",
    "\n",
    "Let's define a function dist(x,y) to compute this distance."
   ]
  },
  {
   "cell_type": "code",
   "execution_count": 4,
   "metadata": {},
   "outputs": [],
   "source": [
    "def dist(x,y):\n",
    "    d=np.sqrt(x**2+y**2)\n",
    "    return d"
   ]
  },
  {
   "cell_type": "markdown",
   "metadata": {},
   "source": [
    "Let's use our function to check the distance from (3,4) to the origin."
   ]
  },
  {
   "cell_type": "code",
   "execution_count": 5,
   "metadata": {},
   "outputs": [
    {
     "data": {
      "text/plain": [
       "5.0"
      ]
     },
     "execution_count": 5,
     "metadata": {},
     "output_type": "execute_result"
    }
   ],
   "source": [
    "dist(3,4)"
   ]
  },
  {
   "cell_type": "markdown",
   "metadata": {},
   "source": [
    "STEP FOUR: Let's use random numbers to create a plot of points in blue if the distance is less than or equal to 1 and in red if the distance is more than 1."
   ]
  },
  {
   "cell_type": "code",
   "execution_count": 6,
   "metadata": {},
   "outputs": [
    {
     "name": "stdout",
     "output_type": "stream",
     "text": [
      "Error in callback <function _draw_all_if_interactive at 0x11c1cce50> (for post_execute):"
     ]
    },
    {
     "name": "stdout",
     "output_type": "stream",
     "text": [
      "\n"
     ]
    }
   ],
   "source": [
    "fig=plt.figure(figsize=(1,1))\n",
    "for n in np.arange(0,1000,1):\n",
    "    x=np.random.rand(1)\n",
    "    y=np.random.rand(1)\n",
    "    if dist(x,y)<=1:\n",
    "        plt.scatter(x, y,s=.1,  marker='o', color='blue')\n",
    "    else:\n",
    "        plt.scatter(x, y,s=.1,  marker='o', color='red')"
   ]
  },
  {
   "cell_type": "markdown",
   "metadata": {},
   "source": [
    "Q4. What is the shape of the points in blue?"
   ]
  },
  {
   "cell_type": "markdown",
   "metadata": {},
   "source": [
    "STEP FIVE: The area $A$ of a circle with radius $r$ is $A=\\pi r^2$.\n",
    "\n",
    "Q5. What is the area of a quarter circle of radius $r=1$?"
   ]
  },
  {
   "cell_type": "markdown",
   "metadata": {},
   "source": [
    "STEP SIX: Note that $\\pi/4\\approx .785$. Thus, we would expect about 78.5% of the points in the plot in Step 4 to be in blue. Let's check this by counting the number of points of each color plotting a total of $N=100$ points."
   ]
  },
  {
   "cell_type": "code",
   "execution_count": 7,
   "metadata": {},
   "outputs": [
    {
     "name": "stdout",
     "output_type": "stream",
     "text": [
      "Percentage of Blue Points= 80.0\n",
      "Estimate of Pi= 3.2\n"
     ]
    },
    {
     "data": {
      "image/png": "[encoded data removed]",
      "text/plain": [
       "<matplotlib.figure.Figure at 0x21710495d30>"
      ]
     },
     "metadata": {
      "needs_background": "light"
     },
     "output_type": "display_data"
    }
   ],
   "source": [
    "fig=plt.figure(figsize=(1,1))\n",
    "N=100\n",
    "blue=0\n",
    "red=0\n",
    "for n in np.arange(0,N,1):\n",
    "    x=np.random.rand(1)\n",
    "    y=np.random.rand(1)\n",
    "    if dist(x,y)<=1:\n",
    "        plt.scatter(x, y,s=.1,  marker='o', color='blue')\n",
    "        blue=blue+1\n",
    "    else:\n",
    "        plt.scatter(x, y,s=.1,  marker='o', color='red')\n",
    "        red=red+1\n",
    "print(\"Percentage of Blue Points=\", (blue/N)*100)\n",
    "print(\"Estimate of Pi=\", 4* (blue/N))"
   ]
  },
  {
   "cell_type": "markdown",
   "metadata": {
    "id": "eChJo6eJiWYH"
   },
   "source": [
    "STEP SEVEN: Let's see what happens if we use $N=1000$ and $N=10,000$."
   ]
  },
  {
   "cell_type": "code",
   "execution_count": 8,
   "metadata": {},
   "outputs": [
    {
     "name": "stdout",
     "output_type": "stream",
     "text": [
      "Percentage of Blue Points= 79.3\n",
      "Estimate of Pi= 3.172\n"
     ]
    },
    {
     "data": {
      "image/png": "[encoded data removed]",
      "text/plain": [
       "<matplotlib.figure.Figure at 0x21710591dd8>"
      ]
     },
     "metadata": {
      "needs_background": "light"
     },
     "output_type": "display_data"
    }
   ],
   "source": [
    "fig=plt.figure(figsize=(1,1))\n",
    "N=1000\n",
    "blue=0\n",
    "red=0\n",
    "for n in np.arange(0,N,1):\n",
    "    x=np.random.rand(1)\n",
    "    y=np.random.rand(1)\n",
    "    if dist(x,y)<=1:\n",
    "        plt.scatter(x, y,s=.1,  marker='o', color='blue')\n",
    "        blue=blue+1\n",
    "    else:\n",
    "        plt.scatter(x, y,s=.1,  marker='o', color='red')\n",
    "        red=red+1\n",
    "print(\"Percentage of Blue Points=\", (blue/N)*100)\n",
    "print(\"Estimate of Pi=\", 4* (blue/N))"
   ]
  },
  {
   "cell_type": "code",
   "execution_count": 9,
   "metadata": {},
   "outputs": [
    {
     "name": "stdout",
     "output_type": "stream",
     "text": [
      "Percentage of Blue Points= 78.66\n",
      "Estimate of Pi= 3.1464\n"
     ]
    },
    {
     "data": {
      "image/png": "[encoded data removed]",
      "text/plain": [
       "<matplotlib.figure.Figure at 0x21710e7db00>"
      ]
     },
     "metadata": {
      "needs_background": "light"
     },
     "output_type": "display_data"
    }
   ],
   "source": [
    "fig=plt.figure(figsize=(1,1))\n",
    "N=10000\n",
    "blue=0\n",
    "red=0\n",
    "for n in np.arange(0,N,1):\n",
    "    x=np.random.rand(1)\n",
    "    y=np.random.rand(1)\n",
    "    if dist(x,y)<=1:\n",
    "        plt.scatter(x, y,s=.1,  marker='o', color='blue')\n",
    "        blue=blue+1\n",
    "    else:\n",
    "        plt.scatter(x, y,s=.1,  marker='o', color='red')\n",
    "        red=red+1\n",
    "print(\"Percentage of Blue Points=\", (blue/N)*100)\n",
    "print(\"Estimate of Pi=\", 4* (blue/N))"
   ]
  },
  {
   "cell_type": "markdown",
   "metadata": {},
   "source": [
    "Q7) What is happening to the percentage of blue points as we increase $N$ from 100 to 1000 to 10,000? "
   ]
  },
  {
   "cell_type": "code",
   "execution_count": null,
   "metadata": {},
   "outputs": [],
   "source": []
  }
 ],
 "metadata": {
  "colab": {
   "provenance": []
  },
  "kernelspec": {
   "display_name": "Python 3 (ipykernel)",
   "language": "python",
   "name": "python3"
  },
  "language_info": {
   "codemirror_mode": {
    "name": "ipython",
    "version": 3
   },
   "file_extension": ".py",
   "mimetype": "text/x-python",
   "name": "python",
   "nbconvert_exporter": "python",
   "pygments_lexer": "ipython3",
   "version": "3.10.9"
  }
 },
 "nbformat": 4,
 "nbformat_minor": 1
}