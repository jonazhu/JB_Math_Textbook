{
 "cells": [
  {
   "cell_type": "markdown",
   "id": "bf3d0664",
   "metadata": {},
   "source": [
    "# Introduction"
   ]
  },
  {
   "cell_type": "markdown",
   "id": "048e99fd",
   "metadata": {},
   "source": [
    "\n",
    "\n",
    "This chapter offers a brief introduction to several important topics in data analysis:\n",
    "<ul>\n",
    "    <li> Linear approximation of data by OLS regression (Section 2);</li>\n",
    "    <li>Clustering of unlabelled data using $k$-means (Section 3);</li>\n",
    "<li> Dimensionality reduction of data by principal component analysis (Section 4); and </li>\n",
    "    <li> Binary classification of labelled data using support vector machines (Section 5).</li>\n",
    "</ul>\n",
    "\n",
    "\n",
    "For each topic, we illustrate first the goal or a key idea(s) underlying the data analysis, using a real data set that is easily understood (e.g., covid test rates and death rates by zipcode). We then explain how linear algebra and solution to an optimization problem yield the desired goal.  For simplicity, we explain concepts and/or give examples in  two-dimensional settings that are easy to visualize.  Aggarwal [2020] gives an in-depth treatment of how the basic theory covered in this Module can be extended to more advanced settings. \n",
    " \n",
    "   The exercises include problems solvable by hand or to check  understanding of the theory, as well as problems that utilize Python Jupyter Notebooks (JNBs). Instructors can tailor these JNBs for use as computer labs depending on the level of students' familiarity with Python programming.  The JNB exercises should at least be read, if not tackled until completion, since they suggest how the basic examples and concepts introduced using small datasets in two dimensions can be applied to real data. The table below indicates the Python Jupyter Notebooks (JNBs) utilized in this chapter. \n",
    "   \n",
    "\n",
    "<table style=\"width:100%\">\n",
    "  <tr>\n",
    "    <th>Name of JNB</th>\n",
    "    <th>Exercise</th>\n",
    "    <th>Data File</th>\n",
    "  </tr>\n",
    "  <tr>\n",
    "    <td>OLS LINEAR REGRESSION</td>\n",
    "    <td>Exercise 2.3</td>\n",
    "    <td>ACTCollegeEligible.csv</td>\n",
    "  </tr>\n",
    "  <tr>\n",
    "    <td>K-MEANS CLUSTERING</td>\n",
    "    <td>Exercise 3.3</td>\n",
    "    <td>CPDdistricts.geojson</td>\n",
    "  </tr>\n",
    "     <tr>\n",
    "    <td>RINCIPAL COMPONENT ANALYSIS</td>\n",
    "    <td>Exercises 4.5, 4.6</td>\n",
    "    <td>standardizedindicators.xlsx</td>\n",
    "  </tr>\n",
    "     <tr>\n",
    "    <td>SUPPORT VECTOR MACHINES</td>\n",
    "    <td>Exercise 5.3</td>\n",
    "    <td>Housing.xlsx</td>\n",
    "  </tr>\n",
    "</table>\n",
    "\n",
    "\n"
   ]
  }
 ],
 "metadata": {
  "kernelspec": {
   "display_name": "Python 3 (ipykernel)",
   "language": "python",
   "name": "python3"
  },
  "language_info": {
   "codemirror_mode": {
    "name": "ipython",
    "version": 3
   },
   "file_extension": ".py",
   "mimetype": "text/x-python",
   "name": "python",
   "nbconvert_exporter": "python",
   "pygments_lexer": "ipython3",
   "version": "3.10.9"
  }
 },
 "nbformat": 4,
 "nbformat_minor": 5
}