{
 "cells": [
  {
   "cell_type": "markdown",
   "metadata": {},
   "source": [
    "# 1. Functions"
   ]
  },
  {
   "cell_type": "markdown",
   "metadata": {},
   "source": [
    "The Python program language is one of the most popular worldwide.  It is used widely by data scientists, a profession that is in high demand and well paid if you are good at it. \n",
    "\n",
    "In this lab, we introduce an extremely useful programming tool called a <b>function</b>. A function \n",
    "\n",
    "<ul>\n",
    "    <li>is given a name (of our choice unless the name has been reserved); </li>\n",
    "\n",
    "<li> has one or more inputs called <b>variables</b> that store information; </li>\n",
    "\n",
    "<li> executes some commands using the input variables; and</li>\n",
    "\n",
    "<li> returns a result.</li>"
   ]
  },
  {
   "cell_type": "markdown",
   "metadata": {},
   "source": [
    "<h3>Example</h3>"
   ]
  },
  {
   "cell_type": "markdown",
   "metadata": {},
   "source": [
    "In the next cell we define a function named \"add\" that takes two input variables a and b, and then computes and returns the value of the sum a+b. \n",
    "\n",
    "<b>To execute a block of code (script) such as shown in the next cell, hit simultaneously shift+enter or click on the Run button on the menu bar. </b>\n",
    "\n",
    "This will create our function and is a necessary step each time we close and re-open our JNB. If the script defining a function executes properly, a new number appears to the left of the cell and no error message appears below the cell.  If the script contains any errors, we will see a message describing the error.  \n",
    "\n",
    "<b> Note: The # symbol is followed by a comment about the code. This is used as a note to ourselves, or to help others understand the code. The comment is not executable as a Python command</b>"
   ]
  },
  {
   "cell_type": "code",
   "execution_count": 1,
   "metadata": {},
   "outputs": [],
   "source": [
    "def add(a,b): #make sure you include the keyword def, and end with a colon :\n",
    "    s = a+b   #make sure you indent all lines that are part of the function\n",
    "    return s  #return is a key word found at the last line of the code defining the function"
   ]
  },
  {
   "cell_type": "markdown",
   "metadata": {},
   "source": [
    "Having defined our function, we can now use it for various choices of the input variables.\n",
    "\n",
    "For example, the script below shows how to use our function <b>add(a,b)</b> to compute 5+3.  (Always hit shift+enter to execute a cell)."
   ]
  },
  {
   "cell_type": "code",
   "execution_count": 2,
   "metadata": {},
   "outputs": [
    {
     "data": {
      "text/plain": [
       "8"
      ]
     },
     "execution_count": 2,
     "metadata": {},
     "output_type": "execute_result"
    }
   ],
   "source": [
    "add(5,3)"
   ]
  },
  {
   "cell_type": "markdown",
   "metadata": {},
   "source": [
    "<h3>Lab</h3>"
   ]
  },
  {
   "cell_type": "markdown",
   "metadata": {},
   "source": [
    "1) Now it's your turn to define a function and use it to obtain an answer.  \n",
    "Define a function called subtract(a,b) which computes a-b.  Then test that your function is working by showing subtract(5,3) is equal to 5-3=2."
   ]
  },
  {
   "cell_type": "code",
   "execution_count": 3,
   "metadata": {},
   "outputs": [],
   "source": [
    "#Your Solution to Problem 1)\n",
    "\n"
   ]
  },
  {
   "cell_type": "code",
   "execution_count": 4,
   "metadata": {},
   "outputs": [],
   "source": [
    "#Test your function by computing subtract(5,3) in this cell. (Make sure you pressed shift+enter in the previous cell.)\n",
    "\n"
   ]
  },
  {
   "cell_type": "markdown",
   "metadata": {},
   "source": [
    "2) Now read and execute the next cell.  Remember  # is the start of a comment."
   ]
  },
  {
   "cell_type": "code",
   "execution_count": 5,
   "metadata": {},
   "outputs": [
    {
     "data": {
      "text/plain": [
       "15"
      ]
     },
     "execution_count": 5,
     "metadata": {},
     "output_type": "execute_result"
    }
   ],
   "source": [
    "# Let's define a function multiply(a,b) and then test it on multiply(5,3)\n",
    "def multiply(a,b):\n",
    "    x=a*b\n",
    "    return x\n",
    "multiply(5,3)"
   ]
  },
  {
   "cell_type": "markdown",
   "metadata": {},
   "source": [
    "It's your turn.  Define a function divide(a,b) and test it on divide(57,19).  Note that the symbol for divide is /"
   ]
  },
  {
   "cell_type": "code",
   "execution_count": 6,
   "metadata": {},
   "outputs": [],
   "source": [
    "# Define your function divide(a,b) in this cell\n",
    "\n"
   ]
  },
  {
   "cell_type": "code",
   "execution_count": 7,
   "metadata": {},
   "outputs": [],
   "source": [
    "# Test your function by computing divide(57,19) in this cell\n",
    "\n"
   ]
  },
  {
   "cell_type": "markdown",
   "metadata": {},
   "source": [
    "3) Can you solve the following math problem by providing the correct input to the Python function?"
   ]
  },
  {
   "cell_type": "markdown",
   "metadata": {},
   "source": [
    "Study the code below average(a,b,c).  Then given that a=2, b=5, figure out the correct value of c so that average(a,b,c)=10."
   ]
  },
  {
   "cell_type": "code",
   "execution_count": 8,
   "metadata": {},
   "outputs": [],
   "source": [
    "def average(a,b,c):\n",
    "    ave = (a+b+c)/3\n",
    "    return ave"
   ]
  },
  {
   "cell_type": "code",
   "execution_count": 9,
   "metadata": {},
   "outputs": [
    {
     "data": {
      "text/plain": [
       "9.0"
      ]
     },
     "execution_count": 9,
     "metadata": {},
     "output_type": "execute_result"
    }
   ],
   "source": [
    "a=2\n",
    "b=5\n",
    "c=20 #Here's a guess for c.  Edit it so you get the right answer.\n",
    "average(a,b,c)"
   ]
  },
  {
   "cell_type": "markdown",
   "metadata": {},
   "source": [
    "4) a) Define a function \"coins()\" that can be used to compute the total value of the coins as shown below (the currency unit is Japanese yen).\n",
    "\n",
    "Use the following input variables:\n",
    "\n",
    "n1\n",
    "\n",
    "n10\n",
    "\n",
    "n100\n",
    "\n",
    "n500"
   ]
  },
  {
   "cell_type": "markdown",
   "metadata": {},
   "source": [
    "\n",
    "<img src=\"coins.png\" width=\"300px\"> "
   ]
  },
  {
   "cell_type": "code",
   "execution_count": 10,
   "metadata": {},
   "outputs": [],
   "source": [
    "#your answer to 4a)"
   ]
  },
  {
   "cell_type": "markdown",
   "metadata": {},
   "source": [
    "b) Suppose there are 120 yen per dollar.  Modify the function to get a new function \"coins2()\" that give the total amount in dollars."
   ]
  },
  {
   "cell_type": "code",
   "execution_count": 11,
   "metadata": {},
   "outputs": [],
   "source": [
    "#Your answer to 4b"
   ]
  },
  {
   "cell_type": "markdown",
   "metadata": {},
   "source": [
    "This completes the lab!\n",
    "\n",
    "Note: You can create a PDF of your JNB by selecting File on the top menu bar, and then Print Preview. Save the preview as a PDF (for example by right-clicking).\n",
    "\n",
    "You can also download the JNB itself by selecting File, Download as, Notebook(.ipynb).\n",
    "\n",
    "Try creating both a .pdf and a .ipynb file formats."
   ]
  },
  {
   "cell_type": "markdown",
   "metadata": {},
   "source": [
    "<h4>Solutions</h4>"
   ]
  },
  {
   "cell_type": "markdown",
   "metadata": {},
   "source": [
    "Question 1)"
   ]
  },
  {
   "cell_type": "code",
   "execution_count": 12,
   "metadata": {},
   "outputs": [],
   "source": [
    "#Define your function subtract(a,b) in this cell\n",
    "def subtract(a,b):   #make sure you include the :\n",
    "    x = a-b   #make sure you indent\n",
    "    return x  #return is a key word found at the last line of the code defining the function"
   ]
  },
  {
   "cell_type": "code",
   "execution_count": 13,
   "metadata": {},
   "outputs": [
    {
     "data": {
      "text/plain": [
       "2"
      ]
     },
     "execution_count": 13,
     "metadata": {},
     "output_type": "execute_result"
    }
   ],
   "source": [
    "#Test your function by computing subtract(5,3) in this cell. (Make sure you pressed shift+enter in the previous cell.)\n",
    "subtract(5,3)"
   ]
  },
  {
   "cell_type": "markdown",
   "metadata": {},
   "source": [
    "Question 2)"
   ]
  },
  {
   "cell_type": "code",
   "execution_count": 14,
   "metadata": {},
   "outputs": [],
   "source": [
    "# Define your function divide(a,b) in this cell\n",
    "def divide(a,b):\n",
    "    d=a/b\n",
    "    return d"
   ]
  },
  {
   "cell_type": "code",
   "execution_count": 15,
   "metadata": {},
   "outputs": [
    {
     "data": {
      "text/plain": [
       "3.0"
      ]
     },
     "execution_count": 15,
     "metadata": {},
     "output_type": "execute_result"
    }
   ],
   "source": [
    "# Test your function by computing divide(57,19) in this cell\n",
    "divide(57,19)\n"
   ]
  },
  {
   "cell_type": "markdown",
   "metadata": {},
   "source": [
    "Question 3)\n"
   ]
  },
  {
   "cell_type": "code",
   "execution_count": 16,
   "metadata": {},
   "outputs": [
    {
     "data": {
      "text/plain": [
       "10.0"
      ]
     },
     "execution_count": 16,
     "metadata": {},
     "output_type": "execute_result"
    }
   ],
   "source": [
    "a=2\n",
    "b=5\n",
    "c=23 #Here's a guess for c.  Edit it so you get the right answer.\n",
    "average(a,b,c)"
   ]
  },
  {
   "cell_type": "markdown",
   "metadata": {},
   "source": [
    "Question 4)"
   ]
  },
  {
   "cell_type": "code",
   "execution_count": 17,
   "metadata": {},
   "outputs": [],
   "source": [
    "# a)\n",
    "def coins(n1,n10,n100,n500):\n",
    "    total=n1+10*n10+100*n100+500*n500\n",
    "    return total"
   ]
  },
  {
   "cell_type": "code",
   "execution_count": 18,
   "metadata": {},
   "outputs": [
    {
     "data": {
      "text/plain": [
       "1134"
      ]
     },
     "execution_count": 18,
     "metadata": {},
     "output_type": "execute_result"
    }
   ],
   "source": [
    "coins(4,3,1,2)"
   ]
  },
  {
   "cell_type": "code",
   "execution_count": 19,
   "metadata": {},
   "outputs": [],
   "source": [
    "# b)\n",
    "def coins2(n1,n10,n100,n500):\n",
    "    total=(n1+10*n10+100*n100+500*n500)/120\n",
    "    return total"
   ]
  },
  {
   "cell_type": "code",
   "execution_count": 20,
   "metadata": {},
   "outputs": [
    {
     "data": {
      "text/plain": [
       "9.45"
      ]
     },
     "execution_count": 20,
     "metadata": {},
     "output_type": "execute_result"
    }
   ],
   "source": [
    "coins2(4,3,1,2)"
   ]
  }
 ],
 "metadata": {
  "kernelspec": {
   "display_name": "Python 3 (ipykernel)",
   "language": "python",
   "name": "python3"
  },
  "language_info": {
   "codemirror_mode": {
    "name": "ipython",
    "version": 3
   },
   "file_extension": ".py",
   "mimetype": "text/x-python",
   "name": "python",
   "nbconvert_exporter": "python",
   "pygments_lexer": "ipython3",
   "version": "3.10.9"
  }
 },
 "nbformat": 4,
 "nbformat_minor": 2
}